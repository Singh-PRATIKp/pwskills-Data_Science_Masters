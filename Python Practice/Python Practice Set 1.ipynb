{
 "cells": [
  {
   "cell_type": "markdown",
   "id": "cdda729b",
   "metadata": {},
   "source": [
    "`Q1. Write a Python program that defines a function called \"add_numbers\" that takes two arguments (i.e.,\n",
    "numbers) and returns their sum. Within the function, add the two numbers together and return the result\n",
    "using the return statement. Call the function with the values 5 and 6, and print out the returned result.\n",
    "This will result in the addition of 5 and 6, with the output of the program being the sum of these two\n",
    "numbers.`"
   ]
  },
  {
   "cell_type": "code",
   "execution_count": 4,
   "id": "036988d0",
   "metadata": {},
   "outputs": [
    {
     "data": {
      "text/plain": [
       "11"
      ]
     },
     "execution_count": 4,
     "metadata": {},
     "output_type": "execute_result"
    }
   ],
   "source": [
    "def add_numbers(x,y):\n",
    "    '''\n",
    "    takes two numbers x and y and returns their sum\n",
    "    '''\n",
    "    try:\n",
    "        if type(x) in [int,float,complex] and type(y) in [int,float,complex]:\n",
    "            sum = x + y\n",
    "            return sum\n",
    "    except Exception as e:\n",
    "        print(e)\n",
    "add_numbers(5,6)"
   ]
  },
  {
   "cell_type": "markdown",
   "id": "6f0792cc",
   "metadata": {},
   "source": [
    "`Q2. Write a Python program that calculates the square root of a given number using a built-in function.\n",
    "Specifically, the program should take an integer or float input from the user, calculate its square root\n",
    "using the 'sqrt()' function from the 'math' module, and print out the result to the user. As an example,\n",
    "calculate the square root of the number 625 using this program, which should output the value of 25.`"
   ]
  },
  {
   "cell_type": "code",
   "execution_count": 13,
   "id": "0cd4de81",
   "metadata": {},
   "outputs": [
    {
     "data": {
      "text/plain": [
       "25.0"
      ]
     },
     "execution_count": 13,
     "metadata": {},
     "output_type": "execute_result"
    }
   ],
   "source": [
    "def square_root(x):\n",
    "    '''\n",
    "    takes an integer or float number as argument and returns its square root\n",
    "    '''\n",
    "    import math\n",
    "    try:\n",
    "        if type(x) in [int,float]:\n",
    "            return math.sqrt(x)\n",
    "        else:\n",
    "            raise TypeError(\"Please enter a number which is int or float type\")\n",
    "    except TypeError as e:\n",
    "        print(e)\n",
    "square_root(625)"
   ]
  },
  {
   "cell_type": "markdown",
   "id": "89a1166b",
   "metadata": {},
   "source": [
    "`Q3.Write a program that prints all prime numbers between 0 to 50.`"
   ]
  },
  {
   "cell_type": "code",
   "execution_count": 63,
   "id": "6a71774a",
   "metadata": {},
   "outputs": [
    {
     "name": "stdout",
     "output_type": "stream",
     "text": [
      "2\n",
      "3\n",
      "5\n",
      "7\n"
     ]
    }
   ],
   "source": [
    "def prime(x):\n",
    "    \"\"\"takes a number x as input and returns all the prime numbers from zero to x\n",
    "    \"\"\"\n",
    "    try:\n",
    "        if type(x) == int:\n",
    "            for i in range(2,int(x**0.5)+1):\n",
    "                for j in range(2,i+1):\n",
    "                    if i%j==0:\n",
    "                        break\n",
    "                if i==j:\n",
    "                    print(i)\n",
    "        else:\n",
    "            raise TypeError(\"please enter a valid integer\")\n",
    "    except TypeError as e:\n",
    "        print(e)\n",
    "prime(50)    "
   ]
  },
  {
   "cell_type": "markdown",
   "id": "1c21ccc7",
   "metadata": {},
   "source": [
    "`Q4.How can we swap the values of three variables (let's say a, b, and c) without using a fourth variable?\n",
    "For example, if we have a=5, b=8, and c=9, how can we obtain a=9, b=5, and c=8? The challenge is to\n",
    "perform this operation without using an additional variable to store any of the values during the\n",
    "swapping process.`"
   ]
  },
  {
   "cell_type": "code",
   "execution_count": 64,
   "id": "7f84d49e",
   "metadata": {},
   "outputs": [
    {
     "name": "stdout",
     "output_type": "stream",
     "text": [
      "9 5 8\n"
     ]
    }
   ],
   "source": [
    "a=5\n",
    "b=8\n",
    "c=9\n",
    "a,b,c = c,a,b\n",
    "print(a,b,c)"
   ]
  },
  {
   "cell_type": "markdown",
   "id": "7b3722a8",
   "metadata": {},
   "source": [
    "`Q5. Can you write a program that determines the nature of a given number (in this case, 87) as being\n",
    "positive, negative, or zero? The program should be designed to take the number as input and perform the\n",
    "necessary calculations to determine if the number is positive (i.e., greater than zero), negative (i.e., less\n",
    "than zero), or zero (i.e., equal to zero). The output of the program should indicate which of these three\n",
    "categories the given number falls into.`"
   ]
  },
  {
   "cell_type": "code",
   "execution_count": 68,
   "id": "54c1e993",
   "metadata": {},
   "outputs": [
    {
     "name": "stdout",
     "output_type": "stream",
     "text": [
      "Positive\n"
     ]
    }
   ],
   "source": [
    "def num_nature(x):\n",
    "    '''\n",
    "    takes an integer x and determines if it is postive , negative or zero\n",
    "    '''\n",
    "    try:\n",
    "        if type(x) == int:\n",
    "            if x > 0:\n",
    "                print(\"Positive\")\n",
    "            elif x == 0:\n",
    "                print(\"Zero\")\n",
    "            else:\n",
    "                print(\"Negative\")\n",
    "        else:\n",
    "            raise TypeError(\"Please enter a valid integer\")\n",
    "    except TypeError as e:\n",
    "        print(e)\n",
    "num_nature(87)"
   ]
  },
  {
   "cell_type": "markdown",
   "id": "4bda1d3f",
   "metadata": {},
   "source": [
    "`Q6. How can you create a program that determines whether a given number (in this case, 98) is even or\n",
    "odd? The program should be designed to take the number as input and perform the necessary\n",
    "calculations to determine whether it is divisible by two. If the number is divisible by two without leaving a\n",
    "remainder, it is an even number, and if there is a remainder, it is an odd number. The output of the\n",
    "program should indicate whether the given number is even or odd.`"
   ]
  },
  {
   "cell_type": "code",
   "execution_count": 73,
   "id": "bfa0e09b",
   "metadata": {},
   "outputs": [
    {
     "name": "stdout",
     "output_type": "stream",
     "text": [
      "98 is even\n"
     ]
    }
   ],
   "source": [
    "def even_odd(x):\n",
    "    '''\n",
    "    takes an integer x and determines if it is even or odd\n",
    "    '''\n",
    "    try:\n",
    "        if type(x) == int:\n",
    "            if x%2 == 0:\n",
    "                print(f\"{x} is even\")\n",
    "            else:\n",
    "                print(f\"{x} is odd\")\n",
    "        else:\n",
    "            raise TypeError(\"Please enter a valid integer\")\n",
    "    except TypeError as e:\n",
    "        print(e)\n",
    "even_odd(98)"
   ]
  },
  {
   "cell_type": "markdown",
   "id": "a4261087",
   "metadata": {},
   "source": [
    "`Q7.Write a program for sum of digits.the digits are 76543 and the output should be 25.`"
   ]
  },
  {
   "cell_type": "code",
   "execution_count": 88,
   "id": "6b6b67e4",
   "metadata": {},
   "outputs": [
    {
     "data": {
      "text/plain": [
       "25"
      ]
     },
     "execution_count": 88,
     "metadata": {},
     "output_type": "execute_result"
    }
   ],
   "source": [
    "def sum_of_digits(x):\n",
    "    '''\n",
    "    takes a number x and provides the sum of its individual numbers\n",
    "    '''\n",
    "    try:\n",
    "        if type(x) == int:\n",
    "            sum = 0\n",
    "            while x !=0:\n",
    "                sum+=x%10\n",
    "                x = x//10\n",
    "            return sum\n",
    "        else:\n",
    "            raise TypeError(\"Please enter a valid integer\")\n",
    "    except TypeError as e:\n",
    "        print(e)\n",
    "sum_of_digits(76543)"
   ]
  },
  {
   "cell_type": "markdown",
   "id": "e2754df8",
   "metadata": {},
   "source": [
    "`Q8.Write a program for reversing the given number 5436 and the output should be 6345.`"
   ]
  },
  {
   "cell_type": "code",
   "execution_count": 91,
   "id": "391600dc",
   "metadata": {},
   "outputs": [
    {
     "data": {
      "text/plain": [
       "6345"
      ]
     },
     "execution_count": 91,
     "metadata": {},
     "output_type": "execute_result"
    }
   ],
   "source": [
    "def reverse(x):\n",
    "    '''\n",
    "    takes a number x and returns its reverse order\n",
    "    '''\n",
    "    try:\n",
    "        if type(x) == int:\n",
    "            return int(str(x)[::-1])\n",
    "        else:\n",
    "            raise TypeError(\"Please enter a valid integer\")\n",
    "    except TypeError as e:\n",
    "        print(e)\n",
    "reverse(5436)"
   ]
  },
  {
   "cell_type": "markdown",
   "id": "6fc1dfaa",
   "metadata": {},
   "source": [
    "`Q9.Write a program to check if a given number 371 is an Armstrong number?`"
   ]
  },
  {
   "cell_type": "code",
   "execution_count": 112,
   "id": "82ae2c28",
   "metadata": {},
   "outputs": [
    {
     "name": "stdout",
     "output_type": "stream",
     "text": [
      "371 is an armstrong number\n"
     ]
    }
   ],
   "source": [
    "def armstrong(a):\n",
    "    '''\n",
    "    checks if a given number x is armstrong number \n",
    "    '''\n",
    "    try:\n",
    "        if type(a) == int:\n",
    "            x = a\n",
    "            sum = 0\n",
    "            while x !=0:\n",
    "                sum+=(x%10)**3\n",
    "                x = x//10\n",
    "            if sum == a:\n",
    "                print(f\"{a} is an armstrong number\")\n",
    "            else:\n",
    "                print(f\"{a} is not an armstrong number\")\n",
    "                  \n",
    "        else:\n",
    "            raise TypeError(\"Please enter a valid integer\")\n",
    "    except TypeError as e:\n",
    "        print(e)\n",
    "armstrong(371)"
   ]
  },
  {
   "cell_type": "markdown",
   "id": "86d4d830",
   "metadata": {},
   "source": [
    "`Q10.Write a program the given year is 1996, a leap year.`"
   ]
  },
  {
   "cell_type": "code",
   "execution_count": 118,
   "id": "a9cc0d26",
   "metadata": {},
   "outputs": [
    {
     "name": "stdout",
     "output_type": "stream",
     "text": [
      "1996 is a leap year\n"
     ]
    }
   ],
   "source": [
    "def leap_year(x):\n",
    "    '''\n",
    "    checks if a given year is leap year or not\n",
    "    '''\n",
    "    ''\n",
    "    try:\n",
    "        if type(x) == int:\n",
    "            if x%4==0:\n",
    "                print(f\"{x} is a leap year\")\n",
    "            else:\n",
    "                print(f\"{x} is not a leap year\")\n",
    "        else:\n",
    "            raise TypeError(\"Please enter a valid integer\")\n",
    "    except TypeError as e:\n",
    "        print(e)\n",
    "leap_year(1996)"
   ]
  }
 ],
 "metadata": {
  "kernelspec": {
   "display_name": "Python 3 (ipykernel)",
   "language": "python",
   "name": "python3"
  },
  "language_info": {
   "codemirror_mode": {
    "name": "ipython",
    "version": 3
   },
   "file_extension": ".py",
   "mimetype": "text/x-python",
   "name": "python",
   "nbconvert_exporter": "python",
   "pygments_lexer": "ipython3",
   "version": "3.9.16"
  }
 },
 "nbformat": 4,
 "nbformat_minor": 5
}
