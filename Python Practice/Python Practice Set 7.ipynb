{
 "cells": [
  {
   "cell_type": "markdown",
   "id": "07eb1b4b-fb01-4a86-98b9-60bd9f9b44e5",
   "metadata": {},
   "source": [
    "# **`Python Practice Set 7`**"
   ]
  },
  {
   "cell_type": "code",
   "execution_count": 11,
   "id": "eff2de3c-d0b8-4c87-b800-45eacef7f472",
   "metadata": {
    "tags": []
   },
   "outputs": [
    {
     "name": "stdout",
     "output_type": "stream",
     "text": [
      "0\n",
      "1\n",
      "2\n",
      "3\n",
      "4\n",
      "5\n",
      "6\n",
      "7\n",
      "8\n",
      "9\n",
      "10\n"
     ]
    }
   ],
   "source": [
    "import threading\n",
    "\n",
    "odd_event = threading.Event()\n",
    "even_event = threading.Event()\n",
    "TIMEOUT = 0.1\n",
    "\n",
    "\n",
    "def printEven(n):\n",
    "    for i in range(0, n, 2):\n",
    "        print(i, flush=True)\n",
    "        odd_event.set()\n",
    "        even_event.clear()\n",
    "        # print(\"waiting for even event\", flush=True)\n",
    "        even_event.wait(timeout=TIMEOUT)\n",
    "    # print(\"printEven finished\", flush=True)\n",
    "\n",
    "\n",
    "def printOdd(n):\n",
    "    odd_event.wait()\n",
    "    for i in range(1, n, 2):\n",
    "        print(i, flush=True)\n",
    "        even_event.set()\n",
    "        odd_event.clear()\n",
    "        # print(\"waiting for odd event\", flush=True)\n",
    "        odd_event.wait(timeout=TIMEOUT)\n",
    "    # print(\"printOdd finished\", flush=True)\n",
    "\n",
    "\n",
    "if __name__ == \"__main__\":\n",
    "    n = 11\n",
    "    t1 = threading.Thread(target=printEven, args=(n,), daemon=False)\n",
    "    t2 = threading.Thread(target=printOdd, args=(n,), daemon=False)\n",
    "\n",
    "    t1.start()\n",
    "    t2.start()"
   ]
  },
  {
   "cell_type": "code",
   "execution_count": null,
   "id": "28f8367d-5ebe-4b5b-a5fb-31ec267f7477",
   "metadata": {},
   "outputs": [],
   "source": []
  }
 ],
 "metadata": {
  "kernelspec": {
   "display_name": "Python 3 (ipykernel)",
   "language": "python",
   "name": "python3"
  },
  "language_info": {
   "codemirror_mode": {
    "name": "ipython",
    "version": 3
   },
   "file_extension": ".py",
   "mimetype": "text/x-python",
   "name": "python",
   "nbconvert_exporter": "python",
   "pygments_lexer": "ipython3",
   "version": "3.9.16"
  }
 },
 "nbformat": 4,
 "nbformat_minor": 5
}
