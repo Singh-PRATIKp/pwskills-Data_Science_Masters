{
 "cells": [
  {
   "cell_type": "markdown",
   "id": "07eb1b4b-fb01-4a86-98b9-60bd9f9b44e5",
   "metadata": {},
   "source": [
    "# **`Python Practice Set 7`**"
   ]
  },
  {
   "attachments": {},
   "cell_type": "markdown",
   "id": "f5559514",
   "metadata": {},
   "source": [
    "`Q1. Write a program that spawns two threads. One thread should print even numbers between 0 and 10,\n",
    "and the other thread should print odd numbers between 1 and 9.`"
   ]
  },
  {
   "cell_type": "code",
   "execution_count": 23,
   "id": "eff2de3c-d0b8-4c87-b800-45eacef7f472",
   "metadata": {
    "tags": []
   },
   "outputs": [
    {
     "name": "stdout",
     "output_type": "stream",
     "text": [
      "0\n",
      "1\n",
      "2\n",
      "3\n",
      "4\n",
      "5\n",
      "6\n",
      "7\n",
      "8\n",
      "9\n",
      "10\n"
     ]
    }
   ],
   "source": [
    "import threading\n",
    "\n",
    "odd_event = threading.Event()\n",
    "even_event = threading.Event()\n",
    "TIMEOUT = 0.1\n",
    "\n",
    "\n",
    "def printEven(n):\n",
    "    for i in range(0, n, 2):\n",
    "        print(i, flush=True)\n",
    "        odd_event.set()\n",
    "        even_event.clear()\n",
    "        # print(\"waiting for even event\", flush=True)\n",
    "        even_event.wait(timeout=TIMEOUT)\n",
    "    # print(\"printEven finished\", flush=True)\n",
    "\n",
    "\n",
    "def printOdd(n):\n",
    "    odd_event.wait()\n",
    "    for i in range(1, n, 2):\n",
    "        print(i, flush=True)\n",
    "        even_event.set()\n",
    "        odd_event.clear()\n",
    "        # print(\"waiting for odd event\", flush=True)\n",
    "        odd_event.wait(timeout=TIMEOUT)\n",
    "    # print(\"printOdd finished\", flush=True)\n",
    "\n",
    "\n",
    "if __name__ == \"__main__\":\n",
    "    n = 11\n",
    "    t1 = threading.Thread(target=printEven, args=(n,), daemon=False)\n",
    "    t2 = threading.Thread(target=printOdd, args=(n,), daemon=False)\n",
    "\n",
    "    t1.start()\n",
    "    t2.start()"
   ]
  },
  {
   "attachments": {},
   "cell_type": "markdown",
   "id": "fb94a851",
   "metadata": {},
   "source": [
    "`Q2. Write a program that generates a list of random numbers and sorts them using multithreading. Use\n",
    "two threads to sort the first half and the second half of the list in parallel.`"
   ]
  },
  {
   "cell_type": "code",
   "execution_count": 76,
   "id": "28f8367d-5ebe-4b5b-a5fb-31ec267f7477",
   "metadata": {},
   "outputs": [
    {
     "name": "stdout",
     "output_type": "stream",
     "text": [
      "[69 77 38 21 66 26 86 32 92 14 73 79 22 82 39 77 35 19 90 55 67 63 63 79\n",
      " 41 38 26 36 51 47 11 31 44 32 62 72 81 87 75 44 92 17 89 83 32 31 29 92\n",
      " 43 55] \n",
      "\n",
      "\n",
      "sort_second finished\n",
      "Sort_first finished\n",
      "\n",
      "\n",
      "final sorted list [11 14 17 19 21 22 26 26 29 31 31 32 32 32 35 36 38 38 39 41 43 44 44 47\n",
      " 51 55 55 62 63 63 66 67 69 72 73 75 77 77 79 79 81 82 83 86 87 89 90 92\n",
      " 92 92]\n"
     ]
    }
   ],
   "source": [
    "import threading\n",
    "import numpy as np\n",
    "\n",
    "first_half = threading.Event()\n",
    "second_half = threading.Event()\n",
    "TIMEOUT = 0.1\n",
    "\n",
    "\n",
    "def sort_first(arr):\n",
    "    for i in range(0, len(arr//2)):    \n",
    "        for j in range(i+1, len(arr//2)):    \n",
    "            if(arr[i] > arr[j]):   \n",
    "                temp = arr[i]   \n",
    "                arr[i] = arr[j]    \n",
    "                arr[j] = temp\n",
    "            #print((arr[i], arr[j]), flush=True)\n",
    "        first_half.set()\n",
    "        second_half.clear()\n",
    "        #print(\"waiting for first event\", flush=True)\n",
    "        second_half.wait(timeout=TIMEOUT)\n",
    "    print(\"Sort_first finished\", flush=True)\n",
    "\n",
    "\n",
    "def sort_second(arr):\n",
    "    first_half.wait()\n",
    "    for i in range(len(arr//2),len(arr)):    \n",
    "        for j in range(len(arr//2),len(arr)):    \n",
    "            if(arr[i] > arr[j]):   \n",
    "                temp = arr[i]   \n",
    "                arr[i] = arr[j]    \n",
    "                arr[j] = temp\n",
    "            #print((arr[i], arr[j]), flush=True)\n",
    "        second_half.set()\n",
    "        first_half.clear()\n",
    "        #print(\"waiting for second event\", flush=True)\n",
    "        first_half.wait(timeout=TIMEOUT)\n",
    "    print(\"sort_second finished\", flush=True)\n",
    "\n",
    "\n",
    "if __name__ == \"__main__\":\n",
    "    arr = np.random.randint(10,100,50)\n",
    "    print(arr,\"\\n\\n\")\n",
    "    t1 = threading.Thread(target=sort_first, args=(arr,), daemon=False)\n",
    "    t2 = threading.Thread(target=sort_second, args=(arr,), daemon=False)\n",
    "\n",
    "    t1.start()\n",
    "    t2.start()\n",
    "\n",
    "    t1.join()\n",
    "    t2.join()\n",
    "\n",
    "    print(\"\\n\\nfinal sorted list\",arr)"
   ]
  },
  {
   "attachments": {},
   "cell_type": "markdown",
   "id": "2078e91a",
   "metadata": {},
   "source": [
    "`Q3. Write a program that simulates a bank account transaction. The program should create two threads,\n",
    "one for a deposit and one for a withdrawal. The deposit thread should add\n",
    "100 to the account,and the withdrawal thread should withdraw\n",
    "50 from the account. Run the program for 10 iterations.`"
   ]
  },
  {
   "cell_type": "code",
   "execution_count": 41,
   "id": "81c35054",
   "metadata": {},
   "outputs": [
    {
     "name": "stdout",
     "output_type": "stream",
     "text": [
      "The opening balance is 100\n",
      "100 deposited and current balance is 200\n",
      "50 withdrawn and current balance is 150\n",
      "100 deposited and current balance is 250\n",
      "50 withdrawn and current balance is 200\n",
      "100 deposited and current balance is 300\n",
      "50 withdrawn and current balance is 250\n",
      "100 deposited and current balance is 350\n",
      "50 withdrawn and current balance is 300\n",
      "100 deposited and current balance is 400\n",
      "50 withdrawn and current balance is 350\n",
      "100 deposited and current balance is 450\n",
      "50 withdrawn and current balance is 400\n",
      "100 deposited and current balance is 500\n",
      "50 withdrawn and current balance is 450\n",
      "100 deposited and current balance is 550\n",
      "50 withdrawn and current balance is 500\n",
      "100 deposited and current balance is 600\n",
      "50 withdrawn and current balance is 550\n",
      "100 deposited and current balance is 650\n",
      "50 withdrawn and current balance is 600\n",
      "deposit finished\n",
      "withdraw finished\n"
     ]
    }
   ],
   "source": [
    "import threading\n",
    "\n",
    "#create threading events to space out the threading \n",
    "add = threading.Event()\n",
    "remove = threading.Event()\n",
    "TIMEOUT = 0.1\n",
    "\n",
    "#initial deposit amount\n",
    "n = 100\n",
    "\n",
    "def deposit():\n",
    "    global n\n",
    "    for i in range(10):\n",
    "        n+=100\n",
    "        print(\"100 deposited and current balance is {}\".format(n))\n",
    "        add.set()\n",
    "        remove.clear()\n",
    "        #print(\"waiting for deposit event\", flush=True)\n",
    "        remove.wait(timeout=TIMEOUT)\n",
    "    print(\"deposit finished\", flush=True)\n",
    "\n",
    "\n",
    "def withdraw():\n",
    "    global n\n",
    "    for i in range(10):        \n",
    "        n-=50\n",
    "        print(\"50 withdrawn and current balance is {}\".format(n))\n",
    "        remove.set()\n",
    "        add.clear()\n",
    "        #print(\"waiting for withdrwa event\", flush=True)\n",
    "        add.wait(timeout=TIMEOUT)\n",
    "    print(\"withdraw finished\", flush=True)\n",
    "\n",
    "\n",
    "if __name__ == \"__main__\":    \n",
    "    print(\"The opening balance is {}\".format(n))\n",
    "    \n",
    "    #create threads\n",
    "    t1 = threading.Thread(target=deposit)\n",
    "    t2 = threading.Thread(target=withdraw)\n",
    "\n",
    "    # start threads\n",
    "    t1.start()\n",
    "    t2.start()\n",
    "\n",
    "    #wait for thread to finish\n",
    "    t1.join()\n",
    "    t2.join()"
   ]
  },
  {
   "cell_type": "markdown",
   "id": "5240948e",
   "metadata": {},
   "source": [
    "`Q4. Write a Python program that creates a thread to print out the current date and time every 5 seconds.\n",
    "The program should continue running until the user presses the 'q' key.`"
   ]
  },
  {
   "cell_type": "code",
   "execution_count": 110,
   "id": "f9b58e81",
   "metadata": {},
   "outputs": [
    {
     "name": "stdout",
     "output_type": "stream",
     "text": [
      "Current date and time is  29/03/2023 18:38:24\n",
      "Current date and time is  29/03/2023 18:38:29\n",
      "Current date and time is  29/03/2023 18:38:34\n",
      "Current date and time is  29/03/2023 18:38:39\n"
     ]
    }
   ],
   "source": [
    "import threading\n",
    "import keyboard\n",
    "from datetime import datetime\n",
    "import time\n",
    "\n",
    "\n",
    "#create function to print date and time\n",
    "\n",
    "def date_time():\n",
    "    now = datetime.now()\n",
    "    now_str = now.strftime(\"%d/%m/%Y %H:%M:%S\")\n",
    "    print(\"Current date and time is \",now_str)\n",
    "\n",
    "#creating a loop to print date_time every 5 sec with keyboard interrupt\n",
    "def loop_dt():\n",
    "    while True:\n",
    "        date_time()        \n",
    "        if keyboard.is_pressed(\"q\"):\n",
    "            break\n",
    "        time.sleep(5)\n",
    "\n",
    "\n",
    "# create threads\n",
    "dt_thread = threading.Thread(target=loop_dt)\n",
    "\n",
    "## start threads\n",
    "dt_thread.start()\n",
    "    \n",
    "## wait for thread to finish\n",
    "dt_thread.join()\n",
    "\n"
   ]
  },
  {
   "attachments": {},
   "cell_type": "markdown",
   "id": "1522b337",
   "metadata": {},
   "source": [
    "`Q5. Write a Python program that creates two threads. Each thread should print out the numbers from 1 to\n",
    "10. The two threads should run concurrently and print out the numbers in an interleaved fashion.`"
   ]
  },
  {
   "cell_type": "code",
   "execution_count": 81,
   "id": "6ebecf19",
   "metadata": {},
   "outputs": [
    {
     "name": "stdout",
     "output_type": "stream",
     "text": [
      "Thread 1: 1\n",
      "Thread 2: 1\n",
      "Thread 1: 2\n",
      "Thread 2: 2\n",
      "Thread 2: 3\n",
      "Thread 1: 3\n",
      "Thread 2: 4\n",
      "Thread 1: 4\n",
      "Thread 1: 5\n",
      "Thread 2: 5\n",
      "Thread 1: 6\n",
      "Thread 2: 6\n",
      "Thread 1: 7\n",
      "Thread 2: 7\n",
      "Thread 2: 8\n",
      "Thread 1: 8\n",
      "Thread 2: 9\n",
      "Thread 1: 9\n",
      "Thread 1: 10\n",
      "Thread 2: 10\n"
     ]
    }
   ],
   "source": [
    "import threading\n",
    "\n",
    "#Threading events\n",
    "event1 = threading.Event()\n",
    "event2 = threading.Event()\n",
    "TIMEOUT = 0.01\n",
    "\n",
    "\n",
    "#define function to print numbers\n",
    "\n",
    "def print_num1():\n",
    "    for i in range(1,11):\n",
    "        print(\"Thread 1:\",i)\n",
    "        event1.wait(timeout=TIMEOUT)\n",
    "\n",
    "def print_num2():\n",
    "    for i in range(1,11):\n",
    "        print(\"Thread 2:\",i)\n",
    "        event2.wait(timeout=TIMEOUT)\n",
    "\n",
    "#creating threads\n",
    "thread1 = threading.Thread(target=print_num1)\n",
    "thread2 = threading.Thread(target=print_num2)\n",
    "\n",
    "#starting threads\n",
    "thread1.start()\n",
    "thread2.start()\n",
    "\n",
    "#waiting for threads to finish\n",
    "thread1.join()\n",
    "thread2.join()\n"
   ]
  },
  {
   "attachments": {},
   "cell_type": "markdown",
   "id": "66c8c557",
   "metadata": {},
   "source": [
    "`Q6. Write a Python program to create a shared variable between two threads and increment its value in\n",
    "each thread.`"
   ]
  },
  {
   "cell_type": "code",
   "execution_count": 85,
   "id": "7f220317",
   "metadata": {},
   "outputs": [
    {
     "name": "stdout",
     "output_type": "stream",
     "text": [
      "Start value of n: 0\n",
      "Thread 1: 1\n",
      "Thread 2: 2\n"
     ]
    }
   ],
   "source": [
    "import threading\n",
    "\n",
    "#Threading events\n",
    "event1 = threading.Event()\n",
    "event2 = threading.Event()\n",
    "TIMEOUT = 0.1\n",
    "\n",
    "#shared variable\n",
    "n = 0\n",
    "print(\"Start value of n:\",n)\n",
    "\n",
    "#define function to print numbers\n",
    "\n",
    "def num_increment1():\n",
    "    global n\n",
    "    n+=1\n",
    "    print(\"Thread 1:\",n)\n",
    "    event1.wait(timeout=TIMEOUT)\n",
    "\n",
    "def num_increment2():\n",
    "    global n\n",
    "    n+=1\n",
    "    print(\"Thread 2:\",n)\n",
    "    event2.wait(timeout=TIMEOUT)\n",
    "\n",
    "#creating threads\n",
    "thread1 = threading.Thread(target=num_increment1)\n",
    "thread2 = threading.Thread(target=num_increment2)\n",
    "\n",
    "#starting threads\n",
    "thread1.start()\n",
    "thread2.start()\n",
    "\n",
    "#waiting for threads to finish\n",
    "thread1.join()\n",
    "thread2.join()"
   ]
  },
  {
   "attachments": {},
   "cell_type": "markdown",
   "id": "8a6855f1",
   "metadata": {},
   "source": [
    "`Q7. Here's a Python program that creates a thread to count down from 5 to 0 and prints \"Blastoff!\" when\n",
    "the count reaches 0:`"
   ]
  },
  {
   "cell_type": "code",
   "execution_count": 87,
   "id": "d34f1e2c",
   "metadata": {},
   "outputs": [
    {
     "name": "stdout",
     "output_type": "stream",
     "text": [
      "5\n",
      "4\n",
      "3\n",
      "2\n",
      "1\n",
      "BlastOff!\n"
     ]
    }
   ],
   "source": [
    "\n",
    "import threading\n",
    "\n",
    "#Threading events\n",
    "event1 = threading.Event()\n",
    "TIMEOUT = 1\n",
    "\n",
    "\n",
    "#define function to print numbers\n",
    "\n",
    "def blastoff():\n",
    "    for i in range(5,-1,-1):\n",
    "        if i == 0:\n",
    "            print(\"BlastOff!\")\n",
    "            break\n",
    "        print(i)\n",
    "        event1.wait(timeout=TIMEOUT)\n",
    "\n",
    "\n",
    "#creating threads\n",
    "thread1 = threading.Thread(target=blastoff)\n",
    "\n",
    "#starting threads\n",
    "thread1.start()\n",
    "\n",
    "#waiting for threads to finish\n",
    "thread1.join()"
   ]
  },
  {
   "attachments": {},
   "cell_type": "markdown",
   "id": "c87effb1",
   "metadata": {},
   "source": [
    "`Q8. Write a program that creates a thread to print the Fibonacci sequence up to a certain number n. The\n",
    "main thread should prompt the user for the value of n.`"
   ]
  },
  {
   "cell_type": "code",
   "execution_count": 95,
   "id": "32acd5ec",
   "metadata": {},
   "outputs": [
    {
     "name": "stdout",
     "output_type": "stream",
     "text": [
      "0\n",
      "1\n",
      "1\n",
      "2\n",
      "3\n",
      "5\n"
     ]
    }
   ],
   "source": [
    "import threading\n",
    "\n",
    "#Threading events\n",
    "event1 = threading.Event()\n",
    "TIMEOUT = 0.5\n",
    "\n",
    "\n",
    "#define function to print numbers\n",
    "\n",
    "def fibonacci():\n",
    "    n = int(input(\"Enter an integer\"))\n",
    "    a = 0\n",
    "    b = 1\n",
    "    while a<=n:\n",
    "        print(a)\n",
    "        a,b = b+a,a\n",
    "        event1.wait(timeout=TIMEOUT)\n",
    "\n",
    "\n",
    "#creating threads\n",
    "thread1 = threading.Thread(target=fibonacci)\n",
    "\n",
    "#starting threads\n",
    "thread1.start()\n",
    "\n",
    "#waiting for threads to finish\n",
    "thread1.join()"
   ]
  },
  {
   "attachments": {},
   "cell_type": "markdown",
   "id": "1fc9f280",
   "metadata": {},
   "source": [
    "`Q9. Write a program that creates two threads to add and subtract numbers from a shared variable. The\n",
    "shared variable should start at 0, and each thread should perform 10 iterations of adding or subtracting a\n",
    "random integer between 1 and 10. The program should print the final value of the shared variable.`"
   ]
  },
  {
   "cell_type": "code",
   "execution_count": 105,
   "id": "61bc6c2c",
   "metadata": {},
   "outputs": [
    {
     "name": "stdout",
     "output_type": "stream",
     "text": [
      "Start value of n: 0\n",
      "Random integer: 3\n",
      "Thread 1: 3\n",
      "Random integer: 2\n",
      "Thread 2: 1\n",
      "Random integer: 3\n",
      "Thread 1: 4\n",
      "Random integer: 2\n",
      "Thread 2: 2\n",
      "Random integer: 3\n",
      "Thread 1: 5\n",
      "Random integer: 2\n",
      "Thread 2: 3\n",
      "Random integer: 3\n",
      "Thread 1: 6\n",
      "Random integer: 2\n",
      "Thread 2: 4\n",
      "Random integer: 3\n",
      "Thread 1: 7\n",
      "Random integer: 2\n",
      "Thread 2: 5\n",
      "Random integer: 3\n",
      "Thread 1: 8\n",
      "Random integer: 2\n",
      "Thread 2: 6\n",
      "Random integer: 3\n",
      "Thread 1: 9\n",
      "Random integer: 2\n",
      "Thread 2: 7\n",
      "Random integer: 3\n",
      "Thread 1: 10\n",
      "Random integer: 2\n",
      "Thread 2: 8\n",
      "Random integer: 3\n",
      "Thread 1: 11\n",
      "Random integer: 2\n",
      "Thread 2: 9\n",
      "Random integer: 3\n",
      "Thread 1: 12\n",
      "Random integer: 2\n",
      "Thread 2: 10\n",
      "The final value of shared variable is: 10\n"
     ]
    }
   ],
   "source": [
    "import threading\n",
    "import numpy as np\n",
    "\n",
    "#Threading events\n",
    "event1 = threading.Event()\n",
    "event2 = threading.Event()\n",
    "TIMEOUT = 1\n",
    "\n",
    "#shared variable\n",
    "n = 0\n",
    "\n",
    "print(\"Start value of n:\",n)\n",
    "\n",
    "#define function to print numbers\n",
    "\n",
    "def num_add():\n",
    "    global n\n",
    "    x = np.random.randint(1,10,1)[0]\n",
    "    for i in range(10):        \n",
    "        n+=x\n",
    "        print(\"Random integer:\",x)\n",
    "        print(\"Thread 1:\",n)        \n",
    "        event1.wait(timeout=TIMEOUT)\n",
    "\n",
    "def num_subtract():\n",
    "    global n\n",
    "    x = np.random.randint(1,10,1)[0]\n",
    "    for i in range(10):\n",
    "        n-=x\n",
    "        print(\"Random integer:\",x)\n",
    "        print(\"Thread 2:\",n)        \n",
    "        event2.wait(timeout=TIMEOUT)\n",
    "\n",
    "#creating threads\n",
    "thread1 = threading.Thread(target=num_add)\n",
    "thread2 = threading.Thread(target=num_subtract)\n",
    "\n",
    "#starting threads\n",
    "thread1.start()\n",
    "thread2.start()\n",
    "\n",
    "#waiting for threads to finish\n",
    "thread1.join()\n",
    "thread2.join()\n",
    "\n",
    "print(\"The final value of shared variable is:\",n)"
   ]
  },
  {
   "attachments": {},
   "cell_type": "markdown",
   "id": "09872cc9",
   "metadata": {},
   "source": [
    "`Q10. Write a program that creates a thread to calculate the sum of the numbers from 1 to 100 and prints\n",
    "the result.`"
   ]
  },
  {
   "cell_type": "code",
   "execution_count": 109,
   "id": "2afc3638",
   "metadata": {},
   "outputs": [
    {
     "name": "stdout",
     "output_type": "stream",
     "text": [
      "The sum of 1 to 100 is 5050\n"
     ]
    }
   ],
   "source": [
    "import threading\n",
    "\n",
    "\n",
    "#define function to print numbers\n",
    "\n",
    "def sum_num():\n",
    "    n = int(input(\"Enter an integer\"))\n",
    "    sum = 0\n",
    "    for i in range(1,n+1):\n",
    "        sum+=i\n",
    "    print(\"The sum of 1 to {} is {}\".format(n,sum))\n",
    "\n",
    "\n",
    "#creating threads\n",
    "thread1 = threading.Thread(target=sum_num)\n",
    "\n",
    "#starting threads\n",
    "thread1.start()\n",
    "\n",
    "#waiting for threads to finish\n",
    "thread1.join()"
   ]
  }
 ],
 "metadata": {
  "kernelspec": {
   "display_name": "Python 3 (ipykernel)",
   "language": "python",
   "name": "python3"
  },
  "language_info": {
   "codemirror_mode": {
    "name": "ipython",
    "version": 3
   },
   "file_extension": ".py",
   "mimetype": "text/x-python",
   "name": "python",
   "nbconvert_exporter": "python",
   "pygments_lexer": "ipython3",
   "version": "3.9.16"
  }
 },
 "nbformat": 4,
 "nbformat_minor": 5
}
