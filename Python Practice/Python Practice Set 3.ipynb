{
 "cells": [
  {
   "cell_type": "markdown",
   "id": "8f29fc4e-e467-4ff1-865e-e36b9e92202e",
   "metadata": {},
   "source": [
    "`Q1. Create a dictionary called fruits with the following key-value pairs:\n",
    "\"apple\": 0.75\n",
    "\"banana\": 1.25\n",
    "\"orange\": 0.90\n",
    "Then, print out the price of a banana.`"
   ]
  },
  {
   "cell_type": "code",
   "execution_count": 1,
   "id": "ef528250-5524-41a0-a32d-d853d153831a",
   "metadata": {},
   "outputs": [
    {
     "name": "stdout",
     "output_type": "stream",
     "text": [
      "1.25\n"
     ]
    }
   ],
   "source": [
    "fruits = {\"apple\": 0.75 ,\"banana\": 1.25, \"orange\": 0.90}\n",
    "print(fruits[\"banana\"])"
   ]
  },
  {
   "cell_type": "markdown",
   "id": "6a1cb8d1-d223-4440-ac71-03bc83ab65eb",
   "metadata": {},
   "source": [
    "`Q2. Create an empty dictionary called ages. Add the following key-value pairs to the dictionary:<br>`\n",
    "``\"Alice\": 30<br>``\n",
    "``\"Bob\": 25<br>``\n",
    "``\"Charlie\": 35<br>``\n",
    "``Then, print out the age of Charlie.<br>``"
   ]
  },
  {
   "cell_type": "code",
   "execution_count": 3,
   "id": "73480137-e094-4a05-8dd5-83f96c180ff4",
   "metadata": {},
   "outputs": [
    {
     "name": "stdout",
     "output_type": "stream",
     "text": [
      "{'Alice': 30, 'Bob': 25, 'Charlie': 35}\n"
     ]
    }
   ],
   "source": [
    "ages = dict()\n",
    "ages[\"Alice\"] = 30\n",
    "ages[\"Bob\"] = 25\n",
    "ages[\"Charlie\"] = 35\n",
    "print(ages)"
   ]
  },
  {
   "cell_type": "markdown",
   "id": "a95977e7-7a8e-4731-974d-ced9b310bbcb",
   "metadata": {},
   "source": [
    "Q3. Write a function called word_count(text) that takes a string as input and returns a dictionary where\n",
    "each key is a word in the text and its value is the number of times that word appears in the text. For\n",
    "example, word_count(\"hello world hello\") should return {\"hello\": 2, \"world\": 1}."
   ]
  },
  {
   "cell_type": "code",
   "execution_count": 15,
   "id": "ca5aebbc-1df4-4e19-a3ed-d91dfde9c697",
   "metadata": {},
   "outputs": [
    {
     "data": {
      "text/plain": [
       "{'hello': 2, 'world': 1}"
      ]
     },
     "execution_count": 15,
     "metadata": {},
     "output_type": "execute_result"
    }
   ],
   "source": [
    "def word_count(text):\n",
    "    '''takes a string and does a word count on it returns a dictionary of words as keys and their total count as values\n",
    "    '''\n",
    "    try:\n",
    "        l = text.split()\n",
    "        word_count = dict()\n",
    "        for i in l:\n",
    "            word_count[i] = word_count.get(i,0) + 1\n",
    "        return word_count\n",
    "    except Exception as e:\n",
    "        print(e)\n",
    "word_count(\"hello world hello\")"
   ]
  },
  {
   "cell_type": "markdown",
   "id": "44bc7e3a-4938-47b9-9f35-a19bdf27540e",
   "metadata": {},
   "source": [
    "`Q4. Create a dictionary called phone_book with the following key-value pairs:\n",
    "\"Alice\": \"555-1234\"\n",
    "\"Bob\": \"555-5678\"\n",
    "\"Charlie\": \"555-9012\"\n",
    "Then, prompt the user to enter a name and print out the corresponding phone number. If the name is not\n",
    "in the phone book, print out a message saying that the name was not found.`"
   ]
  },
  {
   "cell_type": "code",
   "execution_count": 26,
   "id": "97dc0944-d2ff-4786-b3fa-abbc871c7754",
   "metadata": {},
   "outputs": [
    {
     "name": "stdin",
     "output_type": "stream",
     "text": [
      "enter user name adssa\n"
     ]
    },
    {
     "name": "stdout",
     "output_type": "stream",
     "text": [
      "Name was not found: 'adssa'\n"
     ]
    },
    {
     "name": "stdin",
     "output_type": "stream",
     "text": [
      "enter user name asdas\n"
     ]
    },
    {
     "name": "stdout",
     "output_type": "stream",
     "text": [
      "Name was not found: 'asdas'\n"
     ]
    },
    {
     "name": "stdin",
     "output_type": "stream",
     "text": [
      "enter user name asd\n"
     ]
    },
    {
     "name": "stdout",
     "output_type": "stream",
     "text": [
      "Name was not found: 'asd'\n"
     ]
    },
    {
     "name": "stdin",
     "output_type": "stream",
     "text": [
      "enter user name Bob\n"
     ]
    },
    {
     "name": "stdout",
     "output_type": "stream",
     "text": [
      "Phone number of Bob is: 555-5678\n"
     ]
    }
   ],
   "source": [
    "phone_book = {\n",
    "    \"Alice\": \"555-1234\",\n",
    "\"Bob\": \"555-5678\",\n",
    "\"Charlie\": \"555-9012\"\n",
    "}\n",
    "while True:\n",
    "    try:\n",
    "        name = input(\"enter user name\")\n",
    "        print(f\"Phone number of {name} is:\",phone_book[name])\n",
    "        break\n",
    "    except KeyError as e:\n",
    "        print(\"Name was not found:\",e)\n",
    "        "
   ]
  },
  {
   "cell_type": "markdown",
   "id": "3e0cea48-743f-4304-a90c-8bb99b75ca7b",
   "metadata": {},
   "source": [
    "`Q5. Write a program that prompts the user to enter a number between 1 and 10. If the number is less than\n",
    "5, print out \"Too low!\", otherwise print out \"Too high!\".`"
   ]
  },
  {
   "cell_type": "code",
   "execution_count": 29,
   "id": "ba3e4645-e378-41ee-8b25-3a798ca209e7",
   "metadata": {},
   "outputs": [
    {
     "name": "stdin",
     "output_type": "stream",
     "text": [
      "Enter a number between 1 and 10:  2\n"
     ]
    },
    {
     "name": "stdout",
     "output_type": "stream",
     "text": [
      "Too low!\n"
     ]
    }
   ],
   "source": [
    "num = int(input(\"Enter a number between 1 and 10: \"))\n",
    "if num < 5:\n",
    "    print(\"Too low!\")\n",
    "else:\n",
    "    print(\"Too high!\")"
   ]
  },
  {
   "cell_type": "markdown",
   "id": "1e0e0689-b57d-4883-8e46-66b112ce3219",
   "metadata": {},
   "source": [
    "`Q6. Write a program that prompts the user to enter a password. If the password is \"password123\", print\n",
    "out \"Access granted\", otherwise print out \"Access denied\".`"
   ]
  },
  {
   "cell_type": "code",
   "execution_count": 36,
   "id": "221a98a9-c277-4b86-96ba-af82f954adae",
   "metadata": {},
   "outputs": [
    {
     "name": "stdin",
     "output_type": "stream",
     "text": [
      "Enter a password password123\n"
     ]
    },
    {
     "name": "stdout",
     "output_type": "stream",
     "text": [
      "Access granted\n"
     ]
    }
   ],
   "source": [
    "password = input(\"Enter a password\")\n",
    "if password == \"password123\":\n",
    "    print(\"Access granted\")\n",
    "else:\n",
    "    print(\"Access denied\")"
   ]
  },
  {
   "cell_type": "markdown",
   "id": "8935e936-d81a-4b69-8510-84619f900375",
   "metadata": {},
   "source": [
    "`Q7. Write a program that prompts the user to enter a positive integer. Then, use a loop to print out all the\n",
    "odd numbers from 1 to that integer.`"
   ]
  },
  {
   "cell_type": "code",
   "execution_count": 48,
   "id": "e0b6c239-1251-4da8-80eb-846e55fb96cf",
   "metadata": {},
   "outputs": [
    {
     "name": "stdin",
     "output_type": "stream",
     "text": [
      "Enter a positive integer: 23\n"
     ]
    },
    {
     "name": "stdout",
     "output_type": "stream",
     "text": [
      "1\n",
      "3\n",
      "5\n",
      "7\n",
      "9\n",
      "11\n",
      "13\n",
      "15\n",
      "17\n",
      "19\n",
      "21\n",
      "23\n"
     ]
    }
   ],
   "source": [
    "num = int(input(\"Enter a positive integer:\"))\n",
    "for i in range(1,num+1):\n",
    "        if i%2 !=0:\n",
    "              print(i)"
   ]
  },
  {
   "cell_type": "markdown",
   "id": "d9af6691-0b47-4cf5-97fb-7377a1084d31",
   "metadata": {},
   "source": [
    "`Q8. Write a program that generates a random number between 1 and 100 and then prompts the user to\n",
    "guess the number. If the user's guess is too low, print out \"Too low!\", if the guess is too high, print out \"Too\n",
    "high!\", and if the guess is correct, print out \"You win!\".`"
   ]
  },
  {
   "cell_type": "code",
   "execution_count": 66,
   "id": "efbfec1d-e0c5-4a94-8aca-aafe9baeaf50",
   "metadata": {},
   "outputs": [
    {
     "name": "stdin",
     "output_type": "stream",
     "text": [
      "Guess number between 1 and 100 33\n"
     ]
    },
    {
     "name": "stdout",
     "output_type": "stream",
     "text": [
      "Too Low!\n"
     ]
    },
    {
     "name": "stdin",
     "output_type": "stream",
     "text": [
      "Guess number between 1 and 100 44\n"
     ]
    },
    {
     "name": "stdout",
     "output_type": "stream",
     "text": [
      "Too High!\n"
     ]
    },
    {
     "name": "stdin",
     "output_type": "stream",
     "text": [
      "Guess number between 1 and 100 34\n"
     ]
    },
    {
     "name": "stdout",
     "output_type": "stream",
     "text": [
      "Too Low!\n"
     ]
    },
    {
     "name": "stdin",
     "output_type": "stream",
     "text": [
      "Guess number between 1 and 100 35\n"
     ]
    },
    {
     "name": "stdout",
     "output_type": "stream",
     "text": [
      "Too Low!\n"
     ]
    },
    {
     "name": "stdin",
     "output_type": "stream",
     "text": [
      "Guess number between 1 and 100 36\n"
     ]
    },
    {
     "name": "stdout",
     "output_type": "stream",
     "text": [
      "Too Low!\n"
     ]
    },
    {
     "name": "stdin",
     "output_type": "stream",
     "text": [
      "Guess number between 1 and 100 37\n"
     ]
    },
    {
     "name": "stdout",
     "output_type": "stream",
     "text": [
      "Too Low!\n"
     ]
    },
    {
     "name": "stdin",
     "output_type": "stream",
     "text": [
      "Guess number between 1 and 100 38\n"
     ]
    },
    {
     "name": "stdout",
     "output_type": "stream",
     "text": [
      "Too Low!\n"
     ]
    },
    {
     "name": "stdin",
     "output_type": "stream",
     "text": [
      "Guess number between 1 and 100 39\n"
     ]
    },
    {
     "name": "stdout",
     "output_type": "stream",
     "text": [
      "Too Low!\n"
     ]
    },
    {
     "name": "stdin",
     "output_type": "stream",
     "text": [
      "Guess number between 1 and 100 40\n"
     ]
    },
    {
     "name": "stdout",
     "output_type": "stream",
     "text": [
      "Too Low!\n"
     ]
    },
    {
     "name": "stdin",
     "output_type": "stream",
     "text": [
      "Guess number between 1 and 100 41\n"
     ]
    },
    {
     "name": "stdout",
     "output_type": "stream",
     "text": [
      "Too Low!\n"
     ]
    },
    {
     "name": "stdin",
     "output_type": "stream",
     "text": [
      "Guess number between 1 and 100 42\n"
     ]
    },
    {
     "name": "stdout",
     "output_type": "stream",
     "text": [
      "You Win!\n"
     ]
    }
   ],
   "source": [
    "import numpy as np\n",
    "num = int(np.random.randint(1,100,1))\n",
    "\n",
    "while True:\n",
    "    user_num = int(input(\"Guess number between 1 and 100\"))\n",
    "    if user_num<num:\n",
    "        print(\"Too Low!\")\n",
    "    elif user_num>num:\n",
    "        print(\"Too High!\")\n",
    "    else:\n",
    "        if user_num == num:\n",
    "            print(\"You Win!\")\n",
    "            break"
   ]
  },
  {
   "cell_type": "markdown",
   "id": "f2e0f09a-5e87-4d7e-971d-e93e494bd456",
   "metadata": {},
   "source": [
    "`Q9. Write a program that generates a random number between 1 and 10 and then prompts the user to\n",
    "guess the number. The user has three attempts to guess the number. If the user guesses correctly within\n",
    "three attempts, print out \"You win!\", otherwise print out \"You lose!\".`"
   ]
  },
  {
   "cell_type": "code",
   "execution_count": 71,
   "id": "13e294d5-03ff-4f7a-97fe-4735294d2405",
   "metadata": {},
   "outputs": [
    {
     "name": "stdin",
     "output_type": "stream",
     "text": [
      "Guess number between 1 and 10:  2\n"
     ]
    },
    {
     "name": "stdout",
     "output_type": "stream",
     "text": [
      "Too Low!\n"
     ]
    },
    {
     "name": "stdin",
     "output_type": "stream",
     "text": [
      "Guess number between 1 and 10:  5\n"
     ]
    },
    {
     "name": "stdout",
     "output_type": "stream",
     "text": [
      "You Win!\n"
     ]
    }
   ],
   "source": [
    "import numpy as np\n",
    "num = int(np.random.randint(1,10,1))\n",
    "chance = 3\n",
    "while chance:\n",
    "    user_num = int(input(\"Guess number between 1 and 10: \"))\n",
    "    if user_num<num:\n",
    "        print(\"Too Low!\")\n",
    "        chance-=1\n",
    "    elif user_num>num:\n",
    "        print(\"Too High!\")\n",
    "        chance-=1\n",
    "    else:\n",
    "        if user_num == num:\n",
    "            print(\"You Win!\")\n",
    "            break\n",
    "else:\n",
    "    print(\"You lose! Bye\")"
   ]
  },
  {
   "cell_type": "markdown",
   "id": "265c6573-88a7-45f2-9485-908a73fd141b",
   "metadata": {},
   "source": [
    "`Q10. Write a program that prompts the user to enter their age and then prints out whether they are a child\n",
    "(age 0-12), a teenager (age 13-19), an adult (age 20-59), or a senior (age 60+)`"
   ]
  },
  {
   "cell_type": "code",
   "execution_count": 75,
   "id": "0e52fa15-2593-4710-82c2-616a238cbed4",
   "metadata": {},
   "outputs": [
    {
     "name": "stdin",
     "output_type": "stream",
     "text": [
      "Enter your age in years:  14\n"
     ]
    },
    {
     "name": "stdout",
     "output_type": "stream",
     "text": [
      "You are a teenager!\n"
     ]
    }
   ],
   "source": [
    "age = int(input(\"Enter your age in years: \"))\n",
    "if age <=12:\n",
    "    print(\"You are a child!\")\n",
    "elif 13<=age<=19:\n",
    "    print(\"You are a teenager!\")\n",
    "elif 20<=age<=59:\n",
    "    print(\"You are an adult!\")\n",
    "else:\n",
    "    print(\"You are a senior\")"
   ]
  }
 ],
 "metadata": {
  "kernelspec": {
   "display_name": "Python 3 (ipykernel)",
   "language": "python",
   "name": "python3"
  },
  "language_info": {
   "codemirror_mode": {
    "name": "ipython",
    "version": 3
   },
   "file_extension": ".py",
   "mimetype": "text/x-python",
   "name": "python",
   "nbconvert_exporter": "python",
   "pygments_lexer": "ipython3",
   "version": "3.9.16"
  }
 },
 "nbformat": 4,
 "nbformat_minor": 5
}
