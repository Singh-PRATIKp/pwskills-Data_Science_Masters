{
 "cells": [
  {
   "cell_type": "markdown",
   "id": "bc02249d-4575-4b4e-be2d-b7e0baede6c7",
   "metadata": {},
   "source": [
    "`Q1. Create a list in python using the followings: 2,3,4,5,6,7 with variable ‘a’\n",
    "Add ‘mango to the above list\n",
    "Also add banana, grapes & orange in the list\n",
    "insert apple in the 5th position of a variable ‘a’\n",
    "Remove last item from the list`"
   ]
  },
  {
   "cell_type": "code",
   "execution_count": 5,
   "id": "ba5ae3dd-5831-41f7-8767-9cf8d77fd318",
   "metadata": {},
   "outputs": [
    {
     "data": {
      "text/plain": [
       "[2, 3, 4, 5, 'apple', 7, 'mango', 'banana', 'grapes']"
      ]
     },
     "execution_count": 5,
     "metadata": {},
     "output_type": "execute_result"
    }
   ],
   "source": [
    "a = [2,3,4,5,6,7]\n",
    "a.append(\"mango\")\n",
    "a.extend([\"banana\",\"grapes\",\"orange\"])\n",
    "a[4] = \"apple\"\n",
    "a.pop()\n",
    "a"
   ]
  },
  {
   "cell_type": "markdown",
   "id": "35d38abd-0332-44e9-8781-ccd68f263c8c",
   "metadata": {},
   "source": [
    "`Q2.\n",
    "L = [1,2,3,4,5,6,7]\n",
    "Using the above list slice from 1:4`"
   ]
  },
  {
   "cell_type": "code",
   "execution_count": 6,
   "id": "79d7166e-4aab-4433-bd61-8eab0d98da19",
   "metadata": {},
   "outputs": [
    {
     "data": {
      "text/plain": [
       "[2, 3, 4]"
      ]
     },
     "execution_count": 6,
     "metadata": {},
     "output_type": "execute_result"
    }
   ],
   "source": [
    "L = [1,2,3,4,5,6,7]\n",
    "L[1:4]"
   ]
  },
  {
   "cell_type": "markdown",
   "id": "14004dfc-18a8-4a82-89f6-9fa6b6361ced",
   "metadata": {},
   "source": [
    "`Q3. Reverse the order of given string L = [4,5,6,8,3] Without using reverse() function.`"
   ]
  },
  {
   "cell_type": "code",
   "execution_count": 7,
   "id": "4ecc136d-40b9-4b9d-b832-22d07514f3e4",
   "metadata": {},
   "outputs": [
    {
     "data": {
      "text/plain": [
       "[3, 8, 6, 5, 4]"
      ]
     },
     "execution_count": 7,
     "metadata": {},
     "output_type": "execute_result"
    }
   ],
   "source": [
    "L = [4,5,6,8,3]\n",
    "L[::-1]"
   ]
  },
  {
   "cell_type": "markdown",
   "id": "dd2b7f81-ff2c-445e-b257-46b853d2daa2",
   "metadata": {},
   "source": [
    "`Q4. Use list comprehension to square the given list L=[2,4,7,3,6,8]`"
   ]
  },
  {
   "cell_type": "code",
   "execution_count": 8,
   "id": "faf4cd1d-9fba-43a4-bb07-6fd030d8d0cd",
   "metadata": {},
   "outputs": [
    {
     "data": {
      "text/plain": [
       "[4, 16, 49, 9, 36, 64]"
      ]
     },
     "execution_count": 8,
     "metadata": {},
     "output_type": "execute_result"
    }
   ],
   "source": [
    "L=[2,4,7,3,6,8]\n",
    "[x**2 for x in L]"
   ]
  },
  {
   "cell_type": "markdown",
   "id": "43be7ea4-e042-4968-abc4-da915b452af1",
   "metadata": {},
   "source": [
    "`Q5. Create a function that takes in a tuple of integers and returns the sum of the integers. Test the\n",
    "function with a tuple of your choice.`"
   ]
  },
  {
   "cell_type": "code",
   "execution_count": 31,
   "id": "663a3184-5138-4d45-b617-f8b8f02e33e2",
   "metadata": {},
   "outputs": [
    {
     "data": {
      "text/plain": [
       "6"
      ]
     },
     "execution_count": 31,
     "metadata": {},
     "output_type": "execute_result"
    }
   ],
   "source": [
    "def int_sum(a):\n",
    "    '''takes a tuple a containing integers and returns its sum\n",
    "    '''\n",
    "    try:\n",
    "        if type(a) == tuple:\n",
    "            return sum(a)\n",
    "        else:\n",
    "            raise TypeError(\"please provide a tuple with integers\")\n",
    "    except (NameError,TypeError) as e:\n",
    "        print(e)\n",
    "int_sum((1,2,3))"
   ]
  },
  {
   "cell_type": "markdown",
   "id": "957b34c6-54a5-4186-a4f3-f8d54daea5df",
   "metadata": {},
   "source": [
    "`Q6. Create two sets of your favourite fruits, and use the union() method to combine them into a single set.\n",
    "Print the resulting set to the console.`"
   ]
  },
  {
   "cell_type": "code",
   "execution_count": 33,
   "id": "92591ef7-70ee-4177-a06f-b5022d0f9afd",
   "metadata": {},
   "outputs": [
    {
     "name": "stdout",
     "output_type": "stream",
     "text": [
      "{'grapes', 'orange', 'apple', 'mango', 'pineapple', 'strawberry', 'banana'}\n"
     ]
    }
   ],
   "source": [
    "a = {\"apple\",\"banana\",\"orange\",\"mango\"}\n",
    "b = {\"grapes\",\"orange\",\"pineapple\",\"strawberry\"}\n",
    "print(a.union(b))"
   ]
  },
  {
   "cell_type": "markdown",
   "id": "cce3d246-fc77-4c6e-8ec4-b09c88566a74",
   "metadata": {},
   "source": [
    "`Q7. Create a set of random words, and use the add() method to add a new word to the set. Print the\n",
    "resulting set to the console.`"
   ]
  },
  {
   "cell_type": "code",
   "execution_count": 38,
   "id": "408a6257-f53f-42e1-a8e7-f96d942c109b",
   "metadata": {},
   "outputs": [
    {
     "name": "stdout",
     "output_type": "stream",
     "text": [
      "{'random', 'this', 'is', 'set', 'a', 'new'}\n"
     ]
    }
   ],
   "source": [
    "a = {\"this\",\"is\",\"a\",\"random\",\"set\"}\n",
    "a.add(\"new\")\n",
    "print(a)"
   ]
  },
  {
   "cell_type": "markdown",
   "id": "c03f8927-6d82-44df-bb5d-23024662814d",
   "metadata": {},
   "source": [
    "`Q8. Create a set of your favourite animals, and use the remove() method to remove one animal from the\n",
    "set. Print the resulting set to the console.`"
   ]
  },
  {
   "cell_type": "code",
   "execution_count": 39,
   "id": "145f35f7-1274-4989-ad14-6f6657180661",
   "metadata": {},
   "outputs": [
    {
     "name": "stdout",
     "output_type": "stream",
     "text": [
      "{'geese', 'cat', 'fish'}\n"
     ]
    }
   ],
   "source": [
    "animals = {\"dog\",\"cat\",\"fish\",\"geese\"}\n",
    "animals.remove(\"dog\")\n",
    "print(animals)"
   ]
  },
  {
   "cell_type": "markdown",
   "id": "b9e72316-3b32-46d1-8ff5-7846ad40b45b",
   "metadata": {},
   "source": [
    "`Q9. favorite_books = {\"1984\", \"To Kill a Mockingbird\", \"Pride and Prejudice\"}\n",
    "favorite_movies = [\"The Shawshank Redemption\", \"The Godfather\", \"The Dark Knight\"]\n",
    "Use the zip() function to combine the book set and movie list into a list of tuples representing book/\n",
    "movie pairs. Print the resulting list.`"
   ]
  },
  {
   "cell_type": "code",
   "execution_count": 42,
   "id": "47d9c092-6145-434a-8d1c-18e73c5c2aa6",
   "metadata": {},
   "outputs": [
    {
     "name": "stdout",
     "output_type": "stream",
     "text": [
      "[('To Kill a Mockingbird', 'The Shawshank Redemption'), ('1984', 'The Godfather'), ('Pride and Prejudice', 'The Dark Knight')]\n"
     ]
    }
   ],
   "source": [
    "favorite_books = {\"1984\", \"To Kill a Mockingbird\", \"Pride and Prejudice\"}\n",
    "favorite_movies = [\"The Shawshank Redemption\", \"The Godfather\", \"The Dark Knight\"]\n",
    "print(list(zip(favorite_books,favorite_movies)))"
   ]
  },
  {
   "cell_type": "markdown",
   "id": "55800b0d-5069-478c-9b60-cdb6993c4e34",
   "metadata": {},
   "source": [
    "`Q10. Write a Python program to find the difference between consecutive numbers in a list.`"
   ]
  },
  {
   "cell_type": "code",
   "execution_count": 21,
   "id": "63f42789-e430-48c5-a96a-e38bb73e2f52",
   "metadata": {},
   "outputs": [
    {
     "data": {
      "text/plain": [
       "[1, 1, 1, 1, 1, 1]"
      ]
     },
     "execution_count": 21,
     "metadata": {},
     "output_type": "execute_result"
    }
   ],
   "source": [
    "def difference(l):\n",
    "    '''takes a list l and finds the difference between its consequetive numbers\n",
    "    '''\n",
    "    try:\n",
    "        if type(l) == list:\n",
    "            result = []\n",
    "            for i in range(1,len(l)):\n",
    "                diff = l[i] - l[i-1]\n",
    "                result.append(diff)\n",
    "            return result\n",
    "        else:\n",
    "            raise TypeError(\"Please enter a valid list\")\n",
    "    except (TypeError) as e:\n",
    "        print(e)\n",
    "l = [2,3,4,5,6,7,8]\n",
    "difference(l)"
   ]
  }
 ],
 "metadata": {
  "kernelspec": {
   "display_name": "Python 3 (ipykernel)",
   "language": "python",
   "name": "python3"
  },
  "language_info": {
   "codemirror_mode": {
    "name": "ipython",
    "version": 3
   },
   "file_extension": ".py",
   "mimetype": "text/x-python",
   "name": "python",
   "nbconvert_exporter": "python",
   "pygments_lexer": "ipython3",
   "version": "3.9.16"
  }
 },
 "nbformat": 4,
 "nbformat_minor": 5
}
