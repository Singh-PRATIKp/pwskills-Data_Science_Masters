{
 "cells": [
  {
   "cell_type": "markdown",
   "id": "e58cee50",
   "metadata": {},
   "source": [
    "# **`Python Practice Set 5`**"
   ]
  },
  {
   "cell_type": "markdown",
   "id": "f5e83d0b",
   "metadata": {},
   "source": [
    "`Q1. Write a program that prints the first 10 even numbers using a for loop.`"
   ]
  },
  {
   "cell_type": "code",
   "execution_count": 2,
   "id": "73caf817",
   "metadata": {},
   "outputs": [
    {
     "name": "stdout",
     "output_type": "stream",
     "text": [
      "2\n",
      "4\n",
      "6\n",
      "8\n",
      "10\n",
      "12\n",
      "14\n",
      "16\n",
      "18\n",
      "20\n"
     ]
    }
   ],
   "source": [
    "for i in range(1,21):\n",
    "    if i%2==0:\n",
    "        print(i)"
   ]
  },
  {
   "cell_type": "markdown",
   "id": "4a05efa8",
   "metadata": {},
   "source": [
    "`Q2. Write a program that takes a list of strings and prints out each string in reverse order using a for loop.`"
   ]
  },
  {
   "cell_type": "code",
   "execution_count": 3,
   "id": "6a286dcc",
   "metadata": {},
   "outputs": [
    {
     "name": "stdout",
     "output_type": "stream",
     "text": [
      "bal\n",
      "sllikswp\n",
      "norueni\n",
      "atad\n",
      "ecneics\n",
      "sretsam\n"
     ]
    }
   ],
   "source": [
    "s = [\"lab\",\"pwskills\",\"ineuron\",\"data\",\"science\",\"masters\"]\n",
    "for i in s:\n",
    "    print(i[::-1])"
   ]
  },
  {
   "cell_type": "markdown",
   "id": "d5aba832",
   "metadata": {},
   "source": [
    "`Q3. Write a program that prints the multiplication table of a given number using a for loop.`"
   ]
  },
  {
   "cell_type": "code",
   "execution_count": 5,
   "id": "ac09b4c0",
   "metadata": {},
   "outputs": [
    {
     "name": "stdout",
     "output_type": "stream",
     "text": [
      "2 x 1 = 2\n",
      "2 x 2 = 4\n",
      "2 x 3 = 6\n",
      "2 x 4 = 8\n",
      "2 x 5 = 10\n",
      "2 x 6 = 12\n",
      "2 x 7 = 14\n",
      "2 x 8 = 16\n",
      "2 x 9 = 18\n",
      "2 x 10 = 20\n"
     ]
    }
   ],
   "source": [
    "def tables(x):\n",
    "    \"\"\"prints the multiplication table for x till 1o\n",
    "    \"\"\"\n",
    "    for i in range(1,11):\n",
    "        print(f\"{x} x {i} = {x*i}\")\n",
    "tables(2)"
   ]
  },
  {
   "cell_type": "markdown",
   "id": "f549768d",
   "metadata": {},
   "source": [
    "`Q4. Write a program that takes a list of integers as input and returns the sum of all the numbers in the list\n",
    "using a for loop.`"
   ]
  },
  {
   "cell_type": "code",
   "execution_count": 7,
   "id": "05fd95e4",
   "metadata": {},
   "outputs": [
    {
     "name": "stdout",
     "output_type": "stream",
     "text": [
      "The sum is 55\n"
     ]
    }
   ],
   "source": [
    "l = [i for i in range(1,11)]\n",
    "sum = 0\n",
    "for i in l:\n",
    "    sum+=i\n",
    "print(\"The sum is\",sum)"
   ]
  },
  {
   "cell_type": "markdown",
   "id": "6addd242",
   "metadata": {},
   "source": [
    "`Q5. Write a program that prompts the user for a positive integer and then prints out all the prime\n",
    "numbers up to that number using a for loop.`"
   ]
  },
  {
   "cell_type": "code",
   "execution_count": 38,
   "id": "c409a02c",
   "metadata": {},
   "outputs": [
    {
     "name": "stdout",
     "output_type": "stream",
     "text": [
      "Enter a positive prime number: 22\n",
      "2\n",
      "3\n",
      "5\n",
      "7\n",
      "11\n",
      "13\n",
      "17\n",
      "19\n"
     ]
    }
   ],
   "source": [
    "def prime():\n",
    "    \"\"\"takes a postive integer x and prints all the prime numbers till x\n",
    "    \"\"\"\n",
    "    import math\n",
    "    while True:\n",
    "        x = int(input(\"Enter a positive prime number: \"))\n",
    "        if x<0:\n",
    "            try:\n",
    "                raise ValueError(\"please enter a positive integer\")\n",
    "            except ValueError as e:\n",
    "                print(e)\n",
    "        else:\n",
    "            break\n",
    "    for i in range(2,x+1):\n",
    "        for k in range(2,i):\n",
    "            if i%k == 0:\n",
    "                break\n",
    "        else:\n",
    "            print(i)\n",
    "prime()"
   ]
  },
  {
   "cell_type": "markdown",
   "id": "6cd801d8",
   "metadata": {},
   "source": [
    "`Q6. Write a program that prompts the user to enter a password until the correct password is entered\n",
    "using a while loop.`"
   ]
  },
  {
   "cell_type": "code",
   "execution_count": 41,
   "id": "aacf9690",
   "metadata": {},
   "outputs": [
    {
     "name": "stdout",
     "output_type": "stream",
     "text": [
      "Enter your password: asd\n",
      "Please enter the correct password\n",
      "Enter your password: saads\n",
      "Please enter the correct password\n",
      "Enter your password: password\n",
      "password\n"
     ]
    }
   ],
   "source": [
    "password = \"password\"\n",
    "while True:\n",
    "        try:\n",
    "            x = input(\"Enter your password: \")\n",
    "            if x != password:\n",
    "                raise ValueError(\"Please enter the correct password\")\n",
    "            else:\n",
    "                break\n",
    "        except ValueError as e:\n",
    "            print(e)\n",
    "print(x)"
   ]
  },
  {
   "cell_type": "markdown",
   "id": "ed3350f8",
   "metadata": {},
   "source": [
    "`Q7. Write a program that takes a list of strings and prints out each string in reverse order using a while\n",
    "loop.`"
   ]
  },
  {
   "cell_type": "code",
   "execution_count": 44,
   "id": "dad41b23",
   "metadata": {},
   "outputs": [
    {
     "name": "stdout",
     "output_type": "stream",
     "text": [
      "sretsam\n",
      "ecneics\n",
      "atad\n",
      "norueni\n",
      "sllikswp\n",
      "bal\n"
     ]
    }
   ],
   "source": [
    "s = [\"lab\",\"pwskills\",\"ineuron\",\"data\",\"science\",\"masters\"]\n",
    "n = len(s)\n",
    "while n:\n",
    "    print(s[n-1][::-1])\n",
    "    n-=1"
   ]
  },
  {
   "cell_type": "markdown",
   "id": "e2280ef1",
   "metadata": {},
   "source": [
    "`Q8. Write a program that prompts the user to enter a positive integer and then prints out all the Fibonacci\n",
    "numbers up to that number using a while loop.`"
   ]
  },
  {
   "cell_type": "code",
   "execution_count": 54,
   "id": "fbe6575d",
   "metadata": {},
   "outputs": [
    {
     "name": "stdout",
     "output_type": "stream",
     "text": [
      "Enter a positive prime number: 23\n",
      "0\n",
      "1\n",
      "1\n",
      "2\n",
      "3\n",
      "5\n",
      "8\n",
      "13\n",
      "21\n",
      "34\n",
      "55\n",
      "89\n",
      "144\n",
      "233\n",
      "377\n",
      "610\n",
      "987\n",
      "1597\n",
      "2584\n",
      "4181\n",
      "6765\n",
      "10946\n",
      "17711\n"
     ]
    }
   ],
   "source": [
    "def fibonaci():\n",
    "    \"\"\"prints a fibonaci sequence for x a postive integer\n",
    "    \"\"\"\n",
    "    while True:\n",
    "        x = int(input(\"Enter a positive prime number: \"))\n",
    "        if x<0:\n",
    "            try:\n",
    "                raise ValueError(\"please enter a positive integer\")\n",
    "            except ValueError as e:\n",
    "                print(e)\n",
    "        else:\n",
    "            break\n",
    "    a = 0\n",
    "    b = 1\n",
    "    i = 0\n",
    "    while i<x:\n",
    "        print(a)\n",
    "        a,b = b,b+a\n",
    "        i+=1\n",
    "fibonaci()"
   ]
  },
  {
   "cell_type": "markdown",
   "id": "039394e4",
   "metadata": {},
   "source": [
    "`Q9. Write a program that takes a list of integers as input and returns the product of all the numbers in the\n",
    "list using a while loop.`"
   ]
  },
  {
   "cell_type": "code",
   "execution_count": 58,
   "id": "9e630440",
   "metadata": {},
   "outputs": [
    {
     "name": "stdout",
     "output_type": "stream",
     "text": [
      "The product is 120\n"
     ]
    }
   ],
   "source": [
    "l = [i for i in range(1,6)]\n",
    "p = 1\n",
    "i = len(l)\n",
    "while i:\n",
    "    p*=l[i-1]\n",
    "    i-=1\n",
    "print(\"The product is\",p)"
   ]
  },
  {
   "cell_type": "markdown",
   "id": "23d72617",
   "metadata": {},
   "source": [
    "`Q10. Write a program that prompts the user to enter a positive integer and then prints out the factorial of\n",
    "that number using a while loop.`"
   ]
  },
  {
   "cell_type": "code",
   "execution_count": 67,
   "id": "df4f5b2f",
   "metadata": {},
   "outputs": [
    {
     "name": "stdout",
     "output_type": "stream",
     "text": [
      "Enter a positive prime number: 5\n",
      "The factorial is 120\n"
     ]
    }
   ],
   "source": [
    "def factorial():\n",
    "    \"\"\"prints factorial of a positive integer x\n",
    "    \"\"\"\n",
    "    while True:\n",
    "        x = int(input(\"Enter a positive prime number: \"))\n",
    "        if x<0:\n",
    "            try:\n",
    "                raise ValueError(\"please enter a positive integer\")\n",
    "            except ValueError as e:\n",
    "                print(e)\n",
    "        else:\n",
    "            break\n",
    "    p = 1\n",
    "    i = 1\n",
    "    while i<=x:\n",
    "        p*=i\n",
    "        i+=1\n",
    "    print(\"The factorial is\",p)\n",
    "factorial()"
   ]
  }
 ],
 "metadata": {
  "kernelspec": {
   "display_name": "Python 3 (ipykernel)",
   "language": "python",
   "name": "python3"
  },
  "language_info": {
   "codemirror_mode": {
    "name": "ipython",
    "version": 3
   },
   "file_extension": ".py",
   "mimetype": "text/x-python",
   "name": "python",
   "nbconvert_exporter": "python",
   "pygments_lexer": "ipython3",
   "version": "3.9.16"
  }
 },
 "nbformat": 4,
 "nbformat_minor": 5
}
