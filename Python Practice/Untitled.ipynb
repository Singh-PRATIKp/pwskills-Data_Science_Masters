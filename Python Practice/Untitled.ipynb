{
 "cells": [
  {
   "cell_type": "code",
   "execution_count": 1,
   "id": "15d33bfe",
   "metadata": {},
   "outputs": [
    {
     "name": "stdout",
     "output_type": "stream",
     "text": [
      "{} <class 'dict'>\n"
     ]
    }
   ],
   "source": [
    "s={}\n",
    "print(s,type(s))"
   ]
  },
  {
   "cell_type": "code",
   "execution_count": 2,
   "id": "dc3b1c56",
   "metadata": {},
   "outputs": [
    {
     "name": "stdout",
     "output_type": "stream",
     "text": [
      "set() <class 'set'>\n"
     ]
    }
   ],
   "source": [
    "s=set(())\n",
    "print(s,type(s))"
   ]
  },
  {
   "cell_type": "code",
   "execution_count": 3,
   "id": "9a0e8003",
   "metadata": {},
   "outputs": [
    {
     "name": "stdout",
     "output_type": "stream",
     "text": [
      "{1, 2, 3, 4} <class 'set'>\n"
     ]
    }
   ],
   "source": [
    "s={1,2,3,4}\n",
    "print(s,type(s))"
   ]
  },
  {
   "cell_type": "code",
   "execution_count": 36,
   "id": "6c73a81e",
   "metadata": {},
   "outputs": [
    {
     "name": "stdout",
     "output_type": "stream",
     "text": [
      "{True, 'hello', (2, 3, 45, 2), 87} <class 'set'>\n"
     ]
    }
   ],
   "source": [
    "s={True,(2,3,45,2),\"hello\",87}\n",
    "print(s,type(s))"
   ]
  },
  {
   "cell_type": "code",
   "execution_count": 5,
   "id": "a5538cbe",
   "metadata": {},
   "outputs": [
    {
     "ename": "TypeError",
     "evalue": "unhashable type: 'set'",
     "output_type": "error",
     "traceback": [
      "\u001b[1;31m---------------------------------------------------------------------------\u001b[0m",
      "\u001b[1;31mTypeError\u001b[0m                                 Traceback (most recent call last)",
      "\u001b[1;32m<ipython-input-5-7834b86ef607>\u001b[0m in \u001b[0;36m<module>\u001b[1;34m\u001b[0m\n\u001b[1;32m----> 1\u001b[1;33m \u001b[0ms\u001b[0m\u001b[1;33m=\u001b[0m\u001b[1;33m{\u001b[0m\u001b[1;36m4\u001b[0m\u001b[1;33m,\u001b[0m\u001b[1;36m5\u001b[0m\u001b[1;33m,\u001b[0m\u001b[1;36m6\u001b[0m\u001b[1;33m,\u001b[0m\u001b[1;33m{\u001b[0m\u001b[1;36m3\u001b[0m\u001b[1;33m,\u001b[0m\u001b[1;36m6\u001b[0m\u001b[1;33m,\u001b[0m\u001b[1;36m4\u001b[0m\u001b[1;33m}\u001b[0m\u001b[1;33m}\u001b[0m\u001b[1;33m\u001b[0m\u001b[1;33m\u001b[0m\u001b[0m\n\u001b[0m\u001b[0;32m      2\u001b[0m \u001b[0mprint\u001b[0m\u001b[1;33m(\u001b[0m\u001b[0ms\u001b[0m\u001b[1;33m,\u001b[0m\u001b[0mtype\u001b[0m\u001b[1;33m(\u001b[0m\u001b[0ms\u001b[0m\u001b[1;33m)\u001b[0m\u001b[1;33m)\u001b[0m\u001b[1;33m\u001b[0m\u001b[1;33m\u001b[0m\u001b[0m\n",
      "\u001b[1;31mTypeError\u001b[0m: unhashable type: 'set'"
     ]
    }
   ],
   "source": [
    "s={4,5,6,{3,6,4}}\n",
    "print(s,type(s))"
   ]
  },
  {
   "cell_type": "code",
   "execution_count": 33,
   "id": "d8aa5577",
   "metadata": {},
   "outputs": [
    {
     "ename": "TypeError",
     "evalue": "unhashable type: 'list'",
     "output_type": "error",
     "traceback": [
      "\u001b[1;31m---------------------------------------------------------------------------\u001b[0m",
      "\u001b[1;31mTypeError\u001b[0m                                 Traceback (most recent call last)",
      "\u001b[1;32m<ipython-input-33-874fd53d7e80>\u001b[0m in \u001b[0;36m<module>\u001b[1;34m\u001b[0m\n\u001b[1;32m----> 1\u001b[1;33m \u001b[0ms\u001b[0m\u001b[1;33m=\u001b[0m\u001b[1;33m{\u001b[0m\u001b[1;36m3\u001b[0m\u001b[1;33m,\u001b[0m\u001b[1;36m4\u001b[0m\u001b[1;33m,\u001b[0m\u001b[1;36m5\u001b[0m\u001b[1;33m,\u001b[0m\u001b[1;33m[\u001b[0m\u001b[1;36m5\u001b[0m\u001b[1;33m,\u001b[0m\u001b[1;36m7\u001b[0m\u001b[1;33m,\u001b[0m\u001b[1;36m3\u001b[0m\u001b[1;33m]\u001b[0m\u001b[1;33m}\u001b[0m\u001b[1;33m\u001b[0m\u001b[1;33m\u001b[0m\u001b[0m\n\u001b[0m\u001b[0;32m      2\u001b[0m \u001b[0mprint\u001b[0m\u001b[1;33m(\u001b[0m\u001b[0ms\u001b[0m\u001b[1;33m,\u001b[0m\u001b[0mtype\u001b[0m\u001b[1;33m(\u001b[0m\u001b[0ms\u001b[0m\u001b[1;33m)\u001b[0m\u001b[1;33m)\u001b[0m\u001b[1;33m\u001b[0m\u001b[1;33m\u001b[0m\u001b[0m\n",
      "\u001b[1;31mTypeError\u001b[0m: unhashable type: 'list'"
     ]
    }
   ],
   "source": [
    "s={3,4,5,[5,7,3]}\n",
    "print(s,type(s))"
   ]
  },
  {
   "cell_type": "code",
   "execution_count": 7,
   "id": "bb4e522a",
   "metadata": {},
   "outputs": [
    {
     "data": {
      "text/plain": [
       "True"
      ]
     },
     "execution_count": 7,
     "metadata": {},
     "output_type": "execute_result"
    }
   ],
   "source": [
    "s1={1,2,3}\n",
    "s2={3,1,2}\n",
    "s1==s2"
   ]
  },
  {
   "cell_type": "code",
   "execution_count": 11,
   "id": "d48ae076",
   "metadata": {},
   "outputs": [
    {
     "ename": "TypeError",
     "evalue": "'set' object does not support item assignment",
     "output_type": "error",
     "traceback": [
      "\u001b[1;31m---------------------------------------------------------------------------\u001b[0m",
      "\u001b[1;31mTypeError\u001b[0m                                 Traceback (most recent call last)",
      "\u001b[1;32m<ipython-input-11-8772cd37d6ed>\u001b[0m in \u001b[0;36m<module>\u001b[1;34m\u001b[0m\n\u001b[1;32m----> 1\u001b[1;33m \u001b[0ms\u001b[0m\u001b[1;33m[\u001b[0m\u001b[1;36m2\u001b[0m\u001b[1;33m]\u001b[0m\u001b[1;33m=\u001b[0m\u001b[1;33m{\u001b[0m\u001b[1;36m5\u001b[0m\u001b[1;33m}\u001b[0m\u001b[1;33m\u001b[0m\u001b[1;33m\u001b[0m\u001b[0m\n\u001b[0m",
      "\u001b[1;31mTypeError\u001b[0m: 'set' object does not support item assignment"
     ]
    }
   ],
   "source": [
    "s[2]={5}"
   ]
  },
  {
   "cell_type": "code",
   "execution_count": 13,
   "id": "0ea8df2b",
   "metadata": {},
   "outputs": [
    {
     "name": "stdout",
     "output_type": "stream",
     "text": [
      "True hello (2, 3, 45, 2) 87 "
     ]
    }
   ],
   "source": [
    "for i in s:\n",
    "    print(i,end=\" \")"
   ]
  },
  {
   "cell_type": "code",
   "execution_count": 14,
   "id": "aad85e4f",
   "metadata": {},
   "outputs": [],
   "source": [
    "s={2,3,4}"
   ]
  },
  {
   "cell_type": "code",
   "execution_count": 15,
   "id": "98936484",
   "metadata": {},
   "outputs": [
    {
     "name": "stdout",
     "output_type": "stream",
     "text": [
      "{2, 3, 4, 6}\n"
     ]
    }
   ],
   "source": [
    "s.add(6)\n",
    "print(s)"
   ]
  },
  {
   "cell_type": "code",
   "execution_count": 20,
   "id": "6bdf4d2a",
   "metadata": {},
   "outputs": [
    {
     "name": "stdout",
     "output_type": "stream",
     "text": [
      "{2, 3, 4, 6, 9, 'Hello', (9, 7, 8)}\n"
     ]
    }
   ],
   "source": [
    "s.add(\"Hello\")\n",
    "print(s)"
   ]
  },
  {
   "cell_type": "code",
   "execution_count": 21,
   "id": "675d55ea",
   "metadata": {},
   "outputs": [
    {
     "name": "stdout",
     "output_type": "stream",
     "text": [
      "{1, 2, 3, 4, 6, 9, 'Hello', (9, 7, 8)}\n"
     ]
    }
   ],
   "source": [
    "s.update([1,2,3])\n",
    "print(s)"
   ]
  },
  {
   "cell_type": "code",
   "execution_count": 25,
   "id": "3d8d1a17",
   "metadata": {},
   "outputs": [],
   "source": [
    "a=[True,\"Pratik\",type,78]\n",
    "b=(9,8,7)\n",
    "c={23,(45,64),\"singh\"}"
   ]
  },
  {
   "cell_type": "code",
   "execution_count": 26,
   "id": "e258976f",
   "metadata": {},
   "outputs": [],
   "source": [
    "s.update(a)\n",
    "s.update(b)\n",
    "s.update(c)"
   ]
  },
  {
   "cell_type": "code",
   "execution_count": 27,
   "id": "36efeb32",
   "metadata": {},
   "outputs": [
    {
     "name": "stdout",
     "output_type": "stream",
     "text": [
      "{1, 2, 3, 4, <class 'type'>, 6, 'Pratik', 8, 9, 7, 'singh', 78, (45, 64), 'Hello', 23, (9, 7, 8)}\n"
     ]
    }
   ],
   "source": [
    "print(s)"
   ]
  },
  {
   "cell_type": "code",
   "execution_count": 29,
   "id": "2c871bf2",
   "metadata": {},
   "outputs": [
    {
     "name": "stdout",
     "output_type": "stream",
     "text": [
      "{1, 2, 3, 4, <class 'type'>, 6, 'Pratik', 8, 9, 7, 'singh', 78, (45, 64), 'Hello', 23, (9, 7, 8)}\n"
     ]
    }
   ],
   "source": [
    "print(s)"
   ]
  },
  {
   "cell_type": "code",
   "execution_count": 31,
   "id": "8e868d5a",
   "metadata": {},
   "outputs": [],
   "source": [
    "del s"
   ]
  },
  {
   "cell_type": "code",
   "execution_count": 32,
   "id": "c914fbf4",
   "metadata": {},
   "outputs": [
    {
     "ename": "NameError",
     "evalue": "name 's' is not defined",
     "output_type": "error",
     "traceback": [
      "\u001b[1;31m---------------------------------------------------------------------------\u001b[0m",
      "\u001b[1;31mNameError\u001b[0m                                 Traceback (most recent call last)",
      "\u001b[1;32m<ipython-input-32-ded5ba42480f>\u001b[0m in \u001b[0;36m<module>\u001b[1;34m\u001b[0m\n\u001b[1;32m----> 1\u001b[1;33m \u001b[0ms\u001b[0m\u001b[1;33m\u001b[0m\u001b[1;33m\u001b[0m\u001b[0m\n\u001b[0m",
      "\u001b[1;31mNameError\u001b[0m: name 's' is not defined"
     ]
    }
   ],
   "source": [
    "s"
   ]
  },
  {
   "cell_type": "code",
   "execution_count": 34,
   "id": "a79fbca5",
   "metadata": {},
   "outputs": [
    {
     "ename": "NameError",
     "evalue": "name 's' is not defined",
     "output_type": "error",
     "traceback": [
      "\u001b[1;31m---------------------------------------------------------------------------\u001b[0m",
      "\u001b[1;31mNameError\u001b[0m                                 Traceback (most recent call last)",
      "\u001b[1;32m<ipython-input-34-ded5ba42480f>\u001b[0m in \u001b[0;36m<module>\u001b[1;34m\u001b[0m\n\u001b[1;32m----> 1\u001b[1;33m \u001b[0ms\u001b[0m\u001b[1;33m\u001b[0m\u001b[1;33m\u001b[0m\u001b[0m\n\u001b[0m",
      "\u001b[1;31mNameError\u001b[0m: name 's' is not defined"
     ]
    }
   ],
   "source": [
    "s"
   ]
  },
  {
   "cell_type": "code",
   "execution_count": 35,
   "id": "cf3f5fe6",
   "metadata": {},
   "outputs": [
    {
     "ename": "NameError",
     "evalue": "name 's' is not defined",
     "output_type": "error",
     "traceback": [
      "\u001b[1;31m---------------------------------------------------------------------------\u001b[0m",
      "\u001b[1;31mNameError\u001b[0m                                 Traceback (most recent call last)",
      "\u001b[1;32m<ipython-input-35-ded5ba42480f>\u001b[0m in \u001b[0;36m<module>\u001b[1;34m\u001b[0m\n\u001b[1;32m----> 1\u001b[1;33m \u001b[0ms\u001b[0m\u001b[1;33m\u001b[0m\u001b[1;33m\u001b[0m\u001b[0m\n\u001b[0m",
      "\u001b[1;31mNameError\u001b[0m: name 's' is not defined"
     ]
    }
   ],
   "source": [
    "s"
   ]
  },
  {
   "cell_type": "code",
   "execution_count": 37,
   "id": "b967dfe3",
   "metadata": {},
   "outputs": [
    {
     "data": {
      "text/plain": [
       "{(2, 3, 45, 2), 87, True, 'hello'}"
      ]
     },
     "execution_count": 37,
     "metadata": {},
     "output_type": "execute_result"
    }
   ],
   "source": [
    "s"
   ]
  },
  {
   "cell_type": "code",
   "execution_count": 38,
   "id": "ace7cec8",
   "metadata": {},
   "outputs": [
    {
     "name": "stdout",
     "output_type": "stream",
     "text": [
      "{True, 'hello', (2, 3, 45, 2)}\n"
     ]
    }
   ],
   "source": [
    "s.discard(87)\n",
    "print(s)"
   ]
  },
  {
   "cell_type": "code",
   "execution_count": 39,
   "id": "bbd4273b",
   "metadata": {},
   "outputs": [
    {
     "name": "stdout",
     "output_type": "stream",
     "text": [
      "{True, 'hello', (2, 3, 45, 2)}\n"
     ]
    }
   ],
   "source": [
    "s.discard(2)\n",
    "print(s)"
   ]
  },
  {
   "cell_type": "code",
   "execution_count": 40,
   "id": "2bcdbc51",
   "metadata": {},
   "outputs": [
    {
     "name": "stdout",
     "output_type": "stream",
     "text": [
      "{True, (2, 3, 45, 2)}\n"
     ]
    }
   ],
   "source": [
    "s.remove(\"hello\")\n",
    "print(s)"
   ]
  },
  {
   "cell_type": "code",
   "execution_count": 41,
   "id": "0a5165fa",
   "metadata": {},
   "outputs": [
    {
     "ename": "KeyError",
     "evalue": "'fdd'",
     "output_type": "error",
     "traceback": [
      "\u001b[1;31m---------------------------------------------------------------------------\u001b[0m",
      "\u001b[1;31mKeyError\u001b[0m                                  Traceback (most recent call last)",
      "\u001b[1;32m<ipython-input-41-d446ac6ecf5c>\u001b[0m in \u001b[0;36m<module>\u001b[1;34m\u001b[0m\n\u001b[1;32m----> 1\u001b[1;33m \u001b[0ms\u001b[0m\u001b[1;33m.\u001b[0m\u001b[0mremove\u001b[0m\u001b[1;33m(\u001b[0m\u001b[1;34m\"fdd\"\u001b[0m\u001b[1;33m)\u001b[0m\u001b[1;33m\u001b[0m\u001b[1;33m\u001b[0m\u001b[0m\n\u001b[0m\u001b[0;32m      2\u001b[0m \u001b[0mprint\u001b[0m\u001b[1;33m(\u001b[0m\u001b[0ms\u001b[0m\u001b[1;33m)\u001b[0m\u001b[1;33m\u001b[0m\u001b[1;33m\u001b[0m\u001b[0m\n",
      "\u001b[1;31mKeyError\u001b[0m: 'fdd'"
     ]
    }
   ],
   "source": [
    "s.remove(\"fdd\")\n",
    "print(s)"
   ]
  },
  {
   "cell_type": "code",
   "execution_count": 42,
   "id": "7e759404",
   "metadata": {},
   "outputs": [],
   "source": [
    "s={45,76,24,75,135}"
   ]
  },
  {
   "cell_type": "code",
   "execution_count": 46,
   "id": "578474a7",
   "metadata": {},
   "outputs": [
    {
     "data": {
      "text/plain": [
       "45"
      ]
     },
     "execution_count": 46,
     "metadata": {},
     "output_type": "execute_result"
    }
   ],
   "source": [
    "s.pop()"
   ]
  },
  {
   "cell_type": "code",
   "execution_count": 47,
   "id": "f1808b31",
   "metadata": {},
   "outputs": [],
   "source": [
    "s.clear()"
   ]
  },
  {
   "cell_type": "code",
   "execution_count": 48,
   "id": "709ceab3",
   "metadata": {},
   "outputs": [
    {
     "data": {
      "text/plain": [
       "set()"
      ]
     },
     "execution_count": 48,
     "metadata": {},
     "output_type": "execute_result"
    }
   ],
   "source": [
    "s"
   ]
  },
  {
   "cell_type": "code",
   "execution_count": 49,
   "id": "0972d625",
   "metadata": {},
   "outputs": [
    {
     "name": "stdout",
     "output_type": "stream",
     "text": [
      "[1, 2, 3, 4, 5, 6, 7, 8, 9]\n"
     ]
    }
   ],
   "source": [
    "lst = [[1, 2, 3], [4, 5], [6, 7, 8, 9]]\n",
    "temp = [num for sublist in lst for num in sublist]\n",
    "print(temp)"
   ]
  },
  {
   "cell_type": "code",
   "execution_count": 53,
   "id": "9a68e7a5",
   "metadata": {},
   "outputs": [
    {
     "name": "stdout",
     "output_type": "stream",
     "text": [
      "{1, 2, 3, 4, 5}\n",
      "{5, 6, 7, 8, 9}\n"
     ]
    }
   ],
   "source": [
    "s={1,2,3,4,5}\n",
    "t={9,8,7,6,5}\n",
    "print(s)\n",
    "print(t)"
   ]
  },
  {
   "cell_type": "code",
   "execution_count": 54,
   "id": "4d38cb06",
   "metadata": {},
   "outputs": [
    {
     "name": "stdout",
     "output_type": "stream",
     "text": [
      "{1, 2, 3, 4, 5, 6, 7, 8, 9}\n"
     ]
    }
   ],
   "source": [
    "print(s|t)"
   ]
  },
  {
   "cell_type": "code",
   "execution_count": 55,
   "id": "ff162260",
   "metadata": {},
   "outputs": [
    {
     "name": "stdout",
     "output_type": "stream",
     "text": [
      "{5}\n"
     ]
    }
   ],
   "source": [
    "print(s&t)"
   ]
  },
  {
   "cell_type": "code",
   "execution_count": 56,
   "id": "4044bc7f",
   "metadata": {},
   "outputs": [
    {
     "name": "stdout",
     "output_type": "stream",
     "text": [
      "{1, 2, 3, 4}\n"
     ]
    }
   ],
   "source": [
    "print(s-t)"
   ]
  },
  {
   "cell_type": "code",
   "execution_count": 57,
   "id": "936fc045",
   "metadata": {},
   "outputs": [
    {
     "name": "stdout",
     "output_type": "stream",
     "text": [
      "{8, 9, 6, 7}\n"
     ]
    }
   ],
   "source": [
    "print(t-s)"
   ]
  },
  {
   "cell_type": "code",
   "execution_count": 58,
   "id": "85cfc4b9",
   "metadata": {},
   "outputs": [
    {
     "name": "stdout",
     "output_type": "stream",
     "text": [
      "{1, 2, 3, 4, 6, 7, 8, 9}\n"
     ]
    }
   ],
   "source": [
    "print(s^t)"
   ]
  },
  {
   "cell_type": "code",
   "execution_count": 59,
   "id": "20802258",
   "metadata": {},
   "outputs": [
    {
     "data": {
      "text/plain": [
       "True"
      ]
     },
     "execution_count": 59,
     "metadata": {},
     "output_type": "execute_result"
    }
   ],
   "source": [
    "2 in s"
   ]
  },
  {
   "cell_type": "code",
   "execution_count": 60,
   "id": "c51be1e6",
   "metadata": {},
   "outputs": [
    {
     "data": {
      "text/plain": [
       "False"
      ]
     },
     "execution_count": 60,
     "metadata": {},
     "output_type": "execute_result"
    }
   ],
   "source": [
    "2 in t"
   ]
  },
  {
   "cell_type": "code",
   "execution_count": 61,
   "id": "d83a017e",
   "metadata": {},
   "outputs": [
    {
     "name": "stdout",
     "output_type": "stream",
     "text": [
      "1 2 3 4 5 "
     ]
    }
   ],
   "source": [
    "for i in s:\n",
    "    print(i,end=\" \")"
   ]
  },
  {
   "cell_type": "code",
   "execution_count": 63,
   "id": "6ea6069b",
   "metadata": {},
   "outputs": [
    {
     "data": {
      "text/plain": [
       "{1, 2, 3, 4, 5}"
      ]
     },
     "execution_count": 63,
     "metadata": {},
     "output_type": "execute_result"
    }
   ],
   "source": [
    "s"
   ]
  },
  {
   "cell_type": "code",
   "execution_count": 64,
   "id": "43f616e9",
   "metadata": {},
   "outputs": [
    {
     "name": "stdout",
     "output_type": "stream",
     "text": [
      "5\n",
      "15\n",
      "1\n",
      "5\n",
      "[1, 2, 3, 4, 5]\n",
      "[5, 4, 3, 2, 1]\n"
     ]
    }
   ],
   "source": [
    "print(len(s))\n",
    "print(sum(s))\n",
    "print(min(s))\n",
    "print(max(s))\n",
    "print(sorted(s))\n",
    "print(sorted(s,reverse=True))"
   ]
  },
  {
   "cell_type": "code",
   "execution_count": 65,
   "id": "d9b47130",
   "metadata": {},
   "outputs": [],
   "source": [
    "s=set(sorted(s))"
   ]
  },
  {
   "cell_type": "code",
   "execution_count": 66,
   "id": "95210272",
   "metadata": {},
   "outputs": [
    {
     "data": {
      "text/plain": [
       "{1, 2, 3, 4, 5}"
      ]
     },
     "execution_count": 66,
     "metadata": {},
     "output_type": "execute_result"
    }
   ],
   "source": [
    "s"
   ]
  },
  {
   "cell_type": "code",
   "execution_count": 68,
   "id": "d9e442ae",
   "metadata": {},
   "outputs": [
    {
     "name": "stdout",
     "output_type": "stream",
     "text": [
      "{1, 2, 3, 4, 5} 2949086209184\n",
      "{1, 2, 3, 4, 5} 2949086208064\n"
     ]
    }
   ],
   "source": [
    "s1=s.copy()\n",
    "print(s,id(s))\n",
    "print(s1,id(s1))"
   ]
  },
  {
   "cell_type": "code",
   "execution_count": 73,
   "id": "4d394852",
   "metadata": {},
   "outputs": [],
   "source": [
    "s1 = {1,2,3,4,5,6,7,8,9}\n",
    "s2 = {7,8,5,6}"
   ]
  },
  {
   "cell_type": "code",
   "execution_count": 74,
   "id": "321f52a4",
   "metadata": {},
   "outputs": [
    {
     "data": {
      "text/plain": [
       "False"
      ]
     },
     "execution_count": 74,
     "metadata": {},
     "output_type": "execute_result"
    }
   ],
   "source": [
    "s1.isdisjoint(s2)"
   ]
  },
  {
   "cell_type": "code",
   "execution_count": 75,
   "id": "7bf2ec99",
   "metadata": {},
   "outputs": [
    {
     "data": {
      "text/plain": [
       "False"
      ]
     },
     "execution_count": 75,
     "metadata": {},
     "output_type": "execute_result"
    }
   ],
   "source": [
    "s1.issubset(s2)"
   ]
  },
  {
   "cell_type": "code",
   "execution_count": 76,
   "id": "8508f920",
   "metadata": {},
   "outputs": [
    {
     "data": {
      "text/plain": [
       "True"
      ]
     },
     "execution_count": 76,
     "metadata": {},
     "output_type": "execute_result"
    }
   ],
   "source": [
    "s1.issuperset(s2)"
   ]
  },
  {
   "cell_type": "code",
   "execution_count": 77,
   "id": "158ab5b2",
   "metadata": {},
   "outputs": [
    {
     "data": {
      "text/plain": [
       "True"
      ]
     },
     "execution_count": 77,
     "metadata": {},
     "output_type": "execute_result"
    }
   ],
   "source": [
    "s2.issubset(s1)"
   ]
  },
  {
   "cell_type": "code",
   "execution_count": 78,
   "id": "5d9b4c03",
   "metadata": {},
   "outputs": [
    {
     "data": {
      "text/plain": [
       "True"
      ]
     },
     "execution_count": 78,
     "metadata": {},
     "output_type": "execute_result"
    }
   ],
   "source": [
    "s1.issuperset(s2)"
   ]
  },
  {
   "cell_type": "code",
   "execution_count": 91,
   "id": "578de1d3",
   "metadata": {},
   "outputs": [],
   "source": [
    "s1={1,2,3,4,5}\n",
    "s2={5,6,7,8,9}"
   ]
  },
  {
   "cell_type": "code",
   "execution_count": 80,
   "id": "5b27c9d0",
   "metadata": {},
   "outputs": [
    {
     "data": {
      "text/plain": [
       "{1, 2, 3, 4, 5, 6, 7, 8, 9}"
      ]
     },
     "execution_count": 80,
     "metadata": {},
     "output_type": "execute_result"
    }
   ],
   "source": [
    "s1.union(s2)"
   ]
  },
  {
   "cell_type": "code",
   "execution_count": 81,
   "id": "eb21c58a",
   "metadata": {},
   "outputs": [
    {
     "name": "stdout",
     "output_type": "stream",
     "text": [
      "{1, 2, 3, 4, 5}\n",
      "{5, 6, 7, 8, 9}\n"
     ]
    }
   ],
   "source": [
    "print(s1)\n",
    "print(s2)"
   ]
  },
  {
   "cell_type": "code",
   "execution_count": 82,
   "id": "c9a806b2",
   "metadata": {},
   "outputs": [
    {
     "name": "stdout",
     "output_type": "stream",
     "text": [
      "{1, 2, 3, 4, 5, 6, 7, 8, 9}\n",
      "{5, 6, 7, 8, 9}\n"
     ]
    }
   ],
   "source": [
    "s1.update(s2)\n",
    "print(s1)\n",
    "print(s2)"
   ]
  },
  {
   "cell_type": "code",
   "execution_count": 88,
   "id": "73ea9db8",
   "metadata": {},
   "outputs": [
    {
     "data": {
      "text/plain": [
       "{1, 2, 3, 4}"
      ]
     },
     "execution_count": 88,
     "metadata": {},
     "output_type": "execute_result"
    }
   ],
   "source": [
    "s1.difference(s2)"
   ]
  },
  {
   "cell_type": "code",
   "execution_count": 89,
   "id": "34074108",
   "metadata": {},
   "outputs": [
    {
     "data": {
      "text/plain": [
       "{6, 7, 8, 9}"
      ]
     },
     "execution_count": 89,
     "metadata": {},
     "output_type": "execute_result"
    }
   ],
   "source": [
    "s2.difference(s1)"
   ]
  },
  {
   "cell_type": "code",
   "execution_count": 90,
   "id": "35303286",
   "metadata": {},
   "outputs": [
    {
     "name": "stdout",
     "output_type": "stream",
     "text": [
      "{1, 2, 3, 4}\n",
      "{5, 6, 7, 8, 9}\n"
     ]
    }
   ],
   "source": [
    "print(s1.difference_update(s2))\n",
    "print(s1)\n",
    "print(s2)"
   ]
  },
  {
   "cell_type": "code",
   "execution_count": 93,
   "id": "130d9a34",
   "metadata": {},
   "outputs": [
    {
     "name": "stdout",
     "output_type": "stream",
     "text": [
      "{1, 2, 3, 4, 6, 7, 8, 9}\n",
      "{1, 2, 3, 4, 5}\n",
      "{5, 6, 7, 8, 9}\n"
     ]
    }
   ],
   "source": [
    "print(s1.symmetric_difference(s2))\n",
    "print(s1)\n",
    "print(s2)"
   ]
  },
  {
   "cell_type": "code",
   "execution_count": 94,
   "id": "a393514e",
   "metadata": {},
   "outputs": [
    {
     "name": "stdout",
     "output_type": "stream",
     "text": [
      "None\n",
      "{1, 2, 3, 4, 5}\n",
      "{1, 2, 3, 4, 6, 7, 8, 9}\n"
     ]
    }
   ],
   "source": [
    "print(s2.symmetric_difference_update(s1))\n",
    "print(s1)\n",
    "print(s2)"
   ]
  },
  {
   "cell_type": "code",
   "execution_count": 95,
   "id": "8ec45616",
   "metadata": {},
   "outputs": [
    {
     "data": {
      "text/plain": [
       "<generator object <genexpr> at 0x000002AEA33FC510>"
      ]
     },
     "execution_count": 95,
     "metadata": {},
     "output_type": "execute_result"
    }
   ],
   "source": [
    "(i**2 for i in s1 if i<4)"
   ]
  },
  {
   "cell_type": "code",
   "execution_count": 97,
   "id": "57c12af1",
   "metadata": {},
   "outputs": [
    {
     "data": {
      "text/plain": [
       "[1, 4, 9]"
      ]
     },
     "execution_count": 97,
     "metadata": {},
     "output_type": "execute_result"
    }
   ],
   "source": [
    "list((i**2 for i in s1 if i<4))"
   ]
  },
  {
   "cell_type": "code",
   "execution_count": 98,
   "id": "d61c9742",
   "metadata": {},
   "outputs": [
    {
     "data": {
      "text/plain": [
       "(1, 4, 9)"
      ]
     },
     "execution_count": 98,
     "metadata": {},
     "output_type": "execute_result"
    }
   ],
   "source": [
    "tuple((i**2 for i in s1 if i<4))"
   ]
  },
  {
   "cell_type": "code",
   "execution_count": 99,
   "id": "739e7f9c",
   "metadata": {},
   "outputs": [
    {
     "data": {
      "text/plain": [
       "{1, 4, 9}"
      ]
     },
     "execution_count": 99,
     "metadata": {},
     "output_type": "execute_result"
    }
   ],
   "source": [
    "set((i**2 for i in s1 if i<4))"
   ]
  },
  {
   "cell_type": "code",
   "execution_count": 100,
   "id": "8aadc397",
   "metadata": {},
   "outputs": [
    {
     "ename": "TypeError",
     "evalue": "cannot convert dictionary update sequence element #0 to a sequence",
     "output_type": "error",
     "traceback": [
      "\u001b[1;31m---------------------------------------------------------------------------\u001b[0m",
      "\u001b[1;31mTypeError\u001b[0m                                 Traceback (most recent call last)",
      "\u001b[1;32m<ipython-input-100-f799a4ef1911>\u001b[0m in \u001b[0;36m<module>\u001b[1;34m\u001b[0m\n\u001b[1;32m----> 1\u001b[1;33m \u001b[0mdict\u001b[0m\u001b[1;33m(\u001b[0m\u001b[1;33m(\u001b[0m\u001b[0mi\u001b[0m\u001b[1;33m**\u001b[0m\u001b[1;36m2\u001b[0m \u001b[1;32mfor\u001b[0m \u001b[0mi\u001b[0m \u001b[1;32min\u001b[0m \u001b[0ms1\u001b[0m \u001b[1;32mif\u001b[0m \u001b[0mi\u001b[0m\u001b[1;33m<\u001b[0m\u001b[1;36m4\u001b[0m\u001b[1;33m)\u001b[0m\u001b[1;33m)\u001b[0m\u001b[1;33m\u001b[0m\u001b[1;33m\u001b[0m\u001b[0m\n\u001b[0m",
      "\u001b[1;31mTypeError\u001b[0m: cannot convert dictionary update sequence element #0 to a sequence"
     ]
    }
   ],
   "source": [
    "dict((i**2 for i in s1 if i<4))"
   ]
  },
  {
   "cell_type": "code",
   "execution_count": 117,
   "id": "5a9ce7b5",
   "metadata": {},
   "outputs": [],
   "source": [
    "s={1,2,3,4,5}"
   ]
  },
  {
   "cell_type": "code",
   "execution_count": 102,
   "id": "8a180dd8",
   "metadata": {},
   "outputs": [
    {
     "data": {
      "text/plain": [
       "{1, 2, 3, 4, 5}"
      ]
     },
     "execution_count": 102,
     "metadata": {},
     "output_type": "execute_result"
    }
   ],
   "source": [
    "s"
   ]
  },
  {
   "cell_type": "code",
   "execution_count": 109,
   "id": "3ba1ba64",
   "metadata": {},
   "outputs": [],
   "source": [
    "s.add((1,2,3,4))"
   ]
  },
  {
   "cell_type": "code",
   "execution_count": 110,
   "id": "62875bee",
   "metadata": {},
   "outputs": [
    {
     "data": {
      "text/plain": [
       "{(1, 2, 3, 4), 1, 2, 3, 4, 5, 6, 'Hello'}"
      ]
     },
     "execution_count": 110,
     "metadata": {},
     "output_type": "execute_result"
    }
   ],
   "source": [
    "s"
   ]
  },
  {
   "cell_type": "code",
   "execution_count": 113,
   "id": "65bb2cec",
   "metadata": {},
   "outputs": [],
   "source": [
    "s.update(\"Hello\")\n"
   ]
  },
  {
   "cell_type": "code",
   "execution_count": 114,
   "id": "ee6c69ca",
   "metadata": {},
   "outputs": [
    {
     "data": {
      "text/plain": [
       "{(1, 2, 3, 4), 1, 2, 3, 4, 5, 6, 7, 8, 9, 'H', 'Hello', 'e', 'l', 'o'}"
      ]
     },
     "execution_count": 114,
     "metadata": {},
     "output_type": "execute_result"
    }
   ],
   "source": [
    "s"
   ]
  },
  {
   "cell_type": "code",
   "execution_count": 115,
   "id": "c9a4a538",
   "metadata": {},
   "outputs": [],
   "source": [
    "del s"
   ]
  },
  {
   "cell_type": "code",
   "execution_count": 116,
   "id": "4f9bdb3e",
   "metadata": {},
   "outputs": [
    {
     "ename": "NameError",
     "evalue": "name 's' is not defined",
     "output_type": "error",
     "traceback": [
      "\u001b[1;31m---------------------------------------------------------------------------\u001b[0m",
      "\u001b[1;31mNameError\u001b[0m                                 Traceback (most recent call last)",
      "\u001b[1;32m<ipython-input-116-ded5ba42480f>\u001b[0m in \u001b[0;36m<module>\u001b[1;34m\u001b[0m\n\u001b[1;32m----> 1\u001b[1;33m \u001b[0ms\u001b[0m\u001b[1;33m\u001b[0m\u001b[1;33m\u001b[0m\u001b[0m\n\u001b[0m",
      "\u001b[1;31mNameError\u001b[0m: name 's' is not defined"
     ]
    }
   ],
   "source": [
    "s"
   ]
  },
  {
   "cell_type": "code",
   "execution_count": 118,
   "id": "e644c4d7",
   "metadata": {},
   "outputs": [
    {
     "data": {
      "text/plain": [
       "{1, 2, 3, 4, 5}"
      ]
     },
     "execution_count": 118,
     "metadata": {},
     "output_type": "execute_result"
    }
   ],
   "source": [
    "s"
   ]
  },
  {
   "cell_type": "code",
   "execution_count": 119,
   "id": "c488da68",
   "metadata": {},
   "outputs": [],
   "source": [
    "s.discard(5)"
   ]
  },
  {
   "cell_type": "code",
   "execution_count": 120,
   "id": "bb8c95fe",
   "metadata": {},
   "outputs": [
    {
     "data": {
      "text/plain": [
       "{1, 2, 3, 4}"
      ]
     },
     "execution_count": 120,
     "metadata": {},
     "output_type": "execute_result"
    }
   ],
   "source": [
    "s"
   ]
  },
  {
   "cell_type": "code",
   "execution_count": 121,
   "id": "9bfc6294",
   "metadata": {},
   "outputs": [],
   "source": [
    "s.discard(78)"
   ]
  },
  {
   "cell_type": "code",
   "execution_count": 122,
   "id": "13d7e70a",
   "metadata": {},
   "outputs": [
    {
     "ename": "NameError",
     "evalue": "name 'ss' is not defined",
     "output_type": "error",
     "traceback": [
      "\u001b[1;31m---------------------------------------------------------------------------\u001b[0m",
      "\u001b[1;31mNameError\u001b[0m                                 Traceback (most recent call last)",
      "\u001b[1;32m<ipython-input-122-09dbdbc7f6cd>\u001b[0m in \u001b[0;36m<module>\u001b[1;34m\u001b[0m\n\u001b[1;32m----> 1\u001b[1;33m \u001b[0mss\u001b[0m\u001b[1;33m\u001b[0m\u001b[1;33m\u001b[0m\u001b[0m\n\u001b[0m",
      "\u001b[1;31mNameError\u001b[0m: name 'ss' is not defined"
     ]
    }
   ],
   "source": [
    "ss"
   ]
  },
  {
   "cell_type": "code",
   "execution_count": 123,
   "id": "ca7639ab",
   "metadata": {},
   "outputs": [
    {
     "data": {
      "text/plain": [
       "{1, 2, 3, 4}"
      ]
     },
     "execution_count": 123,
     "metadata": {},
     "output_type": "execute_result"
    }
   ],
   "source": [
    "s"
   ]
  },
  {
   "cell_type": "code",
   "execution_count": 124,
   "id": "59fd0ca9",
   "metadata": {},
   "outputs": [],
   "source": [
    "s={1,2,3,4,5}\n",
    "t={4,5,6,7,8}"
   ]
  },
  {
   "cell_type": "code",
   "execution_count": 125,
   "id": "2284def9",
   "metadata": {},
   "outputs": [
    {
     "data": {
      "text/plain": [
       "{1, 2, 3, 4, 5, 6, 7, 8}"
      ]
     },
     "execution_count": 125,
     "metadata": {},
     "output_type": "execute_result"
    }
   ],
   "source": [
    "s|t"
   ]
  },
  {
   "cell_type": "code",
   "execution_count": 126,
   "id": "b4ec4ac2",
   "metadata": {},
   "outputs": [
    {
     "data": {
      "text/plain": [
       "{4, 5}"
      ]
     },
     "execution_count": 126,
     "metadata": {},
     "output_type": "execute_result"
    }
   ],
   "source": [
    "s&t"
   ]
  },
  {
   "cell_type": "code",
   "execution_count": 127,
   "id": "9986e135",
   "metadata": {},
   "outputs": [
    {
     "data": {
      "text/plain": [
       "{1, 2, 3}"
      ]
     },
     "execution_count": 127,
     "metadata": {},
     "output_type": "execute_result"
    }
   ],
   "source": [
    "s-t"
   ]
  },
  {
   "cell_type": "code",
   "execution_count": 128,
   "id": "32a9cf57",
   "metadata": {},
   "outputs": [
    {
     "data": {
      "text/plain": [
       "{6, 7, 8}"
      ]
     },
     "execution_count": 128,
     "metadata": {},
     "output_type": "execute_result"
    }
   ],
   "source": [
    "t-s"
   ]
  },
  {
   "cell_type": "code",
   "execution_count": 129,
   "id": "9ef73f53",
   "metadata": {},
   "outputs": [
    {
     "data": {
      "text/plain": [
       "{1, 2, 3, 6, 7, 8}"
      ]
     },
     "execution_count": 129,
     "metadata": {},
     "output_type": "execute_result"
    }
   ],
   "source": [
    "s^t"
   ]
  },
  {
   "cell_type": "code",
   "execution_count": 130,
   "id": "d17214aa",
   "metadata": {},
   "outputs": [
    {
     "data": {
      "text/plain": [
       "True"
      ]
     },
     "execution_count": 130,
     "metadata": {},
     "output_type": "execute_result"
    }
   ],
   "source": [
    "2 in s"
   ]
  },
  {
   "cell_type": "code",
   "execution_count": 131,
   "id": "954dc939",
   "metadata": {},
   "outputs": [
    {
     "data": {
      "text/plain": [
       "False"
      ]
     },
     "execution_count": 131,
     "metadata": {},
     "output_type": "execute_result"
    }
   ],
   "source": [
    "2 in t"
   ]
  },
  {
   "cell_type": "code",
   "execution_count": 132,
   "id": "27bb59b8",
   "metadata": {},
   "outputs": [
    {
     "name": "stdout",
     "output_type": "stream",
     "text": [
      "1 2 3 4 5 "
     ]
    }
   ],
   "source": [
    "for i in s:\n",
    "    print(i,end=\" \")"
   ]
  },
  {
   "cell_type": "code",
   "execution_count": 133,
   "id": "50384032",
   "metadata": {},
   "outputs": [
    {
     "data": {
      "text/plain": [
       "{1, 2, 3, 4, 5}"
      ]
     },
     "execution_count": 133,
     "metadata": {},
     "output_type": "execute_result"
    }
   ],
   "source": [
    "s"
   ]
  },
  {
   "cell_type": "code",
   "execution_count": 134,
   "id": "3393091f",
   "metadata": {},
   "outputs": [
    {
     "name": "stdout",
     "output_type": "stream",
     "text": [
      "5\n",
      "15\n",
      "1\n",
      "5\n",
      "[1, 2, 3, 4, 5]\n",
      "[5, 4, 3, 2, 1]\n"
     ]
    }
   ],
   "source": [
    "print(len(s))\n",
    "print(sum(s))\n",
    "print(min(s))\n",
    "print(max(s))\n",
    "print(sorted(s))\n",
    "print(sorted(s,reverse=True))"
   ]
  },
  {
   "cell_type": "code",
   "execution_count": 135,
   "id": "41810ec6",
   "metadata": {},
   "outputs": [
    {
     "name": "stdout",
     "output_type": "stream",
     "text": [
      "{1, 2, 3, 4, 5}\n"
     ]
    }
   ],
   "source": [
    "s=set(sorted(s))\n",
    "print(s)"
   ]
  },
  {
   "cell_type": "code",
   "execution_count": 138,
   "id": "62a19eed",
   "metadata": {},
   "outputs": [],
   "source": [
    "s={1,2,3,4,5,6,7,8,9}\n",
    "t={6,7,8,9}"
   ]
  },
  {
   "cell_type": "code",
   "execution_count": 139,
   "id": "ce8352f9",
   "metadata": {},
   "outputs": [
    {
     "data": {
      "text/plain": [
       "False"
      ]
     },
     "execution_count": 139,
     "metadata": {},
     "output_type": "execute_result"
    }
   ],
   "source": [
    "s.isdisjoint(t)"
   ]
  },
  {
   "cell_type": "code",
   "execution_count": 140,
   "id": "cbe67445",
   "metadata": {},
   "outputs": [
    {
     "data": {
      "text/plain": [
       "True"
      ]
     },
     "execution_count": 140,
     "metadata": {},
     "output_type": "execute_result"
    }
   ],
   "source": [
    "s.issuperset(t)"
   ]
  },
  {
   "cell_type": "code",
   "execution_count": 141,
   "id": "7fd5b3a5",
   "metadata": {},
   "outputs": [
    {
     "data": {
      "text/plain": [
       "False"
      ]
     },
     "execution_count": 141,
     "metadata": {},
     "output_type": "execute_result"
    }
   ],
   "source": [
    "s.issubset(t)"
   ]
  },
  {
   "cell_type": "code",
   "execution_count": 162,
   "id": "6849f7c8",
   "metadata": {},
   "outputs": [],
   "source": [
    "s={1,2,3,4,5,6}\n",
    "t={5,6,7,8,9}"
   ]
  },
  {
   "cell_type": "code",
   "execution_count": 143,
   "id": "7bc8471c",
   "metadata": {},
   "outputs": [
    {
     "data": {
      "text/plain": [
       "{1, 2, 3, 4, 5, 6, 7, 8, 9}"
      ]
     },
     "execution_count": 143,
     "metadata": {},
     "output_type": "execute_result"
    }
   ],
   "source": [
    "s.union(t)"
   ]
  },
  {
   "cell_type": "code",
   "execution_count": 146,
   "id": "672f68c7",
   "metadata": {},
   "outputs": [],
   "source": [
    "s.update(t)"
   ]
  },
  {
   "cell_type": "code",
   "execution_count": 152,
   "id": "a1e170a7",
   "metadata": {},
   "outputs": [
    {
     "data": {
      "text/plain": [
       "{5, 6}"
      ]
     },
     "execution_count": 152,
     "metadata": {},
     "output_type": "execute_result"
    }
   ],
   "source": [
    "s.intersection(t)\n"
   ]
  },
  {
   "cell_type": "code",
   "execution_count": 153,
   "id": "14611669",
   "metadata": {},
   "outputs": [
    {
     "name": "stdout",
     "output_type": "stream",
     "text": [
      "{5, 6}\n",
      "{5, 6, 7, 8, 9}\n"
     ]
    }
   ],
   "source": [
    "s.intersection_update(t)\n",
    "print(s)\n",
    "print(t)"
   ]
  },
  {
   "cell_type": "code",
   "execution_count": 155,
   "id": "195df859",
   "metadata": {},
   "outputs": [
    {
     "data": {
      "text/plain": [
       "{1, 2, 3, 4}"
      ]
     },
     "execution_count": 155,
     "metadata": {},
     "output_type": "execute_result"
    }
   ],
   "source": [
    "s.difference(t)"
   ]
  },
  {
   "cell_type": "code",
   "execution_count": 156,
   "id": "c14dcdc2",
   "metadata": {},
   "outputs": [
    {
     "name": "stdout",
     "output_type": "stream",
     "text": [
      "{1, 2, 3, 4, 5, 6}\n",
      "{5, 6, 7, 8, 9}\n"
     ]
    }
   ],
   "source": [
    "print(s)\n",
    "print(t)"
   ]
  },
  {
   "cell_type": "code",
   "execution_count": 157,
   "id": "4fa5a047",
   "metadata": {},
   "outputs": [],
   "source": [
    "s.difference_update(t)"
   ]
  },
  {
   "cell_type": "code",
   "execution_count": 158,
   "id": "63da1a0a",
   "metadata": {},
   "outputs": [
    {
     "name": "stdout",
     "output_type": "stream",
     "text": [
      "{1, 2, 3, 4}\n",
      "{5, 6, 7, 8, 9}\n"
     ]
    }
   ],
   "source": [
    "print(s)\n",
    "print(t)"
   ]
  },
  {
   "cell_type": "code",
   "execution_count": 160,
   "id": "7eb2e6b2",
   "metadata": {},
   "outputs": [
    {
     "data": {
      "text/plain": [
       "{1, 2, 3, 4, 7, 8, 9}"
      ]
     },
     "execution_count": 160,
     "metadata": {},
     "output_type": "execute_result"
    }
   ],
   "source": [
    "s.symmetric_difference(t)"
   ]
  },
  {
   "cell_type": "code",
   "execution_count": 161,
   "id": "9fdb604a",
   "metadata": {},
   "outputs": [
    {
     "name": "stdout",
     "output_type": "stream",
     "text": [
      "{1, 2, 3, 4, 5, 6}\n",
      "{5, 6, 7, 8, 9}\n"
     ]
    }
   ],
   "source": [
    "print(s)\n",
    "print(t)"
   ]
  },
  {
   "cell_type": "code",
   "execution_count": 163,
   "id": "bf10bfbb",
   "metadata": {},
   "outputs": [],
   "source": [
    "t.symmetric_difference_update(s)"
   ]
  },
  {
   "cell_type": "code",
   "execution_count": 164,
   "id": "5f11f748",
   "metadata": {},
   "outputs": [
    {
     "name": "stdout",
     "output_type": "stream",
     "text": [
      "{1, 2, 3, 4, 5, 6}\n",
      "{1, 2, 3, 4, 7, 8, 9}\n"
     ]
    }
   ],
   "source": [
    "print(s)\n",
    "print(t)"
   ]
  },
  {
   "cell_type": "code",
   "execution_count": 165,
   "id": "428c274c",
   "metadata": {},
   "outputs": [
    {
     "data": {
      "text/plain": [
       "{1, 2, 3, 4, 5, 6}"
      ]
     },
     "execution_count": 165,
     "metadata": {},
     "output_type": "execute_result"
    }
   ],
   "source": [
    "s"
   ]
  },
  {
   "cell_type": "code",
   "execution_count": 167,
   "id": "61c5ba6e",
   "metadata": {},
   "outputs": [
    {
     "name": "stdout",
     "output_type": "stream",
     "text": [
      "{1, 2, 3, 4, 5, 6}\n"
     ]
    }
   ],
   "source": [
    "s1=s.copy()\n",
    "print(s1)"
   ]
  },
  {
   "cell_type": "code",
   "execution_count": 168,
   "id": "1e7729e7",
   "metadata": {},
   "outputs": [
    {
     "data": {
      "text/plain": [
       "<generator object <genexpr> at 0x000002AEA33FB5F0>"
      ]
     },
     "execution_count": 168,
     "metadata": {},
     "output_type": "execute_result"
    }
   ],
   "source": [
    "(i**2 for i in s if i<3)"
   ]
  },
  {
   "cell_type": "code",
   "execution_count": 169,
   "id": "d7db61fa",
   "metadata": {},
   "outputs": [
    {
     "name": "stdout",
     "output_type": "stream",
     "text": [
      "[1, 4]\n",
      "(1, 4)\n",
      "{1, 4}\n"
     ]
    }
   ],
   "source": [
    "print(list((i**2 for i in s if i<3)))\n",
    "print(tuple((i**2 for i in s if i<3)))\n",
    "print(set((i**2 for i in s if i<3)))"
   ]
  },
  {
   "cell_type": "code",
   "execution_count": 1,
   "id": "86184084",
   "metadata": {},
   "outputs": [],
   "source": [
    "#creating a dictonary using sequence and dictonary function"
   ]
  },
  {
   "cell_type": "code",
   "execution_count": 3,
   "id": "680cc21a",
   "metadata": {},
   "outputs": [],
   "source": [
    "d=dict([('name','pratik'),('age',23),('gender','male')])"
   ]
  },
  {
   "cell_type": "code",
   "execution_count": 4,
   "id": "3de2532b",
   "metadata": {},
   "outputs": [
    {
     "data": {
      "text/plain": [
       "{'name': 'pratik', 'age': 23, 'gender': 'male'}"
      ]
     },
     "execution_count": 4,
     "metadata": {},
     "output_type": "execute_result"
    }
   ],
   "source": [
    "d"
   ]
  },
  {
   "cell_type": "code",
   "execution_count": 5,
   "id": "57103ecd",
   "metadata": {},
   "outputs": [],
   "source": [
    "d={'name':'pratik','name':'golu'}"
   ]
  },
  {
   "cell_type": "code",
   "execution_count": 6,
   "id": "4759171c",
   "metadata": {},
   "outputs": [
    {
     "data": {
      "text/plain": [
       "{'name': 'golu'}"
      ]
     },
     "execution_count": 6,
     "metadata": {},
     "output_type": "execute_result"
    }
   ],
   "source": [
    "d"
   ]
  },
  {
   "cell_type": "code",
   "execution_count": 7,
   "id": "8fc96d82",
   "metadata": {},
   "outputs": [
    {
     "name": "stdout",
     "output_type": "stream",
     "text": [
      "{'brand': 'Ford', 'model': 'Mustang', 'year': 1964}\n"
     ]
    }
   ],
   "source": [
    "car = {\n",
    "  \"brand\": \"Ford\",\n",
    "  \"model\": \"Mustang\",\n",
    "  \"year\": 1964\n",
    "}\n",
    "\n",
    "print(car)"
   ]
  },
  {
   "cell_type": "code",
   "execution_count": 8,
   "id": "bc7d1329",
   "metadata": {},
   "outputs": [
    {
     "data": {
      "text/plain": [
       "1964"
      ]
     },
     "execution_count": 8,
     "metadata": {},
     "output_type": "execute_result"
    }
   ],
   "source": [
    "car['year']"
   ]
  },
  {
   "cell_type": "code",
   "execution_count": 9,
   "id": "395d6710",
   "metadata": {},
   "outputs": [
    {
     "data": {
      "text/plain": [
       "'Mustang'"
      ]
     },
     "execution_count": 9,
     "metadata": {},
     "output_type": "execute_result"
    }
   ],
   "source": [
    "car.get('model')"
   ]
  },
  {
   "cell_type": "code",
   "execution_count": 10,
   "id": "9f118f83",
   "metadata": {},
   "outputs": [
    {
     "data": {
      "text/plain": [
       "dict_items([('brand', 'Ford'), ('model', 'Mustang'), ('year', 1964)])"
      ]
     },
     "execution_count": 10,
     "metadata": {},
     "output_type": "execute_result"
    }
   ],
   "source": [
    "car.items()"
   ]
  },
  {
   "cell_type": "code",
   "execution_count": 11,
   "id": "aac52a13",
   "metadata": {},
   "outputs": [
    {
     "data": {
      "text/plain": [
       "dict_keys(['brand', 'model', 'year'])"
      ]
     },
     "execution_count": 11,
     "metadata": {},
     "output_type": "execute_result"
    }
   ],
   "source": [
    "car.keys()"
   ]
  },
  {
   "cell_type": "code",
   "execution_count": 12,
   "id": "1abae584",
   "metadata": {},
   "outputs": [
    {
     "data": {
      "text/plain": [
       "dict_values(['Ford', 'Mustang', 1964])"
      ]
     },
     "execution_count": 12,
     "metadata": {},
     "output_type": "execute_result"
    }
   ],
   "source": [
    "car.values()"
   ]
  },
  {
   "cell_type": "code",
   "execution_count": 13,
   "id": "6f3be616",
   "metadata": {},
   "outputs": [
    {
     "name": "stdout",
     "output_type": "stream",
     "text": [
      "{'name': 'pratik', 'age': 23, 'gender': 'male', 'subject': {'math': 98, 'hindi': 90, 'ssc': 98}}\n"
     ]
    }
   ],
   "source": [
    "d={\n",
    "    'name':'pratik',\n",
    "    'age' : 23,\n",
    "    'gender' : 'male',\n",
    "    'subject' : {\n",
    "        'math':98,\n",
    "        'hindi' : 90,\n",
    "        'ssc' : 98\n",
    "    }\n",
    "}\n",
    "\n",
    "print(d)"
   ]
  },
  {
   "cell_type": "code",
   "execution_count": 15,
   "id": "b2442630",
   "metadata": {},
   "outputs": [
    {
     "name": "stdout",
     "output_type": "stream",
     "text": [
      "{'name': 'golu', 'age': 23, 'gender': 'male', 'subject': {'math': 98, 'hindi': 90, 'ssc': 98}}\n"
     ]
    }
   ],
   "source": [
    "d['name']='golu'\n",
    "print(d)"
   ]
  },
  {
   "cell_type": "code",
   "execution_count": 16,
   "id": "07dab04a",
   "metadata": {},
   "outputs": [
    {
     "name": "stdout",
     "output_type": "stream",
     "text": [
      "{'name': 'golu', 'age': 23, 'gender': 'male', 'subject': {'math': 90, 'hindi': 90, 'ssc': 98}}\n"
     ]
    }
   ],
   "source": [
    "d['subject']['math']=90\n",
    "print(d)"
   ]
  },
  {
   "cell_type": "code",
   "execution_count": 17,
   "id": "5c0db773",
   "metadata": {},
   "outputs": [
    {
     "name": "stdout",
     "output_type": "stream",
     "text": [
      "{'name': 'pratik', 'age': 23, 'gender': 'male', 'subject': {'math': 90, 'hindi': 90, 'ssc': 98}}\n"
     ]
    }
   ],
   "source": [
    "d.update({'name':'pratik'})\n",
    "print(d)"
   ]
  },
  {
   "cell_type": "code",
   "execution_count": 18,
   "id": "ebcc07f5",
   "metadata": {},
   "outputs": [],
   "source": [
    "d.update({'subject':{'math':98}})"
   ]
  },
  {
   "cell_type": "code",
   "execution_count": 19,
   "id": "cf874040",
   "metadata": {},
   "outputs": [
    {
     "name": "stdout",
     "output_type": "stream",
     "text": [
      "{'name': 'pratik', 'age': 23, 'gender': 'male', 'subject': {'math': 98}}\n"
     ]
    }
   ],
   "source": [
    "print(d)"
   ]
  },
  {
   "cell_type": "code",
   "execution_count": 20,
   "id": "b0fdccfe",
   "metadata": {},
   "outputs": [
    {
     "name": "stdout",
     "output_type": "stream",
     "text": [
      "{'name': 'pratik', 'age': 23, 'gender': 'male', 'subject': {'math': 98, 'hindi': 90, 'ssc': 98}}\n"
     ]
    }
   ],
   "source": [
    "d={\n",
    "    'name':'pratik',\n",
    "    'age' : 23,\n",
    "    'gender' : 'male',\n",
    "    'subject' : {\n",
    "        'math':98,\n",
    "        'hindi' : 90,\n",
    "        'ssc' : 98\n",
    "    }\n",
    "}\n",
    "\n",
    "print(d)"
   ]
  },
  {
   "cell_type": "code",
   "execution_count": 21,
   "id": "8a28769c",
   "metadata": {},
   "outputs": [
    {
     "name": "stdout",
     "output_type": "stream",
     "text": [
      "{'name': 'pratik', 'age': 23, 'gender': 'male', 'subject': {'math': 98, 'hindi': 90, 'ssc': 98}, 'address ': 'Mumbai'}\n"
     ]
    }
   ],
   "source": [
    "d['address ']='Mumbai'\n",
    "print(d)"
   ]
  },
  {
   "cell_type": "code",
   "execution_count": 22,
   "id": "360596d9",
   "metadata": {},
   "outputs": [
    {
     "name": "stdout",
     "output_type": "stream",
     "text": [
      "{'name': 'pratik', 'age': 23, 'gender': 'male', 'subject': {'math': 98, 'hindi': 90, 'ssc': 98, 'Marathi': 90}, 'address ': 'Mumbai'}\n"
     ]
    }
   ],
   "source": [
    "d['subject']['Marathi']=90\n",
    "print(d)"
   ]
  },
  {
   "cell_type": "code",
   "execution_count": 23,
   "id": "79027961",
   "metadata": {},
   "outputs": [
    {
     "name": "stdout",
     "output_type": "stream",
     "text": [
      "{'name': 'pratik', 'age': 23, 'gender': 'male', 'subject': {'math': 98, 'hindi': 90, 'ssc': 98, 'Marathi': 90}, 'address ': 'Mumbai', 'nickname': 'golu'}\n"
     ]
    }
   ],
   "source": [
    "d.update({'nickname':'golu'})\n",
    "print(d)"
   ]
  },
  {
   "cell_type": "code",
   "execution_count": 26,
   "id": "d0373062",
   "metadata": {},
   "outputs": [
    {
     "name": "stdout",
     "output_type": "stream",
     "text": [
      "{'name': 'pratik', 'age': 23, 'gender': 'male', 'subject': {'math': 98, 'hindi': 90, 'ssc': 98, 'Marathi': 90, 'science': 75}, 'address ': 'Mumbai', 'nickname': 'golu'}\n"
     ]
    }
   ],
   "source": [
    "d.update({'subject':{'math': 98, 'hindi': 90, 'ssc': 98, 'Marathi': 90,'science':75}})\n",
    "print(d)"
   ]
  },
  {
   "cell_type": "code",
   "execution_count": 27,
   "id": "044407fd",
   "metadata": {},
   "outputs": [
    {
     "name": "stdout",
     "output_type": "stream",
     "text": [
      "{'name': 'pratik', 'age': 23, 'id': 21, 'gender': 'male', 'weight': 72}\n"
     ]
    }
   ],
   "source": [
    "my={'name':'pratik','age':23,'id':21,'gender':'male','weight':72}\n",
    "print(my)"
   ]
  },
  {
   "cell_type": "code",
   "execution_count": 28,
   "id": "73f471b2",
   "metadata": {},
   "outputs": [
    {
     "ename": "NameError",
     "evalue": "name 'my' is not defined",
     "output_type": "error",
     "traceback": [
      "\u001b[1;31m---------------------------------------------------------------------------\u001b[0m",
      "\u001b[1;31mNameError\u001b[0m                                 Traceback (most recent call last)",
      "\u001b[1;32m<ipython-input-28-89ea419778c0>\u001b[0m in \u001b[0;36m<module>\u001b[1;34m\u001b[0m\n\u001b[0;32m      1\u001b[0m \u001b[1;32mdel\u001b[0m \u001b[0mmy\u001b[0m\u001b[1;33m\u001b[0m\u001b[1;33m\u001b[0m\u001b[0m\n\u001b[1;32m----> 2\u001b[1;33m \u001b[0mprint\u001b[0m\u001b[1;33m(\u001b[0m\u001b[0mmy\u001b[0m\u001b[1;33m)\u001b[0m\u001b[1;33m\u001b[0m\u001b[1;33m\u001b[0m\u001b[0m\n\u001b[0m",
      "\u001b[1;31mNameError\u001b[0m: name 'my' is not defined"
     ]
    }
   ],
   "source": [
    "del my\n",
    "print(my)"
   ]
  },
  {
   "cell_type": "code",
   "execution_count": 29,
   "id": "5919a285",
   "metadata": {},
   "outputs": [
    {
     "name": "stdout",
     "output_type": "stream",
     "text": [
      "{'name': 'pratik', 'age': 23, 'id': 21, 'gender': 'male', 'weight': 72}\n"
     ]
    }
   ],
   "source": [
    "my={'name':'pratik','age':23,'id':21,'gender':'male','weight':72}\n",
    "print(my)"
   ]
  },
  {
   "cell_type": "code",
   "execution_count": 30,
   "id": "9e7b9237",
   "metadata": {},
   "outputs": [
    {
     "name": "stdout",
     "output_type": "stream",
     "text": [
      "{'name': 'pratik', 'id': 21, 'gender': 'male', 'weight': 72}\n"
     ]
    }
   ],
   "source": [
    "del my['age']\n",
    "print(my)"
   ]
  },
  {
   "cell_type": "code",
   "execution_count": 31,
   "id": "38704d93",
   "metadata": {},
   "outputs": [
    {
     "name": "stdout",
     "output_type": "stream",
     "text": [
      "{'name': 'pratik', 'age': 23, 'id': 21, 'gender': 'male', 'weight': 72}\n"
     ]
    }
   ],
   "source": [
    "my={'name':'pratik','age':23,'id':21,'gender':'male','weight':72}\n",
    "print(my)"
   ]
  },
  {
   "cell_type": "code",
   "execution_count": 32,
   "id": "a9259317",
   "metadata": {},
   "outputs": [
    {
     "name": "stdout",
     "output_type": "stream",
     "text": [
      "{'name': 'pratik', 'age': 23, 'id': 21, 'weight': 72}\n"
     ]
    }
   ],
   "source": [
    "my.pop('gender')\n",
    "print(my)"
   ]
  },
  {
   "cell_type": "code",
   "execution_count": 33,
   "id": "8c4d4261",
   "metadata": {},
   "outputs": [
    {
     "name": "stdout",
     "output_type": "stream",
     "text": [
      "{'name': 'pratik', 'age': 23, 'id': 21, 'gender': 'male', 'weight': 72}\n"
     ]
    }
   ],
   "source": [
    "my={'name':'pratik','age':23,'id':21,'gender':'male','weight':72}\n",
    "print(my)"
   ]
  },
  {
   "cell_type": "code",
   "execution_count": 35,
   "id": "cd3a4cc1",
   "metadata": {},
   "outputs": [
    {
     "name": "stdout",
     "output_type": "stream",
     "text": [
      "{'name': 'pratik', 'age': 23, 'id': 21, 'gender': 'male'}\n"
     ]
    }
   ],
   "source": [
    "my.popitem()\n",
    "print(my)"
   ]
  },
  {
   "cell_type": "code",
   "execution_count": 36,
   "id": "1d92de03",
   "metadata": {},
   "outputs": [
    {
     "name": "stdout",
     "output_type": "stream",
     "text": [
      "{'name': 'pratik', 'age': 23, 'id': 21, 'gender': 'male', 'weight': 72}\n"
     ]
    }
   ],
   "source": [
    "my={'name':'pratik','age':23,'id':21,'gender':'male','weight':72}\n",
    "print(my)"
   ]
  },
  {
   "cell_type": "code",
   "execution_count": 37,
   "id": "948bb814",
   "metadata": {},
   "outputs": [],
   "source": [
    "my.clear()"
   ]
  },
  {
   "cell_type": "code",
   "execution_count": 38,
   "id": "f986a35c",
   "metadata": {},
   "outputs": [
    {
     "data": {
      "text/plain": [
       "{}"
      ]
     },
     "execution_count": 38,
     "metadata": {},
     "output_type": "execute_result"
    }
   ],
   "source": [
    "my"
   ]
  },
  {
   "cell_type": "code",
   "execution_count": 39,
   "id": "b04a501b",
   "metadata": {},
   "outputs": [
    {
     "name": "stdout",
     "output_type": "stream",
     "text": [
      "{'name': 'pratik', 'age': 23, 'id': 21, 'gender': 'male', 'weight': 72}\n"
     ]
    }
   ],
   "source": [
    "my={'name':'pratik','age':23,'id':21,'gender':'male','weight':72}\n",
    "print(my)"
   ]
  },
  {
   "cell_type": "code",
   "execution_count": 40,
   "id": "f6430b37",
   "metadata": {},
   "outputs": [
    {
     "name": "stdout",
     "output_type": "stream",
     "text": [
      "True\n"
     ]
    }
   ],
   "source": [
    "print('name' in my)"
   ]
  },
  {
   "cell_type": "code",
   "execution_count": 41,
   "id": "913668ea",
   "metadata": {},
   "outputs": [
    {
     "name": "stdout",
     "output_type": "stream",
     "text": [
      "False\n"
     ]
    }
   ],
   "source": [
    "print('name' not in my)"
   ]
  },
  {
   "cell_type": "code",
   "execution_count": 42,
   "id": "b58aca96",
   "metadata": {},
   "outputs": [
    {
     "name": "stdout",
     "output_type": "stream",
     "text": [
      "False\n"
     ]
    }
   ],
   "source": [
    "print('pratik' in my)"
   ]
  },
  {
   "cell_type": "code",
   "execution_count": 43,
   "id": "ac6a8666",
   "metadata": {},
   "outputs": [
    {
     "name": "stdout",
     "output_type": "stream",
     "text": [
      "{'name': 'pratik', 'age': 23, 'id': 21, 'gender': 'male', 'weight': 72}\n"
     ]
    }
   ],
   "source": [
    "my={'name':'pratik','age':23,'id':21,'gender':'male','weight':72}\n",
    "print(my)"
   ]
  },
  {
   "cell_type": "code",
   "execution_count": 44,
   "id": "72a93474",
   "metadata": {},
   "outputs": [
    {
     "name": "stdout",
     "output_type": "stream",
     "text": [
      "name age id gender weight "
     ]
    }
   ],
   "source": [
    "for i in my:\n",
    "    print(i,end=\" \")"
   ]
  },
  {
   "cell_type": "code",
   "execution_count": 45,
   "id": "0b2548ed",
   "metadata": {},
   "outputs": [
    {
     "name": "stdout",
     "output_type": "stream",
     "text": [
      "pratik\n",
      "23\n",
      "21\n",
      "male\n",
      "72\n"
     ]
    }
   ],
   "source": [
    "for i in my:\n",
    "    print(my[i])"
   ]
  },
  {
   "cell_type": "code",
   "execution_count": 46,
   "id": "1a4f695c",
   "metadata": {},
   "outputs": [
    {
     "name": "stdout",
     "output_type": "stream",
     "text": [
      "('name', 'pratik')\n",
      "('age', 23)\n",
      "('id', 21)\n",
      "('gender', 'male')\n",
      "('weight', 72)\n"
     ]
    }
   ],
   "source": [
    "for i in my.items():\n",
    "    print(i)"
   ]
  },
  {
   "cell_type": "code",
   "execution_count": 47,
   "id": "8d1880fb",
   "metadata": {},
   "outputs": [
    {
     "name": "stdout",
     "output_type": "stream",
     "text": [
      "name\n",
      "age\n",
      "id\n",
      "gender\n",
      "weight\n"
     ]
    }
   ],
   "source": [
    "for i in my.keys():\n",
    "    print(i)"
   ]
  },
  {
   "cell_type": "code",
   "execution_count": 48,
   "id": "5a200b5b",
   "metadata": {},
   "outputs": [
    {
     "name": "stdout",
     "output_type": "stream",
     "text": [
      "pratik\n",
      "23\n",
      "21\n",
      "male\n",
      "72\n"
     ]
    }
   ],
   "source": [
    "for i in my.values():\n",
    "    print(i)"
   ]
  },
  {
   "cell_type": "code",
   "execution_count": 49,
   "id": "a7faf061",
   "metadata": {},
   "outputs": [
    {
     "name": "stdout",
     "output_type": "stream",
     "text": [
      "{'name': 'pratik', 'age': 23, 'id': 21, 'gender': 'male', 'weight': 72}\n"
     ]
    }
   ],
   "source": [
    "my={'name':'pratik','age':23,'id':21,'gender':'male','weight':72}\n",
    "print(my)"
   ]
  },
  {
   "cell_type": "code",
   "execution_count": 50,
   "id": "28e0a1d1",
   "metadata": {},
   "outputs": [
    {
     "name": "stdout",
     "output_type": "stream",
     "text": [
      "5\n",
      "age\n",
      "weight\n",
      "['age', 'gender', 'id', 'name', 'weight']\n",
      "['weight', 'name', 'id', 'gender', 'age']\n"
     ]
    }
   ],
   "source": [
    "print(len(my))\n",
    "print(min(my))\n",
    "print(max(my))\n",
    "print(sorted(my))\n",
    "print(sorted(my,reverse=True))"
   ]
  },
  {
   "cell_type": "code",
   "execution_count": 51,
   "id": "fd651097",
   "metadata": {},
   "outputs": [],
   "source": [
    "#creating a dictonary using a sequence and s=dictonary function.\n",
    "d=dict([(1,1),(3,4),(8,4)])"
   ]
  },
  {
   "cell_type": "code",
   "execution_count": 52,
   "id": "28be30b4",
   "metadata": {},
   "outputs": [
    {
     "data": {
      "text/plain": [
       "{1: 1, 3: 4, 8: 4}"
      ]
     },
     "execution_count": 52,
     "metadata": {},
     "output_type": "execute_result"
    }
   ],
   "source": [
    "d"
   ]
  },
  {
   "cell_type": "code",
   "execution_count": 53,
   "id": "5dd3fce2",
   "metadata": {},
   "outputs": [
    {
     "name": "stdout",
     "output_type": "stream",
     "text": [
      "12\n"
     ]
    }
   ],
   "source": [
    "print(sum(d))"
   ]
  },
  {
   "cell_type": "code",
   "execution_count": 54,
   "id": "3db7a76b",
   "metadata": {},
   "outputs": [
    {
     "name": "stdout",
     "output_type": "stream",
     "text": [
      "{1: 1, 3: 4, 8: 4} 2446768212608\n",
      "{1: 1, 3: 4, 8: 4} 2446768210944\n"
     ]
    }
   ],
   "source": [
    "d1=d.copy()\n",
    "print(d,id(d))\n",
    "print(d1,id(d1))"
   ]
  },
  {
   "cell_type": "code",
   "execution_count": 55,
   "id": "cf2cdf29",
   "metadata": {},
   "outputs": [],
   "source": [
    "#dict.fromkeys() return a dictonary with specified keys and value."
   ]
  },
  {
   "cell_type": "code",
   "execution_count": 56,
   "id": "5528945e",
   "metadata": {},
   "outputs": [],
   "source": [
    "x=('pratik','sumit','shivam')\n",
    "y=(90,93,91)\n",
    "z=dict.fromkeys(x,y)"
   ]
  },
  {
   "cell_type": "code",
   "execution_count": 57,
   "id": "059a2feb",
   "metadata": {},
   "outputs": [
    {
     "name": "stdout",
     "output_type": "stream",
     "text": [
      "{'pratik': (90, 93, 91), 'sumit': (90, 93, 91), 'shivam': (90, 93, 91)}\n"
     ]
    }
   ],
   "source": [
    "print(z)"
   ]
  },
  {
   "cell_type": "code",
   "execution_count": 58,
   "id": "dacad3fb",
   "metadata": {},
   "outputs": [],
   "source": [
    "x=('pratik','sumit','shivam')\n",
    "y=90,94,91\n",
    "z=dict.fromkeys(x,y)"
   ]
  },
  {
   "cell_type": "code",
   "execution_count": 59,
   "id": "ca3c36f8",
   "metadata": {},
   "outputs": [
    {
     "data": {
      "text/plain": [
       "{'pratik': (90, 94, 91), 'sumit': (90, 94, 91), 'shivam': (90, 94, 91)}"
      ]
     },
     "execution_count": 59,
     "metadata": {},
     "output_type": "execute_result"
    }
   ],
   "source": [
    "z"
   ]
  },
  {
   "cell_type": "code",
   "execution_count": 60,
   "id": "d8f2a204",
   "metadata": {},
   "outputs": [],
   "source": [
    "x=('pratik','sumit','shivam')\n",
    "y=0\n",
    "z=dict.fromkeys(x,y)"
   ]
  },
  {
   "cell_type": "code",
   "execution_count": 61,
   "id": "791646ba",
   "metadata": {},
   "outputs": [
    {
     "data": {
      "text/plain": [
       "{'pratik': 0, 'sumit': 0, 'shivam': 0}"
      ]
     },
     "execution_count": 61,
     "metadata": {},
     "output_type": "execute_result"
    }
   ],
   "source": [
    "z"
   ]
  },
  {
   "cell_type": "code",
   "execution_count": 62,
   "id": "d6b9aa1c",
   "metadata": {},
   "outputs": [
    {
     "name": "stdout",
     "output_type": "stream",
     "text": [
      "{'pratik': 0, 'sumit': 0, 'shivam': 0}\n"
     ]
    }
   ],
   "source": [
    "x=('pratik','sumit','shivam')\n",
    "z=dict.fromkeys(x,y)\n",
    "print(z)"
   ]
  },
  {
   "cell_type": "code",
   "execution_count": 63,
   "id": "624462ab",
   "metadata": {},
   "outputs": [
    {
     "name": "stdout",
     "output_type": "stream",
     "text": [
      "{'pratik': None, 'sumit': None, 'shivam': None}\n"
     ]
    }
   ],
   "source": [
    "x=('pratik','sumit','shivam')\n",
    "z=dict.fromkeys(x)\n",
    "print(z)"
   ]
  },
  {
   "cell_type": "code",
   "execution_count": 64,
   "id": "cfc9b572",
   "metadata": {},
   "outputs": [],
   "source": [
    "#dictonary comprehension"
   ]
  },
  {
   "cell_type": "code",
   "execution_count": 65,
   "id": "fdaf8c54",
   "metadata": {},
   "outputs": [
    {
     "ename": "NameError",
     "evalue": "name 'iterable' is not defined",
     "output_type": "error",
     "traceback": [
      "\u001b[1;31m---------------------------------------------------------------------------\u001b[0m",
      "\u001b[1;31mNameError\u001b[0m                                 Traceback (most recent call last)",
      "\u001b[1;32m<ipython-input-65-0fe38d5ba983>\u001b[0m in \u001b[0;36m<module>\u001b[1;34m\u001b[0m\n\u001b[1;32m----> 1\u001b[1;33m \u001b[0md\u001b[0m\u001b[1;33m=\u001b[0m\u001b[1;33m{\u001b[0m\u001b[0mkey\u001b[0m\u001b[1;33m:\u001b[0m\u001b[0mvalue\u001b[0m \u001b[1;32mfor\u001b[0m \u001b[0mvar\u001b[0m \u001b[1;32min\u001b[0m  \u001b[0miterable\u001b[0m \u001b[1;32mif\u001b[0m \u001b[0mcondition\u001b[0m \u001b[1;33m==\u001b[0m \u001b[1;32mTrue\u001b[0m\u001b[1;33m}\u001b[0m\u001b[1;33m\u001b[0m\u001b[1;33m\u001b[0m\u001b[0m\n\u001b[0m",
      "\u001b[1;31mNameError\u001b[0m: name 'iterable' is not defined"
     ]
    }
   ],
   "source": [
    "d={key:value for var in  iterable if condition == True}"
   ]
  },
  {
   "cell_type": "code",
   "execution_count": 66,
   "id": "0e1d50ec",
   "metadata": {},
   "outputs": [
    {
     "data": {
      "text/plain": [
       "{1: 1, 2: 4, 3: 9, 4: 16, 5: 25, 6: 36, 7: 49, 8: 64, 9: 81, 10: 100}"
      ]
     },
     "execution_count": 66,
     "metadata": {},
     "output_type": "execute_result"
    }
   ],
   "source": [
    "{i:i**2 for i in range(1,11)}"
   ]
  },
  {
   "cell_type": "code",
   "execution_count": 67,
   "id": "b3b9a34a",
   "metadata": {},
   "outputs": [
    {
     "name": "stdout",
     "output_type": "stream",
     "text": [
      "dict_items([('delhi', 1000), ('mumbai', 2000), ('bangalore', 3000)])\n"
     ]
    }
   ],
   "source": [
    "distances = {'delhi':1000,'mumbai':2000,'bangalore':3000}\n",
    "print(distances.items())"
   ]
  },
  {
   "cell_type": "code",
   "execution_count": 69,
   "id": "a357b1b8",
   "metadata": {},
   "outputs": [
    {
     "data": {
      "text/plain": [
       "{'delhi': 600.0, 'mumbai': 1200.0, 'bangalore': 1800.0}"
      ]
     },
     "execution_count": 69,
     "metadata": {},
     "output_type": "execute_result"
    }
   ],
   "source": [
    "{key:value*0.6 for (key,value) in distances.items()}"
   ]
  },
  {
   "cell_type": "code",
   "execution_count": 70,
   "id": "73458e8a",
   "metadata": {},
   "outputs": [
    {
     "data": {
      "text/plain": [
       "{'delhi': 600.0, 'mumbai': 1200.0, 'bangalore': 1800.0}"
      ]
     },
     "execution_count": 70,
     "metadata": {},
     "output_type": "execute_result"
    }
   ],
   "source": [
    "{key:value*0.6 for (key,value) in distances.items()}"
   ]
  },
  {
   "cell_type": "code",
   "execution_count": 71,
   "id": "68ddfe47",
   "metadata": {},
   "outputs": [],
   "source": [
    "days = [\"Sunday\", \"Monday\",\"Tuesday\",\"Wednesday\",\"Thursday\",\"Friday\",\"Saturday\"]\n",
    "temp_C = [30.5,32.6,31.8,33.4,29.8,30.2,29.9]"
   ]
  },
  {
   "cell_type": "code",
   "execution_count": 73,
   "id": "c94b3769",
   "metadata": {},
   "outputs": [
    {
     "data": {
      "text/plain": [
       "{'Sunday': 30.5,\n",
       " 'Monday': 32.6,\n",
       " 'Tuesday': 31.8,\n",
       " 'Wednesday': 33.4,\n",
       " 'Thursday': 29.8,\n",
       " 'Friday': 30.2,\n",
       " 'Saturday': 29.9}"
      ]
     },
     "execution_count": 73,
     "metadata": {},
     "output_type": "execute_result"
    }
   ],
   "source": [
    "{key:value for (key,value) in zip(days,temp_C)}"
   ]
  },
  {
   "cell_type": "code",
   "execution_count": 77,
   "id": "472dfd6b",
   "metadata": {},
   "outputs": [
    {
     "data": {
      "text/plain": [
       "{'phone': 10, 'charger': 32}"
      ]
     },
     "execution_count": 77,
     "metadata": {},
     "output_type": "execute_result"
    }
   ],
   "source": [
    "products = {'phone':10,'laptop':0,'charger':32,'tablet':0}\n",
    "{key:value for (key,value) in products.items() if value >0}"
   ]
  },
  {
   "cell_type": "code",
   "execution_count": 79,
   "id": "4f2007c6",
   "metadata": {},
   "outputs": [
    {
     "data": {
      "text/plain": [
       "{'phone': 10, 'charger': 32}"
      ]
     },
     "execution_count": 79,
     "metadata": {},
     "output_type": "execute_result"
    }
   ],
   "source": [
    "product = {'phone':10,'laptop':0,'charger':32,'tablet':0}\n",
    "{key:value for (key,value) in product.items() if value>0}"
   ]
  },
  {
   "cell_type": "code",
   "execution_count": 80,
   "id": "8bed3a9c",
   "metadata": {},
   "outputs": [
    {
     "data": {
      "text/plain": [
       "{2: {1: 2, 2: 4, 3: 6, 4: 8, 5: 10, 6: 12, 7: 14, 8: 16, 9: 18, 10: 20},\n",
       " 3: {1: 3, 2: 6, 3: 9, 4: 12, 5: 15, 6: 18, 7: 21, 8: 24, 9: 27, 10: 30},\n",
       " 4: {1: 4, 2: 8, 3: 12, 4: 16, 5: 20, 6: 24, 7: 28, 8: 32, 9: 36, 10: 40},\n",
       " 5: {1: 5, 2: 10, 3: 15, 4: 20, 5: 25, 6: 30, 7: 35, 8: 40, 9: 45, 10: 50}}"
      ]
     },
     "execution_count": 80,
     "metadata": {},
     "output_type": "execute_result"
    }
   ],
   "source": [
    "{i:{j:j*i for j in range(1,11)} for i in range(2,6)}"
   ]
  },
  {
   "cell_type": "code",
   "execution_count": 83,
   "id": "9a950520",
   "metadata": {},
   "outputs": [],
   "source": [
    "my_family={\n",
    "    \n",
    "    'child1':{\n",
    "        'name':'pratik',\n",
    "        'age' : 21\n",
    "    },\n",
    "    \n",
    "    'child2':{\n",
    "        'name':'golu',\n",
    "        'age':22\n",
    "    },\n",
    "    \n",
    "    'child3':{\n",
    "        'name':'shivam',\n",
    "        'age':24\n",
    "    }\n",
    "}"
   ]
  },
  {
   "cell_type": "code",
   "execution_count": 84,
   "id": "075230fa",
   "metadata": {},
   "outputs": [
    {
     "data": {
      "text/plain": [
       "{'child1': {'name': 'pratik', 'age': 21},\n",
       " 'child2': {'name': 'golu', 'age': 22},\n",
       " 'child3': {'name': 'shivam', 'age': 24}}"
      ]
     },
     "execution_count": 84,
     "metadata": {},
     "output_type": "execute_result"
    }
   ],
   "source": [
    "my_family"
   ]
  },
  {
   "cell_type": "code",
   "execution_count": 85,
   "id": "d5dc6b64",
   "metadata": {},
   "outputs": [
    {
     "data": {
      "text/plain": [
       "{'child1': {'name': 'pratik', 'age': 21},\n",
       " 'child2': {'name': 'golu', 'age': 23},\n",
       " 'child3': {'name': 'shivam', 'age': 24}}"
      ]
     },
     "execution_count": 85,
     "metadata": {},
     "output_type": "execute_result"
    }
   ],
   "source": [
    "my_family={\n",
    "    \n",
    "    'child1':{\n",
    "        'name':'pratik',\n",
    "        'age':21\n",
    "    },\n",
    "    \n",
    "    'child2':{\n",
    "        'name':'golu',\n",
    "        'age' : 23\n",
    "    },\n",
    "    \n",
    "    'child3':{\n",
    "        'name':'shivam',\n",
    "        'age':24\n",
    "    }\n",
    "}\n",
    "my_family"
   ]
  },
  {
   "cell_type": "code",
   "execution_count": 86,
   "id": "86c36a0d",
   "metadata": {},
   "outputs": [],
   "source": [
    "child1={\n",
    "    'name':'pratik',\n",
    "    'age':21\n",
    "}\n",
    "\n",
    "child2={\n",
    "    'name':'sumit',\n",
    "    'age':23\n",
    "}\n",
    "\n",
    "child3={\n",
    "    'name':'shivam',\n",
    "    'age':25\n",
    "}\n",
    "\n",
    "my_family={\n",
    "    'child1':child1,\n",
    "    'child2':child2,\n",
    "    'child3':child3\n",
    "}"
   ]
  },
  {
   "cell_type": "code",
   "execution_count": 87,
   "id": "9baf6972",
   "metadata": {},
   "outputs": [
    {
     "data": {
      "text/plain": [
       "{'child1': {'name': 'pratik', 'age': 21},\n",
       " 'child2': {'name': 'sumit', 'age': 23},\n",
       " 'child3': {'name': 'shivam', 'age': 25}}"
      ]
     },
     "execution_count": 87,
     "metadata": {},
     "output_type": "execute_result"
    }
   ],
   "source": [
    "my_family"
   ]
  },
  {
   "cell_type": "code",
   "execution_count": 88,
   "id": "18ac2293",
   "metadata": {},
   "outputs": [
    {
     "data": {
      "text/plain": [
       "25"
      ]
     },
     "execution_count": 88,
     "metadata": {},
     "output_type": "execute_result"
    }
   ],
   "source": [
    "my_family['child3']['age']"
   ]
  },
  {
   "cell_type": "code",
   "execution_count": 89,
   "id": "a2043b6c",
   "metadata": {},
   "outputs": [],
   "source": [
    "#creating a dictonary using a sequence and dictonary function\n",
    "d=dict([('name','pratik'),('age',23)])"
   ]
  },
  {
   "cell_type": "code",
   "execution_count": 90,
   "id": "78567af9",
   "metadata": {},
   "outputs": [
    {
     "data": {
      "text/plain": [
       "{'name': 'pratik', 'age': 23}"
      ]
     },
     "execution_count": 90,
     "metadata": {},
     "output_type": "execute_result"
    }
   ],
   "source": [
    "d"
   ]
  },
  {
   "cell_type": "code",
   "execution_count": 91,
   "id": "122cf198",
   "metadata": {},
   "outputs": [
    {
     "name": "stdout",
     "output_type": "stream",
     "text": [
      "{'brand': 'Ford', 'model': 'Mustang', 'year': 1964}\n"
     ]
    }
   ],
   "source": [
    "car = {\n",
    "  \"brand\": \"Ford\",\n",
    "  \"model\": \"Mustang\",\n",
    "  \"year\": 1964\n",
    "}\n",
    "\n",
    "print(car)\n"
   ]
  },
  {
   "cell_type": "code",
   "execution_count": 92,
   "id": "c147480b",
   "metadata": {},
   "outputs": [
    {
     "data": {
      "text/plain": [
       "'Ford'"
      ]
     },
     "execution_count": 92,
     "metadata": {},
     "output_type": "execute_result"
    }
   ],
   "source": [
    "car['brand']"
   ]
  },
  {
   "cell_type": "code",
   "execution_count": 93,
   "id": "d3a3cf50",
   "metadata": {},
   "outputs": [
    {
     "data": {
      "text/plain": [
       "'Ford'"
      ]
     },
     "execution_count": 93,
     "metadata": {},
     "output_type": "execute_result"
    }
   ],
   "source": [
    "car.get('brand')"
   ]
  },
  {
   "cell_type": "code",
   "execution_count": 94,
   "id": "cea75d1b",
   "metadata": {},
   "outputs": [
    {
     "data": {
      "text/plain": [
       "dict_items([('brand', 'Ford'), ('model', 'Mustang'), ('year', 1964)])"
      ]
     },
     "execution_count": 94,
     "metadata": {},
     "output_type": "execute_result"
    }
   ],
   "source": [
    "car.items()"
   ]
  },
  {
   "cell_type": "code",
   "execution_count": 95,
   "id": "bfad09f6",
   "metadata": {},
   "outputs": [
    {
     "data": {
      "text/plain": [
       "dict_keys(['brand', 'model', 'year'])"
      ]
     },
     "execution_count": 95,
     "metadata": {},
     "output_type": "execute_result"
    }
   ],
   "source": [
    "car.keys()"
   ]
  },
  {
   "cell_type": "code",
   "execution_count": 96,
   "id": "b997d467",
   "metadata": {},
   "outputs": [
    {
     "data": {
      "text/plain": [
       "dict_values(['Ford', 'Mustang', 1964])"
      ]
     },
     "execution_count": 96,
     "metadata": {},
     "output_type": "execute_result"
    }
   ],
   "source": [
    "car.values()"
   ]
  },
  {
   "cell_type": "code",
   "execution_count": 97,
   "id": "3834600f",
   "metadata": {},
   "outputs": [
    {
     "name": "stdout",
     "output_type": "stream",
     "text": [
      "{'brand': 'Ford', 'model': 'Mustang', 'year': 1964}\n"
     ]
    }
   ],
   "source": [
    "car = {\n",
    "  \"brand\": \"Ford\",\n",
    "  \"model\": \"Mustang\",\n",
    "  \"year\": 1964\n",
    "}\n",
    "\n",
    "print(car)"
   ]
  },
  {
   "cell_type": "code",
   "execution_count": 98,
   "id": "6e176556",
   "metadata": {},
   "outputs": [
    {
     "data": {
      "text/plain": [
       "{'brand': 'Ford', 'model': 'Mustang', 'year': 1963}"
      ]
     },
     "execution_count": 98,
     "metadata": {},
     "output_type": "execute_result"
    }
   ],
   "source": [
    "car['year']=1963\n",
    "car"
   ]
  },
  {
   "cell_type": "code",
   "execution_count": 99,
   "id": "47a2b607",
   "metadata": {},
   "outputs": [
    {
     "data": {
      "text/plain": [
       "{'brand': 'Ford', 'model': 'Mustang', 'year': 1964}"
      ]
     },
     "execution_count": 99,
     "metadata": {},
     "output_type": "execute_result"
    }
   ],
   "source": [
    "car.update({'year':1964})\n",
    "car"
   ]
  },
  {
   "cell_type": "code",
   "execution_count": 100,
   "id": "69649ed6",
   "metadata": {},
   "outputs": [
    {
     "data": {
      "text/plain": [
       "{'brand': 'Ford', 'model': 'Mustang', 'year': 1964, 'color': 'red'}"
      ]
     },
     "execution_count": 100,
     "metadata": {},
     "output_type": "execute_result"
    }
   ],
   "source": [
    "car['color']='red'\n",
    "car"
   ]
  },
  {
   "cell_type": "code",
   "execution_count": 101,
   "id": "04572287",
   "metadata": {},
   "outputs": [
    {
     "data": {
      "text/plain": [
       "{'brand': 'Ford',\n",
       " 'model': 'Mustang',\n",
       " 'year': 1964,\n",
       " 'color': 'red',\n",
       " 'country': 'Italy'}"
      ]
     },
     "execution_count": 101,
     "metadata": {},
     "output_type": "execute_result"
    }
   ],
   "source": [
    "car.update({'country':'Italy'})\n",
    "car"
   ]
  },
  {
   "cell_type": "code",
   "execution_count": 102,
   "id": "a4d211d7",
   "metadata": {},
   "outputs": [
    {
     "data": {
      "text/plain": [
       "'Italy'"
      ]
     },
     "execution_count": 102,
     "metadata": {},
     "output_type": "execute_result"
    }
   ],
   "source": [
    "car.pop('country')"
   ]
  },
  {
   "cell_type": "code",
   "execution_count": 103,
   "id": "f79e0b1c",
   "metadata": {},
   "outputs": [
    {
     "data": {
      "text/plain": [
       "{'brand': 'Ford', 'model': 'Mustang', 'year': 1964, 'color': 'red'}"
      ]
     },
     "execution_count": 103,
     "metadata": {},
     "output_type": "execute_result"
    }
   ],
   "source": [
    "car"
   ]
  },
  {
   "cell_type": "code",
   "execution_count": 104,
   "id": "79d2a0a1",
   "metadata": {},
   "outputs": [
    {
     "data": {
      "text/plain": [
       "('color', 'red')"
      ]
     },
     "execution_count": 104,
     "metadata": {},
     "output_type": "execute_result"
    }
   ],
   "source": [
    "car.popitem()"
   ]
  },
  {
   "cell_type": "code",
   "execution_count": 105,
   "id": "56336acc",
   "metadata": {},
   "outputs": [
    {
     "data": {
      "text/plain": [
       "{'brand': 'Ford', 'model': 'Mustang', 'year': 1964}"
      ]
     },
     "execution_count": 105,
     "metadata": {},
     "output_type": "execute_result"
    }
   ],
   "source": [
    "car"
   ]
  },
  {
   "cell_type": "code",
   "execution_count": 106,
   "id": "52801ed9",
   "metadata": {},
   "outputs": [],
   "source": [
    "car.clear()"
   ]
  },
  {
   "cell_type": "code",
   "execution_count": 107,
   "id": "46544eda",
   "metadata": {},
   "outputs": [
    {
     "data": {
      "text/plain": [
       "{}"
      ]
     },
     "execution_count": 107,
     "metadata": {},
     "output_type": "execute_result"
    }
   ],
   "source": [
    "car"
   ]
  },
  {
   "cell_type": "code",
   "execution_count": 110,
   "id": "25789c15",
   "metadata": {},
   "outputs": [
    {
     "name": "stdout",
     "output_type": "stream",
     "text": [
      "{'brand': 'Ford', 'model': 'Mustang', 'year': 1964}\n"
     ]
    }
   ],
   "source": [
    "car = {\n",
    "  \"brand\": \"Ford\",\n",
    "  \"model\": \"Mustang\",\n",
    "  \"year\": 1964\n",
    "}\n",
    "\n",
    "print(car)"
   ]
  },
  {
   "cell_type": "code",
   "execution_count": 109,
   "id": "86f37986",
   "metadata": {},
   "outputs": [
    {
     "ename": "NameError",
     "evalue": "name 'car' is not defined",
     "output_type": "error",
     "traceback": [
      "\u001b[1;31m---------------------------------------------------------------------------\u001b[0m",
      "\u001b[1;31mNameError\u001b[0m                                 Traceback (most recent call last)",
      "\u001b[1;32m<ipython-input-109-8dd34c0bd68d>\u001b[0m in \u001b[0;36m<module>\u001b[1;34m\u001b[0m\n\u001b[0;32m      1\u001b[0m \u001b[1;32mdel\u001b[0m \u001b[0mcar\u001b[0m\u001b[1;33m\u001b[0m\u001b[1;33m\u001b[0m\u001b[0m\n\u001b[1;32m----> 2\u001b[1;33m \u001b[0mcar\u001b[0m\u001b[1;33m\u001b[0m\u001b[1;33m\u001b[0m\u001b[0m\n\u001b[0m",
      "\u001b[1;31mNameError\u001b[0m: name 'car' is not defined"
     ]
    }
   ],
   "source": [
    "del car\n",
    "car"
   ]
  },
  {
   "cell_type": "code",
   "execution_count": 112,
   "id": "b3627751",
   "metadata": {},
   "outputs": [],
   "source": [
    "del car['brand']"
   ]
  },
  {
   "cell_type": "code",
   "execution_count": 113,
   "id": "213eda7c",
   "metadata": {},
   "outputs": [
    {
     "data": {
      "text/plain": [
       "{'model': 'Mustang', 'year': 1964}"
      ]
     },
     "execution_count": 113,
     "metadata": {},
     "output_type": "execute_result"
    }
   ],
   "source": [
    "car"
   ]
  },
  {
   "cell_type": "code",
   "execution_count": 114,
   "id": "936a3502",
   "metadata": {},
   "outputs": [
    {
     "name": "stdout",
     "output_type": "stream",
     "text": [
      "{'brand': 'Ford', 'model': 'Mustang', 'year': 1964}\n"
     ]
    }
   ],
   "source": [
    "car = {\n",
    "  \"brand\": \"Ford\",\n",
    "  \"model\": \"Mustang\",\n",
    "  \"year\": 1964\n",
    "}\n",
    "\n",
    "print(car)"
   ]
  },
  {
   "cell_type": "code",
   "execution_count": 116,
   "id": "58a9cab3",
   "metadata": {},
   "outputs": [
    {
     "data": {
      "text/plain": [
       "False"
      ]
     },
     "execution_count": 116,
     "metadata": {},
     "output_type": "execute_result"
    }
   ],
   "source": [
    "'brand' not in car"
   ]
  },
  {
   "cell_type": "code",
   "execution_count": 118,
   "id": "23de84b9",
   "metadata": {},
   "outputs": [
    {
     "data": {
      "text/plain": [
       "True"
      ]
     },
     "execution_count": 118,
     "metadata": {},
     "output_type": "execute_result"
    }
   ],
   "source": [
    "'colot' not  in car"
   ]
  },
  {
   "cell_type": "code",
   "execution_count": 119,
   "id": "d65ecb4e",
   "metadata": {},
   "outputs": [
    {
     "name": "stdout",
     "output_type": "stream",
     "text": [
      "{'brand': 'Ford', 'model': 'Mustang', 'year': 1964}\n"
     ]
    }
   ],
   "source": [
    "car = {\n",
    "  \"brand\": \"Ford\",\n",
    "  \"model\": \"Mustang\",\n",
    "  \"year\": 1964\n",
    "}\n",
    "\n",
    "print(car)"
   ]
  },
  {
   "cell_type": "code",
   "execution_count": 120,
   "id": "82fa2bba",
   "metadata": {},
   "outputs": [
    {
     "name": "stdout",
     "output_type": "stream",
     "text": [
      "brand model year "
     ]
    }
   ],
   "source": [
    "for i in car:\n",
    "    print(i,end=\" \")"
   ]
  },
  {
   "cell_type": "code",
   "execution_count": 121,
   "id": "fda30632",
   "metadata": {},
   "outputs": [
    {
     "name": "stdout",
     "output_type": "stream",
     "text": [
      "Ford\n",
      "Mustang\n",
      "1964\n"
     ]
    }
   ],
   "source": [
    "for i in car:\n",
    "    print(car[i])"
   ]
  },
  {
   "cell_type": "code",
   "execution_count": 122,
   "id": "f3ee091e",
   "metadata": {},
   "outputs": [
    {
     "name": "stdout",
     "output_type": "stream",
     "text": [
      "('brand', 'Ford')\n",
      "('model', 'Mustang')\n",
      "('year', 1964)\n"
     ]
    }
   ],
   "source": [
    "for i in car.items():\n",
    "    print(i)"
   ]
  },
  {
   "cell_type": "code",
   "execution_count": 123,
   "id": "232ea16d",
   "metadata": {},
   "outputs": [
    {
     "name": "stdout",
     "output_type": "stream",
     "text": [
      "brand\n",
      "model\n",
      "year\n"
     ]
    }
   ],
   "source": [
    "for i in car.keys():\n",
    "    print(i)"
   ]
  },
  {
   "cell_type": "code",
   "execution_count": 124,
   "id": "d75c57f4",
   "metadata": {},
   "outputs": [
    {
     "name": "stdout",
     "output_type": "stream",
     "text": [
      "Ford\n",
      "Mustang\n",
      "1964\n"
     ]
    }
   ],
   "source": [
    "for i in car.values():\n",
    "    print(i)"
   ]
  },
  {
   "cell_type": "code",
   "execution_count": 125,
   "id": "1e1204f8",
   "metadata": {},
   "outputs": [
    {
     "name": "stdout",
     "output_type": "stream",
     "text": [
      "{'brand': 'Ford', 'model': 'Mustang', 'year': 1964}\n"
     ]
    }
   ],
   "source": [
    "car = {\n",
    "  \"brand\": \"Ford\",\n",
    "  \"model\": \"Mustang\",\n",
    "  \"year\": 1964\n",
    "}\n",
    "\n",
    "print(car)"
   ]
  },
  {
   "cell_type": "code",
   "execution_count": 130,
   "id": "c8ae6a87",
   "metadata": {},
   "outputs": [
    {
     "data": {
      "text/plain": [
       "{'key1': None, 'key2': None, 'key3': None}"
      ]
     },
     "execution_count": 130,
     "metadata": {},
     "output_type": "execute_result"
    }
   ],
   "source": [
    "x='key1','key2','key3'\n",
    "\n",
    "z=dict.fromkeys(x,)\n",
    "z"
   ]
  },
  {
   "cell_type": "code",
   "execution_count": 131,
   "id": "fb2a3d05",
   "metadata": {},
   "outputs": [
    {
     "data": {
      "text/plain": [
       "{'child1': {'name': 'pratik', 'age': 21},\n",
       " 'child2': {'name': 'sumit', 'age': 21}}"
      ]
     },
     "execution_count": 131,
     "metadata": {},
     "output_type": "execute_result"
    }
   ],
   "source": [
    "my_family={\n",
    "    \n",
    "    'child1':{\n",
    "        'name':'pratik',\n",
    "        'age':21\n",
    "    },\n",
    "    'child2':{\n",
    "        'name':'sumit',\n",
    "        'age':21\n",
    "    }\n",
    "    \n",
    "}\n",
    "my_family"
   ]
  },
  {
   "cell_type": "code",
   "execution_count": 133,
   "id": "11630458",
   "metadata": {},
   "outputs": [],
   "source": [
    "child1={\n",
    "    'name':'pratik',\n",
    "    'age':21\n",
    "}\n",
    "\n",
    "child2={\n",
    "    'name':'shivam',\n",
    "    'age':24\n",
    "}\n",
    "\n",
    "child3={\n",
    "    'name':'ashu',\n",
    "    'age':29\n",
    "}\n",
    "\n",
    "my_family={\n",
    "    \n",
    "    'child1':child1,\n",
    "    'child2':child2,\n",
    "    'child3':child3\n",
    "}"
   ]
  },
  {
   "cell_type": "code",
   "execution_count": 134,
   "id": "b1a2133a",
   "metadata": {},
   "outputs": [
    {
     "data": {
      "text/plain": [
       "{'child1': {'name': 'pratik', 'age': 21},\n",
       " 'child2': {'name': 'shivam', 'age': 24},\n",
       " 'child3': {'name': 'ashu', 'age': 29}}"
      ]
     },
     "execution_count": 134,
     "metadata": {},
     "output_type": "execute_result"
    }
   ],
   "source": [
    "my_family"
   ]
  },
  {
   "cell_type": "code",
   "execution_count": 135,
   "id": "a53e27a6",
   "metadata": {},
   "outputs": [
    {
     "data": {
      "text/plain": [
       "'ashu'"
      ]
     },
     "execution_count": 135,
     "metadata": {},
     "output_type": "execute_result"
    }
   ],
   "source": [
    "my_family['child3']['name']"
   ]
  },
  {
   "cell_type": "code",
   "execution_count": 136,
   "id": "c8e9dfa0",
   "metadata": {},
   "outputs": [
    {
     "data": {
      "text/plain": [
       "{1: 1, 2: 4, 3: 9, 4: 16, 5: 25, 6: 36, 7: 49, 8: 64, 9: 81, 10: 100}"
      ]
     },
     "execution_count": 136,
     "metadata": {},
     "output_type": "execute_result"
    }
   ],
   "source": [
    "{i:i**2 for i in range(1,11)}"
   ]
  },
  {
   "cell_type": "code",
   "execution_count": 137,
   "id": "565ee7f8",
   "metadata": {},
   "outputs": [
    {
     "name": "stdout",
     "output_type": "stream",
     "text": [
      "dict_items([('delhi', 1000), ('mumbai', 2000), ('bangalore', 3000)])\n"
     ]
    }
   ],
   "source": [
    "distances = {'delhi':1000,'mumbai':2000,'bangalore':3000}\n",
    "print(distances.items())"
   ]
  },
  {
   "cell_type": "code",
   "execution_count": 139,
   "id": "8aed5516",
   "metadata": {},
   "outputs": [
    {
     "data": {
      "text/plain": [
       "{'delhi': 600.0, 'mumbai': 1200.0, 'bangalore': 1800.0}"
      ]
     },
     "execution_count": 139,
     "metadata": {},
     "output_type": "execute_result"
    }
   ],
   "source": [
    "{key:value*0.6 for (key,value) in distances.items()}"
   ]
  },
  {
   "cell_type": "code",
   "execution_count": 140,
   "id": "6d862049",
   "metadata": {},
   "outputs": [
    {
     "data": {
      "text/plain": [
       "{'Sunday': 30.5,\n",
       " 'Monday': 32.6,\n",
       " 'Tuesday': 31.8,\n",
       " 'Wednesday': 33.4,\n",
       " 'Thursday': 29.8,\n",
       " 'Friday': 30.2,\n",
       " 'Saturday': 29.9}"
      ]
     },
     "execution_count": 140,
     "metadata": {},
     "output_type": "execute_result"
    }
   ],
   "source": [
    "days = [\"Sunday\", \"Monday\",\"Tuesday\",\"Wednesday\",\"Thursday\",\"Friday\",\"Saturday\"]\n",
    "temp_C = [30.5,32.6,31.8,33.4,29.8,30.2,29.9]\n",
    "{key:value for (key,value) in zip(days,temp_C)}"
   ]
  },
  {
   "cell_type": "code",
   "execution_count": null,
   "id": "e1f5e315",
   "metadata": {},
   "outputs": [],
   "source": [
    "products = {'phone':10,'laptop':0,'charger':32,'tablet':0}\n"
   ]
  },
  {
   "cell_type": "code",
   "execution_count": 1,
   "id": "5a1b4181",
   "metadata": {},
   "outputs": [
    {
     "name": "stdout",
     "output_type": "stream",
     "text": [
      "{} <class 'dict'>\n"
     ]
    }
   ],
   "source": [
    "d={}\n",
    "print(d,type(d))"
   ]
  },
  {
   "cell_type": "code",
   "execution_count": 2,
   "id": "5e1d246f",
   "metadata": {},
   "outputs": [
    {
     "name": "stdout",
     "output_type": "stream",
     "text": [
      "{'name': 'pratik', 'age': 23, 'gender': 'male'} <class 'dict'>\n"
     ]
    }
   ],
   "source": [
    "d={\"name\":'pratik','age':23,'gender':'male'}\n",
    "print(d,type(d))"
   ]
  },
  {
   "cell_type": "code",
   "execution_count": 3,
   "id": "34de1dc6",
   "metadata": {},
   "outputs": [
    {
     "name": "stdout",
     "output_type": "stream",
     "text": [
      "{'name': 'pratik', 'age': 23, 'gender': 'male', 'subject': {'math': 90, 'himdi': 98}} <class 'dict'>\n"
     ]
    }
   ],
   "source": [
    "d={\n",
    "    'name':'pratik',\n",
    "    'age':23,\n",
    "    'gender':'male',\n",
    "    'subject':{\n",
    "    \n",
    "        'math':90,\n",
    "        'himdi':98\n",
    "    }\n",
    "}\n",
    "\n",
    "\n",
    "print(d,type(d))"
   ]
  },
  {
   "cell_type": "code",
   "execution_count": 4,
   "id": "ce4cc7b0",
   "metadata": {},
   "outputs": [
    {
     "name": "stdout",
     "output_type": "stream",
     "text": [
      "{'name': 'pratik', 'age': 23, 'gender': 'male'} <class 'dict'>\n"
     ]
    }
   ],
   "source": [
    "#homogenous\n",
    "d={\"name\":'pratik','age':23,'gender':'male'}\n",
    "print(d,type(d))"
   ]
  },
  {
   "cell_type": "code",
   "execution_count": 5,
   "id": "5aacb0c7",
   "metadata": {},
   "outputs": [
    {
     "name": "stdout",
     "output_type": "stream",
     "text": [
      "{'hello': 'world', (1, 2, 3): 1} <class 'dict'>\n"
     ]
    }
   ],
   "source": [
    "#mixed or hetrogenous\n",
    "d={'hello':'world',(1,2,3):1}\n",
    "print(d,type(d))"
   ]
  },
  {
   "cell_type": "code",
   "execution_count": 6,
   "id": "efadaf83",
   "metadata": {},
   "outputs": [
    {
     "name": "stdout",
     "output_type": "stream",
     "text": [
      "{'name': 'pratik', 'age': 21} <class 'dict'>\n"
     ]
    }
   ],
   "source": [
    "#creating a dictonary using a sequence and dictonary function.\n",
    "d=dict([('name','pratik'),('age',21)])\n",
    "print(d,type(d))"
   ]
  },
  {
   "cell_type": "code",
   "execution_count": 7,
   "id": "3206cdcc",
   "metadata": {},
   "outputs": [],
   "source": [
    "d={'name':'pratik','name':'golu','age':21}"
   ]
  },
  {
   "cell_type": "code",
   "execution_count": 8,
   "id": "49cadcfb",
   "metadata": {},
   "outputs": [
    {
     "name": "stdout",
     "output_type": "stream",
     "text": [
      "{'name': 'golu', 'age': 21}\n"
     ]
    }
   ],
   "source": [
    "print(d)"
   ]
  },
  {
   "cell_type": "code",
   "execution_count": 9,
   "id": "9a5ecf5b",
   "metadata": {},
   "outputs": [],
   "source": [
    "# [],get,items,keys,values"
   ]
  },
  {
   "cell_type": "code",
   "execution_count": 11,
   "id": "f1da0961",
   "metadata": {},
   "outputs": [
    {
     "data": {
      "text/plain": [
       "{'name': 'pratik',\n",
       " 'age': 23,\n",
       " 'gender': 'male',\n",
       " 'subject': {'math': 90, 'himdi': 98}}"
      ]
     },
     "execution_count": 11,
     "metadata": {},
     "output_type": "execute_result"
    }
   ],
   "source": [
    "d={\n",
    "    'name':'pratik',\n",
    "    'age':23,\n",
    "    'gender':'male',\n",
    "    'subject':{\n",
    "    \n",
    "        'math':90,\n",
    "        'himdi':98\n",
    "    }\n",
    "}\n",
    "\n",
    "d"
   ]
  },
  {
   "cell_type": "code",
   "execution_count": 12,
   "id": "6e286303",
   "metadata": {},
   "outputs": [
    {
     "data": {
      "text/plain": [
       "'male'"
      ]
     },
     "execution_count": 12,
     "metadata": {},
     "output_type": "execute_result"
    }
   ],
   "source": [
    "d['gender']"
   ]
  },
  {
   "cell_type": "code",
   "execution_count": 13,
   "id": "419a2fc2",
   "metadata": {},
   "outputs": [
    {
     "data": {
      "text/plain": [
       "90"
      ]
     },
     "execution_count": 13,
     "metadata": {},
     "output_type": "execute_result"
    }
   ],
   "source": [
    "d['subject']['math']"
   ]
  },
  {
   "cell_type": "code",
   "execution_count": 14,
   "id": "5d2cb9f6",
   "metadata": {},
   "outputs": [
    {
     "data": {
      "text/plain": [
       "'pratik'"
      ]
     },
     "execution_count": 14,
     "metadata": {},
     "output_type": "execute_result"
    }
   ],
   "source": [
    "d.get('name')"
   ]
  },
  {
   "cell_type": "code",
   "execution_count": 15,
   "id": "7d464af8",
   "metadata": {},
   "outputs": [
    {
     "data": {
      "text/plain": [
       "{'math': 90, 'himdi': 98}"
      ]
     },
     "execution_count": 15,
     "metadata": {},
     "output_type": "execute_result"
    }
   ],
   "source": [
    "d.get('subject','math')"
   ]
  },
  {
   "cell_type": "code",
   "execution_count": 16,
   "id": "9f853ac2",
   "metadata": {},
   "outputs": [
    {
     "data": {
      "text/plain": [
       "dict_items([('name', 'pratik'), ('age', 23), ('gender', 'male'), ('subject', {'math': 90, 'himdi': 98})])"
      ]
     },
     "execution_count": 16,
     "metadata": {},
     "output_type": "execute_result"
    }
   ],
   "source": [
    "d.items()"
   ]
  },
  {
   "cell_type": "code",
   "execution_count": 17,
   "id": "44e2abc4",
   "metadata": {},
   "outputs": [
    {
     "data": {
      "text/plain": [
       "dict_keys(['name', 'age', 'gender', 'subject'])"
      ]
     },
     "execution_count": 17,
     "metadata": {},
     "output_type": "execute_result"
    }
   ],
   "source": [
    "d.keys()"
   ]
  },
  {
   "cell_type": "code",
   "execution_count": 18,
   "id": "e2d1fb82",
   "metadata": {},
   "outputs": [
    {
     "data": {
      "text/plain": [
       "dict_values(['pratik', 23, 'male', {'math': 90, 'himdi': 98}])"
      ]
     },
     "execution_count": 18,
     "metadata": {},
     "output_type": "execute_result"
    }
   ],
   "source": [
    "d.values()"
   ]
  },
  {
   "cell_type": "code",
   "execution_count": 19,
   "id": "f1794709",
   "metadata": {},
   "outputs": [
    {
     "data": {
      "text/plain": [
       "{'name': 'pratik',\n",
       " 'age': 23,\n",
       " 'gender': 'male',\n",
       " 'subject': {'math': 90, 'himdi': 98}}"
      ]
     },
     "execution_count": 19,
     "metadata": {},
     "output_type": "execute_result"
    }
   ],
   "source": [
    "d"
   ]
  },
  {
   "cell_type": "code",
   "execution_count": 20,
   "id": "375966e3",
   "metadata": {},
   "outputs": [
    {
     "data": {
      "text/plain": [
       "{'name': 'golu',\n",
       " 'age': 23,\n",
       " 'gender': 'male',\n",
       " 'subject': {'math': 90, 'himdi': 98}}"
      ]
     },
     "execution_count": 20,
     "metadata": {},
     "output_type": "execute_result"
    }
   ],
   "source": [
    "d['name']='golu'\n",
    "d"
   ]
  },
  {
   "cell_type": "code",
   "execution_count": 21,
   "id": "8f9e1eef",
   "metadata": {},
   "outputs": [
    {
     "data": {
      "text/plain": [
       "{'name': 'pratik',\n",
       " 'age': 23,\n",
       " 'gender': 'male',\n",
       " 'subject': {'math': 90, 'himdi': 98}}"
      ]
     },
     "execution_count": 21,
     "metadata": {},
     "output_type": "execute_result"
    }
   ],
   "source": [
    "d.update({'name':'pratik'})\n",
    "d"
   ]
  },
  {
   "cell_type": "code",
   "execution_count": 22,
   "id": "37f9a057",
   "metadata": {},
   "outputs": [
    {
     "data": {
      "text/plain": [
       "{'name': 'pratik',\n",
       " 'age': 23,\n",
       " 'gender': 'male',\n",
       " 'subject': {'math': 98, 'himdi': 98}}"
      ]
     },
     "execution_count": 22,
     "metadata": {},
     "output_type": "execute_result"
    }
   ],
   "source": [
    "d['subject']['math']=98\n",
    "d"
   ]
  },
  {
   "cell_type": "code",
   "execution_count": 23,
   "id": "04107c00",
   "metadata": {},
   "outputs": [
    {
     "data": {
      "text/plain": [
       "{'name': 'pratik', 'age': 23, 'gender': 'male', 'subject': {'math:90'}}"
      ]
     },
     "execution_count": 23,
     "metadata": {},
     "output_type": "execute_result"
    }
   ],
   "source": [
    "d.update({'subject':{'math:90'}})\n",
    "d"
   ]
  },
  {
   "cell_type": "code",
   "execution_count": 24,
   "id": "0db64f0d",
   "metadata": {},
   "outputs": [
    {
     "data": {
      "text/plain": [
       "{'name': 'pratik',\n",
       " 'age': 23,\n",
       " 'gender': 'male',\n",
       " 'subject': {'math': 98, 'hindi': 90}}"
      ]
     },
     "execution_count": 24,
     "metadata": {},
     "output_type": "execute_result"
    }
   ],
   "source": [
    "d.update({'subject':{'math':98,'hindi':90}})\n",
    "d"
   ]
  },
  {
   "cell_type": "code",
   "execution_count": 25,
   "id": "12872dcb",
   "metadata": {},
   "outputs": [
    {
     "data": {
      "text/plain": [
       "{'name': 'pratik',\n",
       " 'age': 23,\n",
       " 'gender': 'male',\n",
       " 'subject': {'math': 98, 'hindi': 90, 'sst': 94}}"
      ]
     },
     "execution_count": 25,
     "metadata": {},
     "output_type": "execute_result"
    }
   ],
   "source": [
    "d['subject']['sst']=94\n",
    "d"
   ]
  },
  {
   "cell_type": "code",
   "execution_count": 26,
   "id": "40e9583a",
   "metadata": {},
   "outputs": [
    {
     "data": {
      "text/plain": [
       "{'name': 'pratik',\n",
       " 'age': 23,\n",
       " 'gender': 'male',\n",
       " 'subject': {'math': 98, 'hindi': 90, 'sst': 94, 'marathi': 90}}"
      ]
     },
     "execution_count": 26,
     "metadata": {},
     "output_type": "execute_result"
    }
   ],
   "source": [
    "d.update({'subject':{'math': 98, 'hindi': 90, 'sst': 94,'marathi':90}})\n",
    "d"
   ]
  },
  {
   "cell_type": "code",
   "execution_count": 35,
   "id": "ec50ea84",
   "metadata": {},
   "outputs": [
    {
     "name": "stdout",
     "output_type": "stream",
     "text": [
      "{'name': 'pratik', 'age': 23, 'id': 21, 'gender': 'male', 'weight': 72}\n"
     ]
    }
   ],
   "source": [
    "my={'name':'pratik','age':23,'id':21,'gender':'male','weight':72}\n",
    "print(my)"
   ]
  },
  {
   "cell_type": "code",
   "execution_count": 30,
   "id": "a10d0792",
   "metadata": {},
   "outputs": [
    {
     "data": {
      "text/plain": [
       "{'name': 'pratik', 'age': 23, 'gender': 'male', 'weight': 72}"
      ]
     },
     "execution_count": 30,
     "metadata": {},
     "output_type": "execute_result"
    }
   ],
   "source": [
    "del my['id']\n",
    "my"
   ]
  },
  {
   "cell_type": "code",
   "execution_count": 32,
   "id": "39a13071",
   "metadata": {},
   "outputs": [
    {
     "data": {
      "text/plain": [
       "{'name': 'pratik', 'age': 23, 'gender': 'male', 'weight': 72}"
      ]
     },
     "execution_count": 32,
     "metadata": {},
     "output_type": "execute_result"
    }
   ],
   "source": [
    "my.pop('id')\n",
    "my"
   ]
  },
  {
   "cell_type": "code",
   "execution_count": 33,
   "id": "a14158c0",
   "metadata": {},
   "outputs": [
    {
     "data": {
      "text/plain": [
       "{'name': 'pratik', 'age': 23, 'gender': 'male'}"
      ]
     },
     "execution_count": 33,
     "metadata": {},
     "output_type": "execute_result"
    }
   ],
   "source": [
    "my.popitem()\n",
    "my"
   ]
  },
  {
   "cell_type": "code",
   "execution_count": 34,
   "id": "26863cbe",
   "metadata": {},
   "outputs": [
    {
     "data": {
      "text/plain": [
       "{}"
      ]
     },
     "execution_count": 34,
     "metadata": {},
     "output_type": "execute_result"
    }
   ],
   "source": [
    "my.clear()\n",
    "my"
   ]
  },
  {
   "cell_type": "code",
   "execution_count": 36,
   "id": "18909e9d",
   "metadata": {},
   "outputs": [
    {
     "data": {
      "text/plain": [
       "{'name': 'pratik', 'age': 23, 'id': 21, 'gender': 'male', 'weight': 72}"
      ]
     },
     "execution_count": 36,
     "metadata": {},
     "output_type": "execute_result"
    }
   ],
   "source": [
    "my"
   ]
  },
  {
   "cell_type": "code",
   "execution_count": 40,
   "id": "4642b767",
   "metadata": {},
   "outputs": [
    {
     "data": {
      "text/plain": [
       "False"
      ]
     },
     "execution_count": 40,
     "metadata": {},
     "output_type": "execute_result"
    }
   ],
   "source": [
    "'namee'  in my"
   ]
  },
  {
   "cell_type": "code",
   "execution_count": 41,
   "id": "b7185129",
   "metadata": {},
   "outputs": [
    {
     "data": {
      "text/plain": [
       "{'name': 'pratik',\n",
       " 'age': 23,\n",
       " 'gender': 'male',\n",
       " 'subject': {'math': 98, 'hindi': 90, 'sst': 94, 'marathi': 90}}"
      ]
     },
     "execution_count": 41,
     "metadata": {},
     "output_type": "execute_result"
    }
   ],
   "source": [
    "d"
   ]
  },
  {
   "cell_type": "code",
   "execution_count": 42,
   "id": "e9c5c6c9",
   "metadata": {},
   "outputs": [
    {
     "name": "stdout",
     "output_type": "stream",
     "text": [
      "name\n",
      "age\n",
      "gender\n",
      "subject\n"
     ]
    }
   ],
   "source": [
    "for i in d:\n",
    "    print(i)"
   ]
  },
  {
   "cell_type": "code",
   "execution_count": 43,
   "id": "61edb597",
   "metadata": {},
   "outputs": [
    {
     "name": "stdout",
     "output_type": "stream",
     "text": [
      "pratik\n",
      "23\n",
      "male\n",
      "{'math': 98, 'hindi': 90, 'sst': 94, 'marathi': 90}\n"
     ]
    }
   ],
   "source": [
    "for i in d:\n",
    "    print(d[i])"
   ]
  },
  {
   "cell_type": "code",
   "execution_count": 44,
   "id": "30cdc415",
   "metadata": {},
   "outputs": [
    {
     "name": "stdout",
     "output_type": "stream",
     "text": [
      "('name', 'pratik')\n",
      "('age', 23)\n",
      "('gender', 'male')\n",
      "('subject', {'math': 98, 'hindi': 90, 'sst': 94, 'marathi': 90})\n"
     ]
    }
   ],
   "source": [
    "for i in d.items():\n",
    "    print(i)"
   ]
  },
  {
   "cell_type": "code",
   "execution_count": 45,
   "id": "1d98eaee",
   "metadata": {},
   "outputs": [
    {
     "name": "stdout",
     "output_type": "stream",
     "text": [
      "name\n",
      "age\n",
      "gender\n",
      "subject\n"
     ]
    }
   ],
   "source": [
    "for i in d.keys():\n",
    "    print(i)"
   ]
  },
  {
   "cell_type": "code",
   "execution_count": 46,
   "id": "918f043c",
   "metadata": {},
   "outputs": [
    {
     "name": "stdout",
     "output_type": "stream",
     "text": [
      "pratik\n",
      "23\n",
      "male\n",
      "{'math': 98, 'hindi': 90, 'sst': 94, 'marathi': 90}\n"
     ]
    }
   ],
   "source": [
    "for i in d.values():\n",
    "    print(i)"
   ]
  },
  {
   "cell_type": "code",
   "execution_count": 47,
   "id": "7b14cb4a",
   "metadata": {},
   "outputs": [],
   "source": [
    "#len/sum/min/max/sorted/copy\n",
    "#get/update/items/keys/values/\n",
    "#dict.fromkeys"
   ]
  },
  {
   "cell_type": "code",
   "execution_count": 48,
   "id": "55a26649",
   "metadata": {},
   "outputs": [
    {
     "data": {
      "text/plain": [
       "{'name': 'pratik', 'age': 23, 'id': 21, 'gender': 'male', 'weight': 72}"
      ]
     },
     "execution_count": 48,
     "metadata": {},
     "output_type": "execute_result"
    }
   ],
   "source": [
    "my"
   ]
  },
  {
   "cell_type": "code",
   "execution_count": 49,
   "id": "74a43222",
   "metadata": {},
   "outputs": [
    {
     "name": "stdout",
     "output_type": "stream",
     "text": [
      "5\n",
      "age\n",
      "weight\n",
      "['age', 'gender', 'id', 'name', 'weight']\n",
      "['weight', 'name', 'id', 'gender', 'age']\n",
      "{'name': 'pratik', 'age': 23, 'id': 21, 'gender': 'male', 'weight': 72} 3019087662656\n",
      "{'name': 'pratik', 'age': 23, 'id': 21, 'gender': 'male', 'weight': 72} 3019088255424\n"
     ]
    }
   ],
   "source": [
    "print(len(my))\n",
    "print(min(my))\n",
    "print(max(my))\n",
    "print(sorted(my))\n",
    "print(sorted(my,reverse=True))\n",
    "print(my,id(my))\n",
    "m=my.copy()\n",
    "print(m,id(m))"
   ]
  },
  {
   "cell_type": "code",
   "execution_count": 50,
   "id": "263684ae",
   "metadata": {},
   "outputs": [
    {
     "name": "stdout",
     "output_type": "stream",
     "text": [
      "18\n"
     ]
    }
   ],
   "source": [
    "d=dict([(1,1),(2,5),(9,3),(6,4)])\n",
    "print(sum(d))"
   ]
  },
  {
   "cell_type": "code",
   "execution_count": 51,
   "id": "a009209e",
   "metadata": {},
   "outputs": [
    {
     "data": {
      "text/plain": [
       "'pratik'"
      ]
     },
     "execution_count": 51,
     "metadata": {},
     "output_type": "execute_result"
    }
   ],
   "source": [
    "my.get('name')"
   ]
  },
  {
   "cell_type": "code",
   "execution_count": 52,
   "id": "e15e1942",
   "metadata": {},
   "outputs": [
    {
     "data": {
      "text/plain": [
       "{'name': 'pratik',\n",
       " 'age': 23,\n",
       " 'id': 21,\n",
       " 'gender': 'male',\n",
       " 'weight': 72,\n",
       " 'nickname': 'golu'}"
      ]
     },
     "execution_count": 52,
     "metadata": {},
     "output_type": "execute_result"
    }
   ],
   "source": [
    "my.update({'nickname':'golu'})\n",
    "my"
   ]
  },
  {
   "cell_type": "code",
   "execution_count": 53,
   "id": "03cad7a9",
   "metadata": {},
   "outputs": [
    {
     "data": {
      "text/plain": [
       "dict_items([('name', 'pratik'), ('age', 23), ('id', 21), ('gender', 'male'), ('weight', 72), ('nickname', 'golu')])"
      ]
     },
     "execution_count": 53,
     "metadata": {},
     "output_type": "execute_result"
    }
   ],
   "source": [
    "my.items()"
   ]
  },
  {
   "cell_type": "code",
   "execution_count": 54,
   "id": "d3f2e68c",
   "metadata": {},
   "outputs": [
    {
     "data": {
      "text/plain": [
       "dict_keys(['name', 'age', 'id', 'gender', 'weight', 'nickname'])"
      ]
     },
     "execution_count": 54,
     "metadata": {},
     "output_type": "execute_result"
    }
   ],
   "source": [
    "my.keys()"
   ]
  },
  {
   "cell_type": "code",
   "execution_count": 55,
   "id": "1620abae",
   "metadata": {},
   "outputs": [
    {
     "data": {
      "text/plain": [
       "dict_values(['pratik', 23, 21, 'male', 72, 'golu'])"
      ]
     },
     "execution_count": 55,
     "metadata": {},
     "output_type": "execute_result"
    }
   ],
   "source": [
    "my.values()"
   ]
  },
  {
   "cell_type": "code",
   "execution_count": 60,
   "id": "75d9048f",
   "metadata": {},
   "outputs": [
    {
     "data": {
      "text/plain": [
       "{'name': None, 'age': None, 3: None}"
      ]
     },
     "execution_count": 60,
     "metadata": {},
     "output_type": "execute_result"
    }
   ],
   "source": [
    "x='name','age',3\n",
    "\n",
    "z=dict.fromkeys(x)\n",
    "z"
   ]
  },
  {
   "cell_type": "code",
   "execution_count": 64,
   "id": "7d5c8384",
   "metadata": {},
   "outputs": [
    {
     "data": {
      "text/plain": [
       "{'child1': {'name': 'amrita', 'age': 27},\n",
       " 'child2': {'name': 'sarika', 'age': 25},\n",
       " 'child3': {'name': 'pratik', 'age': 23}}"
      ]
     },
     "execution_count": 64,
     "metadata": {},
     "output_type": "execute_result"
    }
   ],
   "source": [
    "my={\n",
    "    'child1':{\n",
    "        'name':'amrita',\n",
    "        'age':27\n",
    "    },\n",
    "    \n",
    "    'child2':{\n",
    "        'name':'sarika',\n",
    "        'age':25\n",
    "    },\n",
    "    \n",
    "    'child3':{\n",
    "        'name':'pratik',\n",
    "        'age':23\n",
    "    }\n",
    "}\n",
    "\n",
    "my"
   ]
  },
  {
   "cell_type": "code",
   "execution_count": 62,
   "id": "5df72661",
   "metadata": {},
   "outputs": [],
   "source": [
    "child1={\n",
    "    'name':'a'\n",
    "    \n",
    "}\n",
    "\n",
    "child2={\n",
    "    'name':'s'\n",
    "}\n",
    "\n",
    "child3={\n",
    "    'name':'p'\n",
    "}\n",
    "\n",
    "my={\n",
    "    'child1':child1,\n",
    "    'child2':child2,\n",
    "    'child3':child3\n",
    "}"
   ]
  },
  {
   "cell_type": "code",
   "execution_count": 63,
   "id": "729fa503",
   "metadata": {},
   "outputs": [
    {
     "data": {
      "text/plain": [
       "{'child1': {'name': 'a'}, 'child2': {'name': 's'}, 'child3': {'name': 'p'}}"
      ]
     },
     "execution_count": 63,
     "metadata": {},
     "output_type": "execute_result"
    }
   ],
   "source": [
    "my"
   ]
  },
  {
   "cell_type": "code",
   "execution_count": 65,
   "id": "88f79e20",
   "metadata": {},
   "outputs": [
    {
     "data": {
      "text/plain": [
       "25"
      ]
     },
     "execution_count": 65,
     "metadata": {},
     "output_type": "execute_result"
    }
   ],
   "source": [
    "my['child2']['age']"
   ]
  },
  {
   "cell_type": "code",
   "execution_count": null,
   "id": "e699cef3",
   "metadata": {},
   "outputs": [],
   "source": [
    "{key:value for var in iterable if condition == True}"
   ]
  },
  {
   "cell_type": "code",
   "execution_count": 66,
   "id": "b431c624",
   "metadata": {},
   "outputs": [
    {
     "data": {
      "text/plain": [
       "{1: 1, 2: 4, 3: 9, 4: 16, 5: 25, 6: 36, 7: 49, 8: 64, 9: 81, 10: 100}"
      ]
     },
     "execution_count": 66,
     "metadata": {},
     "output_type": "execute_result"
    }
   ],
   "source": [
    "{i:i**2 for i in range(1,11)}"
   ]
  },
  {
   "cell_type": "code",
   "execution_count": 67,
   "id": "9f8b639a",
   "metadata": {},
   "outputs": [],
   "source": [
    "distances = {'delhi':1000,'mumbai':2000,'bangalore':3000}"
   ]
  },
  {
   "cell_type": "code",
   "execution_count": 69,
   "id": "db0e4ad1",
   "metadata": {},
   "outputs": [
    {
     "data": {
      "text/plain": [
       "{'delhi': 1600.0, 'mumbai': 3200.0, 'bangalore': 4800.0}"
      ]
     },
     "execution_count": 69,
     "metadata": {},
     "output_type": "execute_result"
    }
   ],
   "source": [
    "{key:value*1.6 for(key,value) in distances.items()}"
   ]
  },
  {
   "cell_type": "code",
   "execution_count": 70,
   "id": "be46be72",
   "metadata": {},
   "outputs": [],
   "source": [
    "days = [\"Sunday\", \"Monday\",\"Tuesday\",\"Wednesday\",\"Thursday\",\"Friday\",\"Saturday\"]\n",
    "temp_C = [30.5,32.6,31.8,33.4,29.8,30.2,29.9]"
   ]
  },
  {
   "cell_type": "code",
   "execution_count": 71,
   "id": "63059e80",
   "metadata": {},
   "outputs": [
    {
     "data": {
      "text/plain": [
       "{'Sunday': 30.5,\n",
       " 'Monday': 32.6,\n",
       " 'Tuesday': 31.8,\n",
       " 'Wednesday': 33.4,\n",
       " 'Thursday': 29.8,\n",
       " 'Friday': 30.2,\n",
       " 'Saturday': 29.9}"
      ]
     },
     "execution_count": 71,
     "metadata": {},
     "output_type": "execute_result"
    }
   ],
   "source": [
    "{key:value for (key,value) in zip(days,temp_C)}"
   ]
  },
  {
   "cell_type": "code",
   "execution_count": 72,
   "id": "d7b45150",
   "metadata": {},
   "outputs": [],
   "source": [
    "products = {'phone':10,'laptop':0,'charger':32,'tablet':0}"
   ]
  },
  {
   "cell_type": "code",
   "execution_count": 73,
   "id": "e598a7a4",
   "metadata": {},
   "outputs": [
    {
     "data": {
      "text/plain": [
       "{'phone': 10, 'charger': 32}"
      ]
     },
     "execution_count": 73,
     "metadata": {},
     "output_type": "execute_result"
    }
   ],
   "source": [
    "{key:value for (key,value) in products.items() if value>0}"
   ]
  },
  {
   "cell_type": "code",
   "execution_count": 74,
   "id": "64bf6fa0",
   "metadata": {},
   "outputs": [
    {
     "data": {
      "text/plain": [
       "{2: {1: 2, 2: 4, 3: 6, 4: 8, 5: 10, 6: 12, 7: 14, 8: 16, 9: 18, 10: 20},\n",
       " 3: {1: 3, 2: 6, 3: 9, 4: 12, 5: 15, 6: 18, 7: 21, 8: 24, 9: 27, 10: 30},\n",
       " 4: {1: 4, 2: 8, 3: 12, 4: 16, 5: 20, 6: 24, 7: 28, 8: 32, 9: 36, 10: 40}}"
      ]
     },
     "execution_count": 74,
     "metadata": {},
     "output_type": "execute_result"
    }
   ],
   "source": [
    "{i:{j:i*j for j in range(1,11)} for i in range(2,5)}"
   ]
  },
  {
   "cell_type": "code",
   "execution_count": 75,
   "id": "7bb6600c",
   "metadata": {},
   "outputs": [
    {
     "name": "stdout",
     "output_type": "stream",
     "text": [
      "{} <class 'dict'>\n"
     ]
    }
   ],
   "source": [
    "s={}\n",
    "print(s,type(s))"
   ]
  },
  {
   "cell_type": "code",
   "execution_count": 76,
   "id": "ca7fd3dc",
   "metadata": {},
   "outputs": [
    {
     "name": "stdout",
     "output_type": "stream",
     "text": [
      "set() <class 'set'>\n"
     ]
    }
   ],
   "source": [
    "s=set(())\n",
    "print(s,type(s))"
   ]
  },
  {
   "cell_type": "code",
   "execution_count": 77,
   "id": "a783b288",
   "metadata": {},
   "outputs": [
    {
     "name": "stdout",
     "output_type": "stream",
     "text": [
      "{1, 2, 3, 4, 5} <class 'set'>\n"
     ]
    }
   ],
   "source": [
    "s={1,2,3,4,5}\n",
    "print(s,type(s))"
   ]
  },
  {
   "cell_type": "code",
   "execution_count": 78,
   "id": "865e2e45",
   "metadata": {},
   "outputs": [
    {
     "ename": "TypeError",
     "evalue": "unhashable type: 'set'",
     "output_type": "error",
     "traceback": [
      "\u001b[1;31m---------------------------------------------------------------------------\u001b[0m",
      "\u001b[1;31mTypeError\u001b[0m                                 Traceback (most recent call last)",
      "\u001b[1;32m<ipython-input-78-631fddf3fd31>\u001b[0m in \u001b[0;36m<module>\u001b[1;34m\u001b[0m\n\u001b[1;32m----> 1\u001b[1;33m \u001b[0ms\u001b[0m\u001b[1;33m=\u001b[0m\u001b[1;33m{\u001b[0m\u001b[1;36m1\u001b[0m\u001b[1;33m,\u001b[0m\u001b[1;36m2\u001b[0m\u001b[1;33m,\u001b[0m\u001b[1;36m3\u001b[0m\u001b[1;33m,\u001b[0m\u001b[1;33m{\u001b[0m\u001b[1;36m2\u001b[0m\u001b[1;33m,\u001b[0m\u001b[1;36m3\u001b[0m\u001b[1;33m}\u001b[0m\u001b[1;33m}\u001b[0m\u001b[1;33m\u001b[0m\u001b[1;33m\u001b[0m\u001b[0m\n\u001b[0m",
      "\u001b[1;31mTypeError\u001b[0m: unhashable type: 'set'"
     ]
    }
   ],
   "source": [
    "s={1,2,3,{2,3}}"
   ]
  },
  {
   "cell_type": "code",
   "execution_count": 79,
   "id": "62607dc3",
   "metadata": {},
   "outputs": [
    {
     "name": "stdout",
     "output_type": "stream",
     "text": [
      "{1, 2, 3, 4} <class 'set'>\n",
      "{(1, 2), 2, 'hello'} <class 'set'>\n"
     ]
    }
   ],
   "source": [
    "#homogenous\n",
    "s={1,2,3,4}\n",
    "print(s,type(s))\n",
    "#hetrogenous\n",
    "s={\"hello\",2,(1,2)}\n",
    "print(s,type(s))"
   ]
  },
  {
   "cell_type": "code",
   "execution_count": 80,
   "id": "74db8f50",
   "metadata": {},
   "outputs": [
    {
     "name": "stdout",
     "output_type": "stream",
     "text": [
      "{1, 2, 3} <class 'set'>\n",
      "{1, 2, 3} <class 'set'>\n"
     ]
    }
   ],
   "source": [
    "s=set([1,2,3])\n",
    "print(s,type(s))\n",
    "s=set((1,2,3))\n",
    "print(s,type(s))"
   ]
  },
  {
   "cell_type": "code",
   "execution_count": 81,
   "id": "d1e1503c",
   "metadata": {},
   "outputs": [
    {
     "name": "stdout",
     "output_type": "stream",
     "text": [
      "{1, 2, 3, 5, 6, 7} <class 'set'>\n"
     ]
    }
   ],
   "source": [
    "s={1,2,3,5,6,7,1,2,3}\n",
    "print(s,type(s))"
   ]
  },
  {
   "cell_type": "code",
   "execution_count": 82,
   "id": "100167c1",
   "metadata": {},
   "outputs": [
    {
     "ename": "TypeError",
     "evalue": "unhashable type: 'list'",
     "output_type": "error",
     "traceback": [
      "\u001b[1;31m---------------------------------------------------------------------------\u001b[0m",
      "\u001b[1;31mTypeError\u001b[0m                                 Traceback (most recent call last)",
      "\u001b[1;32m<ipython-input-82-fae0923b87ff>\u001b[0m in \u001b[0;36m<module>\u001b[1;34m\u001b[0m\n\u001b[1;32m----> 1\u001b[1;33m \u001b[0ms\u001b[0m\u001b[1;33m=\u001b[0m\u001b[1;33m{\u001b[0m\u001b[1;36m1\u001b[0m\u001b[1;33m,\u001b[0m\u001b[1;36m2\u001b[0m\u001b[1;33m,\u001b[0m\u001b[1;36m3\u001b[0m\u001b[1;33m,\u001b[0m\u001b[1;33m[\u001b[0m\u001b[1;36m1\u001b[0m\u001b[1;33m,\u001b[0m\u001b[1;36m2\u001b[0m\u001b[1;33m,\u001b[0m\u001b[1;36m3\u001b[0m\u001b[1;33m]\u001b[0m\u001b[1;33m}\u001b[0m\u001b[1;33m\u001b[0m\u001b[1;33m\u001b[0m\u001b[0m\n\u001b[0m\u001b[0;32m      2\u001b[0m \u001b[0mprint\u001b[0m\u001b[1;33m(\u001b[0m\u001b[0ms\u001b[0m\u001b[1;33m,\u001b[0m\u001b[0mtype\u001b[0m\u001b[1;33m(\u001b[0m\u001b[0ms\u001b[0m\u001b[1;33m)\u001b[0m\u001b[1;33m)\u001b[0m\u001b[1;33m\u001b[0m\u001b[1;33m\u001b[0m\u001b[0m\n",
      "\u001b[1;31mTypeError\u001b[0m: unhashable type: 'list'"
     ]
    }
   ],
   "source": [
    "s={1,2,3,[1,2,3]}\n",
    "print(s,type(s))"
   ]
  },
  {
   "cell_type": "code",
   "execution_count": 83,
   "id": "4b57cf39",
   "metadata": {},
   "outputs": [
    {
     "name": "stdout",
     "output_type": "stream",
     "text": [
      "{1, 2, 3, 98, (1, 2, 3), 'Hello'} <class 'set'>\n"
     ]
    }
   ],
   "source": [
    "s={1,2,3,\"Hello\",True,(1,2,3),98}\n",
    "print(s,type(s))"
   ]
  },
  {
   "cell_type": "code",
   "execution_count": 84,
   "id": "a558a7cd",
   "metadata": {},
   "outputs": [
    {
     "name": "stdout",
     "output_type": "stream",
     "text": [
      "True\n"
     ]
    }
   ],
   "source": [
    "s1={1,2,3}\n",
    "s2={2,3,1}\n",
    "print(s1==s2)"
   ]
  },
  {
   "cell_type": "code",
   "execution_count": 85,
   "id": "d3bf9f65",
   "metadata": {},
   "outputs": [
    {
     "data": {
      "text/plain": [
       "{(1, 2, 3), 1, 2, 3, 98, 'Hello'}"
      ]
     },
     "execution_count": 85,
     "metadata": {},
     "output_type": "execute_result"
    }
   ],
   "source": [
    "s"
   ]
  },
  {
   "cell_type": "code",
   "execution_count": 86,
   "id": "61a0d48b",
   "metadata": {},
   "outputs": [
    {
     "ename": "TypeError",
     "evalue": "'set' object is not subscriptable",
     "output_type": "error",
     "traceback": [
      "\u001b[1;31m---------------------------------------------------------------------------\u001b[0m",
      "\u001b[1;31mTypeError\u001b[0m                                 Traceback (most recent call last)",
      "\u001b[1;32m<ipython-input-86-c9c96910e542>\u001b[0m in \u001b[0;36m<module>\u001b[1;34m\u001b[0m\n\u001b[1;32m----> 1\u001b[1;33m \u001b[0ms\u001b[0m\u001b[1;33m[\u001b[0m\u001b[1;36m0\u001b[0m\u001b[1;33m]\u001b[0m\u001b[1;33m\u001b[0m\u001b[1;33m\u001b[0m\u001b[0m\n\u001b[0m",
      "\u001b[1;31mTypeError\u001b[0m: 'set' object is not subscriptable"
     ]
    }
   ],
   "source": [
    "s[0]"
   ]
  },
  {
   "cell_type": "code",
   "execution_count": 87,
   "id": "fff6909f",
   "metadata": {},
   "outputs": [
    {
     "ename": "TypeError",
     "evalue": "'set' object is not subscriptable",
     "output_type": "error",
     "traceback": [
      "\u001b[1;31m---------------------------------------------------------------------------\u001b[0m",
      "\u001b[1;31mTypeError\u001b[0m                                 Traceback (most recent call last)",
      "\u001b[1;32m<ipython-input-87-08887c5b5b30>\u001b[0m in \u001b[0;36m<module>\u001b[1;34m\u001b[0m\n\u001b[1;32m----> 1\u001b[1;33m \u001b[0ms\u001b[0m\u001b[1;33m[\u001b[0m\u001b[1;33m-\u001b[0m\u001b[1;36m2\u001b[0m\u001b[1;33m]\u001b[0m\u001b[1;33m\u001b[0m\u001b[1;33m\u001b[0m\u001b[0m\n\u001b[0m",
      "\u001b[1;31mTypeError\u001b[0m: 'set' object is not subscriptable"
     ]
    }
   ],
   "source": [
    "s[-2]"
   ]
  },
  {
   "cell_type": "code",
   "execution_count": 88,
   "id": "3c188127",
   "metadata": {},
   "outputs": [
    {
     "ename": "TypeError",
     "evalue": "'set' object is not subscriptable",
     "output_type": "error",
     "traceback": [
      "\u001b[1;31m---------------------------------------------------------------------------\u001b[0m",
      "\u001b[1;31mTypeError\u001b[0m                                 Traceback (most recent call last)",
      "\u001b[1;32m<ipython-input-88-73fc94f277d1>\u001b[0m in \u001b[0;36m<module>\u001b[1;34m\u001b[0m\n\u001b[1;32m----> 1\u001b[1;33m \u001b[0ms\u001b[0m\u001b[1;33m[\u001b[0m\u001b[1;36m2\u001b[0m\u001b[1;33m:\u001b[0m\u001b[1;33m]\u001b[0m\u001b[1;33m\u001b[0m\u001b[1;33m\u001b[0m\u001b[0m\n\u001b[0m",
      "\u001b[1;31mTypeError\u001b[0m: 'set' object is not subscriptable"
     ]
    }
   ],
   "source": [
    "s[2:]"
   ]
  },
  {
   "cell_type": "code",
   "execution_count": 89,
   "id": "a3dd42bf",
   "metadata": {},
   "outputs": [
    {
     "name": "stdout",
     "output_type": "stream",
     "text": [
      "1\n",
      "2\n",
      "3\n",
      "98\n",
      "(1, 2, 3)\n",
      "Hello\n"
     ]
    }
   ],
   "source": [
    "for i in s:\n",
    "    print(i)"
   ]
  },
  {
   "cell_type": "code",
   "execution_count": 92,
   "id": "607a38aa",
   "metadata": {},
   "outputs": [],
   "source": [
    "s= {1,2,3,4}"
   ]
  },
  {
   "cell_type": "code",
   "execution_count": 93,
   "id": "c7613bc0",
   "metadata": {},
   "outputs": [
    {
     "data": {
      "text/plain": [
       "{1, 2, 3, 4}"
      ]
     },
     "execution_count": 93,
     "metadata": {},
     "output_type": "execute_result"
    }
   ],
   "source": [
    "s"
   ]
  },
  {
   "cell_type": "code",
   "execution_count": 94,
   "id": "9343c484",
   "metadata": {},
   "outputs": [],
   "source": [
    "s.add(5)"
   ]
  },
  {
   "cell_type": "code",
   "execution_count": 95,
   "id": "74e4dbbc",
   "metadata": {},
   "outputs": [
    {
     "data": {
      "text/plain": [
       "{1, 2, 3, 4, 5}"
      ]
     },
     "execution_count": 95,
     "metadata": {},
     "output_type": "execute_result"
    }
   ],
   "source": [
    "s"
   ]
  },
  {
   "cell_type": "code",
   "execution_count": 98,
   "id": "ac3190f3",
   "metadata": {},
   "outputs": [],
   "source": [
    "s.add((1,2,3))"
   ]
  },
  {
   "cell_type": "code",
   "execution_count": 99,
   "id": "67385244",
   "metadata": {},
   "outputs": [
    {
     "data": {
      "text/plain": [
       "{(1, 2, 3), 1, 2, 3, 4, 5}"
      ]
     },
     "execution_count": 99,
     "metadata": {},
     "output_type": "execute_result"
    }
   ],
   "source": [
    "s"
   ]
  },
  {
   "cell_type": "code",
   "execution_count": 100,
   "id": "dd4e4520",
   "metadata": {},
   "outputs": [],
   "source": [
    "s.update((9,8,7))"
   ]
  },
  {
   "cell_type": "code",
   "execution_count": 102,
   "id": "a5587959",
   "metadata": {},
   "outputs": [
    {
     "data": {
      "text/plain": [
       "{(1, 2, 3), 1, 2, 3, 4, 5, 56, 6, 67, 7, 8, 9}"
      ]
     },
     "execution_count": 102,
     "metadata": {},
     "output_type": "execute_result"
    }
   ],
   "source": [
    "s.update([6,67,56])\n",
    "s"
   ]
  },
  {
   "cell_type": "code",
   "execution_count": 103,
   "id": "c384f831",
   "metadata": {},
   "outputs": [],
   "source": [
    "#The object in update method it's not mandatory to have have a set, it can be any data type like list, tuple, set"
   ]
  },
  {
   "cell_type": "code",
   "execution_count": 104,
   "id": "96e47a15",
   "metadata": {},
   "outputs": [
    {
     "data": {
      "text/plain": [
       "{(1, 2, 3), 1, 2, 3, 4, 5, 56, 6, 67, 7, 8, 9}"
      ]
     },
     "execution_count": 104,
     "metadata": {},
     "output_type": "execute_result"
    }
   ],
   "source": [
    "s"
   ]
  },
  {
   "cell_type": "code",
   "execution_count": 106,
   "id": "6251fae8",
   "metadata": {},
   "outputs": [
    {
     "data": {
      "text/plain": [
       "{(1, 2, 3),\n",
       " 1,\n",
       " 11,\n",
       " 2,\n",
       " 22,\n",
       " 3,\n",
       " 33,\n",
       " 4,\n",
       " 44,\n",
       " 5,\n",
       " 55,\n",
       " 56,\n",
       " 6,\n",
       " 66,\n",
       " 67,\n",
       " 7,\n",
       " 77,\n",
       " 8,\n",
       " 88,\n",
       " 9,\n",
       " 99}"
      ]
     },
     "execution_count": 106,
     "metadata": {},
     "output_type": "execute_result"
    }
   ],
   "source": [
    "s.update({55,66,77})\n",
    "s.update([11,22,33])\n",
    "s.update((44,88,99))\n",
    "s"
   ]
  },
  {
   "cell_type": "code",
   "execution_count": 107,
   "id": "28f3da5d",
   "metadata": {},
   "outputs": [
    {
     "name": "stdout",
     "output_type": "stream",
     "text": [
      "{1, 2, 3, 4, 5, 6, 7, 8, 9, 11, 22, 33, 44, 55, 56, 66, 67, 77, 88, 99, (1, 2, 3)}\n"
     ]
    }
   ],
   "source": [
    "print(s)"
   ]
  },
  {
   "cell_type": "code",
   "execution_count": 109,
   "id": "49fc9eaa",
   "metadata": {},
   "outputs": [
    {
     "ename": "TypeError",
     "evalue": "'set' object doesn't support item deletion",
     "output_type": "error",
     "traceback": [
      "\u001b[1;31m---------------------------------------------------------------------------\u001b[0m",
      "\u001b[1;31mTypeError\u001b[0m                                 Traceback (most recent call last)",
      "\u001b[1;32m<ipython-input-109-55f57cf8ea9a>\u001b[0m in \u001b[0;36m<module>\u001b[1;34m\u001b[0m\n\u001b[1;32m----> 1\u001b[1;33m \u001b[1;32mdel\u001b[0m \u001b[0ms\u001b[0m\u001b[1;33m[\u001b[0m\u001b[1;36m0\u001b[0m\u001b[1;33m]\u001b[0m\u001b[1;33m\u001b[0m\u001b[1;33m\u001b[0m\u001b[0m\n\u001b[0m",
      "\u001b[1;31mTypeError\u001b[0m: 'set' object doesn't support item deletion"
     ]
    }
   ],
   "source": [
    "del s[0]"
   ]
  },
  {
   "cell_type": "code",
   "execution_count": 110,
   "id": "b7c5b16d",
   "metadata": {},
   "outputs": [
    {
     "ename": "NameError",
     "evalue": "name 'st' is not defined",
     "output_type": "error",
     "traceback": [
      "\u001b[1;31m---------------------------------------------------------------------------\u001b[0m",
      "\u001b[1;31mNameError\u001b[0m                                 Traceback (most recent call last)",
      "\u001b[1;32m<ipython-input-110-fe68213789d0>\u001b[0m in \u001b[0;36m<module>\u001b[1;34m\u001b[0m\n\u001b[0;32m      1\u001b[0m \u001b[0mst\u001b[0m\u001b[1;33m=\u001b[0m\u001b[1;33m{\u001b[0m\u001b[1;36m234\u001b[0m\u001b[1;33m,\u001b[0m\u001b[1;36m8765\u001b[0m\u001b[1;33m,\u001b[0m\u001b[1;36m2345\u001b[0m\u001b[1;33m}\u001b[0m\u001b[1;33m\u001b[0m\u001b[1;33m\u001b[0m\u001b[0m\n\u001b[0;32m      2\u001b[0m \u001b[1;32mdel\u001b[0m \u001b[0mst\u001b[0m\u001b[1;33m\u001b[0m\u001b[1;33m\u001b[0m\u001b[0m\n\u001b[1;32m----> 3\u001b[1;33m \u001b[0mst\u001b[0m\u001b[1;33m\u001b[0m\u001b[1;33m\u001b[0m\u001b[0m\n\u001b[0m",
      "\u001b[1;31mNameError\u001b[0m: name 'st' is not defined"
     ]
    }
   ],
   "source": [
    "st={234,8765,2345}\n",
    "del st\n",
    "st"
   ]
  },
  {
   "cell_type": "code",
   "execution_count": 112,
   "id": "f53ac384",
   "metadata": {},
   "outputs": [
    {
     "name": "stdout",
     "output_type": "stream",
     "text": [
      "{1, 2, 3, 4, 5, 6, 7, 8, 9, 11, 22, 33, 44, 55, 56, 66, 67, 77, 88, 99, (1, 2, 3)}\n"
     ]
    }
   ],
   "source": [
    "print(s)"
   ]
  },
  {
   "cell_type": "code",
   "execution_count": 113,
   "id": "9c45ace1",
   "metadata": {},
   "outputs": [
    {
     "data": {
      "text/plain": [
       "{(1, 2, 3), 1, 11, 2, 22, 3, 33, 4, 44, 5, 55, 56, 66, 67, 7, 77, 8, 88, 9, 99}"
      ]
     },
     "execution_count": 113,
     "metadata": {},
     "output_type": "execute_result"
    }
   ],
   "source": [
    "s.discard(6)\n",
    "s"
   ]
  },
  {
   "cell_type": "code",
   "execution_count": 114,
   "id": "6bd7f89b",
   "metadata": {},
   "outputs": [
    {
     "data": {
      "text/plain": [
       "{(1, 2, 3), 1, 11, 2, 22, 3, 33, 4, 44, 5, 55, 56, 66, 67, 7, 77, 8, 88, 9, 99}"
      ]
     },
     "execution_count": 114,
     "metadata": {},
     "output_type": "execute_result"
    }
   ],
   "source": [
    "s.discard(999)\n",
    "s"
   ]
  },
  {
   "cell_type": "code",
   "execution_count": 115,
   "id": "ae500ef7",
   "metadata": {},
   "outputs": [
    {
     "data": {
      "text/plain": [
       "{1, 2, 3, 4, 5, 7, 8, 9, 11, 22, 33, 44, 55, 56, 66, 67, 77, 88, 99}"
      ]
     },
     "execution_count": 115,
     "metadata": {},
     "output_type": "execute_result"
    }
   ],
   "source": [
    "s.remove((1,2,3))\n",
    "s"
   ]
  },
  {
   "cell_type": "code",
   "execution_count": 116,
   "id": "f84bc960",
   "metadata": {},
   "outputs": [
    {
     "ename": "KeyError",
     "evalue": "999",
     "output_type": "error",
     "traceback": [
      "\u001b[1;31m---------------------------------------------------------------------------\u001b[0m",
      "\u001b[1;31mKeyError\u001b[0m                                  Traceback (most recent call last)",
      "\u001b[1;32m<ipython-input-116-ee902371bcf2>\u001b[0m in \u001b[0;36m<module>\u001b[1;34m\u001b[0m\n\u001b[1;32m----> 1\u001b[1;33m \u001b[0ms\u001b[0m\u001b[1;33m.\u001b[0m\u001b[0mremove\u001b[0m\u001b[1;33m(\u001b[0m\u001b[1;36m999\u001b[0m\u001b[1;33m)\u001b[0m\u001b[1;33m\u001b[0m\u001b[1;33m\u001b[0m\u001b[0m\n\u001b[0m\u001b[0;32m      2\u001b[0m \u001b[0ms\u001b[0m\u001b[1;33m\u001b[0m\u001b[1;33m\u001b[0m\u001b[0m\n",
      "\u001b[1;31mKeyError\u001b[0m: 999"
     ]
    }
   ],
   "source": [
    "s.remove(999)\n",
    "s"
   ]
  },
  {
   "cell_type": "code",
   "execution_count": 118,
   "id": "e3e6c18a",
   "metadata": {},
   "outputs": [
    {
     "name": "stdout",
     "output_type": "stream",
     "text": [
      "{2, 3, 4, 5, 7, 8, 9, 11, 22, 33, 44, 55, 56, 66, 67, 77, 88, 99}\n",
      "2\n",
      "{3, 4, 5, 7, 8, 9, 11, 22, 33, 44, 55, 56, 66, 67, 77, 88, 99}\n"
     ]
    }
   ],
   "source": [
    "print(s)\n",
    "print(s.pop())\n",
    "print(s)"
   ]
  },
  {
   "cell_type": "code",
   "execution_count": 119,
   "id": "000acbfd",
   "metadata": {},
   "outputs": [
    {
     "data": {
      "text/plain": [
       "set()"
      ]
     },
     "execution_count": 119,
     "metadata": {},
     "output_type": "execute_result"
    }
   ],
   "source": [
    "s.clear()\n",
    "s"
   ]
  },
  {
   "cell_type": "code",
   "execution_count": 120,
   "id": "e0b0721e",
   "metadata": {},
   "outputs": [],
   "source": [
    "s1 = {1,2,3,4,5}\n",
    "s2 = {4,5,6,7,8}"
   ]
  },
  {
   "cell_type": "code",
   "execution_count": 121,
   "id": "e7a7366a",
   "metadata": {},
   "outputs": [
    {
     "data": {
      "text/plain": [
       "{1, 2, 3, 4, 5, 6, 7, 8}"
      ]
     },
     "execution_count": 121,
     "metadata": {},
     "output_type": "execute_result"
    }
   ],
   "source": [
    "s1|s2"
   ]
  },
  {
   "cell_type": "code",
   "execution_count": 122,
   "id": "6795e88a",
   "metadata": {},
   "outputs": [
    {
     "data": {
      "text/plain": [
       "{4, 5}"
      ]
     },
     "execution_count": 122,
     "metadata": {},
     "output_type": "execute_result"
    }
   ],
   "source": [
    "s1&s2"
   ]
  },
  {
   "cell_type": "code",
   "execution_count": 123,
   "id": "e87aa64a",
   "metadata": {},
   "outputs": [
    {
     "data": {
      "text/plain": [
       "{1, 2, 3}"
      ]
     },
     "execution_count": 123,
     "metadata": {},
     "output_type": "execute_result"
    }
   ],
   "source": [
    "s1-s2"
   ]
  },
  {
   "cell_type": "code",
   "execution_count": 124,
   "id": "5b7b8707",
   "metadata": {},
   "outputs": [
    {
     "data": {
      "text/plain": [
       "{6, 7, 8}"
      ]
     },
     "execution_count": 124,
     "metadata": {},
     "output_type": "execute_result"
    }
   ],
   "source": [
    "s2-s1"
   ]
  },
  {
   "cell_type": "code",
   "execution_count": 125,
   "id": "6b47a3b7",
   "metadata": {},
   "outputs": [
    {
     "data": {
      "text/plain": [
       "{1, 2, 3, 6, 7, 8}"
      ]
     },
     "execution_count": 125,
     "metadata": {},
     "output_type": "execute_result"
    }
   ],
   "source": [
    "s1^s2"
   ]
  },
  {
   "cell_type": "code",
   "execution_count": 126,
   "id": "d0212ebb",
   "metadata": {},
   "outputs": [
    {
     "data": {
      "text/plain": [
       "True"
      ]
     },
     "execution_count": 126,
     "metadata": {},
     "output_type": "execute_result"
    }
   ],
   "source": [
    "2 in s1"
   ]
  },
  {
   "cell_type": "code",
   "execution_count": 127,
   "id": "790da84d",
   "metadata": {},
   "outputs": [
    {
     "data": {
      "text/plain": [
       "False"
      ]
     },
     "execution_count": 127,
     "metadata": {},
     "output_type": "execute_result"
    }
   ],
   "source": [
    "7 in s1\n"
   ]
  },
  {
   "cell_type": "code",
   "execution_count": 128,
   "id": "bdf20103",
   "metadata": {},
   "outputs": [
    {
     "data": {
      "text/plain": [
       "True"
      ]
     },
     "execution_count": 128,
     "metadata": {},
     "output_type": "execute_result"
    }
   ],
   "source": [
    "7 not in s1"
   ]
  },
  {
   "cell_type": "code",
   "execution_count": 130,
   "id": "980b6c9c",
   "metadata": {},
   "outputs": [
    {
     "name": "stdout",
     "output_type": "stream",
     "text": [
      "4\n",
      "5\n",
      "6\n",
      "7\n",
      "8\n"
     ]
    }
   ],
   "source": [
    "for i in s2:\n",
    "    print(i)"
   ]
  },
  {
   "cell_type": "code",
   "execution_count": 131,
   "id": "0c1620f5",
   "metadata": {},
   "outputs": [
    {
     "data": {
      "text/plain": [
       "{1, 2, 3, 4, 5}"
      ]
     },
     "execution_count": 131,
     "metadata": {},
     "output_type": "execute_result"
    }
   ],
   "source": [
    "s1"
   ]
  },
  {
   "cell_type": "code",
   "execution_count": 132,
   "id": "76461935",
   "metadata": {},
   "outputs": [
    {
     "name": "stdout",
     "output_type": "stream",
     "text": [
      "5\n",
      "15\n",
      "1\n",
      "5\n",
      "[1, 2, 3, 4, 5]\n",
      "[5, 4, 3, 2, 1]\n"
     ]
    }
   ],
   "source": [
    "print(len(s1))\n",
    "print(sum(s1))\n",
    "print(min(s1))\n",
    "print(max(s1))\n",
    "print(sorted(s1))\n",
    "print(sorted(s1,reverse=True))"
   ]
  },
  {
   "cell_type": "code",
   "execution_count": 133,
   "id": "c6028716",
   "metadata": {},
   "outputs": [
    {
     "data": {
      "text/plain": [
       "{1, 2, 3, 4, 5, 6, 7, 8}"
      ]
     },
     "execution_count": 133,
     "metadata": {},
     "output_type": "execute_result"
    }
   ],
   "source": [
    "s1.union(s2)"
   ]
  },
  {
   "cell_type": "code",
   "execution_count": 134,
   "id": "1a642d71",
   "metadata": {},
   "outputs": [
    {
     "name": "stdout",
     "output_type": "stream",
     "text": [
      "{1, 2, 3, 4, 5}\n",
      "{4, 5, 6, 7, 8}\n"
     ]
    }
   ],
   "source": [
    "print(s1)\n",
    "print(s2)"
   ]
  },
  {
   "cell_type": "code",
   "execution_count": 135,
   "id": "7944ebf8",
   "metadata": {},
   "outputs": [
    {
     "name": "stdout",
     "output_type": "stream",
     "text": [
      "{1, 2, 3, 4, 5, 6, 7, 8}\n",
      "{4, 5, 6, 7, 8}\n"
     ]
    }
   ],
   "source": [
    "s1.update(s2)\n",
    "print(s1)\n",
    "print(s2)"
   ]
  },
  {
   "cell_type": "code",
   "execution_count": 136,
   "id": "6edbb9b2",
   "metadata": {},
   "outputs": [
    {
     "data": {
      "text/plain": [
       "{4, 5, 6, 7, 8}"
      ]
     },
     "execution_count": 136,
     "metadata": {},
     "output_type": "execute_result"
    }
   ],
   "source": [
    "s1.intersection(s2)"
   ]
  },
  {
   "cell_type": "code",
   "execution_count": 142,
   "id": "dbc63cf9",
   "metadata": {},
   "outputs": [],
   "source": [
    "s1 = {1,2,3,4,5}\n",
    "s2 = {4,5,6,7,8}"
   ]
  },
  {
   "cell_type": "code",
   "execution_count": 138,
   "id": "199be914",
   "metadata": {},
   "outputs": [
    {
     "data": {
      "text/plain": [
       "{4, 5}"
      ]
     },
     "execution_count": 138,
     "metadata": {},
     "output_type": "execute_result"
    }
   ],
   "source": [
    "s1.intersection(s2)"
   ]
  },
  {
   "cell_type": "code",
   "execution_count": 140,
   "id": "8c6aa9ce",
   "metadata": {},
   "outputs": [],
   "source": [
    "s1.intersection_update(s2)"
   ]
  },
  {
   "cell_type": "code",
   "execution_count": 143,
   "id": "82b73ad2",
   "metadata": {},
   "outputs": [
    {
     "data": {
      "text/plain": [
       "{1, 2, 3}"
      ]
     },
     "execution_count": 143,
     "metadata": {},
     "output_type": "execute_result"
    }
   ],
   "source": [
    "s1.difference(s2)"
   ]
  },
  {
   "cell_type": "code",
   "execution_count": 145,
   "id": "dc3f821c",
   "metadata": {},
   "outputs": [],
   "source": [
    "s1.difference_update(s2)"
   ]
  },
  {
   "cell_type": "code",
   "execution_count": 146,
   "id": "98a6c1ee",
   "metadata": {},
   "outputs": [
    {
     "name": "stdout",
     "output_type": "stream",
     "text": [
      "{1, 2, 3}\n",
      "{4, 5, 6, 7, 8}\n"
     ]
    }
   ],
   "source": [
    "print(s1)\n",
    "print(s2)"
   ]
  },
  {
   "cell_type": "code",
   "execution_count": 148,
   "id": "ef4f399a",
   "metadata": {},
   "outputs": [
    {
     "data": {
      "text/plain": [
       "{1, 2, 3, 6, 7, 8}"
      ]
     },
     "execution_count": 148,
     "metadata": {},
     "output_type": "execute_result"
    }
   ],
   "source": [
    "s1.symmetric_difference(s2)"
   ]
  },
  {
   "cell_type": "code",
   "execution_count": 149,
   "id": "3b129c0b",
   "metadata": {},
   "outputs": [],
   "source": [
    "s1 = {1,2,3,4,5}\n",
    "s2 = {4,5,6,7,8}"
   ]
  },
  {
   "cell_type": "code",
   "execution_count": 150,
   "id": "0063c0bf",
   "metadata": {},
   "outputs": [],
   "source": [
    "s1.symmetric_difference_update(s2)"
   ]
  },
  {
   "cell_type": "code",
   "execution_count": 151,
   "id": "5a6c28da",
   "metadata": {},
   "outputs": [
    {
     "name": "stdout",
     "output_type": "stream",
     "text": [
      "{1, 2, 3, 6, 7, 8}\n",
      "{4, 5, 6, 7, 8}\n"
     ]
    }
   ],
   "source": [
    "print(s1)\n",
    "print(s2)"
   ]
  },
  {
   "cell_type": "code",
   "execution_count": 152,
   "id": "86ea3c04",
   "metadata": {},
   "outputs": [
    {
     "name": "stdout",
     "output_type": "stream",
     "text": [
      "{1, 2, 3, 6, 7, 8} 3019088381088\n",
      "{1, 2, 3, 6, 7, 8} 3019088382208\n"
     ]
    }
   ],
   "source": [
    "s=s1.copy()\n",
    "print(s,id(s))\n",
    "print(s1,id(s1))"
   ]
  },
  {
   "cell_type": "code",
   "execution_count": 153,
   "id": "a3f3d00c",
   "metadata": {},
   "outputs": [],
   "source": [
    "s1 = {1,2,3,4,5}\n",
    "s2 = {4,5,6,7,8}"
   ]
  },
  {
   "cell_type": "code",
   "execution_count": 154,
   "id": "c0e0d9e5",
   "metadata": {},
   "outputs": [
    {
     "data": {
      "text/plain": [
       "False"
      ]
     },
     "execution_count": 154,
     "metadata": {},
     "output_type": "execute_result"
    }
   ],
   "source": [
    "s1.isdisjoint(s2)"
   ]
  },
  {
   "cell_type": "code",
   "execution_count": 155,
   "id": "40c31695",
   "metadata": {},
   "outputs": [],
   "source": [
    "s1 = {1,2,3,4}\n",
    "s2 = {7,8,5,6}"
   ]
  },
  {
   "cell_type": "code",
   "execution_count": 156,
   "id": "0f0a300a",
   "metadata": {},
   "outputs": [
    {
     "data": {
      "text/plain": [
       "True"
      ]
     },
     "execution_count": 156,
     "metadata": {},
     "output_type": "execute_result"
    }
   ],
   "source": [
    "s1.isdisjoint(s2)"
   ]
  },
  {
   "cell_type": "code",
   "execution_count": 157,
   "id": "42a1b1ac",
   "metadata": {},
   "outputs": [],
   "source": [
    "s1.symmetric_difference_update(s2)"
   ]
  },
  {
   "cell_type": "code",
   "execution_count": 158,
   "id": "30900383",
   "metadata": {},
   "outputs": [
    {
     "name": "stdout",
     "output_type": "stream",
     "text": [
      "{1, 2, 3, 4, 5, 6, 7, 8}\n",
      "{8, 5, 6, 7}\n"
     ]
    }
   ],
   "source": [
    "print(s1)\n",
    "print(s2)"
   ]
  },
  {
   "cell_type": "code",
   "execution_count": 159,
   "id": "fe56fabb",
   "metadata": {},
   "outputs": [
    {
     "data": {
      "text/plain": [
       "False"
      ]
     },
     "execution_count": 159,
     "metadata": {},
     "output_type": "execute_result"
    }
   ],
   "source": [
    "s1.issubset(s2)"
   ]
  },
  {
   "cell_type": "code",
   "execution_count": 161,
   "id": "1059471b",
   "metadata": {},
   "outputs": [
    {
     "data": {
      "text/plain": [
       "True"
      ]
     },
     "execution_count": 161,
     "metadata": {},
     "output_type": "execute_result"
    }
   ],
   "source": [
    "s2.issubset(s1)"
   ]
  },
  {
   "cell_type": "code",
   "execution_count": 162,
   "id": "96cd36f9",
   "metadata": {},
   "outputs": [
    {
     "data": {
      "text/plain": [
       "False"
      ]
     },
     "execution_count": 162,
     "metadata": {},
     "output_type": "execute_result"
    }
   ],
   "source": [
    "s2.issuperset(s1)"
   ]
  },
  {
   "cell_type": "code",
   "execution_count": 163,
   "id": "684e5ddd",
   "metadata": {},
   "outputs": [
    {
     "data": {
      "text/plain": [
       "False"
      ]
     },
     "execution_count": 163,
     "metadata": {},
     "output_type": "execute_result"
    }
   ],
   "source": [
    "s2.issuperset(s1)"
   ]
  },
  {
   "cell_type": "code",
   "execution_count": 166,
   "id": "06ac8938",
   "metadata": {},
   "outputs": [
    {
     "data": {
      "text/plain": [
       "<generator object <genexpr> at 0x000002BEEFB21430>"
      ]
     },
     "execution_count": 166,
     "metadata": {},
     "output_type": "execute_result"
    }
   ],
   "source": [
    "(i**2 for i in range(1,11))"
   ]
  },
  {
   "cell_type": "code",
   "execution_count": 168,
   "id": "3335f822",
   "metadata": {},
   "outputs": [
    {
     "data": {
      "text/plain": [
       "[1, 4, 9, 16, 25, 36, 49, 64, 81, 100]"
      ]
     },
     "execution_count": 168,
     "metadata": {},
     "output_type": "execute_result"
    }
   ],
   "source": [
    "list((i**2 for i in range(1,11)))"
   ]
  },
  {
   "cell_type": "code",
   "execution_count": 169,
   "id": "f48540c3",
   "metadata": {},
   "outputs": [
    {
     "data": {
      "text/plain": [
       "(1, 4, 9, 16, 25, 36, 49, 64, 81, 100)"
      ]
     },
     "execution_count": 169,
     "metadata": {},
     "output_type": "execute_result"
    }
   ],
   "source": [
    "tuple((i**2 for i in range(1,11)))"
   ]
  },
  {
   "cell_type": "code",
   "execution_count": 170,
   "id": "4957ec3c",
   "metadata": {},
   "outputs": [
    {
     "data": {
      "text/plain": [
       "{1, 4, 9, 16, 25, 36, 49, 64, 81, 100}"
      ]
     },
     "execution_count": 170,
     "metadata": {},
     "output_type": "execute_result"
    }
   ],
   "source": [
    "set((i**2 for i in range(1,11)))"
   ]
  },
  {
   "cell_type": "code",
   "execution_count": 171,
   "id": "47006647",
   "metadata": {},
   "outputs": [
    {
     "ename": "SyntaxError",
     "evalue": "invalid syntax (<ipython-input-171-7743af4618fb>, line 1)",
     "output_type": "error",
     "traceback": [
      "\u001b[1;36m  File \u001b[1;32m\"<ipython-input-171-7743af4618fb>\"\u001b[1;36m, line \u001b[1;32m1\u001b[0m\n\u001b[1;33m    dict((i:i**2 for i in range(1,11)))\u001b[0m\n\u001b[1;37m           ^\u001b[0m\n\u001b[1;31mSyntaxError\u001b[0m\u001b[1;31m:\u001b[0m invalid syntax\n"
     ]
    }
   ],
   "source": [
    "dict((i:i**2 for i in range(1,11)))"
   ]
  },
  {
   "cell_type": "code",
   "execution_count": 172,
   "id": "8777edd0",
   "metadata": {},
   "outputs": [
    {
     "data": {
      "text/plain": [
       "{1, 4, 9, 16, 25, 36, 49, 64, 81, 100}"
      ]
     },
     "execution_count": 172,
     "metadata": {},
     "output_type": "execute_result"
    }
   ],
   "source": [
    "{i**2 for i in range(1,11)}"
   ]
  },
  {
   "cell_type": "code",
   "execution_count": 173,
   "id": "5111bb4f",
   "metadata": {},
   "outputs": [],
   "source": [
    "#Frozenset is just a immutable version of set."
   ]
  },
  {
   "cell_type": "code",
   "execution_count": 174,
   "id": "d86d087f",
   "metadata": {},
   "outputs": [],
   "source": [
    "#all read function works.\n",
    "#all write function does not work.\n",
    "#2D frozenset"
   ]
  },
  {
   "cell_type": "code",
   "execution_count": 175,
   "id": "d6263c92",
   "metadata": {},
   "outputs": [
    {
     "name": "stdout",
     "output_type": "stream",
     "text": [
      "frozenset({'2', '3', '1'})\n",
      "frozenset({1, 2, 3})\n",
      "frozenset({1, 2, 3})\n",
      "frozenset({1, 2, 3})\n"
     ]
    }
   ],
   "source": [
    "print(frozenset('123'))\n",
    "print(frozenset([1,2,3]))\n",
    "print(frozenset((1,2,3)))\n",
    "print(frozenset({1,2,3}))"
   ]
  },
  {
   "cell_type": "code",
   "execution_count": 176,
   "id": "58828bf9",
   "metadata": {},
   "outputs": [],
   "source": [
    "s=frozenset([1,2,3,4])\n",
    "t=frozenset((4,5,6,7,8,9))"
   ]
  },
  {
   "cell_type": "code",
   "execution_count": 177,
   "id": "a2d7ada3",
   "metadata": {},
   "outputs": [
    {
     "name": "stdout",
     "output_type": "stream",
     "text": [
      "frozenset({1, 2, 3, 4})\n",
      "frozenset({4, 5, 6, 7, 8, 9})\n"
     ]
    }
   ],
   "source": [
    "print(s)\n",
    "print(t)"
   ]
  },
  {
   "cell_type": "code",
   "execution_count": 179,
   "id": "ec22169f",
   "metadata": {},
   "outputs": [
    {
     "ename": "TypeError",
     "evalue": "'frozenset' object does not support item assignment",
     "output_type": "error",
     "traceback": [
      "\u001b[1;31m---------------------------------------------------------------------------\u001b[0m",
      "\u001b[1;31mTypeError\u001b[0m                                 Traceback (most recent call last)",
      "\u001b[1;32m<ipython-input-179-14e1125afff4>\u001b[0m in \u001b[0;36m<module>\u001b[1;34m\u001b[0m\n\u001b[1;32m----> 1\u001b[1;33m \u001b[0ms\u001b[0m\u001b[1;33m[\u001b[0m\u001b[1;36m2\u001b[0m\u001b[1;33m]\u001b[0m\u001b[1;33m=\u001b[0m\u001b[1;36m1\u001b[0m\u001b[1;33m\u001b[0m\u001b[1;33m\u001b[0m\u001b[0m\n\u001b[0m",
      "\u001b[1;31mTypeError\u001b[0m: 'frozenset' object does not support item assignment"
     ]
    }
   ],
   "source": [
    "s[2]=1"
   ]
  },
  {
   "cell_type": "code",
   "execution_count": 181,
   "id": "7f8c7586",
   "metadata": {},
   "outputs": [
    {
     "ename": "AttributeError",
     "evalue": "'frozenset' object has no attribute 'update'",
     "output_type": "error",
     "traceback": [
      "\u001b[1;31m---------------------------------------------------------------------------\u001b[0m",
      "\u001b[1;31mAttributeError\u001b[0m                            Traceback (most recent call last)",
      "\u001b[1;32m<ipython-input-181-c4908ae2bf5c>\u001b[0m in \u001b[0;36m<module>\u001b[1;34m\u001b[0m\n\u001b[1;32m----> 1\u001b[1;33m \u001b[0ms\u001b[0m\u001b[1;33m.\u001b[0m\u001b[0mupdate\u001b[0m\u001b[1;33m(\u001b[0m\u001b[1;36m3\u001b[0m\u001b[1;33m)\u001b[0m\u001b[1;33m\u001b[0m\u001b[1;33m\u001b[0m\u001b[0m\n\u001b[0m",
      "\u001b[1;31mAttributeError\u001b[0m: 'frozenset' object has no attribute 'update'"
     ]
    }
   ],
   "source": [
    "s.update(3)"
   ]
  },
  {
   "cell_type": "code",
   "execution_count": 182,
   "id": "77510178",
   "metadata": {},
   "outputs": [
    {
     "ename": "AttributeError",
     "evalue": "'frozenset' object has no attribute 'pop'",
     "output_type": "error",
     "traceback": [
      "\u001b[1;31m---------------------------------------------------------------------------\u001b[0m",
      "\u001b[1;31mAttributeError\u001b[0m                            Traceback (most recent call last)",
      "\u001b[1;32m<ipython-input-182-c88c8c48122b>\u001b[0m in \u001b[0;36m<module>\u001b[1;34m\u001b[0m\n\u001b[1;32m----> 1\u001b[1;33m \u001b[0ms\u001b[0m\u001b[1;33m.\u001b[0m\u001b[0mpop\u001b[0m\u001b[1;33m(\u001b[0m\u001b[1;33m)\u001b[0m\u001b[1;33m\u001b[0m\u001b[1;33m\u001b[0m\u001b[0m\n\u001b[0m",
      "\u001b[1;31mAttributeError\u001b[0m: 'frozenset' object has no attribute 'pop'"
     ]
    }
   ],
   "source": [
    "s.pop()"
   ]
  },
  {
   "cell_type": "code",
   "execution_count": 183,
   "id": "2330965f",
   "metadata": {},
   "outputs": [],
   "source": [
    "del s"
   ]
  },
  {
   "cell_type": "code",
   "execution_count": 184,
   "id": "1cc17297",
   "metadata": {},
   "outputs": [
    {
     "ename": "NameError",
     "evalue": "name 's' is not defined",
     "output_type": "error",
     "traceback": [
      "\u001b[1;31m---------------------------------------------------------------------------\u001b[0m",
      "\u001b[1;31mNameError\u001b[0m                                 Traceback (most recent call last)",
      "\u001b[1;32m<ipython-input-184-ded5ba42480f>\u001b[0m in \u001b[0;36m<module>\u001b[1;34m\u001b[0m\n\u001b[1;32m----> 1\u001b[1;33m \u001b[0ms\u001b[0m\u001b[1;33m\u001b[0m\u001b[1;33m\u001b[0m\u001b[0m\n\u001b[0m",
      "\u001b[1;31mNameError\u001b[0m: name 's' is not defined"
     ]
    }
   ],
   "source": [
    "s"
   ]
  },
  {
   "cell_type": "code",
   "execution_count": 205,
   "id": "aac84a33",
   "metadata": {},
   "outputs": [],
   "source": [
    "s=frozenset([1,2,3,4])\n",
    "t=frozenset((4,5,6,7,8,9))"
   ]
  },
  {
   "cell_type": "code",
   "execution_count": 193,
   "id": "22facb8f",
   "metadata": {},
   "outputs": [
    {
     "data": {
      "text/plain": [
       "False"
      ]
     },
     "execution_count": 193,
     "metadata": {},
     "output_type": "execute_result"
    }
   ],
   "source": [
    " 4 in s2"
   ]
  },
  {
   "cell_type": "code",
   "execution_count": 195,
   "id": "b55fde72",
   "metadata": {},
   "outputs": [
    {
     "name": "stdout",
     "output_type": "stream",
     "text": [
      "1\n",
      "2\n",
      "3\n",
      "4\n"
     ]
    }
   ],
   "source": [
    "for i in s:\n",
    "    print(i)"
   ]
  },
  {
   "cell_type": "code",
   "execution_count": 198,
   "id": "67eb05c3",
   "metadata": {},
   "outputs": [
    {
     "name": "stdout",
     "output_type": "stream",
     "text": [
      "4\n",
      "10\n",
      "1\n",
      "4\n",
      "[1, 2, 3, 4]\n",
      "[4, 3, 2, 1]\n",
      "frozenset({1, 2, 3, 4}) 3019088459584\n",
      "frozenset({1, 2, 3, 4}) 3019088459584\n"
     ]
    }
   ],
   "source": [
    "print(len(s))\n",
    "print(sum(s))\n",
    "print(min(s))\n",
    "print(max(s))\n",
    "print(sorted(s))\n",
    "print(sorted(s,reverse=True))\n",
    "S=s.copy()\n",
    "print(s,id(s))\n",
    "print(S,id(S))"
   ]
  },
  {
   "cell_type": "code",
   "execution_count": 199,
   "id": "b070315e",
   "metadata": {},
   "outputs": [
    {
     "data": {
      "text/plain": [
       "frozenset({1, 2, 3, 4, 5, 6, 7, 8, 9})"
      ]
     },
     "execution_count": 199,
     "metadata": {},
     "output_type": "execute_result"
    }
   ],
   "source": [
    "s.union(t)"
   ]
  },
  {
   "cell_type": "code",
   "execution_count": 200,
   "id": "a138f8d8",
   "metadata": {},
   "outputs": [
    {
     "ename": "AttributeError",
     "evalue": "'frozenset' object has no attribute 'update'",
     "output_type": "error",
     "traceback": [
      "\u001b[1;31m---------------------------------------------------------------------------\u001b[0m",
      "\u001b[1;31mAttributeError\u001b[0m                            Traceback (most recent call last)",
      "\u001b[1;32m<ipython-input-200-36f407700fbb>\u001b[0m in \u001b[0;36m<module>\u001b[1;34m\u001b[0m\n\u001b[1;32m----> 1\u001b[1;33m \u001b[0ms\u001b[0m\u001b[1;33m.\u001b[0m\u001b[0mupdate\u001b[0m\u001b[1;33m(\u001b[0m\u001b[0mt\u001b[0m\u001b[1;33m)\u001b[0m\u001b[1;33m\u001b[0m\u001b[1;33m\u001b[0m\u001b[0m\n\u001b[0m",
      "\u001b[1;31mAttributeError\u001b[0m: 'frozenset' object has no attribute 'update'"
     ]
    }
   ],
   "source": [
    "s.update(t)"
   ]
  },
  {
   "cell_type": "code",
   "execution_count": 204,
   "id": "b48012d2",
   "metadata": {},
   "outputs": [
    {
     "data": {
      "text/plain": [
       "frozenset({1, 2, 3})"
      ]
     },
     "execution_count": 204,
     "metadata": {},
     "output_type": "execute_result"
    }
   ],
   "source": [
    "s.difference(t)"
   ]
  },
  {
   "cell_type": "code",
   "execution_count": 206,
   "id": "206b6ea0",
   "metadata": {},
   "outputs": [
    {
     "data": {
      "text/plain": [
       "False"
      ]
     },
     "execution_count": 206,
     "metadata": {},
     "output_type": "execute_result"
    }
   ],
   "source": [
    "s.isdisjoint(t)"
   ]
  },
  {
   "cell_type": "code",
   "execution_count": 207,
   "id": "370259d2",
   "metadata": {},
   "outputs": [
    {
     "ename": "AttributeError",
     "evalue": "'frozenset' object has no attribute 'isnotdisjoint'",
     "output_type": "error",
     "traceback": [
      "\u001b[1;31m---------------------------------------------------------------------------\u001b[0m",
      "\u001b[1;31mAttributeError\u001b[0m                            Traceback (most recent call last)",
      "\u001b[1;32m<ipython-input-207-65d33053bd9c>\u001b[0m in \u001b[0;36m<module>\u001b[1;34m\u001b[0m\n\u001b[1;32m----> 1\u001b[1;33m \u001b[0ms\u001b[0m\u001b[1;33m.\u001b[0m\u001b[0misnotdisjoint\u001b[0m\u001b[1;33m(\u001b[0m\u001b[0mt\u001b[0m\u001b[1;33m)\u001b[0m\u001b[1;33m\u001b[0m\u001b[1;33m\u001b[0m\u001b[0m\n\u001b[0m",
      "\u001b[1;31mAttributeError\u001b[0m: 'frozenset' object has no attribute 'isnotdisjoint'"
     ]
    }
   ],
   "source": [
    "s.isnotdisjoint(t)"
   ]
  },
  {
   "cell_type": "code",
   "execution_count": 208,
   "id": "c1566802",
   "metadata": {},
   "outputs": [],
   "source": [
    "s=frozenset([1,2,3,4,5,6,7,8,9])\n",
    "t=frozenset((4,5,6,7,8,9))"
   ]
  },
  {
   "cell_type": "code",
   "execution_count": 211,
   "id": "8675670b",
   "metadata": {},
   "outputs": [
    {
     "data": {
      "text/plain": [
       "True"
      ]
     },
     "execution_count": 211,
     "metadata": {},
     "output_type": "execute_result"
    }
   ],
   "source": [
    "s.issuperset(t)"
   ]
  },
  {
   "cell_type": "code",
   "execution_count": 221,
   "id": "fa21867e",
   "metadata": {},
   "outputs": [],
   "source": [
    "l=[1,2.0,2+3j,True,print,\"hello\"]"
   ]
  },
  {
   "cell_type": "code",
   "execution_count": 222,
   "id": "b1171eef",
   "metadata": {},
   "outputs": [
    {
     "name": "stdout",
     "output_type": "stream",
     "text": [
      "[1, 2.0, (2+3j), True, <built-in function print>, 'hello'] 3019088267392\n",
      "[1, 2.0, (2+3j), True, <built-in function print>, 'hello'] 3019087311296\n"
     ]
    }
   ],
   "source": [
    "l1=l.copy()\n",
    "print(l,id(l))\n",
    "print(l1,id(l1))"
   ]
  },
  {
   "cell_type": "code",
   "execution_count": 223,
   "id": "d0d8fa3e",
   "metadata": {},
   "outputs": [
    {
     "name": "stdout",
     "output_type": "stream",
     "text": [
      "[1, 2, 3] 3019088425024\n",
      "1 140724631185200\n",
      "140724631185200\n"
     ]
    }
   ],
   "source": [
    "l=[1,2,3]\n",
    "print(l,id(l))\n",
    "print(l[0],id(l[0]))\n",
    "print(id(1))"
   ]
  },
  {
   "cell_type": "code",
   "execution_count": 2,
   "id": "896d3530",
   "metadata": {},
   "outputs": [
    {
     "data": {
      "text/plain": [
       "['python', 'php']"
      ]
     },
     "execution_count": 2,
     "metadata": {},
     "output_type": "execute_result"
    }
   ],
   "source": [
    "languages = ['java','python','php','c','javascript']\n",
    "\n",
    "[lan for lan in languages if lan.startswith('p')]"
   ]
  },
  {
   "cell_type": "code",
   "execution_count": 3,
   "id": "eea67224",
   "metadata": {},
   "outputs": [
    {
     "data": {
      "text/plain": [
       "['apple', 'banana', 'cherry']"
      ]
     },
     "execution_count": 3,
     "metadata": {},
     "output_type": "execute_result"
    }
   ],
   "source": [
    "thistuple = (\"apple\", \"banana\", \"cherry\")\n",
    "m=list(thistuple)\n",
    "m"
   ]
  },
  {
   "cell_type": "code",
   "execution_count": 5,
   "id": "1a2253c6",
   "metadata": {},
   "outputs": [],
   "source": [
    "del m[1]"
   ]
  },
  {
   "cell_type": "code",
   "execution_count": 6,
   "id": "c246ade4",
   "metadata": {},
   "outputs": [
    {
     "data": {
      "text/plain": [
       "['apple', 'cherry']"
      ]
     },
     "execution_count": 6,
     "metadata": {},
     "output_type": "execute_result"
    }
   ],
   "source": [
    "m"
   ]
  },
  {
   "cell_type": "code",
   "execution_count": 7,
   "id": "bd1d5c2f",
   "metadata": {},
   "outputs": [],
   "source": [
    "thistuple=tuple(m)"
   ]
  },
  {
   "cell_type": "code",
   "execution_count": 8,
   "id": "ba0dab58",
   "metadata": {},
   "outputs": [
    {
     "data": {
      "text/plain": [
       "('apple', 'cherry')"
      ]
     },
     "execution_count": 8,
     "metadata": {},
     "output_type": "execute_result"
    }
   ],
   "source": [
    "thistuple"
   ]
  },
  {
   "cell_type": "code",
   "execution_count": 9,
   "id": "71cb9f25",
   "metadata": {},
   "outputs": [],
   "source": [
    "m1=m.copy()"
   ]
  },
  {
   "cell_type": "code",
   "execution_count": 10,
   "id": "edf70970",
   "metadata": {},
   "outputs": [
    {
     "name": "stdout",
     "output_type": "stream",
     "text": [
      "['apple', 'cherry'] 2608711024512\n",
      "['apple', 'cherry'] 2608711457088\n"
     ]
    }
   ],
   "source": [
    "print(m1,id(m1))\n",
    "print(m,id(m))"
   ]
  },
  {
   "cell_type": "code",
   "execution_count": 11,
   "id": "70511807",
   "metadata": {},
   "outputs": [],
   "source": [
    "#When we craete a tuple we assign value to it, it's known as packing a tuple.\n",
    "a=(1,\"Hello\",(1,2,3))\n"
   ]
  },
  {
   "cell_type": "code",
   "execution_count": 12,
   "id": "d5b9cbbc",
   "metadata": {},
   "outputs": [
    {
     "name": "stdout",
     "output_type": "stream",
     "text": [
      "1 Hello (1, 2, 3)\n"
     ]
    }
   ],
   "source": [
    "#but, python also allow us to extract back data into the tuple it's known as unpacking the tuple.\n",
    "x,y,z=a\n",
    "print(x,y,z)"
   ]
  },
  {
   "cell_type": "code",
   "execution_count": 13,
   "id": "f66075d5",
   "metadata": {},
   "outputs": [],
   "source": [
    "a=(1,2,3,4,5,6,8,9)"
   ]
  },
  {
   "cell_type": "code",
   "execution_count": 14,
   "id": "d810f45e",
   "metadata": {},
   "outputs": [
    {
     "ename": "ValueError",
     "evalue": "too many values to unpack (expected 2)",
     "output_type": "error",
     "traceback": [
      "\u001b[1;31m---------------------------------------------------------------------------\u001b[0m",
      "\u001b[1;31mValueError\u001b[0m                                Traceback (most recent call last)",
      "\u001b[1;32m<ipython-input-14-3c5e823b6d36>\u001b[0m in \u001b[0;36m<module>\u001b[1;34m\u001b[0m\n\u001b[1;32m----> 1\u001b[1;33m \u001b[0mx\u001b[0m\u001b[1;33m,\u001b[0m\u001b[0my\u001b[0m\u001b[1;33m=\u001b[0m\u001b[0ma\u001b[0m\u001b[1;33m\u001b[0m\u001b[1;33m\u001b[0m\u001b[0m\n\u001b[0m\u001b[0;32m      2\u001b[0m \u001b[0mprint\u001b[0m\u001b[1;33m(\u001b[0m\u001b[0mx\u001b[0m\u001b[1;33m,\u001b[0m\u001b[0my\u001b[0m\u001b[1;33m)\u001b[0m\u001b[1;33m\u001b[0m\u001b[1;33m\u001b[0m\u001b[0m\n",
      "\u001b[1;31mValueError\u001b[0m: too many values to unpack (expected 2)"
     ]
    }
   ],
   "source": [
    "x,y=a\n",
    "print(x,y)"
   ]
  },
  {
   "cell_type": "code",
   "execution_count": 15,
   "id": "6742c405",
   "metadata": {},
   "outputs": [],
   "source": [
    "x,y,*others=a"
   ]
  },
  {
   "cell_type": "code",
   "execution_count": 17,
   "id": "91f41e5e",
   "metadata": {},
   "outputs": [
    {
     "name": "stdout",
     "output_type": "stream",
     "text": [
      "1\n",
      "2\n",
      "[3, 4, 5, 6, 8, 9]\n"
     ]
    }
   ],
   "source": [
    "print(x)\n",
    "print(y)\n",
    "print(others)"
   ]
  },
  {
   "cell_type": "code",
   "execution_count": 18,
   "id": "1ae4054c",
   "metadata": {},
   "outputs": [],
   "source": [
    "x,*other,y=a"
   ]
  },
  {
   "cell_type": "code",
   "execution_count": 19,
   "id": "0781102c",
   "metadata": {},
   "outputs": [
    {
     "name": "stdout",
     "output_type": "stream",
     "text": [
      "1\n",
      "9\n",
      "[3, 4, 5, 6, 8, 9]\n"
     ]
    }
   ],
   "source": [
    "print(x)\n",
    "print(y)\n",
    "print(others)"
   ]
  },
  {
   "cell_type": "code",
   "execution_count": 20,
   "id": "eb9a8f86",
   "metadata": {},
   "outputs": [
    {
     "data": {
      "text/plain": [
       "[1, 4, 9, 16]"
      ]
     },
     "execution_count": 20,
     "metadata": {},
     "output_type": "execute_result"
    }
   ],
   "source": [
    "[i**2 for i in range(1,5)]"
   ]
  },
  {
   "cell_type": "code",
   "execution_count": 21,
   "id": "dedc8aaa",
   "metadata": {},
   "outputs": [
    {
     "data": {
      "text/plain": [
       "<generator object <genexpr> at 0x0000025F6350B660>"
      ]
     },
     "execution_count": 21,
     "metadata": {},
     "output_type": "execute_result"
    }
   ],
   "source": [
    "(i**2 for i in range(1,5))"
   ]
  },
  {
   "cell_type": "code",
   "execution_count": 22,
   "id": "58000d61",
   "metadata": {},
   "outputs": [
    {
     "data": {
      "text/plain": [
       "{1, 4, 9, 16}"
      ]
     },
     "execution_count": 22,
     "metadata": {},
     "output_type": "execute_result"
    }
   ],
   "source": [
    "{i**2 for i in range(1,5)}"
   ]
  },
  {
   "cell_type": "code",
   "execution_count": 23,
   "id": "2132a700",
   "metadata": {},
   "outputs": [
    {
     "name": "stdout",
     "output_type": "stream",
     "text": [
      "[1, 4, 9, 16]\n",
      "(1, 4, 9, 16)\n",
      "{16, 1, 4, 9}\n"
     ]
    }
   ],
   "source": [
    "print(list(i**2 for i in range(1,5)))\n",
    "print(tuple(i**2 for i in range(1,5)))\n",
    "print(set(i**2 for i in range(1,5)))"
   ]
  },
  {
   "cell_type": "code",
   "execution_count": 26,
   "id": "2ab4c785",
   "metadata": {},
   "outputs": [
    {
     "name": "stdout",
     "output_type": "stream",
     "text": [
      "0.1648557186126709\n",
      "0.3138725757598877\n"
     ]
    }
   ],
   "source": [
    "import time\n",
    "l=list((range(1000000)))\n",
    "t=tuple((range(1000000)))\n",
    "start=time.time()\n",
    "\n",
    "for i in range(1,5):\n",
    "    x=l*i\n",
    "    c=time.time()-start\n",
    "print(c)\n",
    "    \n",
    "for i in range(1,5):\n",
    "    y=t*i\n",
    "    d=time.time()-start\n",
    "print(d)    "
   ]
  },
  {
   "cell_type": "code",
   "execution_count": 33,
   "id": "b9096485",
   "metadata": {},
   "outputs": [],
   "source": [
    "def power(a=1,b=1):\n",
    "    return a**b"
   ]
  },
  {
   "cell_type": "code",
   "execution_count": 31,
   "id": "b7f9cac8",
   "metadata": {},
   "outputs": [
    {
     "data": {
      "text/plain": [
       "16"
      ]
     },
     "execution_count": 31,
     "metadata": {},
     "output_type": "execute_result"
    }
   ],
   "source": [
    "power(2,4) #positional argument"
   ]
  },
  {
   "cell_type": "code",
   "execution_count": 32,
   "id": "ca22c647",
   "metadata": {},
   "outputs": [
    {
     "ename": "TypeError",
     "evalue": "power() missing 1 required positional argument: 'b'",
     "output_type": "error",
     "traceback": [
      "\u001b[1;31m---------------------------------------------------------------------------\u001b[0m",
      "\u001b[1;31mTypeError\u001b[0m                                 Traceback (most recent call last)",
      "\u001b[1;32m<ipython-input-32-d32e0df8244d>\u001b[0m in \u001b[0;36m<module>\u001b[1;34m\u001b[0m\n\u001b[1;32m----> 1\u001b[1;33m \u001b[0mpower\u001b[0m\u001b[1;33m(\u001b[0m\u001b[1;36m2\u001b[0m\u001b[1;33m)\u001b[0m\u001b[1;33m\u001b[0m\u001b[1;33m\u001b[0m\u001b[0m\n\u001b[0m",
      "\u001b[1;31mTypeError\u001b[0m: power() missing 1 required positional argument: 'b'"
     ]
    }
   ],
   "source": [
    "power(2)"
   ]
  },
  {
   "cell_type": "code",
   "execution_count": 34,
   "id": "b011faef",
   "metadata": {},
   "outputs": [
    {
     "data": {
      "text/plain": [
       "2"
      ]
     },
     "execution_count": 34,
     "metadata": {},
     "output_type": "execute_result"
    }
   ],
   "source": [
    "power(2)"
   ]
  },
  {
   "cell_type": "code",
   "execution_count": 35,
   "id": "33c9df9b",
   "metadata": {},
   "outputs": [
    {
     "data": {
      "text/plain": [
       "1"
      ]
     },
     "execution_count": 35,
     "metadata": {},
     "output_type": "execute_result"
    }
   ],
   "source": [
    "power()"
   ]
  },
  {
   "cell_type": "code",
   "execution_count": 36,
   "id": "23900376",
   "metadata": {},
   "outputs": [
    {
     "data": {
      "text/plain": [
       "8"
      ]
     },
     "execution_count": 36,
     "metadata": {},
     "output_type": "execute_result"
    }
   ],
   "source": [
    "power(b=3,a=2)"
   ]
  },
  {
   "cell_type": "code",
   "execution_count": null,
   "id": "a11da00e",
   "metadata": {},
   "outputs": [],
   "source": [
    "keyword>positional>default"
   ]
  },
  {
   "cell_type": "code",
   "execution_count": 47,
   "id": "f4975fad",
   "metadata": {},
   "outputs": [],
   "source": [
    "def mul(*p):\n",
    "    pd=1\n",
    "    for i in p:\n",
    "        pd=pd*i\n",
    "\n",
    "    print(p)\n",
    "    return pd"
   ]
  },
  {
   "cell_type": "code",
   "execution_count": 48,
   "id": "9bd32e61",
   "metadata": {},
   "outputs": [
    {
     "name": "stdout",
     "output_type": "stream",
     "text": [
      "(3, 4, 5, 6, 7, 8, 9)\n"
     ]
    },
    {
     "data": {
      "text/plain": [
       "181440"
      ]
     },
     "execution_count": 48,
     "metadata": {},
     "output_type": "execute_result"
    }
   ],
   "source": [
    "mul(3,4,5,6,7,8,9)"
   ]
  },
  {
   "cell_type": "code",
   "execution_count": 53,
   "id": "a414ead7",
   "metadata": {},
   "outputs": [],
   "source": [
    "def cap(**kwargs):\n",
    "    for (key,value) in kwargs.items():\n",
    "        print(key,\"-----\",value)\n",
    "    print(kwargs)"
   ]
  },
  {
   "cell_type": "code",
   "execution_count": 54,
   "id": "256569a8",
   "metadata": {},
   "outputs": [
    {
     "name": "stdout",
     "output_type": "stream",
     "text": [
      "india ----- d\n",
      "nepal ----- k\n",
      "s ----- c\n",
      "{'india': 'd', 'nepal': 'k', 's': 'c'}\n"
     ]
    }
   ],
   "source": [
    "cap(india=\"d\",nepal='k',s='c')"
   ]
  },
  {
   "cell_type": "code",
   "execution_count": 56,
   "id": "46ed0f33",
   "metadata": {},
   "outputs": [],
   "source": [
    "def is_even(num):\n",
    "    \"\"\"\n",
    "    This is program is used to check number is even or ODD.\n",
    "    Input=valid integers\n",
    "    Output=even/odd\n",
    "    \"\"\"\n",
    "    if type(num)==int:\n",
    "        if num%2==0:\n",
    "            return 'even'\n",
    "        else:\n",
    "            return 'odd'\n",
    "    else:\n",
    "        return 'enter valid integers'"
   ]
  },
  {
   "cell_type": "code",
   "execution_count": 57,
   "id": "395afd1f",
   "metadata": {},
   "outputs": [
    {
     "name": "stdout",
     "output_type": "stream",
     "text": [
      "1 odd\n",
      "2 even\n",
      "3 odd\n",
      "4 even\n",
      "5 odd\n",
      "6 even\n",
      "7 odd\n",
      "8 even\n",
      "9 odd\n",
      "10 even\n"
     ]
    }
   ],
   "source": [
    "for i in range(1,11):\n",
    "    x=is_even(i)\n",
    "    print(i,x)"
   ]
  },
  {
   "cell_type": "code",
   "execution_count": 58,
   "id": "829649c6",
   "metadata": {},
   "outputs": [
    {
     "name": "stdout",
     "output_type": "stream",
     "text": [
      "\n",
      "    This is program is used to check number is even or ODD.\n",
      "    Input=valid integers\n",
      "    Output=even/odd\n",
      "    \n"
     ]
    }
   ],
   "source": [
    "print(is_even.__doc__)"
   ]
  },
  {
   "cell_type": "code",
   "execution_count": 59,
   "id": "e68d6383",
   "metadata": {},
   "outputs": [
    {
     "name": "stdout",
     "output_type": "stream",
     "text": [
      "print(value, ..., sep=' ', end='\\n', file=sys.stdout, flush=False)\n",
      "\n",
      "Prints the values to a stream, or to sys.stdout by default.\n",
      "Optional keyword arguments:\n",
      "file:  a file-like object (stream); defaults to the current sys.stdout.\n",
      "sep:   string inserted between values, default a space.\n",
      "end:   string appended after the last value, default a newline.\n",
      "flush: whether to forcibly flush the stream.\n"
     ]
    }
   ],
   "source": [
    "print(print.__doc__)"
   ]
  },
  {
   "cell_type": "code",
   "execution_count": 6,
   "id": "db84cbfb",
   "metadata": {},
   "outputs": [],
   "source": [
    "def mul(*p):\n",
    "    pr=1\n",
    "    for i in (p):\n",
    "        pr=pr*i\n",
    "\n",
    "    print(p)\n",
    "    return pr"
   ]
  },
  {
   "cell_type": "code",
   "execution_count": 7,
   "id": "94962a04",
   "metadata": {},
   "outputs": [
    {
     "name": "stdout",
     "output_type": "stream",
     "text": [
      "(3, 4, 5, 6, 6)\n"
     ]
    },
    {
     "data": {
      "text/plain": [
       "2160"
      ]
     },
     "execution_count": 7,
     "metadata": {},
     "output_type": "execute_result"
    }
   ],
   "source": [
    "mul(3,4,5,6,6)"
   ]
  },
  {
   "cell_type": "code",
   "execution_count": 8,
   "id": "63842ded",
   "metadata": {},
   "outputs": [],
   "source": [
    "def cap(**kwargs):\n",
    "    for (key,value) in kwargs.items():\n",
    "        print(key, \"---------->\",value)\n",
    "    print(kwargs)"
   ]
  },
  {
   "cell_type": "code",
   "execution_count": 9,
   "id": "762dd33b",
   "metadata": {},
   "outputs": [
    {
     "name": "stdout",
     "output_type": "stream",
     "text": [
      "i ----------> d\n",
      "s ----------> c\n",
      "n ----------> k\n",
      "b ----------> d\n",
      "{'i': 'd', 's': 'c', 'n': 'k', 'b': 'd'}\n"
     ]
    }
   ],
   "source": [
    "cap(i='d',s='c',n='k',b='d')"
   ]
  },
  {
   "cell_type": "code",
   "execution_count": 2,
   "id": "ec250403",
   "metadata": {},
   "outputs": [
    {
     "name": "stdout",
     "output_type": "stream",
     "text": [
      "['ArithmeticError', 'AssertionError', 'AttributeError', 'BaseException', 'BlockingIOError', 'BrokenPipeError', 'BufferError', 'BytesWarning', 'ChildProcessError', 'ConnectionAbortedError', 'ConnectionError', 'ConnectionRefusedError', 'ConnectionResetError', 'DeprecationWarning', 'EOFError', 'Ellipsis', 'EnvironmentError', 'Exception', 'False', 'FileExistsError', 'FileNotFoundError', 'FloatingPointError', 'FutureWarning', 'GeneratorExit', 'IOError', 'ImportError', 'ImportWarning', 'IndentationError', 'IndexError', 'InterruptedError', 'IsADirectoryError', 'KeyError', 'KeyboardInterrupt', 'LookupError', 'MemoryError', 'ModuleNotFoundError', 'NameError', 'None', 'NotADirectoryError', 'NotImplemented', 'NotImplementedError', 'OSError', 'OverflowError', 'PendingDeprecationWarning', 'PermissionError', 'ProcessLookupError', 'RecursionError', 'ReferenceError', 'ResourceWarning', 'RuntimeError', 'RuntimeWarning', 'StopAsyncIteration', 'StopIteration', 'SyntaxError', 'SyntaxWarning', 'SystemError', 'SystemExit', 'TabError', 'TimeoutError', 'True', 'TypeError', 'UnboundLocalError', 'UnicodeDecodeError', 'UnicodeEncodeError', 'UnicodeError', 'UnicodeTranslateError', 'UnicodeWarning', 'UserWarning', 'ValueError', 'Warning', 'WindowsError', 'ZeroDivisionError', '__IPYTHON__', '__build_class__', '__debug__', '__doc__', '__import__', '__loader__', '__name__', '__package__', '__spec__', 'abs', 'all', 'any', 'ascii', 'bin', 'bool', 'breakpoint', 'bytearray', 'bytes', 'callable', 'chr', 'classmethod', 'compile', 'complex', 'copyright', 'credits', 'delattr', 'dict', 'dir', 'display', 'divmod', 'enumerate', 'eval', 'exec', 'filter', 'float', 'format', 'frozenset', 'get_ipython', 'getattr', 'globals', 'hasattr', 'hash', 'help', 'hex', 'id', 'input', 'int', 'isinstance', 'issubclass', 'iter', 'len', 'license', 'list', 'locals', 'map', 'max', 'memoryview', 'min', 'next', 'object', 'oct', 'open', 'ord', 'pow', 'print', 'property', 'range', 'repr', 'reversed', 'round', 'set', 'setattr', 'slice', 'sorted', 'staticmethod', 'str', 'sum', 'super', 'tuple', 'type', 'vars', 'zip']\n"
     ]
    }
   ],
   "source": [
    "import builtins\n",
    "print(dir(builtins))"
   ]
  },
  {
   "cell_type": "code",
   "execution_count": 3,
   "id": "1d155f49",
   "metadata": {},
   "outputs": [
    {
     "name": "stdout",
     "output_type": "stream",
     "text": [
      "inner x\n"
     ]
    },
    {
     "ename": "NameError",
     "evalue": "name 'x' is not defined",
     "output_type": "error",
     "traceback": [
      "\u001b[1;31m---------------------------------------------------------------------------\u001b[0m",
      "\u001b[1;31mNameError\u001b[0m                                 Traceback (most recent call last)",
      "\u001b[1;32m<ipython-input-3-f7a5342dd612>\u001b[0m in \u001b[0;36m<module>\u001b[1;34m\u001b[0m\n\u001b[0;32m      6\u001b[0m     \u001b[0minner\u001b[0m\u001b[1;33m(\u001b[0m\u001b[1;33m)\u001b[0m\u001b[1;33m\u001b[0m\u001b[1;33m\u001b[0m\u001b[0m\n\u001b[0;32m      7\u001b[0m     \u001b[0mprint\u001b[0m\u001b[1;33m(\u001b[0m\u001b[0mx\u001b[0m\u001b[1;33m)\u001b[0m\u001b[1;33m\u001b[0m\u001b[1;33m\u001b[0m\u001b[0m\n\u001b[1;32m----> 8\u001b[1;33m \u001b[0mouterr\u001b[0m\u001b[1;33m(\u001b[0m\u001b[1;33m)\u001b[0m\u001b[1;33m\u001b[0m\u001b[1;33m\u001b[0m\u001b[0m\n\u001b[0m",
      "\u001b[1;32m<ipython-input-3-f7a5342dd612>\u001b[0m in \u001b[0;36mouterr\u001b[1;34m()\u001b[0m\n\u001b[0;32m      5\u001b[0m         \u001b[0mprint\u001b[0m\u001b[1;33m(\u001b[0m\u001b[0mx\u001b[0m\u001b[1;33m)\u001b[0m\u001b[1;33m\u001b[0m\u001b[1;33m\u001b[0m\u001b[0m\n\u001b[0;32m      6\u001b[0m     \u001b[0minner\u001b[0m\u001b[1;33m(\u001b[0m\u001b[1;33m)\u001b[0m\u001b[1;33m\u001b[0m\u001b[1;33m\u001b[0m\u001b[0m\n\u001b[1;32m----> 7\u001b[1;33m     \u001b[0mprint\u001b[0m\u001b[1;33m(\u001b[0m\u001b[0mx\u001b[0m\u001b[1;33m)\u001b[0m\u001b[1;33m\u001b[0m\u001b[1;33m\u001b[0m\u001b[0m\n\u001b[0m\u001b[0;32m      8\u001b[0m \u001b[0mouterr\u001b[0m\u001b[1;33m(\u001b[0m\u001b[1;33m)\u001b[0m\u001b[1;33m\u001b[0m\u001b[1;33m\u001b[0m\u001b[0m\n",
      "\u001b[1;31mNameError\u001b[0m: name 'x' is not defined"
     ]
    }
   ],
   "source": [
    "def outerr():\n",
    "    \n",
    "    def inner():\n",
    "        x=\"inner x\"\n",
    "        print(x)\n",
    "    inner()\n",
    "    print(x)\n",
    "outerr()"
   ]
  },
  {
   "cell_type": "code",
   "execution_count": 5,
   "id": "8604c505",
   "metadata": {},
   "outputs": [],
   "source": [
    "def is_even(num):\n",
    "    \"\"\"\n",
    "    This program calculate number is even or odd.\n",
    "    Input: valid integer\n",
    "    Output:even/odd\n",
    "    created:22/04/2023\n",
    "    \n",
    "    \"\"\"\n",
    "    if type(num)==int:\n",
    "        if num%2==0:\n",
    "            return 'even'\n",
    "        else:\n",
    "            return 'odd'\n",
    "    else:\n",
    "        return 'enter valid integer'"
   ]
  },
  {
   "cell_type": "code",
   "execution_count": 8,
   "id": "201032b8",
   "metadata": {},
   "outputs": [
    {
     "name": "stdout",
     "output_type": "stream",
     "text": [
      "odd 1\n",
      "even 2\n",
      "odd 3\n",
      "even 4\n",
      "odd 5\n",
      "even 6\n",
      "odd 7\n",
      "even 8\n",
      "odd 9\n",
      "even 10\n"
     ]
    }
   ],
   "source": [
    "for i in range(1,11):\n",
    "    x=is_even(i)\n",
    "    print(x,i)\n"
   ]
  },
  {
   "cell_type": "code",
   "execution_count": 9,
   "id": "60f29f24",
   "metadata": {},
   "outputs": [
    {
     "name": "stdout",
     "output_type": "stream",
     "text": [
      "\n",
      "    This program calculate number is even or odd.\n",
      "    Input: valid integer\n",
      "    Output:even/odd\n",
      "    created:22/04/2023\n",
      "    \n",
      "    \n"
     ]
    }
   ],
   "source": [
    "print(is_even.__doc__)"
   ]
  },
  {
   "cell_type": "code",
   "execution_count": 14,
   "id": "f89aeb8f",
   "metadata": {},
   "outputs": [],
   "source": [
    "def power(a=1,b=1):\n",
    "    return a**b"
   ]
  },
  {
   "cell_type": "code",
   "execution_count": 11,
   "id": "cc8b2e44",
   "metadata": {},
   "outputs": [
    {
     "data": {
      "text/plain": [
       "81"
      ]
     },
     "execution_count": 11,
     "metadata": {},
     "output_type": "execute_result"
    }
   ],
   "source": [
    "#positional\n",
    "power(3,4)"
   ]
  },
  {
   "cell_type": "code",
   "execution_count": 15,
   "id": "1b8a8734",
   "metadata": {},
   "outputs": [
    {
     "data": {
      "text/plain": [
       "1"
      ]
     },
     "execution_count": 15,
     "metadata": {},
     "output_type": "execute_result"
    }
   ],
   "source": [
    "power(1)"
   ]
  },
  {
   "cell_type": "code",
   "execution_count": 16,
   "id": "a8a66b83",
   "metadata": {},
   "outputs": [
    {
     "data": {
      "text/plain": [
       "1"
      ]
     },
     "execution_count": 16,
     "metadata": {},
     "output_type": "execute_result"
    }
   ],
   "source": [
    "power()"
   ]
  },
  {
   "cell_type": "code",
   "execution_count": 17,
   "id": "45493267",
   "metadata": {},
   "outputs": [
    {
     "data": {
      "text/plain": [
       "49"
      ]
     },
     "execution_count": 17,
     "metadata": {},
     "output_type": "execute_result"
    }
   ],
   "source": [
    "power(b=2,a=7)"
   ]
  },
  {
   "cell_type": "code",
   "execution_count": 22,
   "id": "f3c381aa",
   "metadata": {},
   "outputs": [],
   "source": [
    "def mul(*args):\n",
    "    prod=1\n",
    "    for i in args:\n",
    "        prod=prod*i\n",
    "        print(args)       \n",
    "        return prod"
   ]
  },
  {
   "cell_type": "code",
   "execution_count": 23,
   "id": "53c74d4e",
   "metadata": {},
   "outputs": [
    {
     "name": "stdout",
     "output_type": "stream",
     "text": [
      "(6, 9, 4, 2)\n"
     ]
    },
    {
     "data": {
      "text/plain": [
       "6"
      ]
     },
     "execution_count": 23,
     "metadata": {},
     "output_type": "execute_result"
    }
   ],
   "source": [
    "mul(6,9,4,2)"
   ]
  },
  {
   "cell_type": "code",
   "execution_count": 24,
   "id": "282393d7",
   "metadata": {},
   "outputs": [],
   "source": [
    "def cap(**kwargs):\n",
    "    for (key,value) in kwargs.items():\n",
    "        print(key,\"----->\",value)\n",
    "    print(kwargs)"
   ]
  },
  {
   "cell_type": "code",
   "execution_count": 26,
   "id": "0a4a11d0",
   "metadata": {},
   "outputs": [
    {
     "name": "stdout",
     "output_type": "stream",
     "text": [
      "india -----> delhi\n",
      "uk -----> london\n",
      "china -----> beijing\n",
      "japan -----> tokyo\n",
      "{'india': 'delhi', 'uk': 'london', 'china': 'beijing', 'japan': 'tokyo'}\n"
     ]
    }
   ],
   "source": [
    "cap(india='delhi',uk='london',china='beijing',japan='tokyo')"
   ]
  },
  {
   "cell_type": "code",
   "execution_count": 27,
   "id": "0cb1973c",
   "metadata": {},
   "outputs": [
    {
     "data": {
      "text/plain": [
       "<function __main__.<lambda>(x)>"
      ]
     },
     "execution_count": 27,
     "metadata": {},
     "output_type": "execute_result"
    }
   ],
   "source": [
    "lambda x : x**2"
   ]
  },
  {
   "cell_type": "code",
   "execution_count": 29,
   "id": "98b79986",
   "metadata": {},
   "outputs": [
    {
     "data": {
      "text/plain": [
       "81"
      ]
     },
     "execution_count": 29,
     "metadata": {},
     "output_type": "execute_result"
    }
   ],
   "source": [
    "a=lambda x : x**2\n",
    "a(9)"
   ]
  },
  {
   "cell_type": "code",
   "execution_count": 31,
   "id": "07c50145",
   "metadata": {},
   "outputs": [
    {
     "data": {
      "text/plain": [
       "16"
      ]
     },
     "execution_count": 31,
     "metadata": {},
     "output_type": "execute_result"
    }
   ],
   "source": [
    "a=lambda x,y:x+y\n",
    "a(9,7)   "
   ]
  },
  {
   "cell_type": "code",
   "execution_count": 33,
   "id": "3f45e9ed",
   "metadata": {},
   "outputs": [
    {
     "data": {
      "text/plain": [
       "True"
      ]
     },
     "execution_count": 33,
     "metadata": {},
     "output_type": "execute_result"
    }
   ],
   "source": [
    "a=lambda s: 'a' in s\n",
    "a('aniloo')"
   ]
  },
  {
   "cell_type": "code",
   "execution_count": 36,
   "id": "54b0d42c",
   "metadata": {},
   "outputs": [
    {
     "name": "stdout",
     "output_type": "stream",
     "text": [
      "odd 1\n",
      "even 2\n",
      "odd 3\n",
      "even 4\n"
     ]
    }
   ],
   "source": [
    "a=lambda x: 'even' if x%2==0 else 'odd'\n",
    "for i in range(1,5):\n",
    "    print(a(i),i)"
   ]
  },
  {
   "cell_type": "code",
   "execution_count": 1,
   "id": "f84fce80",
   "metadata": {},
   "outputs": [
    {
     "data": {
      "text/plain": [
       "16"
      ]
     },
     "execution_count": 1,
     "metadata": {},
     "output_type": "execute_result"
    }
   ],
   "source": [
    "a=lambda x:x**2\n",
    "a(4)"
   ]
  },
  {
   "cell_type": "code",
   "execution_count": 2,
   "id": "57b03114",
   "metadata": {},
   "outputs": [
    {
     "data": {
      "text/plain": [
       "15"
      ]
     },
     "execution_count": 2,
     "metadata": {},
     "output_type": "execute_result"
    }
   ],
   "source": [
    "a= lambda x,y:x+y\n",
    "a(7,8)"
   ]
  },
  {
   "cell_type": "code",
   "execution_count": 4,
   "id": "83613dcd",
   "metadata": {},
   "outputs": [
    {
     "data": {
      "text/plain": [
       "False"
      ]
     },
     "execution_count": 4,
     "metadata": {},
     "output_type": "execute_result"
    }
   ],
   "source": [
    "a=lambda x:'a' in x\n",
    "a('nil')"
   ]
  },
  {
   "cell_type": "code",
   "execution_count": 7,
   "id": "23d4d417",
   "metadata": {},
   "outputs": [
    {
     "name": "stdout",
     "output_type": "stream",
     "text": [
      "odd\n"
     ]
    }
   ],
   "source": [
    "a=lambda x : print('even') if x%2==0 else print('odd')\n",
    "a(9)"
   ]
  },
  {
   "cell_type": "code",
   "execution_count": 8,
   "id": "9d23bf51",
   "metadata": {},
   "outputs": [
    {
     "data": {
      "text/plain": [
       "212.0"
      ]
     },
     "execution_count": 8,
     "metadata": {},
     "output_type": "execute_result"
    }
   ],
   "source": [
    "t=lambda x:(9/5)*x+32\n",
    "t(100)"
   ]
  },
  {
   "cell_type": "code",
   "execution_count": 9,
   "id": "92b5cca3",
   "metadata": {},
   "outputs": [
    {
     "data": {
      "text/plain": [
       "56"
      ]
     },
     "execution_count": 9,
     "metadata": {},
     "output_type": "execute_result"
    }
   ],
   "source": [
    "a=lambda x,y: x if x>y else y\n",
    "a(9,56)"
   ]
  },
  {
   "cell_type": "code",
   "execution_count": 10,
   "id": "e76ab83a",
   "metadata": {},
   "outputs": [],
   "source": [
    "l=[1,3,5,8,11,12]"
   ]
  },
  {
   "cell_type": "code",
   "execution_count": 11,
   "id": "ae33781d",
   "metadata": {},
   "outputs": [
    {
     "name": "stdout",
     "output_type": "stream",
     "text": [
      "[1, 9, 25, 64, 121, 144]\n"
     ]
    }
   ],
   "source": [
    "def square(x):\n",
    "    return x**2\n",
    "\n",
    "def transform(f,l):\n",
    "    output=[]\n",
    "    for i in l:\n",
    "        output.append(f(i))\n",
    "    print(output)\n",
    "transform(square,l)"
   ]
  },
  {
   "cell_type": "code",
   "execution_count": 14,
   "id": "e17a0d9b",
   "metadata": {},
   "outputs": [
    {
     "name": "stdout",
     "output_type": "stream",
     "text": [
      "[1, 27, 3125, 16777216, 285311670611, 8916100448256]\n"
     ]
    }
   ],
   "source": [
    "def transform(f,l):\n",
    "    output=[]\n",
    "    for i in l:\n",
    "        output.append(f(i))\n",
    "    print(output)\n",
    "transform(lambda x:x**x,l)"
   ]
  },
  {
   "cell_type": "code",
   "execution_count": 16,
   "id": "23560979",
   "metadata": {},
   "outputs": [
    {
     "data": {
      "text/plain": [
       "{1, 9, 25, 64, 121, 144}"
      ]
     },
     "execution_count": 16,
     "metadata": {},
     "output_type": "execute_result"
    }
   ],
   "source": [
    "set(map(square,l))"
   ]
  },
  {
   "cell_type": "code",
   "execution_count": 17,
   "id": "08c68626",
   "metadata": {},
   "outputs": [
    {
     "data": {
      "text/plain": [
       "[1, 9, 25, 64, 121, 144]"
      ]
     },
     "execution_count": 17,
     "metadata": {},
     "output_type": "execute_result"
    }
   ],
   "source": [
    "list(map(lambda x:x**2,l))"
   ]
  },
  {
   "cell_type": "code",
   "execution_count": 20,
   "id": "10819baf",
   "metadata": {},
   "outputs": [
    {
     "data": {
      "text/plain": [
       "['odd', 'odd', 'odd', 'even', 'odd', 'even']"
      ]
     },
     "execution_count": 20,
     "metadata": {},
     "output_type": "execute_result"
    }
   ],
   "source": [
    "list(map(lambda x:'even' if x%2==0 else 'odd',l))"
   ]
  },
  {
   "cell_type": "code",
   "execution_count": 21,
   "id": "c9ac6bb8",
   "metadata": {},
   "outputs": [
    {
     "data": {
      "text/plain": [
       "[1, 3, 5, 8, 11, 12]"
      ]
     },
     "execution_count": 21,
     "metadata": {},
     "output_type": "execute_result"
    }
   ],
   "source": [
    "l"
   ]
  },
  {
   "cell_type": "code",
   "execution_count": 22,
   "id": "d71725e0",
   "metadata": {},
   "outputs": [
    {
     "data": {
      "text/plain": [
       "['Rahul', 'Nitish', 'Ankita']"
      ]
     },
     "execution_count": 22,
     "metadata": {},
     "output_type": "execute_result"
    }
   ],
   "source": [
    "users = [\n",
    "    {\n",
    "        'name':'Rahul',\n",
    "        'age':45,\n",
    "        'gender':'male'\n",
    "    },\n",
    "    {\n",
    "        'name':'Nitish',\n",
    "        'age':33,\n",
    "        'gender':'male'\n",
    "    },\n",
    "    {\n",
    "        'name':'Ankita',\n",
    "        'age':50,\n",
    "        'gender':'female'\n",
    "    }\n",
    "]\n",
    "\n",
    "list(map(lambda x: x['name'],users))"
   ]
  },
  {
   "cell_type": "code",
   "execution_count": 23,
   "id": "d666474e",
   "metadata": {},
   "outputs": [
    {
     "data": {
      "text/plain": [
       "[6, 8, 10, 12]"
      ]
     },
     "execution_count": 23,
     "metadata": {},
     "output_type": "execute_result"
    }
   ],
   "source": [
    "l1=[1,2,3,4]\n",
    "l2=[5,6,7,8]\n",
    "list(map(lambda x,y:x+y,l1,l2))"
   ]
  },
  {
   "cell_type": "code",
   "execution_count": 24,
   "id": "3de49b73",
   "metadata": {},
   "outputs": [
    {
     "data": {
      "text/plain": [
       "[6, 7]"
      ]
     },
     "execution_count": 24,
     "metadata": {},
     "output_type": "execute_result"
    }
   ],
   "source": [
    "# numbers greater than 5\n",
    "L = [3,4,5,6,7]\n",
    "list(filter(lambda x: x>5,L))"
   ]
  },
  {
   "cell_type": "code",
   "execution_count": 25,
   "id": "5fd0a733",
   "metadata": {},
   "outputs": [
    {
     "data": {
      "text/plain": [
       "('apple',)"
      ]
     },
     "execution_count": 25,
     "metadata": {},
     "output_type": "execute_result"
    }
   ],
   "source": [
    "# fetch fruits starting with 'a'\n",
    "fruits = ['apple','guava','cherry']\n",
    "tuple(filter(lambda x: x.startswith('a'),fruits))"
   ]
  },
  {
   "cell_type": "code",
   "execution_count": 1,
   "id": "4e0bf518",
   "metadata": {},
   "outputs": [
    {
     "data": {
      "text/plain": [
       "81"
      ]
     },
     "execution_count": 1,
     "metadata": {},
     "output_type": "execute_result"
    }
   ],
   "source": [
    "a=lambda x: x**2\n",
    "a(9)"
   ]
  },
  {
   "cell_type": "code",
   "execution_count": 2,
   "id": "4987a5e6",
   "metadata": {},
   "outputs": [
    {
     "data": {
      "text/plain": [
       "87"
      ]
     },
     "execution_count": 2,
     "metadata": {},
     "output_type": "execute_result"
    }
   ],
   "source": [
    "a=lambda x,y:x+y\n",
    "a(9,78)"
   ]
  },
  {
   "cell_type": "code",
   "execution_count": 5,
   "id": "4bd81aa5",
   "metadata": {},
   "outputs": [
    {
     "data": {
      "text/plain": [
       "False"
      ]
     },
     "execution_count": 5,
     "metadata": {},
     "output_type": "execute_result"
    }
   ],
   "source": [
    "a=lambda x:'a' in x\n",
    "a('nil')"
   ]
  },
  {
   "cell_type": "code",
   "execution_count": 8,
   "id": "ce635fa0",
   "metadata": {},
   "outputs": [
    {
     "name": "stdout",
     "output_type": "stream",
     "text": [
      "odd\n",
      "None 1\n",
      "even\n",
      "None 2\n",
      "odd\n",
      "None 3\n",
      "even\n",
      "None 4\n",
      "odd\n",
      "None 5\n",
      "even\n",
      "None 6\n",
      "odd\n",
      "None 7\n"
     ]
    }
   ],
   "source": [
    "a=lambda x : print('even') if x%2==0 else print('odd')\n",
    "for i in range(1,8):\n",
    "    print(a(i),i)"
   ]
  },
  {
   "cell_type": "code",
   "execution_count": 9,
   "id": "1cb101e5",
   "metadata": {},
   "outputs": [
    {
     "data": {
      "text/plain": [
       "212.0"
      ]
     },
     "execution_count": 9,
     "metadata": {},
     "output_type": "execute_result"
    }
   ],
   "source": [
    "t=lambda c:(9/5)*c+32\n",
    "t(100)"
   ]
  },
  {
   "cell_type": "code",
   "execution_count": 10,
   "id": "98eb6c71",
   "metadata": {},
   "outputs": [
    {
     "data": {
      "text/plain": [
       "9"
      ]
     },
     "execution_count": 10,
     "metadata": {},
     "output_type": "execute_result"
    }
   ],
   "source": [
    "a=lambda x,y: x if x>y else y\n",
    "a(9,6)"
   ]
  },
  {
   "cell_type": "code",
   "execution_count": 11,
   "id": "315c718e",
   "metadata": {},
   "outputs": [],
   "source": [
    "l=[1,2,3,4,5,7,9,11,14]"
   ]
  },
  {
   "cell_type": "code",
   "execution_count": 12,
   "id": "94c1d835",
   "metadata": {},
   "outputs": [],
   "source": [
    "def square(x):\n",
    "    return x**2\n"
   ]
  },
  {
   "cell_type": "code",
   "execution_count": 16,
   "id": "af7e0e5d",
   "metadata": {},
   "outputs": [],
   "source": [
    "def cube(x):\n",
    "    return x**3\n"
   ]
  },
  {
   "cell_type": "code",
   "execution_count": 14,
   "id": "5a430723",
   "metadata": {},
   "outputs": [],
   "source": [
    "def transform(f,l):\n",
    "    output=[]\n",
    "    for i in l:\n",
    "        output.append(f(i))\n",
    "    print(output)"
   ]
  },
  {
   "cell_type": "code",
   "execution_count": 15,
   "id": "f93bc5ff",
   "metadata": {},
   "outputs": [
    {
     "name": "stdout",
     "output_type": "stream",
     "text": [
      "[1, 4, 9, 16, 25, 49, 81, 121, 196]\n"
     ]
    }
   ],
   "source": [
    "transform(square,l)"
   ]
  },
  {
   "cell_type": "code",
   "execution_count": 17,
   "id": "bf1ea3c3",
   "metadata": {},
   "outputs": [
    {
     "name": "stdout",
     "output_type": "stream",
     "text": [
      "[1, 8, 27, 64, 125, 343, 729, 1331, 2744]\n"
     ]
    }
   ],
   "source": [
    "transform(cube,l)"
   ]
  },
  {
   "cell_type": "code",
   "execution_count": 18,
   "id": "d4e6ccc8",
   "metadata": {},
   "outputs": [],
   "source": [
    "def transform(f,l):\n",
    "    output=[]\n",
    "    for i in l:\n",
    "        output.append(f(i))\n",
    "    return output"
   ]
  },
  {
   "cell_type": "code",
   "execution_count": 19,
   "id": "bdb065f7",
   "metadata": {},
   "outputs": [
    {
     "data": {
      "text/plain": [
       "[1, 8, 27, 64, 125, 343, 729, 1331, 2744]"
      ]
     },
     "execution_count": 19,
     "metadata": {},
     "output_type": "execute_result"
    }
   ],
   "source": [
    "transform(lambda x:x**3,l)"
   ]
  },
  {
   "cell_type": "code",
   "execution_count": 20,
   "id": "ed7a7676",
   "metadata": {},
   "outputs": [],
   "source": [
    "l=[1,2,4,5,7,39]"
   ]
  },
  {
   "cell_type": "code",
   "execution_count": 21,
   "id": "d111f058",
   "metadata": {},
   "outputs": [
    {
     "data": {
      "text/plain": [
       "[1, 4, 16, 25, 49, 1521]"
      ]
     },
     "execution_count": 21,
     "metadata": {},
     "output_type": "execute_result"
    }
   ],
   "source": [
    "list(map(square,l))"
   ]
  },
  {
   "cell_type": "code",
   "execution_count": 22,
   "id": "d0521fe9",
   "metadata": {},
   "outputs": [
    {
     "data": {
      "text/plain": [
       "[1, 4, 16, 25, 49, 1521]"
      ]
     },
     "execution_count": 22,
     "metadata": {},
     "output_type": "execute_result"
    }
   ],
   "source": [
    "list(map(lambda x : x**2,l))"
   ]
  },
  {
   "cell_type": "code",
   "execution_count": 25,
   "id": "1cdb558f",
   "metadata": {},
   "outputs": [
    {
     "name": "stdout",
     "output_type": "stream",
     "text": [
      "[1, 2, 4, 5, 7, 39]\n",
      "odd even even odd odd odd "
     ]
    },
    {
     "data": {
      "text/plain": [
       "[None, None, None, None, None, None]"
      ]
     },
     "execution_count": 25,
     "metadata": {},
     "output_type": "execute_result"
    }
   ],
   "source": [
    "print(l)\n",
    "list(map(lambda x: print('even',end=\" \") if x%2==0 else print('odd',end=\" \"),l))"
   ]
  },
  {
   "cell_type": "code",
   "execution_count": 26,
   "id": "0677d687",
   "metadata": {},
   "outputs": [],
   "source": [
    "users = [\n",
    "    {\n",
    "        'name':'Rahul',\n",
    "        'age':45,\n",
    "        'gender':'male'\n",
    "    },\n",
    "    {\n",
    "        'name':'Nitish',\n",
    "        'age':33,\n",
    "        'gender':'male'\n",
    "    },\n",
    "    {\n",
    "        'name':'Ankita',\n",
    "        'age':50,\n",
    "        'gender':'female'\n",
    "    }\n",
    "]"
   ]
  },
  {
   "cell_type": "code",
   "execution_count": 28,
   "id": "8528a482",
   "metadata": {},
   "outputs": [
    {
     "data": {
      "text/plain": [
       "['Rahul', 'Nitish', 'Ankita']"
      ]
     },
     "execution_count": 28,
     "metadata": {},
     "output_type": "execute_result"
    }
   ],
   "source": [
    "list(map(lambda x : x['name'],users))"
   ]
  },
  {
   "cell_type": "code",
   "execution_count": 29,
   "id": "aab2180a",
   "metadata": {},
   "outputs": [
    {
     "data": {
      "text/plain": [
       "{6, 8, 10, 12}"
      ]
     },
     "execution_count": 29,
     "metadata": {},
     "output_type": "execute_result"
    }
   ],
   "source": [
    "l1=[1,2,3,4]\n",
    "l2=[5,6,7,8]\n",
    "\n",
    "set(map(lambda x1,x2:x1+x2,l1,l2))"
   ]
  },
  {
   "cell_type": "code",
   "execution_count": 30,
   "id": "9fac32d2",
   "metadata": {},
   "outputs": [
    {
     "data": {
      "text/plain": [
       "[False, False, False, True, True]"
      ]
     },
     "execution_count": 30,
     "metadata": {},
     "output_type": "execute_result"
    }
   ],
   "source": [
    "# numbers greater than 5\n",
    "L = [3,4,5,6,7]\n",
    "list(map(lambda x:x>5,L))"
   ]
  },
  {
   "cell_type": "code",
   "execution_count": 31,
   "id": "da712270",
   "metadata": {},
   "outputs": [
    {
     "data": {
      "text/plain": [
       "[6, 7]"
      ]
     },
     "execution_count": 31,
     "metadata": {},
     "output_type": "execute_result"
    }
   ],
   "source": [
    "list(filter(lambda x:x>5,L))"
   ]
  },
  {
   "cell_type": "code",
   "execution_count": 32,
   "id": "9c120163",
   "metadata": {},
   "outputs": [],
   "source": [
    "# fetch fruits starting with 'a'\n",
    "fruits = ['apple','guava','cherry']"
   ]
  },
  {
   "cell_type": "code",
   "execution_count": 34,
   "id": "43d5bfc8",
   "metadata": {},
   "outputs": [
    {
     "data": {
      "text/plain": [
       "[True, False, False]"
      ]
     },
     "execution_count": 34,
     "metadata": {},
     "output_type": "execute_result"
    }
   ],
   "source": [
    "list(map(lambda x:x.startswith('a'),fruits))"
   ]
  },
  {
   "cell_type": "code",
   "execution_count": 35,
   "id": "c3eac31f",
   "metadata": {},
   "outputs": [
    {
     "data": {
      "text/plain": [
       "['apple']"
      ]
     },
     "execution_count": 35,
     "metadata": {},
     "output_type": "execute_result"
    }
   ],
   "source": [
    "list(filter(lambda x: x.startswith('a'),fruits))"
   ]
  },
  {
   "cell_type": "code",
   "execution_count": 36,
   "id": "009b30c7",
   "metadata": {},
   "outputs": [],
   "source": [
    "from functools import reduce"
   ]
  },
  {
   "cell_type": "code",
   "execution_count": 43,
   "id": "f45261a5",
   "metadata": {},
   "outputs": [],
   "source": [
    "l.append(-400)"
   ]
  },
  {
   "cell_type": "code",
   "execution_count": 38,
   "id": "e3a6ade5",
   "metadata": {},
   "outputs": [
    {
     "data": {
      "text/plain": [
       "58"
      ]
     },
     "execution_count": 38,
     "metadata": {},
     "output_type": "execute_result"
    }
   ],
   "source": [
    "reduce(lambda x,y:x+y,l)"
   ]
  },
  {
   "cell_type": "code",
   "execution_count": 39,
   "id": "a11b62a4",
   "metadata": {},
   "outputs": [
    {
     "ename": "SyntaxError",
     "evalue": "duplicate argument 'x' in function definition (<ipython-input-39-485f8156bd24>, line 1)",
     "output_type": "error",
     "traceback": [
      "\u001b[1;36m  File \u001b[1;32m\"<ipython-input-39-485f8156bd24>\"\u001b[1;36m, line \u001b[1;32m1\u001b[0m\n\u001b[1;33m    reduce(lambda x,y,x:x+Y+z,l)\u001b[0m\n\u001b[1;37m           ^\u001b[0m\n\u001b[1;31mSyntaxError\u001b[0m\u001b[1;31m:\u001b[0m duplicate argument 'x' in function definition\n"
     ]
    }
   ],
   "source": [
    "reduce(lambda x,y,x:x+Y+z,l)"
   ]
  },
  {
   "cell_type": "code",
   "execution_count": 41,
   "id": "9c0c03c3",
   "metadata": {},
   "outputs": [
    {
     "data": {
      "text/plain": [
       "1"
      ]
     },
     "execution_count": 41,
     "metadata": {},
     "output_type": "execute_result"
    }
   ],
   "source": [
    "reduce(lambda x,y:x+y,[1])"
   ]
  },
  {
   "cell_type": "code",
   "execution_count": 44,
   "id": "b5fe7ae8",
   "metadata": {},
   "outputs": [
    {
     "data": {
      "text/plain": [
       "-400"
      ]
     },
     "execution_count": 44,
     "metadata": {},
     "output_type": "execute_result"
    }
   ],
   "source": [
    "reduce(lambda x,y: x if x<y else y,l)"
   ]
  },
  {
   "cell_type": "code",
   "execution_count": 45,
   "id": "92404fcc",
   "metadata": {},
   "outputs": [],
   "source": [
    "def is_even(num):\n",
    "    if num%2==0:\n",
    "        print(\"Even\")\n",
    "    else:\n",
    "        print(\"Odd\")"
   ]
  },
  {
   "cell_type": "code",
   "execution_count": 46,
   "id": "50c57770",
   "metadata": {},
   "outputs": [
    {
     "name": "stdout",
     "output_type": "stream",
     "text": [
      "Odd\n"
     ]
    }
   ],
   "source": [
    "is_even(89)"
   ]
  },
  {
   "cell_type": "code",
   "execution_count": 47,
   "id": "04e6c5bb",
   "metadata": {},
   "outputs": [
    {
     "name": "stdout",
     "output_type": "stream",
     "text": [
      "Odd\n",
      "None\n"
     ]
    }
   ],
   "source": [
    "print(is_even(89))"
   ]
  },
  {
   "cell_type": "code",
   "execution_count": 48,
   "id": "7a186174",
   "metadata": {},
   "outputs": [],
   "source": [
    "def is_even(num):\n",
    "    if num%2==0:\n",
    "        return \"Even\"\n",
    "    else:\n",
    "        return \"Odd\""
   ]
  },
  {
   "cell_type": "code",
   "execution_count": 49,
   "id": "bb1af779",
   "metadata": {},
   "outputs": [
    {
     "data": {
      "text/plain": [
       "'Odd'"
      ]
     },
     "execution_count": 49,
     "metadata": {},
     "output_type": "execute_result"
    }
   ],
   "source": [
    "is_even(89)"
   ]
  },
  {
   "cell_type": "code",
   "execution_count": 50,
   "id": "456514a2",
   "metadata": {},
   "outputs": [
    {
     "name": "stdout",
     "output_type": "stream",
     "text": [
      "Odd\n"
     ]
    }
   ],
   "source": [
    "print(is_even(89))"
   ]
  },
  {
   "cell_type": "code",
   "execution_count": 51,
   "id": "f547cf0e",
   "metadata": {},
   "outputs": [
    {
     "data": {
      "text/plain": [
       "[1, 2, 4, 5, 7, 39, -400]"
      ]
     },
     "execution_count": 51,
     "metadata": {},
     "output_type": "execute_result"
    }
   ],
   "source": [
    "l"
   ]
  },
  {
   "cell_type": "code",
   "execution_count": 53,
   "id": "2f1ca972",
   "metadata": {},
   "outputs": [
    {
     "name": "stdout",
     "output_type": "stream",
     "text": [
      "None\n"
     ]
    }
   ],
   "source": [
    "print(l.append(9))"
   ]
  },
  {
   "cell_type": "code",
   "execution_count": 54,
   "id": "9bbdbcac",
   "metadata": {},
   "outputs": [
    {
     "name": "stdout",
     "output_type": "stream",
     "text": [
      "inner x\n"
     ]
    },
    {
     "ename": "NameError",
     "evalue": "name 'x' is not defined",
     "output_type": "error",
     "traceback": [
      "\u001b[1;31m---------------------------------------------------------------------------\u001b[0m",
      "\u001b[1;31mNameError\u001b[0m                                 Traceback (most recent call last)",
      "\u001b[1;32m<ipython-input-54-f7a5342dd612>\u001b[0m in \u001b[0;36m<module>\u001b[1;34m\u001b[0m\n\u001b[0;32m      6\u001b[0m     \u001b[0minner\u001b[0m\u001b[1;33m(\u001b[0m\u001b[1;33m)\u001b[0m\u001b[1;33m\u001b[0m\u001b[1;33m\u001b[0m\u001b[0m\n\u001b[0;32m      7\u001b[0m     \u001b[0mprint\u001b[0m\u001b[1;33m(\u001b[0m\u001b[0mx\u001b[0m\u001b[1;33m)\u001b[0m\u001b[1;33m\u001b[0m\u001b[1;33m\u001b[0m\u001b[0m\n\u001b[1;32m----> 8\u001b[1;33m \u001b[0mouterr\u001b[0m\u001b[1;33m(\u001b[0m\u001b[1;33m)\u001b[0m\u001b[1;33m\u001b[0m\u001b[1;33m\u001b[0m\u001b[0m\n\u001b[0m",
      "\u001b[1;32m<ipython-input-54-f7a5342dd612>\u001b[0m in \u001b[0;36mouterr\u001b[1;34m()\u001b[0m\n\u001b[0;32m      5\u001b[0m         \u001b[0mprint\u001b[0m\u001b[1;33m(\u001b[0m\u001b[0mx\u001b[0m\u001b[1;33m)\u001b[0m\u001b[1;33m\u001b[0m\u001b[1;33m\u001b[0m\u001b[0m\n\u001b[0;32m      6\u001b[0m     \u001b[0minner\u001b[0m\u001b[1;33m(\u001b[0m\u001b[1;33m)\u001b[0m\u001b[1;33m\u001b[0m\u001b[1;33m\u001b[0m\u001b[0m\n\u001b[1;32m----> 7\u001b[1;33m     \u001b[0mprint\u001b[0m\u001b[1;33m(\u001b[0m\u001b[0mx\u001b[0m\u001b[1;33m)\u001b[0m\u001b[1;33m\u001b[0m\u001b[1;33m\u001b[0m\u001b[0m\n\u001b[0m\u001b[0;32m      8\u001b[0m \u001b[0mouterr\u001b[0m\u001b[1;33m(\u001b[0m\u001b[1;33m)\u001b[0m\u001b[1;33m\u001b[0m\u001b[1;33m\u001b[0m\u001b[0m\n",
      "\u001b[1;31mNameError\u001b[0m: name 'x' is not defined"
     ]
    }
   ],
   "source": [
    "def outerr():\n",
    "    \n",
    "    def inner():\n",
    "        x=\"inner x\"\n",
    "        print(x)\n",
    "    inner()\n",
    "    print(x)\n",
    "outerr()"
   ]
  },
  {
   "cell_type": "code",
   "execution_count": 55,
   "id": "e6e90cc3",
   "metadata": {},
   "outputs": [
    {
     "ename": "UnboundLocalError",
     "evalue": "local variable 'x' referenced before assignment",
     "output_type": "error",
     "traceback": [
      "\u001b[1;31m---------------------------------------------------------------------------\u001b[0m",
      "\u001b[1;31mUnboundLocalError\u001b[0m                         Traceback (most recent call last)",
      "\u001b[1;32m<ipython-input-55-91d91a088cc2>\u001b[0m in \u001b[0;36m<module>\u001b[1;34m\u001b[0m\n\u001b[0;32m      2\u001b[0m     \u001b[0mx\u001b[0m \u001b[1;33m+=\u001b[0m \u001b[1;36m1\u001b[0m\u001b[1;33m\u001b[0m\u001b[1;33m\u001b[0m\u001b[0m\n\u001b[0;32m      3\u001b[0m \u001b[0mx\u001b[0m \u001b[1;33m=\u001b[0m \u001b[1;36m5\u001b[0m\u001b[1;33m\u001b[0m\u001b[1;33m\u001b[0m\u001b[0m\n\u001b[1;32m----> 4\u001b[1;33m \u001b[0mh\u001b[0m\u001b[1;33m(\u001b[0m\u001b[0mx\u001b[0m\u001b[1;33m)\u001b[0m\u001b[1;33m\u001b[0m\u001b[1;33m\u001b[0m\u001b[0m\n\u001b[0m\u001b[0;32m      5\u001b[0m \u001b[0mprint\u001b[0m\u001b[1;33m(\u001b[0m\u001b[0mx\u001b[0m\u001b[1;33m)\u001b[0m\u001b[1;33m\u001b[0m\u001b[1;33m\u001b[0m\u001b[0m\n",
      "\u001b[1;32m<ipython-input-55-91d91a088cc2>\u001b[0m in \u001b[0;36mh\u001b[1;34m(y)\u001b[0m\n\u001b[0;32m      1\u001b[0m \u001b[1;32mdef\u001b[0m \u001b[0mh\u001b[0m\u001b[1;33m(\u001b[0m\u001b[0my\u001b[0m\u001b[1;33m)\u001b[0m\u001b[1;33m:\u001b[0m\u001b[1;33m\u001b[0m\u001b[1;33m\u001b[0m\u001b[0m\n\u001b[1;32m----> 2\u001b[1;33m     \u001b[0mx\u001b[0m \u001b[1;33m+=\u001b[0m \u001b[1;36m1\u001b[0m\u001b[1;33m\u001b[0m\u001b[1;33m\u001b[0m\u001b[0m\n\u001b[0m\u001b[0;32m      3\u001b[0m \u001b[0mx\u001b[0m \u001b[1;33m=\u001b[0m \u001b[1;36m5\u001b[0m\u001b[1;33m\u001b[0m\u001b[1;33m\u001b[0m\u001b[0m\n\u001b[0;32m      4\u001b[0m \u001b[0mh\u001b[0m\u001b[1;33m(\u001b[0m\u001b[0mx\u001b[0m\u001b[1;33m)\u001b[0m\u001b[1;33m\u001b[0m\u001b[1;33m\u001b[0m\u001b[0m\n\u001b[0;32m      5\u001b[0m \u001b[0mprint\u001b[0m\u001b[1;33m(\u001b[0m\u001b[0mx\u001b[0m\u001b[1;33m)\u001b[0m\u001b[1;33m\u001b[0m\u001b[1;33m\u001b[0m\u001b[0m\n",
      "\u001b[1;31mUnboundLocalError\u001b[0m: local variable 'x' referenced before assignment"
     ]
    }
   ],
   "source": [
    "def h(y):\n",
    "    x += 1\n",
    "x = 5\n",
    "h(x)\n",
    "print(x)"
   ]
  },
  {
   "cell_type": "code",
   "execution_count": 56,
   "id": "4fdff143",
   "metadata": {},
   "outputs": [
    {
     "ename": "UnboundLocalError",
     "evalue": "local variable 'x' referenced before assignment",
     "output_type": "error",
     "traceback": [
      "\u001b[1;31m---------------------------------------------------------------------------\u001b[0m",
      "\u001b[1;31mUnboundLocalError\u001b[0m                         Traceback (most recent call last)",
      "\u001b[1;32m<ipython-input-56-0e419381a903>\u001b[0m in \u001b[0;36m<module>\u001b[1;34m\u001b[0m\n\u001b[0;32m      2\u001b[0m     \u001b[0mx\u001b[0m \u001b[1;33m=\u001b[0m \u001b[0mx\u001b[0m\u001b[1;33m+\u001b[0m\u001b[1;36m1\u001b[0m\u001b[1;33m\u001b[0m\u001b[1;33m\u001b[0m\u001b[0m\n\u001b[0;32m      3\u001b[0m \u001b[0mx\u001b[0m \u001b[1;33m=\u001b[0m \u001b[1;36m5\u001b[0m\u001b[1;33m\u001b[0m\u001b[1;33m\u001b[0m\u001b[0m\n\u001b[1;32m----> 4\u001b[1;33m \u001b[0mh\u001b[0m\u001b[1;33m(\u001b[0m\u001b[0mx\u001b[0m\u001b[1;33m)\u001b[0m\u001b[1;33m\u001b[0m\u001b[1;33m\u001b[0m\u001b[0m\n\u001b[0m\u001b[0;32m      5\u001b[0m \u001b[0mprint\u001b[0m\u001b[1;33m(\u001b[0m\u001b[0mx\u001b[0m\u001b[1;33m)\u001b[0m\u001b[1;33m\u001b[0m\u001b[1;33m\u001b[0m\u001b[0m\n",
      "\u001b[1;32m<ipython-input-56-0e419381a903>\u001b[0m in \u001b[0;36mh\u001b[1;34m(y)\u001b[0m\n\u001b[0;32m      1\u001b[0m \u001b[1;32mdef\u001b[0m \u001b[0mh\u001b[0m\u001b[1;33m(\u001b[0m\u001b[0my\u001b[0m\u001b[1;33m)\u001b[0m\u001b[1;33m:\u001b[0m\u001b[1;33m\u001b[0m\u001b[1;33m\u001b[0m\u001b[0m\n\u001b[1;32m----> 2\u001b[1;33m     \u001b[0mx\u001b[0m \u001b[1;33m=\u001b[0m \u001b[0mx\u001b[0m\u001b[1;33m+\u001b[0m\u001b[1;36m1\u001b[0m\u001b[1;33m\u001b[0m\u001b[1;33m\u001b[0m\u001b[0m\n\u001b[0m\u001b[0;32m      3\u001b[0m \u001b[0mx\u001b[0m \u001b[1;33m=\u001b[0m \u001b[1;36m5\u001b[0m\u001b[1;33m\u001b[0m\u001b[1;33m\u001b[0m\u001b[0m\n\u001b[0;32m      4\u001b[0m \u001b[0mh\u001b[0m\u001b[1;33m(\u001b[0m\u001b[0mx\u001b[0m\u001b[1;33m)\u001b[0m\u001b[1;33m\u001b[0m\u001b[1;33m\u001b[0m\u001b[0m\n\u001b[0;32m      5\u001b[0m \u001b[0mprint\u001b[0m\u001b[1;33m(\u001b[0m\u001b[0mx\u001b[0m\u001b[1;33m)\u001b[0m\u001b[1;33m\u001b[0m\u001b[1;33m\u001b[0m\u001b[0m\n",
      "\u001b[1;31mUnboundLocalError\u001b[0m: local variable 'x' referenced before assignment"
     ]
    }
   ],
   "source": [
    "def h(y):\n",
    "    x = x+1\n",
    "x = 5\n",
    "h(x)\n",
    "print(x)"
   ]
  },
  {
   "cell_type": "code",
   "execution_count": 57,
   "id": "8b2d0c5f",
   "metadata": {},
   "outputs": [
    {
     "name": "stdout",
     "output_type": "stream",
     "text": [
      "in f(x): x = 4\n",
      "in main program scope: z = 4\n",
      "in main program scope: x = 3\n"
     ]
    }
   ],
   "source": [
    "#doubt\n",
    "def f(x):\n",
    "   x = x + 1\n",
    "   print('in f(x): x =', x)\n",
    "   return x\n",
    "\n",
    "x = 3\n",
    "z = f(x)\n",
    "print('in main program scope: z =', z)\n",
    "print('in main program scope: x =', x)"
   ]
  },
  {
   "cell_type": "code",
   "execution_count": 3,
   "id": "7487b97e",
   "metadata": {},
   "outputs": [
    {
     "name": "stdout",
     "output_type": "stream",
     "text": [
      "0.9362116010827839\n",
      "3\n",
      "27\n",
      "[27, 21, 15, 9, 6]\n"
     ]
    }
   ],
   "source": [
    "import random\n",
    "print(random.random())\n",
    "print(random.randint(3,30))\n",
    "print(random.randrange(3,30,3))\n",
    "print(random.sample(list(range(3,30,3)),5))"
   ]
  },
  {
   "cell_type": "code",
   "execution_count": 4,
   "id": "2b80739e",
   "metadata": {},
   "outputs": [
    {
     "name": "stdout",
     "output_type": "stream",
     "text": [
      "True\n"
     ]
    }
   ],
   "source": [
    "x=2.4\n",
    "print(isinstance(x,float))"
   ]
  },
  {
   "cell_type": "code",
   "execution_count": null,
   "id": "e5a7f165",
   "metadata": {},
   "outputs": [],
   "source": []
  }
 ],
 "metadata": {
  "kernelspec": {
   "display_name": "Python 3",
   "language": "python",
   "name": "python3"
  },
  "language_info": {
   "codemirror_mode": {
    "name": "ipython",
    "version": 3
   },
   "file_extension": ".py",
   "mimetype": "text/x-python",
   "name": "python",
   "nbconvert_exporter": "python",
   "pygments_lexer": "ipython3",
   "version": "3.8.8"
  }
 },
 "nbformat": 4,
 "nbformat_minor": 5
}
