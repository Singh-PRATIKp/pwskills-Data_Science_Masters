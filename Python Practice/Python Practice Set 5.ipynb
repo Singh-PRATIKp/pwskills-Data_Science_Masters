{
 "cells": [
  {
   "attachments": {},
   "cell_type": "markdown",
   "metadata": {},
   "source": [
    "# **`PYTHON PRACTICE 5`**"
   ]
  },
  {
   "attachments": {},
   "cell_type": "markdown",
   "metadata": {},
   "source": [
    "`Q1. Can you create a Python program that reads a text file and counts the number of words contained\n",
    "within it? The program should be designed to read the file and break it down into individual words, using\n",
    "spaces, punctuation marks, and other delimiters to separate the words. It should then count the number\n",
    "of words found in the file and display this count as output. The program should be flexible enough to work\n",
    "with different text files and should be able to handle a variety of formatting and punctuation styles.`"
   ]
  },
  {
   "cell_type": "code",
   "execution_count": 12,
   "metadata": {},
   "outputs": [
    {
     "name": "stdout",
     "output_type": "stream",
     "text": [
      "1388\n"
     ]
    }
   ],
   "source": [
    "import re\n",
    "with open(\"text.txt\",\"r\") as f:\n",
    "    text = f.read()\n",
    "    word_list = re.split(r'\\W+',text)\n",
    "    word_count = 0\n",
    "    for i in word_list:\n",
    "        if len(i) == 0:\n",
    "            continue\n",
    "        else:\n",
    "            word_count += 1\n",
    "    \n",
    "    print(word_count)\n",
    "\n"
   ]
  },
  {
   "attachments": {},
   "cell_type": "markdown",
   "metadata": {},
   "source": [
    "`Q2. Could you help me create a Python program that can find and display the longest word in a text file?\n",
    "The program should be able to read any text file and separate its contents into individual words, taking\n",
    "into account various delimiters like spaces, punctuation marks, and other characters. Then, it should\n",
    "compare the length of each word and determine which one is the longest, and finally, print that word as\n",
    "output. The program should be versatile enough to work with various text files and be able to handle\n",
    "different formatting styles and punctuation.`"
   ]
  },
  {
   "cell_type": "code",
   "execution_count": 28,
   "metadata": {},
   "outputs": [
    {
     "name": "stdout",
     "output_type": "stream",
     "text": [
      "confidentiality\n"
     ]
    }
   ],
   "source": [
    "import re\n",
    "with open(\"text.txt\",\"r\") as f:\n",
    "    text = f.read()\n",
    "    word_list = re.split(r'\\W+',text)\n",
    "    word_len= dict()\n",
    "    for i in word_list:\n",
    "        if len(i) == 0:\n",
    "            continue\n",
    "        else:\n",
    "            word_len[i.lower()] = len(i.lower())\n",
    "    print(sorted(word_len.items(),key=lambda kv:(kv[1],kv[0]))[-1][0])"
   ]
  },
  {
   "cell_type": "markdown",
   "metadata": {},
   "source": [
    "`Q3. Write a Python program to read a text file and print out the most frequent word(s) in the file.`"
   ]
  },
  {
   "cell_type": "code",
   "execution_count": 11,
   "metadata": {},
   "outputs": [
    {
     "name": "stdout",
     "output_type": "stream",
     "text": [
      "the\n"
     ]
    }
   ],
   "source": [
    "import re\n",
    "with open(\"text.txt\",\"r\") as f:\n",
    "    text = f.read()\n",
    "    word_list = re.split(r'\\W+',text)\n",
    "    word_count = dict()\n",
    "    for i in word_list:\n",
    "        if len(i) == 0:\n",
    "            continue\n",
    "        else:\n",
    "            word_count[i.lower()] = word_count.get(i.lower(),0) + 1\n",
    "    \n",
    "    s = sorted(word_count.items(),key=lambda kv:(kv[1],kv[0]))\n",
    "    for i in s:\n",
    "        if i[1] == s[-1][1]:\n",
    "            print(i[0])\n",
    "    \n"
   ]
  },
  {
   "attachments": {},
   "cell_type": "markdown",
   "metadata": {},
   "source": [
    "`Q4. How can you use Python to count the number of rows in a CSV file?`"
   ]
  },
  {
   "cell_type": "code",
   "execution_count": 21,
   "metadata": {},
   "outputs": [
    {
     "name": "stdout",
     "output_type": "stream",
     "text": [
      "Total number of rows is: 676\n"
     ]
    }
   ],
   "source": [
    "import csv\n",
    "\n",
    "with open(\"D:\\pwskills-Data_Science_Masters\\player.csv\",\"r\") as f:\n",
    "    reader  = csv.reader(f)\n",
    "    count = 0\n",
    "    for row in reader:\n",
    "        count += 1\n",
    "    print(\"Total number of rows is:\",count)\n",
    "\n",
    "    \n",
    "    "
   ]
  },
  {
   "attachments": {},
   "cell_type": "markdown",
   "metadata": {},
   "source": [
    "`Q5. How can you use Python to calculate the average of a specific column in a CSV file?`"
   ]
  },
  {
   "cell_type": "code",
   "execution_count": 34,
   "metadata": {},
   "outputs": [
    {
     "name": "stdout",
     "output_type": "stream",
     "text": [
      "The mean of Age is:  26.500768049155145\n"
     ]
    }
   ],
   "source": [
    "import csv\n",
    "#Player.csv contains a column called age for which we are trying to calculate the mean \n",
    "with open(\"D:\\pwskills-Data_Science_Masters\\player.csv\",\"r\") as f: #opening a file called palyer.csv with column number 3 containing age\n",
    "    reader  = csv.reader(f) #reader object is created for csv file\n",
    "    count = 0\n",
    "    col = []\n",
    "    for row in reader: #looping through rows in csv  \n",
    "        try:\n",
    "            col.append(int(row[3])) #extracting only the age of each player and appending it to col list\n",
    "        except:\n",
    "            continue\n",
    "    print(\"The mean of Age is: \",sum(col)/len(col)) #average is sum of values divided by no. of values\n",
    "\n",
    "    "
   ]
  },
  {
   "cell_type": "code",
   "execution_count": null,
   "metadata": {},
   "outputs": [],
   "source": []
  }
 ],
 "metadata": {
  "kernelspec": {
   "display_name": "base",
   "language": "python",
   "name": "python3"
  },
  "language_info": {
   "codemirror_mode": {
    "name": "ipython",
    "version": 3
   },
   "file_extension": ".py",
   "mimetype": "text/x-python",
   "name": "python",
   "nbconvert_exporter": "python",
   "pygments_lexer": "ipython3",
   "version": "3.9.16"
  },
  "orig_nbformat": 4
 },
 "nbformat": 4,
 "nbformat_minor": 2
}
