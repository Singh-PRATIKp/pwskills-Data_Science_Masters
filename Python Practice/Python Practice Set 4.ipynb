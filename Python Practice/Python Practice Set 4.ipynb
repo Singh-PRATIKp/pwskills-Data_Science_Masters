{
 "cells": [
  {
   "attachments": {},
   "cell_type": "markdown",
   "metadata": {},
   "source": [
    "# **`PYTHON PRACTICE 4`**"
   ]
  },
  {
   "attachments": {},
   "cell_type": "markdown",
   "metadata": {},
   "source": [
    "`Q1. Create a class called \"Person\" with properties for \"name\", \"age\", and \"gender\". Create an object of this\n",
    "class and print out its properties.`"
   ]
  },
  {
   "cell_type": "code",
   "execution_count": 4,
   "metadata": {},
   "outputs": [
    {
     "name": "stdout",
     "output_type": "stream",
     "text": [
      "Name is tej, age is 38 and gender is male\n",
      "tej\n",
      "38\n",
      "male\n"
     ]
    }
   ],
   "source": [
    "class Person:\n",
    "    def __init__(self,name,age,gender):\n",
    "        self.name = name\n",
    "        self.age = age\n",
    "        self.gender = gender\n",
    "\n",
    "    def __repr__(self):\n",
    "        return f\"Name is {self.name}, age is {self.age} and gender is {self.gender}\"\n",
    "\n",
    "p1 = Person(\"tej\",38,\"male\")\n",
    "print(p1)\n",
    "print(p1.name)\n",
    "print(p1.age)\n",
    "print(p1.gender)"
   ]
  },
  {
   "attachments": {},
   "cell_type": "markdown",
   "metadata": {},
   "source": [
    "`Q2. Write a Python class called \"Rectangle\" with attributes for \"width\" and \"height\". Implement methods\n",
    "to calculate the area and perimeter of the rectangle. Create an instance of this class and use it to print out\n",
    "the rectangle's area and perimeter.`"
   ]
  },
  {
   "cell_type": "code",
   "execution_count": 5,
   "metadata": {},
   "outputs": [
    {
     "name": "stdout",
     "output_type": "stream",
     "text": [
      "area of the rectangle is 200\n",
      "perimeter of the rectange is 60\n"
     ]
    }
   ],
   "source": [
    "class Rectangle:\n",
    "    def __init__(self,width,height):\n",
    "        self.width = width\n",
    "        self.height = height\n",
    "    \n",
    "    def area(self):\n",
    "        area = self.width * self.height\n",
    "        return f\"area of the rectangle is {area}\"\n",
    "    \n",
    "    def perimeter(self):\n",
    "        perimeter = 2*(self.width + self.height)\n",
    "        return f\"perimeter of the rectange is {perimeter}\"\n",
    "    \n",
    "p1 = Rectangle(10,20)\n",
    "print(p1.area())\n",
    "print(p1.perimeter())"
   ]
  },
  {
   "attachments": {},
   "cell_type": "markdown",
   "metadata": {},
   "source": [
    "`Q3. Write a Python class called \"BankAccount\" with attributes for \"balance\" and \"interest_rate\".\n",
    "Implement methods to deposit and withdraw money from the account, as well as to calculate the interest\n",
    "earned on the balance based on the interest rate. Create an instance of this class and use it to test out the\n",
    "implemented methods for deposit, withdrawal, and interest calculation.`"
   ]
  },
  {
   "cell_type": "code",
   "execution_count": 68,
   "metadata": {},
   "outputs": [
    {
     "name": "stdout",
     "output_type": "stream",
     "text": [
      "10000\n",
      "3\n"
     ]
    }
   ],
   "source": [
    "class BankAccount:\n",
    "    def __init__(self,balance,interest_rate):\n",
    "        self.balance = balance\n",
    "        self.interest_rate = interest_rate\n",
    "    \n",
    "    def deposit(self,amount):\n",
    "        self.balance = self.balance + amount\n",
    "        print(f\"deposit of Rs {amount} is successful and current balance is {self.balance}\")\n",
    "\n",
    "    def withdraw(self,amount):\n",
    "        if amount > self.balance:\n",
    "            print(\"You are bankrupt\")\n",
    "        else:\n",
    "            self.balance = self.balance - amount\n",
    "            print(f\"Withdraw of Rs {amount} is successful and current balance is {self.balance}\")\n",
    "    \n",
    "    def interest_calculator(self,time):\n",
    "        interest_earned = ((self.balance )*(self.interest_rate)*(time))/100\n",
    "        print(f\"The interest for {time} years for a principal of {self.balance} with an interest rate of {self.interest_rate} pa is Rs {interest_earned}\")\n",
    "\n",
    "t = BankAccount(10000,3)\n",
    "print(t.balance)\n",
    "print(t.interest_rate)        "
   ]
  },
  {
   "cell_type": "code",
   "execution_count": 69,
   "metadata": {},
   "outputs": [
    {
     "name": "stdout",
     "output_type": "stream",
     "text": [
      "deposit of Rs 1000 is successful and current balance is 11000\n"
     ]
    }
   ],
   "source": [
    "t.deposit(1000)"
   ]
  },
  {
   "cell_type": "code",
   "execution_count": 70,
   "metadata": {},
   "outputs": [
    {
     "name": "stdout",
     "output_type": "stream",
     "text": [
      "Withdraw of Rs 100 is successful and current balance is 10900\n"
     ]
    }
   ],
   "source": [
    "t.withdraw(100)"
   ]
  },
  {
   "cell_type": "code",
   "execution_count": 73,
   "metadata": {},
   "outputs": [
    {
     "name": "stdout",
     "output_type": "stream",
     "text": [
      "The interest for 10 years for a principal of 10900 with an interest rate of 3 pa is Rs 3270.0\n"
     ]
    }
   ],
   "source": [
    "t.interest_calculator(10)"
   ]
  },
  {
   "attachments": {},
   "cell_type": "markdown",
   "metadata": {},
   "source": [
    "`Q4. Write a Python class called \"Animal\" with attributes for \"name\" and \"species\". Create a subclass of\n",
    "\"Animal\" called \"Dog\" with additional attributes for \"breed\" and \"owner\". Implement both classes with\n",
    "appropriate methods and constructors to initialise their properties. Create instances of both classes and\n",
    "use them to print out the various properties of the animals and dogs, such as their names, species,\n",
    "breeds, and owners.`"
   ]
  },
  {
   "cell_type": "code",
   "execution_count": 74,
   "metadata": {},
   "outputs": [
    {
     "name": "stdout",
     "output_type": "stream",
     "text": [
      "kitty\n",
      "cat\n",
      "sam\n",
      "dog\n",
      "labrador\n",
      "tej\n"
     ]
    }
   ],
   "source": [
    "class Animal:\n",
    "    def __init__(self,name,species):\n",
    "        self.name = name\n",
    "        self.species = species\n",
    "\n",
    "class Dog(Animal):\n",
    "    def __init__(self, name, species,breed,owner):\n",
    "        super().__init__(name, species)\n",
    "        self.breed = breed\n",
    "        self.owner = owner\n",
    "a = Animal(\"kitty\",\"cat\")\n",
    "d = Dog(\"sam\",\"dog\",\"labrador\",\"tej\")\n",
    "\n",
    "print(a.name)\n",
    "print(a.species)\n",
    "print(d.name)\n",
    "print(d.species)\n",
    "print(d.breed)\n",
    "print(d.owner)"
   ]
  },
  {
   "attachments": {},
   "cell_type": "markdown",
   "metadata": {},
   "source": [
    "`Q5. Create a class called \"Car\" with properties for \"make\", \"model\", and \"year\". Create a subclass of \"Car\"\n",
    "called \"ElectricCar\" with additional properties for \"battery_size\" and \"range\". Create objects of both\n",
    "classes and print out their properties.`"
   ]
  },
  {
   "cell_type": "code",
   "execution_count": 75,
   "metadata": {},
   "outputs": [
    {
     "name": "stdout",
     "output_type": "stream",
     "text": [
      "maruthi\n",
      "zen\n",
      "2012\n",
      "Tesla\n",
      "Electric\n",
      "2022\n",
      "2000000\n",
      "200\n"
     ]
    }
   ],
   "source": [
    "class Car:\n",
    "    def __init__(self,make,model,year):\n",
    "        self.make = make\n",
    "        self.model = model\n",
    "        self.year = year\n",
    "\n",
    "class ElectricCar(Car):\n",
    "    def __init__(self,battery_size,range):\n",
    "        self.make = \"Tesla\"\n",
    "        self.model = \"Electric\"\n",
    "        self.year = \"2022\"\n",
    "        self.battery_size = battery_size\n",
    "        self.range = range\n",
    "\n",
    "c1 = Car(\"maruthi\",\"zen\",2012)\n",
    "c2 = ElectricCar(2000000,200)\n",
    "print(c1.make)\n",
    "print(c1.model)\n",
    "print(c1.year)\n",
    "print(c2.make)\n",
    "print(c2.model)\n",
    "print(c2.year)\n",
    "print(c2.battery_size)\n",
    "print(c2.range)"
   ]
  },
  {
   "attachments": {},
   "cell_type": "markdown",
   "metadata": {},
   "source": [
    "`Q6. Create a class called \"Student\" with properties for \"name\" and \"id\". Create a subclass of \"Student\"\n",
    "called \"GraduateStudent\" with additional properties for \"advisor\" and \"research_area\". Create objects of\n",
    "both classes and print out their properties.`"
   ]
  },
  {
   "cell_type": "code",
   "execution_count": 77,
   "metadata": {},
   "outputs": [
    {
     "name": "stdout",
     "output_type": "stream",
     "text": [
      "Praveen\n",
      "12\n",
      "\n",
      "Praful\n",
      "13\n",
      "Dr.Prithvi\n",
      "CSS\n"
     ]
    }
   ],
   "source": [
    "class Student:\n",
    "    def __init__(self,name,id):\n",
    "        self.name = name\n",
    "        self.id = id\n",
    "class GraduateStudent(Student):\n",
    "    def __init__(self, name, id,advisor,research_area):\n",
    "        super().__init__(name, id)\n",
    "        self.advisor = advisor\n",
    "        self.research_area = research_area\n",
    "s1 = Student(\"Praveen\",12)\n",
    "g1 = GraduateStudent(\"Praful\",13,\"Dr.Prithvi\",\"CSS\")\n",
    "\n",
    "print(s1.name)\n",
    "print(s1.id)\n",
    "print()\n",
    "print(g1.name)\n",
    "print(g1.id)\n",
    "print(g1.advisor)\n",
    "print(g1.research_area)\n"
   ]
  },
  {
   "attachments": {},
   "cell_type": "markdown",
   "metadata": {},
   "source": [
    "`Q7. Create a class called \"Shape\" with methods to calculate the area and perimeter of the shape. Create\n",
    "subclasses of \"Shape\" for \"Rectangle\", \"Circle\", and \"Triangle\" with their own methods for calculating area\n",
    "and perimeter. Create objects of each class and print out their area and perimeter.`"
   ]
  },
  {
   "cell_type": "code",
   "execution_count": 90,
   "metadata": {},
   "outputs": [
    {
     "name": "stdout",
     "output_type": "stream",
     "text": [
      "shape created\n",
      "This is the method for area of <__main__.Shape object at 0x000001F58DE5D760>\n",
      "This is the method for perimeter of <__main__.Shape object at 0x000001F58DE5D760>\n",
      "shape created\n",
      "Area of rectangle is 12\n",
      "Perimeter of rectangle is 14\n",
      "shape created\n",
      "Area of circle is 50.26548245743669\n",
      "Perimeter of circle is 25.132741228718345\n",
      "shape created\n",
      "Area of triangle is 77.76888838089432\n",
      "Perimeter of triangle is 12\n"
     ]
    }
   ],
   "source": [
    "class Shape:\n",
    "    def __init__(self):\n",
    "        print(\"shape created\")\n",
    "    def area(self):\n",
    "        return f\"This is the method for area of {self}\"\n",
    "    def perimeter(self):\n",
    "        return f\"This is the method for perimeter of {self}\"\n",
    "\n",
    "class Rectangle(Shape):\n",
    "    def __init__(self,length,width):\n",
    "        super().__init__()\n",
    "        self.length = length\n",
    "        self.width = width\n",
    "\n",
    "    def area(self):\n",
    "        return (self.length*self.width)\n",
    "    \n",
    "    def perimeter(self):\n",
    "        return (2*(self.length+self.width))\n",
    "\n",
    "class Circle(Shape):\n",
    "    def __init__(self,radius):\n",
    "        super().__init__()\n",
    "        self.radius = radius\n",
    "\n",
    "    def area(self):\n",
    "        import math\n",
    "        return (math.pi)*(self.radius)**2\n",
    "    \n",
    "    def perimeter(self):\n",
    "        import math\n",
    "        return (2*(math.pi)*(self.radius))\n",
    "\n",
    "class Triangle(Shape):\n",
    "    def __init__(self,a,b,c):\n",
    "        super().__init__()\n",
    "        self.a = a\n",
    "        self.b = b\n",
    "        self.c = c\n",
    "        self.__perimeter = self.a + self.b + self.c\n",
    "\n",
    "    def area(self):\n",
    "        import math\n",
    "        s = self.__perimeter\n",
    "        area = math.sqrt(s * (s - self.a) * (s - self.b) * (s - self.c))\n",
    "        return area\n",
    "    \n",
    "    def perimeter(self):\n",
    "        return self.__perimeter  \n",
    "\n",
    "s = Shape()\n",
    "print(s.area())\n",
    "print(s.perimeter())\n",
    "\n",
    "r = Rectangle(3,4)\n",
    "print(\"Area of rectangle is\",r.area())\n",
    "print(\"Perimeter of rectangle is\",r.perimeter())\n",
    "\n",
    "c = Circle(4)\n",
    "print(\"Area of circle is\",c.area())\n",
    "print(\"Perimeter of circle is\",c.perimeter())\n",
    "\n",
    "t = Triangle(3,4,5)\n",
    "print(\"Area of triangle is\",t.area())\n",
    "print(\"Perimeter of triangle is\",t.perimeter())\n"
   ]
  },
  {
   "attachments": {},
   "cell_type": "markdown",
   "metadata": {},
   "source": [
    "`Q8. Create a class called \"Employee\" with properties for \"name\", \"id\", and \"salary\". Add methods to give\n",
    "the employee a raise and to calculate their annual salary. Create objects of this class and test out the\n",
    "methods.`"
   ]
  },
  {
   "cell_type": "code",
   "execution_count": 95,
   "metadata": {},
   "outputs": [
    {
     "name": "stdout",
     "output_type": "stream",
     "text": [
      "Aravind\n",
      "123\n",
      "100000\n",
      "Salary raised by 6 % pa and the current salary is 106000.0\n",
      "the annula salary is 1272000.0\n"
     ]
    }
   ],
   "source": [
    "class Employee:\n",
    "    def __init__(self,name,id,salary):\n",
    "        self.name = name\n",
    "        self.id = id\n",
    "        self.salary = salary\n",
    "\n",
    "    def raise_percent(self,r):\n",
    "        self.salary = self.salary + (self.salary * (r/100))\n",
    "        return f\"Salary raised by {r} % pa and the current salary is {self.salary}\"\n",
    "\n",
    "    def annual_salary(self):\n",
    "        return f\"the annula salary is {self.salary*12}\"\n",
    "    \n",
    "\n",
    "e = Employee(\"Aravind\",123,100000)\n",
    "print(e.name)\n",
    "print(e.id)\n",
    "print(e.salary)\n",
    "\n",
    "print(e.raise_percent(6))\n",
    "\n",
    "print(e.annual_salary())\n"
   ]
  },
  {
   "attachments": {},
   "cell_type": "markdown",
   "metadata": {},
   "source": [
    "`Q9. Create a class called \"Book\" with properties for \"title\", \"author\", and \"publisher\". Create a subclass of\n",
    "\"Book\" called \"Ebook\" with additional properties for \"file_format\" and \"file_size\". Create objects of both\n",
    "classes and print out their properties.`"
   ]
  },
  {
   "cell_type": "code",
   "execution_count": 96,
   "metadata": {},
   "outputs": [
    {
     "name": "stdout",
     "output_type": "stream",
     "text": [
      "Jungle book\n",
      "Rudyard Kipling\n",
      "Macmillan\n",
      "\n",
      "Python for everyone\n",
      "Dr.Chuck\n",
      "Free\n",
      "pdf\n",
      "2MB\n"
     ]
    }
   ],
   "source": [
    "class Book:\n",
    "    def __init__(self,title,author,publisher):\n",
    "        self.title = title\n",
    "        self.author = author\n",
    "        self.publisher = publisher\n",
    "\n",
    "class Ebook(Book):\n",
    "    def __init__(self, title, author, publisher,file_format,file_size):\n",
    "        super().__init__(title, author, publisher)\n",
    "        self.file_format = file_format\n",
    "        self.file_size = file_size\n",
    "\n",
    "b = Book(\"Jungle book\",\"Rudyard Kipling\",\"Macmillan\")\n",
    "e = Ebook(\"Python for everyone\",\"Dr.Chuck\",\"Free\",\"pdf\",\"2MB\")\n",
    "\n",
    "print(b.title)\n",
    "print(b.author)\n",
    "print(b.publisher)\n",
    "print()\n",
    "print(e.title)\n",
    "print(e.author)\n",
    "print(e.publisher)\n",
    "print(e.file_format)\n",
    "print(e.file_size)"
   ]
  },
  {
   "attachments": {},
   "cell_type": "markdown",
   "metadata": {},
   "source": [
    "`Q10. Create a class called \"Bank\" with properties for \"name\" and \"accounts\". Add methods to create new\n",
    "accounts, deposit and withdraw money from accounts, and to calculate the total balance of all accounts.\n",
    "Create an object of this class and test out the methods.`"
   ]
  },
  {
   "cell_type": "code",
   "execution_count": 127,
   "metadata": {},
   "outputs": [
    {
     "name": "stdout",
     "output_type": "stream",
     "text": [
      "Created account for Praveen with account number 12345 and balance of 100000\n",
      "Created account for Naveen with account number 56789 and balance of 200000\n",
      "Created new account for Naveen with account number 34564 and current sum of 300000\n",
      "deposit of Rs 100000 is successful for Praveen and current balance is 200000\n",
      "Withdraw of Rs 1000 is successful for Naveen and current balance is 299000\n",
      "Total bank balance is: 499000\n"
     ]
    }
   ],
   "source": [
    "class Bank:\n",
    "    total_balance = 0\n",
    "    def __init__(self,name,account,balance):\n",
    "        self.name = name\n",
    "        self.account = account\n",
    "        self.balance = balance\n",
    "        Bank.total_balance += self.balance\n",
    "        print(f\"Created account for {self.name} with account number {self.account} and balance of {self.balance}\")\n",
    "    \n",
    "    def create_new_account(self,account,balance):\n",
    "        self.account = account\n",
    "        self.balance = self.balance +  balance\n",
    "        Bank.total_balance += balance\n",
    "        print(f\"Created new account for {self.name} with account number {self.account} and current sum of {self.balance}\")\n",
    "    \n",
    "    def deposit(self,amount):\n",
    "        self.balance = self.balance + amount\n",
    "        Bank.total_balance += amount\n",
    "        print(f\"deposit of Rs {amount} is successful for {self.name} and current balance is {self.balance}\")\n",
    "\n",
    "    def withdraw(self,amount):\n",
    "        if amount > self.balance:\n",
    "            print(\"You are bankrupt\")\n",
    "        else:\n",
    "            self.balance = self.balance - amount\n",
    "            Bank.total_balance -= amount\n",
    "            print(f\"Withdraw of Rs {amount} is successful for {self.name} and current balance is {self.balance}\")\n",
    "    \n",
    "# first bank account    \n",
    "p1 = Bank(\"Praveen\",12345,100000)\n",
    "\n",
    "# second bank account\n",
    "p2 = Bank(\"Naveen\",56789,200000)\n",
    "\n",
    "#creating new account with p2\n",
    "p2.create_new_account(34564,100000)\n",
    "\n",
    "#transactions\n",
    "p1.deposit(100000)\n",
    "p2.withdraw(1000)\n",
    "\n",
    "#total bank balance \n",
    "print(\"Total bank balance is:\",Bank.total_balance)\n",
    "\n"
   ]
  }
 ],
 "metadata": {
  "kernelspec": {
   "display_name": "base",
   "language": "python",
   "name": "python3"
  },
  "language_info": {
   "codemirror_mode": {
    "name": "ipython",
    "version": 3
   },
   "file_extension": ".py",
   "mimetype": "text/x-python",
   "name": "python",
   "nbconvert_exporter": "python",
   "pygments_lexer": "ipython3",
   "version": "3.9.16"
  },
  "orig_nbformat": 4
 },
 "nbformat": 4,
 "nbformat_minor": 2
}
