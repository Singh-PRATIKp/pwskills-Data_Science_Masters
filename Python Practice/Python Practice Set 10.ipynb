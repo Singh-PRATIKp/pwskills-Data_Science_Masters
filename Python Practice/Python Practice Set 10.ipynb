{
 "cells": [
  {
   "cell_type": "markdown",
   "id": "428e3b01-51ed-4584-a74c-c17af4f9ca03",
   "metadata": {},
   "source": [
    "`Q1. Write a Python program to create a MySQL database and a table.`"
   ]
  },
  {
   "cell_type": "code",
   "execution_count": 20,
   "id": "02078e4e-be61-4d73-9f2f-61e65b4498bf",
   "metadata": {},
   "outputs": [
    {
     "name": "stdout",
     "output_type": "stream",
     "text": [
      "<mysql.connector.connection_cext.CMySQLConnection object at 0x0000024162589C70>\n"
     ]
    }
   ],
   "source": [
    "import mysql.connector\n",
    "mydb = mysql.connector.connect(\n",
    "host = \"localhost\",\n",
    "    username = \"root\",\n",
    "    password = \"\"\n",
    ")\n",
    "print(mydb)\n",
    "#creating a cursor\n",
    "mycursor = mydb.cursor()"
   ]
  },
  {
   "cell_type": "code",
   "execution_count": 4,
   "id": "96de79ce-7984-41a3-b3a4-601fafb74302",
   "metadata": {},
   "outputs": [],
   "source": [
    "\n",
    "#creating a database MYDB\n",
    "mycursor.execute(\"CREATE DATABASE MYDB\")"
   ]
  },
  {
   "cell_type": "code",
   "execution_count": 5,
   "id": "d4fd4ecc-6bcd-487c-a645-3d496ddf0b4d",
   "metadata": {},
   "outputs": [
    {
     "data": {
      "text/plain": [
       "True"
      ]
     },
     "execution_count": 5,
     "metadata": {},
     "output_type": "execute_result"
    }
   ],
   "source": [
    "#creating a table BOOKS\n",
    "mycursor.execute(\"\"\"CREATE TABLE MYDB.books(\n",
    "                id INTEGER AUTO_INCREMENT PRIMARY KEY ,\n",
    "                 name TEXT,\n",
    "                 rating INTEGER\n",
    "                )\"\"\")\n",
    "mycursor.close()"
   ]
  },
  {
   "cell_type": "markdown",
   "id": "1e567d34-ec23-408d-bd71-ff30919e68a2",
   "metadata": {},
   "source": [
    "`Q2. Write a Python program to insert data into a MySQL table.`"
   ]
  },
  {
   "cell_type": "code",
   "execution_count": 16,
   "id": "bd63ecc5-60d9-42ea-952c-4e22c293665b",
   "metadata": {},
   "outputs": [],
   "source": [
    "import mysql.connector\n",
    "def insert_values_into_table(name,rating):\n",
    "    try:\n",
    "        mydb = mysql.connector.connect(\n",
    "                host = \"localhost\",\n",
    "                username = \"root\",\n",
    "                password = \"\"\n",
    "                )\n",
    "        mycursor = mydb.cursor()\n",
    "        sql_query = \"\"\"\n",
    "        INSERT INTO MYDB.books (name,rating) \n",
    "        VALUES (%s,%s)\n",
    "        \"\"\"\n",
    "        record = (name,rating)\n",
    "        mycursor.execute(sql_query,record)\n",
    "        mydb.commit()\n",
    "        print(\"Record inserted successfully into books table\")\n",
    "    except mysql.connector.Error as error:\n",
    "        print(\"Failed to insert successfully into books table {}\".format(error))\n",
    "    finally:\n",
    "        if mydb.is_connected():\n",
    "            mycursor.close()\n",
    "            mydb.close()\n",
    "            print(\"MySQL connection is closed\")"
   ]
  },
  {
   "cell_type": "code",
   "execution_count": 17,
   "id": "3ec9bfd9-12c1-4568-a29b-fe41ff04698e",
   "metadata": {},
   "outputs": [
    {
     "name": "stdout",
     "output_type": "stream",
     "text": [
      "Record inserted successfully into books table\n",
      "MySQL connection is closed\n"
     ]
    }
   ],
   "source": [
    "insert_values_into_table(\"GREAT GATSBY\",8)"
   ]
  },
  {
   "cell_type": "code",
   "execution_count": 18,
   "id": "b33a2c46-1a51-4cbc-ad91-9687cdd6a534",
   "metadata": {},
   "outputs": [
    {
     "name": "stdout",
     "output_type": "stream",
     "text": [
      "Record inserted successfully into books table\n",
      "MySQL connection is closed\n"
     ]
    }
   ],
   "source": [
    "insert_values_into_table(\"ALICE IN WONDERLAND\",9)"
   ]
  },
  {
   "cell_type": "code",
   "execution_count": null,
   "id": "830484f0-b149-4878-8fc1-02792d4923e0",
   "metadata": {},
   "outputs": [],
   "source": []
  }
 ],
 "metadata": {
  "kernelspec": {
   "display_name": "Python 3 (ipykernel)",
   "language": "python",
   "name": "python3"
  },
  "language_info": {
   "codemirror_mode": {
    "name": "ipython",
    "version": 3
   },
   "file_extension": ".py",
   "mimetype": "text/x-python",
   "name": "python",
   "nbconvert_exporter": "python",
   "pygments_lexer": "ipython3",
   "version": "3.9.16"
  }
 },
 "nbformat": 4,
 "nbformat_minor": 5
}
