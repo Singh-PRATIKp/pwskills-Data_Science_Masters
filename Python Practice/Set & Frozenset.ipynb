{
 "cells": [
  {
   "cell_type": "markdown",
   "id": "3117291a",
   "metadata": {},
   "source": [
    "#                                          SET"
   ]
  },
  {
   "cell_type": "markdown",
   "id": "9220a49a",
   "metadata": {},
   "source": [
    "Set is collection of all kind of immutable data, which items are unique, unordered, unchangeable*, and unindexed and does not allows duplicate members to store. Set are used to store multiple values in single variable. Sets can also be used to perform mathematical set operations like union, intersection, symmetric difference, etc.\n",
    "\n",
    "Characterstics of set:\n",
    "\n",
    "- unique (No Duplicates)\n",
    "- unordered :  cannot be sure in which order the items will appear\n",
    "- unchangeable items (Can't contain mutable data types)\n",
    "- unindexed\n",
    "- mutable\n",
    "\n",
    "- The values True and 1 are considered the same value in sets, and are treated as duplicates"
   ]
  },
  {
   "cell_type": "markdown",
   "id": "730fef4c",
   "metadata": {},
   "source": [
    "## HOW TO CREATE A SET?"
   ]
  },
  {
   "cell_type": "code",
   "execution_count": 1,
   "id": "b3685b89",
   "metadata": {},
   "outputs": [
    {
     "name": "stdout",
     "output_type": "stream",
     "text": [
      "{} <class 'dict'>\n",
      "set() <class 'set'>\n",
      "{1, 2, 3}\n",
      "{1, 'hello', (1, 2, 3), 4.5}\n",
      "{1, 2, 3}\n",
      "{1, 2, 3}\n"
     ]
    },
    {
     "ename": "TypeError",
     "evalue": "unhashable type: 'list'",
     "output_type": "error",
     "traceback": [
      "\u001b[1;31m---------------------------------------------------------------------------\u001b[0m",
      "\u001b[1;31mTypeError\u001b[0m                                 Traceback (most recent call last)",
      "\u001b[1;32m<ipython-input-1-b13aace1fb85>\u001b[0m in \u001b[0;36m<module>\u001b[1;34m\u001b[0m\n\u001b[0;32m     23\u001b[0m \u001b[0mprint\u001b[0m\u001b[1;33m(\u001b[0m\u001b[0ms5\u001b[0m\u001b[1;33m)\u001b[0m\u001b[1;33m\u001b[0m\u001b[1;33m\u001b[0m\u001b[0m\n\u001b[0;32m     24\u001b[0m \u001b[1;31m# set can't have mutable items\u001b[0m\u001b[1;33m\u001b[0m\u001b[1;33m\u001b[0m\u001b[1;33m\u001b[0m\u001b[0m\n\u001b[1;32m---> 25\u001b[1;33m \u001b[0ms6\u001b[0m \u001b[1;33m=\u001b[0m \u001b[1;33m{\u001b[0m\u001b[1;36m1\u001b[0m\u001b[1;33m,\u001b[0m\u001b[1;36m2\u001b[0m\u001b[1;33m,\u001b[0m\u001b[1;33m[\u001b[0m\u001b[1;36m3\u001b[0m\u001b[1;33m,\u001b[0m\u001b[1;36m4\u001b[0m\u001b[1;33m]\u001b[0m\u001b[1;33m}\u001b[0m\u001b[1;33m\u001b[0m\u001b[1;33m\u001b[0m\u001b[0m\n\u001b[0m\u001b[0;32m     26\u001b[0m \u001b[0mprint\u001b[0m\u001b[1;33m(\u001b[0m\u001b[0ms6\u001b[0m\u001b[1;33m)\u001b[0m\u001b[1;33m\u001b[0m\u001b[1;33m\u001b[0m\u001b[0m\n",
      "\u001b[1;31mTypeError\u001b[0m: unhashable type: 'list'"
     ]
    }
   ],
   "source": [
    "# empty\n",
    "s = {}\n",
    "print(s,type(s))\n",
    "\n",
    "s=set(())     #set() Constructor\n",
    "print(s,type(s))\n",
    "\n",
    "\n",
    "# 1D and 2D\n",
    "s1 = {1,2,3}\n",
    "print(s1)\n",
    "\n",
    "#2d & nested set are not possible because set items are immutable but set itself a mutable.\n",
    "#s2 = {1,2,3,{4,5}}\n",
    "#print(s2)\n",
    "\n",
    "\n",
    "# hetro\n",
    "s3 = {1,'hello',4.5,(1,2,3)}\n",
    "print(s3)\n",
    "\n",
    "# using type conversion\n",
    "s4 = set([1,2,3])\n",
    "print(s4)\n",
    "\n",
    "# duplicates not allowed\n",
    "s5 = {1,1,2,2,3,3}\n",
    "print(s5)\n",
    "\n",
    "# set can't have mutable items\n",
    "s6 = {1,2,[3,4]}\n",
    "print(s6)"
   ]
  },
  {
   "cell_type": "code",
   "execution_count": 5,
   "id": "e707dc2c",
   "metadata": {},
   "outputs": [
    {
     "name": "stdout",
     "output_type": "stream",
     "text": [
      "{1, 4.5, (1, 2, 3), 'hello', 'Pratik'}\n",
      "True\n"
     ]
    }
   ],
   "source": [
    "#Set are unordered, items of set can appear in any order.\n",
    "#Hashing algorithm decides the order of set.\n",
    "s = {1,'hello',4.5,(1,2,3),\"Pratik\"}\n",
    "print(s)\n",
    "\n",
    "#s1 and s2 have same item but in different order. But they are equal bcs sets are unordered.\n",
    "s1 = {1,2,3}\n",
    "s2 = {3,2,1}\n",
    "\n",
    "print(s1 == s2)"
   ]
  },
  {
   "cell_type": "markdown",
   "id": "aa1e7b2b",
   "metadata": {},
   "source": [
    "## Accesing & EDITING ITEMS"
   ]
  },
  {
   "cell_type": "code",
   "execution_count": 21,
   "id": "9a857aa8",
   "metadata": {},
   "outputs": [
    {
     "ename": "TypeError",
     "evalue": "'set' object is not subscriptable",
     "output_type": "error",
     "traceback": [
      "\u001b[1;31m---------------------------------------------------------------------------\u001b[0m",
      "\u001b[1;31mTypeError\u001b[0m                                 Traceback (most recent call last)",
      "\u001b[1;32m<ipython-input-21-6f6cf0773509>\u001b[0m in \u001b[0;36m<module>\u001b[1;34m\u001b[0m\n\u001b[0;32m      3\u001b[0m \u001b[1;33m\u001b[0m\u001b[0m\n\u001b[0;32m      4\u001b[0m \u001b[0ms1\u001b[0m \u001b[1;33m=\u001b[0m \u001b[1;33m{\u001b[0m\u001b[1;36m1\u001b[0m\u001b[1;33m,\u001b[0m\u001b[1;36m2\u001b[0m\u001b[1;33m,\u001b[0m\u001b[1;36m3\u001b[0m\u001b[1;33m,\u001b[0m\u001b[1;36m4\u001b[0m\u001b[1;33m}\u001b[0m\u001b[1;33m\u001b[0m\u001b[1;33m\u001b[0m\u001b[0m\n\u001b[1;32m----> 5\u001b[1;33m \u001b[0ms1\u001b[0m\u001b[1;33m[\u001b[0m\u001b[1;36m0\u001b[0m\u001b[1;33m]\u001b[0m\u001b[1;33m\u001b[0m\u001b[1;33m\u001b[0m\u001b[0m\n\u001b[0m\u001b[0;32m      6\u001b[0m \u001b[0ms1\u001b[0m\u001b[1;33m[\u001b[0m\u001b[1;36m0\u001b[0m\u001b[1;33m:\u001b[0m\u001b[1;36m3\u001b[0m\u001b[1;33m]\u001b[0m\u001b[1;33m\u001b[0m\u001b[1;33m\u001b[0m\u001b[0m\n\u001b[0;32m      7\u001b[0m \u001b[0ms1\u001b[0m\u001b[1;33m[\u001b[0m\u001b[1;36m0\u001b[0m\u001b[1;33m]\u001b[0m \u001b[1;33m=\u001b[0m \u001b[1;36m100\u001b[0m\u001b[1;33m\u001b[0m\u001b[1;33m\u001b[0m\u001b[0m\n",
      "\u001b[1;31mTypeError\u001b[0m: 'set' object is not subscriptable"
     ]
    }
   ],
   "source": [
    "#Set are unordered and unindexed, so set is not supporting accessing and editing of items, by referring indexx number.\n",
    "#Once a set is created, you cannot change its items, but you can add new items or remove a existing item.\n",
    "\n",
    "s1 = {1,2,3,4}\n",
    "s1[0]\n",
    "s1[0:3]\n",
    "s1[0] = 100"
   ]
  },
  {
   "cell_type": "code",
   "execution_count": 8,
   "id": "8096bcbc",
   "metadata": {},
   "outputs": [
    {
     "name": "stdout",
     "output_type": "stream",
     "text": [
      "apple\n",
      "cherry\n",
      "banana\n"
     ]
    }
   ],
   "source": [
    "#But you can loop through the set items using a for loop, or ask if a specified value is present in a set, by using the in keyword.\n",
    "thisset = {\"apple\", \"banana\", \"cherry\"}\n",
    "for x in thisset:\n",
    "    print(x)"
   ]
  },
  {
   "cell_type": "markdown",
   "id": "6ca52eb1",
   "metadata": {},
   "source": [
    "## ADDING  ITEMS\n",
    "methods: add(), update()"
   ]
  },
  {
   "cell_type": "code",
   "execution_count": 11,
   "id": "d9702470",
   "metadata": {},
   "outputs": [
    {
     "name": "stdout",
     "output_type": "stream",
     "text": [
      "{1, 2, 3, 4, 5}\n",
      "{1, 2, 3, 4, 5, 6, 7}\n",
      "{'pineapple', 'mango', 'banana', 'apple', 'cherry', 'papaya'}\n",
      "{'apple', 'cherry', 'kiwi', 'banana', 'orange'}\n"
     ]
    }
   ],
   "source": [
    "S = {1,2,3,4}\n",
    "\n",
    "# add : Add only one item. \n",
    "S.add(5)\n",
    "print(S)\n",
    "\n",
    "#----------------------------------\n",
    "\n",
    "# update : Add multiple items.\n",
    "S.update([5,6,7])\n",
    "print(S)\n",
    "\n",
    "#The object in the update() method does not have to be a set, it can be any iterable object (tuples, lists, dictionaries etc.).\n",
    "thisset = {\"apple\", \"banana\", \"cherry\"}\n",
    "tropical = {\"pineapple\", \"mango\", \"papaya\"}\n",
    "thisset.update(tropical)\n",
    "print(thisset)\n",
    "\n",
    "#---------------------------------------\n",
    "thisset = {\"apple\", \"banana\", \"cherry\"}\n",
    "mylist = [\"kiwi\", \"orange\"]\n",
    "thisset.update(mylist)\n",
    "print(thisset)"
   ]
  },
  {
   "cell_type": "markdown",
   "id": "a4b46184",
   "metadata": {},
   "source": [
    "## DELETING ITEMS"
   ]
  },
  {
   "cell_type": "code",
   "execution_count": 12,
   "id": "dc3855ea",
   "metadata": {},
   "outputs": [],
   "source": [
    "# del : del the complete set.\n",
    "s = {1,2,3,4,5}\n",
    "# print(s)\n",
    "# del s[0]\n",
    "# print(s)\n"
   ]
  },
  {
   "cell_type": "code",
   "execution_count": 13,
   "id": "a350b836",
   "metadata": {},
   "outputs": [
    {
     "name": "stdout",
     "output_type": "stream",
     "text": [
      "{1, 2, 3, 4}\n",
      "{1, 2, 3, 4}\n"
     ]
    }
   ],
   "source": [
    "# discard\n",
    "#To remove an item in a seT with specific value.\n",
    "#If the item to remove does not exist, discard() will NOT raise an error.\n",
    "s = {1,2,3,4,5}\n",
    "s.discard(5)\n",
    "print(s)\n",
    "s.discard(50)\n",
    "print(s)\n"
   ]
  },
  {
   "cell_type": "code",
   "execution_count": 14,
   "id": "5ce9b926",
   "metadata": {},
   "outputs": [
    {
     "name": "stdout",
     "output_type": "stream",
     "text": [
      "{1, 2, 3, 4}\n"
     ]
    },
    {
     "ename": "KeyError",
     "evalue": "50",
     "output_type": "error",
     "traceback": [
      "\u001b[1;31m---------------------------------------------------------------------------\u001b[0m",
      "\u001b[1;31mKeyError\u001b[0m                                  Traceback (most recent call last)",
      "\u001b[1;32m<ipython-input-14-77bb462195fa>\u001b[0m in \u001b[0;36m<module>\u001b[1;34m\u001b[0m\n\u001b[0;32m      5\u001b[0m \u001b[0ms\u001b[0m\u001b[1;33m.\u001b[0m\u001b[0mremove\u001b[0m\u001b[1;33m(\u001b[0m\u001b[1;36m5\u001b[0m\u001b[1;33m)\u001b[0m\u001b[1;33m\u001b[0m\u001b[1;33m\u001b[0m\u001b[0m\n\u001b[0;32m      6\u001b[0m \u001b[0mprint\u001b[0m\u001b[1;33m(\u001b[0m\u001b[0ms\u001b[0m\u001b[1;33m)\u001b[0m\u001b[1;33m\u001b[0m\u001b[1;33m\u001b[0m\u001b[0m\n\u001b[1;32m----> 7\u001b[1;33m \u001b[0ms\u001b[0m\u001b[1;33m.\u001b[0m\u001b[0mremove\u001b[0m\u001b[1;33m(\u001b[0m\u001b[1;36m50\u001b[0m\u001b[1;33m)\u001b[0m\u001b[1;33m\u001b[0m\u001b[1;33m\u001b[0m\u001b[0m\n\u001b[0m\u001b[0;32m      8\u001b[0m \u001b[0mprint\u001b[0m\u001b[1;33m(\u001b[0m\u001b[0ms\u001b[0m\u001b[1;33m)\u001b[0m\u001b[1;33m\u001b[0m\u001b[1;33m\u001b[0m\u001b[0m\n\u001b[0;32m      9\u001b[0m \u001b[1;33m\u001b[0m\u001b[0m\n",
      "\u001b[1;31mKeyError\u001b[0m: 50"
     ]
    }
   ],
   "source": [
    "# remove\n",
    "#To remove an item in a seT with specific value.\n",
    "#If the item to remove does not exist, remove() will  raise an error.\n",
    "s = {1,2,3,4,5}\n",
    "s.remove(5)\n",
    "print(s)\n",
    "s.remove(50)\n",
    "print(s)\n",
    "\n",
    "\n",
    "#difference between discard()(no error)  & remove() (error)"
   ]
  },
  {
   "cell_type": "code",
   "execution_count": 16,
   "id": "28a77274",
   "metadata": {},
   "outputs": [
    {
     "data": {
      "text/plain": [
       "1"
      ]
     },
     "execution_count": 16,
     "metadata": {},
     "output_type": "execute_result"
    }
   ],
   "source": [
    "# pop\n",
    "#Sets are unordered, so when using the pop() method, you do not know which item that gets removed.\n",
    "s = {1,2,3,4,5}\n",
    "s.pop()\n"
   ]
  },
  {
   "cell_type": "code",
   "execution_count": 17,
   "id": "a499bf26",
   "metadata": {},
   "outputs": [
    {
     "name": "stdout",
     "output_type": "stream",
     "text": [
      "set()\n"
     ]
    }
   ],
   "source": [
    "# clear : remove all the element, but maintain the structure of set.\n",
    "s = {1,2,3,4,5}\n",
    "s.clear()\n",
    "print(s)"
   ]
  },
  {
   "cell_type": "markdown",
   "id": "ff5bca68",
   "metadata": {},
   "source": [
    "## SET OPERATION"
   ]
  },
  {
   "cell_type": "code",
   "execution_count": 20,
   "id": "9932ff15",
   "metadata": {},
   "outputs": [
    {
     "name": "stdout",
     "output_type": "stream",
     "text": [
      "s1 = {1, 2, 3, 4, 5}\n",
      "s2 = {4, 5, 6, 7, 8}\n",
      "Union (s1 | s2) --> {1, 2, 3, 4, 5, 6, 7, 8}\n",
      "Intersection (s1 & s2) --> {4, 5}\n",
      "Difference (s1 - s2) --> {1, 2, 3}\n",
      "Difference (s2 - s1) --> {8, 6, 7}\n",
      "Symmetric Difference (s1 ^ s2) --> {1, 2, 3, 6, 7, 8}\n",
      "1\n",
      "2\n",
      "3\n",
      "4\n",
      "5\n",
      "0 1 2 3 4 "
     ]
    }
   ],
   "source": [
    "s1 = {1,2,3,4,5}\n",
    "s2 = {4,5,6,7,8}\n",
    "\n",
    "print(\"s1 =\",s1)\n",
    "print(\"s2 =\",s2)\n",
    "\n",
    "# Union(|)\n",
    "print(\"Union (s1 | s2) -->\",s1|s2)\n",
    "\n",
    "# Intersection(&)\n",
    "print(\"Intersection (s1 & s2) -->\",s1&s2)\n",
    "\n",
    "# Difference(-)\n",
    "print(\"Difference (s1 - s2) -->\",s1-s2)\n",
    "print(\"Difference (s2 - s1) -->\",s2-s1)\n",
    "\n",
    "\n",
    "# Symmetric Difference(^)\n",
    "print(\"Symmetric Difference (s1 ^ s2) -->\",s1^s2)\n",
    "\n",
    "# Membership Test\n",
    "1 not in s1\n",
    "\n",
    "# Iteration\n",
    "for i in s1:\n",
    "    print(i)\n",
    "    \n",
    "i=0\n",
    "while(i<len(s1)):\n",
    "    print(i,end=\" \")\n",
    "    i+=1"
   ]
  },
  {
   "cell_type": "markdown",
   "id": "d1ea7116",
   "metadata": {},
   "source": [
    "## SET FUNCTION\n"
   ]
  },
  {
   "cell_type": "code",
   "execution_count": 23,
   "id": "f1d3ce57",
   "metadata": {},
   "outputs": [
    {
     "name": "stdout",
     "output_type": "stream",
     "text": [
      "6\n",
      "22\n",
      "1\n",
      "7\n",
      "[1, 2, 3, 4, 5, 7]\n",
      "[7, 5, 4, 3, 2, 1]\n"
     ]
    }
   ],
   "source": [
    "# len/sum/min/max/sorted\n",
    "s = {3,1,4,5,2,7}\n",
    "print(len(s))\n",
    "print(sum(s))\n",
    "print(min(s))\n",
    "print(max(s))\n",
    "print(sorted(s))\n",
    "print(sorted(s,reverse=True))"
   ]
  },
  {
   "cell_type": "markdown",
   "id": "a118c6d7",
   "metadata": {},
   "source": [
    "#### UNION / UPDATE"
   ]
  },
  {
   "cell_type": "code",
   "execution_count": 28,
   "id": "00b2ce9e",
   "metadata": {},
   "outputs": [
    {
     "name": "stdout",
     "output_type": "stream",
     "text": [
      "{1, 2, 3, 4, 5, 6, 7, 8}\n",
      "{1, 2, 3, 4, 5}\n",
      "{4, 5, 6, 7, 8}\n"
     ]
    }
   ],
   "source": [
    "# union/update\n",
    "#Note: Both union() and update() will exclude any duplicate items.\n",
    "s1 = {1,2,3,4,5}\n",
    "s2 = {4,5,6,7,8}\n",
    "\n",
    "print(s1.union(s2))\n",
    "print(s1)\n",
    "print(s2)"
   ]
  },
  {
   "cell_type": "code",
   "execution_count": 26,
   "id": "3a9a04c4",
   "metadata": {},
   "outputs": [
    {
     "name": "stdout",
     "output_type": "stream",
     "text": [
      "{1, 2, 3, 4, 5}\n",
      "{1, 2, 3, 4, 5, 6, 7, 8}\n"
     ]
    }
   ],
   "source": [
    "#update\n",
    "s1 = {1,2,3,4,5}\n",
    "s2 = {4,5,6,7,8}\n",
    "s2.update(s1)\n",
    "print(s1)\n",
    "print(s2)"
   ]
  },
  {
   "cell_type": "markdown",
   "id": "5914b875",
   "metadata": {},
   "source": [
    "###  intersection / intersection_update"
   ]
  },
  {
   "cell_type": "code",
   "execution_count": 29,
   "id": "de1a6fa6",
   "metadata": {},
   "outputs": [
    {
     "data": {
      "text/plain": [
       "{4, 5}"
      ]
     },
     "execution_count": 29,
     "metadata": {},
     "output_type": "execute_result"
    }
   ],
   "source": [
    "#INTERSECTION\n",
    "s1 = {1,2,3,4,5}\n",
    "s2 = {4,5,6,7,8}\n",
    "s1.intersection(s2)"
   ]
  },
  {
   "cell_type": "code",
   "execution_count": 30,
   "id": "5f9fd762",
   "metadata": {},
   "outputs": [
    {
     "name": "stdout",
     "output_type": "stream",
     "text": [
      "{4, 5}\n",
      "{4, 5, 6, 7, 8}\n"
     ]
    }
   ],
   "source": [
    "#intersection_update\n",
    "#Keep ONLY the Duplicates\n",
    "\n",
    "s1 = {1,2,3,4,5}\n",
    "s2 = {4,5,6,7,8}\n",
    "s1.intersection_update(s2)\n",
    "print(s1)\n",
    "print(s2)"
   ]
  },
  {
   "cell_type": "markdown",
   "id": "0fdb2be8",
   "metadata": {},
   "source": [
    "###  difference / difference_update"
   ]
  },
  {
   "cell_type": "code",
   "execution_count": 32,
   "id": "818836c9",
   "metadata": {},
   "outputs": [
    {
     "name": "stdout",
     "output_type": "stream",
     "text": [
      "{1, 2, 3, 4, 5}\n",
      "{4, 5, 6, 7, 8}\n",
      "{1, 2, 3}\n",
      "{8, 6, 7}\n"
     ]
    }
   ],
   "source": [
    "#difference\n",
    "s1 = {1,2,3,4,5}\n",
    "s2 = {4,5,6,7,8}\n",
    "print(s1)\n",
    "print(s2)\n",
    "print(s1.difference(s2))\n",
    "print(s2.difference(s1))"
   ]
  },
  {
   "cell_type": "code",
   "execution_count": 38,
   "id": "03daf00d",
   "metadata": {},
   "outputs": [
    {
     "name": "stdout",
     "output_type": "stream",
     "text": [
      "{1, 2, 3, 4, 5}\n",
      "{4, 5, 6, 7, 8}\n",
      "{1, 2, 3}\n",
      "{4, 5, 6, 7, 8}\n"
     ]
    }
   ],
   "source": [
    "#difference_update\n",
    "s1 = {1,2,3,4,5}\n",
    "s2 = {4,5,6,7,8}\n",
    "print(s1)\n",
    "print(s2)\n",
    "s1.difference_update(s2)\n",
    "print(s1)\n",
    "print(s2)"
   ]
  },
  {
   "cell_type": "markdown",
   "id": "94fb96ee",
   "metadata": {},
   "source": [
    "###  symmetric_difference/symmetric_difference_update"
   ]
  },
  {
   "cell_type": "code",
   "execution_count": 39,
   "id": "f9f8bb0e",
   "metadata": {},
   "outputs": [
    {
     "name": "stdout",
     "output_type": "stream",
     "text": [
      "{1, 2, 3, 6, 7, 8}\n",
      "{1, 2, 3, 6, 7, 8}\n",
      "{1, 2, 3, 4, 5}\n",
      "{4, 5, 6, 7, 8}\n"
     ]
    }
   ],
   "source": [
    "# symmetric_difference\n",
    "s1 = {1,2,3,4,5}\n",
    "s2 = {4,5,6,7,8}\n",
    "\n",
    "print(s1.symmetric_difference(s2))\n",
    "print(s2.symmetric_difference(s1))\n",
    "\n",
    "print(s1)\n",
    "print(s2)"
   ]
  },
  {
   "cell_type": "code",
   "execution_count": 40,
   "id": "d13f69c2",
   "metadata": {},
   "outputs": [
    {
     "name": "stdout",
     "output_type": "stream",
     "text": [
      "{1, 2, 3, 4, 5}\n",
      "{4, 5, 6, 7, 8}\n",
      "{1, 2, 3, 6, 7, 8}\n",
      "{4, 5, 6, 7, 8}\n"
     ]
    }
   ],
   "source": [
    "# symmetric_difference_update\n",
    "#Keep All, But NOT the Duplicates\n",
    "\n",
    "s1 = {1,2,3,4,5}\n",
    "s2 = {4,5,6,7,8}\n",
    "print(s1)\n",
    "print(s2)\n",
    "\n",
    "s1.symmetric_difference_update(s2)\n",
    "print(s1)\n",
    "print(s2)"
   ]
  },
  {
   "cell_type": "markdown",
   "id": "5a180ed2",
   "metadata": {},
   "source": [
    "###  isdisjoint / issubset / issuperset"
   ]
  },
  {
   "cell_type": "code",
   "execution_count": 48,
   "id": "0a94af3d",
   "metadata": {},
   "outputs": [
    {
     "name": "stdout",
     "output_type": "stream",
     "text": [
      "True\n",
      "True\n"
     ]
    }
   ],
   "source": [
    "# isdisjoint : Returns boolean value whether two sets have a intersection or not\n",
    "s1 = {1,2,3,4}\n",
    "s2 = {7,8,5,6}\n",
    "\n",
    "# s1 = {1,2,3,4,7}\n",
    "# s2 = {7,8,5,6}\n",
    "\n",
    "print(s1.isdisjoint(s2))\n",
    "print(s2.isdisjoint(s1))"
   ]
  },
  {
   "cell_type": "code",
   "execution_count": 44,
   "id": "9022fe4a",
   "metadata": {},
   "outputs": [
    {
     "name": "stdout",
     "output_type": "stream",
     "text": [
      "False\n"
     ]
    }
   ],
   "source": [
    "#issubset():Returns boolean value whether another set contains this set or not\n",
    "s1 = {1,2,3,4,5}\n",
    "s2 = {3,4,5}\n",
    "\n",
    "print(s1.issubset(s2))\n",
    "print(s2.issubset(s1))"
   ]
  },
  {
   "cell_type": "code",
   "execution_count": 45,
   "id": "b6afff7d",
   "metadata": {},
   "outputs": [
    {
     "name": "stdout",
     "output_type": "stream",
     "text": [
      "True\n",
      "False\n"
     ]
    }
   ],
   "source": [
    "#issuperset() : \tReturns  boolean value, whether this set contains another set or not\n",
    "s1 = {1,2,3,4,5}\n",
    "s2 = {3,4,5}\n",
    "\n",
    "print(s1.issuperset(s2))\n",
    "print(s2.issuperset(s1))"
   ]
  },
  {
   "cell_type": "code",
   "execution_count": 49,
   "id": "dbee7bf2",
   "metadata": {},
   "outputs": [
    {
     "name": "stdout",
     "output_type": "stream",
     "text": [
      "{1, 2, 3} 2212118563744\n",
      "{1, 2, 3} 2212118563520\n"
     ]
    }
   ],
   "source": [
    "# copy\n",
    "s1 = {1,2,3}\n",
    "s2 = s1.copy()\n",
    "\n",
    "print(s1,id(s1))\n",
    "print(s2,id(s2))"
   ]
  },
  {
   "cell_type": "markdown",
   "id": "b39d7228",
   "metadata": {},
   "source": [
    "## GENERATORS / COMPREHENSION "
   ]
  },
  {
   "cell_type": "code",
   "execution_count": 53,
   "id": "f34393b7",
   "metadata": {},
   "outputs": [
    {
     "data": {
      "text/plain": [
       "{36, 49, 64, 81, 100}"
      ]
     },
     "execution_count": 53,
     "metadata": {},
     "output_type": "execute_result"
    }
   ],
   "source": [
    "# examples\n",
    "\n",
    "{i**2 for i in range(1,11) if i>5}"
   ]
  },
  {
   "cell_type": "markdown",
   "id": "da5777f8",
   "metadata": {},
   "source": [
    "## FROZENSET\n",
    "Frozen set is just an immutable version of a Python set object"
   ]
  },
  {
   "cell_type": "code",
   "execution_count": 54,
   "id": "fe3553e2",
   "metadata": {},
   "outputs": [
    {
     "data": {
      "text/plain": [
       "frozenset({1, 2, 3, 4, 5})"
      ]
     },
     "execution_count": 54,
     "metadata": {},
     "output_type": "execute_result"
    }
   ],
   "source": [
    "# create frozenset\n",
    "fs1 = frozenset([1,2,3])\n",
    "fs2 = frozenset([3,4,5])\n",
    "\n",
    "fs1 | fs2"
   ]
  },
  {
   "cell_type": "code",
   "execution_count": 55,
   "id": "0c96bfe7",
   "metadata": {},
   "outputs": [],
   "source": [
    "# what works and what does not\n",
    "# works -> all read functions\n",
    "# does't work -> write operations"
   ]
  },
  {
   "cell_type": "code",
   "execution_count": 56,
   "id": "913e69ab",
   "metadata": {},
   "outputs": [
    {
     "data": {
      "text/plain": [
       "frozenset({1, 2, frozenset({3, 4})})"
      ]
     },
     "execution_count": 56,
     "metadata": {},
     "output_type": "execute_result"
    }
   ],
   "source": [
    "# When to use\n",
    "# 2D sets\n",
    "fs = frozenset([1,2,frozenset([3,4])])\n",
    "fs"
   ]
  },
  {
   "cell_type": "code",
   "execution_count": null,
   "id": "6c141d94",
   "metadata": {},
   "outputs": [],
   "source": []
  }
 ],
 "metadata": {
  "kernelspec": {
   "display_name": "Python 3",
   "language": "python",
   "name": "python3"
  },
  "language_info": {
   "codemirror_mode": {
    "name": "ipython",
    "version": 3
   },
   "file_extension": ".py",
   "mimetype": "text/x-python",
   "name": "python",
   "nbconvert_exporter": "python",
   "pygments_lexer": "ipython3",
   "version": "3.8.8"
  }
 },
 "nbformat": 4,
 "nbformat_minor": 5
}
