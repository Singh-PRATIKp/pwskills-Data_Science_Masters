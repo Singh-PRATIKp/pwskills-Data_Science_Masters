{
 "cells": [
  {
   "cell_type": "markdown",
   "id": "8429194d-f7d3-4dbd-9460-360a56688aea",
   "metadata": {},
   "source": [
    "`Decorator`"
   ]
  },
  {
   "cell_type": "code",
   "execution_count": 3,
   "id": "1cd9124c-9c2a-4314-aff3-24d456e2321c",
   "metadata": {},
   "outputs": [],
   "source": [
    "def test():\n",
    "    print('this is the start of mmy function')\n",
    "    print(4+5)\n",
    "    print('this is the end of mmy function')"
   ]
  },
  {
   "cell_type": "code",
   "execution_count": 4,
   "id": "9473bf6b-6481-499c-9986-477fd9f15190",
   "metadata": {},
   "outputs": [
    {
     "name": "stdout",
     "output_type": "stream",
     "text": [
      "this is the start of mmy function\n",
      "9\n",
      "this is the end of mmy function\n"
     ]
    }
   ],
   "source": [
    "test()"
   ]
  },
  {
   "cell_type": "code",
   "execution_count": 10,
   "id": "cd0a06a8-7c8b-4bdb-a09a-d21522d1c018",
   "metadata": {},
   "outputs": [],
   "source": [
    "def deco(func):\n",
    "    def inner_deco():\n",
    "        print('this is the start of mmy function')\n",
    "        func()\n",
    "        print('this is the end of mmy function')\n",
    "    return inner_deco"
   ]
  },
  {
   "cell_type": "code",
   "execution_count": 11,
   "id": "7eafdd92-c39b-45d5-bf0e-5a7112fef650",
   "metadata": {},
   "outputs": [],
   "source": [
    "@deco\n",
    "def test1():\n",
    "    print(4+5)"
   ]
  },
  {
   "cell_type": "code",
   "execution_count": 12,
   "id": "ce75cd70-fc44-4ab2-b652-6b76fe670be0",
   "metadata": {},
   "outputs": [
    {
     "name": "stdout",
     "output_type": "stream",
     "text": [
      "this is the start of mmy function\n",
      "9\n",
      "this is the end of mmy function\n"
     ]
    }
   ],
   "source": [
    "test1()"
   ]
  },
  {
   "cell_type": "code",
   "execution_count": 17,
   "id": "27e194fd-440b-433b-a548-c9089ffb6583",
   "metadata": {},
   "outputs": [],
   "source": [
    "import time\n",
    "def timer_test(func):\n",
    "    def timer_test_inner():\n",
    "        start  = time.time()\n",
    "        func()\n",
    "        end = time.time()\n",
    "        print(end-start)\n",
    "    return timer_test_inner"
   ]
  },
  {
   "cell_type": "code",
   "execution_count": 18,
   "id": "69241624-5494-46a9-8264-610afd89cd19",
   "metadata": {},
   "outputs": [],
   "source": [
    "@timer_test\n",
    "def test2():\n",
    "    print(45+67)"
   ]
  },
  {
   "cell_type": "code",
   "execution_count": 19,
   "id": "cedd1d93-e707-4955-bc6b-07054a3ae1f6",
   "metadata": {},
   "outputs": [
    {
     "name": "stdout",
     "output_type": "stream",
     "text": [
      "112\n",
      "0.0009808540344238281\n"
     ]
    }
   ],
   "source": [
    "test2()"
   ]
  },
  {
   "cell_type": "code",
   "execution_count": 20,
   "id": "47fa0780-95e2-42e5-b2cc-3defc0afe1b2",
   "metadata": {},
   "outputs": [],
   "source": [
    "@timer_test\n",
    "def test3():\n",
    "    for i in range(1000000000):\n",
    "        pass"
   ]
  },
  {
   "cell_type": "code",
   "execution_count": 21,
   "id": "effab79c-e9a3-40c8-ac69-bbc61d33f465",
   "metadata": {},
   "outputs": [
    {
     "name": "stdout",
     "output_type": "stream",
     "text": [
      "44.86917042732239\n"
     ]
    }
   ],
   "source": [
    "test3()"
   ]
  },
  {
   "cell_type": "code",
   "execution_count": null,
   "id": "fb2e5cb8-959d-47ae-bd17-e58e735b73e6",
   "metadata": {},
   "outputs": [],
   "source": []
  }
 ],
 "metadata": {
  "kernelspec": {
   "display_name": "Python 3 (ipykernel)",
   "language": "python",
   "name": "python3"
  },
  "language_info": {
   "codemirror_mode": {
    "name": "ipython",
    "version": 3
   },
   "file_extension": ".py",
   "mimetype": "text/x-python",
   "name": "python",
   "nbconvert_exporter": "python",
   "pygments_lexer": "ipython3",
   "version": "3.9.16"
  }
 },
 "nbformat": 4,
 "nbformat_minor": 5
}
