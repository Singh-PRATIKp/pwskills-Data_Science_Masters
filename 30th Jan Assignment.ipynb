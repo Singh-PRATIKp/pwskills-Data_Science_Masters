{
 "cells": [
  {
   "attachments": {},
   "cell_type": "markdown",
   "metadata": {},
   "source": [
    "# **`ASSIGNMENT 2`**"
   ]
  },
  {
   "cell_type": "code",
   "execution_count": 4,
   "metadata": {},
   "outputs": [
    {
     "name": "stdout",
     "output_type": "stream",
     "text": [
      "Your Grade is: D\n"
     ]
    }
   ],
   "source": [
    "#### Ans1\n",
    "i = int(input('Enter marks percentage:'))\n",
    "if i > 90:\n",
    "    print('Your Grade is: A')\n",
    "elif i > 80 and i <= 90:\n",
    "    print('Your Grade is: B')\n",
    "elif i > 60 and i <= 80:\n",
    "    print('Your Grade is: C')\n",
    "else:\n",
    "    print('Your Grade is: D')"
   ]
  },
  {
   "cell_type": "code",
   "execution_count": 6,
   "metadata": {},
   "outputs": [
    {
     "name": "stdout",
     "output_type": "stream",
     "text": [
      "Your road tax is: 5%\n"
     ]
    }
   ],
   "source": [
    "#Ans2\n",
    "i = int(input('Enter the cost price:'))\n",
    "if i > 100000:\n",
    "    print('Your road tax is: 15%')\n",
    "elif i > 50000 and i <= 100000:\n",
    "    print('Your road tax is: 10%')\n",
    "else:\n",
    "    print('Your road tax is: 5%')"
   ]
  },
  {
   "cell_type": "code",
   "execution_count": 10,
   "metadata": {},
   "outputs": [
    {
     "name": "stdout",
     "output_type": "stream",
     "text": [
      "Please enter a valid city name\n"
     ]
    }
   ],
   "source": [
    "#Ans3\n",
    "i = input('Enter the city name: or \\'quit\\' to exit ').lower()\n",
    "if i == 'delhi':\n",
    "    print('Monument in Delhi is: Red Fort')\n",
    "elif i == 'agra':\n",
    "    print('Monument in Agra is: Taj Mahal')\n",
    "elif i == 'jaipur':\n",
    "    print('Monument in Jaipur is: Jai Mahal')\n",
    "else:\n",
    "    if i == 'quit':\n",
    "        quit\n",
    "    else: \n",
    "        print('Please enter a valid city name')"
   ]
  },
  {
   "cell_type": "code",
   "execution_count": 19,
   "metadata": {},
   "outputs": [
    {
     "name": "stdout",
     "output_type": "stream",
     "text": [
      "number of divisions: 5\n"
     ]
    }
   ],
   "source": [
    "#ans4\n",
    "n = int(input('Enter a number'))\n",
    "count = 0\n",
    "while n > 10:\n",
    "    count+=1\n",
    "    n = n/3\n",
    "print(f\"number of divisions: {count}\" )\n",
    "\n",
    "\n"
   ]
  },
  {
   "attachments": {},
   "cell_type": "markdown",
   "metadata": {},
   "source": [
    "#### Ans5\n",
    "Python while loop is used to run a block code until a certain condition is met.\n",
    "\n",
    "The syntax of while loop is:\n",
    "\n",
    "while condition:\n",
    "    # body of while loop\n",
    "\n",
    "\n",
    "While loop falls under the category of indefinite iteration. Indefinite iteration means that the number of times the loop is executed isn’t specified explicitly in advance.So when we want indefinite iteration we can use while loop Eg. Atm machine, Chatbot, etc\n",
    "\n"
   ]
  },
  {
   "cell_type": "code",
   "execution_count": 28,
   "metadata": {},
   "outputs": [
    {
     "name": "stdout",
     "output_type": "stream",
     "text": [
      "The numbers entered is/are [213213, 2132, 123, 213, 12, 3123, 123, 32, 213, 123]\n",
      "      sum of numbers is 219307\n"
     ]
    }
   ],
   "source": [
    "#Ans5:\n",
    "sum = 0\n",
    "l = []\n",
    "while True:\n",
    "    i = input('Enter a number or nothing to quit')\n",
    "    if i.isnumeric():\n",
    "        sum+=int(i)\n",
    "        l.append(int(i))\n",
    "    else:\n",
    "        break\n",
    "print(f'''The numbers entered is/are {l}\n",
    "      sum of numbers is {sum}''')"
   ]
  },
  {
   "cell_type": "code",
   "execution_count": 20,
   "metadata": {},
   "outputs": [
    {
     "data": {
      "text/plain": [
       "False"
      ]
     },
     "execution_count": 20,
     "metadata": {},
     "output_type": "execute_result"
    }
   ],
   "source": [
    "'asd'.isnumeric(2)"
   ]
  },
  {
   "cell_type": "code",
   "execution_count": 103,
   "metadata": {},
   "outputs": [
    {
     "name": "stdout",
     "output_type": "stream",
     "text": [
      "\n",
      "*\n",
      "**\n",
      "***\n",
      "****\n",
      "*****\n",
      "******\n",
      "*******\n",
      "********\n",
      "*********\n",
      "          *\n",
      "         ***\n",
      "        *****\n",
      "       *******\n",
      "      *********\n",
      "     ***********\n",
      "    *************\n",
      "   ***************\n",
      "  *****************\n",
      " *******************\n",
      " *******************\n",
      "  *****************\n",
      "   ***************\n",
      "    *************\n",
      "     ***********\n",
      "      *********\n",
      "       *******\n",
      "        *****\n",
      "         ***\n",
      "          *\n"
     ]
    }
   ],
   "source": [
    "#Ans6\n",
    "n = int(input(\"Enter a number to specify the max row\"))\n",
    "\n",
    "\n",
    "\n",
    "#shape1:\n",
    "i = 0\n",
    "while i < n:\n",
    "    j=1\n",
    "    while j <= i:\n",
    "        print(\"*\",end='')\n",
    "        j+=1\n",
    "    print()\n",
    "    i+=1\n",
    "\n",
    "\n",
    "#shape2:\n",
    "i = 0\n",
    "while i < n:\n",
    "    print(\" \"*(n-i),end='')\n",
    "    j=1\n",
    "    while j <= (2*i+1):\n",
    "        print(\"*\",end='')\n",
    "        j+=1\n",
    "    print()\n",
    "    i+=1\n",
    "\n",
    "\n",
    "#shape3:\n",
    "i = 0\n",
    "while i < n:\n",
    "    print(\" \"*(i+1),end='')\n",
    "    j=1\n",
    "    while j <= (n-i)*2-1:\n",
    "        print(\"*\",end='')\n",
    "        j+=1\n",
    "    print()\n",
    "    i+=1\n"
   ]
  },
  {
   "cell_type": "code",
   "execution_count": 104,
   "metadata": {},
   "outputs": [
    {
     "name": "stdout",
     "output_type": "stream",
     "text": [
      "10\n",
      "9\n",
      "8\n",
      "7\n",
      "6\n",
      "5\n",
      "4\n",
      "3\n",
      "2\n",
      "1\n"
     ]
    }
   ],
   "source": [
    "#ans7 and 8:\n",
    "\n",
    "n = 10\n",
    "while n:\n",
    "    print(n)\n",
    "    n-=1\n"
   ]
  }
 ],
 "metadata": {
  "kernelspec": {
   "display_name": "base",
   "language": "python",
   "name": "python3"
  },
  "language_info": {
   "codemirror_mode": {
    "name": "ipython",
    "version": 3
   },
   "file_extension": ".py",
   "mimetype": "text/x-python",
   "name": "python",
   "nbconvert_exporter": "python",
   "pygments_lexer": "ipython3",
   "version": "3.9.16"
  },
  "orig_nbformat": 4,
  "vscode": {
   "interpreter": {
    "hash": "c370489388e782aa9b6373b0856d4a71cb56f2a887cc53048a8e75b66b592545"
   }
  }
 },
 "nbformat": 4,
 "nbformat_minor": 2
}
