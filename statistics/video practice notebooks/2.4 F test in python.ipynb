{
 "cells": [
  {
   "cell_type": "markdown",
   "id": "a216aaff-0c3a-4819-bcaa-b9fea34cb3ba",
   "metadata": {},
   "source": [
    "# **`F TEST in Python`**"
   ]
  },
  {
   "cell_type": "code",
   "execution_count": 2,
   "id": "14072ae4-cfd5-4375-871c-3da0eeac23af",
   "metadata": {},
   "outputs": [],
   "source": [
    "# Evidence to say that the two population variances are not equal\n",
    "## Check we come to conclusions whether one workker is better than the other\n",
    "worker1 = [18,19,22,25,27,28,41,45,51,55]\n",
    "worker2 = [14,15,15,17,18,22,25,25,27,34]"
   ]
  },
  {
   "cell_type": "code",
   "execution_count": 3,
   "id": "8047384e-6d33-4764-a8af-1c1ce58660f0",
   "metadata": {},
   "outputs": [],
   "source": [
    "## calculate F test statistics\n",
    "import numpy as np\n",
    "f_test = np.var(worker1)/np.var(worker2)"
   ]
  },
  {
   "cell_type": "code",
   "execution_count": 4,
   "id": "1421089d-2f3d-4e13-8565-16a478df257e",
   "metadata": {},
   "outputs": [
    {
     "data": {
      "text/plain": [
       "4.387122002085506"
      ]
     },
     "execution_count": 4,
     "metadata": {},
     "output_type": "execute_result"
    }
   ],
   "source": [
    "f_test"
   ]
  },
  {
   "cell_type": "code",
   "execution_count": 7,
   "id": "ec57ef71-974c-4e83-9d1a-af0a7540e0fd",
   "metadata": {},
   "outputs": [],
   "source": [
    "## Degree of freedom\n",
    "df1 = len(worker1) -1\n",
    "df2 = len(worker2) -1\n",
    "significance = 0.05"
   ]
  },
  {
   "cell_type": "code",
   "execution_count": 8,
   "id": "b378aec4-d323-4d31-8b99-4cb9bde3e700",
   "metadata": {},
   "outputs": [],
   "source": [
    "import scipy.stats as stat"
   ]
  },
  {
   "cell_type": "code",
   "execution_count": 10,
   "id": "4bbc15b3-08e0-409e-b2ea-971566df3abf",
   "metadata": {},
   "outputs": [],
   "source": [
    "critical_value = stat.f.ppf(q=1-significance,dfn=df1,dfd=df2)"
   ]
  },
  {
   "cell_type": "code",
   "execution_count": 11,
   "id": "cb062c0a-01a2-44d7-8316-505a50103609",
   "metadata": {},
   "outputs": [
    {
     "name": "stdout",
     "output_type": "stream",
     "text": [
      "Reject the null hypothesis\n"
     ]
    }
   ],
   "source": [
    "if f_test > critical_value:\n",
    "    print(\"Reject the null hypothesis\")\n",
    "else:\n",
    "    print(\"We fail to reject the null hypothesis\")"
   ]
  }
 ],
 "metadata": {
  "kernelspec": {
   "display_name": "Python 3 (ipykernel)",
   "language": "python",
   "name": "python3"
  },
  "language_info": {
   "codemirror_mode": {
    "name": "ipython",
    "version": 3
   },
   "file_extension": ".py",
   "mimetype": "text/x-python",
   "name": "python",
   "nbconvert_exporter": "python",
   "pygments_lexer": "ipython3",
   "version": "3.9.16"
  }
 },
 "nbformat": 4,
 "nbformat_minor": 5
}
