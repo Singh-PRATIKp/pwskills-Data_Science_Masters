{
 "cells": [
  {
   "cell_type": "markdown",
   "id": "187a87b2-89be-49fc-b50c-f600fd570974",
   "metadata": {},
   "source": [
    "**`Logging Debugger`**"
   ]
  },
  {
   "cell_type": "code",
   "execution_count": 1,
   "id": "bb6402ca-90b6-453e-9ea7-0e8a3da40643",
   "metadata": {},
   "outputs": [
    {
     "name": "stdout",
     "output_type": "stream",
     "text": [
      "this is my print statement\n"
     ]
    }
   ],
   "source": [
    "print(\"this is my print statement\")"
   ]
  },
  {
   "cell_type": "code",
   "execution_count": 2,
   "id": "c79e8a15-f7d3-43b4-b933-3f19ce8a44f9",
   "metadata": {},
   "outputs": [],
   "source": [
    "import logging"
   ]
  },
  {
   "cell_type": "code",
   "execution_count": 3,
   "id": "e7f1a6bc-7ee2-4f56-9376-9ea238c5cf89",
   "metadata": {},
   "outputs": [],
   "source": [
    "logging.basicConfig(filename = 'test.log',level = logging.INFO)"
   ]
  },
  {
   "cell_type": "code",
   "execution_count": 5,
   "id": "ff1605ee-cfd0-4da5-aeb5-36fe0f2e3d6f",
   "metadata": {},
   "outputs": [],
   "source": [
    "logging.info(\"this is my line of execution\")"
   ]
  },
  {
   "cell_type": "code",
   "execution_count": 6,
   "id": "7ea84842-fac8-43fe-89cf-5dcd30a4b42e",
   "metadata": {},
   "outputs": [],
   "source": [
    "logging.error(\"this is my error\")"
   ]
  },
  {
   "cell_type": "code",
   "execution_count": 7,
   "id": "52e3a146-1b7b-461a-ad4c-5db49d76b962",
   "metadata": {},
   "outputs": [],
   "source": [
    "logging.critical(\"this is my critical\")"
   ]
  },
  {
   "cell_type": "code",
   "execution_count": 8,
   "id": "aad45e97-d9c4-4043-a220-d1efd12f1357",
   "metadata": {},
   "outputs": [],
   "source": [
    "logging.warning(\"this is my warning\")"
   ]
  },
  {
   "cell_type": "code",
   "execution_count": 9,
   "id": "8ee3781d-bd2e-4f13-9785-e97d2e98b300",
   "metadata": {},
   "outputs": [],
   "source": [
    "logging.debug(\"this is my info regarding debug\")"
   ]
  },
  {
   "cell_type": "markdown",
   "id": "dc5bf9de-39ca-45dd-a69c-0e4153efed7e",
   "metadata": {},
   "source": [
    "these are settings for level within basicConfig of logging\n",
    "if we select a level then only those below it will be logged \n",
    "Eg. if level = info then all info,warning,error and critical will be logged &\n",
    "anything above info will not be logged\n",
    "\n",
    "1. NOSET\n",
    "2. DEBUG\n",
    "3. INFO\n",
    "4. WARNING\n",
    "5. ERROR\n",
    "6. CRITICAL"
   ]
  },
  {
   "cell_type": "code",
   "execution_count": 11,
   "id": "33d24d66-7a8f-40bf-b40f-aa0824d6a570",
   "metadata": {},
   "outputs": [
    {
     "ename": "AttributeError",
     "evalue": "module 'logging' has no attribute 'noset'",
     "output_type": "error",
     "traceback": [
      "\u001b[1;31m---------------------------------------------------------------------------\u001b[0m",
      "\u001b[1;31mAttributeError\u001b[0m                            Traceback (most recent call last)",
      "\u001b[1;32m~\\AppData\\Local\\Temp\\ipykernel_5252\\376283632.py\u001b[0m in \u001b[0;36m<module>\u001b[1;34m\u001b[0m\n\u001b[1;32m----> 1\u001b[1;33m \u001b[0mlogging\u001b[0m\u001b[1;33m.\u001b[0m\u001b[0mnoset\u001b[0m\u001b[1;33m(\u001b[0m\u001b[1;34m\"this is my noset\"\u001b[0m\u001b[1;33m)\u001b[0m \u001b[1;31m#depricated\u001b[0m\u001b[1;33m\u001b[0m\u001b[1;33m\u001b[0m\u001b[0m\n\u001b[0m",
      "\u001b[1;31mAttributeError\u001b[0m: module 'logging' has no attribute 'noset'"
     ]
    }
   ],
   "source": [
    "logging.noset(\"this is my noset\") #depricated"
   ]
  },
  {
   "cell_type": "code",
   "execution_count": 16,
   "id": "9a57dc5a-a565-4797-bebe-a7f10b869720",
   "metadata": {},
   "outputs": [],
   "source": [
    "logging.shutdown() #shutsdown logging"
   ]
  },
  {
   "cell_type": "code",
   "execution_count": 2,
   "id": "08ac5ed2-50ac-4966-84c9-9465427ff0ff",
   "metadata": {},
   "outputs": [],
   "source": [
    "logging.basicConfig(filename = 'test1.log',level = logging.DEBUG, format = \"%(asctime)s %(message)s\")"
   ]
  },
  {
   "cell_type": "code",
   "execution_count": 3,
   "id": "a70a0c8d-4865-47a4-8f56-27517c0ec38c",
   "metadata": {},
   "outputs": [],
   "source": [
    "logging.info(\"this is my info log\")"
   ]
  },
  {
   "cell_type": "code",
   "execution_count": 4,
   "id": "6c20d31c-4bdf-46b3-b7d1-da826a266e16",
   "metadata": {},
   "outputs": [],
   "source": [
    "logging.debug(\"this is my debug log\")"
   ]
  },
  {
   "cell_type": "code",
   "execution_count": 5,
   "id": "7c2e11d6-c23b-4a08-b082-4207266fe5c8",
   "metadata": {},
   "outputs": [],
   "source": [
    "logging.warning(\"this is my warning\")"
   ]
  },
  {
   "cell_type": "code",
   "execution_count": 6,
   "id": "75a67bc1-5e08-4757-86ec-3de73f49504e",
   "metadata": {},
   "outputs": [],
   "source": [
    "logging.shutdown()"
   ]
  },
  {
   "cell_type": "code",
   "execution_count": 3,
   "id": "065ecf03-8103-411c-b815-0fbbdd641960",
   "metadata": {},
   "outputs": [],
   "source": [
    "logging.basicConfig(filename = \"test3.log\",level=logging.DEBUG, format = \"%(asctime)s %(name)s %(levelname)s %(message)s\" )"
   ]
  },
  {
   "cell_type": "code",
   "execution_count": 4,
   "id": "18417609-0eec-4564-a9c7-810628f4c5bc",
   "metadata": {},
   "outputs": [],
   "source": [
    "logging.info(\"this is my info log\")"
   ]
  },
  {
   "cell_type": "code",
   "execution_count": 5,
   "id": "1e5cfea3-d659-4da1-ab24-05899636322b",
   "metadata": {},
   "outputs": [],
   "source": [
    "l = [1,2,3,4,[4,5,6],'tejas','naidu']"
   ]
  },
  {
   "cell_type": "code",
   "execution_count": 12,
   "id": "0e061b49-afd2-4a9b-aa28-df5ecf93103e",
   "metadata": {},
   "outputs": [],
   "source": [
    "l1_int = []\n",
    "l2_str = []\n",
    "for i in l:\n",
    "    logging.info(\"this is the start of my first for loop {}\".format(l))\n",
    "    logging.info(\"this is the value of i i am logging {}\".format(i))\n",
    "    if type(i) == list:\n",
    "        for j in i:\n",
    "            logging.info(\"logging my j {j} and i is {i}\".format(i= i,j=j))\n",
    "            if type(j) == int:\n",
    "                l1_int.append(j)\n",
    "    elif type(i) == int:\n",
    "        l1_int.append(i)\n",
    "    else:\n",
    "        if type(i) == str:\n",
    "            l2_str.append(i)\n",
    "logging.info(f\"this is my final result with all int {l1_int} and all string {l2_str}\")"
   ]
  },
  {
   "cell_type": "code",
   "execution_count": 13,
   "id": "a90ae351-dab0-4e86-b674-cff64eb30927",
   "metadata": {},
   "outputs": [
    {
     "data": {
      "text/plain": [
       "[1, 2, 3, 4, 4, 5, 6]"
      ]
     },
     "execution_count": 13,
     "metadata": {},
     "output_type": "execute_result"
    }
   ],
   "source": [
    "l1_int"
   ]
  },
  {
   "cell_type": "code",
   "execution_count": 14,
   "id": "4d2420b6-bcf8-4644-b090-6c651dacbbde",
   "metadata": {},
   "outputs": [
    {
     "data": {
      "text/plain": [
       "['tejas', 'naidu']"
      ]
     },
     "execution_count": 14,
     "metadata": {},
     "output_type": "execute_result"
    }
   ],
   "source": [
    "l2_str"
   ]
  }
 ],
 "metadata": {
  "kernelspec": {
   "display_name": "Python 3 (ipykernel)",
   "language": "python",
   "name": "python3"
  },
  "language_info": {
   "codemirror_mode": {
    "name": "ipython",
    "version": 3
   },
   "file_extension": ".py",
   "mimetype": "text/x-python",
   "name": "python",
   "nbconvert_exporter": "python",
   "pygments_lexer": "ipython3",
   "version": "3.9.16"
  }
 },
 "nbformat": 4,
 "nbformat_minor": 5
}
