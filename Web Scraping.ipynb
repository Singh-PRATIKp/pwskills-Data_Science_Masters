{
 "cells": [
  {
   "attachments": {},
   "cell_type": "markdown",
   "metadata": {},
   "source": [
    "# **`WEB SCRAPPING`**"
   ]
  },
  {
   "cell_type": "code",
   "execution_count": 1,
   "metadata": {},
   "outputs": [],
   "source": [
    "import requests\n",
    "from bs4 import BeautifulSoup as bs\n",
    "from urllib.request import urlopen\n",
    "import logging"
   ]
  },
  {
   "cell_type": "code",
   "execution_count": 2,
   "metadata": {},
   "outputs": [],
   "source": [
    "flipkart_url = \"https://www.flipkart.com/search?q=\" + \"tv\""
   ]
  },
  {
   "cell_type": "code",
   "execution_count": 3,
   "metadata": {},
   "outputs": [
    {
     "data": {
      "text/plain": [
       "'https://www.flipkart.com/search?q=tv'"
      ]
     },
     "execution_count": 3,
     "metadata": {},
     "output_type": "execute_result"
    }
   ],
   "source": [
    "flipkart_url"
   ]
  },
  {
   "cell_type": "code",
   "execution_count": 4,
   "metadata": {},
   "outputs": [],
   "source": [
    "urlclient = urlopen(flipkart_url)"
   ]
  },
  {
   "cell_type": "code",
   "execution_count": 5,
   "metadata": {},
   "outputs": [],
   "source": [
    "flipkart_page = urlclient.read()"
   ]
  },
  {
   "cell_type": "code",
   "execution_count": 6,
   "metadata": {},
   "outputs": [],
   "source": [
    "flipkart_html = bs(flipkart_page,\"html.parser\")"
   ]
  },
  {
   "cell_type": "code",
   "execution_count": 7,
   "metadata": {},
   "outputs": [
    {
     "data": {
      "text/plain": [
       "'https://www.flipkart.com/samsung-crystal-4k-neo-series-138-cm-55-inch-ultra-hd-4k-led-smart-tizen-tv-black-2022-model/p/itm92a951fdc7ddf?pid=TVSGEAGPH9HPFFGC&lid=LSTTVSGEAGPH9HPFFGCF1LBV4&marketplace=FLIPKART&q=tv&store=ckf%2Fczl&srno=s_1_1&otracker=search&iid=en_qAKi6SIZyZVBZiV3K86LadxqpdAUbF%2BsfvhYuSt0KVdnD7YxoeKuxvxXn6y87rY15hkjFIOT8yzmwYZebeP7LQ%3D%3D&ssid=0qrnnsxlxs0000001677008126684&qH=c9a1fdac6e082dd8'"
      ]
     },
     "execution_count": 7,
     "metadata": {},
     "output_type": "execute_result"
    }
   ],
   "source": [
    "\"https://www.flipkart.com/samsung-crystal-4k-neo-series-138-cm-55-inch-ultra-hd-4k-led-smart-tizen-tv-black-2022-model/p/itm92a951fdc7ddf?pid=TVSGEAGPH9HPFFGC&lid=LSTTVSGEAGPH9HPFFGCF1LBV4&marketplace=FLIPKART&q=tv&store=ckf%2Fczl&srno=s_1_1&otracker=search&iid=en_qAKi6SIZyZVBZiV3K86LadxqpdAUbF%2BsfvhYuSt0KVdnD7YxoeKuxvxXn6y87rY15hkjFIOT8yzmwYZebeP7LQ%3D%3D&ssid=0qrnnsxlxs0000001677008126684&qH=c9a1fdac6e082dd8\""
   ]
  },
  {
   "cell_type": "code",
   "execution_count": 8,
   "metadata": {},
   "outputs": [],
   "source": [
    "bigbox = flipkart_html.find_all(\"div\",{\"class\":\"_1AtVbE col-12-12\"})"
   ]
  },
  {
   "cell_type": "code",
   "execution_count": 9,
   "metadata": {},
   "outputs": [
    {
     "data": {
      "text/plain": [
       "30"
      ]
     },
     "execution_count": 9,
     "metadata": {},
     "output_type": "execute_result"
    }
   ],
   "source": [
    "len(bigbox)"
   ]
  },
  {
   "cell_type": "code",
   "execution_count": 10,
   "metadata": {},
   "outputs": [],
   "source": [
    "del bigbox[0:3]"
   ]
  },
  {
   "cell_type": "code",
   "execution_count": 11,
   "metadata": {},
   "outputs": [],
   "source": [
    "productlink = \"https://www.flipkart.com\" + bigbox[0].div.div.div.a[\"href\"]"
   ]
  },
  {
   "cell_type": "code",
   "execution_count": 12,
   "metadata": {},
   "outputs": [
    {
     "name": "stdout",
     "output_type": "stream",
     "text": [
      "https://www.flipkart.com/mi-x-series-108-cm-43-inch-ultra-hd-4k-led-smart-android-tv-dolby-vision-30w-audio-2022-model/p/itm39b39b602f81a?pid=TVSGHEQVGZVTSEBT&lid=LSTTVSGHEQVGZVTSEBT6BSNVA&marketplace=FLIPKART&q=tv&store=ckf%2Fczl&srno=s_1_2&otracker=search&fm=organic&iid=en_1BYLSBJbYuCaxgGTjKzsyWOOvL%2FMkhXr57N5962g5lC8ByI%2Fkins5gqMJyCIPdEfb%2BjjvZLi1ElKC87mZHVoXg%3D%3D&ppt=None&ppn=None&ssid=osgb13uadc0000001677032229229&qH=c9a1fdac6e082dd8\n",
      "https://www.flipkart.com/oneplus-y1-80-cm-32-inch-hd-ready-led-smart-android-tv-dolby-audio/p/itme650a6bb8cee3?pid=TVSFVWD2ENXYGEJY&lid=LSTTVSFVWD2ENXYGEJYBNWSST&marketplace=FLIPKART&q=tv&store=ckf%2Fczl&srno=s_1_3&otracker=search&fm=organic&iid=bbec7e0c-ef9f-412d-bfd1-557d7a31c985.TVSFVWD2ENXYGEJY.SEARCH&ppt=None&ppn=None&ssid=osgb13uadc0000001677032229229&qH=c9a1fdac6e082dd8\n",
      "https://www.flipkart.com/samsung-crystal-4k-108-cm-43-inch-ultra-hd-4k-led-smart-tizen-tv/p/itm7dcfb3cc69fbb?pid=TVSG2CG7F2Y9YUJ3&lid=LSTTVSG2CG7F2Y9YUJ39FS3ZI&marketplace=FLIPKART&q=tv&store=ckf%2Fczl&srno=s_1_4&otracker=search&fm=organic&iid=bbec7e0c-ef9f-412d-bfd1-557d7a31c985.TVSG2CG7F2Y9YUJ3.SEARCH&ppt=None&ppn=None&ssid=osgb13uadc0000001677032229229&qH=c9a1fdac6e082dd8\n",
      "https://www.flipkart.com/oneplus-y1-100-cm-40-inch-full-hd-led-smart-android-tv-dolby-audio/p/itmdcbd9784403b2?pid=TVSG25MMGB8NKFD8&lid=LSTTVSG25MMGB8NKFD8BZ88HR&marketplace=FLIPKART&q=tv&store=ckf%2Fczl&srno=s_1_5&otracker=search&fm=organic&iid=bbec7e0c-ef9f-412d-bfd1-557d7a31c985.TVSG25MMGB8NKFD8.SEARCH&ppt=None&ppn=None&ssid=osgb13uadc0000001677032229229&qH=c9a1fdac6e082dd8\n",
      "https://www.flipkart.com/oneplus-y1s-80-cm-32-inch-hd-ready-led-smart-android-tv-11-bezel-less-frame/p/itm0a39edd7df236?pid=TVSGAXEVXNG9YBUM&lid=LSTTVSGAXEVXNG9YBUMLGWYAS&marketplace=FLIPKART&q=tv&store=ckf%2Fczl&srno=s_1_6&otracker=search&fm=organic&iid=bbec7e0c-ef9f-412d-bfd1-557d7a31c985.TVSGAXEVXNG9YBUM.SEARCH&ppt=None&ppn=None&ssid=osgb13uadc0000001677032229229&qH=c9a1fdac6e082dd8\n",
      "https://www.flipkart.com/oneplus-y1s-108-cm-43-inch-full-hd-led-smart-android-tv-11-bezel-less-frame/p/itm178846d2e1567?pid=TVSGAXEVSNT3HBQA&lid=LSTTVSGAXEVSNT3HBQAKRCYE0&marketplace=FLIPKART&q=tv&store=ckf%2Fczl&srno=s_1_7&otracker=search&fm=organic&iid=bbec7e0c-ef9f-412d-bfd1-557d7a31c985.TVSGAXEVSNT3HBQA.SEARCH&ppt=None&ppn=None&ssid=osgb13uadc0000001677032229229&qH=c9a1fdac6e082dd8\n",
      "https://www.flipkart.com/mi-5a-108-cm-43-inch-full-hd-led-smart-android-tv-dolby-audio-2022-model/p/itm2d5967449cb9b?pid=TVSGD5CS3CXNF2DF&lid=LSTTVSGD5CS3CXNF2DFPJ6HSF&marketplace=FLIPKART&q=tv&store=ckf%2Fczl&srno=s_1_8&otracker=search&fm=organic&iid=en_1BYLSBJbYuCaxgGTjKzsyWOOvL%2FMkhXr57N5962g5lDL%2FCTqCtb%2BRad4DfuWxA7zNH7nsAlMIE5SSddcoHONqg%3D%3D&ppt=None&ppn=None&ssid=osgb13uadc0000001677032229229&qH=c9a1fdac6e082dd8\n",
      "https://www.flipkart.com/samsung-80-cm-32-inch-hd-ready-led-smart-tizen-tv-2022-model/p/itm3c07ddc2dd25d?pid=TVSGHY2UZA9YHWQN&lid=LSTTVSGHY2UZA9YHWQNNQENTU&marketplace=FLIPKART&q=tv&store=ckf%2Fczl&spotlightTagId=BestsellerId_ckf%2Fczl&srno=s_1_9&otracker=search&fm=organic&iid=bbec7e0c-ef9f-412d-bfd1-557d7a31c985.TVSGHY2UZA9YHWQN.SEARCH&ppt=None&ppn=None&ssid=osgb13uadc0000001677032229229&qH=c9a1fdac6e082dd8\n",
      "https://www.flipkart.com/thomson-alpha-80-cm-32-inch-hd-ready-led-smart-linux-tv-30-w-sound-output-bezel-less-design/p/itm0e90bcdadb9c9?pid=TVSGEMQV7R4CMTGA&lid=LSTTVSGEMQV7R4CMTGAN8OZ8J&marketplace=FLIPKART&q=tv&store=ckf%2Fczl&srno=s_1_10&otracker=search&fm=organic&iid=bbec7e0c-ef9f-412d-bfd1-557d7a31c985.TVSGEMQV7R4CMTGA.SEARCH&ppt=None&ppn=None&ssid=osgb13uadc0000001677032229229&qH=c9a1fdac6e082dd8\n",
      "https://www.flipkart.com/infinix-y1-80-cm-32-inch-hd-ready-led-smart-linux-tv-wall-mount/p/itme5476ca89d1b0?pid=TVSGFGF34GMTB9KF&lid=LSTTVSGFGF34GMTB9KFF9JZPY&marketplace=FLIPKART&q=tv&store=ckf%2Fczl&srno=s_1_11&otracker=search&fm=organic&iid=bbec7e0c-ef9f-412d-bfd1-557d7a31c985.TVSGFGF34GMTB9KF.SEARCH&ppt=None&ppn=None&ssid=osgb13uadc0000001677032229229&qH=c9a1fdac6e082dd8\n",
      "https://www.flipkart.com/samsung-frame-138-cm-55-inch-qled-ultra-hd-4k-smart-tizen-tv/p/itm12119185c681f?pid=TVSGE3FUGTZY4DVB&lid=LSTTVSGE3FUGTZY4DVBNEIDYN&marketplace=FLIPKART&q=tv&store=ckf%2Fczl&srno=s_1_12&otracker=search&fm=organic&iid=en_1BYLSBJbYuCaxgGTjKzsyWOOvL%2FMkhXr57N5962g5lDC4Qp5VkqU3%2F7VCuK3pPAEsvfmp8zCnY21487fqak%2B7Q%3D%3D&ppt=None&ppn=None&ssid=osgb13uadc0000001677032229229&qH=c9a1fdac6e082dd8\n",
      "https://www.flipkart.com/samsung-crystal-4k-neo-series-108-cm-43-inch-ultra-hd-4k-led-smart-tizen-tv-black-2022-model/p/itma076c4dd16aa4?pid=TVSGEAGP9GXWCHCX&lid=LSTTVSGEAGP9GXWCHCXSVNDV5&marketplace=FLIPKART&q=tv&store=ckf%2Fczl&srno=s_1_13&otracker=search&fm=organic&iid=bbec7e0c-ef9f-412d-bfd1-557d7a31c985.TVSGEAGP9GXWCHCX.SEARCH&ppt=None&ppn=None&ssid=osgb13uadc0000001677032229229&qH=c9a1fdac6e082dd8\n",
      "https://www.flipkart.com/lg-80-cm-32-inch-hd-ready-led-smart-webos-tv/p/itm6207e6d122567?pid=TVSFTW4CSRW8PGDQ&lid=LSTTVSFTW4CSRW8PGDQSZQIO6&marketplace=FLIPKART&q=tv&store=ckf%2Fczl&srno=s_1_14&otracker=search&fm=organic&iid=bbec7e0c-ef9f-412d-bfd1-557d7a31c985.TVSFTW4CSRW8PGDQ.SEARCH&ppt=None&ppn=None&ssid=osgb13uadc0000001677032229229&qH=c9a1fdac6e082dd8\n",
      "https://www.flipkart.com/sens-80-cm-32-inch-hd-ready-led-smart-linux-tv-dolby-audio/p/itm42bfcb2db2495?pid=TVSGHY2BCKSKB5QF&lid=LSTTVSGHY2BCKSKB5QFJ7HUWT&marketplace=FLIPKART&q=tv&store=ckf%2Fczl&srno=s_1_15&otracker=search&fm=organic&iid=bbec7e0c-ef9f-412d-bfd1-557d7a31c985.TVSGHY2BCKSKB5QF.SEARCH&ppt=None&ppn=None&ssid=osgb13uadc0000001677032229229&qH=c9a1fdac6e082dd8\n",
      "https://www.flipkart.com/mi-x-series-138-cm-55-inch-ultra-hd-4k-led-smart-android-tv-dolby-vision-30w-audio-2022-model/p/itmd4ff31740dc25?pid=TVSGHEQVHEBXABCQ&lid=LSTTVSGHEQVHEBXABCQXB4RD9&marketplace=FLIPKART&q=tv&store=ckf%2Fczl&srno=s_1_16&otracker=search&fm=organic&iid=en_1BYLSBJbYuCaxgGTjKzsyWOOvL%2FMkhXr57N5962g5lA72zdx88EBYQSexaXQrGpwOZqOBzIlYVGq3qPqW4%2Ffog%3D%3D&ppt=None&ppn=None&ssid=osgb13uadc0000001677032229229&qH=c9a1fdac6e082dd8\n",
      "https://www.flipkart.com/vu-gloled-108-cm-43-inch-ultra-hd-4k-led-smart-google-tv-dj-subwoofer-84w/p/itm65f2925757d94?pid=TVSGJKC9TUSZ2DHS&lid=LSTTVSGJKC9TUSZ2DHSYRCHBF&marketplace=FLIPKART&q=tv&store=ckf%2Fczl&srno=s_1_17&otracker=search&fm=organic&iid=bbec7e0c-ef9f-412d-bfd1-557d7a31c985.TVSGJKC9TUSZ2DHS.SEARCH&ppt=None&ppn=None&ssid=osgb13uadc0000001677032229229&qH=c9a1fdac6e082dd8\n",
      "https://www.flipkart.com/sens-80-cm-32-inch-hd-ready-led-smart-android-tv-dolby-audio-google-assistant/p/itm9340589d4f56d?pid=TVSGHY2BHWNJ7JHG&lid=LSTTVSGHY2BHWNJ7JHGUP5PRP&marketplace=FLIPKART&q=tv&store=ckf%2Fczl&srno=s_1_18&otracker=search&fm=organic&iid=bbec7e0c-ef9f-412d-bfd1-557d7a31c985.TVSGHY2BHWNJ7JHG.SEARCH&ppt=None&ppn=None&ssid=osgb13uadc0000001677032229229&qH=c9a1fdac6e082dd8\n",
      "https://www.flipkart.com/iffalcon-tcl-f53-79-97-cm-32-inch-hd-ready-led-smart-android-tv-11/p/itmf4e9c6c14ccb0?pid=TVSGCYVJPAJMHGUW&lid=LSTTVSGCYVJPAJMHGUWTE92JA&marketplace=FLIPKART&q=tv&store=ckf%2Fczl&srno=s_1_19&otracker=search&fm=organic&iid=bbec7e0c-ef9f-412d-bfd1-557d7a31c985.TVSGCYVJPAJMHGUW.SEARCH&ppt=None&ppn=None&ssid=osgb13uadc0000001677032229229&qH=c9a1fdac6e082dd8\n",
      "https://www.flipkart.com/mi-x-series-125-cm-50-inch-ultra-hd-4k-led-smart-android-tv-dolby-vision-30w-audio-2022-model/p/itm85c3a9fbf7ed0?pid=TVSGHEQV4NQPS6EH&lid=LSTTVSGHEQV4NQPS6EHSZR7FS&marketplace=FLIPKART&q=tv&store=ckf%2Fczl&srno=s_1_20&otracker=search&fm=organic&iid=en_1BYLSBJbYuCaxgGTjKzsyWOOvL%2FMkhXr57N5962g5lCwauiEkVdc%2FivvTRTK%2F2662BZvSbyV0USmlm34pO%2FCUw%3D%3D&ppt=None&ppn=None&ssid=osgb13uadc0000001677032229229&qH=c9a1fdac6e082dd8\n",
      "https://www.flipkart.com/oneplus-y1s-pro-138-cm-55-inch-ultra-hd-4k-led-smart-android-tv/p/itm5db9783099cbb?pid=TVSGJUFY5QMMWSU7&lid=LSTTVSGJUFY5QMMWSU7V52T1B&marketplace=FLIPKART&q=tv&store=ckf%2Fczl&srno=s_1_21&otracker=search&fm=organic&iid=bbec7e0c-ef9f-412d-bfd1-557d7a31c985.TVSGJUFY5QMMWSU7.SEARCH&ppt=None&ppn=None&ssid=osgb13uadc0000001677032229229&qH=c9a1fdac6e082dd8\n",
      "https://www.flipkart.com/toshiba-v35kp-108-cm-43-inch-full-hd-led-smart-android-tv-dts-virtual-x-2022-model/p/itm61ca01e36b5a0?pid=TVSGE2HKVDFMASAK&lid=LSTTVSGE2HKVDFMASAKAM2BMW&marketplace=FLIPKART&q=tv&store=ckf%2Fczl&srno=s_1_22&otracker=search&fm=organic&iid=bbec7e0c-ef9f-412d-bfd1-557d7a31c985.TVSGE2HKVDFMASAK.SEARCH&ppt=None&ppn=None&ssid=osgb13uadc0000001677032229229&qH=c9a1fdac6e082dd8\n",
      "https://www.flipkart.com/realme-100-3-cm-40-inch-full-hd-led-smart-android-tv-11-2022-model/p/itmfbee9155488c1?pid=TVSGDC5CN7XP3KNE&lid=LSTTVSGDC5CN7XP3KNEEXCHTD&marketplace=FLIPKART&q=tv&store=ckf%2Fczl&srno=s_1_23&otracker=search&fm=organic&iid=bbec7e0c-ef9f-412d-bfd1-557d7a31c985.TVSGDC5CN7XP3KNE.SEARCH&ppt=None&ppn=None&ssid=osgb13uadc0000001677032229229&qH=c9a1fdac6e082dd8\n",
      "https://www.flipkart.com/mi-q1-138-8-cm-55-inch-qled-ultra-hd-4k-smart-android-tv-dolby-vision-30w-audio/p/itm3d2e089a2a3b9?pid=TVSFY7DXZYRHJUYJ&lid=LSTTVSFY7DXZYRHJUYJQZIBUA&marketplace=FLIPKART&q=tv&store=ckf%2Fczl&srno=s_1_24&otracker=search&fm=organic&iid=en_1BYLSBJbYuCaxgGTjKzsyWOOvL%2FMkhXr57N5962g5lBhA5g7SHQV8ehIEb6VW0%2FIuSwxiT8hjIVGDya9ERcMtQ%3D%3D&ppt=None&ppn=None&ssid=osgb13uadc0000001677032229229&qH=c9a1fdac6e082dd8\n"
     ]
    },
    {
     "ename": "AttributeError",
     "evalue": "'NoneType' object has no attribute 'a'",
     "output_type": "error",
     "traceback": [
      "\u001b[1;31m---------------------------------------------------------------------------\u001b[0m",
      "\u001b[1;31mAttributeError\u001b[0m                            Traceback (most recent call last)",
      "\u001b[1;32m~\\AppData\\Local\\Temp\\ipykernel_11000\\1060180763.py\u001b[0m in \u001b[0;36m<module>\u001b[1;34m\u001b[0m\n\u001b[0;32m      1\u001b[0m \u001b[1;32mfor\u001b[0m \u001b[0mi\u001b[0m \u001b[1;32min\u001b[0m \u001b[0mbigbox\u001b[0m\u001b[1;33m:\u001b[0m\u001b[1;33m\u001b[0m\u001b[1;33m\u001b[0m\u001b[0m\n\u001b[1;32m----> 2\u001b[1;33m     \u001b[0mprint\u001b[0m\u001b[1;33m(\u001b[0m\u001b[1;34m\"https://www.flipkart.com\"\u001b[0m \u001b[1;33m+\u001b[0m \u001b[0mi\u001b[0m\u001b[1;33m.\u001b[0m\u001b[0mdiv\u001b[0m\u001b[1;33m.\u001b[0m\u001b[0mdiv\u001b[0m\u001b[1;33m.\u001b[0m\u001b[0mdiv\u001b[0m\u001b[1;33m.\u001b[0m\u001b[0ma\u001b[0m\u001b[1;33m[\u001b[0m\u001b[1;34m\"href\"\u001b[0m\u001b[1;33m]\u001b[0m\u001b[1;33m)\u001b[0m\u001b[1;33m\u001b[0m\u001b[1;33m\u001b[0m\u001b[0m\n\u001b[0m",
      "\u001b[1;31mAttributeError\u001b[0m: 'NoneType' object has no attribute 'a'"
     ]
    }
   ],
   "source": [
    "for i in bigbox:\n",
    "    print(\"https://www.flipkart.com\" + i.div.div.div.a[\"href\"])"
   ]
  },
  {
   "cell_type": "code",
   "execution_count": 13,
   "metadata": {},
   "outputs": [
    {
     "data": {
      "text/plain": [
       "'https://www.flipkart.com/mi-x-series-108-cm-43-inch-ultra-hd-4k-led-smart-android-tv-dolby-vision-30w-audio-2022-model/p/itm39b39b602f81a?pid=TVSGHEQVGZVTSEBT&lid=LSTTVSGHEQVGZVTSEBT6BSNVA&marketplace=FLIPKART&q=tv&store=ckf%2Fczl&srno=s_1_2&otracker=search&fm=organic&iid=en_1BYLSBJbYuCaxgGTjKzsyWOOvL%2FMkhXr57N5962g5lC8ByI%2Fkins5gqMJyCIPdEfb%2BjjvZLi1ElKC87mZHVoXg%3D%3D&ppt=None&ppn=None&ssid=osgb13uadc0000001677032229229&qH=c9a1fdac6e082dd8'"
      ]
     },
     "execution_count": 13,
     "metadata": {},
     "output_type": "execute_result"
    }
   ],
   "source": [
    "productlink"
   ]
  },
  {
   "cell_type": "code",
   "execution_count": 14,
   "metadata": {},
   "outputs": [],
   "source": [
    "product_request = requests.get(productlink)"
   ]
  },
  {
   "cell_type": "code",
   "execution_count": 15,
   "metadata": {},
   "outputs": [],
   "source": [
    "product_html = bs(product_request.text, \"html.parser\")"
   ]
  },
  {
   "cell_type": "code",
   "execution_count": 16,
   "metadata": {},
   "outputs": [],
   "source": [
    "comment_box  = product_html.find_all(\"div\",{\"class\" : \"_16PBlm\"})"
   ]
  },
  {
   "cell_type": "code",
   "execution_count": 17,
   "metadata": {},
   "outputs": [
    {
     "data": {
      "text/plain": [
       "11"
      ]
     },
     "execution_count": 17,
     "metadata": {},
     "output_type": "execute_result"
    }
   ],
   "source": [
    "len(comment_box)"
   ]
  },
  {
   "cell_type": "code",
   "execution_count": 23,
   "metadata": {},
   "outputs": [
    {
     "data": {
      "text/plain": [
       "'Aditya Poddar'"
      ]
     },
     "execution_count": 23,
     "metadata": {},
     "output_type": "execute_result"
    }
   ],
   "source": [
    "comment_box[0].div.div.find_all(\"p\",{\"class\":\"_2sc7ZR _2V5EHH\"})[0].text"
   ]
  },
  {
   "cell_type": "code",
   "execution_count": 25,
   "metadata": {},
   "outputs": [
    {
     "name": "stdout",
     "output_type": "stream",
     "text": [
      "Aditya Poddar\n",
      "Partheeban\n",
      "Kiran Deshmukh\n",
      "PUSHPRAJ BHASKAR\n",
      "Devender Khatri\n",
      "\n",
      "VASEEM KHAN\n",
      "Naveen Goud M\n",
      "Praveen Iyer\n",
      "Flipkart Customer\n"
     ]
    },
    {
     "ename": "AttributeError",
     "evalue": "'NoneType' object has no attribute 'div'",
     "output_type": "error",
     "traceback": [
      "\u001b[1;31m---------------------------------------------------------------------------\u001b[0m",
      "\u001b[1;31mAttributeError\u001b[0m                            Traceback (most recent call last)",
      "\u001b[1;32m~\\AppData\\Local\\Temp\\ipykernel_11000\\3047202390.py\u001b[0m in \u001b[0;36m<module>\u001b[1;34m\u001b[0m\n\u001b[0;32m      1\u001b[0m \u001b[1;32mfor\u001b[0m \u001b[0mi\u001b[0m \u001b[1;32min\u001b[0m \u001b[0mcomment_box\u001b[0m\u001b[1;33m:\u001b[0m\u001b[1;33m\u001b[0m\u001b[1;33m\u001b[0m\u001b[0m\n\u001b[1;32m----> 2\u001b[1;33m     \u001b[0mprint\u001b[0m\u001b[1;33m(\u001b[0m\u001b[0mi\u001b[0m\u001b[1;33m.\u001b[0m\u001b[0mdiv\u001b[0m\u001b[1;33m.\u001b[0m\u001b[0mdiv\u001b[0m\u001b[1;33m.\u001b[0m\u001b[0mfind_all\u001b[0m\u001b[1;33m(\u001b[0m\u001b[1;34m\"p\"\u001b[0m\u001b[1;33m,\u001b[0m\u001b[1;33m{\u001b[0m\u001b[1;34m\"class\"\u001b[0m\u001b[1;33m:\u001b[0m\u001b[1;34m\"_2sc7ZR _2V5EHH\"\u001b[0m\u001b[1;33m}\u001b[0m\u001b[1;33m)\u001b[0m\u001b[1;33m[\u001b[0m\u001b[1;36m0\u001b[0m\u001b[1;33m]\u001b[0m\u001b[1;33m.\u001b[0m\u001b[0mtext\u001b[0m\u001b[1;33m)\u001b[0m\u001b[1;33m\u001b[0m\u001b[1;33m\u001b[0m\u001b[0m\n\u001b[0m",
      "\u001b[1;31mAttributeError\u001b[0m: 'NoneType' object has no attribute 'div'"
     ]
    }
   ],
   "source": [
    "for i in comment_box:\n",
    "    print(i.div.div.find_all(\"p\",{\"class\":\"_2sc7ZR _2V5EHH\"})[0].text)"
   ]
  },
  {
   "cell_type": "code",
   "execution_count": 27,
   "metadata": {},
   "outputs": [
    {
     "data": {
      "text/plain": [
       "'5'"
      ]
     },
     "execution_count": 27,
     "metadata": {},
     "output_type": "execute_result"
    }
   ],
   "source": [
    "comment_box[0].div.div.div.div.text"
   ]
  },
  {
   "cell_type": "code",
   "execution_count": 28,
   "metadata": {},
   "outputs": [
    {
     "name": "stdout",
     "output_type": "stream",
     "text": [
      "5\n",
      "4\n",
      "5\n",
      "5\n",
      "5\n",
      "5\n",
      "4\n",
      "5\n",
      "5\n",
      "4\n"
     ]
    },
    {
     "ename": "AttributeError",
     "evalue": "'NoneType' object has no attribute 'div'",
     "output_type": "error",
     "traceback": [
      "\u001b[1;31m---------------------------------------------------------------------------\u001b[0m",
      "\u001b[1;31mAttributeError\u001b[0m                            Traceback (most recent call last)",
      "\u001b[1;32m~\\AppData\\Local\\Temp\\ipykernel_11000\\2621339938.py\u001b[0m in \u001b[0;36m<module>\u001b[1;34m\u001b[0m\n\u001b[0;32m      1\u001b[0m \u001b[1;32mfor\u001b[0m \u001b[0mi\u001b[0m \u001b[1;32min\u001b[0m \u001b[0mcomment_box\u001b[0m\u001b[1;33m:\u001b[0m\u001b[1;33m\u001b[0m\u001b[1;33m\u001b[0m\u001b[0m\n\u001b[1;32m----> 2\u001b[1;33m     \u001b[0mprint\u001b[0m\u001b[1;33m(\u001b[0m\u001b[0mi\u001b[0m\u001b[1;33m.\u001b[0m\u001b[0mdiv\u001b[0m\u001b[1;33m.\u001b[0m\u001b[0mdiv\u001b[0m\u001b[1;33m.\u001b[0m\u001b[0mdiv\u001b[0m\u001b[1;33m.\u001b[0m\u001b[0mdiv\u001b[0m\u001b[1;33m.\u001b[0m\u001b[0mtext\u001b[0m\u001b[1;33m)\u001b[0m\u001b[1;33m\u001b[0m\u001b[1;33m\u001b[0m\u001b[0m\n\u001b[0m",
      "\u001b[1;31mAttributeError\u001b[0m: 'NoneType' object has no attribute 'div'"
     ]
    }
   ],
   "source": [
    "for i in comment_box:\n",
    "    print(i.div.div.div.div.text)"
   ]
  },
  {
   "cell_type": "code",
   "execution_count": 42,
   "metadata": {},
   "outputs": [
    {
     "data": {
      "text/plain": [
       "'Highly recommended'"
      ]
     },
     "execution_count": 42,
     "metadata": {},
     "output_type": "execute_result"
    }
   ],
   "source": [
    "comment_box[0].div.div.div.p.text"
   ]
  },
  {
   "cell_type": "code",
   "execution_count": 43,
   "metadata": {},
   "outputs": [
    {
     "name": "stdout",
     "output_type": "stream",
     "text": [
      "Highly recommended\n",
      "Worth the money\n",
      "Awesome\n",
      "Classy product\n",
      "Mind-blowing purchase\n",
      "Just wow!\n",
      "Very Good\n",
      "Must buy!\n",
      "Recommended Buy - 55 inch LED TV - Price and Features\n",
      "Nice product\n"
     ]
    },
    {
     "ename": "AttributeError",
     "evalue": "'NoneType' object has no attribute 'div'",
     "output_type": "error",
     "traceback": [
      "\u001b[1;31m---------------------------------------------------------------------------\u001b[0m",
      "\u001b[1;31mAttributeError\u001b[0m                            Traceback (most recent call last)",
      "\u001b[1;32m~\\AppData\\Local\\Temp\\ipykernel_11000\\4044681715.py\u001b[0m in \u001b[0;36m<module>\u001b[1;34m\u001b[0m\n\u001b[0;32m      1\u001b[0m \u001b[1;32mfor\u001b[0m \u001b[0mi\u001b[0m \u001b[1;32min\u001b[0m \u001b[0mcomment_box\u001b[0m\u001b[1;33m:\u001b[0m\u001b[1;33m\u001b[0m\u001b[1;33m\u001b[0m\u001b[0m\n\u001b[1;32m----> 2\u001b[1;33m     \u001b[0mprint\u001b[0m\u001b[1;33m(\u001b[0m\u001b[0mi\u001b[0m\u001b[1;33m.\u001b[0m\u001b[0mdiv\u001b[0m\u001b[1;33m.\u001b[0m\u001b[0mdiv\u001b[0m\u001b[1;33m.\u001b[0m\u001b[0mdiv\u001b[0m\u001b[1;33m.\u001b[0m\u001b[0mp\u001b[0m\u001b[1;33m.\u001b[0m\u001b[0mtext\u001b[0m\u001b[1;33m)\u001b[0m\u001b[1;33m\u001b[0m\u001b[1;33m\u001b[0m\u001b[0m\n\u001b[0m",
      "\u001b[1;31mAttributeError\u001b[0m: 'NoneType' object has no attribute 'div'"
     ]
    }
   ],
   "source": [
    "for i in comment_box:\n",
    "    print(i.div.div.div.p.text)"
   ]
  },
  {
   "cell_type": "code",
   "execution_count": 49,
   "metadata": {},
   "outputs": [
    {
     "data": {
      "text/plain": [
       "'Amazing tv by Xiaomi (MI),1. The Clarity of the display is so crisp and clear,2. The sound is so good and clear3. No lag or delay while using TV4. Great connectivity to wifi and Bluetooth5. The Bluetooth remote is so good that i can play it by sitting at next room .....Overall a great buy from FlipkartREAD MORE'"
      ]
     },
     "execution_count": 49,
     "metadata": {},
     "output_type": "execute_result"
    }
   ],
   "source": [
    "comment_box[0].div.div.find_all(\"div\",{\"class\":\"\"})[0].text"
   ]
  },
  {
   "cell_type": "code",
   "execution_count": 50,
   "metadata": {},
   "outputs": [
    {
     "name": "stdout",
     "output_type": "stream",
     "text": [
      "Amazing tv by Xiaomi (MI),1. The Clarity of the display is so crisp and clear,2. The sound is so good and clear3. No lag or delay while using TV4. Great connectivity to wifi and Bluetooth5. The Bluetooth remote is so good that i can play it by sitting at next room .....Overall a great buy from FlipkartREAD MORE\n",
      "Received the product in good condition. Writing review after one hour of usage.Picture quality is perfect and sound is too good. Connectivity is fast enough. Overall worth for the price. Sound is perfect for medium sized hall and we should have HD pack for best viewing experience. It's good if product comes with wall mount as optional to choose with minimal additional charge and installation should be done at free of cost.READ MORE\n",
      "Very nice TV in this price,  Tv screen quality super clear and detail view, But Internal storage required more usable storage is only 4 GB, Overall performance and Design is to Good, Installation in same Day thanks flipkart for very nice service, Installation person is very good and technical strong, MI service is to good. Thank you FlipkartREAD MORE\n",
      "It is a very good TV, and the quality is also very good, it is a good performing TV for a middle class people in a low price.  I would like to say that this TV is very good compared to all, and can fulfill your wish of getting a TV at a low price.READ MORE\n",
      "Excellent smart tv  you must buy it picture is superb sound quality also very nice purchased it with additional 3 year warrantyREAD MORE\n",
      "Every thing is good with this product. And the delivery of this product is very good and the delivery boy were also polite ❤️READ MORE\n",
      "Led is very nice, sound quality can do much batter like 40 watts speaker with woofer if it has to be done so enjoy much moreREAD MORE\n",
      "Really very good experience with the TV. Picture quality is crystal clear. You have to do some settings for good sound experience. TV will get bit slower like every other TV cause it's just 2 GB ram and 8 GB storage. If you have WiFi connection you don't have any storage issues.READ MORE\n",
      "Excellent 55 inch TV Android set with all the features that a user wanted. Rating 05 out of 05 for its Built , Picture Quality ( Sharp Crystal clear Images Ultra HD)  , Sound ( Surprisingly good for a 12 ft hall) and software features.The delivery was quick and Installation was done on the same day. I had zeroed on to this Mi TV series 5 after lot of research for price and features along with availability of support at Ahmedabad ( Gujarat).Recommended if one is looking to buy a 55 inch...READ MORE\n",
      "Very good tv fast delivery and installation picture clarity is very goodREAD MORE\n"
     ]
    },
    {
     "ename": "AttributeError",
     "evalue": "'NoneType' object has no attribute 'div'",
     "output_type": "error",
     "traceback": [
      "\u001b[1;31m---------------------------------------------------------------------------\u001b[0m",
      "\u001b[1;31mAttributeError\u001b[0m                            Traceback (most recent call last)",
      "\u001b[1;32m~\\AppData\\Local\\Temp\\ipykernel_11000\\2372539607.py\u001b[0m in \u001b[0;36m<module>\u001b[1;34m\u001b[0m\n\u001b[0;32m      1\u001b[0m \u001b[1;32mfor\u001b[0m \u001b[0mi\u001b[0m \u001b[1;32min\u001b[0m \u001b[0mcomment_box\u001b[0m\u001b[1;33m:\u001b[0m\u001b[1;33m\u001b[0m\u001b[1;33m\u001b[0m\u001b[0m\n\u001b[1;32m----> 2\u001b[1;33m     \u001b[0mprint\u001b[0m\u001b[1;33m(\u001b[0m\u001b[0mi\u001b[0m\u001b[1;33m.\u001b[0m\u001b[0mdiv\u001b[0m\u001b[1;33m.\u001b[0m\u001b[0mdiv\u001b[0m\u001b[1;33m.\u001b[0m\u001b[0mfind_all\u001b[0m\u001b[1;33m(\u001b[0m\u001b[1;34m\"div\"\u001b[0m\u001b[1;33m,\u001b[0m\u001b[1;33m{\u001b[0m\u001b[1;34m\"class\"\u001b[0m\u001b[1;33m:\u001b[0m\u001b[1;34m\"\"\u001b[0m\u001b[1;33m}\u001b[0m\u001b[1;33m)\u001b[0m\u001b[1;33m[\u001b[0m\u001b[1;36m0\u001b[0m\u001b[1;33m]\u001b[0m\u001b[1;33m.\u001b[0m\u001b[0mtext\u001b[0m\u001b[1;33m)\u001b[0m\u001b[1;33m\u001b[0m\u001b[1;33m\u001b[0m\u001b[0m\n\u001b[0m",
      "\u001b[1;31mAttributeError\u001b[0m: 'NoneType' object has no attribute 'div'"
     ]
    }
   ],
   "source": [
    "for i in comment_box:\n",
    "    print(i.div.div.find_all(\"div\",{\"class\":\"\"})[0].text)"
   ]
  }
 ],
 "metadata": {
  "kernelspec": {
   "display_name": "base",
   "language": "python",
   "name": "python3"
  },
  "language_info": {
   "codemirror_mode": {
    "name": "ipython",
    "version": 3
   },
   "file_extension": ".py",
   "mimetype": "text/x-python",
   "name": "python",
   "nbconvert_exporter": "python",
   "pygments_lexer": "ipython3",
   "version": "3.9.16"
  },
  "orig_nbformat": 4,
  "vscode": {
   "interpreter": {
    "hash": "c370489388e782aa9b6373b0856d4a71cb56f2a887cc53048a8e75b66b592545"
   }
  }
 },
 "nbformat": 4,
 "nbformat_minor": 2
}
