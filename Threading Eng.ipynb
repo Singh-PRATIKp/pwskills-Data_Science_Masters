{
 "cells": [
  {
   "cell_type": "markdown",
   "source": [
    "**`Threading`**"
   ],
   "metadata": {
    "collapsed": false
   }
  },
  {
   "cell_type": "code",
   "execution_count": 1,
   "outputs": [],
   "source": [
    "import threading"
   ],
   "metadata": {
    "collapsed": false
   }
  },
  {
   "cell_type": "code",
   "execution_count": 2,
   "outputs": [],
   "source": [
    "def test(id):\n",
    "    print(\"this is my test id %d\" %id)"
   ],
   "metadata": {
    "collapsed": false
   }
  },
  {
   "cell_type": "code",
   "execution_count": 3,
   "outputs": [
    {
     "name": "stdout",
     "output_type": "stream",
     "text": [
      "this is my test id 10\n"
     ]
    }
   ],
   "source": [
    "test(10)"
   ],
   "metadata": {
    "collapsed": false
   }
  },
  {
   "cell_type": "code",
   "execution_count": 4,
   "outputs": [
    {
     "name": "stdout",
     "output_type": "stream",
     "text": [
      "this is my test id 1\n"
     ]
    }
   ],
   "source": [
    "test(1)"
   ],
   "metadata": {
    "collapsed": false
   }
  },
  {
   "cell_type": "code",
   "execution_count": 5,
   "outputs": [
    {
     "name": "stdout",
     "output_type": "stream",
     "text": [
      "this is my test id 3\n"
     ]
    }
   ],
   "source": [
    "test(3)"
   ],
   "metadata": {
    "collapsed": false
   }
  },
  {
   "cell_type": "code",
   "execution_count": 6,
   "outputs": [],
   "source": [
    "thread  = [threading.Thread(target=test,args=(i,)) for i in [10,1,2]]"
   ],
   "metadata": {
    "collapsed": false
   }
  },
  {
   "cell_type": "code",
   "execution_count": 7,
   "outputs": [
    {
     "data": {
      "text/plain": "[<Thread(Thread-5, initial)>,\n <Thread(Thread-6, initial)>,\n <Thread(Thread-7, initial)>]"
     },
     "execution_count": 7,
     "metadata": {},
     "output_type": "execute_result"
    }
   ],
   "source": [
    "thread"
   ],
   "metadata": {
    "collapsed": false
   }
  },
  {
   "cell_type": "code",
   "execution_count": 8,
   "outputs": [
    {
     "name": "stdout",
     "output_type": "stream",
     "text": [
      "this is my test id 10\n",
      "this is my test id 1\n",
      "this is my test id 2\n"
     ]
    }
   ],
   "source": [
    "for t in thread:\n",
    "    t.start()"
   ],
   "metadata": {
    "collapsed": false
   }
  },
  {
   "cell_type": "code",
   "execution_count": 9,
   "outputs": [],
   "source": [
    "import urllib.request\n",
    "\n",
    "def file_download(url,filename):\n",
    "    urllib.request.urlretrieve(url,filename)"
   ],
   "metadata": {
    "collapsed": false
   }
  },
  {
   "cell_type": "code",
   "execution_count": 10,
   "outputs": [],
   "source": [
    "file_download('https://raw.githubusercontent.com/itsfoss/text-files/master/agatha.txt','test1.txt')"
   ],
   "metadata": {
    "collapsed": false
   }
  },
  {
   "cell_type": "code",
   "execution_count": 11,
   "outputs": [],
   "source": [
    "with open('test1.txt','w') as f:\n",
    "    f.write('''The Mysterious Affair at Styles\n",
    "The Secret Adversary\n",
    "The Murder on the Links\n",
    "The Man in the Brown Suit\n",
    "The Secret of Chimneys\n",
    "The Murder of Roger Ackroyd\n",
    "The Big Four\n",
    "The Mystery of the Blue Train\n",
    "The Seven Dials Mystery\n",
    "The Murder at the Vicarage\n",
    "Giant's Bread\n",
    "The Floating Admiral\n",
    "The Sittaford Mystery\n",
    "Peril at End House\n",
    "Lord Edgware Dies\n",
    "Murder on the Orient Express\n",
    "Unfinished Portrait\n",
    "Why Didn't They Ask Evans?\n",
    "Three Act Tragedy\n",
    "Death in the Clouds''')"
   ],
   "metadata": {
    "collapsed": false
   }
  },
  {
   "cell_type": "code",
   "execution_count": 12,
   "outputs": [],
   "source": [
    "url_list = ['https://raw.githubusercontent.com/itsfoss/text-files/master/agatha.txt','https://raw.githubusercontent.com/itsfoss/text-files/master/sherlock.txt','https://raw.githubusercontent.com/itsfoss/text-files/master/sample_log_file.txt']"
   ],
   "metadata": {
    "collapsed": false
   }
  },
  {
   "cell_type": "code",
   "execution_count": 13,
   "outputs": [],
   "source": [
    "data_file_list = ['data1.txt','data2.txt','data3.txt']"
   ],
   "metadata": {
    "collapsed": false
   }
  },
  {
   "cell_type": "code",
   "execution_count": 14,
   "outputs": [],
   "source": [
    "thread1 =[threading.Thread(target=file_download,args=(url_list[i],data_file_list[i])) for i in range(len(url_list))]"
   ],
   "metadata": {
    "collapsed": false
   }
  },
  {
   "cell_type": "code",
   "execution_count": 15,
   "outputs": [],
   "source": [
    "for t in thread1:\n",
    "    t.start()"
   ],
   "metadata": {
    "collapsed": false
   }
  },
  {
   "cell_type": "code",
   "execution_count": 16,
   "outputs": [
    {
     "data": {
      "text/plain": "[<Thread(Thread-8, started 9208)>,\n <Thread(Thread-9, started 10212)>,\n <Thread(Thread-10, started 8332)>]"
     },
     "execution_count": 16,
     "metadata": {},
     "output_type": "execute_result"
    }
   ],
   "source": [
    "thread1"
   ],
   "metadata": {
    "collapsed": false
   }
  },
  {
   "cell_type": "code",
   "execution_count": 17,
   "outputs": [],
   "source": [
    "import time"
   ],
   "metadata": {
    "collapsed": false
   }
  },
  {
   "cell_type": "code",
   "execution_count": 24,
   "outputs": [],
   "source": [
    "def test2(x):\n",
    "    for i in range(10):\n",
    "        print(\" test1 print the value of x %d and print the value of i %d\" %(x,i))\n",
    "        #time.sleep(1)"
   ],
   "metadata": {
    "collapsed": false
   }
  },
  {
   "cell_type": "code",
   "execution_count": 25,
   "outputs": [
    {
     "name": "stdout",
     "output_type": "stream",
     "text": [
      " test1 print the value of x 10 and print the value of i 0\n",
      " test1 print the value of x 10 and print the value of i 1\n",
      " test1 print the value of x 10 and print the value of i 2\n",
      " test1 print the value of x 10 and print the value of i 3\n",
      " test1 print the value of x 10 and print the value of i 4\n",
      " test1 print the value of x 10 and print the value of i 5\n",
      " test1 print the value of x 10 and print the value of i 6\n",
      " test1 print the value of x 10 and print the value of i 7\n",
      " test1 print the value of x 10 and print the value of i 8\n",
      " test1 print the value of x 10 and print the value of i 9\n"
     ]
    }
   ],
   "source": [
    "test2(10)"
   ],
   "metadata": {
    "collapsed": false
   }
  },
  {
   "cell_type": "code",
   "execution_count": 26,
   "outputs": [
    {
     "name": "stdout",
     "output_type": "stream",
     "text": [
      " test1 print the value of x 2 and print the value of i 0\n",
      " test1 print the value of x 2 and print the value of i 1\n",
      " test1 print the value of x 2 and print the value of i 2\n",
      " test1 print the value of x 2 and print the value of i 3\n",
      " test1 print the value of x 2 and print the value of i 4\n",
      " test1 print the value of x 2 and print the value of i 5\n",
      " test1 print the value of x 2 and print the value of i 6\n",
      " test1 print the value of x 2 and print the value of i 7\n",
      " test1 print the value of x 2 and print the value of i 8\n",
      " test1 print the value of x 2 and print the value of i 9\n"
     ]
    }
   ],
   "source": [
    "test2(2)"
   ],
   "metadata": {
    "collapsed": false
   }
  },
  {
   "cell_type": "code",
   "execution_count": 27,
   "outputs": [],
   "source": [
    "thread2 = [threading.Thread(target=test2,args=(i,)) for i in [100,10,20,5]]"
   ],
   "metadata": {
    "collapsed": false
   }
  },
  {
   "cell_type": "code",
   "execution_count": 28,
   "outputs": [
    {
     "name": "stdout",
     "output_type": "stream",
     "text": [
      " test1 print the value of x 100 and print the value of i 0 test1 print the value of x 10 and print the value of i 0\n",
      " test1 print the value of x 10 and print the value of i 1\n",
      " test1 print the value of x 10 and print the value of i 2\n",
      " test1 print the value of x 10 and print the value of i 3\n",
      " test1 print the value of x 10 and print the value of i 4\n",
      " test1 print the value of x 10 and print the value of i 5\n",
      " test1 print the value of x 10 and print the value of i 6\n",
      " test1 print the value of x 10 and print the value of i 7\n",
      " test1 print the value of x 10 and print the value of i 8\n",
      " test1 print the value of x 10 and print the value of i 9\n",
      "\n",
      " test1 print the value of x 100 and print the value of i 1\n",
      " test1 print the value of x 100 and print the value of i 2\n",
      " test1 print the value of x 100 and print the value of i 3\n",
      " test1 print the value of x 100 and print the value of i 4\n",
      " test1 print the value of x 100 and print the value of i 5\n",
      " test1 print the value of x 100 and print the value of i 6\n",
      " test1 print the value of x 100 and print the value of i 7\n",
      " test1 print the value of x 100 and print the value of i 8\n",
      " test1 print the value of x 100 and print the value of i 9\n",
      " test1 print the value of x 20 and print the value of i 0\n",
      " test1 print the value of x 20 and print the value of i 1\n",
      " test1 print the value of x 20 and print the value of i 2\n",
      " test1 print the value of x 20 and print the value of i 3\n",
      " test1 print the value of x 20 and print the value of i 4\n",
      " test1 print the value of x 20 and print the value of i 5\n",
      " test1 print the value of x 20 and print the value of i 6\n",
      " test1 print the value of x 20 and print the value of i 7\n",
      " test1 print the value of x 20 and print the value of i 8\n",
      " test1 print the value of x 20 and print the value of i 9\n",
      " test1 print the value of x 5 and print the value of i 0\n",
      " test1 print the value of x 5 and print the value of i 1\n",
      " test1 print the value of x 5 and print the value of i 2\n",
      " test1 print the value of x 5 and print the value of i 3\n",
      " test1 print the value of x 5 and print the value of i 4\n",
      " test1 print the value of x 5 and print the value of i 5\n",
      " test1 print the value of x 5 and print the value of i 6\n",
      " test1 print the value of x 5 and print the value of i 7\n",
      " test1 print the value of x 5 and print the value of i 8\n",
      " test1 print the value of x 5 and print the value of i 9\n"
     ]
    }
   ],
   "source": [
    "for t in thread2:\n",
    "    t.start()"
   ],
   "metadata": {
    "collapsed": false
   }
  },
  {
   "cell_type": "code",
   "execution_count": 29,
   "outputs": [
    {
     "data": {
      "text/plain": "[<Thread(Thread-15, stopped 1268)>,\n <Thread(Thread-16, stopped 9012)>,\n <Thread(Thread-17, stopped 4512)>,\n <Thread(Thread-18, stopped 9976)>]"
     },
     "execution_count": 29,
     "metadata": {},
     "output_type": "execute_result"
    }
   ],
   "source": [
    "thread2"
   ],
   "metadata": {
    "collapsed": false
   }
  },
  {
   "cell_type": "code",
   "execution_count": 41,
   "outputs": [
    {
     "name": "stdout",
     "output_type": "stream",
     "text": [
      "value of x 1 and value of shared_var 1\n"
     ]
    }
   ],
   "source": [
    "shared_var = 0\n",
    "lock_var = threading.Lock()\n",
    "def test4(x):\n",
    "    global shared_var\n",
    "    with lock_var:\n",
    "        shared_var += 1\n",
    "        print(\"value of x %d and value of shared_var %d\" %(x,shared_var))\n",
    "        time.sleep(1)\n",
    "thread5 = [threading.Thread(target=test4,args=(i,)) for i in  [1,2,3,4,4,5,6]]\n",
    "for t in thread5:\n",
    "    t.start()"
   ],
   "metadata": {
    "collapsed": false
   }
  },
  {
   "cell_type": "code",
   "execution_count": 31,
   "outputs": [
    {
     "name": "stdout",
     "output_type": "stream",
     "text": [
      "value of x 1 and value of shared_var 1\n"
     ]
    }
   ],
   "source": [
    "test3(1)"
   ],
   "metadata": {
    "collapsed": false
   }
  },
  {
   "cell_type": "code",
   "execution_count": 32,
   "outputs": [
    {
     "name": "stdout",
     "output_type": "stream",
     "text": [
      "value of x 2 and value of shared_var 2\n"
     ]
    }
   ],
   "source": [
    "test3(2)"
   ],
   "metadata": {
    "collapsed": false
   }
  },
  {
   "cell_type": "code",
   "execution_count": 32,
   "outputs": [],
   "source": [],
   "metadata": {
    "collapsed": false
   }
  }
 ],
 "metadata": {
  "kernelspec": {
   "display_name": "Python 3",
   "language": "python",
   "name": "python3"
  },
  "language_info": {
   "codemirror_mode": {
    "name": "ipython",
    "version": 2
   },
   "file_extension": ".py",
   "mimetype": "text/x-python",
   "name": "python",
   "nbconvert_exporter": "python",
   "pygments_lexer": "ipython2",
   "version": "2.7.6"
  }
 },
 "nbformat": 4,
 "nbformat_minor": 0
}
