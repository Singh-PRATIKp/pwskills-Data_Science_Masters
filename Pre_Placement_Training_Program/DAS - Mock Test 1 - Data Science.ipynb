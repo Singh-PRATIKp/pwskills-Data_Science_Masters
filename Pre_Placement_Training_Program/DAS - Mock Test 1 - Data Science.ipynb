{
 "cells": [
  {
   "attachments": {},
   "cell_type": "markdown",
   "metadata": {},
   "source": [
    " # **`Mock Test 1 - Data Science - PPT - PW Skills`**"
   ]
  },
  {
   "attachments": {},
   "cell_type": "markdown",
   "metadata": {},
   "source": [
    "17. Write a function that takes a list of numbers as input and returns a new list containing only the even numbers from the input list. Use list comprehension to solve this problem.\n",
    "\n",
    "Example:\n",
    "\n",
    "Input: [1, 2, 3, 4, 5, 6, 7, 8, 9, 10]\n",
    "\n",
    "Output: [2, 4, 6, 8, 10]\n",
    "\n",
    "10 points"
   ]
  },
  {
   "cell_type": "code",
   "execution_count": 10,
   "metadata": {},
   "outputs": [
    {
     "data": {
      "text/plain": [
       "[2, 4, 6, 8, 10]"
      ]
     },
     "execution_count": 10,
     "metadata": {},
     "output_type": "execute_result"
    }
   ],
   "source": [
    "x = [1, 2, 3, 4, 5, 6, 7, 8, 9, 10]\n",
    "def evenList(x: list[int])-> list[int]:\n",
    "    \"\"\"takes a list of integers and returns a list\n",
    "    with only the even integers\n",
    "\n",
    "    Args:\n",
    "        x (list[int]): list of integers\n",
    "\n",
    "    Returns:\n",
    "        list[int]: list of even integers\n",
    "    \"\"\"\n",
    "    return [i for i in x if i%2==0]\n",
    "evenList(x)"
   ]
  },
  {
   "attachments": {},
   "cell_type": "markdown",
   "metadata": {},
   "source": [
    "18. Implement a decorator function called ‘timer’ that measures the execution time of a function. The ‘timer’ decorator should print the time taken by the decorated function to execute. Use the ‘time’ module in Python to calculate the execution time.<br>\n",
    "\n",
    "Example:<br>\n",
    "\n",
    "import time<br>\n",
    "\n",
    "@timer<br>\n",
    "def my_function():<br>\n",
    "    # Function code goes here<br>\n",
    "    time.sleep(2)<br>\n",
    "\n",
    "my_function()<br>\n",
    "\n",
    "Output:<br>\n",
    "\"Execution time: 2.00123 seconds\"<br>"
   ]
  },
  {
   "cell_type": "code",
   "execution_count": 11,
   "metadata": {},
   "outputs": [
    {
     "name": "stdout",
     "output_type": "stream",
     "text": [
      "10000000000\n",
      "Execution time:2.0015039443969727 seconds\n"
     ]
    }
   ],
   "source": [
    "import time\n",
    "def timer(func):\n",
    "    def timing(*args, **kwargs):\n",
    "        begin = time.time()\n",
    "        func(*args,**kwargs)\n",
    "        end = time.time()\n",
    "        print(f\"Execution time:{end-begin} seconds\")\n",
    "    return timing\n",
    "\n",
    "@timer\n",
    "def my_function(n:int):\n",
    "    time.sleep(2)\n",
    "    print(n**n)\n",
    "\n",
    "my_function(10)\n",
    "        "
   ]
  },
  {
   "attachments": {},
   "cell_type": "markdown",
   "metadata": {},
   "source": [
    "19. Write a function called ‘calculate_mean’ that takes a list of numbers as input and returns the mean (average) of the numbers. The function should calculate the mean using the sum of the numbers divided by the total count.<br>\n",
    "<br>\n",
    "Example:<br>\n",
    "\n",
    "def calculate_mean(numbers):<br>\n",
    "    total = sum(numbers)<br>\n",
    "    count = len(numbers)<br>\n",
    "    mean = total / count<br>\n",
    "    return mean<br>\n",
    "\n",
    "data = [10, 15, 20, 25, 30]<br>\n",
    "mean_value = calculate_mean(data)<br>\n",
    "print(\"Mean:\", mean_value)<br>\n",
    "\n",
    "Output:<br>\n",
    "Mean: 20.0<br>"
   ]
  },
  {
   "cell_type": "code",
   "execution_count": 12,
   "metadata": {},
   "outputs": [
    {
     "name": "stdout",
     "output_type": "stream",
     "text": [
      "Mean: 20.0\n"
     ]
    }
   ],
   "source": [
    "data = [10, 15, 20, 25, 30]\n",
    "def calculate_mean(data:list[int])->float:\n",
    "    \"\"\"takes a list of integers (data) and returns the mean\n",
    "\n",
    "    Args:\n",
    "        data (list[int]): list of integers\n",
    "\n",
    "    Returns:\n",
    "        float: mean of the data\n",
    "    \"\"\"\n",
    "    total = sum(data)\n",
    "    count = len(data)\n",
    "    mean = total / count\n",
    "    return(mean)\n",
    "mean_value = calculate_mean(data)\n",
    "print(\"Mean:\", mean_value)"
   ]
  },
  {
   "attachments": {},
   "cell_type": "markdown",
   "metadata": {},
   "source": [
    "20. Write a function called ‘perform_hypothesis_test’ that takes two lists of numbers as input, representing two samples. The function should perform a two-sample t-test and return the p-value. Use the ‘scipy.stats’ module in Python to calculate the t-test and p-value.\n",
    "\n",
    "Example:<br>\n",
    "\n",
    "from scipy import stats<br>\n",
    "\n",
    "def perform_hypothesis_test(sample1, sample2):<br>\n",
    "    t_statistic, p_value = stats.ttest_ind(sample1, sample2)<br>\n",
    "    return p_value<br>\n",
    "\n",
    "sample1 = [5, 10, 15, 20, 25]<br>\n",
    "sample2 = [10, 20, 30, 40, 50]<br>\n",
    "p_value = perform_hypothesis_test(sample1, sample2)<br>\n",
    "print(\"P-value:\", p_value)<br>\n",
    "\n",
    "Output:<br>\n",
    "P-value: 0.1064706396450037<br>"
   ]
  },
  {
   "cell_type": "code",
   "execution_count": 16,
   "metadata": {},
   "outputs": [
    {
     "name": "stdout",
     "output_type": "stream",
     "text": [
      "P-value: 0.09434977284243756\n"
     ]
    }
   ],
   "source": [
    "sample1 = [5, 10, 15, 20, 25]\n",
    "sample2 = [10, 20, 30, 40, 50]\n",
    "def perform_hypothesis_test(sample1:list[int], sample2:list[int])->float:\n",
    "    \"\"\"Takes 2 samples and performs a 2-sample hypothesis test\n",
    "    on them and returns the p-value of the hypothesis test\n",
    "\n",
    "    Args:\n",
    "        sample1 (list[int]): sample 1\n",
    "        sample2 (list[int]): sample 2\n",
    "    \n",
    "    return (float): p-value\n",
    "    \"\"\"\n",
    "    from scipy import stats\n",
    "    t_statistic , p_value = stats.ttest_ind(sample1, sample2)\n",
    "    return p_value\n",
    "    \n",
    "p_value = perform_hypothesis_test(sample1, sample2)\n",
    "print(\"P-value:\", p_value)"
   ]
  }
 ],
 "metadata": {
  "kernelspec": {
   "display_name": "Python 3",
   "language": "python",
   "name": "python3"
  },
  "language_info": {
   "codemirror_mode": {
    "name": "ipython",
    "version": 3
   },
   "file_extension": ".py",
   "mimetype": "text/x-python",
   "name": "python",
   "nbconvert_exporter": "python",
   "pygments_lexer": "ipython3",
   "version": "3.9.0"
  },
  "orig_nbformat": 4
 },
 "nbformat": 4,
 "nbformat_minor": 2
}
