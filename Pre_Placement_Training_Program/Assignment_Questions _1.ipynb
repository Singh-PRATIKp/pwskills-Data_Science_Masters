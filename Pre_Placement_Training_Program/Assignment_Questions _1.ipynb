{
 "cells": [
  {
   "attachments": {},
   "cell_type": "markdown",
   "metadata": {},
   "source": [
    "# **`ASSIGNMENT QUESTIONS 1`**"
   ]
  },
  {
   "attachments": {},
   "cell_type": "markdown",
   "metadata": {},
   "source": [
    "**Q1.** Given an array of integers nums and an integer target, return indices of the two numbers such that they add up to target.\n",
    "\n",
    "You may assume that each input would have exactly one solution, and you may not use the same element twice.\n",
    "\n",
    "You can return the answer in any order.\n",
    "\n",
    "**Example:**\n",
    "Input: nums = [2,7,11,15], target = 9\n",
    "Output0 [0,1]\n",
    "\n",
    "**Explanation:** Because nums[0] + nums[1] == 9, we return [0, 1]"
   ]
  },
  {
   "cell_type": "code",
   "execution_count": 9,
   "metadata": {},
   "outputs": [
    {
     "data": {
      "text/plain": [
       "[0, 1]"
      ]
     },
     "execution_count": 9,
     "metadata": {},
     "output_type": "execute_result"
    }
   ],
   "source": [
    "nums = [2,7,11,15]\n",
    "target = 9\n",
    "\n",
    "def two_sum(nums, target) -> list:\n",
    "    \"\"\"Takes an array of numbers and an integer as target and\n",
    "    returns the indices of the two numbers that add up to the target.\n",
    "\n",
    "    Args:\n",
    "        nums (list): array of numbers\n",
    "        target (int): integer\n",
    "\n",
    "    Returns:\n",
    "        list: list of indices of the two numbers that add up to the target\n",
    "    \"\"\"\n",
    "    d ={}\n",
    "    for index , value in enumerate(nums):\n",
    "        remainder = target - value\n",
    "        if remainder in d:\n",
    "            return [d[remainder] , index]\n",
    "        else:\n",
    "            d[value] = index\n",
    "two_sum(nums, target)\n",
    "                "
   ]
  },
  {
   "attachments": {},
   "cell_type": "markdown",
   "metadata": {},
   "source": [
    "💡 **Q2.** Given an integer array nums and an integer val, remove all occurrences of val in nums in-place. The order of the elements may be changed. Then return the number of elements in nums which are not equal to val.\n",
    "\n",
    "Consider the number of elements in nums which are not equal to val be k, to get accepted, you need to do the following things:\n",
    "\n",
    "- Change the array nums such that the first k elements of nums contain the elements which are not equal to val. The remaining elements of nums are not important as well as the size of nums.\n",
    "- Return k.\n",
    "\n",
    "**Example :**\n",
    "Input: nums = [3,2,2,3], val = 3\n",
    "Output: 2, nums = [2,2,_*,_*]\n",
    "\n",
    "**Explanation:** Your function should return k = 2, with the first two elements of nums being 2. It does not matter what you leave beyond the returned k (hence they are underscores)"
   ]
  },
  {
   "cell_type": "code",
   "execution_count": 12,
   "metadata": {},
   "outputs": [
    {
     "data": {
      "text/plain": [
       "2"
      ]
     },
     "execution_count": 12,
     "metadata": {},
     "output_type": "execute_result"
    }
   ],
   "source": [
    "nums = [3,2,2,3]\n",
    "val = 3\n",
    "\n",
    "def val_del_length(nums,val)->int:\n",
    "    \"\"\"Takes a array of numbers and an integer value and returns\n",
    "    the number of elements in the array that are not equal to the given value\n",
    "\n",
    "    Args:\n",
    "        nums (list): array of numbers\n",
    "        val (int): integer value\n",
    "\n",
    "    Returns:\n",
    "        int: number of elements in the array not equal to the given value\n",
    "    \"\"\"\n",
    "\n",
    "    if nums[0] == val:\n",
    "        nums.remove(val)\n",
    "    for i in range(len(nums)):\n",
    "        if nums[i] == val:\n",
    "            nums.pop(i)\n",
    "    return (len(nums))\n",
    "\n",
    "val_del_length(nums,val)"
   ]
  },
  {
   "attachments": {},
   "cell_type": "markdown",
   "metadata": {},
   "source": [
    "**Q3.** Given a sorted array of distinct integers and a target value, return the index if the target is found. If not, return the index where it would be if it were inserted in order.\n",
    "\n",
    "You must write an algorithm with O(log n) runtime complexity.\n",
    "\n",
    "**Example 1:**\n",
    "Input: nums = [1,3,5,6], target = 5\n",
    "\n",
    "Output: 2"
   ]
  },
  {
   "cell_type": "code",
   "execution_count": 55,
   "metadata": {},
   "outputs": [
    {
     "data": {
      "text/plain": [
       "2"
      ]
     },
     "execution_count": 55,
     "metadata": {},
     "output_type": "execute_result"
    }
   ],
   "source": [
    "nums = [1,3,5,6]\n",
    "target = 5\n",
    "\n",
    "def target_index(nums, target) -> int:\n",
    "        \"\"\"Takes an array of numbers and a target as input and returns\n",
    "        the index of the target in the array or the index where the target \n",
    "        should be inserted to maintain the sorted order.\n",
    "\n",
    "        Args:\n",
    "            nums (list): array of numbers\n",
    "            target (int): integer\n",
    "\n",
    "        Returns:\n",
    "            int: index of the target in the array or the index where the\n",
    "            target should be inserted to maintain the sorted order\n",
    "        \"\"\"\n",
    "\n",
    "        for i in range(len(nums)):\n",
    "                if nums[i] == target:\n",
    "                        return(i)\n",
    "                        break\n",
    "                \n",
    "                \n",
    "                else:\n",
    "                        if nums[i] > target:\n",
    "                                return(i)\n",
    "                                break\n",
    "                        \n",
    "\n",
    "target_index(nums, target)\n",
    "        \n",
    "        "
   ]
  },
  {
   "attachments": {},
   "cell_type": "markdown",
   "metadata": {},
   "source": [
    "**Q4.** You are given a large integer represented as an integer array digits, where each digits[i] is the ith digit of the integer. The digits are ordered from most significant to least significant in left-to-right order. The large integer does not contain any leading 0's.\n",
    "\n",
    "Increment the large integer by one and return the resulting array of digits.\n",
    "\n",
    "**Example 1:**\n",
    "Input: digits = [1,2,3]\n",
    "Output: [1,2,4]\n",
    "\n",
    "**Explanation:** The array represents the integer 123.\n",
    "\n",
    "Incrementing by one gives 123 + 1 = 124.\n",
    "Thus, the result should be [1,2,4].\n",
    "\n"
   ]
  },
  {
   "cell_type": "code",
   "execution_count": 3,
   "metadata": {},
   "outputs": [
    {
     "data": {
      "text/plain": [
       "[1, 2, 4]"
      ]
     },
     "execution_count": 3,
     "metadata": {},
     "output_type": "execute_result"
    }
   ],
   "source": [
    "digits = [1,2,3]\n",
    "\n",
    "def digit_increment(digits:list)->list:\n",
    "    \"\"\"takes an array of integers and increments\n",
    "    the largest integer by 1\n",
    "\n",
    "    Args:\n",
    "        digits (list): list of ordered integers\n",
    "\n",
    "    Returns:\n",
    "        list: integers with increment of the largest integer which is\n",
    "        present at the end of the list\n",
    "    \"\"\"\n",
    "    import numpy as np\n",
    "    digits[np.argmax(digits)] += 1\n",
    "    return(digits)\n",
    "\n",
    "digit_increment(digits)"
   ]
  },
  {
   "attachments": {},
   "cell_type": "markdown",
   "metadata": {},
   "source": [
    "**Q5.** You are given two integer arrays nums1 and nums2, sorted in non-decreasing order, and two integers m and n, representing the number of elements in nums1 and nums2 respectively.\n",
    "\n",
    "Merge nums1 and nums2 into a single array sorted in non-decreasing order.\n",
    "\n",
    "The final sorted array should not be returned by the function, but instead be stored inside the array nums1. To accommodate this, nums1 has a length of m + n, where the first m elements denote the elements that should be merged, and the last n elements are set to 0 and should be ignored. nums2 has a length of n.\n",
    "\n",
    "**Example 1:**\n",
    "Input: nums1 = [1,2,3,0,0,0], m = 3, nums2 = [2,5,6], n = 3\n",
    "Output: [1,2,2,3,5,6]\n",
    "\n",
    "**Explanation:** The arrays we are merging are [1,2,3] and [2,5,6].\n",
    "The result of the merge is [1,2,2,3,5,6] with the underlined elements coming from nums1."
   ]
  },
  {
   "cell_type": "code",
   "execution_count": null,
   "metadata": {},
   "outputs": [],
   "source": [
    "nums1 = [1,2,3,0,0,0]\n",
    "nums2 = [2,5,6]\n",
    "m = 3\n",
    "n = 3\n"
   ]
  }
 ],
 "metadata": {
  "kernelspec": {
   "display_name": "Python 3",
   "language": "python",
   "name": "python3"
  },
  "language_info": {
   "codemirror_mode": {
    "name": "ipython",
    "version": 3
   },
   "file_extension": ".py",
   "mimetype": "text/x-python",
   "name": "python",
   "nbconvert_exporter": "python",
   "pygments_lexer": "ipython3",
   "version": "3.9.0"
  },
  "orig_nbformat": 4
 },
 "nbformat": 4,
 "nbformat_minor": 2
}
