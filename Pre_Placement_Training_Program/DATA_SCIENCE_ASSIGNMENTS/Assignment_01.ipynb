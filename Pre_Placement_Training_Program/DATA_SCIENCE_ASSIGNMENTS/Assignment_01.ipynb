{
 "cells": [
  {
   "attachments": {},
   "cell_type": "markdown",
   "metadata": {},
   "source": [
    "# **`ASSIGNMENT 1`**"
   ]
  },
  {
   "attachments": {},
   "cell_type": "markdown",
   "metadata": {},
   "source": [
    "`1. Write a Python program to reverse a string without using any built-in string reversal functions.`"
   ]
  },
  {
   "cell_type": "code",
   "execution_count": 1,
   "metadata": {},
   "outputs": [
    {
     "name": "stdout",
     "output_type": "stream",
     "text": [
      "aidni\n"
     ]
    }
   ],
   "source": [
    "s = \"india\"\n",
    "#solution_1\n",
    "temp = list(s)\n",
    "ans = []\n",
    "for i in range(len(temp) -1, -1, -1):\n",
    "    ans.append(temp[i])\n",
    "print(\"\".join(ans))"
   ]
  },
  {
   "cell_type": "code",
   "execution_count": 2,
   "metadata": {},
   "outputs": [
    {
     "name": "stdout",
     "output_type": "stream",
     "text": [
      "aidni\n"
     ]
    }
   ],
   "source": [
    "#solution_2\n",
    "print(s[::-1])"
   ]
  },
  {
   "attachments": {},
   "cell_type": "markdown",
   "metadata": {},
   "source": [
    "`2. Implement a function to check if a given string is a palindrome.`"
   ]
  },
  {
   "cell_type": "code",
   "execution_count": 3,
   "metadata": {},
   "outputs": [
    {
     "name": "stdout",
     "output_type": "stream",
     "text": [
      "The given string 'malayalam' is a palindrome\n"
     ]
    }
   ],
   "source": [
    "s = 'malayalam'\n",
    "if s == s[::-1]:\n",
    "    print(f\"The given string '{s}' is a palindrome\")\n",
    "else:\n",
    "    print(f\"The given string '{s}' is not a palindrome\")"
   ]
  },
  {
   "attachments": {},
   "cell_type": "markdown",
   "metadata": {},
   "source": [
    "`3. Write a program to find the largest element in a given list.`"
   ]
  },
  {
   "cell_type": "code",
   "execution_count": 4,
   "metadata": {},
   "outputs": [
    {
     "name": "stdout",
     "output_type": "stream",
     "text": [
      "12\n"
     ]
    }
   ],
   "source": [
    "l = [3,4,5,7,12,2,3]\n",
    "maximum = l[0]\n",
    "for i in range(1,len(l)-1):\n",
    "    if l[i] > maximum:\n",
    "        maximum = l[i]\n",
    "print(maximum)"
   ]
  },
  {
   "attachments": {},
   "cell_type": "markdown",
   "metadata": {},
   "source": [
    "`4. Implement a function to count the occurrence of each element in a list.`"
   ]
  },
  {
   "cell_type": "code",
   "execution_count": 5,
   "metadata": {},
   "outputs": [
    {
     "name": "stdout",
     "output_type": "stream",
     "text": [
      "{2: 2, 3: 2, 4: 2, 5: 2, 1: 1, 8: 1, 9: 1}\n"
     ]
    }
   ],
   "source": [
    "l = [2,3,4,5,5,4,3,1,2,8,9]\n",
    "d = dict()\n",
    "for i in l:\n",
    "    d[i] = d.get(i,0) + 1\n",
    "print(d)"
   ]
  },
  {
   "attachments": {},
   "cell_type": "markdown",
   "metadata": {},
   "source": [
    "`5. Write a Python program to find the second largest number in a list.`"
   ]
  },
  {
   "cell_type": "code",
   "execution_count": 6,
   "metadata": {},
   "outputs": [
    {
     "name": "stdout",
     "output_type": "stream",
     "text": [
      "8\n"
     ]
    }
   ],
   "source": [
    "l = [2,3,4,5,5,4,3,1,2,8,9]\n",
    "l.sort()\n",
    "print(l[-2])"
   ]
  },
  {
   "attachments": {},
   "cell_type": "markdown",
   "metadata": {},
   "source": [
    "`6. Implement a function to remove duplicate elements from a list.`"
   ]
  },
  {
   "cell_type": "code",
   "execution_count": 7,
   "metadata": {},
   "outputs": [
    {
     "name": "stdout",
     "output_type": "stream",
     "text": [
      "[1, 2, 3, 4, 5, 8, 9]\n"
     ]
    }
   ],
   "source": [
    "l = [2,3,4,5,5,4,3,1,2,8,9]\n",
    "print(list(set(l)))"
   ]
  },
  {
   "attachments": {},
   "cell_type": "markdown",
   "metadata": {},
   "source": [
    "`7. Write a program to calculate the factorial of a given number.`"
   ]
  },
  {
   "cell_type": "code",
   "execution_count": 8,
   "metadata": {},
   "outputs": [
    {
     "data": {
      "text/plain": [
       "120"
      ]
     },
     "execution_count": 8,
     "metadata": {},
     "output_type": "execute_result"
    }
   ],
   "source": [
    "n = 5\n",
    "def factorial(n): #recursive function\n",
    "    if n == 1: # base case\n",
    "        return 1\n",
    "    else:\n",
    "        return n * factorial(n-1) \n",
    "factorial(n)"
   ]
  },
  {
   "attachments": {},
   "cell_type": "markdown",
   "metadata": {},
   "source": [
    "`8. Implement a function to check if a given number is prime.`"
   ]
  },
  {
   "cell_type": "code",
   "execution_count": 42,
   "metadata": {},
   "outputs": [
    {
     "data": {
      "text/plain": [
       "True"
      ]
     },
     "execution_count": 42,
     "metadata": {},
     "output_type": "execute_result"
    }
   ],
   "source": [
    "n = 11\n",
    "def prime_num(n:int)->bool:\n",
    "    \"\"\"checks if a number is prime\n",
    "\n",
    "    Args:\n",
    "        n (int): number to check\n",
    "\n",
    "    Returns:\n",
    "        bool: True if the number is prime\n",
    "    \"\"\"\n",
    "    \n",
    "    if n<2:\n",
    "        return False\n",
    "    flag = True\n",
    "    for i in range(2,n//2+1):\n",
    "        if n%i == 0:\n",
    "            return False\n",
    "    return True\n",
    "prime_num(n)"
   ]
  },
  {
   "attachments": {},
   "cell_type": "markdown",
   "metadata": {},
   "source": [
    "`9. Write a Python program to sort a list of integers in ascending order.`"
   ]
  },
  {
   "cell_type": "code",
   "execution_count": 43,
   "metadata": {},
   "outputs": [
    {
     "data": {
      "text/plain": [
       "[1, 2, 2, 3, 3, 4, 4, 5, 5, 8, 9]"
      ]
     },
     "execution_count": 43,
     "metadata": {},
     "output_type": "execute_result"
    }
   ],
   "source": [
    "l = [2,3,4,5,5,4,3,1,2,8,9]\n",
    "def listSort(n:list[int])->list[int]:\n",
    "    \"\"\"sorts a given list of numbers in ascending order and\n",
    "    returns a list\n",
    "\n",
    "    Args:\n",
    "        n (list[int]): list of numbers to sort\n",
    "\n",
    "    Returns:\n",
    "        list[int]: sorted list\n",
    "    \"\"\"\n",
    "    return sorted(n)\n",
    "\n",
    "listSort(l)"
   ]
  },
  {
   "attachments": {},
   "cell_type": "markdown",
   "metadata": {},
   "source": [
    "`10. Implement a function to find the sum of all numbers in a list.`"
   ]
  },
  {
   "cell_type": "code",
   "execution_count": 44,
   "metadata": {},
   "outputs": [
    {
     "data": {
      "text/plain": [
       "46"
      ]
     },
     "execution_count": 44,
     "metadata": {},
     "output_type": "execute_result"
    }
   ],
   "source": [
    "l = [2,3,4,5,5,4,3,1,2,8,9]\n",
    "def listSum(l:list[int]) -> int:\n",
    "    \"\"\"return the sum of the elements of the list\n",
    "\n",
    "    Args:\n",
    "        l (list[int]): list of integers\n",
    "\n",
    "    Returns:\n",
    "        int: sum\n",
    "    \"\"\"\n",
    "    sum = 0\n",
    "    for i in l:\n",
    "        sum += i\n",
    "    return sum\n",
    "listSum(l)"
   ]
  },
  {
   "attachments": {},
   "cell_type": "markdown",
   "metadata": {},
   "source": [
    "`11. Write a program to find the common elements between two lists.`"
   ]
  },
  {
   "cell_type": "code",
   "execution_count": 46,
   "metadata": {},
   "outputs": [
    {
     "data": {
      "text/plain": [
       "[2, 3, 4, 5]"
      ]
     },
     "execution_count": 46,
     "metadata": {},
     "output_type": "execute_result"
    }
   ],
   "source": [
    "l1 = [2,3,4,5,8,9]\n",
    "l2 = [5,4,3,1,2]\n",
    "def commonElements(l1:list[int],l2:list[int])->list[int]:\n",
    "    \"\"\"takes 2 lists of elements and returns a list of common elements\n",
    "\n",
    "    Args:\n",
    "        l1 (list[int]): array of integers\n",
    "        l2 (list[int]): array of integers\n",
    "\n",
    "    Returns:\n",
    "        list[int]: list of common elements\n",
    "    \"\"\"\n",
    "    return list(set(l1).intersection(set(l2)))\n",
    "commonElements(l1,l2)\n"
   ]
  },
  {
   "attachments": {},
   "cell_type": "markdown",
   "metadata": {},
   "source": [
    "`12. Implement a function to check if a given string is an anagram of another string.`"
   ]
  },
  {
   "cell_type": "code",
   "execution_count": 2,
   "metadata": {},
   "outputs": [
    {
     "data": {
      "text/plain": [
       "True"
      ]
     },
     "execution_count": 2,
     "metadata": {},
     "output_type": "execute_result"
    }
   ],
   "source": [
    "a = \"listen\"\n",
    "b = \"silent\"\n",
    "def isAnagram(a:str,b:str)->bool:\n",
    "    \"\"\"checks if a and b are anagrams\n",
    "\n",
    "    Args:\n",
    "        a (str): string to check\n",
    "        b (str): string to check\n",
    "\n",
    "    Returns:\n",
    "        bool: True if a and b are anagrams else False\n",
    "    \"\"\"\n",
    "    if sorted(a) == sorted(b):\n",
    "        return True\n",
    "    else:\n",
    "        return False\n",
    "isAnagram(a,b)"
   ]
  },
  {
   "attachments": {},
   "cell_type": "markdown",
   "metadata": {},
   "source": [
    "`13. Write a Python program to generate all permutations of a given string.`"
   ]
  },
  {
   "cell_type": "code",
   "execution_count": 3,
   "metadata": {},
   "outputs": [
    {
     "name": "stdout",
     "output_type": "stream",
     "text": [
      "ABC\n",
      "ACB\n",
      "BAC\n",
      "BCA\n",
      "CAB\n",
      "CBA\n"
     ]
    }
   ],
   "source": [
    "# Recursive function to generate all permutations of a string\n",
    "def permutations(remaining, candidate=''):\n",
    " \n",
    "    if len(remaining) == 0:\n",
    "        print(candidate)\n",
    " \n",
    "    for i in range(len(remaining)):\n",
    " \n",
    "        newCandidate = candidate + remaining[i]\n",
    "        newRemaining = remaining[0:i] + remaining[i+1:]\n",
    " \n",
    "        permutations(newRemaining, newCandidate)\n",
    " \n",
    " \n",
    "if __name__ == '__main__':\n",
    " \n",
    "    s = 'ABC'\n",
    "    permutations(s)"
   ]
  },
  {
   "attachments": {},
   "cell_type": "markdown",
   "metadata": {},
   "source": [
    "`14. Implement a function to calculate the Fibonacci sequence up to a given number of terms.`"
   ]
  },
  {
   "cell_type": "code",
   "execution_count": 11,
   "metadata": {},
   "outputs": [
    {
     "name": "stdout",
     "output_type": "stream",
     "text": [
      "0\n",
      "1\n",
      "1\n",
      "2\n",
      "3\n",
      "5\n",
      "8\n",
      "13\n",
      "21\n",
      "34\n",
      "55\n"
     ]
    }
   ],
   "source": [
    "n = 10\n",
    "def fibonacci(n:int)->None:\n",
    "    \"\"\"Prints the fibonacci sequence of a length equal to\n",
    "    integer n\n",
    "\n",
    "    Args:\n",
    "        n (int): integer\n",
    "    Returns (None) : Prints the sequence\n",
    "    \"\"\"\n",
    "    i=0\n",
    "    a=0\n",
    "    b=1\n",
    "    sum = 0\n",
    "    while i<=n:\n",
    "        print(a)\n",
    "        sum = a+b\n",
    "        a,b = b,sum\n",
    "        i+=1\n",
    "fibonacci(n)\n",
    "    "
   ]
  },
  {
   "cell_type": "code",
   "execution_count": 10,
   "metadata": {},
   "outputs": [
    {
     "name": "stdout",
     "output_type": "stream",
     "text": [
      "55\n"
     ]
    }
   ],
   "source": [
    "#fibonacci Recursion\n",
    "def fibonacci(n:int)->int:\n",
    "    \"\"\"Prints the fibonacci sequence of a length equal to\n",
    "    integer n\n",
    "\n",
    "    Args:\n",
    "        n (int): integer\n",
    "    Returns (int) : Prints the sequence\n",
    "    \"\"\"\n",
    "    \n",
    "    if n<0:\n",
    "        print(\"Incorrect input\") # check for a valid number\n",
    "    elif n==0:\n",
    "        return 0\n",
    "    elif n==1 or n==2:\n",
    "        return 1\n",
    "    else:\n",
    "        return fibonacci(n-1) + fibonacci(n-2)\n",
    "print(fibonacci(10))"
   ]
  },
  {
   "attachments": {},
   "cell_type": "markdown",
   "metadata": {},
   "source": [
    "`15. Write a program to find the median of a list of numbers.`"
   ]
  },
  {
   "cell_type": "code",
   "execution_count": 9,
   "metadata": {},
   "outputs": [
    {
     "data": {
      "text/plain": [
       "4.5"
      ]
     },
     "execution_count": 9,
     "metadata": {},
     "output_type": "execute_result"
    }
   ],
   "source": [
    "l = [1,2,3,4,5,6,8,9]\n",
    "def medianFinder(l:list[int])->float:\n",
    "    \"\"\"calculate median for an array of integers\n",
    "\n",
    "    Args:\n",
    "        l (list[int]): array of integers\n",
    "\n",
    "    Returns:\n",
    "        float: median for the array of integers\n",
    "    \"\"\"\n",
    "    if len(l)%2!=0:\n",
    "        return l[len(l)//2]\n",
    "    else:\n",
    "        mid = int(len(l)/2)\n",
    "        median = (l[mid-1] + l[mid])/ 2\n",
    "        return median\n",
    "medianFinder(l)"
   ]
  },
  {
   "attachments": {},
   "cell_type": "markdown",
   "metadata": {},
   "source": [
    "`16. Implement a function to check if a given list is sorted in non-decreasing order.`"
   ]
  },
  {
   "cell_type": "code",
   "execution_count": 10,
   "metadata": {},
   "outputs": [
    {
     "data": {
      "text/plain": [
       "False"
      ]
     },
     "execution_count": 10,
     "metadata": {},
     "output_type": "execute_result"
    }
   ],
   "source": [
    "l = [1,2,4,3,4,5,6,8,9]\n",
    "def sortChecker(l:list)->bool:\n",
    "    \"\"\"Checks if a list is sorted in non-decreasing order\n",
    "\n",
    "    Args:\n",
    "        l (list): list of elements\n",
    "\n",
    "    Returns:\n",
    "        bool: True if sorted in non-decreasing order else False\n",
    "    \"\"\"\n",
    "    if l == sorted(l):\n",
    "        return True\n",
    "    return False\n",
    "sortChecker(l)\n"
   ]
  },
  {
   "attachments": {},
   "cell_type": "markdown",
   "metadata": {},
   "source": [
    "`17. Write a Python program to find the intersection of two lists.`"
   ]
  },
  {
   "cell_type": "code",
   "execution_count": 13,
   "metadata": {},
   "outputs": [
    {
     "data": {
      "text/plain": [
       "[2, 3, 6]"
      ]
     },
     "execution_count": 13,
     "metadata": {},
     "output_type": "execute_result"
    }
   ],
   "source": [
    "l1 = [1,2,3,4,5,6]\n",
    "l2 = [9,8,2,3,6,10]\n",
    "def commonElements(l1:list,l2:list)->list:\n",
    "    \"\"\"Finds the common elements of 2 given list of elements\n",
    "\n",
    "    Args:\n",
    "        l1 (list): list of elements\n",
    "        l2 (list): list of elements\n",
    "\n",
    "    Returns:\n",
    "        list: list of common elements\n",
    "    \"\"\"\n",
    "    return list(set(l1).intersection(l2))\n",
    "commonElements(l1,l2)"
   ]
  },
  {
   "attachments": {},
   "cell_type": "markdown",
   "metadata": {},
   "source": [
    "`18. Implement a function to find the maximum subarray sum in a given list.`"
   ]
  },
  {
   "cell_type": "code",
   "execution_count": 14,
   "metadata": {},
   "outputs": [
    {
     "data": {
      "text/plain": [
       "6"
      ]
     },
     "execution_count": 14,
     "metadata": {},
     "output_type": "execute_result"
    }
   ],
   "source": [
    "nums = [-2,1,-3,4,-1,2,1,-5,4]\n",
    "def maxSubarraySum(nums:list[int])->int:\n",
    "    \"\"\"finds and returns the maximum subarray sum\n",
    "\n",
    "    Args:\n",
    "        nums (list[int]): array of numbers\n",
    "\n",
    "    Returns:\n",
    "        int: maximum subarray sum\n",
    "    \"\"\"\n",
    "    sum = 0\n",
    "    maxtillend = 0\n",
    "    if len(nums) == 1:\n",
    "        return nums[0]\n",
    "    else:\n",
    "        for i in nums:\n",
    "            maxtillend += i\n",
    "            if sum < maxtillend:\n",
    "                sum = maxtillend\n",
    "            if maxtillend < 0:\n",
    "                maxtillend = 0\n",
    "        return sum\n",
    "maxSubarraySum(nums)"
   ]
  },
  {
   "attachments": {},
   "cell_type": "markdown",
   "metadata": {},
   "source": [
    "`19. Write a program to remove all vowels from a given string.`"
   ]
  },
  {
   "cell_type": "code",
   "execution_count": 24,
   "metadata": {},
   "outputs": [
    {
     "data": {
      "text/plain": [
       "'vwls'"
      ]
     },
     "execution_count": 24,
     "metadata": {},
     "output_type": "execute_result"
    }
   ],
   "source": [
    "s = \"vowels\"\n",
    "def removeVowels(s:str)->str:\n",
    "    \"\"\"removes all vowels from a string and returns it\n",
    "\n",
    "    Args:\n",
    "        s (str): string\n",
    "\n",
    "    Returns:\n",
    "        str: string with vowels removed\n",
    "    \"\"\"\n",
    "    l = []\n",
    "    for i in s:\n",
    "        if i not in \"aeiou\":\n",
    "            l.append(i)\n",
    "    return (\"\".join(l))\n",
    "removeVowels(s)\n",
    "    "
   ]
  },
  {
   "attachments": {},
   "cell_type": "markdown",
   "metadata": {},
   "source": [
    "`20. Implement a function to reverse the order of words in a given sentence.`"
   ]
  },
  {
   "cell_type": "code",
   "execution_count": 32,
   "metadata": {},
   "outputs": [
    {
     "data": {
      "text/plain": [
       "'aidnI denrecnoc revo staerht ot sti slaiciffo ni adanaC daeha fo inatsilahK yllar'"
      ]
     },
     "execution_count": 32,
     "metadata": {},
     "output_type": "execute_result"
    }
   ],
   "source": [
    "s=\"India concerned over threats to its officials in Canada ahead of Khalistani rally\"\n",
    "def wordReversal(s:str)->str:\n",
    "    \"\"\"takes a sentence and returns a string with each word reversed\n",
    "\n",
    "    Args:\n",
    "        s (str): string representation of the sentence\n",
    "\n",
    "    Returns:\n",
    "        str: string representation of the sentence with each word reversed\n",
    "    \"\"\"\n",
    "    l = s.split()\n",
    "    for i in range(len(l)):\n",
    "        l[i] = l[i][::-1]\n",
    "    return (\" \".join(l))\n",
    "wordReversal(s)"
   ]
  },
  {
   "attachments": {},
   "cell_type": "markdown",
   "metadata": {},
   "source": [
    "\n",
    "\n",
    "21. Write a Python program to check if two strings are anagrams of each other.\n",
    "22. Implement a function to find the first non-repeating character in a string.\n",
    "23. Write a program to find the prime factors of a given number.\n",
    "24. Implement a function to check if a given number is a power of two.\n",
    "25. Write a Python program to merge two sorted lists into a single sorted list.\n",
    "26. Implement a function to find the mode of a list of numbers.\n",
    "27. Write a program to find the greatest common divisor (GCD) of two numbers.\n",
    "28. Implement a function to calculate the square root of a given number.\n",
    "29. Write a Python program to check if a given string is a valid palindrome ignoring non-alphanumeric characters.\n",
    "30. Implement a function to find the minimum element in a rotated sorted list.\n",
    "31. Write a program to find the sum of all even numbers in a list.\n",
    "32. Implement a function to calculate the power of a number using recursion.\n",
    "33. Write a Python program to remove duplicates from a list while preserving the order.\n",
    "34. Implement a function to find the longest common prefix among a list of strings.\n",
    "35. Write a program to check if a given number is a perfect square.\n",
    "36. Implement a function to calculate the product of all elements in a list.\n",
    "37. Write a Python program to reverse the order of words in a sentence while preserving the word order.\n",
    "38. Implement a function to find the missing number in a given list of consecutive numbers.\n",
    "39. Write a program to find the sum of digits of a given number.\n",
    "40. Implement a function to check if a given string is a valid palindrome considering case sensitivity.\n",
    "41. Write a Python program to find the smallest missing positive integer in a list.\n",
    "42. Implement a function to find the longest palindrome substring in a given string.\n",
    "43. Write a program to find the number of occurrences of a given element in a list.\n",
    "44. Implement a function to check if a given number is a perfect number.\n",
    "45. Write a Python program to remove all duplicates from a string.\n",
    "46. Implement a function to find the first missing positive\n",
    "\n"
   ]
  },
  {
   "cell_type": "code",
   "execution_count": null,
   "metadata": {},
   "outputs": [],
   "source": []
  }
 ],
 "metadata": {
  "kernelspec": {
   "display_name": "Python 3",
   "language": "python",
   "name": "python3"
  },
  "language_info": {
   "codemirror_mode": {
    "name": "ipython",
    "version": 3
   },
   "file_extension": ".py",
   "mimetype": "text/x-python",
   "name": "python",
   "nbconvert_exporter": "python",
   "pygments_lexer": "ipython3",
   "version": "3.9.0"
  },
  "orig_nbformat": 4
 },
 "nbformat": 4,
 "nbformat_minor": 2
}
