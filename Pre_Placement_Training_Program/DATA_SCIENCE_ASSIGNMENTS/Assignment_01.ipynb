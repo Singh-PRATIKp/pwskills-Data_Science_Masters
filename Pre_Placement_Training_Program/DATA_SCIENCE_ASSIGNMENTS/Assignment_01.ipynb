{
 "cells": [
  {
   "attachments": {},
   "cell_type": "markdown",
   "metadata": {},
   "source": [
    "# **`ASSIGNMENT 1`**"
   ]
  },
  {
   "attachments": {},
   "cell_type": "markdown",
   "metadata": {},
   "source": [
    "`1. Write a Python program to reverse a string without using any built-in string reversal functions.`"
   ]
  },
  {
   "cell_type": "code",
   "execution_count": 1,
   "metadata": {},
   "outputs": [
    {
     "name": "stdout",
     "output_type": "stream",
     "text": [
      "aidni\n"
     ]
    }
   ],
   "source": [
    "s = \"india\"\n",
    "#solution_1\n",
    "temp = list(s)\n",
    "ans = []\n",
    "for i in range(len(temp) -1, -1, -1):\n",
    "    ans.append(temp[i])\n",
    "print(\"\".join(ans))"
   ]
  },
  {
   "cell_type": "code",
   "execution_count": 2,
   "metadata": {},
   "outputs": [
    {
     "name": "stdout",
     "output_type": "stream",
     "text": [
      "aidni\n"
     ]
    }
   ],
   "source": [
    "#solution_2\n",
    "print(s[::-1])"
   ]
  },
  {
   "attachments": {},
   "cell_type": "markdown",
   "metadata": {},
   "source": [
    "`2. Implement a function to check if a given string is a palindrome.`"
   ]
  },
  {
   "cell_type": "code",
   "execution_count": 3,
   "metadata": {},
   "outputs": [
    {
     "name": "stdout",
     "output_type": "stream",
     "text": [
      "The given string 'malayalam' is a palindrome\n"
     ]
    }
   ],
   "source": [
    "s = 'malayalam'\n",
    "if s == s[::-1]:\n",
    "    print(f\"The given string '{s}' is a palindrome\")\n",
    "else:\n",
    "    print(f\"The given string '{s}' is not a palindrome\")"
   ]
  },
  {
   "attachments": {},
   "cell_type": "markdown",
   "metadata": {},
   "source": [
    "`3. Write a program to find the largest element in a given list.`"
   ]
  },
  {
   "cell_type": "code",
   "execution_count": 4,
   "metadata": {},
   "outputs": [
    {
     "name": "stdout",
     "output_type": "stream",
     "text": [
      "12\n"
     ]
    }
   ],
   "source": [
    "l = [3,4,5,7,12,2,3]\n",
    "maximum = l[0]\n",
    "for i in range(1,len(l)-1):\n",
    "    if l[i] > maximum:\n",
    "        maximum = l[i]\n",
    "print(maximum)"
   ]
  },
  {
   "attachments": {},
   "cell_type": "markdown",
   "metadata": {},
   "source": [
    "`4. Implement a function to count the occurrence of each element in a list.`"
   ]
  },
  {
   "cell_type": "code",
   "execution_count": 5,
   "metadata": {},
   "outputs": [
    {
     "name": "stdout",
     "output_type": "stream",
     "text": [
      "{2: 2, 3: 2, 4: 2, 5: 2, 1: 1, 8: 1, 9: 1}\n"
     ]
    }
   ],
   "source": [
    "l = [2,3,4,5,5,4,3,1,2,8,9]\n",
    "d = dict()\n",
    "for i in l:\n",
    "    d[i] = d.get(i,0) + 1\n",
    "print(d)"
   ]
  },
  {
   "attachments": {},
   "cell_type": "markdown",
   "metadata": {},
   "source": [
    "`5. Write a Python program to find the second largest number in a list.`"
   ]
  },
  {
   "cell_type": "code",
   "execution_count": 6,
   "metadata": {},
   "outputs": [
    {
     "name": "stdout",
     "output_type": "stream",
     "text": [
      "8\n"
     ]
    }
   ],
   "source": [
    "l = [2,3,4,5,5,4,3,1,2,8,9]\n",
    "l.sort()\n",
    "print(l[-2])"
   ]
  },
  {
   "attachments": {},
   "cell_type": "markdown",
   "metadata": {},
   "source": [
    "`6. Implement a function to remove duplicate elements from a list.`"
   ]
  },
  {
   "cell_type": "code",
   "execution_count": 7,
   "metadata": {},
   "outputs": [
    {
     "name": "stdout",
     "output_type": "stream",
     "text": [
      "[1, 2, 3, 4, 5, 8, 9]\n"
     ]
    }
   ],
   "source": [
    "l = [2,3,4,5,5,4,3,1,2,8,9]\n",
    "print(list(set(l)))"
   ]
  },
  {
   "attachments": {},
   "cell_type": "markdown",
   "metadata": {},
   "source": [
    "`7. Write a program to calculate the factorial of a given number.`"
   ]
  },
  {
   "cell_type": "code",
   "execution_count": 8,
   "metadata": {},
   "outputs": [
    {
     "data": {
      "text/plain": [
       "120"
      ]
     },
     "execution_count": 8,
     "metadata": {},
     "output_type": "execute_result"
    }
   ],
   "source": [
    "n = 5\n",
    "def factorial(n): #recursive function\n",
    "    if n == 1: # base case\n",
    "        return 1\n",
    "    else:\n",
    "        return n * factorial(n-1) \n",
    "factorial(n)"
   ]
  },
  {
   "attachments": {},
   "cell_type": "markdown",
   "metadata": {},
   "source": [
    "`8. Implement a function to check if a given number is prime.`"
   ]
  },
  {
   "cell_type": "code",
   "execution_count": 42,
   "metadata": {},
   "outputs": [
    {
     "data": {
      "text/plain": [
       "True"
      ]
     },
     "execution_count": 42,
     "metadata": {},
     "output_type": "execute_result"
    }
   ],
   "source": [
    "n = 11\n",
    "def prime_num(n:int)->bool:\n",
    "    \"\"\"checks if a number is prime\n",
    "\n",
    "    Args:\n",
    "        n (int): number to check\n",
    "\n",
    "    Returns:\n",
    "        bool: True if the number is prime\n",
    "    \"\"\"\n",
    "    \n",
    "    if n<2:\n",
    "        return False\n",
    "    flag = True\n",
    "    for i in range(2,n//2+1):\n",
    "        if n%i == 0:\n",
    "            return False\n",
    "    return True\n",
    "prime_num(n)"
   ]
  },
  {
   "attachments": {},
   "cell_type": "markdown",
   "metadata": {},
   "source": [
    "`9. Write a Python program to sort a list of integers in ascending order.`"
   ]
  },
  {
   "cell_type": "code",
   "execution_count": 43,
   "metadata": {},
   "outputs": [
    {
     "data": {
      "text/plain": [
       "[1, 2, 2, 3, 3, 4, 4, 5, 5, 8, 9]"
      ]
     },
     "execution_count": 43,
     "metadata": {},
     "output_type": "execute_result"
    }
   ],
   "source": [
    "l = [2,3,4,5,5,4,3,1,2,8,9]\n",
    "def listSort(n:list[int])->list[int]:\n",
    "    \"\"\"sorts a given list of numbers in ascending order and\n",
    "    returns a list\n",
    "\n",
    "    Args:\n",
    "        n (list[int]): list of numbers to sort\n",
    "\n",
    "    Returns:\n",
    "        list[int]: sorted list\n",
    "    \"\"\"\n",
    "    return sorted(n)\n",
    "\n",
    "listSort(l)"
   ]
  },
  {
   "attachments": {},
   "cell_type": "markdown",
   "metadata": {},
   "source": [
    "`10. Implement a function to find the sum of all numbers in a list.`"
   ]
  },
  {
   "cell_type": "code",
   "execution_count": 44,
   "metadata": {},
   "outputs": [
    {
     "data": {
      "text/plain": [
       "46"
      ]
     },
     "execution_count": 44,
     "metadata": {},
     "output_type": "execute_result"
    }
   ],
   "source": [
    "l = [2,3,4,5,5,4,3,1,2,8,9]\n",
    "def listSum(l:list[int]) -> int:\n",
    "    \"\"\"return the sum of the elements of the list\n",
    "\n",
    "    Args:\n",
    "        l (list[int]): list of integers\n",
    "\n",
    "    Returns:\n",
    "        int: sum\n",
    "    \"\"\"\n",
    "    sum = 0\n",
    "    for i in l:\n",
    "        sum += i\n",
    "    return sum\n",
    "listSum(l)"
   ]
  },
  {
   "attachments": {},
   "cell_type": "markdown",
   "metadata": {},
   "source": [
    "`11. Write a program to find the common elements between two lists.`"
   ]
  },
  {
   "cell_type": "code",
   "execution_count": 46,
   "metadata": {},
   "outputs": [
    {
     "data": {
      "text/plain": [
       "[2, 3, 4, 5]"
      ]
     },
     "execution_count": 46,
     "metadata": {},
     "output_type": "execute_result"
    }
   ],
   "source": [
    "l1 = [2,3,4,5,8,9]\n",
    "l2 = [5,4,3,1,2]\n",
    "def commonElements(l1:list[int],l2:list[int])->list[int]:\n",
    "    \"\"\"takes 2 lists of elements and returns a list of common elements\n",
    "\n",
    "    Args:\n",
    "        l1 (list[int]): array of integers\n",
    "        l2 (list[int]): array of integers\n",
    "\n",
    "    Returns:\n",
    "        list[int]: list of common elements\n",
    "    \"\"\"\n",
    "    return list(set(l1).intersection(set(l2)))\n",
    "commonElements(l1,l2)\n"
   ]
  },
  {
   "attachments": {},
   "cell_type": "markdown",
   "metadata": {},
   "source": [
    "\n",
    "\n",
    "\n",
    "\n",
    "\n",
    "\n",
    "\n",
    "\n",
    "\n",
    "\n",
    "\n",
    "12. Implement a function to check if a given string is an anagram of another string.\n",
    "13. Write a Python program to generate all permutations of a given string.\n",
    "14. Implement a function to calculate the Fibonacci sequence up to a given number of terms.\n",
    "15. Write a program to find the median of a list of numbers.\n",
    "16. Implement a function to check if a given list is sorted in non-decreasing order.\n",
    "17. Write a Python program to find the intersection of two lists.\n",
    "18. Implement a function to find the maximum subarray sum in a given list.\n",
    "19. Write a program to remove all vowels from a given string.\n",
    "20. Implement a function to reverse the order of words in a given sentence.\n",
    "21. Write a Python program to check if two strings are anagrams of each other.\n",
    "22. Implement a function to find the first non-repeating character in a string.\n",
    "23. Write a program to find the prime factors of a given number.\n",
    "24. Implement a function to check if a given number is a power of two.\n",
    "25. Write a Python program to merge two sorted lists into a single sorted list.\n",
    "26. Implement a function to find the mode of a list of numbers.\n",
    "27. Write a program to find the greatest common divisor (GCD) of two numbers.\n",
    "28. Implement a function to calculate the square root of a given number.\n",
    "29. Write a Python program to check if a given string is a valid palindrome ignoring non-alphanumeric characters.\n",
    "30. Implement a function to find the minimum element in a rotated sorted list.\n",
    "31. Write a program to find the sum of all even numbers in a list.\n",
    "32. Implement a function to calculate the power of a number using recursion.\n",
    "33. Write a Python program to remove duplicates from a list while preserving the order.\n",
    "34. Implement a function to find the longest common prefix among a list of strings.\n",
    "35. Write a program to check if a given number is a perfect square.\n",
    "36. Implement a function to calculate the product of all elements in a list.\n",
    "37. Write a Python program to reverse the order of words in a sentence while preserving the word order.\n",
    "38. Implement a function to find the missing number in a given list of consecutive numbers.\n",
    "39. Write a program to find the sum of digits of a given number.\n",
    "40. Implement a function to check if a given string is a valid palindrome considering case sensitivity.\n",
    "41. Write a Python program to find the smallest missing positive integer in a list.\n",
    "42. Implement a function to find the longest palindrome substring in a given string.\n",
    "43. Write a program to find the number of occurrences of a given element in a list.\n",
    "44. Implement a function to check if a given number is a perfect number.\n",
    "45. Write a Python program to remove all duplicates from a string.\n",
    "46. Implement a function to find the first missing positive\n",
    "\n"
   ]
  },
  {
   "cell_type": "code",
   "execution_count": null,
   "metadata": {},
   "outputs": [],
   "source": []
  }
 ],
 "metadata": {
  "kernelspec": {
   "display_name": "Python 3",
   "language": "python",
   "name": "python3"
  },
  "language_info": {
   "codemirror_mode": {
    "name": "ipython",
    "version": 3
   },
   "file_extension": ".py",
   "mimetype": "text/x-python",
   "name": "python",
   "nbconvert_exporter": "python",
   "pygments_lexer": "ipython3",
   "version": "3.9.0"
  },
  "orig_nbformat": 4
 },
 "nbformat": 4,
 "nbformat_minor": 2
}
