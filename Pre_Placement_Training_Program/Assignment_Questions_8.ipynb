{
 "cells": [
  {
   "attachments": {},
   "cell_type": "markdown",
   "metadata": {},
   "source": [
    "# **`ASSIGNMENT QUESTIONS 8`**"
   ]
  },
  {
   "attachments": {},
   "cell_type": "markdown",
   "metadata": {},
   "source": [
    "**Question 1**\n",
    "\n",
    "Given two strings s1 and s2, return *the lowest **ASCII** sum of deleted characters to make two strings equal*.\n",
    "\n",
    "**Example 1:**\n",
    "\n",
    "**Input:** s1 = \"sea\", s2 = \"eat\"\n",
    "\n",
    "**Output:** 231\n",
    "\n",
    "**Explanation:** Deleting \"s\" from \"sea\" adds the ASCII value of \"s\" (115) to the sum.\n",
    "\n",
    "Deleting \"t\" from \"eat\" adds 116 to the sum.\n",
    "\n",
    "At the end, both strings are equal, and 115 + 116 = 231 is the minimum sum possible to achieve this."
   ]
  },
  {
   "cell_type": "code",
   "execution_count": 2,
   "metadata": {},
   "outputs": [
    {
     "data": {
      "text/plain": [
       "231"
      ]
     },
     "execution_count": 2,
     "metadata": {},
     "output_type": "execute_result"
    }
   ],
   "source": [
    "s1  = \"sea\"\n",
    "s2 = \"eat\"\n",
    "def minimumDeleteSum(s1: str, s2: str) -> int:\n",
    "        m = len(s1)\n",
    "        n = len(s2)\n",
    "        \n",
    "        dp = [[0 for i in range(len(s1) + 1)] for j in range(len(s2) + 1)]\n",
    "\n",
    "        for i in range(len(s2) + 1):\n",
    "            for j in range(len(s1) + 1):\n",
    "                if i == 0 and j == 0: \n",
    "                    continue\n",
    "                elif i == 0:\n",
    "                    dp[i][j] += dp[i][j-1] + ord(s1[j-1])\n",
    "                elif j  == 0:\n",
    "                    dp[i][j] += dp[i-1][j] + ord(s2[i-1])\n",
    "                elif s1[j-1] == s2[i-1]:\n",
    "                    dp[i][j] = dp[i-1][j-1]\n",
    "                else:\n",
    "                    dp[i][j] = min(ord(s1[j-1]) + dp[i][j-1], ord(s2[i-1]) + dp[i-1][j])\n",
    "        \n",
    "        return dp[n][m]\n",
    "minimumDeleteSum(s1,s2)"
   ]
  },
  {
   "attachments": {},
   "cell_type": "markdown",
   "metadata": {},
   "source": [
    "**Question 2**\n",
    "\n",
    "Given a string s containing only three types of characters: '(', ')' and '*', return true *if* s *is **valid***.\n",
    "\n",
    "The following rules define a **valid** string:\n",
    "\n",
    "- Any left parenthesis '(' must have a corresponding right parenthesis ')'.\n",
    "- Any right parenthesis ')' must have a corresponding left parenthesis '('.\n",
    "- Left parenthesis '(' must go before the corresponding right parenthesis ')'.\n",
    "- '*' could be treated as a single right parenthesis ')' or a single left parenthesis '(' or an empty string \"\".\n",
    "\n",
    "**Example 1:**\n",
    "\n",
    "**Input:** s = \"()\"\n",
    "\n",
    "**Output:**\n",
    "\n",
    "true"
   ]
  },
  {
   "attachments": {},
   "cell_type": "markdown",
   "metadata": {},
   "source": [
    "Approach\n",
    "using two stack approch\n",
    "first stack store only opening bracket\n",
    "second stack store only star\n",
    "\n",
    "when closing bracket comes that time\n",
    "1. check opening bracket exits or not if exist then pop out one opening bracket because it will valid parenthesis\n",
    "2. if opening bracket not exit check star if exist then it is also valid parenthesis string ex ---> *) < -- this is valid\n",
    "3. else it will False because there is only closing bracket ex--> ) ( ) <-- invalid\n",
    "\n",
    "check againg any opening bracket presint or not\n",
    "if opening bracket remaning and stars are not exits then it will false\n",
    "\n",
    "if stars are present and indexing is greater than opening bracket then it will valid otherwise false ex --> *( <-- not valid if it is valid when * comes after bracket --> ( *\n",
    "\n",
    "Thanks\n",
    "\n",
    "Complexity\n",
    "Time complexity:\n",
    "O(n)"
   ]
  },
  {
   "cell_type": "code",
   "execution_count": 3,
   "metadata": {},
   "outputs": [
    {
     "data": {
      "text/plain": [
       "True"
      ]
     },
     "execution_count": 3,
     "metadata": {},
     "output_type": "execute_result"
    }
   ],
   "source": [
    "s=\"()\"\n",
    "def checkValidString(s: str) -> bool:\n",
    "        st=[]\n",
    "        sr=[]\n",
    "        for i in range(len(s)):\n",
    "            if s[i]=='(':\n",
    "                st.append(i)\n",
    "            elif s[i]== '*':\n",
    "                sr.append(i)\n",
    "            else:\n",
    "                if st:\n",
    "                    st.pop()\n",
    "                elif sr:\n",
    "                    sr.pop()\n",
    "                else:\n",
    "                    return False\n",
    "        while st:\n",
    "            if len(sr)==0:\n",
    "                return False\n",
    "            elif st[-1]< sr[-1]:\n",
    "                st.pop()\n",
    "                sr.pop()\n",
    "            else:\n",
    "                return False\n",
    "        return True\n",
    "checkValidString(s)"
   ]
  },
  {
   "attachments": {},
   "cell_type": "markdown",
   "metadata": {},
   "source": [
    "**Question 3**\n",
    "\n",
    "Given two strings word1 and word2, return *the minimum number of **steps** required to make* word1 *and* word2 *the same*.\n",
    "\n",
    "In one **step**, you can delete exactly one character in either string.\n",
    "\n",
    "**Example 1:**\n",
    "\n",
    "**Input:** word1 = \"sea\", word2 = \"eat\"\n",
    "\n",
    "**Output:** 2\n",
    "\n",
    "**Explanation:** You need one step to make \"sea\" to \"ea\" and another step to make \"eat\" to \"ea\"."
   ]
  },
  {
   "cell_type": "code",
   "execution_count": 8,
   "metadata": {},
   "outputs": [
    {
     "data": {
      "text/plain": [
       "2"
      ]
     },
     "execution_count": 8,
     "metadata": {},
     "output_type": "execute_result"
    }
   ],
   "source": [
    "word1 = \"sea\"\n",
    "word2 = \"eat\"\n",
    "def minDistance(word1: str, word2: str) -> int:\n",
    "        m=len(word1)\n",
    "        n=len(word2)\n",
    "        dp=[]\n",
    "        for i in range (m+1):\n",
    "            dp.append([0]*(n+1))\n",
    "        for i in range (m+1):\n",
    "            dp[i][0]=i\n",
    "        for i in range (n+1):\n",
    "            dp[0][i]=i\n",
    "        for i in range (1,m+1):\n",
    "            for j in range (1,n+1):\n",
    "                if word1[i-1]==word2[j-1]:\n",
    "                    dp[i][j]=dp[i-1][j-1]\n",
    "                else:\n",
    "                    dp[i][j]=min(dp[i][j-1],dp[i-1][j])+1\n",
    "        return dp[-1][-1]\n",
    "minDistance(word1,word2)"
   ]
  },
  {
   "attachments": {},
   "cell_type": "markdown",
   "metadata": {},
   "source": []
  }
 ],
 "metadata": {
  "kernelspec": {
   "display_name": "Python 3",
   "language": "python",
   "name": "python3"
  },
  "language_info": {
   "codemirror_mode": {
    "name": "ipython",
    "version": 3
   },
   "file_extension": ".py",
   "mimetype": "text/x-python",
   "name": "python",
   "nbconvert_exporter": "python",
   "pygments_lexer": "ipython3",
   "version": "3.9.0"
  },
  "orig_nbformat": 4
 },
 "nbformat": 4,
 "nbformat_minor": 2
}
