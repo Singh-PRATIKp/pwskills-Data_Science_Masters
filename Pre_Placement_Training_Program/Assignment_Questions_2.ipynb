{
 "cells": [
  {
   "attachments": {},
   "cell_type": "markdown",
   "metadata": {},
   "source": [
    "# **ASSIGNMENT QUESTIONS 2**"
   ]
  },
  {
   "attachments": {},
   "cell_type": "markdown",
   "metadata": {},
   "source": [
    "**Question 1**\n",
    "Given an integer array nums of 2n integers, group these integers into n pairs (a1, b1), (a2, b2),..., (an, bn) such that the sum of min(ai, bi) for all i is maximized. Return the maximized sum.\n",
    "\n",
    "**Example 1:**\n",
    "Input: nums = [1,4,3,2]\n",
    "Output: 4\n",
    "\n",
    "**Explanation:** All possible pairings (ignoring the ordering of elements) are:\n",
    "\n",
    "1. (1, 4), (2, 3) -> min(1, 4) + min(2, 3) = 1 + 2 = 3\n",
    "2. (1, 3), (2, 4) -> min(1, 3) + min(2, 4) = 1 + 2 = 3\n",
    "3. (1, 2), (3, 4) -> min(1, 2) + min(3, 4) = 1 + 3 = 4\n",
    "So the maximum possible sum is 4"
   ]
  },
  {
   "cell_type": "code",
   "execution_count": 7,
   "metadata": {},
   "outputs": [
    {
     "data": {
      "text/plain": [
       "4"
      ]
     },
     "execution_count": 7,
     "metadata": {},
     "output_type": "execute_result"
    }
   ],
   "source": [
    "nums = [1,4,3,2]\n",
    "def pairSum(nums)->int:\n",
    "    \"\"\"takes an array of 2N integers , groups them\n",
    "    into n pairs such that each the sum of min(ai,bi) for\n",
    "    all ai is maximised\n",
    "\n",
    "    Args:\n",
    "        nums (list): array of 2N integers\n",
    "    \n",
    "    Returns: integer of maximized sum\n",
    "    \"\"\"\n",
    "    return sum(sorted(nums)[::2])\n",
    "pairSum(nums)"
   ]
  },
  {
   "attachments": {},
   "cell_type": "markdown",
   "metadata": {},
   "source": [
    "Question 2\n",
    "Alice has n candies, where the ith candy is of type candyType[i]. Alice noticed that she started to gain weight, so she visited a doctor. \n",
    "\n",
    "The doctor advised Alice to only eat n / 2 of the candies she has (n is always even). Alice likes her candies very much, and she wants to eat the maximum number of different types of candies while still following the doctor's advice. \n",
    "\n",
    "Given the integer array candyType of length n, return the maximum number of different types of candies she can eat if she only eats n / 2 of them.\n",
    "\n",
    "Example 1:\n",
    "Input: candyType = [1,1,2,2,3,3]\n",
    "Output: 3\n",
    "\n",
    "Explanation: Alice can only eat 6 / 2 = 3 candies. Since there are only 3 types, she can eat one of each type."
   ]
  },
  {
   "cell_type": "code",
   "execution_count": 11,
   "metadata": {},
   "outputs": [
    {
     "name": "stdout",
     "output_type": "stream",
     "text": [
      "The number of unique candies which alice can have is: 3\n"
     ]
    }
   ],
   "source": [
    "candyType = [1,1,2,2,3,3]\n",
    "\n",
    "def alice_candy(candyType) -> int:\n",
    "    \"\"\"Takes an array of candy numbers which alice has been eating\n",
    "    and returns the maximum number of different candy types she can eat\n",
    "\n",
    "    Args:\n",
    "        candyType (list): array of candy numbers\n",
    "        \n",
    "    Returns: number of different candy types\n",
    "    \"\"\"\n",
    "    result = None\n",
    "    candies = len(candyType)\n",
    "    unique_candy = len(set(candyType))\n",
    "    if unique_candy <= candies//2:\n",
    "        result = unique_candy\n",
    "    else:\n",
    "        result = candies//2\n",
    "    print(f\"The number of unique candies which alice can have is: {result}\")\n",
    "alice_candy(candyType)"
   ]
  },
  {
   "attachments": {},
   "cell_type": "markdown",
   "metadata": {},
   "source": [
    "Question 3\n",
    "We define a harmonious array as an array where the difference between its maximum value\n",
    "and its minimum value is exactly 1.\n",
    "\n",
    "Given an integer array nums, return the length of its longest harmonious subsequence\n",
    "among all its possible subsequences.\n",
    "\n",
    "A subsequence of an array is a sequence that can be derived from the array by deleting some or no elements without changing the order of the remaining elements.\n",
    "\n",
    "Example 1:\n",
    "Input: nums = [1,3,2,2,5,2,3,7]\n",
    "Output: 5\n",
    "\n",
    "Explanation: The longest harmonious subsequence is [3,2,2,2,3]."
   ]
  },
  {
   "cell_type": "code",
   "execution_count": 12,
   "metadata": {},
   "outputs": [
    {
     "data": {
      "text/plain": [
       "5"
      ]
     },
     "execution_count": 12,
     "metadata": {},
     "output_type": "execute_result"
    }
   ],
   "source": [
    "nums = [1,3,2,2,5,2,3,7]\n",
    "def len_LHA(nums:list)->int:\n",
    "    \"\"\"Takes an integer array and \n",
    "    returns the length of the\n",
    "    longest harmonious array\n",
    "\n",
    "    Args:\n",
    "        nums (list): array of integers\n",
    "\n",
    "    Returns:\n",
    "        int: length of the longest harmonious array\n",
    "    \"\"\"\n",
    "    freq = dict()\n",
    "    for i in nums:\n",
    "        freq[i] = freq.get(i,0) + 1\n",
    "    max_length = 0\n",
    "    for i in freq:\n",
    "        if  i+1 in freq:\n",
    "            max_length = max(max_length , freq[i] + freq[i+1])\n",
    "    return (max_length)\n",
    "len_LHA(nums)"
   ]
  },
  {
   "attachments": {},
   "cell_type": "markdown",
   "metadata": {},
   "source": [
    "Question 4\n",
    "You have a long flowerbed in which some of the plots are planted, and some are not.\n",
    "However, flowers cannot be planted in adjacent plots.\n",
    "Given an integer array flowerbed containing 0's and 1's, where 0 means empty and 1 means not empty, and an integer n, return true if n new flowers can be planted in the flowerbed without violating the no-adjacent-flowers rule and false otherwise.\n",
    "\n",
    "Example 1:\n",
    "Input: flowerbed = [1,0,0,0,1], n = 1\n",
    "Output: true"
   ]
  },
  {
   "cell_type": "code",
   "execution_count": 1,
   "metadata": {},
   "outputs": [
    {
     "data": {
      "text/plain": [
       "True"
      ]
     },
     "execution_count": 1,
     "metadata": {},
     "output_type": "execute_result"
    }
   ],
   "source": [
    "flowerbed = [1,0,0,0,1]\n",
    "n = 1\n",
    "def canPlaceFlowers(flowerbed:list, n:int)->bool:\n",
    "    \"\"\"Given an integer array flowerbed containing 0's and 1's, \n",
    "    where 0 means empty and 1 means not empty, and an integer n, \n",
    "    return true if n new flowers can be planted in the flowerbed \n",
    "    without violating the no-adjacent-flowers rule and false otherwise.\n",
    "\n",
    "    Args:\n",
    "        flowerbed (list): array of flowerbed containing 0 & 1\n",
    "        n (int): number of flowers to be planted\n",
    "\n",
    "    Returns:\n",
    "        bool: True if n new flowers can be planted\n",
    "    \"\"\"\n",
    "    count = 0\n",
    "    for i in range(len(flowerbed)):\n",
    "        if flowerbed[i] == 0: # if no flowers at current location\n",
    "            canbeplanted_left = (i==0) or (flowerbed[i - 1] == 0) # check if flower can be planted on left side or if it is the starting position\n",
    "            canbeplanted_right = (i == len(flowerbed)-1) or (flowerbed[i+1] == 0) # check if flower can be planted on right side or if it is the ending position\n",
    "            \n",
    "            if canbeplanted_left and canbeplanted_right:\n",
    "                flowerbed[i] = 1\n",
    "                count += 1\n",
    "    return count >=n\n",
    "\n",
    "canPlaceFlowers(flowerbed,n)"
   ]
  },
  {
   "attachments": {},
   "cell_type": "markdown",
   "metadata": {},
   "source": [
    "Question 5\n",
    "Given an integer array nums, find three numbers whose product is maximum and return the maximum product.\n",
    "\n",
    "Example 1:\n",
    "Input: nums = [1,2,3]\n",
    "Output: 6"
   ]
  },
  {
   "cell_type": "code",
   "execution_count": 4,
   "metadata": {},
   "outputs": [
    {
     "data": {
      "text/plain": [
       "6"
      ]
     },
     "execution_count": 4,
     "metadata": {},
     "output_type": "execute_result"
    }
   ],
   "source": [
    "nums = [1,2,3]\n",
    "def threeProductMax(nums) ->int:\n",
    "    \"\"\"takes an array of 3 numbers and \n",
    "    identifies 3 numbers whoes product is \n",
    "    maximum and returns the maximum product\n",
    "\n",
    "    Args:\n",
    "        nums (list): array of numbers\n",
    "        \n",
    "    Returns: integer of the maximum product\n",
    "    \"\"\"\n",
    "    # logic is we need to either find the 3 biggest numbers or the biggest number and \n",
    "    # the 2 smallest numbers as the 2 smallest numbers can have negative sign and\n",
    "    # multiplying them with the biggest number would yield the biggest product\n",
    "    l = sorted(nums)\n",
    "    return max((l[-1]*l[-2]*l[-3]),(l[0]*l[1]*l[-1]))\n",
    "threeProductMax(nums)\n",
    "    "
   ]
  },
  {
   "attachments": {},
   "cell_type": "markdown",
   "metadata": {},
   "source": [
    "Question 6\n",
    "Given an array of integers nums which is sorted in ascending order, and an integer target,\n",
    "write a function to search target in nums. If target exists, then return its index. Otherwise,\n",
    "return -1.\n",
    "\n",
    "You must write an algorithm with O(log n) runtime complexity.\n",
    "\n",
    "Input: nums = [-1,0,3,5,9,12], target = 9\n",
    "Output: 4\n",
    "\n",
    "Explanation: 9 exists in nums and its index is 4"
   ]
  },
  {
   "cell_type": "code",
   "execution_count": 9,
   "metadata": {},
   "outputs": [
    {
     "data": {
      "text/plain": [
       "4"
      ]
     },
     "execution_count": 9,
     "metadata": {},
     "output_type": "execute_result"
    }
   ],
   "source": [
    "nums = [-1,0,3,5,9,12]\n",
    "target = 9\n",
    "\n",
    "def index_check(nums, target)->int:\n",
    "    \"\"\"Takes an array of numbers and a target\n",
    "    checks if the target exist in the array and returns\n",
    "    the index of the target else returns -1\n",
    "\n",
    "    Args:\n",
    "        nums (list): array of numbers\n",
    "        target (int): target number\n",
    "\n",
    "    Returns:\n",
    "        int: index of the target or -1 if the target does not exist\n",
    "    \"\"\"\n",
    "    result = None\n",
    "    for index , val in enumerate(nums):\n",
    "        if val == target:\n",
    "            result = index\n",
    "    if result:\n",
    "        return result\n",
    "    else:\n",
    "        return (-1)\n",
    "        \n",
    "index_check(nums , target)            "
   ]
  },
  {
   "attachments": {},
   "cell_type": "markdown",
   "metadata": {},
   "source": [
    "Question 7\n",
    "An array is monotonic if it is either monotone increasing or monotone decreasing.\n",
    "\n",
    "An array nums is monotone increasing if for all i <= j, nums[i] <= nums[j]. An array nums is\n",
    "monotone decreasing if for all i <= j, nums[i] >= nums[j].\n",
    "\n",
    "Given an integer array nums, return true if the given array is monotonic, or false otherwise.\n",
    "\n",
    "Example 1:\n",
    "Input: nums = [1,2,2,3]\n",
    "Output: true"
   ]
  },
  {
   "cell_type": "code",
   "execution_count": 31,
   "metadata": {},
   "outputs": [
    {
     "data": {
      "text/plain": [
       "True"
      ]
     },
     "execution_count": 31,
     "metadata": {},
     "output_type": "execute_result"
    }
   ],
   "source": [
    "nums = [1,2,2,3]\n",
    "def isMonotonic(nums) -> bool:\n",
    "    \"\"\"takes an array of numbers as a parameter and returns\n",
    "    whether the numbers are monotonic\n",
    "\n",
    "    Args:\n",
    "        nums (list): array of numbers\n",
    "\n",
    "    Returns:\n",
    "        bool: True if the numbers are monotonic else False\n",
    "    \"\"\"\n",
    "    pattern = nums[len(nums) - 1] > nums[0]\n",
    "    return all((nums[i] > nums[i-1]) == pattern or (nums[i] == nums[i-1]) for i in range(1, len(nums)))\n",
    "    \n",
    "isMonotonic(nums)"
   ]
  },
  {
   "attachments": {},
   "cell_type": "markdown",
   "metadata": {},
   "source": [
    "Question 8\n",
    "You are given an integer array nums and an integer k.\n",
    "\n",
    "In one operation, you can choose any index i where 0 <= i < nums.length and change nums[i] to nums[i] + x where x is an integer from the range [-k, k]. You can apply this operation at most once for each index i.\n",
    "\n",
    "The score of nums is the difference between the maximum and minimum elements in nums.\n",
    "\n",
    "Return the minimum score of nums after applying the mentioned operation at most once for each index in it.\n",
    "\n",
    "Example 1:\n",
    "Input: nums = [1], k = 0\n",
    "Output: 0\n",
    "\n",
    "Explanation: The score is max(nums) - min(nums) = 1 - 1 = 0."
   ]
  },
  {
   "cell_type": "code",
   "execution_count": 2,
   "metadata": {},
   "outputs": [
    {
     "data": {
      "text/plain": [
       "0"
      ]
     },
     "execution_count": 2,
     "metadata": {},
     "output_type": "execute_result"
    }
   ],
   "source": [
    "## Question is very poorly worded and i understand it like this ...we are given an array of nums and an integer k\n",
    "# at any given time we can we can change the nums of nums[i] by adding x which belongs to [-k,k] but we can do this addition \n",
    "# only once at any given index for that particular index ...\n",
    "# The result is the minimum of [max(nums) - min(nums)] ...\n",
    "# Approach is like this: \n",
    "    # 1. we find out the max and min values from the given array nums\n",
    "    # 2. The result is (max(nums) - k) -  (min(nums + k))\n",
    "nums = [1]\n",
    "k = 0\n",
    "def array_min(nums, k) -> int:\n",
    "    \"\"\"Takes an array of numbers \n",
    "    performs nums[i] + x at any give index (i) only once\n",
    "    x  belongs to [-k,k] and returns the smallest difference between\n",
    "    max(nums) and min(nums)\n",
    "\n",
    "    Args:\n",
    "        nums (list): array of numbers\n",
    "        k (int): integer\n",
    "\n",
    "    Returns:\n",
    "        int: smallest difference between max(nums) and min(nums)\n",
    "        \n",
    "    \"\"\"\n",
    "    \n",
    "    x = max(nums)\n",
    "    y = min(nums)\n",
    "    \n",
    "    return max(0 , ((x-k) - (y+k)))\n",
    "\n",
    "array_min(nums, k)"
   ]
  }
 ],
 "metadata": {
  "kernelspec": {
   "display_name": "Python 3",
   "language": "python",
   "name": "python3"
  },
  "language_info": {
   "codemirror_mode": {
    "name": "ipython",
    "version": 3
   },
   "file_extension": ".py",
   "mimetype": "text/x-python",
   "name": "python",
   "nbconvert_exporter": "python",
   "pygments_lexer": "ipython3",
   "version": "3.9.0"
  },
  "orig_nbformat": 4
 },
 "nbformat": 4,
 "nbformat_minor": 2
}
