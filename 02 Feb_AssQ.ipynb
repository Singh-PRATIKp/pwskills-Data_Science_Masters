{
 "cells": [
  {
   "attachments": {},
   "cell_type": "markdown",
   "metadata": {},
   "source": [
    "#### Ans1\n",
    "Tuples have all the characteristics of a list except that they are creatd using () and they are immutable meaning they cannot be reassigned. They can only be replaced completely"
   ]
  },
  {
   "cell_type": "code",
   "execution_count": 5,
   "metadata": {},
   "outputs": [
    {
     "name": "stdout",
     "output_type": "stream",
     "text": [
      "4\n",
      "3\n"
     ]
    }
   ],
   "source": [
    "# Ans2\n",
    "#method1: count()\n",
    "a = (1,2,3,3,4,4,3,5,3,6)\n",
    "print(a.count(3))\n",
    "#method2: index()\n",
    "b = tuple((1,2,3,4))\n",
    "print(b.index(4))\n",
    "#tuples have only these two methods because they are immutable\n"
   ]
  },
  {
   "cell_type": "code",
   "execution_count": 7,
   "metadata": {},
   "outputs": [
    {
     "data": {
      "text/plain": [
       "{1, 2, 3, 4}"
      ]
     },
     "execution_count": 7,
     "metadata": {},
     "output_type": "execute_result"
    }
   ],
   "source": [
    "#Ans3: Sets\n",
    "l = [1,1,1,2,1,3,1,4,2,1,2,2,2,3,2,4,3,1,3,2,3,3,3,4,4,1,4,2,4,3,4]\n",
    "set(l)"
   ]
  },
  {
   "cell_type": "code",
   "execution_count": 16,
   "metadata": {},
   "outputs": [
    {
     "name": "stdout",
     "output_type": "stream",
     "text": [
      "{1, 2, 3, 4, 5, 6, 7, 8, 9, 10, 11, 'tej'}\n",
      "{1, 2, 3, 4, 5, 6, 7, 8, 9, 10, 11, 'tej'}\n"
     ]
    }
   ],
   "source": [
    "#Ans4\n",
    "a = {1,2,3,5,9,10,11}\n",
    "b = {1,2,3,4,6,7,8,'tej'}\n",
    "# update takes the elements from the second set and adds it into first set\n",
    "a.update(b)\n",
    "print(a)\n",
    "#union performs a set union (just like in Venn diagram union) to display all elements of a , b and common elements between them\n",
    "print(a.union(b))\n"
   ]
  },
  {
   "attachments": {},
   "cell_type": "markdown",
   "metadata": {},
   "source": [
    "#### Ans5:\n",
    "- Dictionary in Python is a collection of data stored in the form of keys: values pairs unlike other data types which hold only a single value as an element\n",
    "- As of python 3.7x dictionaries are ordered. Earlier versions are not ordered \n",
    "\n"
   ]
  },
  {
   "cell_type": "code",
   "execution_count": 19,
   "metadata": {},
   "outputs": [
    {
     "data": {
      "text/plain": [
       "'DSM'"
      ]
     },
     "execution_count": 19,
     "metadata": {},
     "output_type": "execute_result"
    }
   ],
   "source": [
    "#Ans6:\n",
    "d = {'name':'tej','age':36,'qualification':{'UG':'MBBS','PG':'MD','others':'DSM'}}\n",
    "d['qualification']['others']"
   ]
  },
  {
   "cell_type": "code",
   "execution_count": 22,
   "metadata": {},
   "outputs": [
    {
     "data": {
      "text/plain": [
       "{'language': 'python',\n",
       " 'course': 'Data Science Masters',\n",
       " 'topics': ['Python', 'Machine Learning', 'Deep Learning']}"
      ]
     },
     "execution_count": 22,
     "metadata": {},
     "output_type": "execute_result"
    }
   ],
   "source": [
    "#Ans7: The setdefault() method returns the value of the item with the specified key.\n",
    "#If the key does not exist, insert the key, with the specified value\n",
    "dict1 = {'language':'python','course':'Data Science Masters'}\n",
    "dict1.setdefault('topics',['Python','Machine Learning','Deep Learning'])\n",
    "dict1"
   ]
  },
  {
   "cell_type": "code",
   "execution_count": 30,
   "metadata": {},
   "outputs": [
    {
     "name": "stdout",
     "output_type": "stream",
     "text": [
      "dict_keys(['Sport', 'Teams'])\n",
      "dict_values(['Cricket', ['India', 'Australia', 'England', 'South Africa', 'Sri Lanka', 'New Zealand']])\n",
      "dict_items([('Sport', 'Cricket'), ('Teams', ['India', 'Australia', 'England', 'South Africa', 'Sri Lanka', 'New Zealand'])])\n"
     ]
    }
   ],
   "source": [
    "#Ans8:3 view objects in dictionaries\n",
    "dict1 = {'Sport':'Cricket','Teams':['India','Australia','England','South Africa','Sri Lanka','New Zealand']}\n",
    "#keys -> list containing all the dictionary keys\n",
    "print(dict1.keys())\n",
    "#values -> list containing all the dictionary values\n",
    "print(dict1.values())\n",
    "#items -> list with tuples containg keys,values of the dictonary\n",
    "print(dict1.items())"
   ]
  }
 ],
 "metadata": {
  "kernelspec": {
   "display_name": "base",
   "language": "python",
   "name": "python3"
  },
  "language_info": {
   "codemirror_mode": {
    "name": "ipython",
    "version": 3
   },
   "file_extension": ".py",
   "mimetype": "text/x-python",
   "name": "python",
   "nbconvert_exporter": "python",
   "pygments_lexer": "ipython3",
   "version": "3.9.16"
  },
  "orig_nbformat": 4,
  "vscode": {
   "interpreter": {
    "hash": "c370489388e782aa9b6373b0856d4a71cb56f2a887cc53048a8e75b66b592545"
   }
  }
 },
 "nbformat": 4,
 "nbformat_minor": 2
}
