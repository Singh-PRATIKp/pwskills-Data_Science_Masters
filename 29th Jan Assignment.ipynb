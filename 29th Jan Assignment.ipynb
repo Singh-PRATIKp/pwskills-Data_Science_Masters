{
 "cells": [
  {
   "attachments": {},
   "cell_type": "markdown",
   "metadata": {},
   "source": [
    "# 29th Jan Assignments"
   ]
  },
  {
   "attachments": {},
   "cell_type": "markdown",
   "metadata": {},
   "source": [
    "Ans1. Python was developed by Guido van Rossum"
   ]
  },
  {
   "attachments": {},
   "cell_type": "markdown",
   "metadata": {},
   "source": [
    "Ans2. Python is a multi-paradigm programming language. Object-oriented programming and structured programming are fully supported, and many of their features support functional programming and aspect-oriented programming (including metaprogramming and metaobjects)."
   ]
  },
  {
   "attachments": {},
   "cell_type": "markdown",
   "metadata": {},
   "source": [
    "Ans3. Yes python is case sensitive"
   ]
  },
  {
   "attachments": {},
   "cell_type": "markdown",
   "metadata": {},
   "source": [
    "Ans4. Extension of python file is \n",
    ".py.\n",
    ".pyi.\n",
    ".pyc.\n",
    ".pyd.\n",
    ".pyo.\n",
    ".pyw.\n",
    ".pyz.\n",
    "\n",
    "- extension of jupyter notebook is .ipynb"
   ]
  },
  {
   "attachments": {},
   "cell_type": "markdown",
   "metadata": {},
   "source": [
    "Ans5: It is both compiled and interpreted"
   ]
  },
  {
   "attachments": {},
   "cell_type": "markdown",
   "metadata": {},
   "source": [
    "### Ans6. Python follows indentation\n",
    "### def fun_name: \n",
    "###   return\n",
    "\n",
    "### if x in list:\n",
    "### print(x)\n",
    "\n",
    "### print('hello world')\n",
    "\n",
    "### a = 123"
   ]
  },
  {
   "cell_type": "code",
   "execution_count": 2,
   "metadata": {},
   "outputs": [],
   "source": [
    "# Ans7:\n",
    "# hash is the character used to give single line comments in python"
   ]
  },
  {
   "cell_type": "code",
   "execution_count": 3,
   "metadata": {},
   "outputs": [
    {
     "name": "stdout",
     "output_type": "stream",
     "text": [
      "The Current Version of python interpreter is :- 3.9.16 (main, Jan 11 2023, 16:16:36) [MSC v.1916 64 bit (AMD64)]\n"
     ]
    }
   ],
   "source": [
    "#Ans 8:\n",
    "import sys\n",
    "print(\"The Current Version of python interpreter is :-\", sys.version)"
   ]
  },
  {
   "cell_type": "code",
   "execution_count": 5,
   "metadata": {},
   "outputs": [
    {
     "name": "stdout",
     "output_type": "stream",
     "text": [
      "Current Python Version- 3.9.16\n"
     ]
    }
   ],
   "source": [
    "#Ans 8. continued\n",
    "from platform import python_version\n",
    " \n",
    " \n",
    "print(\"Current Python Version-\", python_version())"
   ]
  },
  {
   "attachments": {},
   "cell_type": "markdown",
   "metadata": {},
   "source": [
    "Ans9. Python supports the creation of anonymous functions (i.e. functions that are not bound to a name) at runtime, using a construct called lambda."
   ]
  },
  {
   "attachments": {},
   "cell_type": "markdown",
   "metadata": {},
   "source": [
    "Ans10. Pip is a recursive acronym that can stand for either \"Pip Installs Packages\" or \"Pip Installs Python\". Alternatively, pip stands for \"preferred installer program\""
   ]
  },
  {
   "attachments": {},
   "cell_type": "markdown",
   "metadata": {},
   "source": [
    "Ans11. all(),any(),bin(),len(),range(),min(),max(),abs(),dict(),list(),tuple(),str(),int(),float(),iter()"
   ]
  },
  {
   "attachments": {},
   "cell_type": "markdown",
   "metadata": {},
   "source": [
    "Ans12. 79 characters"
   ]
  },
  {
   "attachments": {},
   "cell_type": "markdown",
   "metadata": {},
   "source": [
    "#### Ans13.\n",
    "Advantages\n",
    "- Presence of third-party modules \n",
    "- Extensive support libraries(NumPy for numerical calculations, Pandas for data analytics, etc.) \n",
    "- Open source and large active community base \n",
    "- Versatile, Easy to read, learn and write\n",
    "- User-friendly data structures \n",
    "- High-level language \n",
    "- Dynamically typed language(No need to mention data type based on the value assigned, it takes data type) \n",
    "- Object-Oriented and Procedural  Programming language\n",
    "- Portable and Interactive\n",
    "- Ideal for prototypes – provide more functionality with less coding\n",
    "- Highly Efficient(Python’s clean object-oriented design provides enhanced process control, and the language is equipped with excellent text - processing and integration capabilities, as well as its own unit testing framework, which makes it more efficient.)\n",
    "- Internet of Things(IoT) Opportunities\n",
    "- Interpreted Language\n",
    "- Portable across Operating systems \n",
    "\n",
    "Applications\n",
    "- GUI-based desktop applications\n",
    "- Graphic design, image processing applications, Games, and Scientific/ computational Applications\n",
    "- Web frameworks and applications \n",
    "- Enterprise and Business applications \n",
    "- Operating Systems \n",
    "- Education\n",
    "- Database Access\n",
    "- Language Development \n",
    "- Prototyping \n",
    "- Software Development\n",
    "- Data Science and Machine Learning\n",
    "- Scripting\n"
   ]
  },
  {
   "attachments": {},
   "cell_type": "markdown",
   "metadata": {},
   "source": [
    "#### Ans14.\n",
    "Memory management in Python involves a private heap containing all Python objects and data structures. The management of this private heap is ensured internally by the Python memory manager."
   ]
  },
  {
   "attachments": {},
   "cell_type": "markdown",
   "metadata": {},
   "source": [
    "#### Ans15.\n",
    "- Install python: \n",
    "1. Open a browser to the Python website and download the Windows installer. \n",
    "2. Double click on the downloaded file and install Python for all users, and ensure that Python is added to your path. \n",
    "3. Click on Install now to begin\n",
    "4. Accept all and click next\n",
    "5. Once the installation is complete close the installer and python is installed\n",
    "\n",
    "- To set path\n",
    "The complete path of python.exe can be added by:\n",
    "1. Right-clicking This PC and going to Properties.\n",
    "2. Clicking on the Advanced system settings in the menu on the left.\n",
    "3. Clicking on the Environment Variables button o​n the bottom right.\n",
    "4. In the System variables section, selecting the Path variable and clicking on Edit. \n",
    "5. The next screen will show all the directories that are currently a part of the PATH variable.\n",
    "6. Clicking on New and entering Python’s install directory."
   ]
  },
  {
   "attachments": {},
   "cell_type": "markdown",
   "metadata": {},
   "source": [
    "#### Ans16.\n",
    "Yes indentation is absolutely required"
   ]
  },
  {
   "cell_type": "markdown",
   "metadata": {},
   "source": []
  }
 ],
 "metadata": {
  "kernelspec": {
   "display_name": "base",
   "language": "python",
   "name": "python3"
  },
  "language_info": {
   "codemirror_mode": {
    "name": "ipython",
    "version": 3
   },
   "file_extension": ".py",
   "mimetype": "text/x-python",
   "name": "python",
   "nbconvert_exporter": "python",
   "pygments_lexer": "ipython3",
   "version": "3.9.16"
  },
  "orig_nbformat": 4,
  "vscode": {
   "interpreter": {
    "hash": "c370489388e782aa9b6373b0856d4a71cb56f2a887cc53048a8e75b66b592545"
   }
  }
 },
 "nbformat": 4,
 "nbformat_minor": 2
}
