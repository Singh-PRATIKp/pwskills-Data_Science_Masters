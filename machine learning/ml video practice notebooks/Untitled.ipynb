{
 "cells": [
  {
   "cell_type": "markdown",
   "id": "87cdd77c",
   "metadata": {},
   "source": [
    "# **`5 number Summary And Box Plot`**"
   ]
  },
  {
   "cell_type": "code",
   "execution_count": 1,
   "id": "4fb6e5b0",
   "metadata": {},
   "outputs": [],
   "source": [
    "## Min,MAx,Median,Q1,Q3,IQR"
   ]
  },
  {
   "cell_type": "code",
   "execution_count": 2,
   "id": "5f1f09d6",
   "metadata": {},
   "outputs": [],
   "source": [
    "import numpy as np\n"
   ]
  },
  {
   "cell_type": "code",
   "execution_count": 3,
   "id": "aa7ce81d",
   "metadata": {},
   "outputs": [],
   "source": [
    "ls_marks=[45,32,56,75,89,54,32,89,90,87,67,54,45,98,99,67,74]\n",
    "minimum, Q1, median, Q3, maximum = np.quantile(ls_marks,[0,0.25,0.50,0.75,1])"
   ]
  },
  {
   "cell_type": "code",
   "execution_count": 4,
   "id": "1345066e",
   "metadata": {},
   "outputs": [
    {
     "data": {
      "text/plain": [
       "(32.0, 54.0, 67.0, 89.0, 99.0)"
      ]
     },
     "execution_count": 4,
     "metadata": {},
     "output_type": "execute_result"
    }
   ],
   "source": [
    "minimum,Q1,median,Q3,maximum"
   ]
  },
  {
   "cell_type": "code",
   "execution_count": 5,
   "id": "f86a0146",
   "metadata": {},
   "outputs": [],
   "source": [
    "IQR = Q3 - Q1"
   ]
  },
  {
   "cell_type": "code",
   "execution_count": 6,
   "id": "907f5c6c",
   "metadata": {},
   "outputs": [
    {
     "data": {
      "text/plain": [
       "35.0"
      ]
     },
     "execution_count": 6,
     "metadata": {},
     "output_type": "execute_result"
    }
   ],
   "source": [
    "IQR"
   ]
  },
  {
   "cell_type": "code",
   "execution_count": 7,
   "id": "b5f444b7",
   "metadata": {},
   "outputs": [],
   "source": [
    "lower_fence = Q1 - 1.5*IQR"
   ]
  },
  {
   "cell_type": "code",
   "execution_count": 8,
   "id": "7eb5034c",
   "metadata": {},
   "outputs": [
    {
     "data": {
      "text/plain": [
       "1.5"
      ]
     },
     "execution_count": 8,
     "metadata": {},
     "output_type": "execute_result"
    }
   ],
   "source": [
    "lower_fence"
   ]
  },
  {
   "cell_type": "code",
   "execution_count": 9,
   "id": "afe9b304",
   "metadata": {},
   "outputs": [],
   "source": [
    "higher_fence = Q3 + 1.5*IQR"
   ]
  },
  {
   "cell_type": "code",
   "execution_count": 10,
   "id": "a5a885e7",
   "metadata": {},
   "outputs": [
    {
     "data": {
      "text/plain": [
       "141.5"
      ]
     },
     "execution_count": 10,
     "metadata": {},
     "output_type": "execute_result"
    }
   ],
   "source": [
    "higher_fence"
   ]
  },
  {
   "cell_type": "code",
   "execution_count": 11,
   "id": "dbb98eac",
   "metadata": {},
   "outputs": [
    {
     "data": {
      "text/plain": [
       "[45, 32, 56, 75, 89, 54, 32, 89, 90, 87, 67, 54, 45, 98, 99, 67, 74]"
      ]
     },
     "execution_count": 11,
     "metadata": {},
     "output_type": "execute_result"
    }
   ],
   "source": [
    "ls_marks"
   ]
  },
  {
   "cell_type": "code",
   "execution_count": 12,
   "id": "0eac817d",
   "metadata": {},
   "outputs": [],
   "source": [
    "import seaborn as sns"
   ]
  },
  {
   "cell_type": "code",
   "execution_count": 15,
   "id": "6b74b809",
   "metadata": {},
   "outputs": [
    {
     "data": {
      "text/plain": [
       "<AxesSubplot: >"
      ]
     },
     "execution_count": 15,
     "metadata": {},
     "output_type": "execute_result"
    },
    {
     "data": {
      "image/png": "[encoded data removed]",
      "text/plain": [
       "<Figure size 640x480 with 1 Axes>"
      ]
     },
     "metadata": {},
     "output_type": "display_data"
    }
   ],
   "source": [
    "sns.boxplot(x=ls_marks)"
   ]
  },
  {
   "cell_type": "code",
   "execution_count": 20,
   "id": "a8eebaf0",
   "metadata": {},
   "outputs": [],
   "source": [
    "ls_marks = [-123,-200,-100,45, 32, 56, 75, 89, 54, 32, 89, 90, 87, 67, 54, 45, 98, 99, 67, 74,150,200,212]"
   ]
  },
  {
   "cell_type": "code",
   "execution_count": 21,
   "id": "d7426788",
   "metadata": {},
   "outputs": [
    {
     "data": {
      "text/plain": [
       "<AxesSubplot: >"
      ]
     },
     "execution_count": 21,
     "metadata": {},
     "output_type": "execute_result"
    },
    {
     "data": {
      "image/png": "[encoded data removed]",
      "text/plain": [
       "<Figure size 640x480 with 1 Axes>"
      ]
     },
     "metadata": {},
     "output_type": "display_data"
    }
   ],
   "source": [
    "sns.boxplot(ls_marks)"
   ]
  }
 ],
 "metadata": {
  "kernelspec": {
   "display_name": "Python 3 (ipykernel)",
   "language": "python",
   "name": "python3"
  },
  "language_info": {
   "codemirror_mode": {
    "name": "ipython",
    "version": 3
   },
   "file_extension": ".py",
   "mimetype": "text/x-python",
   "name": "python",
   "nbconvert_exporter": "python",
   "pygments_lexer": "ipython3",
   "version": "3.9.16"
  }
 },
 "nbformat": 4,
 "nbformat_minor": 5
}
