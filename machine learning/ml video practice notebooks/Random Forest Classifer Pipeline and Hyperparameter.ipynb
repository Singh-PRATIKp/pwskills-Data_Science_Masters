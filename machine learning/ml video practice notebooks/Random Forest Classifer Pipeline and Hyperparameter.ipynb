{
 "cells": [
  {
   "cell_type": "markdown",
   "metadata": {},
   "source": [
    "# **`RANDOM FOREST CLASSIFIER IMPLEMENTATION WITH PIPELINE AND HYPERPARAMETER TUNING`**"
   ]
  },
  {
   "cell_type": "code",
   "execution_count": 113,
   "metadata": {},
   "outputs": [
    {
     "data": {
      "text/html": [
       "<div>\n",
       "<style scoped>\n",
       "    .dataframe tbody tr th:only-of-type {\n",
       "        vertical-align: middle;\n",
       "    }\n",
       "\n",
       "    .dataframe tbody tr th {\n",
       "        vertical-align: top;\n",
       "    }\n",
       "\n",
       "    .dataframe thead th {\n",
       "        text-align: right;\n",
       "    }\n",
       "</style>\n",
       "<table border=\"1\" class=\"dataframe\">\n",
       "  <thead>\n",
       "    <tr style=\"text-align: right;\">\n",
       "      <th></th>\n",
       "      <th>total_bill</th>\n",
       "      <th>tip</th>\n",
       "      <th>sex</th>\n",
       "      <th>smoker</th>\n",
       "      <th>day</th>\n",
       "      <th>time</th>\n",
       "      <th>size</th>\n",
       "    </tr>\n",
       "  </thead>\n",
       "  <tbody>\n",
       "    <tr>\n",
       "      <th>0</th>\n",
       "      <td>16.99</td>\n",
       "      <td>1.01</td>\n",
       "      <td>Female</td>\n",
       "      <td>No</td>\n",
       "      <td>Sun</td>\n",
       "      <td>Dinner</td>\n",
       "      <td>2</td>\n",
       "    </tr>\n",
       "    <tr>\n",
       "      <th>1</th>\n",
       "      <td>10.34</td>\n",
       "      <td>1.66</td>\n",
       "      <td>Male</td>\n",
       "      <td>No</td>\n",
       "      <td>Sun</td>\n",
       "      <td>Dinner</td>\n",
       "      <td>3</td>\n",
       "    </tr>\n",
       "    <tr>\n",
       "      <th>2</th>\n",
       "      <td>21.01</td>\n",
       "      <td>3.50</td>\n",
       "      <td>Male</td>\n",
       "      <td>No</td>\n",
       "      <td>Sun</td>\n",
       "      <td>Dinner</td>\n",
       "      <td>3</td>\n",
       "    </tr>\n",
       "    <tr>\n",
       "      <th>3</th>\n",
       "      <td>23.68</td>\n",
       "      <td>3.31</td>\n",
       "      <td>Male</td>\n",
       "      <td>No</td>\n",
       "      <td>Sun</td>\n",
       "      <td>Dinner</td>\n",
       "      <td>2</td>\n",
       "    </tr>\n",
       "    <tr>\n",
       "      <th>4</th>\n",
       "      <td>24.59</td>\n",
       "      <td>3.61</td>\n",
       "      <td>Female</td>\n",
       "      <td>No</td>\n",
       "      <td>Sun</td>\n",
       "      <td>Dinner</td>\n",
       "      <td>4</td>\n",
       "    </tr>\n",
       "  </tbody>\n",
       "</table>\n",
       "</div>"
      ],
      "text/plain": [
       "   total_bill   tip     sex smoker  day    time  size\n",
       "0       16.99  1.01  Female     No  Sun  Dinner     2\n",
       "1       10.34  1.66    Male     No  Sun  Dinner     3\n",
       "2       21.01  3.50    Male     No  Sun  Dinner     3\n",
       "3       23.68  3.31    Male     No  Sun  Dinner     2\n",
       "4       24.59  3.61  Female     No  Sun  Dinner     4"
      ]
     },
     "execution_count": 113,
     "metadata": {},
     "output_type": "execute_result"
    }
   ],
   "source": [
    "import seaborn as sns\n",
    "df = sns.load_dataset(\"tips\")\n",
    "df.head()"
   ]
  },
  {
   "cell_type": "code",
   "execution_count": 114,
   "metadata": {},
   "outputs": [
    {
     "data": {
      "text/plain": [
       "['Dinner', 'Lunch']\n",
       "Categories (2, object): ['Lunch', 'Dinner']"
      ]
     },
     "execution_count": 114,
     "metadata": {},
     "output_type": "execute_result"
    }
   ],
   "source": [
    "df[\"time\"].unique()"
   ]
  },
  {
   "cell_type": "code",
   "execution_count": 115,
   "metadata": {},
   "outputs": [
    {
     "data": {
      "text/html": [
       "<div>\n",
       "<style scoped>\n",
       "    .dataframe tbody tr th:only-of-type {\n",
       "        vertical-align: middle;\n",
       "    }\n",
       "\n",
       "    .dataframe tbody tr th {\n",
       "        vertical-align: top;\n",
       "    }\n",
       "\n",
       "    .dataframe thead th {\n",
       "        text-align: right;\n",
       "    }\n",
       "</style>\n",
       "<table border=\"1\" class=\"dataframe\">\n",
       "  <thead>\n",
       "    <tr style=\"text-align: right;\">\n",
       "      <th></th>\n",
       "      <th>total_bill</th>\n",
       "      <th>tip</th>\n",
       "      <th>sex</th>\n",
       "      <th>smoker</th>\n",
       "      <th>day</th>\n",
       "      <th>time</th>\n",
       "      <th>size</th>\n",
       "    </tr>\n",
       "  </thead>\n",
       "  <tbody>\n",
       "    <tr>\n",
       "      <th>0</th>\n",
       "      <td>16.99</td>\n",
       "      <td>1.01</td>\n",
       "      <td>Female</td>\n",
       "      <td>No</td>\n",
       "      <td>Sun</td>\n",
       "      <td>Dinner</td>\n",
       "      <td>2</td>\n",
       "    </tr>\n",
       "    <tr>\n",
       "      <th>1</th>\n",
       "      <td>10.34</td>\n",
       "      <td>1.66</td>\n",
       "      <td>Male</td>\n",
       "      <td>No</td>\n",
       "      <td>Sun</td>\n",
       "      <td>Dinner</td>\n",
       "      <td>3</td>\n",
       "    </tr>\n",
       "    <tr>\n",
       "      <th>2</th>\n",
       "      <td>21.01</td>\n",
       "      <td>3.50</td>\n",
       "      <td>Male</td>\n",
       "      <td>No</td>\n",
       "      <td>Sun</td>\n",
       "      <td>Dinner</td>\n",
       "      <td>3</td>\n",
       "    </tr>\n",
       "    <tr>\n",
       "      <th>3</th>\n",
       "      <td>23.68</td>\n",
       "      <td>3.31</td>\n",
       "      <td>Male</td>\n",
       "      <td>No</td>\n",
       "      <td>Sun</td>\n",
       "      <td>Dinner</td>\n",
       "      <td>2</td>\n",
       "    </tr>\n",
       "    <tr>\n",
       "      <th>4</th>\n",
       "      <td>24.59</td>\n",
       "      <td>3.61</td>\n",
       "      <td>Female</td>\n",
       "      <td>No</td>\n",
       "      <td>Sun</td>\n",
       "      <td>Dinner</td>\n",
       "      <td>4</td>\n",
       "    </tr>\n",
       "  </tbody>\n",
       "</table>\n",
       "</div>"
      ],
      "text/plain": [
       "   total_bill   tip     sex smoker  day    time  size\n",
       "0       16.99  1.01  Female     No  Sun  Dinner     2\n",
       "1       10.34  1.66    Male     No  Sun  Dinner     3\n",
       "2       21.01  3.50    Male     No  Sun  Dinner     3\n",
       "3       23.68  3.31    Male     No  Sun  Dinner     2\n",
       "4       24.59  3.61  Female     No  Sun  Dinner     4"
      ]
     },
     "execution_count": 115,
     "metadata": {},
     "output_type": "execute_result"
    }
   ],
   "source": [
    "df.head()"
   ]
  },
  {
   "cell_type": "code",
   "execution_count": 116,
   "metadata": {},
   "outputs": [],
   "source": [
    "## handling missing values\n",
    "## handling categorical features\n",
    "## handling outliers not required here in this dataset\n",
    "## Feature scaling\n",
    "## Automating the entire process"
   ]
  },
  {
   "cell_type": "code",
   "execution_count": 117,
   "metadata": {},
   "outputs": [
    {
     "name": "stdout",
     "output_type": "stream",
     "text": [
      "<class 'pandas.core.frame.DataFrame'>\n",
      "RangeIndex: 244 entries, 0 to 243\n",
      "Data columns (total 7 columns):\n",
      " #   Column      Non-Null Count  Dtype   \n",
      "---  ------      --------------  -----   \n",
      " 0   total_bill  244 non-null    float64 \n",
      " 1   tip         244 non-null    float64 \n",
      " 2   sex         244 non-null    category\n",
      " 3   smoker      244 non-null    category\n",
      " 4   day         244 non-null    category\n",
      " 5   time        244 non-null    category\n",
      " 6   size        244 non-null    int64   \n",
      "dtypes: category(4), float64(2), int64(1)\n",
      "memory usage: 7.4 KB\n"
     ]
    }
   ],
   "source": [
    "df.info()"
   ]
  },
  {
   "cell_type": "code",
   "execution_count": 118,
   "metadata": {},
   "outputs": [],
   "source": [
    "from sklearn.preprocessing import LabelEncoder\n",
    "encoder = LabelEncoder()"
   ]
  },
  {
   "cell_type": "code",
   "execution_count": 119,
   "metadata": {},
   "outputs": [],
   "source": [
    "df[\"time\"] = encoder.fit_transform(df[\"time\"])"
   ]
  },
  {
   "cell_type": "code",
   "execution_count": 120,
   "metadata": {},
   "outputs": [
    {
     "data": {
      "text/plain": [
       "0    176\n",
       "1     68\n",
       "Name: time, dtype: int64"
      ]
     },
     "execution_count": 120,
     "metadata": {},
     "output_type": "execute_result"
    }
   ],
   "source": [
    "df.time.value_counts()"
   ]
  },
  {
   "cell_type": "code",
   "execution_count": 121,
   "metadata": {},
   "outputs": [],
   "source": [
    "## independent and dependent features\n",
    "X = df.drop(\"time\",axis=1)\n",
    "y = df[\"time\"]"
   ]
  },
  {
   "cell_type": "code",
   "execution_count": 122,
   "metadata": {},
   "outputs": [
    {
     "data": {
      "text/html": [
       "<div>\n",
       "<style scoped>\n",
       "    .dataframe tbody tr th:only-of-type {\n",
       "        vertical-align: middle;\n",
       "    }\n",
       "\n",
       "    .dataframe tbody tr th {\n",
       "        vertical-align: top;\n",
       "    }\n",
       "\n",
       "    .dataframe thead th {\n",
       "        text-align: right;\n",
       "    }\n",
       "</style>\n",
       "<table border=\"1\" class=\"dataframe\">\n",
       "  <thead>\n",
       "    <tr style=\"text-align: right;\">\n",
       "      <th></th>\n",
       "      <th>total_bill</th>\n",
       "      <th>tip</th>\n",
       "      <th>sex</th>\n",
       "      <th>smoker</th>\n",
       "      <th>day</th>\n",
       "      <th>size</th>\n",
       "    </tr>\n",
       "  </thead>\n",
       "  <tbody>\n",
       "    <tr>\n",
       "      <th>0</th>\n",
       "      <td>16.99</td>\n",
       "      <td>1.01</td>\n",
       "      <td>Female</td>\n",
       "      <td>No</td>\n",
       "      <td>Sun</td>\n",
       "      <td>2</td>\n",
       "    </tr>\n",
       "    <tr>\n",
       "      <th>1</th>\n",
       "      <td>10.34</td>\n",
       "      <td>1.66</td>\n",
       "      <td>Male</td>\n",
       "      <td>No</td>\n",
       "      <td>Sun</td>\n",
       "      <td>3</td>\n",
       "    </tr>\n",
       "    <tr>\n",
       "      <th>2</th>\n",
       "      <td>21.01</td>\n",
       "      <td>3.50</td>\n",
       "      <td>Male</td>\n",
       "      <td>No</td>\n",
       "      <td>Sun</td>\n",
       "      <td>3</td>\n",
       "    </tr>\n",
       "    <tr>\n",
       "      <th>3</th>\n",
       "      <td>23.68</td>\n",
       "      <td>3.31</td>\n",
       "      <td>Male</td>\n",
       "      <td>No</td>\n",
       "      <td>Sun</td>\n",
       "      <td>2</td>\n",
       "    </tr>\n",
       "    <tr>\n",
       "      <th>4</th>\n",
       "      <td>24.59</td>\n",
       "      <td>3.61</td>\n",
       "      <td>Female</td>\n",
       "      <td>No</td>\n",
       "      <td>Sun</td>\n",
       "      <td>4</td>\n",
       "    </tr>\n",
       "  </tbody>\n",
       "</table>\n",
       "</div>"
      ],
      "text/plain": [
       "   total_bill   tip     sex smoker  day  size\n",
       "0       16.99  1.01  Female     No  Sun     2\n",
       "1       10.34  1.66    Male     No  Sun     3\n",
       "2       21.01  3.50    Male     No  Sun     3\n",
       "3       23.68  3.31    Male     No  Sun     2\n",
       "4       24.59  3.61  Female     No  Sun     4"
      ]
     },
     "execution_count": 122,
     "metadata": {},
     "output_type": "execute_result"
    }
   ],
   "source": [
    "X.head()"
   ]
  },
  {
   "cell_type": "code",
   "execution_count": 123,
   "metadata": {},
   "outputs": [],
   "source": [
    "from sklearn.model_selection import train_test_split\n",
    "X_train , X_test , y_train , y_test  = train_test_split(X , y , test_size= .2 , random_state= 42)"
   ]
  },
  {
   "cell_type": "code",
   "execution_count": 124,
   "metadata": {},
   "outputs": [
    {
     "data": {
      "text/plain": [
       "((195, 6), (49, 6))"
      ]
     },
     "execution_count": 124,
     "metadata": {},
     "output_type": "execute_result"
    }
   ],
   "source": [
    "X_train.shape , X_test.shape"
   ]
  },
  {
   "cell_type": "code",
   "execution_count": 125,
   "metadata": {},
   "outputs": [],
   "source": [
    "from sklearn.impute import SimpleImputer ## handling missing values\n",
    "from sklearn.preprocessing import OneHotEncoder## handling categorical features\n",
    "## handling outliers not required here in this dataset\n",
    "from sklearn.preprocessing import StandardScaler## Feature scaling\n",
    "from sklearn.pipeline import Pipeline\n",
    "from sklearn.compose import ColumnTransformer\n",
    "## Automating the entire process"
   ]
  },
  {
   "cell_type": "code",
   "execution_count": 126,
   "metadata": {},
   "outputs": [],
   "source": [
    "categorical_cols = []\n",
    "numerical_cols = []\n",
    "for i in df.columns:\n",
    "    if df[i].dtype == \"category\":\n",
    "        categorical_cols.append(i)\n",
    "    elif i == \"time\":\n",
    "            continue\n",
    "    else:\n",
    "        numerical_cols.append(i)\n"
   ]
  },
  {
   "cell_type": "code",
   "execution_count": 127,
   "metadata": {},
   "outputs": [],
   "source": [
    "## Feature Engineering Automation\n",
    "num_pipeline = Pipeline(\n",
    "    steps= [\n",
    "    (\"imputer\", SimpleImputer(strategy=\"median\")), ## missing values\n",
    "    (\"scaler\", StandardScaler()), ## feature scaling\n",
    "\n",
    "    ]\n",
    ")\n",
    "cat_pipeline = Pipeline(\n",
    "    steps= [\n",
    "    (\"imputer\", SimpleImputer(strategy=\"most_frequent\")), ## handling  missing values\n",
    "    (\"onehotencoder\",OneHotEncoder()), ## Categrorical features to numerical\n",
    "    ]\n",
    ")\n",
    "\n"
   ]
  },
  {
   "cell_type": "code",
   "execution_count": 128,
   "metadata": {},
   "outputs": [],
   "source": [
    "preprocessor = ColumnTransformer([\n",
    "    (\"num_pipeline\",num_pipeline,numerical_cols),\n",
    "    (\"cat_pipeline\",cat_pipeline,categorical_cols)\n",
    "])"
   ]
  },
  {
   "cell_type": "code",
   "execution_count": 129,
   "metadata": {},
   "outputs": [],
   "source": [
    "X_train = preprocessor.fit_transform(X_train)\n",
    "X_test = preprocessor.transform(X_test)"
   ]
  },
  {
   "cell_type": "code",
   "execution_count": 130,
   "metadata": {},
   "outputs": [],
   "source": [
    "from sklearn.ensemble import RandomForestClassifier\n",
    "from sklearn.tree import DecisionTreeClassifier\n",
    "from sklearn.svm import SVC"
   ]
  },
  {
   "cell_type": "code",
   "execution_count": 131,
   "metadata": {},
   "outputs": [],
   "source": [
    "## Automate my model training process\n",
    "models = {\n",
    "    \"Random Forest\" : RandomForestClassifier(),\n",
    "    \"Decision Tree\" : DecisionTreeClassifier(),\n",
    "    \"SVC\" : SVC()\n",
    "}"
   ]
  },
  {
   "cell_type": "code",
   "execution_count": 132,
   "metadata": {},
   "outputs": [],
   "source": [
    "from sklearn.metrics import accuracy_score"
   ]
  },
  {
   "cell_type": "code",
   "execution_count": 133,
   "metadata": {},
   "outputs": [],
   "source": [
    "def evaluate_model(X_train,y_train,X_test,y_test,models):\n",
    "\n",
    "    report = {}\n",
    "    for i in range(len(models)):\n",
    "        model = list(models.values())[i]\n",
    "        #train model\n",
    "        model.fit(X_train,y_train)\n",
    "\n",
    "        #Predict Testing data\n",
    "        y_test_pred = model.predict(X_test)\n",
    "\n",
    "        #Get accuracy for test data prediction\n",
    "\n",
    "        test_model_score = accuracy_score(y_test,y_test_pred)\n",
    "\n",
    "        report[list(models.keys())[i]] = test_model_score\n",
    "    \n",
    "    return report\n"
   ]
  },
  {
   "cell_type": "code",
   "execution_count": 134,
   "metadata": {},
   "outputs": [
    {
     "data": {
      "text/plain": [
       "{'Random Forest': 0.9591836734693877,\n",
       " 'Decision Tree': 0.9387755102040817,\n",
       " 'SVC': 0.9591836734693877}"
      ]
     },
     "execution_count": 134,
     "metadata": {},
     "output_type": "execute_result"
    }
   ],
   "source": [
    "evaluate_model(X_train,y_train,X_test,y_test,models)"
   ]
  },
  {
   "cell_type": "code",
   "execution_count": 135,
   "metadata": {},
   "outputs": [],
   "source": [
    "classifer = RandomForestClassifier()"
   ]
  },
  {
   "cell_type": "code",
   "execution_count": 136,
   "metadata": {},
   "outputs": [],
   "source": [
    "## Hyperparameter tuning\n",
    "params = {\n",
    "    \"max_depth\" : [3,5,10,None],\n",
    "    \"n_estimators\" : [100,200,300],\n",
    "    \"criterion\" : [\"gini\" , \"entropy\"]\n",
    "}"
   ]
  },
  {
   "cell_type": "code",
   "execution_count": 137,
   "metadata": {},
   "outputs": [],
   "source": [
    "from sklearn.model_selection import RandomizedSearchCV"
   ]
  },
  {
   "cell_type": "code",
   "execution_count": 138,
   "metadata": {},
   "outputs": [],
   "source": [
    "cv = RandomizedSearchCV(classifer,param_distributions=params,cv=5,scoring=\"accuracy\",verbose=3)"
   ]
  },
  {
   "cell_type": "code",
   "execution_count": 139,
   "metadata": {},
   "outputs": [
    {
     "name": "stdout",
     "output_type": "stream",
     "text": [
      "Fitting 5 folds for each of 10 candidates, totalling 50 fits\n",
      "[CV 1/5] END criterion=entropy, max_depth=10, n_estimators=200;, score=0.974 total time=   0.3s\n",
      "[CV 2/5] END criterion=entropy, max_depth=10, n_estimators=200;, score=0.923 total time=   0.2s\n",
      "[CV 3/5] END criterion=entropy, max_depth=10, n_estimators=200;, score=1.000 total time=   0.2s\n",
      "[CV 4/5] END criterion=entropy, max_depth=10, n_estimators=200;, score=0.949 total time=   0.2s\n",
      "[CV 5/5] END criterion=entropy, max_depth=10, n_estimators=200;, score=0.923 total time=   0.2s\n",
      "[CV 1/5] END criterion=entropy, max_depth=5, n_estimators=100;, score=0.974 total time=   0.1s\n",
      "[CV 2/5] END criterion=entropy, max_depth=5, n_estimators=100;, score=0.923 total time=   0.1s\n",
      "[CV 3/5] END criterion=entropy, max_depth=5, n_estimators=100;, score=1.000 total time=   0.0s\n",
      "[CV 4/5] END criterion=entropy, max_depth=5, n_estimators=100;, score=0.949 total time=   0.1s\n",
      "[CV 5/5] END criterion=entropy, max_depth=5, n_estimators=100;, score=0.923 total time=   0.1s\n",
      "[CV 1/5] END criterion=entropy, max_depth=None, n_estimators=200;, score=0.974 total time=   0.2s\n",
      "[CV 2/5] END criterion=entropy, max_depth=None, n_estimators=200;, score=0.923 total time=   0.2s\n",
      "[CV 3/5] END criterion=entropy, max_depth=None, n_estimators=200;, score=1.000 total time=   0.2s\n",
      "[CV 4/5] END criterion=entropy, max_depth=None, n_estimators=200;, score=0.949 total time=   0.2s\n",
      "[CV 5/5] END criterion=entropy, max_depth=None, n_estimators=200;, score=0.923 total time=   0.2s\n",
      "[CV 1/5] END criterion=gini, max_depth=None, n_estimators=200;, score=0.974 total time=   0.2s\n",
      "[CV 2/5] END criterion=gini, max_depth=None, n_estimators=200;, score=0.923 total time=   0.2s\n",
      "[CV 3/5] END criterion=gini, max_depth=None, n_estimators=200;, score=1.000 total time=   0.2s\n",
      "[CV 4/5] END criterion=gini, max_depth=None, n_estimators=200;, score=0.949 total time=   0.2s\n",
      "[CV 5/5] END criterion=gini, max_depth=None, n_estimators=200;, score=0.923 total time=   0.2s\n",
      "[CV 1/5] END criterion=entropy, max_depth=3, n_estimators=100;, score=0.974 total time=   0.0s\n",
      "[CV 2/5] END criterion=entropy, max_depth=3, n_estimators=100;, score=0.949 total time=   0.1s\n",
      "[CV 3/5] END criterion=entropy, max_depth=3, n_estimators=100;, score=0.974 total time=   0.0s\n",
      "[CV 4/5] END criterion=entropy, max_depth=3, n_estimators=100;, score=0.923 total time=   0.1s\n",
      "[CV 5/5] END criterion=entropy, max_depth=3, n_estimators=100;, score=0.923 total time=   0.1s\n",
      "[CV 1/5] END criterion=entropy, max_depth=None, n_estimators=300;, score=0.974 total time=   0.4s\n",
      "[CV 2/5] END criterion=entropy, max_depth=None, n_estimators=300;, score=0.923 total time=   0.4s\n",
      "[CV 3/5] END criterion=entropy, max_depth=None, n_estimators=300;, score=1.000 total time=   0.4s\n",
      "[CV 4/5] END criterion=entropy, max_depth=None, n_estimators=300;, score=0.949 total time=   0.4s\n",
      "[CV 5/5] END criterion=entropy, max_depth=None, n_estimators=300;, score=0.923 total time=   0.4s\n",
      "[CV 1/5] END criterion=gini, max_depth=None, n_estimators=100;, score=0.974 total time=   0.1s\n",
      "[CV 2/5] END criterion=gini, max_depth=None, n_estimators=100;, score=0.923 total time=   0.1s\n",
      "[CV 3/5] END criterion=gini, max_depth=None, n_estimators=100;, score=1.000 total time=   0.1s\n",
      "[CV 4/5] END criterion=gini, max_depth=None, n_estimators=100;, score=0.923 total time=   0.1s\n",
      "[CV 5/5] END criterion=gini, max_depth=None, n_estimators=100;, score=0.923 total time=   0.1s\n",
      "[CV 1/5] END criterion=entropy, max_depth=5, n_estimators=200;, score=0.974 total time=   0.2s\n",
      "[CV 2/5] END criterion=entropy, max_depth=5, n_estimators=200;, score=0.923 total time=   0.2s\n",
      "[CV 3/5] END criterion=entropy, max_depth=5, n_estimators=200;, score=0.974 total time=   0.2s\n",
      "[CV 4/5] END criterion=entropy, max_depth=5, n_estimators=200;, score=0.923 total time=   0.2s\n",
      "[CV 5/5] END criterion=entropy, max_depth=5, n_estimators=200;, score=0.923 total time=   0.2s\n",
      "[CV 1/5] END criterion=gini, max_depth=10, n_estimators=200;, score=0.974 total time=   0.2s\n",
      "[CV 2/5] END criterion=gini, max_depth=10, n_estimators=200;, score=0.923 total time=   0.2s\n",
      "[CV 3/5] END criterion=gini, max_depth=10, n_estimators=200;, score=1.000 total time=   0.2s\n",
      "[CV 4/5] END criterion=gini, max_depth=10, n_estimators=200;, score=0.923 total time=   0.2s\n",
      "[CV 5/5] END criterion=gini, max_depth=10, n_estimators=200;, score=0.923 total time=   0.2s\n",
      "[CV 1/5] END criterion=gini, max_depth=5, n_estimators=300;, score=0.974 total time=   0.4s\n",
      "[CV 2/5] END criterion=gini, max_depth=5, n_estimators=300;, score=0.923 total time=   0.3s\n",
      "[CV 3/5] END criterion=gini, max_depth=5, n_estimators=300;, score=0.974 total time=   0.4s\n",
      "[CV 4/5] END criterion=gini, max_depth=5, n_estimators=300;, score=0.923 total time=   0.4s\n",
      "[CV 5/5] END criterion=gini, max_depth=5, n_estimators=300;, score=0.949 total time=   0.4s\n"
     ]
    },
    {
     "data": {
      "text/html": [
       "<style>#sk-container-id-2 {color: black;background-color: white;}#sk-container-id-2 pre{padding: 0;}#sk-container-id-2 div.sk-toggleable {background-color: white;}#sk-container-id-2 label.sk-toggleable__label {cursor: pointer;display: block;width: 100%;margin-bottom: 0;padding: 0.3em;box-sizing: border-box;text-align: center;}#sk-container-id-2 label.sk-toggleable__label-arrow:before {content: \"▸\";float: left;margin-right: 0.25em;color: #696969;}#sk-container-id-2 label.sk-toggleable__label-arrow:hover:before {color: black;}#sk-container-id-2 div.sk-estimator:hover label.sk-toggleable__label-arrow:before {color: black;}#sk-container-id-2 div.sk-toggleable__content {max-height: 0;max-width: 0;overflow: hidden;text-align: left;background-color: #f0f8ff;}#sk-container-id-2 div.sk-toggleable__content pre {margin: 0.2em;color: black;border-radius: 0.25em;background-color: #f0f8ff;}#sk-container-id-2 input.sk-toggleable__control:checked~div.sk-toggleable__content {max-height: 200px;max-width: 100%;overflow: auto;}#sk-container-id-2 input.sk-toggleable__control:checked~label.sk-toggleable__label-arrow:before {content: \"▾\";}#sk-container-id-2 div.sk-estimator input.sk-toggleable__control:checked~label.sk-toggleable__label {background-color: #d4ebff;}#sk-container-id-2 div.sk-label input.sk-toggleable__control:checked~label.sk-toggleable__label {background-color: #d4ebff;}#sk-container-id-2 input.sk-hidden--visually {border: 0;clip: rect(1px 1px 1px 1px);clip: rect(1px, 1px, 1px, 1px);height: 1px;margin: -1px;overflow: hidden;padding: 0;position: absolute;width: 1px;}#sk-container-id-2 div.sk-estimator {font-family: monospace;background-color: #f0f8ff;border: 1px dotted black;border-radius: 0.25em;box-sizing: border-box;margin-bottom: 0.5em;}#sk-container-id-2 div.sk-estimator:hover {background-color: #d4ebff;}#sk-container-id-2 div.sk-parallel-item::after {content: \"\";width: 100%;border-bottom: 1px solid gray;flex-grow: 1;}#sk-container-id-2 div.sk-label:hover label.sk-toggleable__label {background-color: #d4ebff;}#sk-container-id-2 div.sk-serial::before {content: \"\";position: absolute;border-left: 1px solid gray;box-sizing: border-box;top: 0;bottom: 0;left: 50%;z-index: 0;}#sk-container-id-2 div.sk-serial {display: flex;flex-direction: column;align-items: center;background-color: white;padding-right: 0.2em;padding-left: 0.2em;position: relative;}#sk-container-id-2 div.sk-item {position: relative;z-index: 1;}#sk-container-id-2 div.sk-parallel {display: flex;align-items: stretch;justify-content: center;background-color: white;position: relative;}#sk-container-id-2 div.sk-item::before, #sk-container-id-2 div.sk-parallel-item::before {content: \"\";position: absolute;border-left: 1px solid gray;box-sizing: border-box;top: 0;bottom: 0;left: 50%;z-index: -1;}#sk-container-id-2 div.sk-parallel-item {display: flex;flex-direction: column;z-index: 1;position: relative;background-color: white;}#sk-container-id-2 div.sk-parallel-item:first-child::after {align-self: flex-end;width: 50%;}#sk-container-id-2 div.sk-parallel-item:last-child::after {align-self: flex-start;width: 50%;}#sk-container-id-2 div.sk-parallel-item:only-child::after {width: 0;}#sk-container-id-2 div.sk-dashed-wrapped {border: 1px dashed gray;margin: 0 0.4em 0.5em 0.4em;box-sizing: border-box;padding-bottom: 0.4em;background-color: white;}#sk-container-id-2 div.sk-label label {font-family: monospace;font-weight: bold;display: inline-block;line-height: 1.2em;}#sk-container-id-2 div.sk-label-container {text-align: center;}#sk-container-id-2 div.sk-container {/* jupyter's `normalize.less` sets `[hidden] { display: none; }` but bootstrap.min.css set `[hidden] { display: none !important; }` so we also need the `!important` here to be able to override the default hidden behavior on the sphinx rendered scikit-learn.org. See: https://github.com/scikit-learn/scikit-learn/issues/21755 */display: inline-block !important;position: relative;}#sk-container-id-2 div.sk-text-repr-fallback {display: none;}</style><div id=\"sk-container-id-2\" class=\"sk-top-container\"><div class=\"sk-text-repr-fallback\"><pre>RandomizedSearchCV(cv=5, estimator=RandomForestClassifier(),\n",
       "                   param_distributions={&#x27;criterion&#x27;: [&#x27;gini&#x27;, &#x27;entropy&#x27;],\n",
       "                                        &#x27;max_depth&#x27;: [3, 5, 10, None],\n",
       "                                        &#x27;n_estimators&#x27;: [100, 200, 300]},\n",
       "                   scoring=&#x27;accuracy&#x27;, verbose=3)</pre><b>In a Jupyter environment, please rerun this cell to show the HTML representation or trust the notebook. <br />On GitHub, the HTML representation is unable to render, please try loading this page with nbviewer.org.</b></div><div class=\"sk-container\" hidden><div class=\"sk-item sk-dashed-wrapped\"><div class=\"sk-label-container\"><div class=\"sk-label sk-toggleable\"><input class=\"sk-toggleable__control sk-hidden--visually\" id=\"sk-estimator-id-4\" type=\"checkbox\" ><label for=\"sk-estimator-id-4\" class=\"sk-toggleable__label sk-toggleable__label-arrow\">RandomizedSearchCV</label><div class=\"sk-toggleable__content\"><pre>RandomizedSearchCV(cv=5, estimator=RandomForestClassifier(),\n",
       "                   param_distributions={&#x27;criterion&#x27;: [&#x27;gini&#x27;, &#x27;entropy&#x27;],\n",
       "                                        &#x27;max_depth&#x27;: [3, 5, 10, None],\n",
       "                                        &#x27;n_estimators&#x27;: [100, 200, 300]},\n",
       "                   scoring=&#x27;accuracy&#x27;, verbose=3)</pre></div></div></div><div class=\"sk-parallel\"><div class=\"sk-parallel-item\"><div class=\"sk-item\"><div class=\"sk-label-container\"><div class=\"sk-label sk-toggleable\"><input class=\"sk-toggleable__control sk-hidden--visually\" id=\"sk-estimator-id-5\" type=\"checkbox\" ><label for=\"sk-estimator-id-5\" class=\"sk-toggleable__label sk-toggleable__label-arrow\">estimator: RandomForestClassifier</label><div class=\"sk-toggleable__content\"><pre>RandomForestClassifier()</pre></div></div></div><div class=\"sk-serial\"><div class=\"sk-item\"><div class=\"sk-estimator sk-toggleable\"><input class=\"sk-toggleable__control sk-hidden--visually\" id=\"sk-estimator-id-6\" type=\"checkbox\" ><label for=\"sk-estimator-id-6\" class=\"sk-toggleable__label sk-toggleable__label-arrow\">RandomForestClassifier</label><div class=\"sk-toggleable__content\"><pre>RandomForestClassifier()</pre></div></div></div></div></div></div></div></div></div></div>"
      ],
      "text/plain": [
       "RandomizedSearchCV(cv=5, estimator=RandomForestClassifier(),\n",
       "                   param_distributions={'criterion': ['gini', 'entropy'],\n",
       "                                        'max_depth': [3, 5, 10, None],\n",
       "                                        'n_estimators': [100, 200, 300]},\n",
       "                   scoring='accuracy', verbose=3)"
      ]
     },
     "execution_count": 139,
     "metadata": {},
     "output_type": "execute_result"
    }
   ],
   "source": [
    "cv.fit(X_train,y_train)"
   ]
  },
  {
   "cell_type": "code",
   "execution_count": 140,
   "metadata": {},
   "outputs": [],
   "source": [
    "# Internal Assignment \n",
    "# Decision Regression"
   ]
  },
  {
   "cell_type": "markdown",
   "metadata": {},
   "source": [
    "# **`RANDOM FOREST REGRESSOR WITH PIPELINE AND HYPERPARAMETER TUNING`**"
   ]
  },
  {
   "cell_type": "code",
   "execution_count": 141,
   "metadata": {},
   "outputs": [],
   "source": [
    "## Prediciting tip from tips dataset\n",
    "import seaborn as sns\n",
    "df = sns.load_dataset(\"tips\")"
   ]
  },
  {
   "cell_type": "code",
   "execution_count": 142,
   "metadata": {},
   "outputs": [
    {
     "data": {
      "text/html": [
       "<div>\n",
       "<style scoped>\n",
       "    .dataframe tbody tr th:only-of-type {\n",
       "        vertical-align: middle;\n",
       "    }\n",
       "\n",
       "    .dataframe tbody tr th {\n",
       "        vertical-align: top;\n",
       "    }\n",
       "\n",
       "    .dataframe thead th {\n",
       "        text-align: right;\n",
       "    }\n",
       "</style>\n",
       "<table border=\"1\" class=\"dataframe\">\n",
       "  <thead>\n",
       "    <tr style=\"text-align: right;\">\n",
       "      <th></th>\n",
       "      <th>total_bill</th>\n",
       "      <th>tip</th>\n",
       "      <th>sex</th>\n",
       "      <th>smoker</th>\n",
       "      <th>day</th>\n",
       "      <th>time</th>\n",
       "      <th>size</th>\n",
       "    </tr>\n",
       "  </thead>\n",
       "  <tbody>\n",
       "    <tr>\n",
       "      <th>0</th>\n",
       "      <td>16.99</td>\n",
       "      <td>1.01</td>\n",
       "      <td>Female</td>\n",
       "      <td>No</td>\n",
       "      <td>Sun</td>\n",
       "      <td>Dinner</td>\n",
       "      <td>2</td>\n",
       "    </tr>\n",
       "    <tr>\n",
       "      <th>1</th>\n",
       "      <td>10.34</td>\n",
       "      <td>1.66</td>\n",
       "      <td>Male</td>\n",
       "      <td>No</td>\n",
       "      <td>Sun</td>\n",
       "      <td>Dinner</td>\n",
       "      <td>3</td>\n",
       "    </tr>\n",
       "    <tr>\n",
       "      <th>2</th>\n",
       "      <td>21.01</td>\n",
       "      <td>3.50</td>\n",
       "      <td>Male</td>\n",
       "      <td>No</td>\n",
       "      <td>Sun</td>\n",
       "      <td>Dinner</td>\n",
       "      <td>3</td>\n",
       "    </tr>\n",
       "    <tr>\n",
       "      <th>3</th>\n",
       "      <td>23.68</td>\n",
       "      <td>3.31</td>\n",
       "      <td>Male</td>\n",
       "      <td>No</td>\n",
       "      <td>Sun</td>\n",
       "      <td>Dinner</td>\n",
       "      <td>2</td>\n",
       "    </tr>\n",
       "    <tr>\n",
       "      <th>4</th>\n",
       "      <td>24.59</td>\n",
       "      <td>3.61</td>\n",
       "      <td>Female</td>\n",
       "      <td>No</td>\n",
       "      <td>Sun</td>\n",
       "      <td>Dinner</td>\n",
       "      <td>4</td>\n",
       "    </tr>\n",
       "  </tbody>\n",
       "</table>\n",
       "</div>"
      ],
      "text/plain": [
       "   total_bill   tip     sex smoker  day    time  size\n",
       "0       16.99  1.01  Female     No  Sun  Dinner     2\n",
       "1       10.34  1.66    Male     No  Sun  Dinner     3\n",
       "2       21.01  3.50    Male     No  Sun  Dinner     3\n",
       "3       23.68  3.31    Male     No  Sun  Dinner     2\n",
       "4       24.59  3.61  Female     No  Sun  Dinner     4"
      ]
     },
     "execution_count": 142,
     "metadata": {},
     "output_type": "execute_result"
    }
   ],
   "source": [
    "df.head()"
   ]
  },
  {
   "cell_type": "code",
   "execution_count": 143,
   "metadata": {},
   "outputs": [
    {
     "name": "stdout",
     "output_type": "stream",
     "text": [
      "<class 'pandas.core.frame.DataFrame'>\n",
      "RangeIndex: 244 entries, 0 to 243\n",
      "Data columns (total 7 columns):\n",
      " #   Column      Non-Null Count  Dtype   \n",
      "---  ------      --------------  -----   \n",
      " 0   total_bill  244 non-null    float64 \n",
      " 1   tip         244 non-null    float64 \n",
      " 2   sex         244 non-null    category\n",
      " 3   smoker      244 non-null    category\n",
      " 4   day         244 non-null    category\n",
      " 5   time        244 non-null    category\n",
      " 6   size        244 non-null    int64   \n",
      "dtypes: category(4), float64(2), int64(1)\n",
      "memory usage: 7.4 KB\n"
     ]
    }
   ],
   "source": [
    "df.info()"
   ]
  },
  {
   "cell_type": "code",
   "execution_count": 144,
   "metadata": {},
   "outputs": [
    {
     "data": {
      "text/html": [
       "<div>\n",
       "<style scoped>\n",
       "    .dataframe tbody tr th:only-of-type {\n",
       "        vertical-align: middle;\n",
       "    }\n",
       "\n",
       "    .dataframe tbody tr th {\n",
       "        vertical-align: top;\n",
       "    }\n",
       "\n",
       "    .dataframe thead th {\n",
       "        text-align: right;\n",
       "    }\n",
       "</style>\n",
       "<table border=\"1\" class=\"dataframe\">\n",
       "  <thead>\n",
       "    <tr style=\"text-align: right;\">\n",
       "      <th></th>\n",
       "      <th>total_bill</th>\n",
       "      <th>tip</th>\n",
       "      <th>size</th>\n",
       "    </tr>\n",
       "  </thead>\n",
       "  <tbody>\n",
       "    <tr>\n",
       "      <th>count</th>\n",
       "      <td>244.000000</td>\n",
       "      <td>244.000000</td>\n",
       "      <td>244.000000</td>\n",
       "    </tr>\n",
       "    <tr>\n",
       "      <th>mean</th>\n",
       "      <td>19.785943</td>\n",
       "      <td>2.998279</td>\n",
       "      <td>2.569672</td>\n",
       "    </tr>\n",
       "    <tr>\n",
       "      <th>std</th>\n",
       "      <td>8.902412</td>\n",
       "      <td>1.383638</td>\n",
       "      <td>0.951100</td>\n",
       "    </tr>\n",
       "    <tr>\n",
       "      <th>min</th>\n",
       "      <td>3.070000</td>\n",
       "      <td>1.000000</td>\n",
       "      <td>1.000000</td>\n",
       "    </tr>\n",
       "    <tr>\n",
       "      <th>25%</th>\n",
       "      <td>13.347500</td>\n",
       "      <td>2.000000</td>\n",
       "      <td>2.000000</td>\n",
       "    </tr>\n",
       "    <tr>\n",
       "      <th>50%</th>\n",
       "      <td>17.795000</td>\n",
       "      <td>2.900000</td>\n",
       "      <td>2.000000</td>\n",
       "    </tr>\n",
       "    <tr>\n",
       "      <th>75%</th>\n",
       "      <td>24.127500</td>\n",
       "      <td>3.562500</td>\n",
       "      <td>3.000000</td>\n",
       "    </tr>\n",
       "    <tr>\n",
       "      <th>max</th>\n",
       "      <td>50.810000</td>\n",
       "      <td>10.000000</td>\n",
       "      <td>6.000000</td>\n",
       "    </tr>\n",
       "  </tbody>\n",
       "</table>\n",
       "</div>"
      ],
      "text/plain": [
       "       total_bill         tip        size\n",
       "count  244.000000  244.000000  244.000000\n",
       "mean    19.785943    2.998279    2.569672\n",
       "std      8.902412    1.383638    0.951100\n",
       "min      3.070000    1.000000    1.000000\n",
       "25%     13.347500    2.000000    2.000000\n",
       "50%     17.795000    2.900000    2.000000\n",
       "75%     24.127500    3.562500    3.000000\n",
       "max     50.810000   10.000000    6.000000"
      ]
     },
     "execution_count": 144,
     "metadata": {},
     "output_type": "execute_result"
    }
   ],
   "source": [
    "df.describe()"
   ]
  },
  {
   "cell_type": "code",
   "execution_count": 145,
   "metadata": {},
   "outputs": [
    {
     "data": {
      "text/plain": [
       "array([[<Axes: title={'center': 'total_bill'}>,\n",
       "        <Axes: title={'center': 'tip'}>],\n",
       "       [<Axes: title={'center': 'size'}>, <Axes: >]], dtype=object)"
      ]
     },
     "execution_count": 145,
     "metadata": {},
     "output_type": "execute_result"
    },
    {
     "data": {
      "image/png": "[encoded data removed]",
      "text/plain": [
       "<Figure size 1200x500 with 4 Axes>"
      ]
     },
     "metadata": {},
     "output_type": "display_data"
    }
   ],
   "source": [
    "df.hist(grid=True,figsize=(12,5))"
   ]
  },
  {
   "cell_type": "code",
   "execution_count": 146,
   "metadata": {},
   "outputs": [],
   "source": [
    "## separating dependent and independent variables\n",
    "\n",
    "X = df.drop(\"tip\",axis = 1)\n",
    "y = df.tip"
   ]
  },
  {
   "cell_type": "code",
   "execution_count": 147,
   "metadata": {},
   "outputs": [
    {
     "data": {
      "text/plain": [
       "((244, 6), (244,))"
      ]
     },
     "execution_count": 147,
     "metadata": {},
     "output_type": "execute_result"
    }
   ],
   "source": [
    "X.shape,y.shape"
   ]
  },
  {
   "cell_type": "code",
   "execution_count": 148,
   "metadata": {},
   "outputs": [],
   "source": [
    "from sklearn.model_selection import train_test_split\n",
    "X_train , X_test , y_train , y_test  = train_test_split(X , y , test_size= .2 , random_state= 42)"
   ]
  },
  {
   "cell_type": "code",
   "execution_count": 149,
   "metadata": {},
   "outputs": [
    {
     "data": {
      "text/plain": [
       "((195, 6), (195,))"
      ]
     },
     "execution_count": 149,
     "metadata": {},
     "output_type": "execute_result"
    }
   ],
   "source": [
    "X_train.shape , y_train.shape"
   ]
  },
  {
   "cell_type": "code",
   "execution_count": 150,
   "metadata": {},
   "outputs": [],
   "source": [
    "from sklearn.impute import SimpleImputer ## handling missing values\n",
    "from sklearn.preprocessing import OneHotEncoder## handling categorical features\n",
    "## handling outliers not required here in this dataset\n",
    "from sklearn.preprocessing import StandardScaler## Feature scaling\n",
    "from sklearn.pipeline import Pipeline\n",
    "from sklearn.compose import ColumnTransformer\n",
    "## Automating the entire process"
   ]
  },
  {
   "cell_type": "code",
   "execution_count": 151,
   "metadata": {},
   "outputs": [],
   "source": [
    "categorical_cols = []\n",
    "numerical_cols = []\n",
    "for i in df.columns:\n",
    "    if df[i].dtype == \"category\":\n",
    "        categorical_cols.append(i)\n",
    "    elif i == \"tip\":\n",
    "            continue\n",
    "    else:\n",
    "        numerical_cols.append(i)\n"
   ]
  },
  {
   "cell_type": "code",
   "execution_count": 152,
   "metadata": {},
   "outputs": [],
   "source": [
    "## Feature Engineering Automation\n",
    "num_pipeline = Pipeline(\n",
    "    steps= [\n",
    "    (\"imputer\", SimpleImputer(strategy=\"median\")), ## missing values\n",
    "    (\"scaler\", StandardScaler()), ## feature scaling\n",
    "\n",
    "    ]\n",
    ")\n",
    "cat_pipeline = Pipeline(\n",
    "    steps= [\n",
    "    (\"imputer\", SimpleImputer(strategy=\"most_frequent\")), ## handling  missing values\n",
    "    (\"onehotencoder\",OneHotEncoder()), ## Categrorical features to numerical\n",
    "    ]\n",
    ")\n",
    "\n"
   ]
  },
  {
   "cell_type": "code",
   "execution_count": 153,
   "metadata": {},
   "outputs": [],
   "source": [
    "preprocessor = ColumnTransformer([\n",
    "    (\"num_pipeline\",num_pipeline,numerical_cols),\n",
    "    (\"cat_pipeline\",cat_pipeline,categorical_cols)\n",
    "])"
   ]
  },
  {
   "cell_type": "code",
   "execution_count": 154,
   "metadata": {},
   "outputs": [],
   "source": [
    "X_train = preprocessor.fit_transform(X_train)\n",
    "X_test = preprocessor.transform(X_test)"
   ]
  },
  {
   "cell_type": "code",
   "execution_count": 155,
   "metadata": {},
   "outputs": [],
   "source": [
    "from sklearn.ensemble import RandomForestRegressor\n",
    "from sklearn.tree import DecisionTreeRegressor\n",
    "from sklearn.svm import SVR"
   ]
  },
  {
   "cell_type": "code",
   "execution_count": 156,
   "metadata": {},
   "outputs": [],
   "source": [
    "## Automate my model training process\n",
    "models = {\n",
    "    \"Random Forest\" : RandomForestRegressor(),\n",
    "    \"Decision Tree\" : DecisionTreeRegressor(),\n",
    "    \"SVR\" : SVR()\n",
    "}"
   ]
  },
  {
   "cell_type": "code",
   "execution_count": 157,
   "metadata": {},
   "outputs": [],
   "source": [
    "from sklearn.metrics import r2_score , mean_absolute_error"
   ]
  },
  {
   "cell_type": "code",
   "execution_count": 158,
   "metadata": {},
   "outputs": [],
   "source": [
    "def evaluate_model(X_train,y_train,X_test,y_test,models):\n",
    "\n",
    "    mae = {}\n",
    "    r2score = {}\n",
    "    for i in range(len(models)):\n",
    "        model = list(models.values())[i]\n",
    "        #train model\n",
    "        model.fit(X_train,y_train)\n",
    "\n",
    "        #Predict Testing data\n",
    "        y_test_pred = model.predict(X_test)\n",
    "\n",
    "        #Get r2 score for test data prediction\n",
    "        \n",
    "        test_model_mae = mean_absolute_error(y_test,y_test_pred)\n",
    "        test_model_r2 = r2_score(y_test,y_test_pred)\n",
    "\n",
    "        mae[list(models.keys())[i]] = test_model_mae\n",
    "        r2score[list(models.keys())[i]] = test_model_r2\n",
    "    \n",
    "    return {\"Mean Absolute error\" : mae} , {\"R2 scores\" : r2score}\n"
   ]
  },
  {
   "cell_type": "code",
   "execution_count": 159,
   "metadata": {},
   "outputs": [
    {
     "data": {
      "text/plain": [
       "({'Mean Absolute error': {'Random Forest': 0.7403591836734695,\n",
       "   'Decision Tree': 0.8530612244897958,\n",
       "   'SVR': 0.6635567692192565}},\n",
       " {'R2 scores': {'Random Forest': 0.3102847249542937,\n",
       "   'Decision Tree': 0.019082819791087613,\n",
       "   'SVR': 0.42558767775531936}})"
      ]
     },
     "execution_count": 159,
     "metadata": {},
     "output_type": "execute_result"
    }
   ],
   "source": [
    "evaluate_model(X_train,y_train,X_test,y_test,models)"
   ]
  },
  {
   "cell_type": "markdown",
   "metadata": {},
   "source": [
    "## Hyperparameter tuning"
   ]
  },
  {
   "cell_type": "code",
   "execution_count": 162,
   "metadata": {},
   "outputs": [],
   "source": [
    "regressor = RandomForestRegressor()"
   ]
  },
  {
   "cell_type": "code",
   "execution_count": 170,
   "metadata": {},
   "outputs": [],
   "source": [
    "params = {\n",
    "    \"max_depth\" : [3,5,10,None],\n",
    "    \"n_estimators\" : [100,200,300],\n",
    "    \"criterion\" : [\"squared_error\" , \"absolute_error\",\"friedman_mse\",\"poisson\"],\n",
    "}"
   ]
  },
  {
   "cell_type": "code",
   "execution_count": 171,
   "metadata": {},
   "outputs": [],
   "source": [
    "from sklearn.model_selection import GridSearchCV\n",
    "reg = GridSearchCV(regressor,param_grid=params,cv=10,scoring=\"r2\",verbose=3)"
   ]
  },
  {
   "cell_type": "code",
   "execution_count": 172,
   "metadata": {},
   "outputs": [
    {
     "name": "stdout",
     "output_type": "stream",
     "text": [
      "Fitting 10 folds for each of 48 candidates, totalling 480 fits\n",
      "[CV 1/10] END criterion=squared_error, max_depth=3, n_estimators=100;, score=0.233 total time=   0.0s\n",
      "[CV 2/10] END criterion=squared_error, max_depth=3, n_estimators=100;, score=-0.109 total time=   0.0s\n",
      "[CV 3/10] END criterion=squared_error, max_depth=3, n_estimators=100;, score=0.336 total time=   0.0s\n",
      "[CV 4/10] END criterion=squared_error, max_depth=3, n_estimators=100;, score=0.682 total time=   0.1s\n",
      "[CV 5/10] END criterion=squared_error, max_depth=3, n_estimators=100;, score=0.685 total time=   0.0s\n",
      "[CV 6/10] END criterion=squared_error, max_depth=3, n_estimators=100;, score=0.445 total time=   0.1s\n",
      "[CV 7/10] END criterion=squared_error, max_depth=3, n_estimators=100;, score=0.404 total time=   0.0s\n",
      "[CV 8/10] END criterion=squared_error, max_depth=3, n_estimators=100;, score=0.634 total time=   0.1s\n",
      "[CV 9/10] END criterion=squared_error, max_depth=3, n_estimators=100;, score=0.077 total time=   0.0s\n",
      "[CV 10/10] END criterion=squared_error, max_depth=3, n_estimators=100;, score=0.304 total time=   0.1s\n",
      "[CV 1/10] END criterion=squared_error, max_depth=3, n_estimators=200;, score=0.229 total time=   0.2s\n",
      "[CV 2/10] END criterion=squared_error, max_depth=3, n_estimators=200;, score=-0.124 total time=   0.2s\n",
      "[CV 3/10] END criterion=squared_error, max_depth=3, n_estimators=200;, score=0.344 total time=   0.2s\n",
      "[CV 4/10] END criterion=squared_error, max_depth=3, n_estimators=200;, score=0.627 total time=   0.2s\n",
      "[CV 5/10] END criterion=squared_error, max_depth=3, n_estimators=200;, score=0.650 total time=   0.2s\n",
      "[CV 6/10] END criterion=squared_error, max_depth=3, n_estimators=200;, score=0.431 total time=   0.2s\n",
      "[CV 7/10] END criterion=squared_error, max_depth=3, n_estimators=200;, score=0.423 total time=   0.2s\n",
      "[CV 8/10] END criterion=squared_error, max_depth=3, n_estimators=200;, score=0.607 total time=   0.2s\n",
      "[CV 9/10] END criterion=squared_error, max_depth=3, n_estimators=200;, score=0.066 total time=   0.2s\n",
      "[CV 10/10] END criterion=squared_error, max_depth=3, n_estimators=200;, score=0.287 total time=   0.2s\n",
      "[CV 1/10] END criterion=squared_error, max_depth=3, n_estimators=300;, score=0.215 total time=   0.3s\n",
      "[CV 2/10] END criterion=squared_error, max_depth=3, n_estimators=300;, score=-0.101 total time=   0.3s\n",
      "[CV 3/10] END criterion=squared_error, max_depth=3, n_estimators=300;, score=0.362 total time=   0.3s\n",
      "[CV 4/10] END criterion=squared_error, max_depth=3, n_estimators=300;, score=0.629 total time=   0.3s\n",
      "[CV 5/10] END criterion=squared_error, max_depth=3, n_estimators=300;, score=0.678 total time=   0.3s\n",
      "[CV 6/10] END criterion=squared_error, max_depth=3, n_estimators=300;, score=0.435 total time=   0.4s\n",
      "[CV 7/10] END criterion=squared_error, max_depth=3, n_estimators=300;, score=0.428 total time=   0.4s\n",
      "[CV 8/10] END criterion=squared_error, max_depth=3, n_estimators=300;, score=0.616 total time=   0.3s\n",
      "[CV 9/10] END criterion=squared_error, max_depth=3, n_estimators=300;, score=0.038 total time=   0.3s\n",
      "[CV 10/10] END criterion=squared_error, max_depth=3, n_estimators=300;, score=0.277 total time=   0.3s\n",
      "[CV 1/10] END criterion=squared_error, max_depth=5, n_estimators=100;, score=0.295 total time=   0.0s\n",
      "[CV 2/10] END criterion=squared_error, max_depth=5, n_estimators=100;, score=-0.018 total time=   0.0s\n",
      "[CV 3/10] END criterion=squared_error, max_depth=5, n_estimators=100;, score=0.356 total time=   0.1s\n",
      "[CV 4/10] END criterion=squared_error, max_depth=5, n_estimators=100;, score=0.622 total time=   0.0s\n",
      "[CV 5/10] END criterion=squared_error, max_depth=5, n_estimators=100;, score=0.795 total time=   0.0s\n",
      "[CV 6/10] END criterion=squared_error, max_depth=5, n_estimators=100;, score=0.523 total time=   0.1s\n",
      "[CV 7/10] END criterion=squared_error, max_depth=5, n_estimators=100;, score=0.408 total time=   0.0s\n",
      "[CV 8/10] END criterion=squared_error, max_depth=5, n_estimators=100;, score=0.631 total time=   0.1s\n",
      "[CV 9/10] END criterion=squared_error, max_depth=5, n_estimators=100;, score=-0.011 total time=   0.0s\n",
      "[CV 10/10] END criterion=squared_error, max_depth=5, n_estimators=100;, score=0.211 total time=   0.1s\n",
      "[CV 1/10] END criterion=squared_error, max_depth=5, n_estimators=200;, score=0.349 total time=   0.2s\n",
      "[CV 2/10] END criterion=squared_error, max_depth=5, n_estimators=200;, score=-0.094 total time=   0.2s\n",
      "[CV 3/10] END criterion=squared_error, max_depth=5, n_estimators=200;, score=0.342 total time=   0.2s\n",
      "[CV 4/10] END criterion=squared_error, max_depth=5, n_estimators=200;, score=0.627 total time=   0.2s\n",
      "[CV 5/10] END criterion=squared_error, max_depth=5, n_estimators=200;, score=0.801 total time=   0.2s\n",
      "[CV 6/10] END criterion=squared_error, max_depth=5, n_estimators=200;, score=0.529 total time=   0.2s\n",
      "[CV 7/10] END criterion=squared_error, max_depth=5, n_estimators=200;, score=0.419 total time=   0.2s\n",
      "[CV 8/10] END criterion=squared_error, max_depth=5, n_estimators=200;, score=0.634 total time=   0.2s\n",
      "[CV 9/10] END criterion=squared_error, max_depth=5, n_estimators=200;, score=0.024 total time=   0.2s\n",
      "[CV 10/10] END criterion=squared_error, max_depth=5, n_estimators=200;, score=0.216 total time=   0.2s\n",
      "[CV 1/10] END criterion=squared_error, max_depth=5, n_estimators=300;, score=0.306 total time=   0.4s\n",
      "[CV 2/10] END criterion=squared_error, max_depth=5, n_estimators=300;, score=-0.117 total time=   0.3s\n",
      "[CV 3/10] END criterion=squared_error, max_depth=5, n_estimators=300;, score=0.360 total time=   0.3s\n",
      "[CV 4/10] END criterion=squared_error, max_depth=5, n_estimators=300;, score=0.615 total time=   0.4s\n",
      "[CV 5/10] END criterion=squared_error, max_depth=5, n_estimators=300;, score=0.781 total time=   0.4s\n",
      "[CV 6/10] END criterion=squared_error, max_depth=5, n_estimators=300;, score=0.529 total time=   0.3s\n",
      "[CV 7/10] END criterion=squared_error, max_depth=5, n_estimators=300;, score=0.420 total time=   0.4s\n",
      "[CV 8/10] END criterion=squared_error, max_depth=5, n_estimators=300;, score=0.637 total time=   0.4s\n",
      "[CV 9/10] END criterion=squared_error, max_depth=5, n_estimators=300;, score=-0.018 total time=   0.3s\n",
      "[CV 10/10] END criterion=squared_error, max_depth=5, n_estimators=300;, score=0.219 total time=   0.3s\n",
      "[CV 1/10] END criterion=squared_error, max_depth=10, n_estimators=100;, score=0.215 total time=   0.1s\n",
      "[CV 2/10] END criterion=squared_error, max_depth=10, n_estimators=100;, score=-0.269 total time=   0.1s\n",
      "[CV 3/10] END criterion=squared_error, max_depth=10, n_estimators=100;, score=0.335 total time=   0.1s\n",
      "[CV 4/10] END criterion=squared_error, max_depth=10, n_estimators=100;, score=0.642 total time=   0.1s\n",
      "[CV 5/10] END criterion=squared_error, max_depth=10, n_estimators=100;, score=0.818 total time=   0.1s\n",
      "[CV 6/10] END criterion=squared_error, max_depth=10, n_estimators=100;, score=0.526 total time=   0.1s\n",
      "[CV 7/10] END criterion=squared_error, max_depth=10, n_estimators=100;, score=0.398 total time=   0.1s\n",
      "[CV 8/10] END criterion=squared_error, max_depth=10, n_estimators=100;, score=0.541 total time=   0.1s\n",
      "[CV 9/10] END criterion=squared_error, max_depth=10, n_estimators=100;, score=-0.041 total time=   0.1s\n",
      "[CV 10/10] END criterion=squared_error, max_depth=10, n_estimators=100;, score=0.058 total time=   0.1s\n",
      "[CV 1/10] END criterion=squared_error, max_depth=10, n_estimators=200;, score=0.221 total time=   0.3s\n",
      "[CV 2/10] END criterion=squared_error, max_depth=10, n_estimators=200;, score=0.045 total time=   0.2s\n",
      "[CV 3/10] END criterion=squared_error, max_depth=10, n_estimators=200;, score=0.335 total time=   0.2s\n",
      "[CV 4/10] END criterion=squared_error, max_depth=10, n_estimators=200;, score=0.564 total time=   0.3s\n",
      "[CV 5/10] END criterion=squared_error, max_depth=10, n_estimators=200;, score=0.827 total time=   0.2s\n",
      "[CV 6/10] END criterion=squared_error, max_depth=10, n_estimators=200;, score=0.529 total time=   0.2s\n",
      "[CV 7/10] END criterion=squared_error, max_depth=10, n_estimators=200;, score=0.412 total time=   0.3s\n",
      "[CV 8/10] END criterion=squared_error, max_depth=10, n_estimators=200;, score=0.563 total time=   0.2s\n",
      "[CV 9/10] END criterion=squared_error, max_depth=10, n_estimators=200;, score=-0.114 total time=   0.3s\n",
      "[CV 10/10] END criterion=squared_error, max_depth=10, n_estimators=200;, score=0.140 total time=   0.3s\n",
      "[CV 1/10] END criterion=squared_error, max_depth=10, n_estimators=300;, score=0.229 total time=   0.4s\n",
      "[CV 2/10] END criterion=squared_error, max_depth=10, n_estimators=300;, score=-0.129 total time=   0.4s\n",
      "[CV 3/10] END criterion=squared_error, max_depth=10, n_estimators=300;, score=0.343 total time=   0.4s\n",
      "[CV 4/10] END criterion=squared_error, max_depth=10, n_estimators=300;, score=0.581 total time=   0.5s\n",
      "[CV 5/10] END criterion=squared_error, max_depth=10, n_estimators=300;, score=0.824 total time=   0.5s\n",
      "[CV 6/10] END criterion=squared_error, max_depth=10, n_estimators=300;, score=0.551 total time=   0.5s\n",
      "[CV 7/10] END criterion=squared_error, max_depth=10, n_estimators=300;, score=0.397 total time=   0.5s\n",
      "[CV 8/10] END criterion=squared_error, max_depth=10, n_estimators=300;, score=0.538 total time=   0.4s\n",
      "[CV 9/10] END criterion=squared_error, max_depth=10, n_estimators=300;, score=-0.064 total time=   0.4s\n",
      "[CV 10/10] END criterion=squared_error, max_depth=10, n_estimators=300;, score=0.145 total time=   0.5s\n",
      "[CV 1/10] END criterion=squared_error, max_depth=None, n_estimators=100;, score=0.215 total time=   0.2s\n",
      "[CV 2/10] END criterion=squared_error, max_depth=None, n_estimators=100;, score=-0.197 total time=   0.1s\n",
      "[CV 3/10] END criterion=squared_error, max_depth=None, n_estimators=100;, score=0.291 total time=   0.1s\n",
      "[CV 4/10] END criterion=squared_error, max_depth=None, n_estimators=100;, score=0.601 total time=   0.1s\n",
      "[CV 5/10] END criterion=squared_error, max_depth=None, n_estimators=100;, score=0.810 total time=   0.1s\n",
      "[CV 6/10] END criterion=squared_error, max_depth=None, n_estimators=100;, score=0.545 total time=   0.1s\n",
      "[CV 7/10] END criterion=squared_error, max_depth=None, n_estimators=100;, score=0.377 total time=   0.1s\n",
      "[CV 8/10] END criterion=squared_error, max_depth=None, n_estimators=100;, score=0.549 total time=   0.1s\n",
      "[CV 9/10] END criterion=squared_error, max_depth=None, n_estimators=100;, score=-0.099 total time=   0.1s\n",
      "[CV 10/10] END criterion=squared_error, max_depth=None, n_estimators=100;, score=0.140 total time=   0.1s\n",
      "[CV 1/10] END criterion=squared_error, max_depth=None, n_estimators=200;, score=0.200 total time=   0.2s\n",
      "[CV 2/10] END criterion=squared_error, max_depth=None, n_estimators=200;, score=-0.073 total time=   0.3s\n",
      "[CV 3/10] END criterion=squared_error, max_depth=None, n_estimators=200;, score=0.391 total time=   0.3s\n",
      "[CV 4/10] END criterion=squared_error, max_depth=None, n_estimators=200;, score=0.610 total time=   0.3s\n",
      "[CV 5/10] END criterion=squared_error, max_depth=None, n_estimators=200;, score=0.825 total time=   0.2s\n",
      "[CV 6/10] END criterion=squared_error, max_depth=None, n_estimators=200;, score=0.526 total time=   0.2s\n",
      "[CV 7/10] END criterion=squared_error, max_depth=None, n_estimators=200;, score=0.420 total time=   0.3s\n",
      "[CV 8/10] END criterion=squared_error, max_depth=None, n_estimators=200;, score=0.534 total time=   0.3s\n",
      "[CV 9/10] END criterion=squared_error, max_depth=None, n_estimators=200;, score=-0.041 total time=   0.3s\n",
      "[CV 10/10] END criterion=squared_error, max_depth=None, n_estimators=200;, score=0.121 total time=   0.3s\n",
      "[CV 1/10] END criterion=squared_error, max_depth=None, n_estimators=300;, score=0.228 total time=   0.5s\n",
      "[CV 2/10] END criterion=squared_error, max_depth=None, n_estimators=300;, score=-0.040 total time=   0.6s\n",
      "[CV 3/10] END criterion=squared_error, max_depth=None, n_estimators=300;, score=0.368 total time=   0.5s\n",
      "[CV 4/10] END criterion=squared_error, max_depth=None, n_estimators=300;, score=0.559 total time=   0.5s\n",
      "[CV 5/10] END criterion=squared_error, max_depth=None, n_estimators=300;, score=0.825 total time=   0.4s\n",
      "[CV 6/10] END criterion=squared_error, max_depth=None, n_estimators=300;, score=0.529 total time=   0.4s\n",
      "[CV 7/10] END criterion=squared_error, max_depth=None, n_estimators=300;, score=0.407 total time=   0.4s\n",
      "[CV 8/10] END criterion=squared_error, max_depth=None, n_estimators=300;, score=0.555 total time=   0.4s\n",
      "[CV 9/10] END criterion=squared_error, max_depth=None, n_estimators=300;, score=-0.097 total time=   0.4s\n",
      "[CV 10/10] END criterion=squared_error, max_depth=None, n_estimators=300;, score=0.154 total time=   0.4s\n",
      "[CV 1/10] END criterion=absolute_error, max_depth=3, n_estimators=100;, score=0.208 total time=   0.2s\n",
      "[CV 2/10] END criterion=absolute_error, max_depth=3, n_estimators=100;, score=-0.385 total time=   0.1s\n",
      "[CV 3/10] END criterion=absolute_error, max_depth=3, n_estimators=100;, score=0.296 total time=   0.1s\n",
      "[CV 4/10] END criterion=absolute_error, max_depth=3, n_estimators=100;, score=0.589 total time=   0.1s\n",
      "[CV 5/10] END criterion=absolute_error, max_depth=3, n_estimators=100;, score=0.650 total time=   0.1s\n",
      "[CV 6/10] END criterion=absolute_error, max_depth=3, n_estimators=100;, score=0.509 total time=   0.2s\n",
      "[CV 7/10] END criterion=absolute_error, max_depth=3, n_estimators=100;, score=0.494 total time=   0.2s\n",
      "[CV 8/10] END criterion=absolute_error, max_depth=3, n_estimators=100;, score=0.507 total time=   0.2s\n",
      "[CV 9/10] END criterion=absolute_error, max_depth=3, n_estimators=100;, score=0.136 total time=   0.2s\n",
      "[CV 10/10] END criterion=absolute_error, max_depth=3, n_estimators=100;, score=0.286 total time=   0.1s\n",
      "[CV 1/10] END criterion=absolute_error, max_depth=3, n_estimators=200;, score=0.202 total time=   0.4s\n",
      "[CV 2/10] END criterion=absolute_error, max_depth=3, n_estimators=200;, score=-0.209 total time=   0.4s\n",
      "[CV 3/10] END criterion=absolute_error, max_depth=3, n_estimators=200;, score=0.283 total time=   0.4s\n",
      "[CV 4/10] END criterion=absolute_error, max_depth=3, n_estimators=200;, score=0.567 total time=   0.4s\n",
      "[CV 5/10] END criterion=absolute_error, max_depth=3, n_estimators=200;, score=0.667 total time=   0.4s\n",
      "[CV 6/10] END criterion=absolute_error, max_depth=3, n_estimators=200;, score=0.464 total time=   0.4s\n",
      "[CV 7/10] END criterion=absolute_error, max_depth=3, n_estimators=200;, score=0.529 total time=   0.4s\n",
      "[CV 8/10] END criterion=absolute_error, max_depth=3, n_estimators=200;, score=0.512 total time=   0.4s\n",
      "[CV 9/10] END criterion=absolute_error, max_depth=3, n_estimators=200;, score=0.147 total time=   0.4s\n",
      "[CV 10/10] END criterion=absolute_error, max_depth=3, n_estimators=200;, score=0.248 total time=   0.4s\n",
      "[CV 1/10] END criterion=absolute_error, max_depth=3, n_estimators=300;, score=0.214 total time=   0.6s\n",
      "[CV 2/10] END criterion=absolute_error, max_depth=3, n_estimators=300;, score=-0.264 total time=   0.6s\n",
      "[CV 3/10] END criterion=absolute_error, max_depth=3, n_estimators=300;, score=0.300 total time=   0.6s\n",
      "[CV 4/10] END criterion=absolute_error, max_depth=3, n_estimators=300;, score=0.606 total time=   0.6s\n",
      "[CV 5/10] END criterion=absolute_error, max_depth=3, n_estimators=300;, score=0.661 total time=   0.6s\n",
      "[CV 6/10] END criterion=absolute_error, max_depth=3, n_estimators=300;, score=0.491 total time=   0.8s\n",
      "[CV 7/10] END criterion=absolute_error, max_depth=3, n_estimators=300;, score=0.515 total time=   0.6s\n",
      "[CV 8/10] END criterion=absolute_error, max_depth=3, n_estimators=300;, score=0.538 total time=   0.6s\n",
      "[CV 9/10] END criterion=absolute_error, max_depth=3, n_estimators=300;, score=0.121 total time=   0.6s\n",
      "[CV 10/10] END criterion=absolute_error, max_depth=3, n_estimators=300;, score=0.256 total time=   0.6s\n",
      "[CV 1/10] END criterion=absolute_error, max_depth=5, n_estimators=100;, score=0.309 total time=   0.2s\n",
      "[CV 2/10] END criterion=absolute_error, max_depth=5, n_estimators=100;, score=-0.090 total time=   0.2s\n",
      "[CV 3/10] END criterion=absolute_error, max_depth=5, n_estimators=100;, score=0.338 total time=   0.2s\n",
      "[CV 4/10] END criterion=absolute_error, max_depth=5, n_estimators=100;, score=0.579 total time=   0.2s\n",
      "[CV 5/10] END criterion=absolute_error, max_depth=5, n_estimators=100;, score=0.802 total time=   0.2s\n",
      "[CV 6/10] END criterion=absolute_error, max_depth=5, n_estimators=100;, score=0.589 total time=   0.2s\n",
      "[CV 7/10] END criterion=absolute_error, max_depth=5, n_estimators=100;, score=0.464 total time=   0.2s\n",
      "[CV 8/10] END criterion=absolute_error, max_depth=5, n_estimators=100;, score=0.600 total time=   0.2s\n",
      "[CV 9/10] END criterion=absolute_error, max_depth=5, n_estimators=100;, score=0.094 total time=   0.2s\n",
      "[CV 10/10] END criterion=absolute_error, max_depth=5, n_estimators=100;, score=0.187 total time=   0.2s\n",
      "[CV 1/10] END criterion=absolute_error, max_depth=5, n_estimators=200;, score=0.343 total time=   0.6s\n",
      "[CV 2/10] END criterion=absolute_error, max_depth=5, n_estimators=200;, score=0.019 total time=   0.5s\n",
      "[CV 3/10] END criterion=absolute_error, max_depth=5, n_estimators=200;, score=0.335 total time=   0.5s\n",
      "[CV 4/10] END criterion=absolute_error, max_depth=5, n_estimators=200;, score=0.602 total time=   0.5s\n",
      "[CV 5/10] END criterion=absolute_error, max_depth=5, n_estimators=200;, score=0.775 total time=   0.5s\n",
      "[CV 6/10] END criterion=absolute_error, max_depth=5, n_estimators=200;, score=0.582 total time=   0.5s\n",
      "[CV 7/10] END criterion=absolute_error, max_depth=5, n_estimators=200;, score=0.445 total time=   0.6s\n",
      "[CV 8/10] END criterion=absolute_error, max_depth=5, n_estimators=200;, score=0.623 total time=   0.5s\n",
      "[CV 9/10] END criterion=absolute_error, max_depth=5, n_estimators=200;, score=0.129 total time=   0.5s\n",
      "[CV 10/10] END criterion=absolute_error, max_depth=5, n_estimators=200;, score=0.255 total time=   0.5s\n",
      "[CV 1/10] END criterion=absolute_error, max_depth=5, n_estimators=300;, score=0.330 total time=   0.7s\n",
      "[CV 2/10] END criterion=absolute_error, max_depth=5, n_estimators=300;, score=-0.022 total time=   0.7s\n",
      "[CV 3/10] END criterion=absolute_error, max_depth=5, n_estimators=300;, score=0.329 total time=   0.7s\n",
      "[CV 4/10] END criterion=absolute_error, max_depth=5, n_estimators=300;, score=0.598 total time=   0.7s\n",
      "[CV 5/10] END criterion=absolute_error, max_depth=5, n_estimators=300;, score=0.788 total time=   0.8s\n",
      "[CV 6/10] END criterion=absolute_error, max_depth=5, n_estimators=300;, score=0.566 total time=   0.7s\n",
      "[CV 7/10] END criterion=absolute_error, max_depth=5, n_estimators=300;, score=0.452 total time=   0.7s\n",
      "[CV 8/10] END criterion=absolute_error, max_depth=5, n_estimators=300;, score=0.628 total time=   0.7s\n",
      "[CV 9/10] END criterion=absolute_error, max_depth=5, n_estimators=300;, score=0.090 total time=   0.7s\n",
      "[CV 10/10] END criterion=absolute_error, max_depth=5, n_estimators=300;, score=0.223 total time=   0.8s\n",
      "[CV 1/10] END criterion=absolute_error, max_depth=10, n_estimators=100;, score=0.231 total time=   0.3s\n",
      "[CV 2/10] END criterion=absolute_error, max_depth=10, n_estimators=100;, score=0.084 total time=   0.2s\n",
      "[CV 3/10] END criterion=absolute_error, max_depth=10, n_estimators=100;, score=0.288 total time=   0.3s\n",
      "[CV 4/10] END criterion=absolute_error, max_depth=10, n_estimators=100;, score=0.542 total time=   0.3s\n",
      "[CV 5/10] END criterion=absolute_error, max_depth=10, n_estimators=100;, score=0.806 total time=   0.3s\n",
      "[CV 6/10] END criterion=absolute_error, max_depth=10, n_estimators=100;, score=0.636 total time=   0.3s\n",
      "[CV 7/10] END criterion=absolute_error, max_depth=10, n_estimators=100;, score=0.441 total time=   0.3s\n",
      "[CV 8/10] END criterion=absolute_error, max_depth=10, n_estimators=100;, score=0.582 total time=   0.2s\n",
      "[CV 9/10] END criterion=absolute_error, max_depth=10, n_estimators=100;, score=-0.001 total time=   0.3s\n",
      "[CV 10/10] END criterion=absolute_error, max_depth=10, n_estimators=100;, score=0.176 total time=   0.3s\n",
      "[CV 1/10] END criterion=absolute_error, max_depth=10, n_estimators=200;, score=0.298 total time=   0.6s\n",
      "[CV 2/10] END criterion=absolute_error, max_depth=10, n_estimators=200;, score=-0.018 total time=   0.6s\n",
      "[CV 3/10] END criterion=absolute_error, max_depth=10, n_estimators=200;, score=0.378 total time=   0.6s\n",
      "[CV 4/10] END criterion=absolute_error, max_depth=10, n_estimators=200;, score=0.586 total time=   0.6s\n",
      "[CV 5/10] END criterion=absolute_error, max_depth=10, n_estimators=200;, score=0.818 total time=   0.7s\n",
      "[CV 6/10] END criterion=absolute_error, max_depth=10, n_estimators=200;, score=0.578 total time=   0.6s\n",
      "[CV 7/10] END criterion=absolute_error, max_depth=10, n_estimators=200;, score=0.445 total time=   0.6s\n",
      "[CV 8/10] END criterion=absolute_error, max_depth=10, n_estimators=200;, score=0.547 total time=   0.6s\n",
      "[CV 9/10] END criterion=absolute_error, max_depth=10, n_estimators=200;, score=-0.030 total time=   0.6s\n",
      "[CV 10/10] END criterion=absolute_error, max_depth=10, n_estimators=200;, score=0.157 total time=   0.6s\n",
      "[CV 1/10] END criterion=absolute_error, max_depth=10, n_estimators=300;, score=0.300 total time=   1.0s\n",
      "[CV 2/10] END criterion=absolute_error, max_depth=10, n_estimators=300;, score=-0.027 total time=   1.0s\n",
      "[CV 3/10] END criterion=absolute_error, max_depth=10, n_estimators=300;, score=0.332 total time=   1.0s\n",
      "[CV 4/10] END criterion=absolute_error, max_depth=10, n_estimators=300;, score=0.572 total time=   0.9s\n",
      "[CV 5/10] END criterion=absolute_error, max_depth=10, n_estimators=300;, score=0.823 total time=   1.0s\n",
      "[CV 6/10] END criterion=absolute_error, max_depth=10, n_estimators=300;, score=0.601 total time=   0.9s\n",
      "[CV 7/10] END criterion=absolute_error, max_depth=10, n_estimators=300;, score=0.451 total time=   1.0s\n",
      "[CV 8/10] END criterion=absolute_error, max_depth=10, n_estimators=300;, score=0.552 total time=   1.0s\n",
      "[CV 9/10] END criterion=absolute_error, max_depth=10, n_estimators=300;, score=-0.013 total time=   0.9s\n",
      "[CV 10/10] END criterion=absolute_error, max_depth=10, n_estimators=300;, score=0.144 total time=   0.9s\n",
      "[CV 1/10] END criterion=absolute_error, max_depth=None, n_estimators=100;, score=0.288 total time=   0.3s\n",
      "[CV 2/10] END criterion=absolute_error, max_depth=None, n_estimators=100;, score=-0.110 total time=   0.3s\n",
      "[CV 3/10] END criterion=absolute_error, max_depth=None, n_estimators=100;, score=0.371 total time=   0.3s\n",
      "[CV 4/10] END criterion=absolute_error, max_depth=None, n_estimators=100;, score=0.533 total time=   0.3s\n",
      "[CV 5/10] END criterion=absolute_error, max_depth=None, n_estimators=100;, score=0.828 total time=   0.3s\n",
      "[CV 6/10] END criterion=absolute_error, max_depth=None, n_estimators=100;, score=0.578 total time=   0.3s\n",
      "[CV 7/10] END criterion=absolute_error, max_depth=None, n_estimators=100;, score=0.441 total time=   0.3s\n",
      "[CV 8/10] END criterion=absolute_error, max_depth=None, n_estimators=100;, score=0.556 total time=   0.3s\n",
      "[CV 9/10] END criterion=absolute_error, max_depth=None, n_estimators=100;, score=0.015 total time=   0.3s\n",
      "[CV 10/10] END criterion=absolute_error, max_depth=None, n_estimators=100;, score=0.170 total time=   0.3s\n",
      "[CV 1/10] END criterion=absolute_error, max_depth=None, n_estimators=200;, score=0.273 total time=   0.7s\n",
      "[CV 2/10] END criterion=absolute_error, max_depth=None, n_estimators=200;, score=-0.241 total time=   0.6s\n",
      "[CV 3/10] END criterion=absolute_error, max_depth=None, n_estimators=200;, score=0.384 total time=   0.6s\n",
      "[CV 4/10] END criterion=absolute_error, max_depth=None, n_estimators=200;, score=0.525 total time=   0.7s\n",
      "[CV 5/10] END criterion=absolute_error, max_depth=None, n_estimators=200;, score=0.820 total time=   0.7s\n",
      "[CV 6/10] END criterion=absolute_error, max_depth=None, n_estimators=200;, score=0.587 total time=   0.8s\n",
      "[CV 7/10] END criterion=absolute_error, max_depth=None, n_estimators=200;, score=0.477 total time=   0.7s\n",
      "[CV 8/10] END criterion=absolute_error, max_depth=None, n_estimators=200;, score=0.525 total time=   0.7s\n",
      "[CV 9/10] END criterion=absolute_error, max_depth=None, n_estimators=200;, score=-0.009 total time=   0.6s\n",
      "[CV 10/10] END criterion=absolute_error, max_depth=None, n_estimators=200;, score=0.159 total time=   0.7s\n",
      "[CV 1/10] END criterion=absolute_error, max_depth=None, n_estimators=300;, score=0.285 total time=   1.0s\n",
      "[CV 2/10] END criterion=absolute_error, max_depth=None, n_estimators=300;, score=-0.065 total time=   1.0s\n",
      "[CV 3/10] END criterion=absolute_error, max_depth=None, n_estimators=300;, score=0.338 total time=   1.0s\n",
      "[CV 4/10] END criterion=absolute_error, max_depth=None, n_estimators=300;, score=0.530 total time=   1.0s\n",
      "[CV 5/10] END criterion=absolute_error, max_depth=None, n_estimators=300;, score=0.809 total time=   1.0s\n",
      "[CV 6/10] END criterion=absolute_error, max_depth=None, n_estimators=300;, score=0.594 total time=   1.0s\n",
      "[CV 7/10] END criterion=absolute_error, max_depth=None, n_estimators=300;, score=0.464 total time=   1.0s\n",
      "[CV 8/10] END criterion=absolute_error, max_depth=None, n_estimators=300;, score=0.527 total time=   1.0s\n",
      "[CV 9/10] END criterion=absolute_error, max_depth=None, n_estimators=300;, score=-0.034 total time=   1.0s\n",
      "[CV 10/10] END criterion=absolute_error, max_depth=None, n_estimators=300;, score=0.105 total time=   1.0s\n",
      "[CV 1/10] END criterion=friedman_mse, max_depth=3, n_estimators=100;, score=0.214 total time=   0.1s\n",
      "[CV 2/10] END criterion=friedman_mse, max_depth=3, n_estimators=100;, score=-0.072 total time=   0.1s\n",
      "[CV 3/10] END criterion=friedman_mse, max_depth=3, n_estimators=100;, score=0.357 total time=   0.1s\n",
      "[CV 4/10] END criterion=friedman_mse, max_depth=3, n_estimators=100;, score=0.609 total time=   0.1s\n",
      "[CV 5/10] END criterion=friedman_mse, max_depth=3, n_estimators=100;, score=0.656 total time=   0.0s\n",
      "[CV 6/10] END criterion=friedman_mse, max_depth=3, n_estimators=100;, score=0.443 total time=   0.1s\n",
      "[CV 7/10] END criterion=friedman_mse, max_depth=3, n_estimators=100;, score=0.455 total time=   0.0s\n",
      "[CV 8/10] END criterion=friedman_mse, max_depth=3, n_estimators=100;, score=0.634 total time=   0.1s\n",
      "[CV 9/10] END criterion=friedman_mse, max_depth=3, n_estimators=100;, score=0.041 total time=   0.0s\n",
      "[CV 10/10] END criterion=friedman_mse, max_depth=3, n_estimators=100;, score=0.255 total time=   0.1s\n",
      "[CV 1/10] END criterion=friedman_mse, max_depth=3, n_estimators=200;, score=0.214 total time=   0.2s\n",
      "[CV 2/10] END criterion=friedman_mse, max_depth=3, n_estimators=200;, score=-0.051 total time=   0.2s\n",
      "[CV 3/10] END criterion=friedman_mse, max_depth=3, n_estimators=200;, score=0.375 total time=   0.3s\n",
      "[CV 4/10] END criterion=friedman_mse, max_depth=3, n_estimators=200;, score=0.626 total time=   0.2s\n",
      "[CV 5/10] END criterion=friedman_mse, max_depth=3, n_estimators=200;, score=0.679 total time=   0.2s\n",
      "[CV 6/10] END criterion=friedman_mse, max_depth=3, n_estimators=200;, score=0.417 total time=   0.2s\n",
      "[CV 7/10] END criterion=friedman_mse, max_depth=3, n_estimators=200;, score=0.443 total time=   0.2s\n",
      "[CV 8/10] END criterion=friedman_mse, max_depth=3, n_estimators=200;, score=0.605 total time=   0.3s\n",
      "[CV 9/10] END criterion=friedman_mse, max_depth=3, n_estimators=200;, score=0.041 total time=   0.2s\n",
      "[CV 10/10] END criterion=friedman_mse, max_depth=3, n_estimators=200;, score=0.269 total time=   0.2s\n",
      "[CV 1/10] END criterion=friedman_mse, max_depth=3, n_estimators=300;, score=0.222 total time=   0.3s\n",
      "[CV 2/10] END criterion=friedman_mse, max_depth=3, n_estimators=300;, score=-0.077 total time=   0.4s\n",
      "[CV 3/10] END criterion=friedman_mse, max_depth=3, n_estimators=300;, score=0.370 total time=   0.3s\n",
      "[CV 4/10] END criterion=friedman_mse, max_depth=3, n_estimators=300;, score=0.617 total time=   0.3s\n",
      "[CV 5/10] END criterion=friedman_mse, max_depth=3, n_estimators=300;, score=0.680 total time=   0.3s\n",
      "[CV 6/10] END criterion=friedman_mse, max_depth=3, n_estimators=300;, score=0.415 total time=   0.4s\n",
      "[CV 7/10] END criterion=friedman_mse, max_depth=3, n_estimators=300;, score=0.398 total time=   0.3s\n",
      "[CV 8/10] END criterion=friedman_mse, max_depth=3, n_estimators=300;, score=0.621 total time=   0.3s\n",
      "[CV 9/10] END criterion=friedman_mse, max_depth=3, n_estimators=300;, score=0.039 total time=   0.3s\n",
      "[CV 10/10] END criterion=friedman_mse, max_depth=3, n_estimators=300;, score=0.296 total time=   0.3s\n",
      "[CV 1/10] END criterion=friedman_mse, max_depth=5, n_estimators=100;, score=0.318 total time=   0.1s\n",
      "[CV 2/10] END criterion=friedman_mse, max_depth=5, n_estimators=100;, score=-0.248 total time=   0.0s\n",
      "[CV 3/10] END criterion=friedman_mse, max_depth=5, n_estimators=100;, score=0.400 total time=   0.1s\n",
      "[CV 4/10] END criterion=friedman_mse, max_depth=5, n_estimators=100;, score=0.557 total time=   0.0s\n",
      "[CV 5/10] END criterion=friedman_mse, max_depth=5, n_estimators=100;, score=0.805 total time=   0.1s\n",
      "[CV 6/10] END criterion=friedman_mse, max_depth=5, n_estimators=100;, score=0.562 total time=   0.1s\n",
      "[CV 7/10] END criterion=friedman_mse, max_depth=5, n_estimators=100;, score=0.444 total time=   0.0s\n",
      "[CV 8/10] END criterion=friedman_mse, max_depth=5, n_estimators=100;, score=0.598 total time=   0.1s\n",
      "[CV 9/10] END criterion=friedman_mse, max_depth=5, n_estimators=100;, score=0.006 total time=   0.0s\n",
      "[CV 10/10] END criterion=friedman_mse, max_depth=5, n_estimators=100;, score=0.226 total time=   0.1s\n",
      "[CV 1/10] END criterion=friedman_mse, max_depth=5, n_estimators=200;, score=0.309 total time=   0.2s\n",
      "[CV 2/10] END criterion=friedman_mse, max_depth=5, n_estimators=200;, score=-0.238 total time=   0.3s\n",
      "[CV 3/10] END criterion=friedman_mse, max_depth=5, n_estimators=200;, score=0.353 total time=   0.5s\n",
      "[CV 4/10] END criterion=friedman_mse, max_depth=5, n_estimators=200;, score=0.615 total time=   0.2s\n",
      "[CV 5/10] END criterion=friedman_mse, max_depth=5, n_estimators=200;, score=0.802 total time=   0.2s\n",
      "[CV 6/10] END criterion=friedman_mse, max_depth=5, n_estimators=200;, score=0.530 total time=   0.2s\n",
      "[CV 7/10] END criterion=friedman_mse, max_depth=5, n_estimators=200;, score=0.412 total time=   0.2s\n",
      "[CV 8/10] END criterion=friedman_mse, max_depth=5, n_estimators=200;, score=0.642 total time=   0.3s\n",
      "[CV 9/10] END criterion=friedman_mse, max_depth=5, n_estimators=200;, score=0.001 total time=   0.4s\n",
      "[CV 10/10] END criterion=friedman_mse, max_depth=5, n_estimators=200;, score=0.247 total time=   0.2s\n",
      "[CV 1/10] END criterion=friedman_mse, max_depth=5, n_estimators=300;, score=0.331 total time=   0.4s\n",
      "[CV 2/10] END criterion=friedman_mse, max_depth=5, n_estimators=300;, score=-0.119 total time=   0.4s\n",
      "[CV 3/10] END criterion=friedman_mse, max_depth=5, n_estimators=300;, score=0.389 total time=   0.3s\n",
      "[CV 4/10] END criterion=friedman_mse, max_depth=5, n_estimators=300;, score=0.599 total time=   0.4s\n",
      "[CV 5/10] END criterion=friedman_mse, max_depth=5, n_estimators=300;, score=0.796 total time=   0.4s\n",
      "[CV 6/10] END criterion=friedman_mse, max_depth=5, n_estimators=300;, score=0.523 total time=   0.4s\n",
      "[CV 7/10] END criterion=friedman_mse, max_depth=5, n_estimators=300;, score=0.424 total time=   0.4s\n",
      "[CV 8/10] END criterion=friedman_mse, max_depth=5, n_estimators=300;, score=0.616 total time=   0.5s\n",
      "[CV 9/10] END criterion=friedman_mse, max_depth=5, n_estimators=300;, score=0.001 total time=   0.4s\n",
      "[CV 10/10] END criterion=friedman_mse, max_depth=5, n_estimators=300;, score=0.264 total time=   0.3s\n",
      "[CV 1/10] END criterion=friedman_mse, max_depth=10, n_estimators=100;, score=0.210 total time=   0.1s\n",
      "[CV 2/10] END criterion=friedman_mse, max_depth=10, n_estimators=100;, score=-0.133 total time=   0.1s\n",
      "[CV 3/10] END criterion=friedman_mse, max_depth=10, n_estimators=100;, score=0.315 total time=   0.1s\n",
      "[CV 4/10] END criterion=friedman_mse, max_depth=10, n_estimators=100;, score=0.661 total time=   0.1s\n",
      "[CV 5/10] END criterion=friedman_mse, max_depth=10, n_estimators=100;, score=0.824 total time=   0.1s\n",
      "[CV 6/10] END criterion=friedman_mse, max_depth=10, n_estimators=100;, score=0.574 total time=   0.1s\n",
      "[CV 7/10] END criterion=friedman_mse, max_depth=10, n_estimators=100;, score=0.342 total time=   0.1s\n",
      "[CV 8/10] END criterion=friedman_mse, max_depth=10, n_estimators=100;, score=0.552 total time=   0.1s\n",
      "[CV 9/10] END criterion=friedman_mse, max_depth=10, n_estimators=100;, score=-0.067 total time=   0.1s\n",
      "[CV 10/10] END criterion=friedman_mse, max_depth=10, n_estimators=100;, score=0.167 total time=   0.1s\n",
      "[CV 1/10] END criterion=friedman_mse, max_depth=10, n_estimators=200;, score=0.221 total time=   0.2s\n",
      "[CV 2/10] END criterion=friedman_mse, max_depth=10, n_estimators=200;, score=-0.074 total time=   0.2s\n",
      "[CV 3/10] END criterion=friedman_mse, max_depth=10, n_estimators=200;, score=0.339 total time=   0.3s\n",
      "[CV 4/10] END criterion=friedman_mse, max_depth=10, n_estimators=200;, score=0.608 total time=   0.3s\n",
      "[CV 5/10] END criterion=friedman_mse, max_depth=10, n_estimators=200;, score=0.823 total time=   0.2s\n",
      "[CV 6/10] END criterion=friedman_mse, max_depth=10, n_estimators=200;, score=0.549 total time=   0.2s\n",
      "[CV 7/10] END criterion=friedman_mse, max_depth=10, n_estimators=200;, score=0.415 total time=   0.3s\n",
      "[CV 8/10] END criterion=friedman_mse, max_depth=10, n_estimators=200;, score=0.545 total time=   0.3s\n",
      "[CV 9/10] END criterion=friedman_mse, max_depth=10, n_estimators=200;, score=-0.066 total time=   0.3s\n",
      "[CV 10/10] END criterion=friedman_mse, max_depth=10, n_estimators=200;, score=0.152 total time=   0.2s\n",
      "[CV 1/10] END criterion=friedman_mse, max_depth=10, n_estimators=300;, score=0.268 total time=   0.4s\n",
      "[CV 2/10] END criterion=friedman_mse, max_depth=10, n_estimators=300;, score=-0.029 total time=   0.4s\n",
      "[CV 3/10] END criterion=friedman_mse, max_depth=10, n_estimators=300;, score=0.345 total time=   0.4s\n",
      "[CV 4/10] END criterion=friedman_mse, max_depth=10, n_estimators=300;, score=0.589 total time=   0.4s\n",
      "[CV 5/10] END criterion=friedman_mse, max_depth=10, n_estimators=300;, score=0.834 total time=   0.4s\n",
      "[CV 6/10] END criterion=friedman_mse, max_depth=10, n_estimators=300;, score=0.545 total time=   0.4s\n",
      "[CV 7/10] END criterion=friedman_mse, max_depth=10, n_estimators=300;, score=0.398 total time=   0.4s\n",
      "[CV 8/10] END criterion=friedman_mse, max_depth=10, n_estimators=300;, score=0.567 total time=   0.4s\n",
      "[CV 9/10] END criterion=friedman_mse, max_depth=10, n_estimators=300;, score=-0.111 total time=   0.4s\n",
      "[CV 10/10] END criterion=friedman_mse, max_depth=10, n_estimators=300;, score=0.126 total time=   0.4s\n",
      "[CV 1/10] END criterion=friedman_mse, max_depth=None, n_estimators=100;, score=0.227 total time=   0.1s\n",
      "[CV 2/10] END criterion=friedman_mse, max_depth=None, n_estimators=100;, score=-0.118 total time=   0.1s\n",
      "[CV 3/10] END criterion=friedman_mse, max_depth=None, n_estimators=100;, score=0.324 total time=   0.1s\n",
      "[CV 4/10] END criterion=friedman_mse, max_depth=None, n_estimators=100;, score=0.567 total time=   0.1s\n",
      "[CV 5/10] END criterion=friedman_mse, max_depth=None, n_estimators=100;, score=0.815 total time=   0.1s\n",
      "[CV 6/10] END criterion=friedman_mse, max_depth=None, n_estimators=100;, score=0.552 total time=   0.1s\n",
      "[CV 7/10] END criterion=friedman_mse, max_depth=None, n_estimators=100;, score=0.440 total time=   0.1s\n",
      "[CV 8/10] END criterion=friedman_mse, max_depth=None, n_estimators=100;, score=0.547 total time=   0.1s\n",
      "[CV 9/10] END criterion=friedman_mse, max_depth=None, n_estimators=100;, score=-0.097 total time=   0.1s\n",
      "[CV 10/10] END criterion=friedman_mse, max_depth=None, n_estimators=100;, score=0.145 total time=   0.1s\n",
      "[CV 1/10] END criterion=friedman_mse, max_depth=None, n_estimators=200;, score=0.221 total time=   0.3s\n",
      "[CV 2/10] END criterion=friedman_mse, max_depth=None, n_estimators=200;, score=-0.175 total time=   0.2s\n",
      "[CV 3/10] END criterion=friedman_mse, max_depth=None, n_estimators=200;, score=0.371 total time=   0.2s\n",
      "[CV 4/10] END criterion=friedman_mse, max_depth=None, n_estimators=200;, score=0.586 total time=   0.3s\n",
      "[CV 5/10] END criterion=friedman_mse, max_depth=None, n_estimators=200;, score=0.820 total time=   0.3s\n",
      "[CV 6/10] END criterion=friedman_mse, max_depth=None, n_estimators=200;, score=0.535 total time=   0.3s\n",
      "[CV 7/10] END criterion=friedman_mse, max_depth=None, n_estimators=200;, score=0.398 total time=   0.3s\n",
      "[CV 8/10] END criterion=friedman_mse, max_depth=None, n_estimators=200;, score=0.571 total time=   0.2s\n",
      "[CV 9/10] END criterion=friedman_mse, max_depth=None, n_estimators=200;, score=-0.080 total time=   0.2s\n",
      "[CV 10/10] END criterion=friedman_mse, max_depth=None, n_estimators=200;, score=0.137 total time=   0.3s\n",
      "[CV 1/10] END criterion=friedman_mse, max_depth=None, n_estimators=300;, score=0.205 total time=   0.5s\n",
      "[CV 2/10] END criterion=friedman_mse, max_depth=None, n_estimators=300;, score=-0.140 total time=   0.4s\n",
      "[CV 3/10] END criterion=friedman_mse, max_depth=None, n_estimators=300;, score=0.338 total time=   0.4s\n",
      "[CV 4/10] END criterion=friedman_mse, max_depth=None, n_estimators=300;, score=0.572 total time=   0.4s\n",
      "[CV 5/10] END criterion=friedman_mse, max_depth=None, n_estimators=300;, score=0.830 total time=   0.4s\n",
      "[CV 6/10] END criterion=friedman_mse, max_depth=None, n_estimators=300;, score=0.542 total time=   0.4s\n",
      "[CV 7/10] END criterion=friedman_mse, max_depth=None, n_estimators=300;, score=0.388 total time=   0.4s\n",
      "[CV 8/10] END criterion=friedman_mse, max_depth=None, n_estimators=300;, score=0.530 total time=   0.4s\n",
      "[CV 9/10] END criterion=friedman_mse, max_depth=None, n_estimators=300;, score=-0.051 total time=   0.4s\n",
      "[CV 10/10] END criterion=friedman_mse, max_depth=None, n_estimators=300;, score=0.111 total time=   0.4s\n",
      "[CV 1/10] END criterion=poisson, max_depth=3, n_estimators=100;, score=0.212 total time=   0.1s\n",
      "[CV 2/10] END criterion=poisson, max_depth=3, n_estimators=100;, score=-0.208 total time=   0.1s\n",
      "[CV 3/10] END criterion=poisson, max_depth=3, n_estimators=100;, score=0.370 total time=   0.1s\n",
      "[CV 4/10] END criterion=poisson, max_depth=3, n_estimators=100;, score=0.531 total time=   0.0s\n",
      "[CV 5/10] END criterion=poisson, max_depth=3, n_estimators=100;, score=0.653 total time=   0.0s\n",
      "[CV 6/10] END criterion=poisson, max_depth=3, n_estimators=100;, score=0.431 total time=   0.1s\n",
      "[CV 7/10] END criterion=poisson, max_depth=3, n_estimators=100;, score=0.481 total time=   0.0s\n",
      "[CV 8/10] END criterion=poisson, max_depth=3, n_estimators=100;, score=0.626 total time=   0.1s\n",
      "[CV 9/10] END criterion=poisson, max_depth=3, n_estimators=100;, score=0.064 total time=   0.0s\n",
      "[CV 10/10] END criterion=poisson, max_depth=3, n_estimators=100;, score=0.273 total time=   0.1s\n",
      "[CV 1/10] END criterion=poisson, max_depth=3, n_estimators=200;, score=0.212 total time=   0.2s\n",
      "[CV 2/10] END criterion=poisson, max_depth=3, n_estimators=200;, score=-0.192 total time=   0.2s\n",
      "[CV 3/10] END criterion=poisson, max_depth=3, n_estimators=200;, score=0.390 total time=   0.2s\n",
      "[CV 4/10] END criterion=poisson, max_depth=3, n_estimators=200;, score=0.586 total time=   0.2s\n",
      "[CV 5/10] END criterion=poisson, max_depth=3, n_estimators=200;, score=0.687 total time=   0.2s\n",
      "[CV 6/10] END criterion=poisson, max_depth=3, n_estimators=200;, score=0.442 total time=   0.2s\n",
      "[CV 7/10] END criterion=poisson, max_depth=3, n_estimators=200;, score=0.468 total time=   0.3s\n",
      "[CV 8/10] END criterion=poisson, max_depth=3, n_estimators=200;, score=0.632 total time=   0.2s\n",
      "[CV 9/10] END criterion=poisson, max_depth=3, n_estimators=200;, score=0.055 total time=   0.2s\n",
      "[CV 10/10] END criterion=poisson, max_depth=3, n_estimators=200;, score=0.276 total time=   0.2s\n",
      "[CV 1/10] END criterion=poisson, max_depth=3, n_estimators=300;, score=0.225 total time=   0.3s\n",
      "[CV 2/10] END criterion=poisson, max_depth=3, n_estimators=300;, score=-0.100 total time=   0.3s\n",
      "[CV 3/10] END criterion=poisson, max_depth=3, n_estimators=300;, score=0.379 total time=   0.3s\n",
      "[CV 4/10] END criterion=poisson, max_depth=3, n_estimators=300;, score=0.572 total time=   0.3s\n",
      "[CV 5/10] END criterion=poisson, max_depth=3, n_estimators=300;, score=0.672 total time=   0.3s\n",
      "[CV 6/10] END criterion=poisson, max_depth=3, n_estimators=300;, score=0.452 total time=   0.3s\n",
      "[CV 7/10] END criterion=poisson, max_depth=3, n_estimators=300;, score=0.439 total time=   0.3s\n",
      "[CV 8/10] END criterion=poisson, max_depth=3, n_estimators=300;, score=0.606 total time=   0.3s\n",
      "[CV 9/10] END criterion=poisson, max_depth=3, n_estimators=300;, score=0.045 total time=   0.3s\n",
      "[CV 10/10] END criterion=poisson, max_depth=3, n_estimators=300;, score=0.277 total time=   0.4s\n",
      "[CV 1/10] END criterion=poisson, max_depth=5, n_estimators=100;, score=0.336 total time=   0.0s\n",
      "[CV 2/10] END criterion=poisson, max_depth=5, n_estimators=100;, score=-0.093 total time=   0.1s\n",
      "[CV 3/10] END criterion=poisson, max_depth=5, n_estimators=100;, score=0.337 total time=   0.1s\n",
      "[CV 4/10] END criterion=poisson, max_depth=5, n_estimators=100;, score=0.603 total time=   0.1s\n",
      "[CV 5/10] END criterion=poisson, max_depth=5, n_estimators=100;, score=0.797 total time=   0.1s\n",
      "[CV 6/10] END criterion=poisson, max_depth=5, n_estimators=100;, score=0.490 total time=   0.0s\n",
      "[CV 7/10] END criterion=poisson, max_depth=5, n_estimators=100;, score=0.429 total time=   0.1s\n",
      "[CV 8/10] END criterion=poisson, max_depth=5, n_estimators=100;, score=0.637 total time=   0.1s\n",
      "[CV 9/10] END criterion=poisson, max_depth=5, n_estimators=100;, score=-0.000 total time=   0.0s\n",
      "[CV 10/10] END criterion=poisson, max_depth=5, n_estimators=100;, score=0.180 total time=   0.1s\n",
      "[CV 1/10] END criterion=poisson, max_depth=5, n_estimators=200;, score=0.293 total time=   0.3s\n",
      "[CV 2/10] END criterion=poisson, max_depth=5, n_estimators=200;, score=-0.168 total time=   0.2s\n",
      "[CV 3/10] END criterion=poisson, max_depth=5, n_estimators=200;, score=0.349 total time=   0.2s\n",
      "[CV 4/10] END criterion=poisson, max_depth=5, n_estimators=200;, score=0.492 total time=   0.2s\n",
      "[CV 5/10] END criterion=poisson, max_depth=5, n_estimators=200;, score=0.788 total time=   0.2s\n",
      "[CV 6/10] END criterion=poisson, max_depth=5, n_estimators=200;, score=0.502 total time=   0.2s\n",
      "[CV 7/10] END criterion=poisson, max_depth=5, n_estimators=200;, score=0.425 total time=   0.2s\n",
      "[CV 8/10] END criterion=poisson, max_depth=5, n_estimators=200;, score=0.626 total time=   0.2s\n",
      "[CV 9/10] END criterion=poisson, max_depth=5, n_estimators=200;, score=-0.015 total time=   0.2s\n",
      "[CV 10/10] END criterion=poisson, max_depth=5, n_estimators=200;, score=0.244 total time=   0.2s\n",
      "[CV 1/10] END criterion=poisson, max_depth=5, n_estimators=300;, score=0.302 total time=   0.4s\n",
      "[CV 2/10] END criterion=poisson, max_depth=5, n_estimators=300;, score=0.002 total time=   0.4s\n",
      "[CV 3/10] END criterion=poisson, max_depth=5, n_estimators=300;, score=0.367 total time=   0.4s\n",
      "[CV 4/10] END criterion=poisson, max_depth=5, n_estimators=300;, score=0.523 total time=   0.4s\n",
      "[CV 5/10] END criterion=poisson, max_depth=5, n_estimators=300;, score=0.790 total time=   0.8s\n",
      "[CV 6/10] END criterion=poisson, max_depth=5, n_estimators=300;, score=0.529 total time=   0.4s\n",
      "[CV 7/10] END criterion=poisson, max_depth=5, n_estimators=300;, score=0.447 total time=   0.4s\n",
      "[CV 8/10] END criterion=poisson, max_depth=5, n_estimators=300;, score=0.624 total time=   0.4s\n",
      "[CV 9/10] END criterion=poisson, max_depth=5, n_estimators=300;, score=-0.023 total time=   0.4s\n",
      "[CV 10/10] END criterion=poisson, max_depth=5, n_estimators=300;, score=0.232 total time=   0.4s\n",
      "[CV 1/10] END criterion=poisson, max_depth=10, n_estimators=100;, score=0.201 total time=   0.1s\n",
      "[CV 2/10] END criterion=poisson, max_depth=10, n_estimators=100;, score=-0.358 total time=   0.1s\n",
      "[CV 3/10] END criterion=poisson, max_depth=10, n_estimators=100;, score=0.337 total time=   0.1s\n",
      "[CV 4/10] END criterion=poisson, max_depth=10, n_estimators=100;, score=0.543 total time=   0.1s\n",
      "[CV 5/10] END criterion=poisson, max_depth=10, n_estimators=100;, score=0.799 total time=   0.1s\n",
      "[CV 6/10] END criterion=poisson, max_depth=10, n_estimators=100;, score=0.538 total time=   0.1s\n",
      "[CV 7/10] END criterion=poisson, max_depth=10, n_estimators=100;, score=0.393 total time=   0.1s\n",
      "[CV 8/10] END criterion=poisson, max_depth=10, n_estimators=100;, score=0.559 total time=   0.1s\n",
      "[CV 9/10] END criterion=poisson, max_depth=10, n_estimators=100;, score=-0.048 total time=   0.1s\n",
      "[CV 10/10] END criterion=poisson, max_depth=10, n_estimators=100;, score=0.052 total time=   0.1s\n",
      "[CV 1/10] END criterion=poisson, max_depth=10, n_estimators=200;, score=0.168 total time=   0.3s\n",
      "[CV 2/10] END criterion=poisson, max_depth=10, n_estimators=200;, score=-0.178 total time=   0.3s\n",
      "[CV 3/10] END criterion=poisson, max_depth=10, n_estimators=200;, score=0.305 total time=   0.3s\n",
      "[CV 4/10] END criterion=poisson, max_depth=10, n_estimators=200;, score=0.547 total time=   0.3s\n",
      "[CV 5/10] END criterion=poisson, max_depth=10, n_estimators=200;, score=0.824 total time=   0.3s\n",
      "[CV 6/10] END criterion=poisson, max_depth=10, n_estimators=200;, score=0.535 total time=   0.3s\n",
      "[CV 7/10] END criterion=poisson, max_depth=10, n_estimators=200;, score=0.407 total time=   0.2s\n",
      "[CV 8/10] END criterion=poisson, max_depth=10, n_estimators=200;, score=0.559 total time=   0.3s\n",
      "[CV 9/10] END criterion=poisson, max_depth=10, n_estimators=200;, score=-0.081 total time=   0.3s\n",
      "[CV 10/10] END criterion=poisson, max_depth=10, n_estimators=200;, score=0.187 total time=   0.3s\n",
      "[CV 1/10] END criterion=poisson, max_depth=10, n_estimators=300;, score=0.227 total time=   0.4s\n",
      "[CV 2/10] END criterion=poisson, max_depth=10, n_estimators=300;, score=-0.249 total time=   0.4s\n",
      "[CV 3/10] END criterion=poisson, max_depth=10, n_estimators=300;, score=0.334 total time=   0.4s\n",
      "[CV 4/10] END criterion=poisson, max_depth=10, n_estimators=300;, score=0.497 total time=   0.4s\n",
      "[CV 5/10] END criterion=poisson, max_depth=10, n_estimators=300;, score=0.832 total time=   0.4s\n",
      "[CV 6/10] END criterion=poisson, max_depth=10, n_estimators=300;, score=0.541 total time=   0.4s\n",
      "[CV 7/10] END criterion=poisson, max_depth=10, n_estimators=300;, score=0.413 total time=   0.5s\n",
      "[CV 8/10] END criterion=poisson, max_depth=10, n_estimators=300;, score=0.553 total time=   0.4s\n",
      "[CV 9/10] END criterion=poisson, max_depth=10, n_estimators=300;, score=-0.066 total time=   0.4s\n",
      "[CV 10/10] END criterion=poisson, max_depth=10, n_estimators=300;, score=0.121 total time=   0.4s\n",
      "[CV 1/10] END criterion=poisson, max_depth=None, n_estimators=100;, score=0.208 total time=   0.1s\n",
      "[CV 2/10] END criterion=poisson, max_depth=None, n_estimators=100;, score=-0.280 total time=   0.1s\n",
      "[CV 3/10] END criterion=poisson, max_depth=None, n_estimators=100;, score=0.318 total time=   0.1s\n",
      "[CV 4/10] END criterion=poisson, max_depth=None, n_estimators=100;, score=0.471 total time=   0.1s\n",
      "[CV 5/10] END criterion=poisson, max_depth=None, n_estimators=100;, score=0.813 total time=   0.1s\n",
      "[CV 6/10] END criterion=poisson, max_depth=None, n_estimators=100;, score=0.569 total time=   0.1s\n",
      "[CV 7/10] END criterion=poisson, max_depth=None, n_estimators=100;, score=0.414 total time=   0.1s\n",
      "[CV 8/10] END criterion=poisson, max_depth=None, n_estimators=100;, score=0.544 total time=   0.1s\n",
      "[CV 9/10] END criterion=poisson, max_depth=None, n_estimators=100;, score=-0.048 total time=   0.2s\n",
      "[CV 10/10] END criterion=poisson, max_depth=None, n_estimators=100;, score=0.057 total time=   0.1s\n",
      "[CV 1/10] END criterion=poisson, max_depth=None, n_estimators=200;, score=0.169 total time=   0.3s\n",
      "[CV 2/10] END criterion=poisson, max_depth=None, n_estimators=200;, score=-0.265 total time=   0.3s\n",
      "[CV 3/10] END criterion=poisson, max_depth=None, n_estimators=200;, score=0.330 total time=   0.3s\n",
      "[CV 4/10] END criterion=poisson, max_depth=None, n_estimators=200;, score=0.489 total time=   0.3s\n",
      "[CV 5/10] END criterion=poisson, max_depth=None, n_estimators=200;, score=0.813 total time=   0.3s\n",
      "[CV 6/10] END criterion=poisson, max_depth=None, n_estimators=200;, score=0.530 total time=   0.3s\n",
      "[CV 7/10] END criterion=poisson, max_depth=None, n_estimators=200;, score=0.403 total time=   0.3s\n",
      "[CV 8/10] END criterion=poisson, max_depth=None, n_estimators=200;, score=0.576 total time=   0.3s\n",
      "[CV 9/10] END criterion=poisson, max_depth=None, n_estimators=200;, score=-0.060 total time=   0.3s\n",
      "[CV 10/10] END criterion=poisson, max_depth=None, n_estimators=200;, score=0.103 total time=   0.3s\n",
      "[CV 1/10] END criterion=poisson, max_depth=None, n_estimators=300;, score=0.181 total time=   0.4s\n",
      "[CV 2/10] END criterion=poisson, max_depth=None, n_estimators=300;, score=-0.115 total time=   0.5s\n",
      "[CV 3/10] END criterion=poisson, max_depth=None, n_estimators=300;, score=0.355 total time=   0.5s\n",
      "[CV 4/10] END criterion=poisson, max_depth=None, n_estimators=300;, score=0.471 total time=   0.4s\n",
      "[CV 5/10] END criterion=poisson, max_depth=None, n_estimators=300;, score=0.826 total time=   0.4s\n",
      "[CV 6/10] END criterion=poisson, max_depth=None, n_estimators=300;, score=0.540 total time=   0.5s\n",
      "[CV 7/10] END criterion=poisson, max_depth=None, n_estimators=300;, score=0.404 total time=   0.4s\n",
      "[CV 8/10] END criterion=poisson, max_depth=None, n_estimators=300;, score=0.540 total time=   0.5s\n",
      "[CV 9/10] END criterion=poisson, max_depth=None, n_estimators=300;, score=-0.082 total time=   0.4s\n",
      "[CV 10/10] END criterion=poisson, max_depth=None, n_estimators=300;, score=0.093 total time=   0.4s\n"
     ]
    },
    {
     "data": {
      "text/html": [
       "<style>#sk-container-id-3 {color: black;background-color: white;}#sk-container-id-3 pre{padding: 0;}#sk-container-id-3 div.sk-toggleable {background-color: white;}#sk-container-id-3 label.sk-toggleable__label {cursor: pointer;display: block;width: 100%;margin-bottom: 0;padding: 0.3em;box-sizing: border-box;text-align: center;}#sk-container-id-3 label.sk-toggleable__label-arrow:before {content: \"▸\";float: left;margin-right: 0.25em;color: #696969;}#sk-container-id-3 label.sk-toggleable__label-arrow:hover:before {color: black;}#sk-container-id-3 div.sk-estimator:hover label.sk-toggleable__label-arrow:before {color: black;}#sk-container-id-3 div.sk-toggleable__content {max-height: 0;max-width: 0;overflow: hidden;text-align: left;background-color: #f0f8ff;}#sk-container-id-3 div.sk-toggleable__content pre {margin: 0.2em;color: black;border-radius: 0.25em;background-color: #f0f8ff;}#sk-container-id-3 input.sk-toggleable__control:checked~div.sk-toggleable__content {max-height: 200px;max-width: 100%;overflow: auto;}#sk-container-id-3 input.sk-toggleable__control:checked~label.sk-toggleable__label-arrow:before {content: \"▾\";}#sk-container-id-3 div.sk-estimator input.sk-toggleable__control:checked~label.sk-toggleable__label {background-color: #d4ebff;}#sk-container-id-3 div.sk-label input.sk-toggleable__control:checked~label.sk-toggleable__label {background-color: #d4ebff;}#sk-container-id-3 input.sk-hidden--visually {border: 0;clip: rect(1px 1px 1px 1px);clip: rect(1px, 1px, 1px, 1px);height: 1px;margin: -1px;overflow: hidden;padding: 0;position: absolute;width: 1px;}#sk-container-id-3 div.sk-estimator {font-family: monospace;background-color: #f0f8ff;border: 1px dotted black;border-radius: 0.25em;box-sizing: border-box;margin-bottom: 0.5em;}#sk-container-id-3 div.sk-estimator:hover {background-color: #d4ebff;}#sk-container-id-3 div.sk-parallel-item::after {content: \"\";width: 100%;border-bottom: 1px solid gray;flex-grow: 1;}#sk-container-id-3 div.sk-label:hover label.sk-toggleable__label {background-color: #d4ebff;}#sk-container-id-3 div.sk-serial::before {content: \"\";position: absolute;border-left: 1px solid gray;box-sizing: border-box;top: 0;bottom: 0;left: 50%;z-index: 0;}#sk-container-id-3 div.sk-serial {display: flex;flex-direction: column;align-items: center;background-color: white;padding-right: 0.2em;padding-left: 0.2em;position: relative;}#sk-container-id-3 div.sk-item {position: relative;z-index: 1;}#sk-container-id-3 div.sk-parallel {display: flex;align-items: stretch;justify-content: center;background-color: white;position: relative;}#sk-container-id-3 div.sk-item::before, #sk-container-id-3 div.sk-parallel-item::before {content: \"\";position: absolute;border-left: 1px solid gray;box-sizing: border-box;top: 0;bottom: 0;left: 50%;z-index: -1;}#sk-container-id-3 div.sk-parallel-item {display: flex;flex-direction: column;z-index: 1;position: relative;background-color: white;}#sk-container-id-3 div.sk-parallel-item:first-child::after {align-self: flex-end;width: 50%;}#sk-container-id-3 div.sk-parallel-item:last-child::after {align-self: flex-start;width: 50%;}#sk-container-id-3 div.sk-parallel-item:only-child::after {width: 0;}#sk-container-id-3 div.sk-dashed-wrapped {border: 1px dashed gray;margin: 0 0.4em 0.5em 0.4em;box-sizing: border-box;padding-bottom: 0.4em;background-color: white;}#sk-container-id-3 div.sk-label label {font-family: monospace;font-weight: bold;display: inline-block;line-height: 1.2em;}#sk-container-id-3 div.sk-label-container {text-align: center;}#sk-container-id-3 div.sk-container {/* jupyter's `normalize.less` sets `[hidden] { display: none; }` but bootstrap.min.css set `[hidden] { display: none !important; }` so we also need the `!important` here to be able to override the default hidden behavior on the sphinx rendered scikit-learn.org. See: https://github.com/scikit-learn/scikit-learn/issues/21755 */display: inline-block !important;position: relative;}#sk-container-id-3 div.sk-text-repr-fallback {display: none;}</style><div id=\"sk-container-id-3\" class=\"sk-top-container\"><div class=\"sk-text-repr-fallback\"><pre>GridSearchCV(cv=10, estimator=RandomForestRegressor(),\n",
       "             param_grid={&#x27;criterion&#x27;: [&#x27;squared_error&#x27;, &#x27;absolute_error&#x27;,\n",
       "                                       &#x27;friedman_mse&#x27;, &#x27;poisson&#x27;],\n",
       "                         &#x27;max_depth&#x27;: [3, 5, 10, None],\n",
       "                         &#x27;n_estimators&#x27;: [100, 200, 300]},\n",
       "             scoring=&#x27;r2&#x27;, verbose=3)</pre><b>In a Jupyter environment, please rerun this cell to show the HTML representation or trust the notebook. <br />On GitHub, the HTML representation is unable to render, please try loading this page with nbviewer.org.</b></div><div class=\"sk-container\" hidden><div class=\"sk-item sk-dashed-wrapped\"><div class=\"sk-label-container\"><div class=\"sk-label sk-toggleable\"><input class=\"sk-toggleable__control sk-hidden--visually\" id=\"sk-estimator-id-7\" type=\"checkbox\" ><label for=\"sk-estimator-id-7\" class=\"sk-toggleable__label sk-toggleable__label-arrow\">GridSearchCV</label><div class=\"sk-toggleable__content\"><pre>GridSearchCV(cv=10, estimator=RandomForestRegressor(),\n",
       "             param_grid={&#x27;criterion&#x27;: [&#x27;squared_error&#x27;, &#x27;absolute_error&#x27;,\n",
       "                                       &#x27;friedman_mse&#x27;, &#x27;poisson&#x27;],\n",
       "                         &#x27;max_depth&#x27;: [3, 5, 10, None],\n",
       "                         &#x27;n_estimators&#x27;: [100, 200, 300]},\n",
       "             scoring=&#x27;r2&#x27;, verbose=3)</pre></div></div></div><div class=\"sk-parallel\"><div class=\"sk-parallel-item\"><div class=\"sk-item\"><div class=\"sk-label-container\"><div class=\"sk-label sk-toggleable\"><input class=\"sk-toggleable__control sk-hidden--visually\" id=\"sk-estimator-id-8\" type=\"checkbox\" ><label for=\"sk-estimator-id-8\" class=\"sk-toggleable__label sk-toggleable__label-arrow\">estimator: RandomForestRegressor</label><div class=\"sk-toggleable__content\"><pre>RandomForestRegressor()</pre></div></div></div><div class=\"sk-serial\"><div class=\"sk-item\"><div class=\"sk-estimator sk-toggleable\"><input class=\"sk-toggleable__control sk-hidden--visually\" id=\"sk-estimator-id-9\" type=\"checkbox\" ><label for=\"sk-estimator-id-9\" class=\"sk-toggleable__label sk-toggleable__label-arrow\">RandomForestRegressor</label><div class=\"sk-toggleable__content\"><pre>RandomForestRegressor()</pre></div></div></div></div></div></div></div></div></div></div>"
      ],
      "text/plain": [
       "GridSearchCV(cv=10, estimator=RandomForestRegressor(),\n",
       "             param_grid={'criterion': ['squared_error', 'absolute_error',\n",
       "                                       'friedman_mse', 'poisson'],\n",
       "                         'max_depth': [3, 5, 10, None],\n",
       "                         'n_estimators': [100, 200, 300]},\n",
       "             scoring='r2', verbose=3)"
      ]
     },
     "execution_count": 172,
     "metadata": {},
     "output_type": "execute_result"
    }
   ],
   "source": [
    "reg.fit(X_train,y_train)"
   ]
  },
  {
   "cell_type": "code",
   "execution_count": 173,
   "metadata": {},
   "outputs": [
    {
     "data": {
      "text/plain": [
       "{'criterion': 'absolute_error', 'max_depth': 5, 'n_estimators': 200}"
      ]
     },
     "execution_count": 173,
     "metadata": {},
     "output_type": "execute_result"
    }
   ],
   "source": [
    "reg.best_params_"
   ]
  },
  {
   "cell_type": "code",
   "execution_count": 175,
   "metadata": {},
   "outputs": [],
   "source": [
    "regressor = RandomForestRegressor(criterion=\"absolute_error\", max_depth=5 , n_estimators = 200)"
   ]
  },
  {
   "cell_type": "code",
   "execution_count": 176,
   "metadata": {},
   "outputs": [
    {
     "data": {
      "text/html": [
       "<style>#sk-container-id-4 {color: black;background-color: white;}#sk-container-id-4 pre{padding: 0;}#sk-container-id-4 div.sk-toggleable {background-color: white;}#sk-container-id-4 label.sk-toggleable__label {cursor: pointer;display: block;width: 100%;margin-bottom: 0;padding: 0.3em;box-sizing: border-box;text-align: center;}#sk-container-id-4 label.sk-toggleable__label-arrow:before {content: \"▸\";float: left;margin-right: 0.25em;color: #696969;}#sk-container-id-4 label.sk-toggleable__label-arrow:hover:before {color: black;}#sk-container-id-4 div.sk-estimator:hover label.sk-toggleable__label-arrow:before {color: black;}#sk-container-id-4 div.sk-toggleable__content {max-height: 0;max-width: 0;overflow: hidden;text-align: left;background-color: #f0f8ff;}#sk-container-id-4 div.sk-toggleable__content pre {margin: 0.2em;color: black;border-radius: 0.25em;background-color: #f0f8ff;}#sk-container-id-4 input.sk-toggleable__control:checked~div.sk-toggleable__content {max-height: 200px;max-width: 100%;overflow: auto;}#sk-container-id-4 input.sk-toggleable__control:checked~label.sk-toggleable__label-arrow:before {content: \"▾\";}#sk-container-id-4 div.sk-estimator input.sk-toggleable__control:checked~label.sk-toggleable__label {background-color: #d4ebff;}#sk-container-id-4 div.sk-label input.sk-toggleable__control:checked~label.sk-toggleable__label {background-color: #d4ebff;}#sk-container-id-4 input.sk-hidden--visually {border: 0;clip: rect(1px 1px 1px 1px);clip: rect(1px, 1px, 1px, 1px);height: 1px;margin: -1px;overflow: hidden;padding: 0;position: absolute;width: 1px;}#sk-container-id-4 div.sk-estimator {font-family: monospace;background-color: #f0f8ff;border: 1px dotted black;border-radius: 0.25em;box-sizing: border-box;margin-bottom: 0.5em;}#sk-container-id-4 div.sk-estimator:hover {background-color: #d4ebff;}#sk-container-id-4 div.sk-parallel-item::after {content: \"\";width: 100%;border-bottom: 1px solid gray;flex-grow: 1;}#sk-container-id-4 div.sk-label:hover label.sk-toggleable__label {background-color: #d4ebff;}#sk-container-id-4 div.sk-serial::before {content: \"\";position: absolute;border-left: 1px solid gray;box-sizing: border-box;top: 0;bottom: 0;left: 50%;z-index: 0;}#sk-container-id-4 div.sk-serial {display: flex;flex-direction: column;align-items: center;background-color: white;padding-right: 0.2em;padding-left: 0.2em;position: relative;}#sk-container-id-4 div.sk-item {position: relative;z-index: 1;}#sk-container-id-4 div.sk-parallel {display: flex;align-items: stretch;justify-content: center;background-color: white;position: relative;}#sk-container-id-4 div.sk-item::before, #sk-container-id-4 div.sk-parallel-item::before {content: \"\";position: absolute;border-left: 1px solid gray;box-sizing: border-box;top: 0;bottom: 0;left: 50%;z-index: -1;}#sk-container-id-4 div.sk-parallel-item {display: flex;flex-direction: column;z-index: 1;position: relative;background-color: white;}#sk-container-id-4 div.sk-parallel-item:first-child::after {align-self: flex-end;width: 50%;}#sk-container-id-4 div.sk-parallel-item:last-child::after {align-self: flex-start;width: 50%;}#sk-container-id-4 div.sk-parallel-item:only-child::after {width: 0;}#sk-container-id-4 div.sk-dashed-wrapped {border: 1px dashed gray;margin: 0 0.4em 0.5em 0.4em;box-sizing: border-box;padding-bottom: 0.4em;background-color: white;}#sk-container-id-4 div.sk-label label {font-family: monospace;font-weight: bold;display: inline-block;line-height: 1.2em;}#sk-container-id-4 div.sk-label-container {text-align: center;}#sk-container-id-4 div.sk-container {/* jupyter's `normalize.less` sets `[hidden] { display: none; }` but bootstrap.min.css set `[hidden] { display: none !important; }` so we also need the `!important` here to be able to override the default hidden behavior on the sphinx rendered scikit-learn.org. See: https://github.com/scikit-learn/scikit-learn/issues/21755 */display: inline-block !important;position: relative;}#sk-container-id-4 div.sk-text-repr-fallback {display: none;}</style><div id=\"sk-container-id-4\" class=\"sk-top-container\"><div class=\"sk-text-repr-fallback\"><pre>RandomForestRegressor(criterion=&#x27;absolute_error&#x27;, max_depth=5, n_estimators=200)</pre><b>In a Jupyter environment, please rerun this cell to show the HTML representation or trust the notebook. <br />On GitHub, the HTML representation is unable to render, please try loading this page with nbviewer.org.</b></div><div class=\"sk-container\" hidden><div class=\"sk-item\"><div class=\"sk-estimator sk-toggleable\"><input class=\"sk-toggleable__control sk-hidden--visually\" id=\"sk-estimator-id-10\" type=\"checkbox\" checked><label for=\"sk-estimator-id-10\" class=\"sk-toggleable__label sk-toggleable__label-arrow\">RandomForestRegressor</label><div class=\"sk-toggleable__content\"><pre>RandomForestRegressor(criterion=&#x27;absolute_error&#x27;, max_depth=5, n_estimators=200)</pre></div></div></div></div></div>"
      ],
      "text/plain": [
       "RandomForestRegressor(criterion='absolute_error', max_depth=5, n_estimators=200)"
      ]
     },
     "execution_count": 176,
     "metadata": {},
     "output_type": "execute_result"
    }
   ],
   "source": [
    "regressor.fit(X_train,y_train)"
   ]
  },
  {
   "cell_type": "code",
   "execution_count": 177,
   "metadata": {},
   "outputs": [],
   "source": [
    "y_pred_forest = regressor.predict(X_test)"
   ]
  },
  {
   "cell_type": "code",
   "execution_count": 178,
   "metadata": {},
   "outputs": [
    {
     "name": "stdout",
     "output_type": "stream",
     "text": [
      "Mean absolute error 0.7062295918367351\n",
      "R2 0.3793550771447084\n"
     ]
    }
   ],
   "source": [
    "print(\"Mean absolute error\" , mean_absolute_error(y_test,y_pred_forest))\n",
    "print(\"R2\", r2_score(y_test,y_pred_forest))"
   ]
  }
 ],
 "metadata": {
  "kernelspec": {
   "display_name": "Python 3 (ipykernel)",
   "language": "python",
   "name": "python3"
  },
  "language_info": {
   "codemirror_mode": {
    "name": "ipython",
    "version": 3
   },
   "file_extension": ".py",
   "mimetype": "text/x-python",
   "name": "python",
   "nbconvert_exporter": "python",
   "pygments_lexer": "ipython3",
   "version": "3.9.16"
  }
 },
 "nbformat": 4,
 "nbformat_minor": 4
}
