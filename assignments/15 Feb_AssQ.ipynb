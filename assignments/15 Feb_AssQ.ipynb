{
 "cells": [
  {
   "cell_type": "markdown",
   "id": "599b2f26-c808-4933-85bf-9adca5029979",
   "metadata": {},
   "source": [
    "# **`MULTIPROCESSING ASSIGNMENT`**"
   ]
  },
  {
   "cell_type": "markdown",
   "id": "8b843d20-3d19-4f7d-843e-f5b7004097df",
   "metadata": {
    "tags": []
   },
   "source": [
    "`Q1. What is multiprocessing in python? Why is it useful?\n",
    "`"
   ]
  },
  {
   "cell_type": "markdown",
   "id": "cd1b14d3-4f15-4078-9fa4-3cc2ac200126",
   "metadata": {},
   "source": [
    "Ans: Multiprocessing in Python is a built-in package that allows the system to run multiple processes simultaneously. It will enable the breaking of applications into smaller threads that can run independently. The operating system can then allocate all these threads or processes to the processor to run them parallelly, thus improving the overall performance and efficiency.\n",
    "\n",
    "Performing multiple operations for a single processor becomes challenging. As the number of processes keeps increasing, the processor will have to halt the current process and move to the next, to keep them going. Thus, it will have to interrupt each task, thereby hampering the performance.\n",
    "\n",
    "We can think of it as an employee in an organization tasked to perform jobs in multiple departments. If the employee has to manage the sales, accounts, and even the backend, he will have to stop sales when he is into accounts and vice versa.\n",
    "\n",
    "Suppose there are different employees, each to perform a specific task. It becomes simpler, right? That’s why multiprocessing in Python becomes essential. The smaller task threads act like different employees, making it easier to handle and manage various processes. A multiprocessing system can be represented as:\n",
    "\n",
    "A system with more than a single central processor\n",
    "A multi-core processor, i.e., a single computing unit with multiple independent core processing units\n",
    "In multiprocessing, the system can divide and assign tasks to different processors."
   ]
  },
  {
   "cell_type": "markdown",
   "id": "5fb3e7b8-ab01-470a-b36d-e101b328eab3",
   "metadata": {},
   "source": [
    "`Q2. What are the differences between multiprocessing and multithreading?\n",
    "`"
   ]
  },
  {
   "cell_type": "markdown",
   "id": "390a93f4-5b64-4d23-9a92-b19a6cad76c8",
   "metadata": {},
   "source": [
    "While multithreading and multiprocessing can both be used to increase the computing power of a system, there are some key differences between these approaches. Here are some of the primary ways these methods differ from one another:\n",
    "\n",
    "- Multiprocessing uses two or more CPUs to increase computing power, whereas multithreading uses a single process with multiple code segments to increase computing power.\n",
    "- Multithreading focuses on generating computing threads from a single process, whereas multiprocessing increases computing power by adding CPUs.\n",
    "- Multiprocessing is used to create a more reliable system, whereas multithreading is used to create threads that run parallel to each other.\n",
    "- Multithreading is quick to create and requires few resources, whereas multiprocessing requires a significant amount of time and specific resources to create.\n",
    "- Multiprocessing executes many processes simultaneously, whereas multithreading executes many threads simultaneously.\n",
    "- Multithreading uses a common address space for all the threads, whereas multiprocessing creates a separate address space for each process."
   ]
  },
  {
   "cell_type": "markdown",
   "id": "b95a2e24-0efc-451c-84bf-fb2482cde5d5",
   "metadata": {},
   "source": [
    "`Q3. Write a python code to create a process using the multiprocessing module.`\n"
   ]
  },
  {
   "cell_type": "code",
   "execution_count": 22,
   "id": "02ba2a31-d95f-4804-9263-f783c377a7cb",
   "metadata": {},
   "outputs": [
    {
     "name": "stdout",
     "output_type": "stream",
     "text": [
      "this is my main multiprocessing code\n",
      "this is a python code for a process using multiprocessing module\n"
     ]
    }
   ],
   "source": [
    "import multiprocessing\n",
    "\n",
    "def test():\n",
    "    print(\"this is a python code for a process using multiprocessing module\")\n",
    "    \n",
    "if __name__ == \"__main__\":\n",
    "    m = multiprocessing.Process(target=test)\n",
    "    print(\"this is my main multiprocessing code\")\n",
    "    m.start()\n",
    "    m.join()"
   ]
  },
  {
   "cell_type": "markdown",
   "id": "f7689beb-9e86-4c11-9c11-2a8cbf8c52e3",
   "metadata": {},
   "source": [
    "`Q4. What is a multiprocessing pool in python? Why is it used?\n",
    "`"
   ]
  },
  {
   "cell_type": "markdown",
   "id": "b46f646c-5725-48ed-bbac-000edd652e33",
   "metadata": {},
   "source": [
    "Ans. A process pool is a programming pattern for automatically managing a pool of worker processes.\n",
    "\n",
    "The pool is responsible for a fixed number of processes.\n",
    "\n",
    "It controls when they are created, such as when they are needed.\n",
    "It also controls what they should do when they are not being used, such as making them wait without consuming computational resources.\n",
    "The pool can provide a generic interface for executing ad hoc tasks with a variable number of arguments, much like the target property on the Process object, but does not require that we choose a process to run the task, start the process, or wait for the task to complete.\n",
    "\n",
    "Python provides a process pool via the multiprocessing.Pool class.\n",
    "\n",
    "The multiprocessing.pool.Pool class can also be accessed by the alias multiprocessing.Pool. They can be used interchangeably.\n",
    "\n",
    "It allows tasks to be submitted as functions to the process pool to be executed concurrently."
   ]
  },
  {
   "cell_type": "markdown",
   "id": "87c2c0df-98cd-40e7-aba8-710b6ac53755",
   "metadata": {},
   "source": [
    "`Q5. How can we create a pool of worker processes in python using the multiprocessing module?`\n"
   ]
  },
  {
   "cell_type": "code",
   "execution_count": 23,
   "id": "159fb552-b9fb-40ca-94e1-4fd8b06d117e",
   "metadata": {},
   "outputs": [
    {
     "name": "stdout",
     "output_type": "stream",
     "text": [
      "[27, 64, 125, 216, 343, 343, 512, 512, 729]\n"
     ]
    }
   ],
   "source": [
    "#ans:\n",
    "import multiprocessing\n",
    "def cube(x):\n",
    "    ''' Takes an int as input and returns its cube\n",
    "    '''\n",
    "    return x**3\n",
    "if __name__ == \"__main__\":\n",
    "    with multiprocessing.Pool(processes=3) as pool:\n",
    "        output = pool.map(cube,[3,4,5,6,7,7,8,8,9])\n",
    "        print(output)"
   ]
  },
  {
   "cell_type": "markdown",
   "id": "6188c9e5-2c81-4dba-b896-be1d54feb969",
   "metadata": {},
   "source": [
    "`Q6. Write a python program to create 4 processes, each process should print a different number using the\n",
    "multiprocessing module in python.`"
   ]
  },
  {
   "cell_type": "code",
   "execution_count": 35,
   "id": "0aceab73-b201-47f7-ac1e-ee7cacd65fea",
   "metadata": {},
   "outputs": [
    {
     "name": "stdout",
     "output_type": "stream",
     "text": [
      "86\n",
      "62\n",
      "96\n",
      "72\n"
     ]
    }
   ],
   "source": [
    "import multiprocessing\n",
    "import numpy as np\n",
    "\n",
    "def random_num(n):\n",
    "    num = np.random.randint(n,100,1)\n",
    "    print(num[0])\n",
    "if __name__ == \"__main__\":\n",
    "    m1 = multiprocessing.Process(target=random_num,args=(10,))\n",
    "    m2 = multiprocessing.Process(target=random_num,args=(50,))\n",
    "    m3 = multiprocessing.Process(target=random_num,args=(20,))\n",
    "    m4 = multiprocessing.Process(target=random_num,args=(60,))\n",
    "    m1.start()\n",
    "    m2.start()\n",
    "    m3.start()\n",
    "    m4.start()\n",
    "    m1.join()\n",
    "    m2.join()\n",
    "    m3.join()\n",
    "    m4.join()"
   ]
  }
 ],
 "metadata": {
  "kernelspec": {
   "display_name": "Python 3 (ipykernel)",
   "language": "python",
   "name": "python3"
  },
  "language_info": {
   "codemirror_mode": {
    "name": "ipython",
    "version": 3
   },
   "file_extension": ".py",
   "mimetype": "text/x-python",
   "name": "python",
   "nbconvert_exporter": "python",
   "pygments_lexer": "ipython3",
   "version": "3.10.8"
  }
 },
 "nbformat": 4,
 "nbformat_minor": 5
}
