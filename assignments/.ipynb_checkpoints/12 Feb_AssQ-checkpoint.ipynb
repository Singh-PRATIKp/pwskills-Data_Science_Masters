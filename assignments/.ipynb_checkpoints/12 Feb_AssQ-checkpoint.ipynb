{
 "cells": [
  {
   "cell_type": "markdown",
   "id": "e65041f9",
   "metadata": {},
   "source": [
    "**`Exception Handling`**"
   ]
  },
  {
   "cell_type": "markdown",
   "id": "a4f965e3",
   "metadata": {},
   "source": [
    "`Q1. What is an Exception in python? Write the difference between Exceptions and Syntax errors`"
   ]
  },
  {
   "cell_type": "markdown",
   "id": "5c4f6212",
   "metadata": {},
   "source": [
    "Ans: Errors are the problems in a program due to which the program will stop the execution. On the other hand, exceptions are raised when some internal events occur which changes the normal flow of the program. \n",
    "Two types of Error occurs in python. \n",
    "- Syntax errors : When the proper syntax of the language is not followed then a syntax error is thrown.\n",
    "- Logical errors (Exceptions) : When in the runtime an error that occurs after passing the syntax test is called exception or logical type. For example, when we divide any number by zero then the ZeroDivisionError exception is raised, or when we import a module that does not exist then ImportError is raised."
   ]
  },
  {
   "cell_type": "markdown",
   "id": "e1b4c563",
   "metadata": {},
   "source": [
    "`Q2. What happens when an exception is not handled? Explain with an example.`"
   ]
  },
  {
   "cell_type": "markdown",
   "id": "84897e32",
   "metadata": {},
   "source": [
    "Ans: The runtime system will abort the program (i.e. crash) and an exception message will print to the console."
   ]
  },
  {
   "cell_type": "code",
   "execution_count": 2,
   "id": "b5675af4",
   "metadata": {},
   "outputs": [
    {
     "ename": "ZeroDivisionError",
     "evalue": "division by zero",
     "output_type": "error",
     "traceback": [
      "\u001b[1;31m---------------------------------------------------------------------------\u001b[0m",
      "\u001b[1;31mZeroDivisionError\u001b[0m                         Traceback (most recent call last)",
      "\u001b[1;32m~\\AppData\\Local\\Temp\\ipykernel_3568\\1081621676.py\u001b[0m in \u001b[0;36m<module>\u001b[1;34m\u001b[0m\n\u001b[0;32m      1\u001b[0m \u001b[0ma\u001b[0m \u001b[1;33m=\u001b[0m \u001b[1;36m1\u001b[0m\u001b[1;33m\u001b[0m\u001b[1;33m\u001b[0m\u001b[0m\n\u001b[1;32m----> 2\u001b[1;33m \u001b[0ma\u001b[0m\u001b[1;33m/\u001b[0m\u001b[1;36m0\u001b[0m\u001b[1;33m\u001b[0m\u001b[1;33m\u001b[0m\u001b[0m\n\u001b[0m",
      "\u001b[1;31mZeroDivisionError\u001b[0m: division by zero"
     ]
    }
   ],
   "source": [
    "a = 1\n",
    "a/0"
   ]
  },
  {
   "cell_type": "markdown",
   "id": "c0242698",
   "metadata": {},
   "source": [
    "`Q3. Which Python statements are used to catch and handle exceptions? Explain with an example`"
   ]
  },
  {
   "cell_type": "markdown",
   "id": "e7d471e6",
   "metadata": {},
   "source": [
    "Ans: Try-Except"
   ]
  },
  {
   "cell_type": "code",
   "execution_count": 5,
   "id": "f74499d6",
   "metadata": {},
   "outputs": [
    {
     "name": "stdout",
     "output_type": "stream",
     "text": [
      "This is the error:  division by zero\n"
     ]
    }
   ],
   "source": [
    "try:\n",
    "    a = 1\n",
    "    print(a/0)\n",
    "except ZeroDivisionError as e:\n",
    "    print(\"This is the error: \",e)"
   ]
  },
  {
   "cell_type": "markdown",
   "id": "4d3d4d89",
   "metadata": {},
   "source": [
    "Q4. Explain with an example:\n",
    "- Try and except\n",
    "- finally\n",
    "- raise"
   ]
  },
  {
   "cell_type": "markdown",
   "id": "d883632c",
   "metadata": {},
   "source": [
    "1. Try-Except: First the code runs inside the try block and if any error occurs immediately the except block will be executed and the error will be handled inside the except block"
   ]
  },
  {
   "cell_type": "code",
   "execution_count": 10,
   "id": "98bbdb37",
   "metadata": {},
   "outputs": [
    {
     "name": "stdout",
     "output_type": "stream",
     "text": [
      "This is the error: [Errno 2] No such file or directory: 'text'\n"
     ]
    }
   ],
   "source": [
    "#try and except: \n",
    "try:\n",
    "    f = open(\"text\" , \"r\")\n",
    "except FileNotFoundError as e:\n",
    "    print(\"This is the error:\", e)"
   ]
  },
  {
   "cell_type": "markdown",
   "id": "553e46b4",
   "metadata": {},
   "source": [
    "2. Finally : This block will be executed irrespective of any outcome i.e even if try-except fails it will be executed"
   ]
  },
  {
   "cell_type": "code",
   "execution_count": 12,
   "id": "de7bdf13",
   "metadata": {},
   "outputs": [
    {
     "name": "stdout",
     "output_type": "stream",
     "text": [
      "This is the error: [Errno 2] No such file or directory: 'text'\n",
      "this will always be printed\n"
     ]
    }
   ],
   "source": [
    "#finally\n",
    "try:\n",
    "    f = open(\"text\" , \"r\")\n",
    "except FileNotFoundError as e:\n",
    "    print(\"This is the error:\", e)\n",
    "finally:\n",
    "    print(\"this will always be printed\")"
   ]
  },
  {
   "cell_type": "markdown",
   "id": "563026b6",
   "metadata": {},
   "source": [
    "3. Raise: We can raise our own custom error at any point in the code using the raise keyword"
   ]
  },
  {
   "cell_type": "code",
   "execution_count": 21,
   "id": "f1917c29",
   "metadata": {},
   "outputs": [
    {
     "name": "stdout",
     "output_type": "stream",
     "text": [
      "Enter your marks1223\n",
      "marks cannot be greater than 100\n"
     ]
    }
   ],
   "source": [
    "#raise\n",
    "\n",
    "try:\n",
    "    marks = int(input(\"Enter your marks\"))\n",
    "    if marks > 100:\n",
    "        raise ValueError(\"marks cannot be greater than 100\")\n",
    "    print(marks)\n",
    "except ValueError as e:\n",
    "    print(e)"
   ]
  },
  {
   "cell_type": "markdown",
   "id": "0b075fb0",
   "metadata": {},
   "source": [
    "`Q5. What are Custom Exceptions in python? Why do we need Custom Exceptions? Explain with an example`"
   ]
  },
  {
   "cell_type": "markdown",
   "id": "cea9e437",
   "metadata": {},
   "source": [
    "Ans : In Python, we can define custom exceptions by creating a new class that is derived from the built-in Exception class.Even though BaseExceptions in python has many different types of errors already predefined we may need custom exceptions depending on our code requirement since our code logic may vary.\n",
    "Here's the syntax to define custom exceptions,\n",
    "\n",
    "class CustomError(Exception):\n",
    "    ...\n",
    "    pass\n",
    "\n",
    "try:\n",
    "   ...\n",
    "\n",
    "except CustomError:\n",
    "    ..."
   ]
  },
  {
   "cell_type": "code",
   "execution_count": 26,
   "id": "ac90503b",
   "metadata": {},
   "outputs": [
    {
     "name": "stdout",
     "output_type": "stream",
     "text": [
      "enter your height:-1231\n",
      "height cannot be negative\n"
     ]
    }
   ],
   "source": [
    "class negative_height(Exception): # this is a custom error which can be raised when height entered by user is negative and it is not covered by Exceptions in python\n",
    "    def __init__(self,msg):\n",
    "        self.msg = msg\n",
    "        \n",
    "try:\n",
    "    height = int(input(\"enter your height:\"))\n",
    "    if height < 0:\n",
    "        raise negative_height(\"height cannot be negative\")\n",
    "    print(height)\n",
    "except negative_height as e:\n",
    "    print(e)\n",
    "except ValueError as e:\n",
    "    print(e)"
   ]
  },
  {
   "cell_type": "markdown",
   "id": "39db0764",
   "metadata": {},
   "source": [
    "Q6. Create a custom exception class. Use this class to handle an exception."
   ]
  },
  {
   "cell_type": "code",
   "execution_count": 45,
   "id": "de09d0da",
   "metadata": {},
   "outputs": [
    {
     "name": "stdout",
     "output_type": "stream",
     "text": [
      "enter your age: 3445\n",
      "Age entered is too high, please verify\n",
      "good bye\n"
     ]
    }
   ],
   "source": [
    "class validate_age(Exception):\n",
    "    def __init__(self,msg):\n",
    "        self.msg = msg      \n",
    "try:\n",
    "    age = int(input(\"enter your age: \"))\n",
    "    if age > 200:\n",
    "        raise validate_age(\"Age entered is too high, please verify\")\n",
    "    elif age <= 0 :\n",
    "        raise validate_age(\"Age cannot be equal to or less than 0, please verify \")\n",
    "    print(\"%s years\"%age)\n",
    "except validate_age as e:\n",
    "    print(e)\n",
    "except ValueError as e:\n",
    "    print(e)\n",
    "else:\n",
    "    print(\"age is validated\")\n",
    "finally:\n",
    "    print(\"good bye\")"
   ]
  }
 ],
 "metadata": {
  "kernelspec": {
   "display_name": "Python 3 (ipykernel)",
   "language": "python",
   "name": "python3"
  },
  "language_info": {
   "codemirror_mode": {
    "name": "ipython",
    "version": 3
   },
   "file_extension": ".py",
   "mimetype": "text/x-python",
   "name": "python",
   "nbconvert_exporter": "python",
   "pygments_lexer": "ipython3",
   "version": "3.9.16"
  }
 },
 "nbformat": 4,
 "nbformat_minor": 5
}
