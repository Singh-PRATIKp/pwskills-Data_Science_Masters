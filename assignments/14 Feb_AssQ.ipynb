{
 "cells": [
  {
   "cell_type": "markdown",
   "source": [
    "**`Multithreading Assignment`**"
   ],
   "metadata": {
    "collapsed": false
   }
  },
  {
   "cell_type": "markdown",
   "source": [
    "`Q1.What is multithreading in python? Why is it used? Name the module used to handle threads in python`"
   ],
   "metadata": {
    "collapsed": false
   }
  },
  {
   "cell_type": "markdown",
   "source": [
    "1. Definition:A thread is the smallest unit of a program or process executed independently or scheduled by the Operating System. In the computer system, an Operating System achieves multitasking by dividing the process into threads. A thread is a lightweight process that ensures the execution of the process separately on the system. In Python 3, when multiple processors are running on a program, each processor runs simultaneously to execute its tasks separately. Multithreading is a threading technique in Python programming to run multiple threads concurrently by rapidly switching between threads with a CPU help (called context switching). Besides, it allows sharing of its data space with the main threads inside a process that share information and communication with other threads easier than individual processes.\n",
    "2. Use: Multithreading aims to perform multiple tasks simultaneously, which increases performance, speed and improves the rendering of the application.\n",
    "3. Module: threading"
   ],
   "metadata": {
    "collapsed": false
   }
  },
  {
   "cell_type": "markdown",
   "source": [
    "`Q2.Why threading module used? rite the use of the following functions`\n",
    "- `activeCount()`\n",
    "- `currentThread()`\n",
    "- `enumerate()`"
   ],
   "metadata": {
    "collapsed": false
   }
  },
  {
   "cell_type": "markdown",
   "source": [
    "The thread Module starts a new thread and return its identifier. The thread executes the function \"function\" with the argument list args (which must be a list or a tuple). The optional kwargs argument specifies a dictionary of keyword arguments. This module provides Thread - based parallelism and constructs higher-level threading interface on top of lower level _thread module.\n",
    "*CPython implementation detail*: In CPython, due to the **Global Interpreter Lock**, only one thread can execute Python code at once (even though certain performance-oriented libraries might overcome this limitation). If we want our application to make better use of the computational resources of multi-core machines, then we are advised to use *multiprocessing* or *concurrent.futures.ProcessPoolExecutor*. However, threading is still an appropriate model if we want to run multiple I/O-bound tasks simultaneously.\n",
    "1. threading.active_count()\n",
    "Return the number of Thread objects currently alive. The returned count is equal to the length of the list returned by enumerate().The function activeCount is a deprecated alias for this function.\n",
    "2. threading.current_thread()\n",
    "Return the current Thread object, corresponding to the caller’s thread of control. If the caller’s thread of control was not created through the threading module, a dummy thread object with limited functionality is returned.\n",
    "3. threading.enumerate()\n",
    "Return a list of all Thread objects currently active. The list includes daemonic threads and dummy thread objects created by current_thread(). It excludes terminated threads and threads that have not yet been started. However, the main thread is always part of the result, even when terminated."
   ],
   "metadata": {
    "collapsed": false
   }
  },
  {
   "cell_type": "markdown",
   "source": [
    "`Q3. Explain the following functions`\n",
    "`1. run()`\n",
    "`2. start()`\n",
    "`3. join()`\n",
    "`4. isAlive()`"
   ],
   "metadata": {
    "collapsed": false
   }
  },
  {
   "cell_type": "markdown",
   "source": [
    "1. run()  − The run() method is the entry point for a thread.\n",
    "2. start()  − The start() method starts a thread by calling the run method.\n",
    "3. join([time])  − The join() waits for threads to terminate.\n",
    "4. isAlive()  − The isAlive() method checks whether a thread is still executing."
   ],
   "metadata": {
    "collapsed": false
   }
  },
  {
   "cell_type": "markdown",
   "source": [
    "`Q4. rite a python program to create two threads. Thread one must print the list of squares and thread\n",
    "two must print the list of cubes`"
   ],
   "metadata": {
    "collapsed": false
   }
  },
  {
   "cell_type": "code",
   "execution_count": 21,
   "outputs": [],
   "source": [
    "import threading # importing module\n",
    "def s(x): #defining square function\n",
    "    print(\"the sqaure of %d is %d\" %(x,x**2))\n",
    "def c(x): #defining cube function\n",
    "    print(\"the sqaure of %d is %d\" %(x,x**3))\n",
    "thread1 = [threading.Thread(target=s,args=(i,)) for i in range(10)] #creating a thread object for squares function\n",
    "thread2 = [threading.Thread(target=c,args=(i,)) for i in range(10)] #creating a thread object for cubes function"
   ],
   "metadata": {
    "collapsed": false
   }
  },
  {
   "cell_type": "code",
   "execution_count": 22,
   "outputs": [
    {
     "name": "stdout",
     "output_type": "stream",
     "text": [
      "the sqaure of 0 is 0\n",
      "the sqaure of 1 is 1\n",
      "the sqaure of 2 is 4\n",
      "the sqaure of 3 is 9\n",
      "the sqaure of 4 is 16\n",
      "the sqaure of 5 is 25\n",
      "the sqaure of 6 is 36\n",
      "the sqaure of 7 is 49\n",
      "the sqaure of 8 is 64\n",
      "the sqaure of 9 is 81\n"
     ]
    }
   ],
   "source": [
    "for t in thread1: #squares thread\n",
    "    t.start()"
   ],
   "metadata": {
    "collapsed": false
   }
  },
  {
   "cell_type": "code",
   "execution_count": 23,
   "outputs": [
    {
     "name": "stdout",
     "output_type": "stream",
     "text": [
      "the sqaure of 0 is 0\n",
      "the sqaure of 1 is 1\n",
      "the sqaure of 2 is 8\n",
      "the sqaure of 3 is 27\n",
      "the sqaure of 4 is 64\n",
      "the sqaure of 5 is 125\n",
      "the sqaure of 6 is 216\n",
      "the sqaure of 7 is 343\n",
      "the sqaure of 8 is 512\n",
      "the sqaure of 9 is 729\n"
     ]
    }
   ],
   "source": [
    "for t in thread2: #cubes thread\n",
    "    t.start()"
   ],
   "metadata": {
    "collapsed": false
   }
  },
  {
   "cell_type": "markdown",
   "source": [
    "`Q5. State advantages and disadvantages of multithreading`"
   ],
   "metadata": {
    "collapsed": false
   }
  },
  {
   "cell_type": "markdown",
   "source": [
    "**ADVANTAGES**\n",
    "1. Enhanced performance by decreased development time\n",
    "2. Simplified and streamlined program coding\n",
    "3. Improvised GUI responsiveness\n",
    "4. Simultaneous and parallelized occurrence of tasks\n",
    "5. Better use of cache storage by utilization of resources\n",
    "6. Decreased cost of maintenance\n",
    "7. Better use of CPU resource\n",
    "\n",
    "**DISADVANTAGES**\n",
    "1. Complex debugging and testing processes\n",
    "2. Overhead switching of context\n",
    "3. Increased potential for deadlock occurrence\n",
    "4. Increased difficulty level in writing a program\n",
    "5. Unpredictable results"
   ],
   "metadata": {
    "collapsed": false
   }
  },
  {
   "cell_type": "markdown",
   "source": [
    "`Q6. Explain deadlocks and race conditions.`"
   ],
   "metadata": {
    "collapsed": false
   }
  },
  {
   "cell_type": "markdown",
   "source": [
    "Two basic problems commonly occur in multi-threaded programs:\n",
    "\n",
    "\n",
    "1. **`Deadlock`**: Two threads hold locks on different resources, each waiting indefinitely for the other to release its lock.\n",
    "    <img src=\"https://blog.cloudxlab.com/wp-content/uploads/2021/04/Screenshot-164.png\" width =800>\n",
    "\n",
    "\n",
    "2. Race condition. Two (or more) threads alter the state of a shared resource concurrently, leaving it in an unpredictable state.\n",
    "    <img src='https://media.geeksforgeeks.org/wp-content/uploads/multithreadingfinal.png'>\n",
    "\n",
    "    Notice that expected value of x in above diagram is 12 but due to race condition, it turns out to be 11!"
   ],
   "metadata": {
    "collapsed": false
   }
  }
 ],
 "metadata": {
  "kernelspec": {
   "display_name": "Python 3",
   "language": "python",
   "name": "python3"
  },
  "language_info": {
   "codemirror_mode": {
    "name": "ipython",
    "version": 2
   },
   "file_extension": ".py",
   "mimetype": "text/x-python",
   "name": "python",
   "nbconvert_exporter": "python",
   "pygments_lexer": "ipython2",
   "version": "2.7.6"
  }
 },
 "nbformat": 4,
 "nbformat_minor": 0
}
