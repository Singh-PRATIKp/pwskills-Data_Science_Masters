{
 "cells": [
  {
   "attachments": {},
   "cell_type": "markdown",
   "metadata": {},
   "source": [
    "# **`PANDAS ASSIGNMENT`**"
   ]
  },
  {
   "cell_type": "code",
   "execution_count": 1,
   "metadata": {},
   "outputs": [],
   "source": [
    "#Consider following code to answer further questions:\n",
    "import pandas as pd\n",
    "course_name = ['Data Science', 'Machine Learning', 'Big Data', 'Data Engineer']\n",
    "duration = [2,3,6,4]\n",
    "df = pd.DataFrame(data = {'course_name' : course_name, 'duration' : duration})"
   ]
  },
  {
   "cell_type": "code",
   "execution_count": 2,
   "metadata": {},
   "outputs": [
    {
     "data": {
      "text/html": [
       "<div>\n",
       "<style scoped>\n",
       "    .dataframe tbody tr th:only-of-type {\n",
       "        vertical-align: middle;\n",
       "    }\n",
       "\n",
       "    .dataframe tbody tr th {\n",
       "        vertical-align: top;\n",
       "    }\n",
       "\n",
       "    .dataframe thead th {\n",
       "        text-align: right;\n",
       "    }\n",
       "</style>\n",
       "<table border=\"1\" class=\"dataframe\">\n",
       "  <thead>\n",
       "    <tr style=\"text-align: right;\">\n",
       "      <th></th>\n",
       "      <th>course_name</th>\n",
       "      <th>duration</th>\n",
       "    </tr>\n",
       "  </thead>\n",
       "  <tbody>\n",
       "    <tr>\n",
       "      <th>0</th>\n",
       "      <td>Data Science</td>\n",
       "      <td>2</td>\n",
       "    </tr>\n",
       "    <tr>\n",
       "      <th>1</th>\n",
       "      <td>Machine Learning</td>\n",
       "      <td>3</td>\n",
       "    </tr>\n",
       "    <tr>\n",
       "      <th>2</th>\n",
       "      <td>Big Data</td>\n",
       "      <td>6</td>\n",
       "    </tr>\n",
       "    <tr>\n",
       "      <th>3</th>\n",
       "      <td>Data Engineer</td>\n",
       "      <td>4</td>\n",
       "    </tr>\n",
       "  </tbody>\n",
       "</table>\n",
       "</div>"
      ],
      "text/plain": [
       "        course_name  duration\n",
       "0      Data Science         2\n",
       "1  Machine Learning         3\n",
       "2          Big Data         6\n",
       "3     Data Engineer         4"
      ]
     },
     "execution_count": 2,
     "metadata": {},
     "output_type": "execute_result"
    }
   ],
   "source": [
    "df"
   ]
  },
  {
   "attachments": {},
   "cell_type": "markdown",
   "metadata": {},
   "source": [
    "`Q1. Write a code to print the data present in the second row of the dataframe, df.`"
   ]
  },
  {
   "cell_type": "code",
   "execution_count": 3,
   "metadata": {},
   "outputs": [
    {
     "data": {
      "text/plain": [
       "course_name    Machine Learning\n",
       "duration                      3\n",
       "Name: 1, dtype: object"
      ]
     },
     "execution_count": 3,
     "metadata": {},
     "output_type": "execute_result"
    }
   ],
   "source": [
    "#ans1\n",
    "df.iloc[1]"
   ]
  },
  {
   "attachments": {},
   "cell_type": "markdown",
   "metadata": {},
   "source": [
    "`Q2. What is the difference between the functions loc and iloc in pandas.DataFrame?`"
   ]
  },
  {
   "attachments": {},
   "cell_type": "markdown",
   "metadata": {},
   "source": [
    "Ans 2: The main distinction between the two methods is: loc gets rows (and/or columns) with particular labels. iloc gets rows (and/or columns) at integer locations."
   ]
  },
  {
   "cell_type": "code",
   "execution_count": 4,
   "metadata": {},
   "outputs": [
    {
     "name": "stdout",
     "output_type": "stream",
     "text": [
      "0        Data Science\n",
      "1    Machine Learning\n",
      "2            Big Data\n",
      "3       Data Engineer\n",
      "Name: course_name, dtype: object\n",
      "0        Data Science\n",
      "1    Machine Learning\n",
      "2            Big Data\n",
      "3       Data Engineer\n",
      "Name: course_name, dtype: object\n"
     ]
    }
   ],
   "source": [
    "print(df.loc[:,'course_name'])\n",
    "print(df.iloc[:,0])"
   ]
  },
  {
   "attachments": {},
   "cell_type": "markdown",
   "metadata": {},
   "source": [
    "Q3. Reindex the given dataframe using a variable, reindex = [3,0,1,2] and store it in the variable, new_df\n",
    "then find the output for both new_df.loc[2] and new_df.iloc[2].Did you observe any difference in both the outputs? If so then explain it."
   ]
  },
  {
   "cell_type": "code",
   "execution_count": 5,
   "metadata": {},
   "outputs": [
    {
     "name": "stdout",
     "output_type": "stream",
     "text": [
      "course_name    Big Data\n",
      "duration              6\n",
      "Name: 2, dtype: object\n",
      "course_name    Machine Learning\n",
      "duration                      3\n",
      "Name: 1, dtype: object\n"
     ]
    }
   ],
   "source": [
    "#ANS 3:\n",
    "new_df = df.reindex([3,0,1,2])\n",
    "print(new_df.loc[2])\n",
    "print(new_df.iloc[2])"
   ]
  },
  {
   "attachments": {},
   "cell_type": "markdown",
   "metadata": {},
   "source": [
    "Yes, There is a difference between the 2 outputs because new_df.loc[2] displays the row where the index is exaclty 2 (beacuse is searchs for names) whereas new_df.iloc[2] does an integer search for the row number 2 and dispalys the row which corresponds to 2 as per the zero index system followed internally in python.This can be better visualized in answer for Q2."
   ]
  },
  {
   "cell_type": "code",
   "execution_count": 6,
   "metadata": {},
   "outputs": [],
   "source": [
    "#Consider the below code to answer further questions:\n",
    "import pandas as pd\n",
    "import numpy as np\n",
    "columns = ['column_1', 'column_2', 'column_3', 'column_4', 'column_5', 'column_6']\n",
    "indices = [1,2,3,4,5,6]\n",
    "#Creating a dataframe:\n",
    "df1 = pd.DataFrame(np.random.rand(6,6), columns = columns, index = indices)"
   ]
  },
  {
   "cell_type": "code",
   "execution_count": 7,
   "metadata": {},
   "outputs": [
    {
     "data": {
      "text/html": [
       "<div>\n",
       "<style scoped>\n",
       "    .dataframe tbody tr th:only-of-type {\n",
       "        vertical-align: middle;\n",
       "    }\n",
       "\n",
       "    .dataframe tbody tr th {\n",
       "        vertical-align: top;\n",
       "    }\n",
       "\n",
       "    .dataframe thead th {\n",
       "        text-align: right;\n",
       "    }\n",
       "</style>\n",
       "<table border=\"1\" class=\"dataframe\">\n",
       "  <thead>\n",
       "    <tr style=\"text-align: right;\">\n",
       "      <th></th>\n",
       "      <th>column_1</th>\n",
       "      <th>column_2</th>\n",
       "      <th>column_3</th>\n",
       "      <th>column_4</th>\n",
       "      <th>column_5</th>\n",
       "      <th>column_6</th>\n",
       "    </tr>\n",
       "  </thead>\n",
       "  <tbody>\n",
       "    <tr>\n",
       "      <th>1</th>\n",
       "      <td>0.112393</td>\n",
       "      <td>0.341477</td>\n",
       "      <td>0.348805</td>\n",
       "      <td>0.720531</td>\n",
       "      <td>0.087361</td>\n",
       "      <td>0.206349</td>\n",
       "    </tr>\n",
       "    <tr>\n",
       "      <th>2</th>\n",
       "      <td>0.967328</td>\n",
       "      <td>0.648521</td>\n",
       "      <td>0.008752</td>\n",
       "      <td>0.554235</td>\n",
       "      <td>0.637503</td>\n",
       "      <td>0.691378</td>\n",
       "    </tr>\n",
       "    <tr>\n",
       "      <th>3</th>\n",
       "      <td>0.726528</td>\n",
       "      <td>0.377388</td>\n",
       "      <td>0.883496</td>\n",
       "      <td>0.200466</td>\n",
       "      <td>0.644089</td>\n",
       "      <td>0.599121</td>\n",
       "    </tr>\n",
       "    <tr>\n",
       "      <th>4</th>\n",
       "      <td>0.059886</td>\n",
       "      <td>0.067496</td>\n",
       "      <td>0.463899</td>\n",
       "      <td>0.163807</td>\n",
       "      <td>0.874001</td>\n",
       "      <td>0.770010</td>\n",
       "    </tr>\n",
       "    <tr>\n",
       "      <th>5</th>\n",
       "      <td>0.370960</td>\n",
       "      <td>0.908329</td>\n",
       "      <td>0.824358</td>\n",
       "      <td>0.796371</td>\n",
       "      <td>0.994646</td>\n",
       "      <td>0.029199</td>\n",
       "    </tr>\n",
       "    <tr>\n",
       "      <th>6</th>\n",
       "      <td>0.960216</td>\n",
       "      <td>0.299688</td>\n",
       "      <td>0.433138</td>\n",
       "      <td>0.291208</td>\n",
       "      <td>0.532331</td>\n",
       "      <td>0.632604</td>\n",
       "    </tr>\n",
       "  </tbody>\n",
       "</table>\n",
       "</div>"
      ],
      "text/plain": [
       "   column_1  column_2  column_3  column_4  column_5  column_6\n",
       "1  0.112393  0.341477  0.348805  0.720531  0.087361  0.206349\n",
       "2  0.967328  0.648521  0.008752  0.554235  0.637503  0.691378\n",
       "3  0.726528  0.377388  0.883496  0.200466  0.644089  0.599121\n",
       "4  0.059886  0.067496  0.463899  0.163807  0.874001  0.770010\n",
       "5  0.370960  0.908329  0.824358  0.796371  0.994646  0.029199\n",
       "6  0.960216  0.299688  0.433138  0.291208  0.532331  0.632604"
      ]
     },
     "execution_count": 7,
     "metadata": {},
     "output_type": "execute_result"
    }
   ],
   "source": [
    "df1"
   ]
  },
  {
   "attachments": {},
   "cell_type": "markdown",
   "metadata": {},
   "source": [
    "`Q4. Write a code to find the following statistical measurements for the above dataframe df1:`\n",
    "- `(i) mean of each and every column present in the dataframe.`\n",
    "- `(ii) standard deviation of column1, ‘column_2’`"
   ]
  },
  {
   "cell_type": "code",
   "execution_count": 8,
   "metadata": {},
   "outputs": [
    {
     "name": "stdout",
     "output_type": "stream",
     "text": [
      "column_1    0.532885\n",
      "column_2    0.440483\n",
      "column_3    0.493741\n",
      "column_4    0.454436\n",
      "column_5    0.628322\n",
      "column_6    0.488110\n",
      "dtype: float64\n",
      "1    0.302819\n",
      "2    0.584619\n",
      "3    0.571848\n",
      "4    0.399850\n",
      "5    0.653977\n",
      "6    0.524864\n",
      "dtype: float64\n"
     ]
    }
   ],
   "source": [
    "#(i)\n",
    "print(df1.mean())\n",
    "print(df1.mean(axis=1))"
   ]
  },
  {
   "cell_type": "code",
   "execution_count": 9,
   "metadata": {},
   "outputs": [
    {
     "name": "stdout",
     "output_type": "stream",
     "text": [
      "column_1    0.408806\n",
      "column_2    0.294919\n",
      "dtype: float64\n"
     ]
    }
   ],
   "source": [
    "#(ii)\n",
    "print(df1[['column_1','column_2']].std())"
   ]
  },
  {
   "attachments": {},
   "cell_type": "markdown",
   "metadata": {},
   "source": [
    "`Q5. Replace the data present in the second row of column, ‘column_2’ by a string variable then find the`\n",
    "`mean of column, column_2.`<br>\n",
    "`If you are getting errors in executing it then explain why.`<br>\n",
    "`[Hint: To replace the data use df1.loc[] and equate this to string data of your choice.]`<br>"
   ]
  },
  {
   "cell_type": "code",
   "execution_count": 10,
   "metadata": {},
   "outputs": [],
   "source": [
    "#ans 5:\n",
    "df1.loc[:,'column_2'] = [\"sudh\",\"krish\",\"navin\",'sunny',\"praveen\",\"surya\"]"
   ]
  },
  {
   "cell_type": "code",
   "execution_count": 11,
   "metadata": {},
   "outputs": [
    {
     "name": "stdout",
     "output_type": "stream",
     "text": [
      "This is my error: Could not convert sudhkrishnavinsunnypraveensurya to numeric\n"
     ]
    }
   ],
   "source": [
    "try:\n",
    "    df1['column_2'].mean()\n",
    "except Exception as e:\n",
    "    print(\"This is my error: %s\"%e)"
   ]
  },
  {
   "attachments": {},
   "cell_type": "markdown",
   "metadata": {},
   "source": [
    "There is an error because mean works only on numerical data like integer or float. Mean cannot be defined for a string data and the error is stating that it could not convert the string data into numeric form and hence cannot calculate the mean"
   ]
  },
  {
   "attachments": {},
   "cell_type": "markdown",
   "metadata": {},
   "source": [
    "`Q6. What do you understand about the windows function in pandas and list the types of windows functions?`"
   ]
  },
  {
   "attachments": {},
   "cell_type": "markdown",
   "metadata": {},
   "source": [
    "#Ans 6:\n",
    "\n",
    "\n",
    "A **`window`** is a value (in terms of rows) that tells us the distance between our current row and the row which is to be used for calculations.\n",
    "The window functions in Pandas are used to perform some sort of calculations across a set of rows that are interrelated with the current row. They help us to perform aggregated calculations across various partitions or cross-sections of the data.\n",
    "\n",
    "Windows function in Pandas can be broadly divided into three categories namely- Aggregate, Ranking, and Value.\n",
    "\n",
    "I. The Aggregate category of window functions can be of three types namely-\n",
    "\n",
    "1. `Group`.\n",
    "2. `Rolling`.\n",
    "3. `Expanding`.\n",
    "\n",
    "II. The Ranking category of window functions can be of five types namely-\n",
    "\n",
    "1. Row Numbers\n",
    "    Row numbers if of two types:\n",
    "    - `reset_index()`\n",
    "    - `cumcount()`\n",
    "2. Rank\n",
    "    Rank is of four types:\n",
    "    - `default_rank`\n",
    "    - `min_rank`\n",
    "    - `NA_bottom`\n",
    "    - `descending`\n",
    "3. `Dense rank`,\n",
    "4. `Percent` and\n",
    "5. `N-Tile / qcut()`.\n",
    "\n",
    "III. The Value category of window functions can be of two types namely-\n",
    "\n",
    "1. `Lag / Lead`, and\n",
    "2. `First / Last/nth`\n",
    "\n",
    "<img src= \"data:image/webp;base64,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\">\n"
   ]
  },
  {
   "attachments": {},
   "cell_type": "markdown",
   "metadata": {},
   "source": [
    "`Q7. Write a code to print only the current month and year at the time of answering this question.`\n",
    "`[Hint: Use pandas.datetime function]`"
   ]
  },
  {
   "cell_type": "code",
   "execution_count": 12,
   "metadata": {},
   "outputs": [
    {
     "name": "stdout",
     "output_type": "stream",
     "text": [
      "February\n",
      "2023\n"
     ]
    }
   ],
   "source": [
    "# Ans 7:\n",
    "t = pd.to_datetime(\"2023-2-26\")\n",
    "print(t.month_name())\n",
    "print(t.year)"
   ]
  },
  {
   "attachments": {},
   "cell_type": "markdown",
   "metadata": {},
   "source": [
    "`Q8. Write a Python program that takes in two dates as input (in the format YYYY-MM-DD) and`\n",
    "`calculates the difference between them in days, hours, and minutes using Pandas time delta. The`\n",
    "`program should prompt the user to enter the dates and display the result.`"
   ]
  },
  {
   "cell_type": "code",
   "execution_count": 13,
   "metadata": {},
   "outputs": [],
   "source": [
    "# Ans 8:\n",
    "def time_delta():\n",
    "    try:\n",
    "        start = pd.to_datetime(input(\"Enter start date in YYYY-MM-DD format\"))\n",
    "        end = pd.to_datetime(input(\"Enter end date in YYYY-MM-DD format\"))\n",
    "        print( f\"start date is {start} and end date is {end} and the difference is:\")\n",
    "        return (end-start)\n",
    "    except Exception as e:\n",
    "        print(e)"
   ]
  },
  {
   "cell_type": "code",
   "execution_count": 14,
   "metadata": {},
   "outputs": [
    {
     "name": "stdout",
     "output_type": "stream",
     "text": [
      "start date is 2022-12-01 00:00:00 and end date is 2023-02-26 00:00:00 and the difference is:\n"
     ]
    },
    {
     "data": {
      "text/plain": [
       "Timedelta('87 days 00:00:00')"
      ]
     },
     "execution_count": 14,
     "metadata": {},
     "output_type": "execute_result"
    }
   ],
   "source": [
    "time_delta()"
   ]
  },
  {
   "attachments": {},
   "cell_type": "markdown",
   "metadata": {},
   "source": [
    "`Q9. Write a Python program that reads a CSV file containing categorical data and converts a specified`\n",
    "`column to a categorical data type. The program should prompt the user to enter the file path, column`\n",
    "`name, and category order, and then display the sorted data.`"
   ]
  },
  {
   "cell_type": "code",
   "execution_count": 15,
   "metadata": {},
   "outputs": [],
   "source": [
    "#ans 9:\n",
    "def csv_cat_order(path,colname,cat):\n",
    "    \"\"\"Takes a file path , a colname and a category order as input. converts the column to a categorical type as per the defined categories and displays the sorted data \n",
    "    \"\"\"\n",
    "    try:\n",
    "        df = pd.read_csv(path)\n",
    "        df[colname] = pd.Categorical(df[colname],categories=cat)\n",
    "        return df\n",
    "    except Exception as e:\n",
    "        return e\n",
    "    "
   ]
  },
  {
   "cell_type": "code",
   "execution_count": 16,
   "metadata": {},
   "outputs": [
    {
     "name": "stdout",
     "output_type": "stream",
     "text": [
      "PassengerId       int64\n",
      "Survived          int64\n",
      "Pclass            int64\n",
      "Name             object\n",
      "Sex            category\n",
      "Age             float64\n",
      "SibSp             int64\n",
      "Parch             int64\n",
      "Ticket           object\n",
      "Fare            float64\n",
      "Cabin            object\n",
      "Embarked         object\n",
      "dtype: object\n"
     ]
    }
   ],
   "source": [
    "result = csv_cat_order(\"D:/pwskills-Data_Science_Masters/titanic_data.csv\",\"Sex\",['male','female'])\n",
    "print(result.dtypes)"
   ]
  },
  {
   "attachments": {},
   "cell_type": "markdown",
   "metadata": {},
   "source": [
    "`Q10. Write a Python program that reads a CSV file containing sales data for different products and`\n",
    "`visualizes the data using a stacked bar chart to show the sales of each product category over time. The`\n",
    "`program should prompt the user to enter the file path and display the chart.`"
   ]
  },
  {
   "cell_type": "code",
   "execution_count": 17,
   "metadata": {},
   "outputs": [],
   "source": [
    "#ans 10:\n",
    "def cat_plot(path,colname):\n",
    "    '''Takes a csv file path and a column name in it and plots a stacked bar chart \n",
    "    '''\n",
    "    try:\n",
    "        df = pd.read_csv(path)\n",
    "        return df.plot.bar(x=colname,stacked =True)\n",
    "    except Exception as e:\n",
    "        print(e)"
   ]
  },
  {
   "cell_type": "code",
   "execution_count": 18,
   "metadata": {},
   "outputs": [
    {
     "data": {
      "text/plain": [
       "<AxesSubplot: xlabel='Category'>"
      ]
     },
     "execution_count": 18,
     "metadata": {},
     "output_type": "execute_result"
    },
    {
     "data": {
      "image/png": "[encoded data removed]",
      "text/plain": [
       "<Figure size 640x480 with 1 Axes>"
      ]
     },
     "metadata": {},
     "output_type": "display_data"
    }
   ],
   "source": [
    "cat_plot(\"D:/pwskills-Data_Science_Masters/sales.csv\",\"Category\")"
   ]
  },
  {
   "attachments": {},
   "cell_type": "markdown",
   "metadata": {},
   "source": [
    "Q11. You are given a CSV file containing student data that includes the student ID and their test score. Write\n",
    "a Python program that reads the CSV file, calculates the mean, median, and mode of the test scores, and\n",
    "displays the results in a table.<br>\n",
    "The program should do the following:<br>\n",
    "- Prompt the user to enter the file path of the CSV file containing the student data<br>\n",
    "- Read the CSV file into a Pandas DataFrame<br>\n",
    "- Calculate the mean, median, and mode of the test scores using Pandas tools<br>\n",
    "- Display the mean, median, and mode in a table.<br>\n",
    "Assume the CSV file contains the following columns<br>\n",
    "- Student ID: The ID of the student\n",
    "- Test Score: The score of the student's test.\n",
    "Example usage of the program:<br>\n",
    "Enter the file path of the CSV file containing the student data: student_data.csv<br>\n",
    "\n",
    "| Statistic | Value |\n",
    "|-----------|--------|\n",
    "| Mean | 79.6 |\n",
    "| Median | 82 |\n",
    "| Mode | 85, 90 |\n",
    "\n",
    "Assume that the CSV file student_data.csv contains the following data:<br>\n",
    "Student ID,Test Score<br>\n",
    "1,85<br>\n",
    "2,90<br>\n",
    "3,80<br>\n",
    "4,75<br>\n",
    "5,85<br>\n",
    "6,82<br>\n",
    "7,78<br>\n",
    "8,85<br>\n",
    "9,90<br>\n",
    "10,85<br>\n",
    "The program should calculate the mean, median, and mode of the test scores and display the results\n",
    "in a table.<br>"
   ]
  },
  {
   "cell_type": "code",
   "execution_count": 19,
   "metadata": {},
   "outputs": [],
   "source": [
    "#ans 11:\n",
    "def test_stats():\n",
    "    '''takes a student data csv file path as input and assuming it has `Test Score` column,\n",
    "    it calculates the mean, median and mode of the Test Score and displays it in a table\n",
    "    '''\n",
    "    try:\n",
    "        path = input(\"Enter the filepath\")\n",
    "        df = pd.read_csv(path)\n",
    "        mean = df[\"Test Score\"].mean()\n",
    "        median = df[\"Test Score\"].median()\n",
    "        mode = df[\"Test Score\"].mode().values\n",
    "\n",
    "        print(\n",
    "            f\"\"\"\n",
    "            |-----------|-------------|\n",
    "            | Statistic |   Value     |\n",
    "            |-----------|-------------|\n",
    "            | Mean      |    {mean}     |\n",
    "            | Median    |    {median}     |\n",
    "            | Mode      |    {mode}     |\n",
    "            |-----------|-------------|\n",
    "            \n",
    "            \"\"\")\n",
    "    except Exception as e:\n",
    "        print(e)\n",
    "    \n"
   ]
  },
  {
   "cell_type": "code",
   "execution_count": 20,
   "metadata": {},
   "outputs": [
    {
     "name": "stdout",
     "output_type": "stream",
     "text": [
      "\n",
      "            |-----------|-------------|\n",
      "            | Statistic |   Value     |\n",
      "            |-----------|-------------|\n",
      "            | Mean      |    83.5     |\n",
      "            | Median    |    85.0     |\n",
      "            | Mode      |    [85]     |\n",
      "            |-----------|-------------|\n",
      "            \n",
      "            \n"
     ]
    }
   ],
   "source": [
    "test_stats()"
   ]
  }
 ],
 "metadata": {
  "kernelspec": {
   "display_name": "base",
   "language": "python",
   "name": "python3"
  },
  "language_info": {
   "codemirror_mode": {
    "name": "ipython",
    "version": 3
   },
   "file_extension": ".py",
   "mimetype": "text/x-python",
   "name": "python",
   "nbconvert_exporter": "python",
   "pygments_lexer": "ipython3",
   "version": "3.9.16"
  },
  "orig_nbformat": 4,
  "vscode": {
   "interpreter": {
    "hash": "c370489388e782aa9b6373b0856d4a71cb56f2a887cc53048a8e75b66b592545"
   }
  }
 },
 "nbformat": 4,
 "nbformat_minor": 2
}
