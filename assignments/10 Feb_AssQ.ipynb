{
 "cells": [
  {
   "cell_type": "markdown",
   "id": "9527c389-f6fc-4501-8fe2-4f56c97906b2",
   "metadata": {},
   "source": [
    "Q1. Which function is used to open a file? What are the different modes of opening a file? Explain each mode\n",
    "of file opening.\n"
   ]
  },
  {
   "cell_type": "markdown",
   "id": "e2f1ea5c-ac8e-4916-908d-d7d02913f4e9",
   "metadata": {},
   "source": [
    "Ans. In Python, we use the open() method to open files.\n",
    "There are 6 access modes in python.\n",
    "\n",
    "- Read Only (‘r’) : Open text file for reading. The handle is positioned at the beginning of the file. If the file does not exists, raises the I/O error. This is also the default mode in which a file is opened.\n",
    "- Read and Write (‘r+’): Open the file for reading and writing. The handle is positioned at the beginning of the file. Raises I/O error if the file does not exist.\n",
    "- Write Only (‘w’) : Open the file for writing. For the existing files, the data is truncated and over-written. The handle is positioned at the beginning of the file. Creates the file if the file does not exist.\n",
    "- Write and Read (‘w+’) : Open the file for reading and writing. For an existing file, data is truncated and over-written. The handle is positioned at the beginning of the file.\n",
    "- Append Only (‘a’): Open the file for writing. The file is created if it does not exist. The handle is positioned at the end of the file. The data being written will be inserted at the end, after the existing data.\n",
    "- Append and Read (‘a+’) : Open the file for reading and writing. The file is created if it does not exist. The handle is positioned at the end of the file. The data being written will be inserted at the end, after the existing data."
   ]
  },
  {
   "cell_type": "markdown",
   "id": "96069eb4-7e0a-411e-bf35-2e9eba423d1c",
   "metadata": {},
   "source": [
    "Q2. Why close() function is used? Why is it important to close a file?\n"
   ]
  },
  {
   "cell_type": "markdown",
   "id": "c95e38c8-69f2-41f3-aa46-dcacf757a46d",
   "metadata": {},
   "source": [
    "The close() method closes an open file. You should always close your files, in some cases, due to buffering, changes made to a file may not show until you close the file.\n",
    "Because files are limited resources managed by the operating system, making sure files are closed after use will protect against hard-to-debug issues like running out of file handles or experiencing corrupted data. The best defense is always to open files with a context manager"
   ]
  },
  {
   "cell_type": "markdown",
   "id": "5861e500-229f-4266-9387-d927d43538ce",
   "metadata": {},
   "source": [
    "Q3. Write a python program to create a text file. Write ‘I want to become a Data Scientist’ in that file. Then\n",
    "close the file. Open this file and read the content of the file."
   ]
  },
  {
   "cell_type": "code",
   "execution_count": 1,
   "id": "0923a336-161b-4d92-9a8d-b5f66708904c",
   "metadata": {},
   "outputs": [],
   "source": [
    "f = open('sample.txt','w')\n",
    "f.write(\"I want to become a Data Scientist\")\n",
    "f.close()"
   ]
  },
  {
   "cell_type": "code",
   "execution_count": 4,
   "id": "3079330c-2451-4827-8391-0d039569b53a",
   "metadata": {},
   "outputs": [
    {
     "data": {
      "text/plain": [
       "'I want to become a Data Scientist'"
      ]
     },
     "execution_count": 4,
     "metadata": {},
     "output_type": "execute_result"
    }
   ],
   "source": [
    "f = open('sample.txt','r')\n",
    "f.read()"
   ]
  },
  {
   "cell_type": "markdown",
   "id": "99547702-d6ce-433f-b3f0-07c52509c2d6",
   "metadata": {},
   "source": [
    "Q4. Explain the following with python code: read(), readline() and readlines().\n"
   ]
  },
  {
   "cell_type": "code",
   "execution_count": 42,
   "id": "5aa529a0-cccd-47dc-a115-054a7e88310f",
   "metadata": {},
   "outputs": [],
   "source": [
    "#generating a sample2.txt file for demonstration\n",
    "with open('sample2.txt','w') as f:\n",
    "    f.write(\"\"\"Video provides a powerful way to help you prove your point. When you click Online Video, you can paste in the embed code for the video you want to add. You can also type a keyword to search online for the video that best fits your document. To make your document look professionally produced, Word provides header, footer, cover page, and text box designs that complement each other. For example, you can add a matching cover page, header, and sidebar.\n",
    "Click Insert and then choose the elements you want from the different galleries. Themes and styles also help keep your document coordinated. When you click Design and choose a new Theme, the pictures, charts, and SmartArt graphics change to match your new theme. When you apply styles, your headings change to match the new theme. Save time in Word with new buttons that show up where you need them.\n",
    "To change the way a picture fits in your document, click it and a button for layout options appears next to it. When you work on a table, click where you want to add a row or a column, and then click the plus sign. Reading is easier, too, in the new Reading view. You can collapse parts of the document and focus on the text you want. If you need to stop reading before you reach the end, Word remembers where you left off - even on another device\n",
    "\"\"\")"
   ]
  },
  {
   "cell_type": "code",
   "execution_count": 46,
   "id": "a8246969-0755-4567-b529-d38829fead7d",
   "metadata": {},
   "outputs": [
    {
     "name": "stdout",
     "output_type": "stream",
     "text": [
      "Video provides a powerful way to help you prove your point. When you click Online Video, you can paste in the embed code for the video you want to add. You can also type a keyword to search online for the video that best fits your document. To make your document look professionally produced, Word provides header, footer, cover page, and text box designs that complement each other. For example, you can add a matching cover page, header, and sidebar.\n",
      "Click Insert and then choose the elements you want from the different galleries. Themes and styles also help keep your document coordinated. When you click Design and choose a new Theme, the pictures, charts, and SmartArt graphics change to match your new theme. When you apply styles, your headings change to match the new theme. Save time in Word with new buttons that show up where you need them.\n",
      "To change the way a picture fits in your document, click it and a button for layout options appears next to it. When you work on a table, click where you want to add a row or a column, and then click the plus sign. Reading is easier, too, in the new Reading view. You can collapse parts of the document and focus on the text you want. If you need to stop reading before you reach the end, Word remembers where you left off - even on another device\n",
      "\n"
     ]
    }
   ],
   "source": [
    "#f.read() reads the entire file and outputs it\n",
    "f = open('sample2.txt')\n",
    "print(f.read())\n",
    "f.close()"
   ]
  },
  {
   "cell_type": "code",
   "execution_count": 47,
   "id": "791d54a2-f5fe-4703-b3a5-bdd70c71c8af",
   "metadata": {},
   "outputs": [
    {
     "name": "stdout",
     "output_type": "stream",
     "text": [
      "Video provides a powerful way to help you prove your point. When you click Online Video, you can paste in the embed code for the video you want to add. You can also type a keyword to search online for the video that best fits your document. To make your document look professionally produced, Word provides header, footer, cover page, and text box designs that complement each other. For example, you can add a matching cover page, header, and sidebar.\n",
      "\n"
     ]
    }
   ],
   "source": [
    "#f.readline() reads the file untill a new line is found or end of file is reached\n",
    "f = open('sample2.txt')\n",
    "print(f.readline())\n",
    "f.close()"
   ]
  },
  {
   "cell_type": "code",
   "execution_count": 48,
   "id": "f833911f-7442-4fd2-8d5b-b120401fea89",
   "metadata": {},
   "outputs": [
    {
     "name": "stdout",
     "output_type": "stream",
     "text": [
      "['Video provides a powerful way to help you prove your point. When you click Online Video, you can paste in the embed code for the video you want to add. You can also type a keyword to search online for the video that best fits your document. To make your document look professionally produced, Word provides header, footer, cover page, and text box designs that complement each other. For example, you can add a matching cover page, header, and sidebar.\\n', 'Click Insert and then choose the elements you want from the different galleries. Themes and styles also help keep your document coordinated. When you click Design and choose a new Theme, the pictures, charts, and SmartArt graphics change to match your new theme. When you apply styles, your headings change to match the new theme. Save time in Word with new buttons that show up where you need them.\\n', 'To change the way a picture fits in your document, click it and a button for layout options appears next to it. When you work on a table, click where you want to add a row or a column, and then click the plus sign. Reading is easier, too, in the new Reading view. You can collapse parts of the document and focus on the text you want. If you need to stop reading before you reach the end, Word remembers where you left off - even on another device\\n']\n"
     ]
    }
   ],
   "source": [
    "#f.readlines() reads the file and returns a list of lines from the file\n",
    "f = open('sample2.txt')\n",
    "print(f.readlines())\n",
    "f.close()"
   ]
  },
  {
   "cell_type": "markdown",
   "id": "515c7e40-5f14-4937-8fd2-1666d2c19e33",
   "metadata": {},
   "source": [
    "Q5. Explain why with statement is used with open(). What is the advantage of using with statement and\n",
    "open() together?\n"
   ]
  },
  {
   "cell_type": "markdown",
   "id": "75182244-7029-4f96-8875-6157caf17c3c",
   "metadata": {},
   "source": [
    "Ans:The Python programming language has various functions and statements for working with a file. The with statement and open() function are two of those statements and functions.\n",
    "The with statement works with the open() function to open a file.Unlike open() where you have to close the file with the close() method, the with statement closes the file for you without you telling it to.This is because the with statement calls 2 built-in methods behind the scene – __enter()__ and __exit()__.\n",
    "\n",
    "**The __exit()__ method closes the file when the operation you specify is done.**"
   ]
  },
  {
   "cell_type": "markdown",
   "id": "330a5329-d385-4c44-8219-3c2a7c0f118f",
   "metadata": {},
   "source": [
    "Q6. Explain the write() and writelines() functions. Give a suitable example."
   ]
  },
  {
   "cell_type": "markdown",
   "id": "230d9a76-aa69-4b2d-ab78-b66185c3feaf",
   "metadata": {},
   "source": [
    "Ans:\n",
    "- write() - \n",
    "the string that is passed to the write() function is written into the opened file. The string may include numbers, special characters, or symbols. While writing data to a file, we must know that the write function does not add a newline character(\\n) to the end of the string. The write() function returns None.\n",
    "- writelines() - \n",
    "the list of strings that is passed to the writelines() function is written into the opened file. Similar to the write() function, the writelines() function does not add a newline character(\\n) to the end of the string."
   ]
  },
  {
   "cell_type": "code",
   "execution_count": 62,
   "id": "0d677155-f75b-4246-8898-edc6c6da0dc5",
   "metadata": {},
   "outputs": [],
   "source": [
    "#creating a sample file and adding some text with write() function\n",
    "with open('sample3.txt','w') as f:\n",
    "    f.write(\"\"\"    I love Python\n",
    "    I love Data Science\n",
    "    I love Machine Learning\n",
    "    \"\"\")"
   ]
  },
  {
   "cell_type": "code",
   "execution_count": 63,
   "id": "1d82e4c9-e0d5-44a2-b41b-32df11602843",
   "metadata": {},
   "outputs": [
    {
     "name": "stdout",
     "output_type": "stream",
     "text": [
      "    I love Python\n",
      "    I love Data Science\n",
      "    I love Machine Learning\n",
      "    \n"
     ]
    }
   ],
   "source": [
    "#result\n",
    "with open('sample3.txt','r') as f:\n",
    "       print(f.read())"
   ]
  },
  {
   "cell_type": "code",
   "execution_count": 64,
   "id": "44a0d943-8b9d-4982-9115-70155ee6eed7",
   "metadata": {},
   "outputs": [],
   "source": [
    "#adding list of strings using writelines()\n",
    "with open('sample3.txt','w') as f:\n",
    "    f.writelines(['I love Python ','I love Data Science ','I love Machine Learning '])"
   ]
  },
  {
   "cell_type": "code",
   "execution_count": 66,
   "id": "85dfabb8-8f64-4c74-8af5-274618d693a2",
   "metadata": {},
   "outputs": [
    {
     "name": "stdout",
     "output_type": "stream",
     "text": [
      "I love Python I love Data Science I love Machine Learning \n"
     ]
    }
   ],
   "source": [
    "#result\n",
    "with open('sample3.txt','r') as f:\n",
    "       print(f.read())"
   ]
  }
 ],
 "metadata": {
  "kernelspec": {
   "display_name": "Python 3 (ipykernel)",
   "language": "python",
   "name": "python3"
  },
  "language_info": {
   "codemirror_mode": {
    "name": "ipython",
    "version": 3
   },
   "file_extension": ".py",
   "mimetype": "text/x-python",
   "name": "python",
   "nbconvert_exporter": "python",
   "pygments_lexer": "ipython3",
   "version": "3.9.16"
  }
 },
 "nbformat": 4,
 "nbformat_minor": 5
}
