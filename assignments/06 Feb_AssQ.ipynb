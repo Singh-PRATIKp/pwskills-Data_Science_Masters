{
 "cells": [
  {
   "attachments": {},
   "cell_type": "markdown",
   "metadata": {},
   "source": [
    "Q1. Create a function which will take a list as an argument and return the product of all the numbers\n",
    "after creating a flat list.\n",
    "Use the below-given list as an argument for your function.\n",
    "list1 = [1,2,3,4, [44,55,66, True], False, (34,56,78,89,34), {1,2,3,3,2,1}, {1:34, \"key2\": [55, 67, 78, 89], 4: (45,\n",
    "22, 61, 34)}, [56, 'data science'], 'Machine Learning']\n",
    "Note: you must extract numeric keys and values of the dictionary also."
   ]
  },
  {
   "cell_type": "code",
   "execution_count": 1,
   "metadata": {},
   "outputs": [],
   "source": [
    "list1 = [1,2,3,4, [44,55,66, True], False, (34,56,78,89,34), {1,2,3,3,2,1}, {1:34, \"key2\": [55, 67, 78, 89], 4: (45,\n",
    "22, 61, 34)}, [56, 'data science'], 'Machine Learning']"
   ]
  },
  {
   "cell_type": "code",
   "execution_count": 33,
   "metadata": {},
   "outputs": [],
   "source": [
    "#ans1:\n",
    "def flat_list_product(n):\n",
    "    \"\"\" Takes a given list of multiple data types as input and iterates over it to\n",
    "    extract all the integers and returns their product\n",
    "    \"\"\"\n",
    "    l = list()\n",
    "    for i in n: # iterating over the primary list\n",
    "        if type(i) == int: # extracting integers\n",
    "            l.append(i)\n",
    "        \n",
    "        elif type(i) == list or type(i) == tuple or type(i) == set: #iterating over lists,tuples and sets\n",
    "            for j in i:\n",
    "                if type(j) == int:\n",
    "                    l.append(j)\n",
    "        else:\n",
    "            if type(i) == dict:\n",
    "                for j in i.keys(): # iterating over dictionary keys\n",
    "                    if type(j) == int: \n",
    "                        l.append(j)  \n",
    "                for j in i.values(): # iterating over dictionary values\n",
    "                    if type(j) == int:\n",
    "                        l.append(j)\n",
    "                    elif type(j) == list or type(j) == tuple or type(i) == set: # iterating over list, tuples and sets in dictionary values\n",
    "                        for k in j:\n",
    "                            if type(k) == int:\n",
    "                                l.append(k)\n",
    "    #print(\"Flattened list:\",l) # can be commented out for printing the falattened list \n",
    "    product = 1\n",
    "    for i in l:\n",
    "        product*=i\n",
    "    return product #the final product\n",
    "    "
   ]
  },
  {
   "cell_type": "code",
   "execution_count": 34,
   "metadata": {},
   "outputs": [
    {
     "data": {
      "text/plain": [
       "4134711838987085478833841242112000"
      ]
     },
     "execution_count": 34,
     "metadata": {},
     "output_type": "execute_result"
    }
   ],
   "source": [
    "flat_list_product(list1)"
   ]
  },
  {
   "attachments": {},
   "cell_type": "markdown",
   "metadata": {},
   "source": [
    "Q2. Write a python program for encrypting a message sent to you by your friend. The logic of encryption\n",
    "should be such that, for a the output should be z. For b, the output should be y. For c, the output should\n",
    "be x respectively. Also, the whitespace should be replaced with a dollar sign. Keep the punctuation\n",
    "marks unchanged.\n",
    "Input Sentence: I want to become a Data Scientist.\n",
    "Encrypt the above input sentence using the program you just created.\n",
    "Note: Convert the given input sentence into lowercase before encrypting. The final output should be\n",
    "lowercase."
   ]
  },
  {
   "cell_type": "code",
   "execution_count": 47,
   "metadata": {},
   "outputs": [],
   "source": [
    "#ans2:\n",
    "def encrypt_string():\n",
    "    ''' Takes a string from the user, converts it to lower case,\n",
    "    encrypts it by replacing a,b,c and whitespace with z,y,x and $ respectively \n",
    "    and returns the encrypted string\n",
    "    '''\n",
    "    s = input('Enter the string:') # takes a string from user input\n",
    "    a = s.lower().replace('a','z').replace('b','y').replace('c','x').replace(' ','$') #encrypts the string with the requested parameters\n",
    "    return a #retruns the encrypted string"
   ]
  },
  {
   "cell_type": "code",
   "execution_count": 49,
   "metadata": {},
   "outputs": [
    {
     "data": {
      "text/plain": [
       "'i$wznt$to$yexome$z$dztz$sxientist.'"
      ]
     },
     "execution_count": 49,
     "metadata": {},
     "output_type": "execute_result"
    }
   ],
   "source": [
    "encrypt_string()"
   ]
  }
 ],
 "metadata": {
  "kernelspec": {
   "display_name": "base",
   "language": "python",
   "name": "python3"
  },
  "language_info": {
   "codemirror_mode": {
    "name": "ipython",
    "version": 3
   },
   "file_extension": ".py",
   "mimetype": "text/x-python",
   "name": "python",
   "nbconvert_exporter": "python",
   "pygments_lexer": "ipython3",
   "version": "3.9.16"
  },
  "orig_nbformat": 4,
  "vscode": {
   "interpreter": {
    "hash": "c370489388e782aa9b6373b0856d4a71cb56f2a887cc53048a8e75b66b592545"
   }
  }
 },
 "nbformat": 4,
 "nbformat_minor": 2
}
