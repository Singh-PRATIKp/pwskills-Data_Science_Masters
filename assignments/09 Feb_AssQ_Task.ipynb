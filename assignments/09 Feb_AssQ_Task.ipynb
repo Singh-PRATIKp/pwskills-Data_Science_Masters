{
 "cells": [
  {
   "cell_type": "markdown",
   "id": "c488653f-a672-4420-9c74-67f5f6c0e82b",
   "metadata": {},
   "source": [
    "Q1, Create a vehicle class with an init method having instance variables as name_of_vehicle, max_speed\n",
    "and average_of_vehicle. "
   ]
  },
  {
   "cell_type": "code",
   "execution_count": 1,
   "id": "53d912cd-4cb4-43e5-a62a-fa1781855a30",
   "metadata": {},
   "outputs": [],
   "source": [
    "class vehicle:\n",
    "    def __init__(self,name_of_vehicle,max_speed,average_of_vehicle):\n",
    "        self.name_of_vehicle = name_of_vehicle\n",
    "        self.max_speed = max_speed\n",
    "        self.average_of_vehicle = average_of_vehicle"
   ]
  },
  {
   "cell_type": "markdown",
   "id": "117823b2-c401-4d3f-9b50-d51bf5890f04",
   "metadata": {},
   "source": [
    "Q2.  Create a child class car from the vehicle class created in Que 1, which will inherit the vehicle class.\n",
    "Create a method named seating_capacity which takes capacity as an argument and returns the name of\n",
    "the vehicle and its seating capacity"
   ]
  },
  {
   "cell_type": "code",
   "execution_count": 4,
   "id": "a7729230-8621-46f7-95de-3877241a6e1f",
   "metadata": {},
   "outputs": [],
   "source": [
    "class car(vehicle):\n",
    "    def __init__(self,name_of_vehicle,max_speed,average_of_vehicle):\n",
    "        super().__init__(name_of_vehicle,max_speed,average_of_vehicle)\n",
    "    def seating_capacity(self,capacity):\n",
    "        self.capacity = capacity\n",
    "        return self.name_of_vehicle , self.capacity"
   ]
  },
  {
   "cell_type": "code",
   "execution_count": 5,
   "id": "b9b424a9-d0a4-4a4d-a05b-dca06f4e1572",
   "metadata": {},
   "outputs": [],
   "source": [
    "obj_car1 = car('toyota', 140, 18)"
   ]
  },
  {
   "cell_type": "code",
   "execution_count": 6,
   "id": "6c508110-57db-48d7-a784-daab104d1667",
   "metadata": {},
   "outputs": [
    {
     "data": {
      "text/plain": [
       "('toyota', 12)"
      ]
     },
     "execution_count": 6,
     "metadata": {},
     "output_type": "execute_result"
    }
   ],
   "source": [
    "obj_car1.seating_capacity(12)"
   ]
  },
  {
   "cell_type": "markdown",
   "id": "a29efbad-cf84-4dfc-b4c5-f3e8bb714850",
   "metadata": {},
   "source": [
    "Q3. What is multiple inheritance? Write a python code to demonstrate multiple inheritance."
   ]
  },
  {
   "cell_type": "code",
   "execution_count": 13,
   "id": "c562ab97-4de4-4acd-8181-f9ca1ec729d6",
   "metadata": {},
   "outputs": [],
   "source": [
    "class A:\n",
    "    def test1(self):\n",
    "        print('Class A called')\n",
    "class B:\n",
    "    def test2(self):\n",
    "        print(\"Class B called\")\n",
    "class C(A,B):\n",
    "    def test3(self):\n",
    "        print(\"Class C called\")"
   ]
  },
  {
   "cell_type": "code",
   "execution_count": 14,
   "id": "0f4d1de8-f3ad-4178-8726-d79aa0617d8a",
   "metadata": {},
   "outputs": [],
   "source": [
    "obj_C = C()"
   ]
  },
  {
   "cell_type": "code",
   "execution_count": 15,
   "id": "8014b1f8-27d5-40ff-a33a-4d9073f36905",
   "metadata": {},
   "outputs": [
    {
     "name": "stdout",
     "output_type": "stream",
     "text": [
      "Class C called\n"
     ]
    }
   ],
   "source": [
    "obj_C.test3()"
   ]
  },
  {
   "cell_type": "code",
   "execution_count": 18,
   "id": "7e779944-e95a-4299-b38b-ab49560be339",
   "metadata": {},
   "outputs": [
    {
     "name": "stdout",
     "output_type": "stream",
     "text": [
      "Class B called\n"
     ]
    }
   ],
   "source": [
    "obj_C.test2() #mutliple inheritance "
   ]
  },
  {
   "cell_type": "code",
   "execution_count": 19,
   "id": "7bc7f353-f4e8-449a-b7b8-d44ea7ac54c3",
   "metadata": {},
   "outputs": [
    {
     "name": "stdout",
     "output_type": "stream",
     "text": [
      "Class A called\n"
     ]
    }
   ],
   "source": [
    "obj_C.test1() #mutliple inheritance "
   ]
  },
  {
   "cell_type": "markdown",
   "id": "3a12bb77-bd17-4b46-92b6-74fb88ae4d2a",
   "metadata": {},
   "source": [
    "Q4. What are getter and setter in python? Create a class and create a getter and a setter method in this\n",
    "class."
   ]
  },
  {
   "cell_type": "markdown",
   "id": "2117fae0-d88b-465c-a751-9406c3836d17",
   "metadata": {},
   "source": [
    "Ans4: In OOP while using encapsulation in python the class attributes are hidden from the user. To provide limited access to these hidden attributes wherein they can be viewed and edited without accessing the code the setter and getter methods are added within the class."
   ]
  },
  {
   "cell_type": "code",
   "execution_count": 29,
   "id": "fe261333-6c8f-4fe1-b491-2ddf5420394c",
   "metadata": {},
   "outputs": [],
   "source": [
    "class BankAccount:\n",
    "    def __init__(self,name,account_no,amount):\n",
    "        '''Constructor: When called creates a bank account object with name , account_no and amount\n",
    "        '''\n",
    "        self.__name = name\n",
    "        self.__account_no = account_no\n",
    "        self.__amount = amount\n",
    "    \n",
    "    def deposit(self,deposit): # since self.__amount is encapsulated this method acts as setter\n",
    "        '''Acesses the amount and increments it with the amount deposited if deposit is positive\n",
    "        '''\n",
    "        if deposit > 0:\n",
    "            self.__amount  = self.__amount + deposit\n",
    "            return 'Success'\n",
    "        else:\n",
    "            return 'Failed, deposit cannot be 0 or negative'\n",
    "        \n",
    "    def withdraw(self,withdraw): # since self.__amount is encapsulated this method acts as setter\n",
    "        '''Access the amount and reduces it by the amount which is withdrawn\n",
    "        '''\n",
    "        if withdraw < self.__amount:\n",
    "            self.__amount  = self.__amount - withdraw\n",
    "            return 'Success'\n",
    "        else:\n",
    "            return 'Failed, cannot withdraw more than the amount in the account'\n",
    "    \n",
    "    def getter(self): # since self.__amount is encapsulated this method acts as getter which revels the attributes\n",
    "        '''displays the name , account_no and current balance\n",
    "        '''\n",
    "        return self.__name,self.__account_no,self.__amount"
   ]
  },
  {
   "cell_type": "code",
   "execution_count": 30,
   "id": "6d6da65a-ae4c-4c18-a8a2-c457a1cbc59d",
   "metadata": {},
   "outputs": [],
   "source": [
    "obj_acc = BankAccount('John',12345,10000)"
   ]
  },
  {
   "cell_type": "code",
   "execution_count": 31,
   "id": "8a5ccc59-b3ed-4ad4-bb9a-fa5772b9149b",
   "metadata": {},
   "outputs": [
    {
     "data": {
      "text/plain": [
       "('John', 12345, 10000)"
      ]
     },
     "execution_count": 31,
     "metadata": {},
     "output_type": "execute_result"
    }
   ],
   "source": [
    "obj_acc.getter()"
   ]
  },
  {
   "cell_type": "code",
   "execution_count": 32,
   "id": "8d09388b-f07a-4aa0-bf1a-471139e44fd6",
   "metadata": {},
   "outputs": [
    {
     "data": {
      "text/plain": [
       "'Failed, deposit cannot be 0 or negative'"
      ]
     },
     "execution_count": 32,
     "metadata": {},
     "output_type": "execute_result"
    }
   ],
   "source": [
    "obj_acc.deposit(-1)"
   ]
  },
  {
   "cell_type": "code",
   "execution_count": 33,
   "id": "be920f2f-0fb2-4b75-985f-5ed4d1b6af95",
   "metadata": {},
   "outputs": [
    {
     "data": {
      "text/plain": [
       "'Success'"
      ]
     },
     "execution_count": 33,
     "metadata": {},
     "output_type": "execute_result"
    }
   ],
   "source": [
    "obj_acc.deposit(10000)"
   ]
  },
  {
   "cell_type": "code",
   "execution_count": 34,
   "id": "e2d2d65b-ba36-4209-a503-1d60a23822ce",
   "metadata": {},
   "outputs": [
    {
     "data": {
      "text/plain": [
       "('John', 12345, 20000)"
      ]
     },
     "execution_count": 34,
     "metadata": {},
     "output_type": "execute_result"
    }
   ],
   "source": [
    "obj_acc.getter()"
   ]
  },
  {
   "cell_type": "code",
   "execution_count": 35,
   "id": "96b6094f-ecfb-4dcb-b8ad-26610d0627b0",
   "metadata": {},
   "outputs": [
    {
     "data": {
      "text/plain": [
       "'Failed, cannot withdraw more than the amount in the account'"
      ]
     },
     "execution_count": 35,
     "metadata": {},
     "output_type": "execute_result"
    }
   ],
   "source": [
    "obj_acc.withdraw(50000)"
   ]
  },
  {
   "cell_type": "code",
   "execution_count": 36,
   "id": "df33cf60-52f4-464f-a64e-92835f2bb259",
   "metadata": {},
   "outputs": [
    {
     "data": {
      "text/plain": [
       "'Success'"
      ]
     },
     "execution_count": 36,
     "metadata": {},
     "output_type": "execute_result"
    }
   ],
   "source": [
    "obj_acc.withdraw(10000)"
   ]
  },
  {
   "cell_type": "code",
   "execution_count": 37,
   "id": "817c6bb0-5698-4f55-bf41-f289fa870480",
   "metadata": {},
   "outputs": [
    {
     "data": {
      "text/plain": [
       "('John', 12345, 10000)"
      ]
     },
     "execution_count": 37,
     "metadata": {},
     "output_type": "execute_result"
    }
   ],
   "source": [
    "obj_acc.getter()"
   ]
  },
  {
   "cell_type": "markdown",
   "id": "6c543614-9b6f-4348-8b3b-6bd9d2afff93",
   "metadata": {},
   "source": [
    "Q5.What is method overriding in python? Write a python code to demonstrate method overriding"
   ]
  },
  {
   "cell_type": "markdown",
   "id": "e57103c1-0adc-420d-8859-c1c48a267d30",
   "metadata": {},
   "source": [
    "Method overriding is a feature of object-oriented programming languages where the subclass or child class can provide the program with specific characteristics or a specific implementation process of data provided that are already defined in the parent class or superclass."
   ]
  },
  {
   "cell_type": "code",
   "execution_count": 38,
   "id": "9d4e406d-dc78-4bb8-b058-6b9207788b00",
   "metadata": {},
   "outputs": [],
   "source": [
    "class A:\n",
    "    def test(self):\n",
    "        print('Class A called')\n",
    "class B(A):\n",
    "    def test(self): # same method as the parent class\n",
    "        print('Class B called')"
   ]
  },
  {
   "cell_type": "code",
   "execution_count": 39,
   "id": "d9d60d87-0640-4138-ae37-112839dead25",
   "metadata": {},
   "outputs": [],
   "source": [
    "obj = B()"
   ]
  },
  {
   "cell_type": "code",
   "execution_count": 40,
   "id": "30cd8c61-0cb6-43c2-aec8-99c3f496e74f",
   "metadata": {},
   "outputs": [
    {
     "name": "stdout",
     "output_type": "stream",
     "text": [
      "Class B called\n"
     ]
    }
   ],
   "source": [
    "obj.test() # parent class method is overriden "
   ]
  },
  {
   "cell_type": "code",
   "execution_count": 46,
   "id": "da8b38ad-e042-4852-ae63-b0585c66502c",
   "metadata": {},
   "outputs": [
    {
     "name": "stdout",
     "output_type": "stream",
     "text": [
      "[<class '__main__.B'>, <class '__main__.A'>, <class 'object'>]\n"
     ]
    }
   ],
   "source": [
    "print(B.mro()) #method resolution order for child class B"
   ]
  },
  {
   "cell_type": "code",
   "execution_count": null,
   "id": "e185ec35-e41d-40a3-9acf-a9623bf50887",
   "metadata": {},
   "outputs": [],
   "source": []
  }
 ],
 "metadata": {
  "kernelspec": {
   "display_name": "Python 3 (ipykernel)",
   "language": "python",
   "name": "python3"
  },
  "language_info": {
   "codemirror_mode": {
    "name": "ipython",
    "version": 3
   },
   "file_extension": ".py",
   "mimetype": "text/x-python",
   "name": "python",
   "nbconvert_exporter": "python",
   "pygments_lexer": "ipython3",
   "version": "3.9.16"
  }
 },
 "nbformat": 4,
 "nbformat_minor": 5
}
