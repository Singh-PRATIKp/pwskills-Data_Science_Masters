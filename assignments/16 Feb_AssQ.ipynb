{
 "cells": [
  {
   "cell_type": "markdown",
   "metadata": {},
   "source": [
    "# **`MySQL Assignments`**"
   ]
  },
  {
   "cell_type": "markdown",
   "metadata": {},
   "source": [
    "`Q1. What is a database? Differentiate between SQL and NoSQL databases.`"
   ]
  },
  {
   "cell_type": "markdown",
   "metadata": {},
   "source": [
    "A database is an organized collection of structured information, or data, typically stored electronically in a computer system. A database is usually controlled by a database management system (DBMS). Together, the data and the DBMS, along with the applications that are associated with them, are referred to as a database system, often shortened to just database.\n",
    "\n",
    "Data within the most common types of databases in operation today is typically modeled in rows and columns in a series of tables to make processing and data querying efficient. The data can then be easily accessed, managed, modified, updated, controlled, and organized. Most databases use structured query language (SQL) for writing and querying data.\n",
    "\n",
    "SQL is a programming language used by nearly all relational databases to query, manipulate, and define data, and to provide access control. SQL was first developed at IBM in the 1970s with Oracle as a major contributor, which led to implementation of the SQL ANSI standard, SQL has spurred many extensions from companies such as IBM, Oracle, and Microsoft. Although SQL is still widely used today, new programming languages are beginning to appear.\n",
    "\n",
    "NoSQL databases (aka \"not only SQL\") are non-tabular databases and store data differently than relational tables. NoSQL databases come in a variety of types based on their data model. The main types are document, key-value, wide-column, and graph. They provide flexible schemas and scale easily with large amounts of data and high user loads.\n",
    "\n",
    "The Main Differences: \n",
    "\n",
    "Type – \n",
    "1. SQL databases are primarily called as Relational Databases (`RDBMS`); whereas NoSQL database are primarily called as `non-relational` or distributed database. \n",
    "2. `Language` – \n",
    "SQL databases defines and manipulates data based structured query language (SQL). Seeing from a side this language is extremely powerful. SQL is one of the most versatile and widely-used options available which makes it a safe choice especially for great complex queries. But from other side it can be restrictive. SQL requires you to use predefined schemas to determine the structure of your data before you work with it. Also all of your data must follow the same structure. This can require significant up-front preparation which means that a change in the structure would be both difficult and disruptive to your whole system. \n",
    "A NoSQL database has dynamic schema for unstructured data. Data is stored in many ways which means it can be document-oriented, column-oriented, graph-based or organized as a KeyValue store. This flexibility means that documents can be created without having defined structure first. Also each document can have its own unique structure. The syntax varies from database to database, and you can add fields as you go. \n",
    "3. `Scalability` – \n",
    "In almost all situations SQL databases are vertically scalable. This means that you can increase the load on a single server by increasing things like RAM, CPU or SSD. But on the other hand NoSQL databases are horizontally scalable. This means that you handle more traffic by sharding, or adding more servers in your NoSQL database. It is similar to adding more floors to the same building versus adding more buildings to the neighborhood. Thus NoSQL can ultimately become larger and more powerful, making these databases the preferred choice for large or ever-changing data sets.\n",
    "4. `Structure` – \n",
    "SQL databases are table-based on the other hand NoSQL databases are either key-value pairs, document-based, graph databases or wide-column stores. This makes relational SQL databases a better option for applications that require multi-row transactions such as an accounting system or for legacy systems that were built for a relational structure. \n",
    "5. `Property followed` – \n",
    "SQL databases follow ACID properties (Atomicity, Consistency, Isolation and Durability) whereas the NoSQL database follows the Brewers CAP theorem (Consistency, Availability and Partition tolerance). \n",
    "6. `Support` – \n",
    "Great support is available for all SQL database from their vendors. Also a lot of independent consultations are there who can help you with SQL database for a very large scale deployments but for some NoSQL database you still have to rely on community support and only limited outside experts are available for setting up and deploying your large scale NoSQL deployments. \n",
    "\n",
    "\n",
    "Key highlights on SQL vs NoSQL: \n",
    "\n",
    "|SQL|NoSQL|\n",
    "|----|----|\n",
    "|RELATIONAL DATABASE MANAGEMENT SYSTEM (RDBMS)\t|Non-relational or distributed database system.\n",
    "|These databases have fixed or static or predefined schema\t|They have dynamic schema\n",
    "|These databases are not suited for hierarchical data storage.\t|These databases are best suited for hierarchical data storage.\n",
    "|These databases are best suited for complex queries\t|These databases are not so good for complex queries\n",
    "|Vertically Scalable\t|Horizontally scalable\n",
    "|Follows ACID property\t|Follows CAP(consistency, availability, partition tolerance)\n",
    "|Examples: MySQL, PostgreSQL, Oracle, MS-SQL Server, etc\t|Examples: MongoDB, GraphQL, HBase, Neo4j, Cassandra, etc"
   ]
  },
  {
   "cell_type": "markdown",
   "metadata": {},
   "source": [
    "`Q2. What is DDL? Explain why CREATE, DROP, ALTER, and TRUNCATE are used with an example.`"
   ]
  },
  {
   "cell_type": "markdown",
   "metadata": {},
   "source": [
    "`Data Definition Language(DDL)` is a subset of SQL and a part of DBMS(Database Management System). DDL consist of Commands to commands like CREATE, ALTER, TRUNCATE and DROP. These commands are used to create or modify the tables in SQL.\n",
    "\n",
    "DDL Commands :\n",
    "In this section, We will cover the following DDL commands as follows.\n",
    "\n",
    "1. Create\n",
    "2. Alter \n",
    "3. Truncate\n",
    "4. Drop\n",
    "\n",
    "`CREATE` :\n",
    "This command is used to create a new table in SQL. The user has to give information like table name, column names, and their datatypes.\n",
    "\n",
    "*Example* –\n",
    "We need to create a table for storing Student information of a particular College. Create syntax would be as below.\n",
    "\n",
    "CREATE TABLE Student_info\n",
    "(\n",
    "College_Id number(2),\n",
    "College_name varchar(30),\n",
    "Branch varchar(10)\n",
    ");\n",
    "\n",
    "`ALTER` :\n",
    "This command is used to add, delete or change columns in the existing table. The user needs to know the existing table name and can do add, delete or modify tasks easily.\n",
    "\n",
    "*Example* –\n",
    "In our Student_info table, we want to add a new column for CGPA. The syntax would be as below as follows.\n",
    "\n",
    "ALTER TABLE Student_info\n",
    "ADD CGPA number;\n",
    "\n",
    "`TRUNCATE` :\n",
    "This command is used to remove all rows from the table, but the structure of the table still exists.\n",
    "Example –\n",
    "The College Authority wants to remove the details of all students for new batches but wants to keep the table structure. The command they can use is as follows.\n",
    "\n",
    "TRUNCATE TABLE Student_info;\n",
    "\n",
    "`DROP` :\n",
    "This command is used to remove an existing table along with its structure from the Database.\n",
    "\n",
    "*Example* –\n",
    "If the College Authority wants to change their Database by deleting the Student_info Table. \n",
    "\n",
    "DROP TABLE Student_info;\n",
    "\n"
   ]
  },
  {
   "cell_type": "markdown",
   "metadata": {},
   "source": [
    "`Q3. What is DML? Explain INSERT, UPDATE, and DELETE with an example.`"
   ]
  },
  {
   "cell_type": "markdown",
   "metadata": {},
   "source": [
    "`DML(Data Manipulation Language)`: \n",
    "The SQL commands that deals with the manipulation of data present in the database belong to DML or Data Manipulation Language and this includes most of the SQL statements. It is the component of the SQL statement that controls access to data and to the database. Basically, DCL statements are grouped with DML statements.\n",
    "\n",
    "List of DML commands: \n",
    "\n",
    "1. `INSERT` : It is used to insert data into a table.\n",
    "Eg:-\n",
    "INSERT INTO STUDENT(ID, NAME,AGE,GRADE,CITY) VALUES(1,\"AMIT KUMAR\",15,10,\"DELHI\"),\n",
    "                                                   (2,\"GAURI RAO\",18,12,\"BANGALORE\"),\n",
    "                                                   (3,\"MANAV BHATT\",17,11,\"NEW DELHI\"),\n",
    "                                                    (4,\"RIYA KAPOOR\",10,5,\"UDAIPUR\");\n",
    "2. `UPDATE`: It is used to update existing data within a table.\n",
    "Eg:-\n",
    "UPDATE Student SET NAME = 'PRATIK', ADDRESS = 'SIKKIM' WHERE ROLL_NO = 1;\n",
    "\n",
    "3. `DELETE` : It is used to delete records from a database table.\n",
    "Eg:-\n",
    "DELETE FROM Student WHERE NAME = 'Ram';"
   ]
  },
  {
   "cell_type": "markdown",
   "metadata": {},
   "source": [
    "`Q4. What is DQL? Explain SELECT with an example.`"
   ]
  },
  {
   "cell_type": "markdown",
   "metadata": {},
   "source": [
    "`DQL (Data Query Language)`:\n",
    "DQL statements are used for performing queries on the data within schema objects. The purpose of the DQL Command is to get some schema relation based on the query passed to it. We can define DQL as follows:\n",
    "\n",
    "It is a component of SQL statement that allows getting data from the database and imposing order upon it. It includes the `SELECT` statement. This command allows getting the data out of the database to perform operations with it. When a SELECT is fired against a table or tables the result is compiled into a further temporary table, which is displayed or perhaps received by the program i.e. a front-end.\n",
    "\n",
    "Eg:SELECT * FROM Student;\n",
    "\n"
   ]
  },
  {
   "cell_type": "markdown",
   "metadata": {},
   "source": [
    "`Q5. Explain Primary Key and Foreign Key.`"
   ]
  },
  {
   "cell_type": "markdown",
   "metadata": {},
   "source": [
    "`Primary Key`: \n",
    "A primary key is used to ensure that data in the specific column is unique. A column cannot have NULL values. It is either an existing table column or a column that is specifically generated by the database according to a defined sequence. \n",
    "\n",
    "Example: Refer the figure – \n",
    "STUD_NO, as well as STUD_PHONE both, are candidate keys for relation STUDENT but STUD_NO can be chosen as the primary key (only one out of many candidate keys). \n",
    "\n",
    "`Foreign Key`: \n",
    "A foreign key is a column or group of columns in a relational database table that provides a link between data in two tables. It is a column (or columns) that references a column (most often the primary key) of another table. \n",
    "\n",
    "Example: Refer the figure – \n",
    "STUD_NO in STUDENT_COURSE is a foreign key to STUD_NO in STUDENT relation. \n",
    "\n",
    "<img src=\"https://media.geeksforgeeks.org/wp-content/uploads/20221028180613/1-300x143.png\"  width ='500'>\n",
    "\n",
    "Let’s see the difference between Primary Key and Foreign Key:\n",
    "\n",
    "|S.NO.\t|PRIMARY KEY\t|FOREIGN KEY\n",
    "|-|-|-|\n",
    "|1\t|A primary key is used to ensure data in the specific column is unique.\t|A foreign key is a column or group of columns in a relational table that provides a link between data in two tables.|\n",
    "|2\t|It uniquely identifies a record in the relational database table.\t|It refers to the field in a table which is the primary key of another table.|\n",
    "|3\t|Only one primary key is allowed in a table.\t|Whereas more than one foreign key are allowed in a table.|\n",
    "|4\t|It is a combination of UNIQUE and Not Null constraints.\t|It can contain duplicate values and a table in a relational database.|\n",
    "|5\t|It does not allow NULL values.\t|It can also contain NULL values.|\n",
    "|6\t|Its value cannot be deleted from the parent table.\t|Its value can be deleted from the child table.|\n",
    "|7\t|It constraint can be implicitly defined on the temporary tables.\t|It constraint cannot be defined on the local or global temporary tables.|\n"
   ]
  },
  {
   "cell_type": "markdown",
   "metadata": {},
   "source": [
    "`Q6. Write a python code to connect MySQL to python. Explain the cursor() and execute() method.`"
   ]
  },
  {
   "cell_type": "markdown",
   "metadata": {},
   "source": [
    "The MySQLCursor of mysql-connector-python (and similar libraries) is used to execute statements to communicate with the MySQL database.Using the methods of it you can execute SQL statements, fetch data from the result sets, call procedures.\n",
    "\n",
    "We can create Cursor object using the `cursor()` method of the Connection object/class. The `cursor.execute()` method accepts a MySQL query as a parameter and executes the given query."
   ]
  },
  {
   "cell_type": "code",
   "execution_count": 2,
   "metadata": {},
   "outputs": [
    {
     "name": "stdout",
     "output_type": "stream",
     "text": [
      "<mysql.connector.connection_cext.CMySQLConnection object at 0x7f80dd7443d0>\n",
      "('information_schema',)\n",
      "('mysql',)\n",
      "('performance_schema',)\n",
      "('sys',)\n"
     ]
    }
   ],
   "source": [
    "import mysql.connector # module for msql connection in python\n",
    "# import mysql.connector\n",
    "#create user 'user'@'%' identified by 'password'\n",
    "mydb = mysql.connector.connect(\n",
    "  host=\"localhost\",\n",
    "  user=\"abc\",\n",
    "  password=\"password\"\n",
    ") #connector with host and user arguments\n",
    "print(mydb) #print the info on all databases present in mysql\n",
    "mycursor = mydb.cursor() #cursor object for executing SQL statements using its methods\n",
    "mycursor.execute(\"SHOW DATABASES\") #method in cursor object for executing  the given query.\n",
    "for x in mycursor:\n",
    "  print(x)"
   ]
  },
  {
   "cell_type": "markdown",
   "metadata": {},
   "source": [
    "`Q7. Give the order of execution of SQL clauses in an SQL query.`"
   ]
  },
  {
   "cell_type": "markdown",
   "metadata": {},
   "source": [
    "The order in which the clauses in queries are executed is as follows:\n",
    "\n",
    "1. `FROM/JOIN`: The FROM and/or JOIN clauses are executed first to determine the data of interest.\n",
    "\n",
    "2. `WHERE`: The WHERE clause is executed to filter out records that do not meet the constraints.\n",
    "\n",
    "3. `GROUP BY`: The GROUP BY clause is executed to group the data based on the values in one or more columns.\n",
    "\n",
    "4. `HAVING`: The HAVING clause is executed to remove the created grouped records that don’t meet the constraints.\n",
    "\n",
    "5. `SELECT`: The SELECT clause is executed to derive all desired columns and expressions.\n",
    "\n",
    "6. `ORDER BY`: The ORDER BY clause is executed to sort the derived values in ascending or descending order.\n",
    "\n",
    "7. `LIMIT/OFFSET`: Finally, the LIMIT and/or OFFSET clauses are executed to keep or skip a specified number of rows.\n",
    "\n",
    "\n",
    "<img src='https://miro.medium.com/max/953/1*zMlOodcNu3_vp67jFQRpcg.png' width = '1000'>\n",
    "\n"
   ]
  }
 ],
 "metadata": {
  "kernelspec": {
   "display_name": "Python 3.8.10 64-bit",
   "language": "python",
   "name": "python3"
  },
  "language_info": {
   "codemirror_mode": {
    "name": "ipython",
    "version": 3
   },
   "file_extension": ".py",
   "mimetype": "text/x-python",
   "name": "python",
   "nbconvert_exporter": "python",
   "pygments_lexer": "ipython3",
   "version": "3.8.10"
  },
  "orig_nbformat": 4,
  "vscode": {
   "interpreter": {
    "hash": "e7370f93d1d0cde622a1f8e1c04877d8463912d04d973331ad4851f04de6915a"
   }
  }
 },
 "nbformat": 4,
 "nbformat_minor": 2
}
