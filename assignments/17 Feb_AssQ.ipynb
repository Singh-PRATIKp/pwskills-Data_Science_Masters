{
 "cells": [
  {
   "cell_type": "markdown",
   "metadata": {},
   "source": [
    "# **`MONGO DB`**"
   ]
  },
  {
   "cell_type": "markdown",
   "metadata": {},
   "source": [
    "`Q1. What is MongoDB? Explain non-relational databases in short. In which scenarios it is preferred to use MongoDB over SQL databases?`"
   ]
  },
  {
   "cell_type": "markdown",
   "metadata": {},
   "source": [
    "`NoSQL databases` (aka \"not only SQL\" synonymous with `non-relational databases`) are non-tabular databases and store data differently than relational tables. NoSQL databases come in a variety of types based on their data model. The main types are document, key-value, wide-column, and graph. They provide flexible schemas and scale easily with large amounts of data and high user loads. One such example is MongoDB\n",
    "\n",
    "`MongoDB` is a source-available cross-platform document-oriented database program. Classified as a NoSQL database program, MongoDB uses JSON-like documents with optional schemas. It is a database based on a non-relational document model. Thus, as a so-called NoSQL database (NoSQL = Not-only-SQL), it differs fundamentally from conventional relational databases such as Oracle, MySQL or the Microsoft SQL Server. The name MongoDB is derived from the English word “humongous”, which roughly means “gigantic”. MongoDB was released in 2009 by founder and developer Eliot Horowitz, who stepped down as Chief Technology Officer and from the Board of Directors of MongoDB Inc. in 2020, but is still active as a technical consultant.MongoDB is developed by MongoDB Inc. and licensed under the Server Side Public License which is deemed non-free by several distributions\n",
    "\n",
    "Key features are:\n",
    "- MongoDB stores data in flexible, JSON-like documents, meaning fields can vary from document to document and data structure can be changed over time\n",
    "- The document model maps to the objects in your application code, making data easy to work with\n",
    "- Ad hoc queries, indexing, and real time aggregation provide powerful ways to access and analyze your data\n",
    "- MongoDB is a distributed database at its core, so high availability, horizontal scaling, and geographic distribution are built in and easy to use\n",
    "- MongoDB is free to use. Versions released prior to October 16, 2018 are published under the AGPL. All versions released after October 16, 2018, including patch fixes for prior versions, are published under the Server Side Public License (SSPL) v1.\n",
    "\n",
    "Scenarios where mongodb is preferred over SQL databases:\n",
    "- `Integrating large amounts of diverse data` : If you are bringing together tens or hundreds of data sources, the flexibility and power of the document model can create a single unified view in ways that other databases cannot. MongoDB has succeeded in bringing such projects to life when approaches using other databases have failed.\n",
    "\n",
    "- `Describing complex data structures that evolve` : Document databases allow embedding of documents to describe nested structures and easily tolerate variations in data in generations of documents. Specialized data formats like geospatial are efficiently supported. This results in a resilient repository that doesn’t break or need to be redesigned every time something changes.\n",
    "\n",
    "- `Delivering data in high-performance applications` : MongoDB’s scale-out architecture can support huge numbers of transactions on humongous databases. Unlike other databases that either cannot support such scale or can only do so with massive amounts of engineering and additional components, MongoDB has a clear path to scalability because of the way it was designed. MongoDB is scalable out of the box.\n",
    "\n",
    "- `Supporting hybrid and multi-cloud applications` : MongoDB can be deployed and run on a desktop, a massive cluster of computers in a data center, or in a public cloud, either as installed software or through MongoDB Atlas, a database-as-a-service product. If you have applications that need to run wherever they make sense, MongoDB supports any configuration now and in the future.\n",
    "\n",
    "- `Supporting agile development and collaboration` : Document databases put developers in charge of the data. Data becomes like code that is friendly to developers. This is far different from making developers use a strange system that requires a specialist. Document databases also allow the evolution of the structure of the data as needs are better understood. Collaboration and governance can allow one team to control one part of a document and another team to control another part.\n"
   ]
  },
  {
   "cell_type": "markdown",
   "metadata": {},
   "source": [
    "`Q2. State and Explain the features of MongoDB.`"
   ]
  },
  {
   "cell_type": "markdown",
   "metadata": {},
   "source": [
    "\n",
    "`Top 5 features of MongoDB`:\n",
    "\n",
    "1. `Ad-hoc queries for optimized, real-time analytics` : When designing the schema of a database, it is impossible to know in advance all the queries that will be performed by end users. An ad hoc query is a short-lived command whose value depends on a variable. Each time an ad hoc query is executed, the result may be different, depending on the variables in question. Optimizing the way in which ad-hoc queries are handled can make a significant difference at scale, when thousands to millions of variables may need to be considered. This is why MongoDB, a document-oriented, flexible schema database, stands apart as the cloud database platform of choice for enterprise applications that require real-time analytics. With ad-hoc query support that allows developers to update ad-hoc queries in real time, the improvement in performance can be game-changing. MongoDB supports field queries, range queries, and regular expression searches. Queries can return specific fields and also account for user-defined functions. This is made possible because MongoDB indexes BSON documents and uses the MongoDB Query Language (MQL).\n",
    "\n",
    "2. `Indexing appropriately for better query executions` : The number one issue that many technical support teams fail to address with their users is indexing. Done right, indexes are intended to improve search speed and performance. A failure to properly define appropriate indices can and usually will lead to a myriad of accessibility issues, such as problems with query execution and load balancing. Without the right indices, a database is forced to scan documents one by one to identify the ones that match the query statement. But if an appropriate index exists for each query, user requests can be optimally executed by the server. MongoDB offers a broad range of indices and features with language-specific sort orders that support complex access patterns to datasets. Notably, MongoDB indices can be created on demand to accommodate real-time, ever-changing query patterns and application requirements. They can also be declared on any field within any of your documents, including those nested within arrays.\n",
    "\n",
    "3. `Replication for better data availability and stability` : When your data only resides in a single database, it is exposed to multiple potential points of failure, such as a server crash, service interruptions, or even good old hardware failure. Any of these events would make accessing your data nearly impossible. Replication allows you to sidestep these vulnerabilities by deploying multiple servers for disaster recovery and backup. Horizontal scaling across multiple servers that house the same data (or shards of that same data) means greatly increased data availability and stability. Naturally, replication also helps with load balancing. When multiple users access the same data, the load can be distributed evenly across servers. In MongoDB, replica sets are employed for this purpose. A primary server or node accepts all write operations and applies those same operations across secondary servers, replicating the data. If the primary server should ever experience a critical failure, any one of the secondary servers can be elected to become the new primary node. And if the former primary node comes back online, it does so as a secondary server for the new primary node.\n",
    "\n",
    "4. `Sharding` : When dealing with particularly large datasets, sharding—the process of splitting larger datasets across multiple distributed collections, or “shards”—helps the database distribute and better execute what might otherwise be problematic and cumbersome queries. Without sharding, scaling a growing web application with millions of daily users is nearly impossible.Like replication via replication sets, sharding in MongoDB allows for much greater horizontal scalability. Horizontal scaling means that each shard in every cluster houses a portion of the dataset in question, essentially functioning as a separate database. The collection of distributed server shards forms a single, comprehensive database much better suited to handling the needs of a popular, growing application with zero downtime.All operations in a sharding environment are handled through a lightweight process called mongos. Mongos can direct queries to the correct shard based on the shard key. Naturally, proper sharding also contributes significantly to better load balancing.\n",
    "\n",
    "5. `Load balancing` : At the end of the day, optimal load balancing remains one of the holy grails of large-scale database management for growing enterprise applications. Properly distributing millions of client requests to hundreds or thousands of servers can lead to a noticeable (and much appreciated) difference in performance.Fortunately, via horizontal scaling features like replication and sharding, MongoDB supports large-scale load balancing. The platform can handle multiple concurrent read and write requests for the same data with best-in-class concurrency control and locking protocols that ensure data consistency. There’s no need to add an external load balancer—MongoDB ensures that each and every user has a consistent view and quality experience with the data they need to access"
   ]
  },
  {
   "cell_type": "markdown",
   "metadata": {},
   "source": [
    "Q3. Write a code to connect MongoDB to Python. Also, create a database and a collection in MongoDB."
   ]
  },
  {
   "cell_type": "code",
   "execution_count": 106,
   "metadata": {},
   "outputs": [
    {
     "name": "stdout",
     "output_type": "stream",
     "text": [
      "Requirement already satisfied: pymongo in /opt/conda/lib/python3.10/site-packages (4.3.3)\n",
      "Requirement already satisfied: dnspython<3.0.0,>=1.16.0 in /opt/conda/lib/python3.10/site-packages (from pymongo) (2.3.0)\n"
     ]
    }
   ],
   "source": [
    "!pip install pymongo"
   ]
  },
  {
   "cell_type": "code",
   "execution_count": 107,
   "metadata": {},
   "outputs": [],
   "source": [
    "import pymongo\n",
    "client = pymongo.MongoClient(\"mongodb+srv://tejas05in:<password>@cluster0.cnbjrys.mongodb.net/?retryWrites=true&w=majority\")\n",
    "db = client.test"
   ]
  },
  {
   "cell_type": "code",
   "execution_count": 108,
   "metadata": {},
   "outputs": [],
   "source": [
    "db = client[\"PWSkills\"] # creating a database 'pwskills'"
   ]
  },
  {
   "cell_type": "code",
   "execution_count": 109,
   "metadata": {},
   "outputs": [],
   "source": [
    "coll_create = db[\"mongo_nosql\"] # creating a collection 'mongo_nosql'"
   ]
  },
  {
   "cell_type": "code",
   "execution_count": 110,
   "metadata": {},
   "outputs": [],
   "source": [
    "data1 = {\n",
    "\"name\":\"tj\",\n",
    "    \"age\":38,\n",
    "    \"speciality\": \"MD Forensic Medicine\",\n",
    "    \"Designation\": \"Professor\"\n",
    "} # test data"
   ]
  },
  {
   "cell_type": "code",
   "execution_count": 111,
   "metadata": {},
   "outputs": [
    {
     "data": {
      "text/plain": [
       "<pymongo.results.InsertOneResult at 0x7f7ff435bd60>"
      ]
     },
     "execution_count": 111,
     "metadata": {},
     "output_type": "execute_result"
    }
   ],
   "source": [
    "coll_create.insert_one(data1)  # test data inserted and database and collection created"
   ]
  },
  {
   "cell_type": "code",
   "execution_count": 112,
   "metadata": {},
   "outputs": [
    {
     "name": "stdout",
     "output_type": "stream",
     "text": [
      "{'_id': ObjectId('63efc6f1271c845a8b6096a5'), 'name': 'tj', 'age': 38, 'speciality': 'MD Forensic Medicine', 'Designation': 'Professor'}\n"
     ]
    }
   ],
   "source": [
    "for i in coll_create.find(): # retrieving the collection\n",
    "    print(i)"
   ]
  },
  {
   "cell_type": "markdown",
   "metadata": {},
   "source": [
    "Q4. Using the database and the collection created in question number 3, write a code to insert one record,\n",
    "and insert many records. Use the find() and find_one() methods to print the inserted record."
   ]
  },
  {
   "cell_type": "code",
   "execution_count": 113,
   "metadata": {},
   "outputs": [],
   "source": [
    "# test data with seingle record\n",
    "data2 = {\n",
    "    \"name\" : \"murali\",\n",
    "    \"age\" : 32,\n",
    "    \"speciality\" : \"MD Forensic Medicine\",\n",
    "    \"Designation\": \"Assistant Professor\"\n",
    "} "
   ]
  },
  {
   "cell_type": "code",
   "execution_count": 114,
   "metadata": {},
   "outputs": [],
   "source": [
    "# test data wih many records\n",
    "data3 = [  \n",
    "    {\"name\":\"Shyam\", \"email\":\"shyamjaiswal@gmail.com\"},  \n",
    "    {\"name\":\"Bob\", \"email\":\"bob32@gmail.com\"},  \n",
    "    {\"name\":\"Jai\", \"email\":\"jai87@gmail.com\"},\n",
    "    {\"name\":\"bai\", \"email\":\"bai23@gmail.com\"},\n",
    "    {\"name\":\"Pai\", \"email\":\"pai34@gmail.com\"},\n",
    "    {\"name\":\"Rob\", \"email\":\"rob28@gmail.com\"},\n",
    "    {\"name\":\"Jon\", \"email\":\"jon65@gmail.com\"}\n",
    "] "
   ]
  },
  {
   "cell_type": "code",
   "execution_count": 115,
   "metadata": {},
   "outputs": [],
   "source": [
    "# inserting one record\n",
    "X = coll_create.insert_one(data2) "
   ]
  },
  {
   "cell_type": "code",
   "execution_count": 116,
   "metadata": {},
   "outputs": [
    {
     "data": {
      "text/plain": [
       "True"
      ]
     },
     "execution_count": 116,
     "metadata": {},
     "output_type": "execute_result"
    }
   ],
   "source": [
    "X.acknowledged"
   ]
  },
  {
   "cell_type": "code",
   "execution_count": 117,
   "metadata": {},
   "outputs": [],
   "source": [
    "# inserting many records\n",
    "X = coll_create.insert_many(data3)"
   ]
  },
  {
   "cell_type": "code",
   "execution_count": 118,
   "metadata": {},
   "outputs": [
    {
     "data": {
      "text/plain": [
       "True"
      ]
     },
     "execution_count": 118,
     "metadata": {},
     "output_type": "execute_result"
    }
   ],
   "source": [
    "X.acknowledged"
   ]
  },
  {
   "cell_type": "code",
   "execution_count": 119,
   "metadata": {},
   "outputs": [
    {
     "name": "stdout",
     "output_type": "stream",
     "text": [
      "{'_id': ObjectId('63efc6f1271c845a8b6096a5'), 'name': 'tj', 'age': 38, 'speciality': 'MD Forensic Medicine', 'Designation': 'Professor'}\n",
      "{'_id': ObjectId('63efc6f1271c845a8b6096a6'), 'name': 'murali', 'age': 32, 'speciality': 'MD Forensic Medicine', 'Designation': 'Assistant Professor'}\n",
      "{'_id': ObjectId('63efc6f1271c845a8b6096a7'), 'name': 'Shyam', 'email': 'shyamjaiswal@gmail.com'}\n",
      "{'_id': ObjectId('63efc6f1271c845a8b6096a8'), 'name': 'Bob', 'email': 'bob32@gmail.com'}\n",
      "{'_id': ObjectId('63efc6f1271c845a8b6096a9'), 'name': 'Jai', 'email': 'jai87@gmail.com'}\n",
      "{'_id': ObjectId('63efc6f1271c845a8b6096aa'), 'name': 'bai', 'email': 'bai23@gmail.com'}\n",
      "{'_id': ObjectId('63efc6f1271c845a8b6096ab'), 'name': 'Pai', 'email': 'pai34@gmail.com'}\n",
      "{'_id': ObjectId('63efc6f1271c845a8b6096ac'), 'name': 'Rob', 'email': 'rob28@gmail.com'}\n",
      "{'_id': ObjectId('63efc6f1271c845a8b6096ad'), 'name': 'Jon', 'email': 'jon65@gmail.com'}\n"
     ]
    }
   ],
   "source": [
    "for i in coll_create.find(): # retrieving the collection with find()\n",
    "    print(i)"
   ]
  },
  {
   "cell_type": "code",
   "execution_count": 120,
   "metadata": {},
   "outputs": [
    {
     "name": "stdout",
     "output_type": "stream",
     "text": [
      "{'_id': ObjectId('63efc6f1271c845a8b6096a5'), 'name': 'tj', 'age': 38, 'speciality': 'MD Forensic Medicine', 'Designation': 'Professor'}\n",
      "{'_id': ObjectId('63efc6f1271c845a8b6096ac'), 'name': 'Rob', 'email': 'rob28@gmail.com'}\n"
     ]
    }
   ],
   "source": [
    "print(coll_create.find_one())# retrieving the collection with find_one() default is first collection \n",
    "print(coll_create.find_one({\"name\":\"Rob\"})) # can search for specific records with arguments just like find()"
   ]
  },
  {
   "cell_type": "markdown",
   "metadata": {},
   "source": [
    "Q5. Explain how you can use the find() method to query the MongoDB database. Write a simple code to\n",
    "demonstrate this."
   ]
  },
  {
   "cell_type": "markdown",
   "metadata": {},
   "source": [
    "In mongoDB, the `find()` method is used to fetch a particular data from the table. In other words, it is used to select data in a table. It is also used to return all events to the selected data. The find() method consists of two parameters by which we can find a particular record.\n",
    "\n",
    "`Syntax`:\n",
    "\n",
    "db.collection_name.find(query, projection)\n",
    "\n",
    "1. query: This is an optional parameter that defines the selection criteria. In simple words, it defines a query as what you want to find in a collection.\n",
    "2. projection: This is an optional parameter that defines what to return if the query criteria are met successfully. In simple words, it is a type of decision-making that decides on criteria."
   ]
  },
  {
   "cell_type": "code",
   "execution_count": 121,
   "metadata": {},
   "outputs": [
    {
     "name": "stdout",
     "output_type": "stream",
     "text": [
      "{'_id': ObjectId('63efc6f1271c845a8b6096a5'), 'name': 'tj', 'age': 38, 'speciality': 'MD Forensic Medicine', 'Designation': 'Professor'}\n",
      "{'_id': ObjectId('63efc6f1271c845a8b6096a6'), 'name': 'murali', 'age': 32, 'speciality': 'MD Forensic Medicine', 'Designation': 'Assistant Professor'}\n"
     ]
    }
   ],
   "source": [
    "for i in coll_create.find({'speciality': 'MD Forensic Medicine'}): # retrieving the collection with a query 'speciality': 'MD Forensic Medicine'\n",
    "    print(i)"
   ]
  },
  {
   "cell_type": "markdown",
   "metadata": {},
   "source": [
    "Q6. Explain the sort() method. Give an example to demonstrate sorting in MongoDB."
   ]
  },
  {
   "cell_type": "markdown",
   "metadata": {},
   "source": [
    "*`The sort() Method`*\n",
    "\n",
    "\n",
    "To sort documents in MongoDB, you need to use sort() method. The method accepts a document containing a list of fields along with their sorting order. To specify sorting order 1 and -1 are used. 1 is used for ascending order while -1 is used for descending order."
   ]
  },
  {
   "cell_type": "code",
   "execution_count": 122,
   "metadata": {},
   "outputs": [],
   "source": [
    "#  test data for demo of sroting\n",
    "data4 = [\n",
    "    {\n",
    "           \"name\" : \"Mick\",\n",
    "           \"Course\" : \"btech\",\n",
    "           \"batch_year\" : 2018,\n",
    "           \"language\" : [\"c++\", \"java\", \"python\"],\n",
    "},\n",
    "{\n",
    "           \"name\" : \"Zoya\",\n",
    "           \"Course\" : \"BCA\",\n",
    "           \"batch_year\" : 2020,\n",
    "           \"language\" : [\"C#\", \"JavaScript\"],\n",
    "},\n",
    "{\n",
    "           \"name\" : \"Jonny\",\n",
    "           \"Course\" : \"MCA\",\n",
    "           \"batch_year\" : 2019,\n",
    "           \"language\" : [\"C#\", \"java\", \"PHP\"],\n",
    "},\n",
    "{\n",
    "           \"name\" : \"Oliver\",\n",
    "           \"Course\" : \"BA\",\n",
    "           \"batch_year\" : 2017,\n",
    "           \"language\" : [\"c\", \"PHP\"],\n",
    "},\n",
    "{\n",
    "           \"name\" : \"Mia\",\n",
    "           \"Course\" : \"btech\",\n",
    "           \"batch_year\" : 2020,\n",
    "           \"language\" : [\"HTML\", \"CSS\", \"PHP\"],\n",
    "}\n",
    "] "
   ]
  },
  {
   "cell_type": "code",
   "execution_count": 123,
   "metadata": {},
   "outputs": [],
   "source": [
    "X = coll_create.insert_many(data4) # inserting test data"
   ]
  },
  {
   "cell_type": "code",
   "execution_count": 124,
   "metadata": {},
   "outputs": [
    {
     "data": {
      "text/plain": [
       "True"
      ]
     },
     "execution_count": 124,
     "metadata": {},
     "output_type": "execute_result"
    }
   ],
   "source": [
    "X.acknowledged"
   ]
  },
  {
   "cell_type": "code",
   "execution_count": 125,
   "metadata": {},
   "outputs": [
    {
     "name": "stdout",
     "output_type": "stream",
     "text": [
      "{'_id': ObjectId('63efc6f1271c845a8b6096b1'), 'name': 'Oliver', 'Course': 'BA', 'batch_year': 2017, 'language': ['c', 'PHP']}\n",
      "{'_id': ObjectId('63efc6f1271c845a8b6096ae'), 'name': 'Mick', 'Course': 'btech', 'batch_year': 2018, 'language': ['c++', 'java', 'python']}\n",
      "{'_id': ObjectId('63efc6f1271c845a8b6096b0'), 'name': 'Jonny', 'Course': 'MCA', 'batch_year': 2019, 'language': ['C#', 'java', 'PHP']}\n",
      "{'_id': ObjectId('63efc6f1271c845a8b6096af'), 'name': 'Zoya', 'Course': 'BCA', 'batch_year': 2020, 'language': ['C#', 'JavaScript']}\n",
      "{'_id': ObjectId('63efc6f1271c845a8b6096b2'), 'name': 'Mia', 'Course': 'btech', 'batch_year': 2020, 'language': ['HTML', 'CSS', 'PHP']}\n"
     ]
    }
   ],
   "source": [
    "for i in coll_create.find({'batch_year': {\"$gte\":2016}}).sort(\"batch_year\",1): # sorting the data by the batch year\n",
    "    print(i)"
   ]
  },
  {
   "cell_type": "markdown",
   "metadata": {},
   "source": [
    "Q7. Explain why delete_one(), delete_many(), and drop() is used."
   ]
  },
  {
   "cell_type": "markdown",
   "metadata": {},
   "source": [
    "`delete_one()`:\n",
    "\n",
    "In MongoDB, a single document can be deleted by the method delete_one(). The first parameter of the method would be a query object which defines the document to be deleted. If there are multiple documents matching the filter query, only the first appeared document would be deleted. \n",
    "\n",
    "Note: Deleting a document is the same as deleting a record in the case of SQLIn MongoDB, a single document can be deleted by the method delete_one(). The first parameter of the method would be a query object which defines the document to be deleted. If there are multiple documents matching the filter query, only the first appeared document would be deleted. \n",
    "\n",
    "Note: Deleting a document is the same as deleting a record in the case of SQL"
   ]
  },
  {
   "cell_type": "code",
   "execution_count": 126,
   "metadata": {},
   "outputs": [
    {
     "name": "stdout",
     "output_type": "stream",
     "text": [
      "{'_id': ObjectId('63efc6f1271c845a8b6096a5'), 'name': 'tj', 'age': 38, 'speciality': 'MD Forensic Medicine', 'Designation': 'Professor'}\n",
      "{'_id': ObjectId('63efc6f1271c845a8b6096a6'), 'name': 'murali', 'age': 32, 'speciality': 'MD Forensic Medicine', 'Designation': 'Assistant Professor'}\n"
     ]
    }
   ],
   "source": [
    "# before delete_one()\n",
    "for i in coll_create.find({'speciality': 'MD Forensic Medicine'}): \n",
    "    print(i)"
   ]
  },
  {
   "cell_type": "code",
   "execution_count": 127,
   "metadata": {},
   "outputs": [],
   "source": [
    "# deleting with query {'speciality': 'MD Forensic Medicine'}\n",
    "X = coll_create.delete_one({'speciality': 'MD Forensic Medicine'})"
   ]
  },
  {
   "cell_type": "code",
   "execution_count": 128,
   "metadata": {},
   "outputs": [
    {
     "data": {
      "text/plain": [
       "1"
      ]
     },
     "execution_count": 128,
     "metadata": {},
     "output_type": "execute_result"
    }
   ],
   "source": [
    "X.deleted_count"
   ]
  },
  {
   "cell_type": "code",
   "execution_count": 129,
   "metadata": {},
   "outputs": [
    {
     "name": "stdout",
     "output_type": "stream",
     "text": [
      "{'_id': ObjectId('63efc6f1271c845a8b6096a6'), 'name': 'murali', 'age': 32, 'speciality': 'MD Forensic Medicine', 'Designation': 'Assistant Professor'}\n"
     ]
    }
   ],
   "source": [
    "# after delete_one()\n",
    "for i in coll_create.find({'speciality': 'MD Forensic Medicine'}):\n",
    "    print(i)"
   ]
  },
  {
   "cell_type": "markdown",
   "metadata": {},
   "source": [
    "`Delete_many()` :\n",
    "\n",
    "Delete_many() is used when one needs to delete more than one document. A query object containing which document to be deleted is created and is passed as the first parameter to the delete_many()."
   ]
  },
  {
   "cell_type": "code",
   "execution_count": 130,
   "metadata": {},
   "outputs": [
    {
     "name": "stdout",
     "output_type": "stream",
     "text": [
      "{'_id': ObjectId('63efc6f1271c845a8b6096a6'), 'name': 'murali', 'age': 32, 'speciality': 'MD Forensic Medicine', 'Designation': 'Assistant Professor'}\n",
      "{'_id': ObjectId('63efc6f1271c845a8b6096a7'), 'name': 'Shyam', 'email': 'shyamjaiswal@gmail.com'}\n",
      "{'_id': ObjectId('63efc6f1271c845a8b6096a8'), 'name': 'Bob', 'email': 'bob32@gmail.com'}\n",
      "{'_id': ObjectId('63efc6f1271c845a8b6096a9'), 'name': 'Jai', 'email': 'jai87@gmail.com'}\n",
      "{'_id': ObjectId('63efc6f1271c845a8b6096aa'), 'name': 'bai', 'email': 'bai23@gmail.com'}\n",
      "{'_id': ObjectId('63efc6f1271c845a8b6096ab'), 'name': 'Pai', 'email': 'pai34@gmail.com'}\n",
      "{'_id': ObjectId('63efc6f1271c845a8b6096ac'), 'name': 'Rob', 'email': 'rob28@gmail.com'}\n",
      "{'_id': ObjectId('63efc6f1271c845a8b6096ad'), 'name': 'Jon', 'email': 'jon65@gmail.com'}\n",
      "{'_id': ObjectId('63efc6f1271c845a8b6096ae'), 'name': 'Mick', 'Course': 'btech', 'batch_year': 2018, 'language': ['c++', 'java', 'python']}\n",
      "{'_id': ObjectId('63efc6f1271c845a8b6096af'), 'name': 'Zoya', 'Course': 'BCA', 'batch_year': 2020, 'language': ['C#', 'JavaScript']}\n",
      "{'_id': ObjectId('63efc6f1271c845a8b6096b0'), 'name': 'Jonny', 'Course': 'MCA', 'batch_year': 2019, 'language': ['C#', 'java', 'PHP']}\n",
      "{'_id': ObjectId('63efc6f1271c845a8b6096b1'), 'name': 'Oliver', 'Course': 'BA', 'batch_year': 2017, 'language': ['c', 'PHP']}\n",
      "{'_id': ObjectId('63efc6f1271c845a8b6096b2'), 'name': 'Mia', 'Course': 'btech', 'batch_year': 2020, 'language': ['HTML', 'CSS', 'PHP']}\n"
     ]
    }
   ],
   "source": [
    "# before delete_many()\n",
    "for i in coll_create.find():\n",
    "    print(i)"
   ]
  },
  {
   "cell_type": "markdown",
   "metadata": {},
   "source": [
    "#### Using regex expression within mongo query to delete all files where names start with M"
   ]
  },
  {
   "cell_type": "code",
   "execution_count": 131,
   "metadata": {},
   "outputs": [
    {
     "data": {
      "text/plain": [
       "<pymongo.results.DeleteResult at 0x7f7ff4462920>"
      ]
     },
     "execution_count": 131,
     "metadata": {},
     "output_type": "execute_result"
    }
   ],
   "source": [
    "coll_create.delete_many({\"name\":{\"$regex\":\"^M\"}})"
   ]
  },
  {
   "cell_type": "code",
   "execution_count": 132,
   "metadata": {},
   "outputs": [
    {
     "name": "stdout",
     "output_type": "stream",
     "text": [
      "{'_id': ObjectId('63efc6f1271c845a8b6096a6'), 'name': 'murali', 'age': 32, 'speciality': 'MD Forensic Medicine', 'Designation': 'Assistant Professor'}\n",
      "{'_id': ObjectId('63efc6f1271c845a8b6096a7'), 'name': 'Shyam', 'email': 'shyamjaiswal@gmail.com'}\n",
      "{'_id': ObjectId('63efc6f1271c845a8b6096a8'), 'name': 'Bob', 'email': 'bob32@gmail.com'}\n",
      "{'_id': ObjectId('63efc6f1271c845a8b6096a9'), 'name': 'Jai', 'email': 'jai87@gmail.com'}\n",
      "{'_id': ObjectId('63efc6f1271c845a8b6096aa'), 'name': 'bai', 'email': 'bai23@gmail.com'}\n",
      "{'_id': ObjectId('63efc6f1271c845a8b6096ab'), 'name': 'Pai', 'email': 'pai34@gmail.com'}\n",
      "{'_id': ObjectId('63efc6f1271c845a8b6096ac'), 'name': 'Rob', 'email': 'rob28@gmail.com'}\n",
      "{'_id': ObjectId('63efc6f1271c845a8b6096ad'), 'name': 'Jon', 'email': 'jon65@gmail.com'}\n",
      "{'_id': ObjectId('63efc6f1271c845a8b6096af'), 'name': 'Zoya', 'Course': 'BCA', 'batch_year': 2020, 'language': ['C#', 'JavaScript']}\n",
      "{'_id': ObjectId('63efc6f1271c845a8b6096b0'), 'name': 'Jonny', 'Course': 'MCA', 'batch_year': 2019, 'language': ['C#', 'java', 'PHP']}\n",
      "{'_id': ObjectId('63efc6f1271c845a8b6096b1'), 'name': 'Oliver', 'Course': 'BA', 'batch_year': 2017, 'language': ['c', 'PHP']}\n"
     ]
    }
   ],
   "source": [
    "# After delete_many()\n",
    "for i in coll_create.find():\n",
    "    print(i)"
   ]
  },
  {
   "cell_type": "markdown",
   "metadata": {},
   "source": [
    "`Drop()`:\n",
    "\n",
    "MongoDB's db.collection.drop() is used to drop a collection from the database.\n",
    "\n",
    "Basic syntax of drop() command is as follows −\n",
    "\n",
    "db.COLLECTION_NAME.drop()\n",
    "\n",
    "Returns:\t\n",
    "true when successfully drops a collection.\n",
    "false when collection to drop does not exist.\n"
   ]
  },
  {
   "cell_type": "code",
   "execution_count": 135,
   "metadata": {},
   "outputs": [],
   "source": [
    "# dropping the collection mongodb_nosql\n",
    "coll_create.drop()"
   ]
  },
  {
   "cell_type": "code",
   "execution_count": 137,
   "metadata": {},
   "outputs": [],
   "source": [
    "# drops the entire database\n",
    "# for this to work the database access under security in mongodb atlas should be set to 'atlasAdmin@admin'\n",
    "client.drop_database(\"PWSkills\")"
   ]
  }
 ],
 "metadata": {
  "kernelspec": {
   "display_name": "Python 3 (ipykernel)",
   "language": "python",
   "name": "python3"
  },
  "language_info": {
   "codemirror_mode": {
    "name": "ipython",
    "version": 3
   },
   "file_extension": ".py",
   "mimetype": "text/x-python",
   "name": "python",
   "nbconvert_exporter": "python",
   "pygments_lexer": "ipython3",
   "version": "3.9.16"
  },
  "vscode": {
   "interpreter": {
    "hash": "c370489388e782aa9b6373b0856d4a71cb56f2a887cc53048a8e75b66b592545"
   }
  }
 },
 "nbformat": 4,
 "nbformat_minor": 4
}
