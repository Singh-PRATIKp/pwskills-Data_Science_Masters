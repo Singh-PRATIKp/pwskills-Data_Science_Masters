{
 "cells": [
  {
   "attachments": {},
   "cell_type": "markdown",
   "metadata": {},
   "source": [
    "# **`WEB SCRAPPING ASSIGNMENT`**"
   ]
  },
  {
   "attachments": {},
   "cell_type": "markdown",
   "metadata": {},
   "source": [
    "Go to this given URL and solve the following questions<br>\n",
    "URL: https://www.youtube.com/@PW-Foundation/videos<br>\n",
    "`Q1. Write a python program to extract the video URL of the first five videos`.<br>\n",
    "`Q2. Write a python program to extract the URL of the video thumbnails of the first five videos`.<br>\n",
    "`Q3. Write a python program to extract the title of the first five videos`.<br>\n",
    "`Q4. Write a python program to extract the number of views of the first five videos.`<br>\n",
    "`Q5. Write a python program to extract the time of posting of video for the first five videos.`<br>\n",
    "`Note: Save all the data scraped in the above questions in a CSV file.`<br>\n"
   ]
  },
  {
   "cell_type": "code",
   "execution_count": 162,
   "metadata": {},
   "outputs": [],
   "source": [
    "#importing libraries \n",
    "from selenium import webdriver\n",
    "from selenium.webdriver.edge.options import Options\n",
    "from bs4 import BeautifulSoup\n",
    "import time\n",
    "import pandas as pd"
   ]
  },
  {
   "cell_type": "code",
   "execution_count": 163,
   "metadata": {},
   "outputs": [],
   "source": [
    "#configuring the webbrowser to fetch data using selenium and parsing it using BeautifulSoup\n",
    "edgeBrowser = webdriver.Edge(\"D:\\pwskills-Data_Science_Masters\\msedgedriver.exe\")\n",
    "edgeBrowser.get(\"https://www.youtube.com/@PW-Foundation/videos\")\n",
    "edgeBrowser.execute_script(\"window.scrollTo(0,2000)\")\n",
    "time.sleep(3)\n",
    "content = edgeBrowser.page_source.encode(\"utf-8\").strip()\n",
    "soup = BeautifulSoup(content,\"html.parser\")\n",
    "edgeBrowser.close()\n"
   ]
  },
  {
   "cell_type": "code",
   "execution_count": 164,
   "metadata": {},
   "outputs": [],
   "source": [
    "videos =  soup.find_all(\"a\",id=\"thumbnail\")"
   ]
  },
  {
   "cell_type": "code",
   "execution_count": 165,
   "metadata": {},
   "outputs": [],
   "source": [
    "video = []\n",
    "for i in videos:\n",
    "    try:\n",
    "        s = \"https://www.youtube.com/\" + i['href']\n",
    "        video.append(s)\n",
    "    except:\n",
    "        continue"
   ]
  },
  {
   "cell_type": "code",
   "execution_count": 166,
   "metadata": {},
   "outputs": [
    {
     "data": {
      "text/plain": [
       "['https://www.youtube.com//watch?v=nX5ONgCdLcc',\n",
       " 'https://www.youtube.com//watch?v=AM2Dt7cNebw',\n",
       " 'https://www.youtube.com//watch?v=7nMJVhey9TM',\n",
       " 'https://www.youtube.com//watch?v=FSVVlcFUCMk',\n",
       " 'https://www.youtube.com//watch?v=vKxdTuOirnI']"
      ]
     },
     "execution_count": 166,
     "metadata": {},
     "output_type": "execute_result"
    }
   ],
   "source": [
    "#ans 1\n",
    "video[:5]"
   ]
  },
  {
   "cell_type": "code",
   "execution_count": 167,
   "metadata": {},
   "outputs": [],
   "source": [
    "thumbnails  = soup.find_all(\"img\",{\"class\":\"yt-core-image--fill-parent-height yt-core-image--fill-parent-width yt-core-image yt-core-image--content-mode-scale-aspect-fill yt-core-image--loaded\"})"
   ]
  },
  {
   "cell_type": "code",
   "execution_count": 168,
   "metadata": {},
   "outputs": [],
   "source": [
    "thumbs = []\n",
    "for i in thumbnails:\n",
    "    thumbs.append(i[\"src\"])"
   ]
  },
  {
   "cell_type": "code",
   "execution_count": 169,
   "metadata": {},
   "outputs": [
    {
     "data": {
      "text/plain": [
       "['https://i.ytimg.com/vi/nX5ONgCdLcc/hqdefault.jpg?sqp=-oaymwEcCNACELwBSFXyq4qpAw4IARUAAIhCGAFwAcABBg==&rs=AOn4CLBaa_KLfKyYbUYRsb5xf0YCp1YrlQ',\n",
       " 'https://i.ytimg.com/vi/AM2Dt7cNebw/hqdefault.jpg?sqp=-oaymwEcCNACELwBSFXyq4qpAw4IARUAAIhCGAFwAcABBg==&rs=AOn4CLBJHWHabeJ94dcUDlDDNfvQxnUfJg',\n",
       " 'https://i.ytimg.com/vi/7nMJVhey9TM/hqdefault.jpg?sqp=-oaymwEcCNACELwBSFXyq4qpAw4IARUAAIhCGAFwAcABBg==&rs=AOn4CLDHikOj7gH4eQNudv7c1qNbwcMWyA',\n",
       " 'https://i.ytimg.com/vi/FSVVlcFUCMk/hqdefault.jpg?sqp=-oaymwEcCNACELwBSFXyq4qpAw4IARUAAIhCGAFwAcABBg==&rs=AOn4CLAadJS9mLtZptLHtKHEefPgqk3NCg',\n",
       " 'https://i.ytimg.com/vi/LAsPxV5xZ58/hqdefault.jpg?sqp=-oaymwEcCNACELwBSFXyq4qpAw4IARUAAIhCGAFwAcABBg==&rs=AOn4CLATnaGioDraDOqE9BfdzyeJEXwEhw']"
      ]
     },
     "execution_count": 169,
     "metadata": {},
     "output_type": "execute_result"
    }
   ],
   "source": [
    "#Ans2\n",
    "thumbs[:5]"
   ]
  },
  {
   "cell_type": "code",
   "execution_count": 170,
   "metadata": {},
   "outputs": [],
   "source": [
    "titles = soup.find_all(\"yt-formatted-string\",id=\"video-title\")"
   ]
  },
  {
   "cell_type": "code",
   "execution_count": 171,
   "metadata": {},
   "outputs": [],
   "source": [
    "title = []\n",
    "for i in titles:\n",
    "    title.append(i.text)"
   ]
  },
  {
   "cell_type": "code",
   "execution_count": 172,
   "metadata": {},
   "outputs": [
    {
     "data": {
      "text/plain": [
       "['How to Attempt English Board Exam ????',\n",
       " 'Best technique to attempt SST paper in Board exam || Class 10th',\n",
       " 'Last Minute Strategy To Score More Than 98% || ICSE Boards || Class-10th',\n",
       " 'Why You Should Choose Commerce After 10th? || Complete Information💯',\n",
       " \"Follow This Plan To Score More Than 95% in Boards || Topper's Strategy\"]"
      ]
     },
     "execution_count": 172,
     "metadata": {},
     "output_type": "execute_result"
    }
   ],
   "source": [
    "#Ans 3\n",
    "title[:5]"
   ]
  },
  {
   "cell_type": "code",
   "execution_count": 173,
   "metadata": {},
   "outputs": [],
   "source": [
    "views = []\n",
    "for i in range(0,len(soup.find_all(\"span\",{\"class\":\"inline-metadata-item style-scope ytd-video-meta-block\"})),2):\n",
    "    views.append(soup.find_all(\"span\",{\"class\":\"inline-metadata-item style-scope ytd-video-meta-block\"})[i].text)"
   ]
  },
  {
   "cell_type": "code",
   "execution_count": 174,
   "metadata": {},
   "outputs": [
    {
     "data": {
      "text/plain": [
       "['16K views', '50K views', '20K views', '27K views', '307K views']"
      ]
     },
     "execution_count": 174,
     "metadata": {},
     "output_type": "execute_result"
    }
   ],
   "source": [
    "#Ans 4\n",
    "views[:5]"
   ]
  },
  {
   "cell_type": "code",
   "execution_count": 175,
   "metadata": {},
   "outputs": [],
   "source": [
    "timeofposting = []\n",
    "for i in range(1,len(soup.find_all(\"span\",{\"class\":\"inline-metadata-item style-scope ytd-video-meta-block\"})),2):\n",
    "    timeofposting.append(soup.find_all(\"span\",{\"class\":\"inline-metadata-item style-scope ytd-video-meta-block\"})[i].text)"
   ]
  },
  {
   "cell_type": "code",
   "execution_count": 176,
   "metadata": {},
   "outputs": [
    {
     "data": {
      "text/plain": [
       "['3 hours ago', '1 day ago', '2 days ago', '3 days ago', '8 days ago']"
      ]
     },
     "execution_count": 176,
     "metadata": {},
     "output_type": "execute_result"
    }
   ],
   "source": [
    "#Ans 5\n",
    "timeofposting[:5]"
   ]
  },
  {
   "cell_type": "code",
   "execution_count": 177,
   "metadata": {},
   "outputs": [],
   "source": [
    "final = pd.DataFrame({\"video_link\": video[:5],\"thumbnails\": thumbs[:5],\"titles\" : title[:5],\"views\": views[:5],\"time of posting\": timeofposting[:5]})"
   ]
  },
  {
   "cell_type": "code",
   "execution_count": 178,
   "metadata": {},
   "outputs": [],
   "source": [
    "#Saving to csv file using pandas\n",
    "final.to_csv(\"pw_skills_youtube.csv\")"
   ]
  },
  {
   "cell_type": "code",
   "execution_count": 179,
   "metadata": {},
   "outputs": [
    {
     "data": {
      "text/html": [
       "<div>\n",
       "<style scoped>\n",
       "    .dataframe tbody tr th:only-of-type {\n",
       "        vertical-align: middle;\n",
       "    }\n",
       "\n",
       "    .dataframe tbody tr th {\n",
       "        vertical-align: top;\n",
       "    }\n",
       "\n",
       "    .dataframe thead th {\n",
       "        text-align: right;\n",
       "    }\n",
       "</style>\n",
       "<table border=\"1\" class=\"dataframe\">\n",
       "  <thead>\n",
       "    <tr style=\"text-align: right;\">\n",
       "      <th></th>\n",
       "      <th>video_link</th>\n",
       "      <th>thumbnails</th>\n",
       "      <th>titles</th>\n",
       "      <th>views</th>\n",
       "      <th>time of posting</th>\n",
       "    </tr>\n",
       "  </thead>\n",
       "  <tbody>\n",
       "    <tr>\n",
       "      <th>0</th>\n",
       "      <td>https://www.youtube.com//watch?v=nX5ONgCdLcc</td>\n",
       "      <td>https://i.ytimg.com/vi/nX5ONgCdLcc/hqdefault.j...</td>\n",
       "      <td>How to Attempt English Board Exam ????</td>\n",
       "      <td>16K views</td>\n",
       "      <td>3 hours ago</td>\n",
       "    </tr>\n",
       "    <tr>\n",
       "      <th>1</th>\n",
       "      <td>https://www.youtube.com//watch?v=AM2Dt7cNebw</td>\n",
       "      <td>https://i.ytimg.com/vi/AM2Dt7cNebw/hqdefault.j...</td>\n",
       "      <td>Best technique to attempt SST paper in Board e...</td>\n",
       "      <td>50K views</td>\n",
       "      <td>1 day ago</td>\n",
       "    </tr>\n",
       "    <tr>\n",
       "      <th>2</th>\n",
       "      <td>https://www.youtube.com//watch?v=7nMJVhey9TM</td>\n",
       "      <td>https://i.ytimg.com/vi/7nMJVhey9TM/hqdefault.j...</td>\n",
       "      <td>Last Minute Strategy To Score More Than 98% ||...</td>\n",
       "      <td>20K views</td>\n",
       "      <td>2 days ago</td>\n",
       "    </tr>\n",
       "    <tr>\n",
       "      <th>3</th>\n",
       "      <td>https://www.youtube.com//watch?v=FSVVlcFUCMk</td>\n",
       "      <td>https://i.ytimg.com/vi/FSVVlcFUCMk/hqdefault.j...</td>\n",
       "      <td>Why You Should Choose Commerce After 10th? || ...</td>\n",
       "      <td>27K views</td>\n",
       "      <td>3 days ago</td>\n",
       "    </tr>\n",
       "    <tr>\n",
       "      <th>4</th>\n",
       "      <td>https://www.youtube.com//watch?v=vKxdTuOirnI</td>\n",
       "      <td>https://i.ytimg.com/vi/LAsPxV5xZ58/hqdefault.j...</td>\n",
       "      <td>Follow This Plan To Score More Than 95% in Boa...</td>\n",
       "      <td>307K views</td>\n",
       "      <td>8 days ago</td>\n",
       "    </tr>\n",
       "  </tbody>\n",
       "</table>\n",
       "</div>"
      ],
      "text/plain": [
       "                                     video_link  \\\n",
       "0  https://www.youtube.com//watch?v=nX5ONgCdLcc   \n",
       "1  https://www.youtube.com//watch?v=AM2Dt7cNebw   \n",
       "2  https://www.youtube.com//watch?v=7nMJVhey9TM   \n",
       "3  https://www.youtube.com//watch?v=FSVVlcFUCMk   \n",
       "4  https://www.youtube.com//watch?v=vKxdTuOirnI   \n",
       "\n",
       "                                          thumbnails  \\\n",
       "0  https://i.ytimg.com/vi/nX5ONgCdLcc/hqdefault.j...   \n",
       "1  https://i.ytimg.com/vi/AM2Dt7cNebw/hqdefault.j...   \n",
       "2  https://i.ytimg.com/vi/7nMJVhey9TM/hqdefault.j...   \n",
       "3  https://i.ytimg.com/vi/FSVVlcFUCMk/hqdefault.j...   \n",
       "4  https://i.ytimg.com/vi/LAsPxV5xZ58/hqdefault.j...   \n",
       "\n",
       "                                              titles       views  \\\n",
       "0             How to Attempt English Board Exam ????   16K views   \n",
       "1  Best technique to attempt SST paper in Board e...   50K views   \n",
       "2  Last Minute Strategy To Score More Than 98% ||...   20K views   \n",
       "3  Why You Should Choose Commerce After 10th? || ...   27K views   \n",
       "4  Follow This Plan To Score More Than 95% in Boa...  307K views   \n",
       "\n",
       "  time of posting  \n",
       "0     3 hours ago  \n",
       "1       1 day ago  \n",
       "2      2 days ago  \n",
       "3      3 days ago  \n",
       "4      8 days ago  "
      ]
     },
     "execution_count": 179,
     "metadata": {},
     "output_type": "execute_result"
    }
   ],
   "source": [
    "#final result\n",
    "final"
   ]
  }
 ],
 "metadata": {
  "kernelspec": {
   "display_name": "base",
   "language": "python",
   "name": "python3"
  },
  "language_info": {
   "codemirror_mode": {
    "name": "ipython",
    "version": 3
   },
   "file_extension": ".py",
   "mimetype": "text/x-python",
   "name": "python",
   "nbconvert_exporter": "python",
   "pygments_lexer": "ipython3",
   "version": "3.9.16"
  },
  "orig_nbformat": 4,
  "vscode": {
   "interpreter": {
    "hash": "c370489388e782aa9b6373b0856d4a71cb56f2a887cc53048a8e75b66b592545"
   }
  }
 },
 "nbformat": 4,
 "nbformat_minor": 2
}
