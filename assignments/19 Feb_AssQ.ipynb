{
 "cells": [
  {
   "cell_type": "markdown",
   "metadata": {},
   "source": [
    "# **`FLASK ASSIGNMENT`**"
   ]
  },
  {
   "cell_type": "markdown",
   "metadata": {},
   "source": [
    "`Q1. What is Flask Framework? What are the advantages of Flask Framework?`\n"
   ]
  },
  {
   "cell_type": "markdown",
   "metadata": {},
   "source": [
    "`Flask` is a web framework. This means flask provides you with tools, libraries and technologies that allow you to build a web application. This web application can be some web pages, a blog, a wiki or go as big as a web-based calendar application or a commercial website.\n",
    "\n",
    "In keeping with the Python language being named after the comedy troupe Monty Python, the entire Flask project itself was originally meant to be an April Fool’s joke. Armin Ronacher, the creator, realized that what he had been joking about could actually make it as a proper framework to build web applications. Its name is a play on a slightly earlier web framework, Bottle\n",
    "\n",
    "Flask is part of the categories of the micro-framework. Micro-framework are normally framework with little to no dependencies to external libraries. This has pros and cons. Pros would be that the framework is light, there are little dependency to update and watch for security bugs, cons is that some time you will have to do more work by yourself or increase yourself the list of dependencies by adding plugins. In the case of Flask, its dependencies are:\n",
    "\n",
    "1. **`Werkzeug`** a WSGI(Web Server Gate Interface) mercifully pronounced “whiskey” being a utility library which is basically a protocol defined so that Python application can communicate with a web-server and thus be used as web-application outside of Common Gate Interface.\n",
    "2. **`jinja2`** which is its template engine\n",
    "\n",
    "***`Advantages of Flask : `***\n",
    "\n",
    "**`Scalable`** :  \n",
    "Size is everything, and Flask’s status as a microframework means that you can use it to grow a tech project such as a web app incredibly quickly. If you want to make an app that starts small, but has the potential to grow quickly and in directions you haven’t completely worked out yet, then it’s an ideal choice. Its simplicity of use and few dependencies enable it to run smoothly even as it scales up and up.\n",
    "\n",
    "**`Flexible`** :\n",
    "This is the core feature of Flask, and one of its biggest advantages. To paraphrase one of the principles of the Zen of Python, simplicity is better than complexity, because it can be easily rearranged and moved around.\n",
    "\n",
    "Not only is this helpful in terms of allowing your project to move in another direction easily, it also makes sure that the structure won’t collapse when a part is altered. The minimal nature of Flask and its aptitude for developing smaller web apps means that it’s even more flexible than Django itself.\n",
    "\n",
    "**`Easy to negotiate`** :\n",
    "Like Django, being able to find your way around easily is key for allowing web developers to concentrate on just coding quickly, without getting bogged down. At its core, the microframework is easy to understand for web developers, not just saving them time and effort but also giving them more control over their code and what is possible.\n",
    "\n",
    "**`Lightweight`** :\n",
    "When we use this term in relation to a tool or framework, we’re talking about the design of it—there are few constituent parts that need to be assembled and reassembled, and it doesn’t rely on a large number of extensions to function. This design gives web developers a certain level of control.\n",
    "\n",
    "Flask also supports modular programming, which is where its functionality can be split into several interchangeable modules. Each module acts as an independent building block, which can execute one part of the functionality. Together this means that the whole constituent parts of the structure are flexible, moveable, and testable on their own.\n",
    "\n",
    "**`Documentation`** : \n",
    "Following the creator’s own theory that “nice documentation design makes you actually write documentation,” Flask users will find a healthy number of examples and tips arranged in a structured manner. This encourages developers to use the framework, as they can easily get introduced to the different aspects and capabilities of the tool. You’ll find the Flask documentation on their official website.\n"
   ]
  },
  {
   "cell_type": "markdown",
   "metadata": {},
   "source": [
    "`Q2. Create a simple Flask application to display ‘Hello World!!’. Attach the screenshot of the output in`\n",
    "`Jupyter Notebook.`\n"
   ]
  },
  {
   "cell_type": "code",
   "execution_count": 3,
   "metadata": {},
   "outputs": [
    {
     "name": "stdout",
     "output_type": "stream",
     "text": [
      " * Serving Flask app '__main__'\n",
      " * Debug mode: off\n"
     ]
    },
    {
     "name": "stderr",
     "output_type": "stream",
     "text": [
      "\u001b[31m\u001b[1mWARNING: This is a development server. Do not use it in a production deployment. Use a production WSGI server instead.\u001b[0m\n",
      " * Running on all addresses (0.0.0.0)\n",
      " * Running on http://127.0.0.1:5000\n",
      " * Running on http://172.18.0.17:5000\n",
      "\u001b[33mPress CTRL+C to quit\u001b[0m\n"
     ]
    }
   ],
   "source": [
    "#code below\n",
    "from flask import Flask\n",
    "\n",
    "app = Flask(__name__)\n",
    "\n",
    "@app.route(\"/\")\n",
    "def hello_world():\n",
    "    return \"<h1>Hello, World!</h1>\"\n",
    "\n",
    "\n",
    "if __name__==\"__main__\":\n",
    "    app.run(host=\"0.0.0.0\")"
   ]
  },
  {
   "cell_type": "markdown",
   "metadata": {},
   "source": []
  },
  {
   "cell_type": "markdown",
   "metadata": {},
   "source": [
    "`Q3. What is App routing in Flask? Why do we use app routes?`\n"
   ]
  },
  {
   "cell_type": "markdown",
   "metadata": {},
   "source": [
    "App Routing means mapping the URLs to a specific function that will handle the logic for that URL. Modern web frameworks use more meaningful URLs to help users remember the URLs and make navigation simpler. App routing is used to map the specific URL with the associated function that is intended to perform some task. It is can used to access some particular page.\n",
    "\n",
    "In the answer for the above question (Q2) the app route was assigned to \"/\" which was mapped to the hello_world() function. So when we visit the  https://salmon-tailor-gpius.pwskills.app:5000/ page in a web browser we are automatically using the app router decorator funtion assigned to \"/\" to interanlly call the hello_world() function which then returns the output displayed in the brower.\n",
    "\n",
    "In this way app routing can used to assign any function or method which help you perform a wide variety of things before it is rendered. This is truly amazing"
   ]
  },
  {
   "cell_type": "markdown",
   "metadata": {},
   "source": [
    "Q4. Create a “/welcome” route to display the welcome message “Welcome to ABC Corporation” and a “/”\n",
    "route to show the following details:\n",
    "Company Name: ABC Corporation\n",
    "Location: India\n",
    "Contact Detail: 999-999-9999\n",
    "Attach the screenshot of the output in Jupyter Notebook.\n"
   ]
  },
  {
   "cell_type": "code",
   "execution_count": 6,
   "metadata": {},
   "outputs": [
    {
     "name": "stdout",
     "output_type": "stream",
     "text": [
      " * Serving Flask app '__main__'\n",
      " * Debug mode: off\n"
     ]
    },
    {
     "name": "stderr",
     "output_type": "stream",
     "text": [
      "\u001b[31m\u001b[1mWARNING: This is a development server. Do not use it in a production deployment. Use a production WSGI server instead.\u001b[0m\n",
      " * Running on all addresses (0.0.0.0)\n",
      " * Running on http://127.0.0.1:5000\n",
      " * Running on http://172.18.0.17:5000\n",
      "\u001b[33mPress CTRL+C to quit\u001b[0m\n",
      "172.18.0.2 - - [19/Feb/2023 21:26:19] \"GET / HTTP/1.1\" 200 -\n",
      "172.18.0.2 - - [19/Feb/2023 21:26:34] \"GET / HTTP/1.1\" 200 -\n"
     ]
    }
   ],
   "source": [
    "#code below\n",
    "from flask import Flask\n",
    "\n",
    "app = Flask(__name__)\n",
    "\n",
    "@app.route(\"/\")\n",
    "def corp_details():\n",
    "    return \"\"\"<p><b>Company Name: ABC Corporation</b><br>\n",
    "    <b>Location: India</b><br>\n",
    "    <b>Contact Detail: 999-999-9999</b></p>\"\"\"\n",
    "\n",
    "@app.route(\"/welcome\")\n",
    "def welcome():\n",
    "    return \"<h1>Welcome to ABC Corporation</h1>\"\n",
    "\n",
    "\n",
    "if __name__==\"__main__\":\n",
    "    app.run(host=\"0.0.0.0\")"
   ]
  },
  {
   "cell_type": "markdown",
   "metadata": {},
   "source": [
    "`Q5. What function is used in Flask for URL Building? Write a Python code to demonstrate the working of the`\n",
    "`url_for() function.`"
   ]
  },
  {
   "cell_type": "markdown",
   "metadata": {},
   "source": [
    "To build a URL to a specific function, we can use the `url_for()` function. It accepts the name of the function as its first argument and any number of keyword arguments, each corresponding to a variable part of the URL rule. Unknown variable parts are appended to the URL as query parameters.\n",
    "\n",
    "Here are the reasons to build URLs using the URL reversing function url_for() instead of hard-coding them into your templates:\n",
    "\n",
    "1. Reversing is often more descriptive than hard-coding the URLs.\n",
    "2. You can change your URLs in one go instead of needing to remember to manually change hard-coded URLs.\n",
    "3. URL building handles escaping of special characters transparently.\n",
    "4. The generated paths are always absolute, avoiding unexpected behavior of relative paths in browsers.\n",
    "5. If your application is placed outside the URL root, for example, in /myapplication instead of /, url_for() properly handles that for you."
   ]
  },
  {
   "cell_type": "code",
   "execution_count": 3,
   "metadata": {},
   "outputs": [
    {
     "name": "stdout",
     "output_type": "stream",
     "text": [
      " * Serving Flask app '__main__'\n",
      " * Debug mode: off\n"
     ]
    },
    {
     "name": "stderr",
     "output_type": "stream",
     "text": [
      "\u001b[31m\u001b[1mWARNING: This is a development server. Do not use it in a production deployment. Use a production WSGI server instead.\u001b[0m\n",
      " * Running on all addresses (0.0.0.0)\n",
      " * Running on http://127.0.0.1:5000\n",
      " * Running on http://172.18.0.17:5000\n",
      "\u001b[33mPress CTRL+C to quit\u001b[0m\n",
      "172.18.0.2 - - [19/Feb/2023 22:37:59] \"\u001b[32mGET /user/manager HTTP/1.1\u001b[0m\" 302 -\n",
      "172.18.0.2 - - [19/Feb/2023 22:37:59] \"GET /manager HTTP/1.1\" 200 -\n",
      "172.18.0.2 - - [19/Feb/2023 22:38:19] \"\u001b[32mGET /user/customer HTTP/1.1\u001b[0m\" 302 -\n",
      "172.18.0.2 - - [19/Feb/2023 22:38:19] \"GET /customer/customer HTTP/1.1\" 200 -\n",
      "172.18.0.2 - - [19/Feb/2023 22:38:40] \"\u001b[32mGET /user/guest HTTP/1.1\u001b[0m\" 302 -\n",
      "172.18.0.2 - - [19/Feb/2023 22:38:40] \"GET /guest/guest HTTP/1.1\" 200 -\n"
     ]
    }
   ],
   "source": [
    "#code below\n",
    "from flask import Flask,redirect,url_for\n",
    "\n",
    "app = Flask(__name__)\n",
    "\n",
    "@app.route(\"/manager\")\n",
    "def hello_manager():\n",
    "    return \"<h1>Hello, Manager. Welcome to XYZ bank! This is your dashboard</h1>\"\n",
    "\n",
    "@app.route(\"/customer/<customer>\")\n",
    "def hello_customer(customer):\n",
    "    return \"<h1>Hello %s. Welcome to XYZ bank. This is your banking portal</h1>\"%customer\n",
    "\n",
    "@app.route(\"/guest/<guest>\")\n",
    "def hello_guest(guest):\n",
    "    return \"<h1>Hello %s. Welcome to XYZ bank. Here are the reasons you will love our bank</h1>\"%guest\n",
    "\n",
    "@app.route(\"/user/<user>\")\n",
    "def hello_user(user):\n",
    "    if user == 'manager':\n",
    "        return redirect(url_for('hello_manager'))\n",
    "    \n",
    "    elif user == \"customer\":\n",
    "        return redirect(url_for('hello_customer',customer = user))\n",
    "\n",
    "    else:\n",
    "        return redirect(url_for('hello_guest',guest = user))\n",
    "\n",
    "\n",
    "if __name__==\"__main__\":\n",
    "    app.run(host=\"0.0.0.0\")"
   ]
  }
 ],
 "metadata": {
  "kernelspec": {
   "display_name": "base",
   "language": "python",
   "name": "python3"
  },
  "language_info": {
   "codemirror_mode": {
    "name": "ipython",
    "version": 3
   },
   "file_extension": ".py",
   "mimetype": "text/x-python",
   "name": "python",
   "nbconvert_exporter": "python",
   "pygments_lexer": "ipython3",
   "version": "3.9.16"
  },
  "orig_nbformat": 4,
  "vscode": {
   "interpreter": {
    "hash": "c370489388e782aa9b6373b0856d4a71cb56f2a887cc53048a8e75b66b592545"
   }
  }
 },
 "nbformat": 4,
 "nbformat_minor": 2
}
