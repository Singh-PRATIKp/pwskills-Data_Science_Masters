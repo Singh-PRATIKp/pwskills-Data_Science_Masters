{
  "nbformat": 4,
  "nbformat_minor": 0,
  "metadata": {
    "colab": {
      "provenance": []
    },
    "kernelspec": {
      "name": "python3",
      "display_name": "Python 3"
    },
    "language_info": {
      "name": "python"
    }
  },
  "cells": [
    {
      "cell_type": "code",
      "source": [
        "import tensorflow as tf"
      ],
      "metadata": {
        "id": "bYpx3qOFhzqP"
      },
      "execution_count": 2,
      "outputs": []
    },
    {
      "cell_type": "code",
      "source": [
        "tf.__version__"
      ],
      "metadata": {
        "id": "U5KupXxwiFew"
      },
      "execution_count": null,
      "outputs": []
    },
    {
      "cell_type": "code",
      "source": [
        "ineuron = tf.constant(42)\n",
        "ineuron"
      ],
      "metadata": {
        "id": "4DMZzNe_iKIB"
      },
      "execution_count": null,
      "outputs": []
    },
    {
      "cell_type": "code",
      "source": [
        "ineuron.numpy()"
      ],
      "metadata": {
        "id": "hB1WCAHbiegZ"
      },
      "execution_count": null,
      "outputs": []
    },
    {
      "cell_type": "code",
      "source": [
        "ineuron1 = tf.constant(1,dtype=tf.int64)\n",
        "ineuron1.numpy()"
      ],
      "metadata": {
        "id": "XwwTsoP5ikvu"
      },
      "execution_count": null,
      "outputs": []
    },
    {
      "cell_type": "code",
      "source": [
        "ineuron_x = tf.constant([[4,2],[9,5]])\n",
        "print(ineuron_x)"
      ],
      "metadata": {
        "id": "hzjLjsueiyfi"
      },
      "execution_count": null,
      "outputs": []
    },
    {
      "cell_type": "code",
      "source": [
        "print('shape',ineuron_x.shape)\n",
        "print(ineuron_x.dtype)"
      ],
      "metadata": {
        "id": "PT3PXiyMjLca"
      },
      "execution_count": null,
      "outputs": []
    },
    {
      "cell_type": "code",
      "source": [
        "print(tf.ones(shape=(2,3)))"
      ],
      "metadata": {
        "id": "tDmi6r7NkD2v"
      },
      "execution_count": null,
      "outputs": []
    },
    {
      "cell_type": "code",
      "source": [
        "print(tf.zeros(shape=(3,2)))"
      ],
      "metadata": {
        "id": "8s5CqUAs3zmx"
      },
      "execution_count": null,
      "outputs": []
    },
    {
      "cell_type": "code",
      "source": [
        "const2 = tf.constant([[3,4,5],[3,4,5]])\n",
        "const1 = tf.constant([[1,2,3],[1,2,3]])\n",
        "result = tf.add(const2,const1)\n",
        "print(result)"
      ],
      "metadata": {
        "id": "Nw_Hf0In4Fuc"
      },
      "execution_count": null,
      "outputs": []
    },
    {
      "cell_type": "code",
      "source": [
        "tf.random.normal(shape=(2,2),mean=0,stddev=1)"
      ],
      "metadata": {
        "id": "QavVHJ5A4j1q"
      },
      "execution_count": null,
      "outputs": []
    },
    {
      "cell_type": "code",
      "source": [
        "tf.random.uniform(shape=(2,2),minval=0,maxval=10,dtype=tf.int32)"
      ],
      "metadata": {
        "id": "VCkqNnBm42y8"
      },
      "execution_count": null,
      "outputs": []
    },
    {
      "cell_type": "code",
      "source": [
        "var0 = 24\n",
        "var1 = tf.Variable(42) # rank 0 tensor\n",
        "var2 = tf.Variable([[[0,1,2],[3,4,5]],[[6,7,8],[9,10,11]]]) # rank 3 tensor\n",
        "var0 , var1 , var2"
      ],
      "metadata": {
        "id": "U4xiB2DK5FFM"
      },
      "execution_count": null,
      "outputs": []
    },
    {
      "cell_type": "code",
      "source": [
        "float_var64 = tf.Variable(89,dtype=tf.float64)\n",
        "float_var64.dtype"
      ],
      "metadata": {
        "id": "PyZjCEP05tGm"
      },
      "execution_count": null,
      "outputs": []
    },
    {
      "cell_type": "code",
      "source": [
        "var_reassign = tf.Variable(89.)\n",
        "var_reassign"
      ],
      "metadata": {
        "id": "PPrgckavC2Em"
      },
      "execution_count": null,
      "outputs": []
    },
    {
      "cell_type": "code",
      "source": [
        "var_reassign.assign(98.)\n",
        "var_reassign"
      ],
      "metadata": {
        "id": "0GtY9s7ADKos"
      },
      "execution_count": null,
      "outputs": []
    },
    {
      "cell_type": "code",
      "source": [
        "initial_value = tf.random.normal(shape=(2,2))\n",
        "a = tf.Variable(initial_value)\n",
        "print(a)"
      ],
      "metadata": {
        "id": "8RiFg0uzDWqf"
      },
      "execution_count": null,
      "outputs": []
    },
    {
      "cell_type": "code",
      "source": [
        "new_value = tf.random.normal(shape=(2,2))\n",
        "a.assign(new_value)\n",
        "for i in range(2):\n",
        "  for j in range(2):\n",
        "    assert a[i,j]==new_value[i,j]"
      ],
      "metadata": {
        "id": "3BUV-IHcDoPW"
      },
      "execution_count": null,
      "outputs": []
    },
    {
      "cell_type": "code",
      "source": [
        "added_value = tf.random.normal(shape=(2,2))\n",
        "a.assign_add(added_value)\n",
        "for i in range(2):\n",
        "  for j in range(2):\n",
        "    assert a[i,j]==new_value[i,j]+added_value[i,j]"
      ],
      "metadata": {
        "id": "iHf3TnsFEDnC"
      },
      "execution_count": null,
      "outputs": []
    },
    {
      "cell_type": "markdown",
      "source": [
        "# Shaping a tensor"
      ],
      "metadata": {
        "id": "WGpSwbycEy_l"
      }
    },
    {
      "cell_type": "code",
      "source": [
        "tensor = tf.Variable([[[0,1,2],[3,4,5]],[[6,7,8],[9,10,11]]])\n",
        "print(tensor.shape)"
      ],
      "metadata": {
        "id": "OlQmEfkVEvay"
      },
      "execution_count": null,
      "outputs": []
    },
    {
      "cell_type": "code",
      "source": [
        "tensor1 = tf.reshape(tensor,[2,6]) # 2rows and 6 cols\n",
        "tensor2 = tf.reshape(tensor,[1,12]) # 1 row and 12 cols\n",
        "tensor1"
      ],
      "metadata": {
        "id": "4q1mie-sEmA8"
      },
      "execution_count": null,
      "outputs": []
    },
    {
      "cell_type": "code",
      "source": [
        "tensor2"
      ],
      "metadata": {
        "id": "yAue2WSbFSYR"
      },
      "execution_count": null,
      "outputs": []
    },
    {
      "cell_type": "code",
      "source": [
        "tf.rank(tensor).numpy()"
      ],
      "metadata": {
        "id": "LCO9XQa1Fhnq"
      },
      "execution_count": null,
      "outputs": []
    },
    {
      "cell_type": "code",
      "source": [
        "tensor3 = tensor[1,0,2] # slice 1, row 0  , col 2\n",
        "tensor3.numpy()"
      ],
      "metadata": {
        "id": "htqfggNXFsJV"
      },
      "execution_count": null,
      "outputs": []
    },
    {
      "cell_type": "code",
      "source": [
        "print(tensor.numpy())"
      ],
      "metadata": {
        "id": "vXWrlKukF34M"
      },
      "execution_count": null,
      "outputs": []
    },
    {
      "cell_type": "code",
      "source": [
        "tensor_size = tf.size(input=tensor).numpy()\n",
        "tensor_size"
      ],
      "metadata": {
        "id": "8Krpti26GChB"
      },
      "execution_count": null,
      "outputs": []
    },
    {
      "cell_type": "code",
      "source": [
        "tensor3.dtype"
      ],
      "metadata": {
        "id": "ZKKeq0kaGMA3"
      },
      "execution_count": null,
      "outputs": []
    },
    {
      "cell_type": "code",
      "source": [
        "a = tf.random.normal(shape=(2,2))\n",
        "b = tf.random.normal(shape=(2,2))\n",
        "c = a + b\n",
        "d = tf.square(c)\n",
        "e = tf.exp(c)\n",
        "print(a)\n",
        "print(b)\n",
        "print(c)\n",
        "print(d)\n",
        "print(e)"
      ],
      "metadata": {
        "id": "_l_qWxLbGQXX"
      },
      "execution_count": null,
      "outputs": []
    },
    {
      "cell_type": "code",
      "source": [
        "tensor*tensor"
      ],
      "metadata": {
        "id": "hvDNDOQlGqRB"
      },
      "execution_count": null,
      "outputs": []
    },
    {
      "cell_type": "markdown",
      "source": [
        "# Broadcasting"
      ],
      "metadata": {
        "id": "AZFxM7k2G-wC"
      }
    },
    {
      "cell_type": "code",
      "source": [
        "tensor4 = tensor*4\n",
        "print(tensor4)"
      ],
      "metadata": {
        "id": "uxS4rYNaG-gU"
      },
      "execution_count": null,
      "outputs": []
    },
    {
      "cell_type": "code",
      "source": [
        "matrix_u = tf.constant([[3,4,3]])\n",
        "matrix_v = tf.constant([[1,2,1]])\n",
        "\n",
        "tf.matmul(matrix_u , tf.transpose(matrix_v))"
      ],
      "metadata": {
        "id": "ckbkXDHCG3Kf"
      },
      "execution_count": null,
      "outputs": []
    },
    {
      "cell_type": "code",
      "source": [
        "tensor1 = tf.cast(tensor1,dtype=float)\n",
        "print(tensor1)\n",
        "i = tf.cast(tensor1,dtype=tf.int32)\n",
        "print(i)"
      ],
      "metadata": {
        "id": "v-_9zD03HeTJ"
      },
      "execution_count": null,
      "outputs": []
    },
    {
      "cell_type": "code",
      "source": [
        "j = tf.cast(tf.constant(4.9),dtype=tf.int32)\n",
        "j"
      ],
      "metadata": {
        "id": "ATrvnLmDHuBl"
      },
      "execution_count": null,
      "outputs": []
    },
    {
      "cell_type": "markdown",
      "source": [
        "# raged tensors"
      ],
      "metadata": {
        "id": "9YRCDtArIRGT"
      }
    },
    {
      "cell_type": "code",
      "source": [
        "ragged = tf.ragged.constant([[5,2,6,1],[],[4,10,7],[8],[6,7]])\n",
        "print(ragged)\n",
        "print(ragged[0,:])\n",
        "print(ragged[1,:])\n",
        "print(ragged[2,:])\n",
        "print(ragged[3,:])\n",
        "print(ragged[4,:])"
      ],
      "metadata": {
        "id": "PFcnA_beIM3Z"
      },
      "execution_count": null,
      "outputs": []
    },
    {
      "cell_type": "markdown",
      "source": [
        "# squared difference between 2 tensors"
      ],
      "metadata": {
        "id": "NQSGrTfSJAD5"
      }
    },
    {
      "cell_type": "code",
      "source": [
        "varx = [1,3,5,7,11]\n",
        "vary = 5\n",
        "varz =tf.math.squared_difference(varx,vary)\n",
        "varz"
      ],
      "metadata": {
        "id": "6KYfgbAoIvGX"
      },
      "execution_count": null,
      "outputs": []
    },
    {
      "cell_type": "code",
      "source": [
        "numbers = tf.constant([[4.,5.],[7.,3.]])"
      ],
      "metadata": {
        "id": "dpzNI0edJOKU"
      },
      "execution_count": null,
      "outputs": []
    },
    {
      "cell_type": "code",
      "source": [
        "tf.reduce_mean(input_tensor = numbers)\n",
        "# (4.+5.+7.+3.)/4 = 4.75"
      ],
      "metadata": {
        "id": "mb7hYsTRJjQB"
      },
      "execution_count": null,
      "outputs": []
    },
    {
      "cell_type": "code",
      "source": [
        "tf.reduce_mean(input_tensor = numbers,axis=0)"
      ],
      "metadata": {
        "id": "1o96fwR2JpW3"
      },
      "execution_count": null,
      "outputs": []
    },
    {
      "cell_type": "code",
      "source": [
        "tf.reduce_mean(input_tensor = numbers,axis=0,keepdims=True) # to retain the rank"
      ],
      "metadata": {
        "id": "4B_Vl17PKJ0w"
      },
      "execution_count": null,
      "outputs": []
    },
    {
      "cell_type": "code",
      "source": [
        "tf.reduce_mean(input_tensor = numbers,axis=1)"
      ],
      "metadata": {
        "id": "bfQYumEjJ50N"
      },
      "execution_count": null,
      "outputs": []
    },
    {
      "cell_type": "code",
      "source": [
        "tf.reduce_mean(input_tensor = numbers,axis=1,keepdims=True)"
      ],
      "metadata": {
        "id": "etYhB4C1KA7s"
      },
      "execution_count": null,
      "outputs": []
    },
    {
      "cell_type": "code",
      "source": [
        "tf.random.normal(shape=(3,2),mean=10,stddev=2,dtype=tf.float32,seed=None,name=None)\n",
        "ran = tf.random.normal(shape=(3,2),mean=10,stddev=2)\n",
        "print(ran)"
      ],
      "metadata": {
        "id": "ArkzIsPEKaKw",
        "colab": {
          "base_uri": "https://localhost:8080/"
        },
        "outputId": "699765a6-189c-4d9d-b11f-9a03cab9cc2f"
      },
      "execution_count": 3,
      "outputs": [
        {
          "output_type": "stream",
          "name": "stdout",
          "text": [
            "tf.Tensor(\n",
            "[[ 7.936143   7.8892508]\n",
            " [ 9.427551  10.27867  ]\n",
            " [ 7.3817525 16.236536 ]], shape=(3, 2), dtype=float32)\n"
          ]
        }
      ]
    },
    {
      "cell_type": "code",
      "source": [
        "tf.random.uniform(shape=(3,2),minval=0,maxval=None,dtype=tf.float32,seed=None,name=None)\n"
      ],
      "metadata": {
        "colab": {
          "base_uri": "https://localhost:8080/"
        },
        "id": "ngd5_330Zizx",
        "outputId": "10a1bdf2-b9c8-40f4-8890-99ab21db2ef3"
      },
      "execution_count": 4,
      "outputs": [
        {
          "output_type": "execute_result",
          "data": {
            "text/plain": [
              "<tf.Tensor: shape=(3, 2), dtype=float32, numpy=\n",
              "array([[0.6862329 , 0.3407545 ],\n",
              "       [0.87350464, 0.8959546 ],\n",
              "       [0.46968305, 0.8874899 ]], dtype=float32)>"
            ]
          },
          "metadata": {},
          "execution_count": 4
        }
      ]
    },
    {
      "cell_type": "code",
      "source": [
        "tf.random.set_seed(11)\n",
        "ran1 = tf.random.uniform(shape=(2,2),maxval=10,dtype=tf.int32)\n",
        "ran2 = tf.random.uniform(shape=(2,2),maxval=10,dtype=tf.int32)\n",
        "print(ran1)\n",
        "print(ran2)"
      ],
      "metadata": {
        "colab": {
          "base_uri": "https://localhost:8080/"
        },
        "id": "HFvGgziFZ6Vx",
        "outputId": "e5e16691-e2b8-4f6e-8b61-a508ef21be5e"
      },
      "execution_count": 7,
      "outputs": [
        {
          "output_type": "stream",
          "name": "stdout",
          "text": [
            "tf.Tensor(\n",
            "[[4 6]\n",
            " [5 2]], shape=(2, 2), dtype=int32)\n",
            "tf.Tensor(\n",
            "[[9 7]\n",
            " [9 4]], shape=(2, 2), dtype=int32)\n"
          ]
        }
      ]
    },
    {
      "cell_type": "code",
      "source": [
        "dice1 = tf.Variable(tf.random.uniform([10,1],minval=1,maxval=7,dtype=tf.int32))\n",
        "dice2 = tf.Variable(tf.random.uniform([10,1],minval=1,maxval=7,dtype=tf.int32))\n",
        "dice_sum = dice1 + dice2\n",
        "resulting_matrix = tf.concat(values=[dice1,dice2,dice_sum],axis=1)\n",
        "print(resulting_matrix)"
      ],
      "metadata": {
        "colab": {
          "base_uri": "https://localhost:8080/"
        },
        "id": "v0tMrrwParbl",
        "outputId": "42896fe8-8167-4eab-dca8-6124b3a160a5"
      },
      "execution_count": 9,
      "outputs": [
        {
          "output_type": "stream",
          "name": "stdout",
          "text": [
            "tf.Tensor(\n",
            "[[ 5  5 10]\n",
            " [ 2  2  4]\n",
            " [ 4  2  6]\n",
            " [ 1  4  5]\n",
            " [ 3  1  4]\n",
            " [ 5  5 10]\n",
            " [ 6  1  7]\n",
            " [ 1  3  4]\n",
            " [ 2  5  7]\n",
            " [ 3  6  9]], shape=(10, 3), dtype=int32)\n"
          ]
        }
      ]
    },
    {
      "cell_type": "code",
      "source": [
        "t5 = tf.constant([2,11,5,42,7,19,-6,-11,29])\n",
        "print(t5)"
      ],
      "metadata": {
        "colab": {
          "base_uri": "https://localhost:8080/"
        },
        "id": "yloDPon9bYzr",
        "outputId": "66852032-da22-43a5-c183-425b989c44e0"
      },
      "execution_count": 10,
      "outputs": [
        {
          "output_type": "stream",
          "name": "stdout",
          "text": [
            "tf.Tensor([  2  11   5  42   7  19  -6 -11  29], shape=(9,), dtype=int32)\n"
          ]
        }
      ]
    },
    {
      "cell_type": "code",
      "source": [
        "i = tf.argmax(t5).numpy()\n",
        "print('index of max:' , i)\n",
        "print('Max element:',t5[i].numpy())"
      ],
      "metadata": {
        "colab": {
          "base_uri": "https://localhost:8080/"
        },
        "id": "V9-6Acibcokk",
        "outputId": "a512948c-4881-4ea9-d943-7a955879aed2"
      },
      "execution_count": 12,
      "outputs": [
        {
          "output_type": "stream",
          "name": "stdout",
          "text": [
            "index of max: 3\n",
            "Max element: 42\n"
          ]
        }
      ]
    },
    {
      "cell_type": "code",
      "source": [
        "i = tf.argmin(t5,axis=0).numpy()\n",
        "print('index of max:' , i)\n",
        "print('Max element:',t5[i].numpy())"
      ],
      "metadata": {
        "colab": {
          "base_uri": "https://localhost:8080/"
        },
        "id": "xdt2CezIc6AR",
        "outputId": "dc868f60-5903-40e1-d753-51d556bb3993"
      },
      "execution_count": 14,
      "outputs": [
        {
          "output_type": "stream",
          "name": "stdout",
          "text": [
            "index of max: 7\n",
            "Max element: -11\n"
          ]
        }
      ]
    },
    {
      "cell_type": "code",
      "source": [
        "t6 = tf.reshape(t5,[3,3])\n",
        "print(t6)"
      ],
      "metadata": {
        "colab": {
          "base_uri": "https://localhost:8080/"
        },
        "id": "QcJPy5jSdGA5",
        "outputId": "7d30f96a-236f-4d60-9c7d-b6bf24fefd3b"
      },
      "execution_count": 15,
      "outputs": [
        {
          "output_type": "stream",
          "name": "stdout",
          "text": [
            "tf.Tensor(\n",
            "[[  2  11   5]\n",
            " [ 42   7  19]\n",
            " [ -6 -11  29]], shape=(3, 3), dtype=int32)\n"
          ]
        }
      ]
    },
    {
      "cell_type": "code",
      "source": [
        "i = tf.argmax(t6,axis=0).numpy()\n",
        "print('indices of max down rows:' , i)"
      ],
      "metadata": {
        "colab": {
          "base_uri": "https://localhost:8080/"
        },
        "id": "5cYi1YZmdejv",
        "outputId": "0bebe58f-4055-4e30-f58f-489fbe770506"
      },
      "execution_count": 17,
      "outputs": [
        {
          "output_type": "stream",
          "name": "stdout",
          "text": [
            "indices of max down rows: [1 0 2]\n"
          ]
        }
      ]
    },
    {
      "cell_type": "code",
      "source": [
        "i = tf.argmin(t6,axis=0).numpy()\n",
        "print('indices of min down rows:' , i)"
      ],
      "metadata": {
        "colab": {
          "base_uri": "https://localhost:8080/"
        },
        "id": "d1iBJ_E5duoY",
        "outputId": "d59ca8b5-5dc6-479b-f827-6a9f84c37d6c"
      },
      "execution_count": 18,
      "outputs": [
        {
          "output_type": "stream",
          "name": "stdout",
          "text": [
            "indices of min down rows: [2 2 0]\n"
          ]
        }
      ]
    },
    {
      "cell_type": "code",
      "source": [
        "i = tf.argmax(t6,axis=1).numpy()\n",
        "print('indices of max down cols:' , i)\n",
        "i = tf.argmin(t6,axis=1).numpy()\n",
        "print('indices of min down cols:' , i)"
      ],
      "metadata": {
        "colab": {
          "base_uri": "https://localhost:8080/"
        },
        "id": "rSXqoBk6d5KS",
        "outputId": "df9ebf91-335a-4611-fe2a-51e1cf6212d9"
      },
      "execution_count": 19,
      "outputs": [
        {
          "output_type": "stream",
          "name": "stdout",
          "text": [
            "indices of max down cols: [1 0 2]\n",
            "indices of min down cols: [0 1 1]\n"
          ]
        }
      ]
    },
    {
      "cell_type": "code",
      "source": [
        "variable = tf.Variable([[1,3,5,7],[11,13,17,19]])\n",
        "checkpoint = tf.train.Checkpoint(var=variable)\n",
        "save_path = checkpoint.save('./vars')\n",
        "variable.assign([[0,0,0,0],[0,0,0,0]])\n",
        "print(variable)\n",
        "checkpoint.restore(save_path)\n",
        "print(variable)"
      ],
      "metadata": {
        "colab": {
          "base_uri": "https://localhost:8080/"
        },
        "id": "3Q9ygmegeIHi",
        "outputId": "56c616d0-49ba-417e-94b2-26ee92c3e9d4"
      },
      "execution_count": 21,
      "outputs": [
        {
          "output_type": "stream",
          "name": "stdout",
          "text": [
            "<tf.Variable 'Variable:0' shape=(2, 4) dtype=int32, numpy=\n",
            "array([[0, 0, 0, 0],\n",
            "       [0, 0, 0, 0]], dtype=int32)>\n",
            "<tf.Variable 'Variable:0' shape=(2, 4) dtype=int32, numpy=\n",
            "array([[ 1,  3,  5,  7],\n",
            "       [11, 13, 17, 19]], dtype=int32)>\n"
          ]
        }
      ]
    },
    {
      "cell_type": "code",
      "source": [
        "def f1(x,y):\n",
        "  return tf.reduce_mean(input_tensor=tf.multiply(x ** 2,5)+ y**2)\n",
        "\n",
        "f2 = tf.function(f1)\n",
        "x = tf.constant([4.,-5.])\n",
        "y = tf.constant([2.,3.])\n",
        "\n",
        "assert f1(x,y) == f2(x,y).numpy()"
      ],
      "metadata": {
        "id": "tiip2qJffj1X"
      },
      "execution_count": 23,
      "outputs": []
    },
    {
      "cell_type": "code",
      "source": [
        "f2(x,y).numpy()"
      ],
      "metadata": {
        "colab": {
          "base_uri": "https://localhost:8080/"
        },
        "id": "kuvwAAXVgesX",
        "outputId": "491ba813-fb9f-4508-a043-c32407370e56"
      },
      "execution_count": 24,
      "outputs": [
        {
          "output_type": "execute_result",
          "data": {
            "text/plain": [
              "109.0"
            ]
          },
          "metadata": {},
          "execution_count": 24
        }
      ]
    },
    {
      "cell_type": "markdown",
      "source": [
        "# Gradient calculation"
      ],
      "metadata": {
        "id": "Ye-X5_xEhZjg"
      }
    },
    {
      "cell_type": "code",
      "source": [
        "a = tf.random.normal(shape=(2,2))\n",
        "b = tf.random.normal(shape=(2,2))\n",
        "\n",
        "with tf.GradientTape() as tape:\n",
        "  tape.watch(a)\n",
        "  c=tf.sqrt(tf.square(a)+tf.square(b))\n",
        "  dc_da = tape.gradient(c,a)\n",
        "  print(dc_da)"
      ],
      "metadata": {
        "colab": {
          "base_uri": "https://localhost:8080/"
        },
        "id": "NZg0hZKCg0l2",
        "outputId": "7bb93e82-29a7-4be4-e02c-b951929b1951"
      },
      "execution_count": 26,
      "outputs": [
        {
          "output_type": "stream",
          "name": "stdout",
          "text": [
            "tf.Tensor(\n",
            "[[-0.96916884  0.10584572]\n",
            " [ 0.12097336 -0.5725143 ]], shape=(2, 2), dtype=float32)\n"
          ]
        }
      ]
    },
    {
      "cell_type": "code",
      "source": [
        "a = tf.Variable(a)\n",
        "\n",
        "with tf.GradientTape() as tape:\n",
        "  c=tf.sqrt(tf.square(a)+tf.square(b))\n",
        "  dc_da = tape.gradient(c,a)\n",
        "  print(dc_da)"
      ],
      "metadata": {
        "colab": {
          "base_uri": "https://localhost:8080/"
        },
        "id": "4qPz8WChhU5H",
        "outputId": "27ec1129-d272-4a4d-dedc-049d589a71c9"
      },
      "execution_count": 27,
      "outputs": [
        {
          "output_type": "stream",
          "name": "stdout",
          "text": [
            "tf.Tensor(\n",
            "[[-0.96916884  0.10584572]\n",
            " [ 0.12097336 -0.5725143 ]], shape=(2, 2), dtype=float32)\n"
          ]
        }
      ]
    },
    {
      "cell_type": "code",
      "source": [
        "with tf.GradientTape() as outer_tape:\n",
        "  with tf.GradientTape() as tape:\n",
        "    c=tf.sqrt(tf.square(a)+tf.square(b))\n",
        "    dc_da = tape.gradient(c,a)\n",
        "  d2c_d2a = outer_tape.gradient(dc_da,a)\n",
        "  print(d2c_d2a)"
      ],
      "metadata": {
        "colab": {
          "base_uri": "https://localhost:8080/"
        },
        "id": "rUIhmliUiROj",
        "outputId": "eec6cf0c-698d-4b5f-fc0a-38c28cf3ed85"
      },
      "execution_count": 28,
      "outputs": [
        {
          "output_type": "stream",
          "name": "stdout",
          "text": [
            "tf.Tensor(\n",
            "[[0.14203143 0.3846457 ]\n",
            " [0.63471186 0.37015942]], shape=(2, 2), dtype=float32)\n"
          ]
        }
      ]
    },
    {
      "cell_type": "code",
      "source": [],
      "metadata": {
        "id": "1V26CQhni0Wx"
      },
      "execution_count": null,
      "outputs": []
    }
  ]
}