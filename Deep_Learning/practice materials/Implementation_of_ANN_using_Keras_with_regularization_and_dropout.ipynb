{
  "nbformat": 4,
  "nbformat_minor": 0,
  "metadata": {
    "colab": {
      "provenance": []
    },
    "kernelspec": {
      "name": "python3",
      "display_name": "Python 3"
    },
    "language_info": {
      "name": "python"
    }
  },
  "cells": [
    {
      "cell_type": "markdown",
      "source": [
        "# Implementation of ANN using Keras"
      ],
      "metadata": {
        "id": "Otv-wjRcWd7h"
      }
    },
    {
      "cell_type": "code",
      "source": [
        "# Importing Libraries\n",
        "import tensorflow as tf\n",
        "import matplotlib.pyplot as plt\n",
        "import numpy as np\n",
        "import pandas as pd\n",
        "import seaborn as sns\n",
        "import os"
      ],
      "metadata": {
        "id": "mm8PksLbWVHJ"
      },
      "execution_count": 2,
      "outputs": []
    },
    {
      "cell_type": "code",
      "source": [
        "#checking version of tensorflow and keras\n",
        "print(f\"Tensorflow Version {tf.__version__}\")\n",
        "print(f\"Keras Version {tf.keras.__version__}\")"
      ],
      "metadata": {
        "colab": {
          "base_uri": "https://localhost:8080/"
        },
        "id": "VLkXikyVWygO",
        "outputId": "6e7a1b0f-f349-49ca-998a-ab0043fc38eb"
      },
      "execution_count": 3,
      "outputs": [
        {
          "output_type": "stream",
          "name": "stdout",
          "text": [
            "Tensorflow Version 2.12.0\n",
            "Keras Version 2.12.0\n"
          ]
        }
      ]
    },
    {
      "cell_type": "code",
      "source": [
        "os.getcwd()"
      ],
      "metadata": {
        "colab": {
          "base_uri": "https://localhost:8080/",
          "height": 36
        },
        "id": "P5GCo2LBXFVT",
        "outputId": "e288145f-da2c-4b09-e0cd-61e5939fe54b"
      },
      "execution_count": 4,
      "outputs": [
        {
          "output_type": "execute_result",
          "data": {
            "text/plain": [
              "'/content'"
            ],
            "application/vnd.google.colaboratory.intrinsic+json": {
              "type": "string"
            }
          },
          "metadata": {},
          "execution_count": 4
        }
      ]
    },
    {
      "cell_type": "markdown",
      "source": [
        "# Creating a simple classifier using keras on MNIST data"
      ],
      "metadata": {
        "id": "AOZNP4GHXuDq"
      }
    },
    {
      "cell_type": "code",
      "source": [
        "mnist = tf.keras.datasets.mnist"
      ],
      "metadata": {
        "id": "rvEF-wBZXKNd"
      },
      "execution_count": 5,
      "outputs": []
    },
    {
      "cell_type": "code",
      "source": [
        "mnist"
      ],
      "metadata": {
        "colab": {
          "base_uri": "https://localhost:8080/"
        },
        "id": "5MRaW22DYAGo",
        "outputId": "017e05d8-d1ee-4e3b-ef3d-f1357f8b71a0"
      },
      "execution_count": 6,
      "outputs": [
        {
          "output_type": "execute_result",
          "data": {
            "text/plain": [
              "<module 'keras.api._v2.keras.datasets.mnist' from '/usr/local/lib/python3.10/dist-packages/keras/api/_v2/keras/datasets/mnist/__init__.py'>"
            ]
          },
          "metadata": {},
          "execution_count": 6
        }
      ]
    },
    {
      "cell_type": "code",
      "source": [
        "(X_train_full, y_train_full) , (X_test , y_test) = mnist.load_data()"
      ],
      "metadata": {
        "id": "9HRBsdrhYBIW",
        "colab": {
          "base_uri": "https://localhost:8080/"
        },
        "outputId": "d8fc2bc8-6649-43a5-da5a-1f5c0eb55135"
      },
      "execution_count": 7,
      "outputs": [
        {
          "output_type": "stream",
          "name": "stdout",
          "text": [
            "Downloading data from https://storage.googleapis.com/tensorflow/tf-keras-datasets/mnist.npz\n",
            "11490434/11490434 [==============================] - 0s 0us/step\n"
          ]
        }
      ]
    },
    {
      "cell_type": "code",
      "source": [
        "X_train_full[0]"
      ],
      "metadata": {
        "colab": {
          "base_uri": "https://localhost:8080/"
        },
        "id": "vo_vJL3BYFUs",
        "outputId": "795e6f21-d759-4476-a8d9-bba0f748fbff"
      },
      "execution_count": 8,
      "outputs": [
        {
          "output_type": "execute_result",
          "data": {
            "text/plain": [
              "array([[  0,   0,   0,   0,   0,   0,   0,   0,   0,   0,   0,   0,   0,\n",
              "          0,   0,   0,   0,   0,   0,   0,   0,   0,   0,   0,   0,   0,\n",
              "          0,   0],\n",
              "       [  0,   0,   0,   0,   0,   0,   0,   0,   0,   0,   0,   0,   0,\n",
              "          0,   0,   0,   0,   0,   0,   0,   0,   0,   0,   0,   0,   0,\n",
              "          0,   0],\n",
              "       [  0,   0,   0,   0,   0,   0,   0,   0,   0,   0,   0,   0,   0,\n",
              "          0,   0,   0,   0,   0,   0,   0,   0,   0,   0,   0,   0,   0,\n",
              "          0,   0],\n",
              "       [  0,   0,   0,   0,   0,   0,   0,   0,   0,   0,   0,   0,   0,\n",
              "          0,   0,   0,   0,   0,   0,   0,   0,   0,   0,   0,   0,   0,\n",
              "          0,   0],\n",
              "       [  0,   0,   0,   0,   0,   0,   0,   0,   0,   0,   0,   0,   0,\n",
              "          0,   0,   0,   0,   0,   0,   0,   0,   0,   0,   0,   0,   0,\n",
              "          0,   0],\n",
              "       [  0,   0,   0,   0,   0,   0,   0,   0,   0,   0,   0,   0,   3,\n",
              "         18,  18,  18, 126, 136, 175,  26, 166, 255, 247, 127,   0,   0,\n",
              "          0,   0],\n",
              "       [  0,   0,   0,   0,   0,   0,   0,   0,  30,  36,  94, 154, 170,\n",
              "        253, 253, 253, 253, 253, 225, 172, 253, 242, 195,  64,   0,   0,\n",
              "          0,   0],\n",
              "       [  0,   0,   0,   0,   0,   0,   0,  49, 238, 253, 253, 253, 253,\n",
              "        253, 253, 253, 253, 251,  93,  82,  82,  56,  39,   0,   0,   0,\n",
              "          0,   0],\n",
              "       [  0,   0,   0,   0,   0,   0,   0,  18, 219, 253, 253, 253, 253,\n",
              "        253, 198, 182, 247, 241,   0,   0,   0,   0,   0,   0,   0,   0,\n",
              "          0,   0],\n",
              "       [  0,   0,   0,   0,   0,   0,   0,   0,  80, 156, 107, 253, 253,\n",
              "        205,  11,   0,  43, 154,   0,   0,   0,   0,   0,   0,   0,   0,\n",
              "          0,   0],\n",
              "       [  0,   0,   0,   0,   0,   0,   0,   0,   0,  14,   1, 154, 253,\n",
              "         90,   0,   0,   0,   0,   0,   0,   0,   0,   0,   0,   0,   0,\n",
              "          0,   0],\n",
              "       [  0,   0,   0,   0,   0,   0,   0,   0,   0,   0,   0, 139, 253,\n",
              "        190,   2,   0,   0,   0,   0,   0,   0,   0,   0,   0,   0,   0,\n",
              "          0,   0],\n",
              "       [  0,   0,   0,   0,   0,   0,   0,   0,   0,   0,   0,  11, 190,\n",
              "        253,  70,   0,   0,   0,   0,   0,   0,   0,   0,   0,   0,   0,\n",
              "          0,   0],\n",
              "       [  0,   0,   0,   0,   0,   0,   0,   0,   0,   0,   0,   0,  35,\n",
              "        241, 225, 160, 108,   1,   0,   0,   0,   0,   0,   0,   0,   0,\n",
              "          0,   0],\n",
              "       [  0,   0,   0,   0,   0,   0,   0,   0,   0,   0,   0,   0,   0,\n",
              "         81, 240, 253, 253, 119,  25,   0,   0,   0,   0,   0,   0,   0,\n",
              "          0,   0],\n",
              "       [  0,   0,   0,   0,   0,   0,   0,   0,   0,   0,   0,   0,   0,\n",
              "          0,  45, 186, 253, 253, 150,  27,   0,   0,   0,   0,   0,   0,\n",
              "          0,   0],\n",
              "       [  0,   0,   0,   0,   0,   0,   0,   0,   0,   0,   0,   0,   0,\n",
              "          0,   0,  16,  93, 252, 253, 187,   0,   0,   0,   0,   0,   0,\n",
              "          0,   0],\n",
              "       [  0,   0,   0,   0,   0,   0,   0,   0,   0,   0,   0,   0,   0,\n",
              "          0,   0,   0,   0, 249, 253, 249,  64,   0,   0,   0,   0,   0,\n",
              "          0,   0],\n",
              "       [  0,   0,   0,   0,   0,   0,   0,   0,   0,   0,   0,   0,   0,\n",
              "          0,  46, 130, 183, 253, 253, 207,   2,   0,   0,   0,   0,   0,\n",
              "          0,   0],\n",
              "       [  0,   0,   0,   0,   0,   0,   0,   0,   0,   0,   0,   0,  39,\n",
              "        148, 229, 253, 253, 253, 250, 182,   0,   0,   0,   0,   0,   0,\n",
              "          0,   0],\n",
              "       [  0,   0,   0,   0,   0,   0,   0,   0,   0,   0,  24, 114, 221,\n",
              "        253, 253, 253, 253, 201,  78,   0,   0,   0,   0,   0,   0,   0,\n",
              "          0,   0],\n",
              "       [  0,   0,   0,   0,   0,   0,   0,   0,  23,  66, 213, 253, 253,\n",
              "        253, 253, 198,  81,   2,   0,   0,   0,   0,   0,   0,   0,   0,\n",
              "          0,   0],\n",
              "       [  0,   0,   0,   0,   0,   0,  18, 171, 219, 253, 253, 253, 253,\n",
              "        195,  80,   9,   0,   0,   0,   0,   0,   0,   0,   0,   0,   0,\n",
              "          0,   0],\n",
              "       [  0,   0,   0,   0,  55, 172, 226, 253, 253, 253, 253, 244, 133,\n",
              "         11,   0,   0,   0,   0,   0,   0,   0,   0,   0,   0,   0,   0,\n",
              "          0,   0],\n",
              "       [  0,   0,   0,   0, 136, 253, 253, 253, 212, 135, 132,  16,   0,\n",
              "          0,   0,   0,   0,   0,   0,   0,   0,   0,   0,   0,   0,   0,\n",
              "          0,   0],\n",
              "       [  0,   0,   0,   0,   0,   0,   0,   0,   0,   0,   0,   0,   0,\n",
              "          0,   0,   0,   0,   0,   0,   0,   0,   0,   0,   0,   0,   0,\n",
              "          0,   0],\n",
              "       [  0,   0,   0,   0,   0,   0,   0,   0,   0,   0,   0,   0,   0,\n",
              "          0,   0,   0,   0,   0,   0,   0,   0,   0,   0,   0,   0,   0,\n",
              "          0,   0],\n",
              "       [  0,   0,   0,   0,   0,   0,   0,   0,   0,   0,   0,   0,   0,\n",
              "          0,   0,   0,   0,   0,   0,   0,   0,   0,   0,   0,   0,   0,\n",
              "          0,   0]], dtype=uint8)"
            ]
          },
          "metadata": {},
          "execution_count": 8
        }
      ]
    },
    {
      "cell_type": "code",
      "source": [
        "X_train_full.shape"
      ],
      "metadata": {
        "colab": {
          "base_uri": "https://localhost:8080/"
        },
        "id": "2wgr6sJ-Ze34",
        "outputId": "e89dbf86-8f36-4e3f-9ac8-8c9e6000dbdf"
      },
      "execution_count": 9,
      "outputs": [
        {
          "output_type": "execute_result",
          "data": {
            "text/plain": [
              "(60000, 28, 28)"
            ]
          },
          "metadata": {},
          "execution_count": 9
        }
      ]
    },
    {
      "cell_type": "code",
      "source": [
        "X_test.shape"
      ],
      "metadata": {
        "colab": {
          "base_uri": "https://localhost:8080/"
        },
        "id": "kexGE3FIaE7Z",
        "outputId": "f2e48ed2-a102-4fb0-8ab5-e15a73c52fdd"
      },
      "execution_count": 10,
      "outputs": [
        {
          "output_type": "execute_result",
          "data": {
            "text/plain": [
              "(10000, 28, 28)"
            ]
          },
          "metadata": {},
          "execution_count": 10
        }
      ]
    },
    {
      "cell_type": "code",
      "source": [
        "X_train_full[0].shape"
      ],
      "metadata": {
        "colab": {
          "base_uri": "https://localhost:8080/"
        },
        "id": "Ahq12BFgaIQ4",
        "outputId": "746369d8-9a91-46c3-cf38-8cabefe83689"
      },
      "execution_count": 11,
      "outputs": [
        {
          "output_type": "execute_result",
          "data": {
            "text/plain": [
              "(28, 28)"
            ]
          },
          "metadata": {},
          "execution_count": 11
        }
      ]
    },
    {
      "cell_type": "code",
      "source": [
        "# create a validation data set from the full training data\n",
        "# Scale the data between 0 to 1 by dividing it by 255 as its an unsigned data between 0-255 range\n",
        "X_valid , X_train = X_train_full[:5000] / 255.,X_train_full[5000:]/255.\n",
        "y_valid , y_train = y_train_full[:5000],y_train_full[5000:]\n",
        "\n",
        "#scale the test set as well\n",
        "X_test = X_test / 255."
      ],
      "metadata": {
        "id": "omtFtaAMaQ39"
      },
      "execution_count": 12,
      "outputs": []
    },
    {
      "cell_type": "code",
      "source": [
        "# TRAIN - 55000\n",
        "# TEST - 10000\n",
        "# VAL - 5000"
      ],
      "metadata": {
        "id": "Qp2e5hfDbAAN"
      },
      "execution_count": 13,
      "outputs": []
    },
    {
      "cell_type": "code",
      "source": [
        "len(X_train_full[5000:])"
      ],
      "metadata": {
        "colab": {
          "base_uri": "https://localhost:8080/"
        },
        "id": "grRl3knSbO9W",
        "outputId": "108a0fbe-50d2-48a6-afe7-3e91f106bc51"
      },
      "execution_count": 14,
      "outputs": [
        {
          "output_type": "execute_result",
          "data": {
            "text/plain": [
              "55000"
            ]
          },
          "metadata": {},
          "execution_count": 14
        }
      ]
    },
    {
      "cell_type": "code",
      "source": [
        "# Lets view some data\n",
        "\n",
        "plt.imshow(X_train[0] , cmap = 'binary')\n",
        "plt.show()"
      ],
      "metadata": {
        "colab": {
          "base_uri": "https://localhost:8080/",
          "height": 430
        },
        "id": "M5z2G9fzbS30",
        "outputId": "2518f5a3-5073-42ab-9426-b551222bdd7b"
      },
      "execution_count": 15,
      "outputs": [
        {
          "output_type": "display_data",
          "data": {
            "text/plain": [
              "<Figure size 640x480 with 1 Axes>"
            ],
            "image/png": "[encoded data removed]"
          },
          "metadata": {}
        }
      ]
    },
    {
      "cell_type": "code",
      "source": [
        "plt.figure(figsize = (15,15))\n",
        "sns.heatmap(X_train[0],annot = True , cmap = 'binary')"
      ],
      "metadata": {
        "colab": {
          "base_uri": "https://localhost:8080/",
          "height": 1000
        },
        "id": "_ZwvouImblKY",
        "outputId": "486a3fff-ba03-485e-8785-1ab235165c93"
      },
      "execution_count": 16,
      "outputs": [
        {
          "output_type": "execute_result",
          "data": {
            "text/plain": [
              "<Axes: >"
            ]
          },
          "metadata": {},
          "execution_count": 16
        },
        {
          "output_type": "display_data",
          "data": {
            "text/plain": [
              "<Figure size 1500x1500 with 2 Axes>"
            ],
            "image/png": "[encoded data removed]"
          },
          "metadata": {}
        }
      ]
    },
    {
      "cell_type": "code",
      "source": [
        "28*28"
      ],
      "metadata": {
        "colab": {
          "base_uri": "https://localhost:8080/"
        },
        "id": "HyEjsQPSb749",
        "outputId": "d4c653bf-0531-42fb-9c6c-46259cfcff65"
      },
      "execution_count": 17,
      "outputs": [
        {
          "output_type": "execute_result",
          "data": {
            "text/plain": [
              "784"
            ]
          },
          "metadata": {},
          "execution_count": 17
        }
      ]
    },
    {
      "cell_type": "code",
      "source": [
        "# Creating layers of ANN\n",
        "LAYERS = [tf.keras.layers.Flatten(input_shape=[28,28], name = 'inputLayer'),\n",
        "          tf.keras.layers.Dense(300 , activation = 'relu' , name = \"hiddenLayer1\"),\n",
        "          tf.keras.layers.BatchNormalization(),\n",
        "          tf.keras.layers.Dense(100 , activation = \"relu\" , name = 'hiddenLayer2'),\n",
        "          tf.keras.layers.Dense(10, activation = \"softmax\" , name = \"outputLayer\")]\n",
        "model_clf = tf.keras.models.Sequential(LAYERS)"
      ],
      "metadata": {
        "id": "CzMxXKoGcDPU"
      },
      "execution_count": null,
      "outputs": []
    },
    {
      "cell_type": "code",
      "source": [
        "model_clf.layers"
      ],
      "metadata": {
        "colab": {
          "base_uri": "https://localhost:8080/"
        },
        "id": "zpb999gjdfq6",
        "outputId": "b8eb3139-d320-476f-a0bb-78ae6e563682"
      },
      "execution_count": null,
      "outputs": [
        {
          "output_type": "execute_result",
          "data": {
            "text/plain": [
              "[<keras.layers.reshaping.flatten.Flatten at 0x7ff3656bfdf0>,\n",
              " <keras.layers.core.dense.Dense at 0x7ff38588fd60>,\n",
              " <keras.layers.normalization.batch_normalization.BatchNormalization at 0x7ff38588d870>,\n",
              " <keras.layers.core.dense.Dense at 0x7ff38588c160>,\n",
              " <keras.layers.core.dense.Dense at 0x7ff38588f670>]"
            ]
          },
          "metadata": {},
          "execution_count": 18
        }
      ]
    },
    {
      "cell_type": "code",
      "source": [
        "model_clf.summary()"
      ],
      "metadata": {
        "colab": {
          "base_uri": "https://localhost:8080/"
        },
        "id": "WMCmeHj6ekdd",
        "outputId": "1898e6a5-3fe9-430b-a9fd-4be61dfb652d"
      },
      "execution_count": null,
      "outputs": [
        {
          "output_type": "stream",
          "name": "stdout",
          "text": [
            "Model: \"sequential\"\n",
            "_________________________________________________________________\n",
            " Layer (type)                Output Shape              Param #   \n",
            "=================================================================\n",
            " inputLayer (Flatten)        (None, 784)               0         \n",
            "                                                                 \n",
            " hiddenLayer1 (Dense)        (None, 300)               235500    \n",
            "                                                                 \n",
            " batch_normalization (BatchN  (None, 300)              1200      \n",
            " ormalization)                                                   \n",
            "                                                                 \n",
            " hiddenLayer2 (Dense)        (None, 100)               30100     \n",
            "                                                                 \n",
            " outputLayer (Dense)         (None, 10)                1010      \n",
            "                                                                 \n",
            "=================================================================\n",
            "Total params: 267,810\n",
            "Trainable params: 267,210\n",
            "Non-trainable params: 600\n",
            "_________________________________________________________________\n"
          ]
        }
      ]
    },
    {
      "cell_type": "code",
      "source": [
        "# firstLayer * secondLayer + bias\n",
        "784*300 + 300 , 300 * 100 + 100 , 100*10 + 10"
      ],
      "metadata": {
        "colab": {
          "base_uri": "https://localhost:8080/"
        },
        "id": "Dy6Mjh5pevMb",
        "outputId": "f560bd2e-30e3-4f75-a6be-275f9537d900"
      },
      "execution_count": null,
      "outputs": [
        {
          "output_type": "execute_result",
          "data": {
            "text/plain": [
              "(235500, 30100, 1010)"
            ]
          },
          "metadata": {},
          "execution_count": 20
        }
      ]
    },
    {
      "cell_type": "code",
      "source": [
        "# Total parameters to be trained\n",
        "sum((235500, 30100, 1010))"
      ],
      "metadata": {
        "colab": {
          "base_uri": "https://localhost:8080/"
        },
        "id": "jpIsx8Q2gVRv",
        "outputId": "46e8e943-2dd6-4266-b4aa-b6b2f14c27d3"
      },
      "execution_count": null,
      "outputs": [
        {
          "output_type": "execute_result",
          "data": {
            "text/plain": [
              "266610"
            ]
          },
          "metadata": {},
          "execution_count": 21
        }
      ]
    },
    {
      "cell_type": "code",
      "source": [
        "hidden1 = model_clf.layers[1]\n",
        "hidden1.name"
      ],
      "metadata": {
        "colab": {
          "base_uri": "https://localhost:8080/",
          "height": 36
        },
        "id": "PDJOigkSgdeB",
        "outputId": "d68cba34-df45-4397-f400-eddbcba2105b"
      },
      "execution_count": null,
      "outputs": [
        {
          "output_type": "execute_result",
          "data": {
            "text/plain": [
              "'hiddenLayer1'"
            ],
            "application/vnd.google.colaboratory.intrinsic+json": {
              "type": "string"
            }
          },
          "metadata": {},
          "execution_count": 22
        }
      ]
    },
    {
      "cell_type": "code",
      "source": [
        "hidden1.get_weights()[0].shape"
      ],
      "metadata": {
        "colab": {
          "base_uri": "https://localhost:8080/"
        },
        "id": "TbTWTPaogo0I",
        "outputId": "ad3f1045-2a7d-4b46-a0ab-e07b5ef796fe"
      },
      "execution_count": null,
      "outputs": [
        {
          "output_type": "execute_result",
          "data": {
            "text/plain": [
              "(784, 300)"
            ]
          },
          "metadata": {},
          "execution_count": 23
        }
      ]
    },
    {
      "cell_type": "code",
      "source": [
        "hidden1.get_weights()[1].shape"
      ],
      "metadata": {
        "colab": {
          "base_uri": "https://localhost:8080/"
        },
        "id": "lr3dwSvAguEF",
        "outputId": "6a943b0c-0415-469f-dab7-3f1d96627227"
      },
      "execution_count": null,
      "outputs": [
        {
          "output_type": "execute_result",
          "data": {
            "text/plain": [
              "(300,)"
            ]
          },
          "metadata": {},
          "execution_count": 24
        }
      ]
    },
    {
      "cell_type": "code",
      "source": [
        "weights , biases = hidden1.get_weights()"
      ],
      "metadata": {
        "id": "DvvTMi0shH8M"
      },
      "execution_count": null,
      "outputs": []
    },
    {
      "cell_type": "code",
      "source": [
        "weights.shape"
      ],
      "metadata": {
        "colab": {
          "base_uri": "https://localhost:8080/"
        },
        "id": "F8YBE_QIhTB-",
        "outputId": "5f656c75-14cd-4a12-b6a7-241f21284a17"
      },
      "execution_count": null,
      "outputs": [
        {
          "output_type": "execute_result",
          "data": {
            "text/plain": [
              "(784, 300)"
            ]
          },
          "metadata": {},
          "execution_count": 26
        }
      ]
    },
    {
      "cell_type": "code",
      "source": [
        "biases.shape"
      ],
      "metadata": {
        "colab": {
          "base_uri": "https://localhost:8080/"
        },
        "id": "pUPRpZvlhU-I",
        "outputId": "e8e7e0ca-b4b5-4c57-b9ba-552ad17888ba"
      },
      "execution_count": null,
      "outputs": [
        {
          "output_type": "execute_result",
          "data": {
            "text/plain": [
              "(300,)"
            ]
          },
          "metadata": {},
          "execution_count": 27
        }
      ]
    },
    {
      "cell_type": "code",
      "source": [
        "print(\"shape\\n\", weights.shape , \"\\n\")\n",
        "weights"
      ],
      "metadata": {
        "colab": {
          "base_uri": "https://localhost:8080/"
        },
        "id": "O8dXpsIZhXpR",
        "outputId": "e42c5fb7-83cd-4af6-f16d-0aee3dabc18a"
      },
      "execution_count": null,
      "outputs": [
        {
          "output_type": "stream",
          "name": "stdout",
          "text": [
            "shape\n",
            " (784, 300) \n",
            "\n"
          ]
        },
        {
          "output_type": "execute_result",
          "data": {
            "text/plain": [
              "array([[-0.02706445,  0.008449  , -0.00216915, ...,  0.00375528,\n",
              "         0.00289031,  0.015624  ],\n",
              "       [-0.05007026,  0.01866778,  0.01422723, ..., -0.07117337,\n",
              "         0.05407625,  0.03827194],\n",
              "       [-0.02788283,  0.00588689, -0.03605923, ..., -0.03875902,\n",
              "        -0.04797061,  0.0617747 ],\n",
              "       ...,\n",
              "       [ 0.02021299, -0.02306968,  0.05975901, ...,  0.06684083,\n",
              "         0.03077173, -0.06575311],\n",
              "       [ 0.06764114,  0.01295278,  0.05531406, ..., -0.03186565,\n",
              "        -0.04586965, -0.04947866],\n",
              "       [-0.03834825,  0.07302891,  0.04066589, ..., -0.00157434,\n",
              "        -0.01943976,  0.07424273]], dtype=float32)"
            ]
          },
          "metadata": {},
          "execution_count": 28
        }
      ]
    },
    {
      "cell_type": "code",
      "source": [
        "print(\"shape\\n\", biases.shape , \"\\n\")\n",
        "biases"
      ],
      "metadata": {
        "colab": {
          "base_uri": "https://localhost:8080/"
        },
        "id": "RHepVGAkhdsI",
        "outputId": "c2cf71e9-de3e-41ee-9fe8-6cf56c9cbecc"
      },
      "execution_count": null,
      "outputs": [
        {
          "output_type": "stream",
          "name": "stdout",
          "text": [
            "shape\n",
            " (300,) \n",
            "\n"
          ]
        },
        {
          "output_type": "execute_result",
          "data": {
            "text/plain": [
              "array([0., 0., 0., 0., 0., 0., 0., 0., 0., 0., 0., 0., 0., 0., 0., 0., 0.,\n",
              "       0., 0., 0., 0., 0., 0., 0., 0., 0., 0., 0., 0., 0., 0., 0., 0., 0.,\n",
              "       0., 0., 0., 0., 0., 0., 0., 0., 0., 0., 0., 0., 0., 0., 0., 0., 0.,\n",
              "       0., 0., 0., 0., 0., 0., 0., 0., 0., 0., 0., 0., 0., 0., 0., 0., 0.,\n",
              "       0., 0., 0., 0., 0., 0., 0., 0., 0., 0., 0., 0., 0., 0., 0., 0., 0.,\n",
              "       0., 0., 0., 0., 0., 0., 0., 0., 0., 0., 0., 0., 0., 0., 0., 0., 0.,\n",
              "       0., 0., 0., 0., 0., 0., 0., 0., 0., 0., 0., 0., 0., 0., 0., 0., 0.,\n",
              "       0., 0., 0., 0., 0., 0., 0., 0., 0., 0., 0., 0., 0., 0., 0., 0., 0.,\n",
              "       0., 0., 0., 0., 0., 0., 0., 0., 0., 0., 0., 0., 0., 0., 0., 0., 0.,\n",
              "       0., 0., 0., 0., 0., 0., 0., 0., 0., 0., 0., 0., 0., 0., 0., 0., 0.,\n",
              "       0., 0., 0., 0., 0., 0., 0., 0., 0., 0., 0., 0., 0., 0., 0., 0., 0.,\n",
              "       0., 0., 0., 0., 0., 0., 0., 0., 0., 0., 0., 0., 0., 0., 0., 0., 0.,\n",
              "       0., 0., 0., 0., 0., 0., 0., 0., 0., 0., 0., 0., 0., 0., 0., 0., 0.,\n",
              "       0., 0., 0., 0., 0., 0., 0., 0., 0., 0., 0., 0., 0., 0., 0., 0., 0.,\n",
              "       0., 0., 0., 0., 0., 0., 0., 0., 0., 0., 0., 0., 0., 0., 0., 0., 0.,\n",
              "       0., 0., 0., 0., 0., 0., 0., 0., 0., 0., 0., 0., 0., 0., 0., 0., 0.,\n",
              "       0., 0., 0., 0., 0., 0., 0., 0., 0., 0., 0., 0., 0., 0., 0., 0., 0.,\n",
              "       0., 0., 0., 0., 0., 0., 0., 0., 0., 0., 0.], dtype=float32)"
            ]
          },
          "metadata": {},
          "execution_count": 29
        }
      ]
    },
    {
      "cell_type": "code",
      "source": [
        "LOSS_FUNCTION = \"sparse_categorical_crossentropy\" # use => tf.losses.sparse_categorical_crossentropy\n",
        "OPTIMIZER = \"SGD\" # or use with custom learning rate => tf.keras.optimizers.SGD(0.02)\n",
        "METRICS = [\"accuracy\"]\n",
        "\n",
        "model_clf.compile(loss=LOSS_FUNCTION,\n",
        "                  optimizer=OPTIMIZER,\n",
        "                  metrics=METRICS)"
      ],
      "metadata": {
        "id": "Sg1yuMrQhv8o"
      },
      "execution_count": null,
      "outputs": []
    },
    {
      "cell_type": "code",
      "source": [
        "# training\n",
        "\n",
        "EPOCHS = 30\n",
        "VALIDATION_SET = (X_valid , y_valid)\n",
        "\n",
        "history = model_clf.fit(X_train , y_train , epochs = EPOCHS,\n",
        "                        validation_data= VALIDATION_SET , batch_size = 32)"
      ],
      "metadata": {
        "colab": {
          "base_uri": "https://localhost:8080/"
        },
        "id": "qQE-yPiOifWF",
        "outputId": "dfec7e99-8f94-4a56-b296-b9323e8ba00e"
      },
      "execution_count": null,
      "outputs": [
        {
          "output_type": "stream",
          "name": "stdout",
          "text": [
            "Epoch 1/30\n",
            "1719/1719 [==============================] - 6s 3ms/step - loss: 0.3480 - accuracy: 0.8985 - val_loss: 0.1654 - val_accuracy: 0.9558\n",
            "Epoch 2/30\n",
            "1719/1719 [==============================] - 5s 3ms/step - loss: 0.1637 - accuracy: 0.9523 - val_loss: 0.1215 - val_accuracy: 0.9646\n",
            "Epoch 3/30\n",
            "1719/1719 [==============================] - 5s 3ms/step - loss: 0.1214 - accuracy: 0.9647 - val_loss: 0.1017 - val_accuracy: 0.9696\n",
            "Epoch 4/30\n",
            "1719/1719 [==============================] - 5s 3ms/step - loss: 0.0982 - accuracy: 0.9716 - val_loss: 0.0906 - val_accuracy: 0.9724\n",
            "Epoch 5/30\n",
            "1719/1719 [==============================] - 5s 3ms/step - loss: 0.0798 - accuracy: 0.9765 - val_loss: 0.0857 - val_accuracy: 0.9730\n",
            "Epoch 6/30\n",
            "1719/1719 [==============================] - 5s 3ms/step - loss: 0.0675 - accuracy: 0.9805 - val_loss: 0.0791 - val_accuracy: 0.9740\n",
            "Epoch 7/30\n",
            "1719/1719 [==============================] - 5s 3ms/step - loss: 0.0579 - accuracy: 0.9831 - val_loss: 0.0779 - val_accuracy: 0.9754\n",
            "Epoch 8/30\n",
            "1719/1719 [==============================] - 6s 3ms/step - loss: 0.0497 - accuracy: 0.9859 - val_loss: 0.0757 - val_accuracy: 0.9766\n",
            "Epoch 9/30\n",
            "1719/1719 [==============================] - 5s 3ms/step - loss: 0.0426 - accuracy: 0.9884 - val_loss: 0.0720 - val_accuracy: 0.9772\n",
            "Epoch 10/30\n",
            "1719/1719 [==============================] - 5s 3ms/step - loss: 0.0376 - accuracy: 0.9900 - val_loss: 0.0703 - val_accuracy: 0.9782\n",
            "Epoch 11/30\n",
            "1719/1719 [==============================] - 5s 3ms/step - loss: 0.0332 - accuracy: 0.9909 - val_loss: 0.0714 - val_accuracy: 0.9776\n",
            "Epoch 12/30\n",
            "1719/1719 [==============================] - 4s 3ms/step - loss: 0.0278 - accuracy: 0.9928 - val_loss: 0.0690 - val_accuracy: 0.9790\n",
            "Epoch 13/30\n",
            "1719/1719 [==============================] - 6s 3ms/step - loss: 0.0260 - accuracy: 0.9930 - val_loss: 0.0675 - val_accuracy: 0.9798\n",
            "Epoch 14/30\n",
            "1719/1719 [==============================] - 5s 3ms/step - loss: 0.0232 - accuracy: 0.9943 - val_loss: 0.0686 - val_accuracy: 0.9790\n",
            "Epoch 15/30\n",
            "1719/1719 [==============================] - 5s 3ms/step - loss: 0.0210 - accuracy: 0.9947 - val_loss: 0.0702 - val_accuracy: 0.9788\n",
            "Epoch 16/30\n",
            "1719/1719 [==============================] - 5s 3ms/step - loss: 0.0190 - accuracy: 0.9957 - val_loss: 0.0692 - val_accuracy: 0.9802\n",
            "Epoch 17/30\n",
            "1719/1719 [==============================] - 5s 3ms/step - loss: 0.0169 - accuracy: 0.9961 - val_loss: 0.0695 - val_accuracy: 0.9786\n",
            "Epoch 18/30\n",
            "1719/1719 [==============================] - 5s 3ms/step - loss: 0.0148 - accuracy: 0.9967 - val_loss: 0.0693 - val_accuracy: 0.9792\n",
            "Epoch 19/30\n",
            "1719/1719 [==============================] - 5s 3ms/step - loss: 0.0139 - accuracy: 0.9971 - val_loss: 0.0683 - val_accuracy: 0.9782\n",
            "Epoch 20/30\n",
            "1719/1719 [==============================] - 6s 3ms/step - loss: 0.0128 - accuracy: 0.9973 - val_loss: 0.0663 - val_accuracy: 0.9790\n",
            "Epoch 21/30\n",
            "1719/1719 [==============================] - 5s 3ms/step - loss: 0.0123 - accuracy: 0.9975 - val_loss: 0.0674 - val_accuracy: 0.9806\n",
            "Epoch 22/30\n",
            "1719/1719 [==============================] - 5s 3ms/step - loss: 0.0116 - accuracy: 0.9974 - val_loss: 0.0680 - val_accuracy: 0.9820\n",
            "Epoch 23/30\n",
            "1719/1719 [==============================] - 5s 3ms/step - loss: 0.0104 - accuracy: 0.9980 - val_loss: 0.0673 - val_accuracy: 0.9804\n",
            "Epoch 24/30\n",
            "1719/1719 [==============================] - 5s 3ms/step - loss: 0.0098 - accuracy: 0.9981 - val_loss: 0.0688 - val_accuracy: 0.9812\n",
            "Epoch 25/30\n",
            "1719/1719 [==============================] - 5s 3ms/step - loss: 0.0088 - accuracy: 0.9983 - val_loss: 0.0673 - val_accuracy: 0.9806\n",
            "Epoch 26/30\n",
            "1719/1719 [==============================] - 5s 3ms/step - loss: 0.0084 - accuracy: 0.9985 - val_loss: 0.0664 - val_accuracy: 0.9806\n",
            "Epoch 27/30\n",
            "1719/1719 [==============================] - 5s 3ms/step - loss: 0.0084 - accuracy: 0.9981 - val_loss: 0.0684 - val_accuracy: 0.9810\n",
            "Epoch 28/30\n",
            "1719/1719 [==============================] - 5s 3ms/step - loss: 0.0079 - accuracy: 0.9986 - val_loss: 0.0694 - val_accuracy: 0.9808\n",
            "Epoch 29/30\n",
            "1719/1719 [==============================] - 5s 3ms/step - loss: 0.0062 - accuracy: 0.9992 - val_loss: 0.0679 - val_accuracy: 0.9812\n",
            "Epoch 30/30\n",
            "1719/1719 [==============================] - 5s 3ms/step - loss: 0.0068 - accuracy: 0.9988 - val_loss: 0.0684 - val_accuracy: 0.9816\n"
          ]
        }
      ]
    },
    {
      "cell_type": "code",
      "source": [
        "history.params"
      ],
      "metadata": {
        "colab": {
          "base_uri": "https://localhost:8080/"
        },
        "id": "QjMS4CaIjITg",
        "outputId": "d72b5d0b-d0c7-4758-8539-cea09d0fc959"
      },
      "execution_count": null,
      "outputs": [
        {
          "output_type": "execute_result",
          "data": {
            "text/plain": [
              "{'verbose': 1, 'epochs': 30, 'steps': 1719}"
            ]
          },
          "metadata": {},
          "execution_count": 32
        }
      ]
    },
    {
      "cell_type": "code",
      "source": [
        "pd.DataFrame(history.history)"
      ],
      "metadata": {
        "colab": {
          "base_uri": "https://localhost:8080/",
          "height": 990
        },
        "id": "BMyFR6lskrri",
        "outputId": "ec123d96-29f6-410d-edae-2e76b390abc3"
      },
      "execution_count": null,
      "outputs": [
        {
          "output_type": "execute_result",
          "data": {
            "text/plain": [
              "        loss  accuracy  val_loss  val_accuracy\n",
              "0   0.348021  0.898509  0.165420        0.9558\n",
              "1   0.163749  0.952327  0.121459        0.9646\n",
              "2   0.121389  0.964655  0.101670        0.9696\n",
              "3   0.098173  0.971564  0.090580        0.9724\n",
              "4   0.079800  0.976509  0.085679        0.9730\n",
              "5   0.067516  0.980455  0.079073        0.9740\n",
              "6   0.057860  0.983145  0.077949        0.9754\n",
              "7   0.049676  0.985873  0.075689        0.9766\n",
              "8   0.042638  0.988418  0.072046        0.9772\n",
              "9   0.037649  0.990000  0.070253        0.9782\n",
              "10  0.033203  0.990873  0.071401        0.9776\n",
              "11  0.027808  0.992800  0.068970        0.9790\n",
              "12  0.026037  0.993036  0.067491        0.9798\n",
              "13  0.023238  0.994255  0.068635        0.9790\n",
              "14  0.021013  0.994655  0.070190        0.9788\n",
              "15  0.019007  0.995655  0.069243        0.9802\n",
              "16  0.016887  0.996127  0.069487        0.9786\n",
              "17  0.014821  0.996727  0.069336        0.9792\n",
              "18  0.013897  0.997127  0.068310        0.9782\n",
              "19  0.012836  0.997327  0.066289        0.9790\n",
              "20  0.012308  0.997491  0.067369        0.9806\n",
              "21  0.011643  0.997400  0.068016        0.9820\n",
              "22  0.010436  0.998036  0.067315        0.9804\n",
              "23  0.009848  0.998055  0.068758        0.9812\n",
              "24  0.008806  0.998273  0.067259        0.9806\n",
              "25  0.008414  0.998473  0.066354        0.9806\n",
              "26  0.008363  0.998145  0.068417        0.9810\n",
              "27  0.007949  0.998618  0.069375        0.9808\n",
              "28  0.006200  0.999218  0.067858        0.9812\n",
              "29  0.006843  0.998782  0.068390        0.9816"
            ],
            "text/html": [
              "\n",
              "  <div id=\"df-f5c7e78a-d4bd-4334-b5c5-61a1c327ddec\">\n",
              "    <div class=\"colab-df-container\">\n",
              "      <div>\n",
              "<style scoped>\n",
              "    .dataframe tbody tr th:only-of-type {\n",
              "        vertical-align: middle;\n",
              "    }\n",
              "\n",
              "    .dataframe tbody tr th {\n",
              "        vertical-align: top;\n",
              "    }\n",
              "\n",
              "    .dataframe thead th {\n",
              "        text-align: right;\n",
              "    }\n",
              "</style>\n",
              "<table border=\"1\" class=\"dataframe\">\n",
              "  <thead>\n",
              "    <tr style=\"text-align: right;\">\n",
              "      <th></th>\n",
              "      <th>loss</th>\n",
              "      <th>accuracy</th>\n",
              "      <th>val_loss</th>\n",
              "      <th>val_accuracy</th>\n",
              "    </tr>\n",
              "  </thead>\n",
              "  <tbody>\n",
              "    <tr>\n",
              "      <th>0</th>\n",
              "      <td>0.348021</td>\n",
              "      <td>0.898509</td>\n",
              "      <td>0.165420</td>\n",
              "      <td>0.9558</td>\n",
              "    </tr>\n",
              "    <tr>\n",
              "      <th>1</th>\n",
              "      <td>0.163749</td>\n",
              "      <td>0.952327</td>\n",
              "      <td>0.121459</td>\n",
              "      <td>0.9646</td>\n",
              "    </tr>\n",
              "    <tr>\n",
              "      <th>2</th>\n",
              "      <td>0.121389</td>\n",
              "      <td>0.964655</td>\n",
              "      <td>0.101670</td>\n",
              "      <td>0.9696</td>\n",
              "    </tr>\n",
              "    <tr>\n",
              "      <th>3</th>\n",
              "      <td>0.098173</td>\n",
              "      <td>0.971564</td>\n",
              "      <td>0.090580</td>\n",
              "      <td>0.9724</td>\n",
              "    </tr>\n",
              "    <tr>\n",
              "      <th>4</th>\n",
              "      <td>0.079800</td>\n",
              "      <td>0.976509</td>\n",
              "      <td>0.085679</td>\n",
              "      <td>0.9730</td>\n",
              "    </tr>\n",
              "    <tr>\n",
              "      <th>5</th>\n",
              "      <td>0.067516</td>\n",
              "      <td>0.980455</td>\n",
              "      <td>0.079073</td>\n",
              "      <td>0.9740</td>\n",
              "    </tr>\n",
              "    <tr>\n",
              "      <th>6</th>\n",
              "      <td>0.057860</td>\n",
              "      <td>0.983145</td>\n",
              "      <td>0.077949</td>\n",
              "      <td>0.9754</td>\n",
              "    </tr>\n",
              "    <tr>\n",
              "      <th>7</th>\n",
              "      <td>0.049676</td>\n",
              "      <td>0.985873</td>\n",
              "      <td>0.075689</td>\n",
              "      <td>0.9766</td>\n",
              "    </tr>\n",
              "    <tr>\n",
              "      <th>8</th>\n",
              "      <td>0.042638</td>\n",
              "      <td>0.988418</td>\n",
              "      <td>0.072046</td>\n",
              "      <td>0.9772</td>\n",
              "    </tr>\n",
              "    <tr>\n",
              "      <th>9</th>\n",
              "      <td>0.037649</td>\n",
              "      <td>0.990000</td>\n",
              "      <td>0.070253</td>\n",
              "      <td>0.9782</td>\n",
              "    </tr>\n",
              "    <tr>\n",
              "      <th>10</th>\n",
              "      <td>0.033203</td>\n",
              "      <td>0.990873</td>\n",
              "      <td>0.071401</td>\n",
              "      <td>0.9776</td>\n",
              "    </tr>\n",
              "    <tr>\n",
              "      <th>11</th>\n",
              "      <td>0.027808</td>\n",
              "      <td>0.992800</td>\n",
              "      <td>0.068970</td>\n",
              "      <td>0.9790</td>\n",
              "    </tr>\n",
              "    <tr>\n",
              "      <th>12</th>\n",
              "      <td>0.026037</td>\n",
              "      <td>0.993036</td>\n",
              "      <td>0.067491</td>\n",
              "      <td>0.9798</td>\n",
              "    </tr>\n",
              "    <tr>\n",
              "      <th>13</th>\n",
              "      <td>0.023238</td>\n",
              "      <td>0.994255</td>\n",
              "      <td>0.068635</td>\n",
              "      <td>0.9790</td>\n",
              "    </tr>\n",
              "    <tr>\n",
              "      <th>14</th>\n",
              "      <td>0.021013</td>\n",
              "      <td>0.994655</td>\n",
              "      <td>0.070190</td>\n",
              "      <td>0.9788</td>\n",
              "    </tr>\n",
              "    <tr>\n",
              "      <th>15</th>\n",
              "      <td>0.019007</td>\n",
              "      <td>0.995655</td>\n",
              "      <td>0.069243</td>\n",
              "      <td>0.9802</td>\n",
              "    </tr>\n",
              "    <tr>\n",
              "      <th>16</th>\n",
              "      <td>0.016887</td>\n",
              "      <td>0.996127</td>\n",
              "      <td>0.069487</td>\n",
              "      <td>0.9786</td>\n",
              "    </tr>\n",
              "    <tr>\n",
              "      <th>17</th>\n",
              "      <td>0.014821</td>\n",
              "      <td>0.996727</td>\n",
              "      <td>0.069336</td>\n",
              "      <td>0.9792</td>\n",
              "    </tr>\n",
              "    <tr>\n",
              "      <th>18</th>\n",
              "      <td>0.013897</td>\n",
              "      <td>0.997127</td>\n",
              "      <td>0.068310</td>\n",
              "      <td>0.9782</td>\n",
              "    </tr>\n",
              "    <tr>\n",
              "      <th>19</th>\n",
              "      <td>0.012836</td>\n",
              "      <td>0.997327</td>\n",
              "      <td>0.066289</td>\n",
              "      <td>0.9790</td>\n",
              "    </tr>\n",
              "    <tr>\n",
              "      <th>20</th>\n",
              "      <td>0.012308</td>\n",
              "      <td>0.997491</td>\n",
              "      <td>0.067369</td>\n",
              "      <td>0.9806</td>\n",
              "    </tr>\n",
              "    <tr>\n",
              "      <th>21</th>\n",
              "      <td>0.011643</td>\n",
              "      <td>0.997400</td>\n",
              "      <td>0.068016</td>\n",
              "      <td>0.9820</td>\n",
              "    </tr>\n",
              "    <tr>\n",
              "      <th>22</th>\n",
              "      <td>0.010436</td>\n",
              "      <td>0.998036</td>\n",
              "      <td>0.067315</td>\n",
              "      <td>0.9804</td>\n",
              "    </tr>\n",
              "    <tr>\n",
              "      <th>23</th>\n",
              "      <td>0.009848</td>\n",
              "      <td>0.998055</td>\n",
              "      <td>0.068758</td>\n",
              "      <td>0.9812</td>\n",
              "    </tr>\n",
              "    <tr>\n",
              "      <th>24</th>\n",
              "      <td>0.008806</td>\n",
              "      <td>0.998273</td>\n",
              "      <td>0.067259</td>\n",
              "      <td>0.9806</td>\n",
              "    </tr>\n",
              "    <tr>\n",
              "      <th>25</th>\n",
              "      <td>0.008414</td>\n",
              "      <td>0.998473</td>\n",
              "      <td>0.066354</td>\n",
              "      <td>0.9806</td>\n",
              "    </tr>\n",
              "    <tr>\n",
              "      <th>26</th>\n",
              "      <td>0.008363</td>\n",
              "      <td>0.998145</td>\n",
              "      <td>0.068417</td>\n",
              "      <td>0.9810</td>\n",
              "    </tr>\n",
              "    <tr>\n",
              "      <th>27</th>\n",
              "      <td>0.007949</td>\n",
              "      <td>0.998618</td>\n",
              "      <td>0.069375</td>\n",
              "      <td>0.9808</td>\n",
              "    </tr>\n",
              "    <tr>\n",
              "      <th>28</th>\n",
              "      <td>0.006200</td>\n",
              "      <td>0.999218</td>\n",
              "      <td>0.067858</td>\n",
              "      <td>0.9812</td>\n",
              "    </tr>\n",
              "    <tr>\n",
              "      <th>29</th>\n",
              "      <td>0.006843</td>\n",
              "      <td>0.998782</td>\n",
              "      <td>0.068390</td>\n",
              "      <td>0.9816</td>\n",
              "    </tr>\n",
              "  </tbody>\n",
              "</table>\n",
              "</div>\n",
              "      <button class=\"colab-df-convert\" onclick=\"convertToInteractive('df-f5c7e78a-d4bd-4334-b5c5-61a1c327ddec')\"\n",
              "              title=\"Convert this dataframe to an interactive table.\"\n",
              "              style=\"display:none;\">\n",
              "        \n",
              "  <svg xmlns=\"http://www.w3.org/2000/svg\" height=\"24px\"viewBox=\"0 0 24 24\"\n",
              "       width=\"24px\">\n",
              "    <path d=\"M0 0h24v24H0V0z\" fill=\"none\"/>\n",
              "    <path d=\"M18.56 5.44l.94 2.06.94-2.06 2.06-.94-2.06-.94-.94-2.06-.94 2.06-2.06.94zm-11 1L8.5 8.5l.94-2.06 2.06-.94-2.06-.94L8.5 2.5l-.94 2.06-2.06.94zm10 10l.94 2.06.94-2.06 2.06-.94-2.06-.94-.94-2.06-.94 2.06-2.06.94z\"/><path d=\"M17.41 7.96l-1.37-1.37c-.4-.4-.92-.59-1.43-.59-.52 0-1.04.2-1.43.59L10.3 9.45l-7.72 7.72c-.78.78-.78 2.05 0 2.83L4 21.41c.39.39.9.59 1.41.59.51 0 1.02-.2 1.41-.59l7.78-7.78 2.81-2.81c.8-.78.8-2.07 0-2.86zM5.41 20L4 18.59l7.72-7.72 1.47 1.35L5.41 20z\"/>\n",
              "  </svg>\n",
              "      </button>\n",
              "      \n",
              "  <style>\n",
              "    .colab-df-container {\n",
              "      display:flex;\n",
              "      flex-wrap:wrap;\n",
              "      gap: 12px;\n",
              "    }\n",
              "\n",
              "    .colab-df-convert {\n",
              "      background-color: #E8F0FE;\n",
              "      border: none;\n",
              "      border-radius: 50%;\n",
              "      cursor: pointer;\n",
              "      display: none;\n",
              "      fill: #1967D2;\n",
              "      height: 32px;\n",
              "      padding: 0 0 0 0;\n",
              "      width: 32px;\n",
              "    }\n",
              "\n",
              "    .colab-df-convert:hover {\n",
              "      background-color: #E2EBFA;\n",
              "      box-shadow: 0px 1px 2px rgba(60, 64, 67, 0.3), 0px 1px 3px 1px rgba(60, 64, 67, 0.15);\n",
              "      fill: #174EA6;\n",
              "    }\n",
              "\n",
              "    [theme=dark] .colab-df-convert {\n",
              "      background-color: #3B4455;\n",
              "      fill: #D2E3FC;\n",
              "    }\n",
              "\n",
              "    [theme=dark] .colab-df-convert:hover {\n",
              "      background-color: #434B5C;\n",
              "      box-shadow: 0px 1px 3px 1px rgba(0, 0, 0, 0.15);\n",
              "      filter: drop-shadow(0px 1px 2px rgba(0, 0, 0, 0.3));\n",
              "      fill: #FFFFFF;\n",
              "    }\n",
              "  </style>\n",
              "\n",
              "      <script>\n",
              "        const buttonEl =\n",
              "          document.querySelector('#df-f5c7e78a-d4bd-4334-b5c5-61a1c327ddec button.colab-df-convert');\n",
              "        buttonEl.style.display =\n",
              "          google.colab.kernel.accessAllowed ? 'block' : 'none';\n",
              "\n",
              "        async function convertToInteractive(key) {\n",
              "          const element = document.querySelector('#df-f5c7e78a-d4bd-4334-b5c5-61a1c327ddec');\n",
              "          const dataTable =\n",
              "            await google.colab.kernel.invokeFunction('convertToInteractive',\n",
              "                                                     [key], {});\n",
              "          if (!dataTable) return;\n",
              "\n",
              "          const docLinkHtml = 'Like what you see? Visit the ' +\n",
              "            '<a target=\"_blank\" href=https://colab.research.google.com/notebooks/data_table.ipynb>data table notebook</a>'\n",
              "            + ' to learn more about interactive tables.';\n",
              "          element.innerHTML = '';\n",
              "          dataTable['output_type'] = 'display_data';\n",
              "          await google.colab.output.renderOutput(dataTable, element);\n",
              "          const docLink = document.createElement('div');\n",
              "          docLink.innerHTML = docLinkHtml;\n",
              "          element.appendChild(docLink);\n",
              "        }\n",
              "      </script>\n",
              "    </div>\n",
              "  </div>\n",
              "  "
            ]
          },
          "metadata": {},
          "execution_count": 33
        }
      ]
    },
    {
      "cell_type": "code",
      "source": [
        "pd.DataFrame(history.history).plot()"
      ],
      "metadata": {
        "colab": {
          "base_uri": "https://localhost:8080/",
          "height": 447
        },
        "id": "8NDui3Ulkybg",
        "outputId": "4ea73a1c-3fdc-4f6e-9bab-80b8d73ac15c"
      },
      "execution_count": null,
      "outputs": [
        {
          "output_type": "execute_result",
          "data": {
            "text/plain": [
              "<Axes: >"
            ]
          },
          "metadata": {},
          "execution_count": 34
        },
        {
          "output_type": "display_data",
          "data": {
            "text/plain": [
              "<Figure size 640x480 with 1 Axes>"
            ],
            "image/png": "[encoded data removed]"
          },
          "metadata": {}
        }
      ]
    },
    {
      "cell_type": "code",
      "source": [
        "model_clf.evaluate(X_test,y_test)"
      ],
      "metadata": {
        "colab": {
          "base_uri": "https://localhost:8080/"
        },
        "id": "GP06HS3TlTWI",
        "outputId": "e2aca77e-df51-44cf-c3d2-8aeccaf63d34"
      },
      "execution_count": null,
      "outputs": [
        {
          "output_type": "stream",
          "name": "stdout",
          "text": [
            "313/313 [==============================] - 1s 2ms/step - loss: 0.0731 - accuracy: 0.9812\n"
          ]
        },
        {
          "output_type": "execute_result",
          "data": {
            "text/plain": [
              "[0.07305523008108139, 0.9811999797821045]"
            ]
          },
          "metadata": {},
          "execution_count": 35
        }
      ]
    },
    {
      "cell_type": "markdown",
      "source": [
        "# SAMPLE CHECK - TEST DATA"
      ],
      "metadata": {
        "id": "nOfd677wlu0c"
      }
    },
    {
      "cell_type": "code",
      "source": [
        "X_new  = X_test[:3]\n",
        "X_new"
      ],
      "metadata": {
        "colab": {
          "base_uri": "https://localhost:8080/"
        },
        "id": "y34zIrb2lrr9",
        "outputId": "6d10c574-9052-431a-cb87-2575179867bc"
      },
      "execution_count": null,
      "outputs": [
        {
          "output_type": "execute_result",
          "data": {
            "text/plain": [
              "array([[[0., 0., 0., ..., 0., 0., 0.],\n",
              "        [0., 0., 0., ..., 0., 0., 0.],\n",
              "        [0., 0., 0., ..., 0., 0., 0.],\n",
              "        ...,\n",
              "        [0., 0., 0., ..., 0., 0., 0.],\n",
              "        [0., 0., 0., ..., 0., 0., 0.],\n",
              "        [0., 0., 0., ..., 0., 0., 0.]],\n",
              "\n",
              "       [[0., 0., 0., ..., 0., 0., 0.],\n",
              "        [0., 0., 0., ..., 0., 0., 0.],\n",
              "        [0., 0., 0., ..., 0., 0., 0.],\n",
              "        ...,\n",
              "        [0., 0., 0., ..., 0., 0., 0.],\n",
              "        [0., 0., 0., ..., 0., 0., 0.],\n",
              "        [0., 0., 0., ..., 0., 0., 0.]],\n",
              "\n",
              "       [[0., 0., 0., ..., 0., 0., 0.],\n",
              "        [0., 0., 0., ..., 0., 0., 0.],\n",
              "        [0., 0., 0., ..., 0., 0., 0.],\n",
              "        ...,\n",
              "        [0., 0., 0., ..., 0., 0., 0.],\n",
              "        [0., 0., 0., ..., 0., 0., 0.],\n",
              "        [0., 0., 0., ..., 0., 0., 0.]]])"
            ]
          },
          "metadata": {},
          "execution_count": 36
        }
      ]
    },
    {
      "cell_type": "code",
      "source": [
        "actual = y_test[:3]\n",
        "actual"
      ],
      "metadata": {
        "colab": {
          "base_uri": "https://localhost:8080/"
        },
        "id": "tkFBNVtgl15m",
        "outputId": "428eb456-960e-410a-f60f-77df72c229cc"
      },
      "execution_count": null,
      "outputs": [
        {
          "output_type": "execute_result",
          "data": {
            "text/plain": [
              "array([7, 2, 1], dtype=uint8)"
            ]
          },
          "metadata": {},
          "execution_count": 37
        }
      ]
    },
    {
      "cell_type": "code",
      "source": [
        "plt.figure(figsize=(8,8))\n",
        "sns.heatmap(X_test[2] , annot = True  ,cmap = 'binary')"
      ],
      "metadata": {
        "colab": {
          "base_uri": "https://localhost:8080/",
          "height": 702
        },
        "id": "6huOQW-fl8Vj",
        "outputId": "1e1bd87c-7afe-481a-a8fd-42b559aca8a6"
      },
      "execution_count": null,
      "outputs": [
        {
          "output_type": "execute_result",
          "data": {
            "text/plain": [
              "<Axes: >"
            ]
          },
          "metadata": {},
          "execution_count": 38
        },
        {
          "output_type": "display_data",
          "data": {
            "text/plain": [
              "<Figure size 800x800 with 2 Axes>"
            ],
            "image/png": "[encoded data removed]"
          },
          "metadata": {}
        }
      ]
    },
    {
      "cell_type": "code",
      "source": [
        "y_prob = model_clf.predict(X_new)\n",
        "y_prob.round(2)"
      ],
      "metadata": {
        "colab": {
          "base_uri": "https://localhost:8080/"
        },
        "id": "JO6nLeWTmM5n",
        "outputId": "e5db29c7-9dff-490a-cd33-26e325925280"
      },
      "execution_count": null,
      "outputs": [
        {
          "output_type": "stream",
          "name": "stdout",
          "text": [
            "1/1 [==============================] - 0s 72ms/step\n"
          ]
        },
        {
          "output_type": "execute_result",
          "data": {
            "text/plain": [
              "array([[0., 0., 0., 0., 0., 0., 0., 1., 0., 0.],\n",
              "       [0., 0., 1., 0., 0., 0., 0., 0., 0., 0.],\n",
              "       [0., 1., 0., 0., 0., 0., 0., 0., 0., 0.]], dtype=float32)"
            ]
          },
          "metadata": {},
          "execution_count": 39
        }
      ]
    },
    {
      "cell_type": "code",
      "source": [
        "y_prob"
      ],
      "metadata": {
        "colab": {
          "base_uri": "https://localhost:8080/"
        },
        "id": "iQBEBIVPmh8H",
        "outputId": "280bd146-9634-4d48-bb96-f9fae60833a6"
      },
      "execution_count": null,
      "outputs": [
        {
          "output_type": "execute_result",
          "data": {
            "text/plain": [
              "array([[9.38250741e-05, 1.41920373e-05, 3.38170248e-05, 1.89397048e-04,\n",
              "        3.42032322e-08, 1.35471746e-05, 1.20137083e-05, 9.99613702e-01,\n",
              "        1.25021003e-07, 2.94433466e-05],\n",
              "       [6.84790029e-06, 9.24418928e-05, 9.99897599e-01, 1.44952833e-06,\n",
              "        7.12158821e-09, 3.76691617e-07, 8.88132945e-07, 1.13784315e-10,\n",
              "        3.86131319e-07, 2.85424653e-11],\n",
              "       [4.51988058e-07, 9.99973774e-01, 2.74448325e-07, 2.99548262e-08,\n",
              "        1.40259408e-05, 9.52061782e-07, 3.27990688e-06, 2.62244453e-06,\n",
              "        4.56470889e-06, 8.81353728e-08]], dtype=float32)"
            ]
          },
          "metadata": {},
          "execution_count": 40
        }
      ]
    },
    {
      "cell_type": "code",
      "source": [
        "y_pred = np.argmax(y_prob , axis = -1)"
      ],
      "metadata": {
        "id": "tRd5ZGEqmvmD"
      },
      "execution_count": null,
      "outputs": []
    },
    {
      "cell_type": "code",
      "source": [
        "y_pred"
      ],
      "metadata": {
        "colab": {
          "base_uri": "https://localhost:8080/"
        },
        "id": "zOtOvAe3nOdL",
        "outputId": "0804d372-7cb6-4b60-d801-7de2931f8f2d"
      },
      "execution_count": null,
      "outputs": [
        {
          "output_type": "execute_result",
          "data": {
            "text/plain": [
              "array([7, 2, 1])"
            ]
          },
          "metadata": {},
          "execution_count": 42
        }
      ]
    },
    {
      "cell_type": "code",
      "source": [
        "actual"
      ],
      "metadata": {
        "colab": {
          "base_uri": "https://localhost:8080/"
        },
        "id": "g-5rzLLjnQI7",
        "outputId": "13653db5-1810-45db-cf07-54d74369d52c"
      },
      "execution_count": null,
      "outputs": [
        {
          "output_type": "execute_result",
          "data": {
            "text/plain": [
              "array([7, 2, 1], dtype=uint8)"
            ]
          },
          "metadata": {},
          "execution_count": 43
        }
      ]
    },
    {
      "cell_type": "code",
      "source": [
        "# plot\n",
        "for data , pred , actual_data in zip(X_new , y_pred , actual):\n",
        "  plt.imshow(data,cmap='binary')\n",
        "  plt.title(f\"Predicted {pred} and Actual {actual_data}\")\n",
        "  plt.axis('off')\n",
        "  plt.show()\n",
        "  print(\"#\"*50)"
      ],
      "metadata": {
        "colab": {
          "base_uri": "https://localhost:8080/",
          "height": 1000
        },
        "id": "XcDG0Hmtn0Wv",
        "outputId": "f37a7452-cf50-4e6d-8b72-7c3a9b28e47e"
      },
      "execution_count": null,
      "outputs": [
        {
          "output_type": "display_data",
          "data": {
            "text/plain": [
              "<Figure size 640x480 with 1 Axes>"
            ],
            "image/png": "[encoded data removed]"
          },
          "metadata": {}
        },
        {
          "output_type": "stream",
          "name": "stdout",
          "text": [
            "##################################################\n"
          ]
        },
        {
          "output_type": "display_data",
          "data": {
            "text/plain": [
              "<Figure size 640x480 with 1 Axes>"
            ],
            "image/png": "[encoded data removed]"
          },
          "metadata": {}
        },
        {
          "output_type": "stream",
          "name": "stdout",
          "text": [
            "##################################################\n"
          ]
        },
        {
          "output_type": "display_data",
          "data": {
            "text/plain": [
              "<Figure size 640x480 with 1 Axes>"
            ],
            "image/png": "[encoded data removed]"
          },
          "metadata": {}
        },
        {
          "output_type": "stream",
          "name": "stdout",
          "text": [
            "##################################################\n"
          ]
        }
      ]
    },
    {
      "cell_type": "code",
      "source": [
        "#METHOD - 2 with regularization and dropout"
      ],
      "metadata": {
        "id": "oamem-815giL"
      },
      "execution_count": 25,
      "outputs": []
    },
    {
      "cell_type": "code",
      "source": [
        "from keras.api._v2.keras.layers import Dropout\n",
        "from keras.models import Sequential\n",
        "from keras.layers import Dense , Flatten\n",
        "from tensorflow.keras import regularizers\n",
        "from tensorflow.keras.layers import Dropout\n",
        "\n",
        "#define the model \n",
        "model = Sequential()\n",
        "model.add(Flatten(input_shape = [28,28] , name = 'inputLayer'))\n",
        "model.add(Dense(units=64 , activation='relu',kernel_regularizer= regularizers.l2(1e-4))) #lasso regularization\n",
        "model.add(Dropout(0.2))\n",
        "model.add(Dense(units=32 , activation='relu',kernel_regularizer= regularizers.L1L2(l1=1e-5,l2=1e-4))) #elastic net regularization\n",
        "model.add(Dropout(0.2))\n",
        "model.add(Dense(units=10 , activation='softmax'))"
      ],
      "metadata": {
        "id": "V8mF5WdX5kw_"
      },
      "execution_count": 26,
      "outputs": []
    },
    {
      "cell_type": "code",
      "source": [
        "model.summary()"
      ],
      "metadata": {
        "colab": {
          "base_uri": "https://localhost:8080/"
        },
        "id": "2iuobNzd61o1",
        "outputId": "3f47a8da-02b9-4055-c8f6-40b230d66b1b"
      },
      "execution_count": 27,
      "outputs": [
        {
          "output_type": "stream",
          "name": "stdout",
          "text": [
            "Model: \"sequential_3\"\n",
            "_________________________________________________________________\n",
            " Layer (type)                Output Shape              Param #   \n",
            "=================================================================\n",
            " inputLayer (Flatten)        (None, 784)               0         \n",
            "                                                                 \n",
            " dense_9 (Dense)             (None, 64)                50240     \n",
            "                                                                 \n",
            " dropout_4 (Dropout)         (None, 64)                0         \n",
            "                                                                 \n",
            " dense_10 (Dense)            (None, 32)                2080      \n",
            "                                                                 \n",
            " dropout_5 (Dropout)         (None, 32)                0         \n",
            "                                                                 \n",
            " dense_11 (Dense)            (None, 10)                330       \n",
            "                                                                 \n",
            "=================================================================\n",
            "Total params: 52,650\n",
            "Trainable params: 52,650\n",
            "Non-trainable params: 0\n",
            "_________________________________________________________________\n"
          ]
        }
      ]
    },
    {
      "cell_type": "code",
      "source": [
        "LOSS_FUNCTION = \"sparse_categorical_crossentropy\" # use => tf.losses.sparse_categorical_crossentropy\n",
        "OPTIMIZER = \"SGD\" # or use with custom learning rate => tf.keras.optimizers.SGD(0.02)\n",
        "METRICS = [\"accuracy\"]\n",
        "\n",
        "model.compile(loss=LOSS_FUNCTION,\n",
        "                  optimizer=OPTIMIZER,\n",
        "                  metrics=METRICS)"
      ],
      "metadata": {
        "id": "k2uWOHJ_-Uy9"
      },
      "execution_count": 28,
      "outputs": []
    },
    {
      "cell_type": "code",
      "source": [
        "# training\n",
        "\n",
        "EPOCHS = 30\n",
        "VALIDATION_SET = (X_valid , y_valid)\n",
        "\n",
        "history = model.fit(X_train , y_train , epochs = EPOCHS,\n",
        "                        validation_data= VALIDATION_SET , batch_size = 32)"
      ],
      "metadata": {
        "colab": {
          "base_uri": "https://localhost:8080/"
        },
        "outputId": "f657ba70-e5c9-400e-e308-134aeb16b8bd",
        "id": "BM6kca6x-UzO"
      },
      "execution_count": 29,
      "outputs": [
        {
          "output_type": "stream",
          "name": "stdout",
          "text": [
            "Epoch 1/30\n",
            "1719/1719 [==============================] - 5s 3ms/step - loss: 1.0887 - accuracy: 0.6572 - val_loss: 0.4441 - val_accuracy: 0.8898\n",
            "Epoch 2/30\n",
            "1719/1719 [==============================] - 5s 3ms/step - loss: 0.5597 - accuracy: 0.8352 - val_loss: 0.3371 - val_accuracy: 0.9110\n",
            "Epoch 3/30\n",
            "1719/1719 [==============================] - 4s 2ms/step - loss: 0.4572 - accuracy: 0.8688 - val_loss: 0.2821 - val_accuracy: 0.9250\n",
            "Epoch 4/30\n",
            "1719/1719 [==============================] - 4s 2ms/step - loss: 0.4032 - accuracy: 0.8874 - val_loss: 0.2502 - val_accuracy: 0.9336\n",
            "Epoch 5/30\n",
            "1719/1719 [==============================] - 5s 3ms/step - loss: 0.3695 - accuracy: 0.8974 - val_loss: 0.2282 - val_accuracy: 0.9432\n",
            "Epoch 6/30\n",
            "1719/1719 [==============================] - 4s 2ms/step - loss: 0.3402 - accuracy: 0.9075 - val_loss: 0.2118 - val_accuracy: 0.9486\n",
            "Epoch 7/30\n",
            "1719/1719 [==============================] - 4s 2ms/step - loss: 0.3187 - accuracy: 0.9132 - val_loss: 0.1994 - val_accuracy: 0.9490\n",
            "Epoch 8/30\n",
            "1719/1719 [==============================] - 5s 3ms/step - loss: 0.3012 - accuracy: 0.9184 - val_loss: 0.1885 - val_accuracy: 0.9528\n",
            "Epoch 9/30\n",
            "1719/1719 [==============================] - 4s 2ms/step - loss: 0.2865 - accuracy: 0.9235 - val_loss: 0.1784 - val_accuracy: 0.9568\n",
            "Epoch 10/30\n",
            "1719/1719 [==============================] - 4s 2ms/step - loss: 0.2752 - accuracy: 0.9265 - val_loss: 0.1735 - val_accuracy: 0.9564\n",
            "Epoch 11/30\n",
            "1719/1719 [==============================] - 5s 3ms/step - loss: 0.2628 - accuracy: 0.9310 - val_loss: 0.1664 - val_accuracy: 0.9586\n",
            "Epoch 12/30\n",
            "1719/1719 [==============================] - 4s 2ms/step - loss: 0.2517 - accuracy: 0.9326 - val_loss: 0.1614 - val_accuracy: 0.9596\n",
            "Epoch 13/30\n",
            "1719/1719 [==============================] - 4s 2ms/step - loss: 0.2474 - accuracy: 0.9347 - val_loss: 0.1574 - val_accuracy: 0.9614\n",
            "Epoch 14/30\n",
            "1719/1719 [==============================] - 5s 3ms/step - loss: 0.2396 - accuracy: 0.9373 - val_loss: 0.1513 - val_accuracy: 0.9638\n",
            "Epoch 15/30\n",
            "1719/1719 [==============================] - 4s 2ms/step - loss: 0.2301 - accuracy: 0.9401 - val_loss: 0.1480 - val_accuracy: 0.9658\n",
            "Epoch 16/30\n",
            "1719/1719 [==============================] - 4s 2ms/step - loss: 0.2250 - accuracy: 0.9411 - val_loss: 0.1455 - val_accuracy: 0.9664\n",
            "Epoch 17/30\n",
            "1719/1719 [==============================] - 5s 3ms/step - loss: 0.2201 - accuracy: 0.9435 - val_loss: 0.1439 - val_accuracy: 0.9648\n",
            "Epoch 18/30\n",
            "1719/1719 [==============================] - 4s 2ms/step - loss: 0.2146 - accuracy: 0.9432 - val_loss: 0.1400 - val_accuracy: 0.9664\n",
            "Epoch 19/30\n",
            "1719/1719 [==============================] - 5s 3ms/step - loss: 0.2094 - accuracy: 0.9456 - val_loss: 0.1400 - val_accuracy: 0.9674\n",
            "Epoch 20/30\n",
            "1719/1719 [==============================] - 5s 3ms/step - loss: 0.2069 - accuracy: 0.9463 - val_loss: 0.1367 - val_accuracy: 0.9674\n",
            "Epoch 21/30\n",
            "1719/1719 [==============================] - 4s 2ms/step - loss: 0.1979 - accuracy: 0.9503 - val_loss: 0.1360 - val_accuracy: 0.9698\n",
            "Epoch 22/30\n",
            "1719/1719 [==============================] - 5s 3ms/step - loss: 0.1966 - accuracy: 0.9492 - val_loss: 0.1348 - val_accuracy: 0.9696\n",
            "Epoch 23/30\n",
            "1719/1719 [==============================] - 4s 3ms/step - loss: 0.1960 - accuracy: 0.9496 - val_loss: 0.1330 - val_accuracy: 0.9686\n",
            "Epoch 24/30\n",
            "1719/1719 [==============================] - 4s 2ms/step - loss: 0.1874 - accuracy: 0.9524 - val_loss: 0.1324 - val_accuracy: 0.9686\n",
            "Epoch 25/30\n",
            "1719/1719 [==============================] - 5s 3ms/step - loss: 0.1868 - accuracy: 0.9528 - val_loss: 0.1293 - val_accuracy: 0.9714\n",
            "Epoch 26/30\n",
            "1719/1719 [==============================] - 4s 2ms/step - loss: 0.1831 - accuracy: 0.9532 - val_loss: 0.1302 - val_accuracy: 0.9704\n",
            "Epoch 27/30\n",
            "1719/1719 [==============================] - 4s 2ms/step - loss: 0.1813 - accuracy: 0.9539 - val_loss: 0.1298 - val_accuracy: 0.9702\n",
            "Epoch 28/30\n",
            "1719/1719 [==============================] - 5s 3ms/step - loss: 0.1781 - accuracy: 0.9555 - val_loss: 0.1281 - val_accuracy: 0.9708\n",
            "Epoch 29/30\n",
            "1719/1719 [==============================] - 4s 2ms/step - loss: 0.1733 - accuracy: 0.9563 - val_loss: 0.1275 - val_accuracy: 0.9718\n",
            "Epoch 30/30\n",
            "1719/1719 [==============================] - 4s 2ms/step - loss: 0.1751 - accuracy: 0.9563 - val_loss: 0.1283 - val_accuracy: 0.9708\n"
          ]
        }
      ]
    },
    {
      "cell_type": "code",
      "source": [],
      "metadata": {
        "id": "H8hUgZwj-Yyx"
      },
      "execution_count": null,
      "outputs": []
    }
  ]
}