{
  "nbformat": 4,
  "nbformat_minor": 0,
  "metadata": {
    "colab": {
      "provenance": [],
      "authorship_tag": "ABX9TyNu57mshMEnDjsDiA4Agkqr",
      "include_colab_link": true
    },
    "kernelspec": {
      "name": "python3",
      "display_name": "Python 3"
    },
    "language_info": {
      "name": "python"
    }
  },
  "cells": [
    {
      "cell_type": "markdown",
      "metadata": {
        "id": "view-in-github",
        "colab_type": "text"
      },
      "source": [
        "<a href=\"https://colab.research.google.com/github/tejas05in/pwskills-Data_Science_Masters/blob/master/Deep_Learning/assignments/25_May_Batch_Normalization.ipynb\" target=\"_parent\"><img src=\"https://colab.research.google.com/assets/colab-badge.svg\" alt=\"Open In Colab\"/></a>"
      ]
    },
    {
      "cell_type": "markdown",
      "source": [
        "# **`BATCH NORMALIZATION`**"
      ],
      "metadata": {
        "id": "leHmAUhuLKrL"
      }
    },
    {
      "cell_type": "markdown",
      "source": [
        "Q1. Theory and Concepts\n"
      ],
      "metadata": {
        "id": "sIGsATMaLSVV"
      }
    },
    {
      "cell_type": "markdown",
      "source": [
        "1. Explain the concept of batch normalization in the context of Artificial Neural Networks."
      ],
      "metadata": {
        "id": "yHy62c7ULffc"
      }
    },
    {
      "cell_type": "markdown",
      "source": [
        "Batch normalization is a technique used in Artificial Neural Networks (ANNs) to improve the training and performance of deep learning models. It aims to address the problem of internal covariate shift, which refers to the change in the distribution of intermediate layer activations during training.\n",
        "\n",
        "In ANNs, each layer's inputs are dependent on the parameters of the previous layers, causing the distributions of the inputs to change as the network learns. This shift in distributions can make the learning process more challenging, as each layer must continually adapt to the changing input distribution.\n",
        "\n",
        "Batch normalization helps to alleviate this issue by normalizing the inputs of each layer. It operates on a mini-batch of training examples within a neural network. Here's a high-level overview of how batch normalization works:\n",
        "\n",
        "1. Normalization: For each mini-batch of training examples, the mean and standard deviation of the batch are computed.\n",
        "2. Standardization: The inputs of the mini-batch are normalized by subtracting the mean and dividing by the standard deviation. This step centers the inputs around zero and scales them to have unit variance.\n",
        "3. Scaling and shifting: The normalized inputs are then multiplied by a learnable scaling parameter (gamma) and added to a learnable shifting parameter (beta). These parameters allow the network to learn the optimal scale and shift for each normalized input.\n",
        "\n",
        "By normalizing the inputs, batch normalization helps to reduce the internal covariate shift. This has several advantages:\n",
        "\n",
        "1. Improved training speed: Normalizing the inputs of each layer helps to stabilize the learning process, allowing for faster convergence. It reduces the likelihood of vanishing or exploding gradients, which are common issues in deep networks.\n",
        "2. Increased learning rate: With batch normalization, higher learning rates can be used, as the normalization step helps to keep the activations within a reasonable range.\n",
        "3. Regularization effect: Batch normalization adds a slight amount of noise to the network during training, similar to dropout regularization. This noise acts as a regularizer and can help prevent overfitting.\n",
        "4. Reduces the sensitivity to network initialization: Batch normalization makes ANNs less sensitive to the choice of initial weights and biases, which can simplify the process of network initialization.\n",
        "\n",
        "It's worth noting that during the inference or evaluation phase, batch normalization operates slightly differently. Instead of normalizing the inputs based on the mini-batch statistics, it uses the aggregated statistics (mean and variance) collected during training. This ensures consistency and allows the network to generalize well to unseen examples.\n",
        "\n",
        "Overall, batch normalization has become a standard technique in deep learning due to its ability to improve training stability, convergence speed, and generalization performance."
      ],
      "metadata": {
        "id": "VauMuL7rLm51"
      }
    },
    {
      "cell_type": "markdown",
      "source": [
        "2. Describe the benefits of using batch normalization during training."
      ],
      "metadata": {
        "id": "0h-VNDKiMI3w"
      }
    },
    {
      "cell_type": "markdown",
      "source": [
        "Using batch normalization during training offers several benefits, which contribute to improved training stability and faster convergence of neural networks. Here are the main advantages:\n",
        "\n",
        "1. **Reduced internal covariate shift**: Batch normalization addresses the problem of internal covariate shift by normalizing the inputs of each layer. This helps to stabilize the distributions of intermediate layer activations during training. By reducing the shift in distributions, batch normalization enables more stable and consistent learning throughout the network.\n",
        "\n",
        "2. **Improved gradient flow**: Deep neural networks are prone to the vanishing or exploding gradient problem, which hinders the training process. Batch normalization helps mitigate these issues by normalizing the inputs to each layer. By keeping the activations within a reasonable range (zero mean and unit variance), batch normalization ensures that gradients flow more smoothly through the network, enabling better weight updates.\n",
        "\n",
        "3. **Higher learning rates**: With batch normalization, higher learning rates can be used without the risk of divergence. Normalizing the inputs makes them less sensitive to the choice of learning rate. This allows for faster convergence and reduces the overall training time.\n",
        "\n",
        "4. **Regularization effect**: Batch normalization adds a slight amount of noise to the network during training. This noise acts as a regularizer, similar to techniques like dropout. It helps to reduce overfitting by adding robustness and preventing the network from relying too heavily on specific features or patterns in the data.\n",
        "\n",
        "5. **Reduced dependence on weight initialization**: The performance of deep networks can be highly dependent on the initial weights and biases. However, batch normalization reduces this sensitivity to initialization. By normalizing the inputs, batch normalization makes the network less sensitive to the initial parameter values. This simplifies the process of network initialization and allows for more straightforward hyperparameter tuning.\n",
        "\n",
        "6. **Generalization improvement**: Batch normalization has been observed to improve the generalization performance of neural networks. By normalizing the inputs and reducing the internal covariate shift, batch normalization encourages the network to learn more robust and transferable features. This can lead to better performance on unseen examples and improved generalization to new data."
      ],
      "metadata": {
        "id": "IyVUxI9wMbdY"
      }
    },
    {
      "cell_type": "markdown",
      "source": [
        "3 Discuss the working principle of batch normalization, including the normalization step and the learnable\n",
        "parameters."
      ],
      "metadata": {
        "id": "YXm1JUj5NVlE"
      }
    },
    {
      "cell_type": "markdown",
      "source": [
        "Certainly! The working principle of batch normalization involves two main steps: normalization and the use of learnable parameters. Let's break down each step:\n",
        "\n",
        "1. **Normalization Step**: The normalization step in batch normalization aims to transform the inputs of each layer to have zero mean and unit variance, within a mini-batch of training examples. Here's how it works:\n",
        "\n",
        "   a. **Compute batch statistics**: For each mini-batch during training, the mean (μ) and standard deviation (σ) of the batch are calculated by averaging the values across all the examples in the mini-batch.\n",
        "\n",
        "   b. **Normalize the inputs**: The inputs of the mini-batch are then normalized by subtracting the mean and dividing by the standard deviation. This step ensures that the inputs are centered around zero (mean) and have a unit standard deviation.\n",
        "\n",
        "   c. **Scale and shift**: After normalization, the normalized inputs are rescaled and shifted using learnable parameters. This step introduces flexibility into the normalization process and allows the network to learn the optimal scale and shift for each normalized input.\n",
        "\n",
        "2. **Learnable Parameters**: Batch normalization introduces two learnable parameters per feature dimension, which are responsible for scaling and shifting the normalized inputs. These parameters are:\n",
        "\n",
        "   a. **Scaling parameter (gamma)**: The scaling parameter, denoted as γ, is a learnable parameter associated with each feature dimension. It is applied to the normalized inputs and controls the scale or magnitude of the activations.\n",
        "\n",
        "   b. **Shifting parameter (beta)**: The shifting parameter, denoted as β, is another learnable parameter associated with each feature dimension. It is added to the scaled and normalized inputs, allowing the network to learn the optimal shift or bias.\n",
        "\n",
        "   These parameters, γ and β, are initialized with values of 1 and 0, respectively, and are updated during training using backpropagation, just like any other trainable parameter in the network.\n",
        "\n",
        "During the forward pass, the batch normalization layer takes the mini-batch of inputs, calculates the mean and standard deviation, normalizes the inputs, and applies the scaling and shifting using the learnable parameters. The resulting normalized and transformed inputs are then passed to the next layer in the network.\n",
        "\n",
        "It's important to note that during the inference or evaluation phase, the normalization step operates slightly differently. Instead of using the batch statistics, the aggregated statistics (mean and variance) collected during training are used to normalize the inputs. This ensures consistency and allows the network to generalize well to unseen examples.\n",
        "\n",
        "In summary, batch normalization works by normalizing the inputs of each layer within a mini-batch using the mean and standard deviation. It then applies learnable scaling and shifting parameters to the normalized inputs, allowing the network to learn the optimal scale and shift for each feature dimension. This normalization step helps to address the problem of internal covariate shift and leads to improved training stability and faster convergence of neural networks."
      ],
      "metadata": {
        "id": "tU8gWsmcNYW3"
      }
    },
    {
      "cell_type": "markdown",
      "source": [
        "**Q2. Impementation : using MINST dataset**"
      ],
      "metadata": {
        "id": "7b-pKKpnOwtA"
      }
    },
    {
      "cell_type": "code",
      "source": [
        "# Importing Libraries\n",
        "import tensorflow as tf\n",
        "import matplotlib.pyplot as plt\n",
        "import numpy as np\n",
        "import pandas as pd\n",
        "import seaborn as sns\n",
        "import os"
      ],
      "metadata": {
        "id": "_q1Y02XkMMzs"
      },
      "execution_count": 2,
      "outputs": []
    },
    {
      "cell_type": "code",
      "source": [
        "#checking version of tensorflow and keras\n",
        "print(f\"Tensorflow Version {tf.__version__}\")\n",
        "print(f\"Keras Version {tf.keras.__version__}\")"
      ],
      "metadata": {
        "colab": {
          "base_uri": "https://localhost:8080/"
        },
        "id": "ABziIxpEO-ql",
        "outputId": "37bb0875-8804-4000-8ff2-fe9693a55c20"
      },
      "execution_count": 3,
      "outputs": [
        {
          "output_type": "stream",
          "name": "stdout",
          "text": [
            "Tensorflow Version 2.12.0\n",
            "Keras Version 2.12.0\n"
          ]
        }
      ]
    },
    {
      "cell_type": "code",
      "source": [
        "os.getcwd()"
      ],
      "metadata": {
        "colab": {
          "base_uri": "https://localhost:8080/",
          "height": 36
        },
        "id": "TsX0KmDVPEhe",
        "outputId": "d7dc7156-034b-470c-f288-3ab9ace23182"
      },
      "execution_count": 4,
      "outputs": [
        {
          "output_type": "execute_result",
          "data": {
            "text/plain": [
              "'/content'"
            ],
            "application/vnd.google.colaboratory.intrinsic+json": {
              "type": "string"
            }
          },
          "metadata": {},
          "execution_count": 4
        }
      ]
    },
    {
      "cell_type": "markdown",
      "source": [
        "# Creating a simple classifier using keras on MNIST data"
      ],
      "metadata": {
        "id": "6Ds2zrBUPKYS"
      }
    },
    {
      "cell_type": "code",
      "source": [
        "mnist = tf.keras.datasets.mnist"
      ],
      "metadata": {
        "id": "20WOSi-JPG8T"
      },
      "execution_count": 5,
      "outputs": []
    },
    {
      "cell_type": "code",
      "source": [
        "mnist"
      ],
      "metadata": {
        "colab": {
          "base_uri": "https://localhost:8080/"
        },
        "id": "SC8wCw3fPavw",
        "outputId": "3305fc21-c324-47eb-f075-1053e7bb426d"
      },
      "execution_count": 6,
      "outputs": [
        {
          "output_type": "execute_result",
          "data": {
            "text/plain": [
              "<module 'keras.api._v2.keras.datasets.mnist' from '/usr/local/lib/python3.10/dist-packages/keras/api/_v2/keras/datasets/mnist/__init__.py'>"
            ]
          },
          "metadata": {},
          "execution_count": 6
        }
      ]
    },
    {
      "cell_type": "code",
      "source": [
        "(X_train_full, y_train_full) , (X_test , y_test) = mnist.load_data()"
      ],
      "metadata": {
        "colab": {
          "base_uri": "https://localhost:8080/"
        },
        "id": "Ex4GgOQoPdi1",
        "outputId": "55cac1b1-eb68-4c9f-f4f3-245b0b912c32"
      },
      "execution_count": 7,
      "outputs": [
        {
          "output_type": "stream",
          "name": "stdout",
          "text": [
            "Downloading data from https://storage.googleapis.com/tensorflow/tf-keras-datasets/mnist.npz\n",
            "11490434/11490434 [==============================] - 0s 0us/step\n"
          ]
        }
      ]
    },
    {
      "cell_type": "code",
      "source": [
        "print(X_train_full.shape)\n",
        "print(X_test.shape)\n",
        "print(X_train_full[0].shape)"
      ],
      "metadata": {
        "colab": {
          "base_uri": "https://localhost:8080/"
        },
        "id": "y6YQ-AXVPj5P",
        "outputId": "5a7c1a40-f62d-480d-9ab3-aa2b0813facf"
      },
      "execution_count": 10,
      "outputs": [
        {
          "output_type": "stream",
          "name": "stdout",
          "text": [
            "(60000, 28, 28)\n",
            "(10000, 28, 28)\n",
            "(28, 28)\n"
          ]
        }
      ]
    },
    {
      "cell_type": "code",
      "source": [
        "# create a validation data set from the full training data\n",
        "# Scale the data between 0 to 1 by dividing it by 255 as its an unsigned data between 0-255 range\n",
        "X_valid , X_train = X_train_full[:5000] / 255.,X_train_full[5000:]/255.\n",
        "y_valid , y_train = y_train_full[:5000],y_train_full[5000:]\n",
        "\n",
        "#scale the test set as well\n",
        "X_test = X_test / 255."
      ],
      "metadata": {
        "id": "LN5pPNTXPvsD"
      },
      "execution_count": 11,
      "outputs": []
    },
    {
      "cell_type": "code",
      "source": [
        "print(X_train.shape)\n",
        "print(X_valid.shape)\n",
        "print(X_test.shape)"
      ],
      "metadata": {
        "colab": {
          "base_uri": "https://localhost:8080/"
        },
        "id": "JKTNtWwjQL4a",
        "outputId": "c99904d4-6f8c-41a0-89fc-555ed6b66fec"
      },
      "execution_count": 12,
      "outputs": [
        {
          "output_type": "stream",
          "name": "stdout",
          "text": [
            "(55000, 28, 28)\n",
            "(5000, 28, 28)\n",
            "(10000, 28, 28)\n"
          ]
        }
      ]
    },
    {
      "cell_type": "code",
      "source": [
        "# viewing the first data\n",
        "plt.figure(figsize = (15,15))\n",
        "sns.heatmap(X_train[0],annot = True , cmap = 'binary')"
      ],
      "metadata": {
        "colab": {
          "base_uri": "https://localhost:8080/",
          "height": 1000
        },
        "id": "i-qv99uCQSsN",
        "outputId": "b3854895-e555-46c6-c09a-666b73d3a87a"
      },
      "execution_count": 13,
      "outputs": [
        {
          "output_type": "execute_result",
          "data": {
            "text/plain": [
              "<Axes: >"
            ]
          },
          "metadata": {},
          "execution_count": 13
        },
        {
          "output_type": "display_data",
          "data": {
            "text/plain": [
              "<Figure size 1500x1500 with 2 Axes>"
            ],
            "image/png": "[encoded data removed]"
          },
          "metadata": {}
        }
      ]
    },
    {
      "cell_type": "code",
      "source": [
        "#input layer shape\n",
        "28*28"
      ],
      "metadata": {
        "colab": {
          "base_uri": "https://localhost:8080/"
        },
        "id": "5hNvTSWjQiMQ",
        "outputId": "fd3978f3-2415-46c0-a9fe-1deef2b9364a"
      },
      "execution_count": 15,
      "outputs": [
        {
          "output_type": "execute_result",
          "data": {
            "text/plain": [
              "784"
            ]
          },
          "metadata": {},
          "execution_count": 15
        }
      ]
    },
    {
      "cell_type": "markdown",
      "source": [
        "simple feedforward neural network without batch normalization"
      ],
      "metadata": {
        "id": "JXMH28XIQ6Ag"
      }
    },
    {
      "cell_type": "code",
      "source": [
        "# Creating layers of ANN\n",
        "LAYERS = [tf.keras.layers.Flatten(input_shape=[28,28], name = 'inputLayer'),\n",
        "          tf.keras.layers.Dense(300 , activation = 'relu' , name = \"hiddenLayer1\"),\n",
        "          tf.keras.layers.Dense(100 , activation = \"relu\" , name = 'hiddenLayer2'),\n",
        "          tf.keras.layers.Dense(10, activation = \"softmax\" , name = \"outputLayer\")]\n",
        "model_clf = tf.keras.models.Sequential(LAYERS)"
      ],
      "metadata": {
        "id": "Zs_c59KGQo2-"
      },
      "execution_count": 16,
      "outputs": []
    },
    {
      "cell_type": "code",
      "source": [
        "model_clf.summary()"
      ],
      "metadata": {
        "colab": {
          "base_uri": "https://localhost:8080/"
        },
        "id": "Yb_wj43hRAU1",
        "outputId": "952dba84-9e03-4b12-bb09-5d0629a942ac"
      },
      "execution_count": 17,
      "outputs": [
        {
          "output_type": "stream",
          "name": "stdout",
          "text": [
            "Model: \"sequential\"\n",
            "_________________________________________________________________\n",
            " Layer (type)                Output Shape              Param #   \n",
            "=================================================================\n",
            " inputLayer (Flatten)        (None, 784)               0         \n",
            "                                                                 \n",
            " hiddenLayer1 (Dense)        (None, 300)               235500    \n",
            "                                                                 \n",
            " hiddenLayer2 (Dense)        (None, 100)               30100     \n",
            "                                                                 \n",
            " outputLayer (Dense)         (None, 10)                1010      \n",
            "                                                                 \n",
            "=================================================================\n",
            "Total params: 266,610\n",
            "Trainable params: 266,610\n",
            "Non-trainable params: 0\n",
            "_________________________________________________________________\n"
          ]
        }
      ]
    },
    {
      "cell_type": "code",
      "source": [
        "LOSS_FUNCTION = \"sparse_categorical_crossentropy\"\n",
        "OPTIMIZER = \"SGD\"\n",
        "METRICS = [\"accuracy\"]\n",
        "\n",
        "model_clf.compile(loss=LOSS_FUNCTION,\n",
        "                  optimizer=OPTIMIZER,\n",
        "                  metrics=METRICS)"
      ],
      "metadata": {
        "id": "7bJT0clbRFMq"
      },
      "execution_count": 18,
      "outputs": []
    },
    {
      "cell_type": "code",
      "source": [
        "# training\n",
        "\n",
        "EPOCHS = 30\n",
        "VALIDATION_SET = (X_valid , y_valid)\n",
        "\n",
        "history = model_clf.fit(X_train , y_train , epochs = EPOCHS,\n",
        "                        validation_data= VALIDATION_SET , batch_size = 32)"
      ],
      "metadata": {
        "colab": {
          "base_uri": "https://localhost:8080/"
        },
        "id": "HlX3skmZRTeR",
        "outputId": "20d65426-3905-4da8-c695-2c9a0bbbfdde"
      },
      "execution_count": 19,
      "outputs": [
        {
          "output_type": "stream",
          "name": "stdout",
          "text": [
            "Epoch 1/30\n",
            "1719/1719 [==============================] - 11s 6ms/step - loss: 0.6176 - accuracy: 0.8430 - val_loss: 0.3004 - val_accuracy: 0.9184\n",
            "Epoch 2/30\n",
            "1719/1719 [==============================] - 10s 6ms/step - loss: 0.2863 - accuracy: 0.9193 - val_loss: 0.2341 - val_accuracy: 0.9342\n",
            "Epoch 3/30\n",
            "1719/1719 [==============================] - 9s 5ms/step - loss: 0.2336 - accuracy: 0.9340 - val_loss: 0.2008 - val_accuracy: 0.9438\n",
            "Epoch 4/30\n",
            "1719/1719 [==============================] - 9s 5ms/step - loss: 0.1993 - accuracy: 0.9445 - val_loss: 0.1761 - val_accuracy: 0.9522\n",
            "Epoch 5/30\n",
            "1719/1719 [==============================] - 10s 6ms/step - loss: 0.1733 - accuracy: 0.9509 - val_loss: 0.1526 - val_accuracy: 0.9578\n",
            "Epoch 6/30\n",
            "1719/1719 [==============================] - 10s 6ms/step - loss: 0.1533 - accuracy: 0.9566 - val_loss: 0.1401 - val_accuracy: 0.9608\n",
            "Epoch 7/30\n",
            "1719/1719 [==============================] - 9s 5ms/step - loss: 0.1366 - accuracy: 0.9615 - val_loss: 0.1285 - val_accuracy: 0.9638\n",
            "Epoch 8/30\n",
            "1719/1719 [==============================] - 10s 6ms/step - loss: 0.1233 - accuracy: 0.9651 - val_loss: 0.1211 - val_accuracy: 0.9666\n",
            "Epoch 9/30\n",
            "1719/1719 [==============================] - 11s 6ms/step - loss: 0.1125 - accuracy: 0.9678 - val_loss: 0.1120 - val_accuracy: 0.9684\n",
            "Epoch 10/30\n",
            "1719/1719 [==============================] - 10s 6ms/step - loss: 0.1026 - accuracy: 0.9709 - val_loss: 0.1035 - val_accuracy: 0.9704\n",
            "Epoch 11/30\n",
            "1719/1719 [==============================] - 8s 5ms/step - loss: 0.0942 - accuracy: 0.9734 - val_loss: 0.0997 - val_accuracy: 0.9714\n",
            "Epoch 12/30\n",
            "1719/1719 [==============================] - 10s 6ms/step - loss: 0.0869 - accuracy: 0.9756 - val_loss: 0.0951 - val_accuracy: 0.9710\n",
            "Epoch 13/30\n",
            "1719/1719 [==============================] - 10s 6ms/step - loss: 0.0803 - accuracy: 0.9777 - val_loss: 0.0891 - val_accuracy: 0.9744\n",
            "Epoch 14/30\n",
            "1719/1719 [==============================] - 10s 6ms/step - loss: 0.0747 - accuracy: 0.9797 - val_loss: 0.0888 - val_accuracy: 0.9726\n",
            "Epoch 15/30\n",
            "1719/1719 [==============================] - 9s 5ms/step - loss: 0.0693 - accuracy: 0.9811 - val_loss: 0.0836 - val_accuracy: 0.9742\n",
            "Epoch 16/30\n",
            "1719/1719 [==============================] - 10s 6ms/step - loss: 0.0644 - accuracy: 0.9824 - val_loss: 0.0815 - val_accuracy: 0.9762\n",
            "Epoch 17/30\n",
            "1719/1719 [==============================] - 10s 6ms/step - loss: 0.0602 - accuracy: 0.9833 - val_loss: 0.0786 - val_accuracy: 0.9756\n",
            "Epoch 18/30\n",
            "1719/1719 [==============================] - 10s 6ms/step - loss: 0.0560 - accuracy: 0.9846 - val_loss: 0.0759 - val_accuracy: 0.9756\n",
            "Epoch 19/30\n",
            "1719/1719 [==============================] - 8s 5ms/step - loss: 0.0527 - accuracy: 0.9855 - val_loss: 0.0764 - val_accuracy: 0.9770\n",
            "Epoch 20/30\n",
            "1719/1719 [==============================] - 9s 5ms/step - loss: 0.0493 - accuracy: 0.9870 - val_loss: 0.0741 - val_accuracy: 0.9762\n",
            "Epoch 21/30\n",
            "1719/1719 [==============================] - 10s 6ms/step - loss: 0.0463 - accuracy: 0.9877 - val_loss: 0.0714 - val_accuracy: 0.9770\n",
            "Epoch 22/30\n",
            "1719/1719 [==============================] - 9s 5ms/step - loss: 0.0435 - accuracy: 0.9886 - val_loss: 0.0699 - val_accuracy: 0.9764\n",
            "Epoch 23/30\n",
            "1719/1719 [==============================] - 9s 5ms/step - loss: 0.0408 - accuracy: 0.9894 - val_loss: 0.0685 - val_accuracy: 0.9794\n",
            "Epoch 24/30\n",
            "1719/1719 [==============================] - 9s 5ms/step - loss: 0.0384 - accuracy: 0.9903 - val_loss: 0.0692 - val_accuracy: 0.9780\n",
            "Epoch 25/30\n",
            "1719/1719 [==============================] - 10s 6ms/step - loss: 0.0365 - accuracy: 0.9908 - val_loss: 0.0675 - val_accuracy: 0.9784\n",
            "Epoch 26/30\n",
            "1719/1719 [==============================] - 8s 5ms/step - loss: 0.0342 - accuracy: 0.9919 - val_loss: 0.0678 - val_accuracy: 0.9792\n",
            "Epoch 27/30\n",
            "1719/1719 [==============================] - 10s 6ms/step - loss: 0.0322 - accuracy: 0.9925 - val_loss: 0.0672 - val_accuracy: 0.9794\n",
            "Epoch 28/30\n",
            "1719/1719 [==============================] - 10s 6ms/step - loss: 0.0303 - accuracy: 0.9931 - val_loss: 0.0673 - val_accuracy: 0.9782\n",
            "Epoch 29/30\n",
            "1719/1719 [==============================] - 9s 5ms/step - loss: 0.0288 - accuracy: 0.9936 - val_loss: 0.0656 - val_accuracy: 0.9790\n",
            "Epoch 30/30\n",
            "1719/1719 [==============================] - 9s 5ms/step - loss: 0.0272 - accuracy: 0.9940 - val_loss: 0.0643 - val_accuracy: 0.9798\n"
          ]
        }
      ]
    },
    {
      "cell_type": "code",
      "source": [
        "pd.DataFrame(history.history)"
      ],
      "metadata": {
        "colab": {
          "base_uri": "https://localhost:8080/",
          "height": 990
        },
        "id": "4zoWZl1-RbJs",
        "outputId": "924299e3-ea15-4ded-ff39-c5513f6a180a"
      },
      "execution_count": 20,
      "outputs": [
        {
          "output_type": "execute_result",
          "data": {
            "text/plain": [
              "        loss  accuracy  val_loss  val_accuracy\n",
              "0   0.617562  0.843000  0.300375        0.9184\n",
              "1   0.286348  0.919273  0.234077        0.9342\n",
              "2   0.233571  0.933982  0.200770        0.9438\n",
              "3   0.199348  0.944455  0.176052        0.9522\n",
              "4   0.173349  0.950855  0.152601        0.9578\n",
              "5   0.153349  0.956582  0.140140        0.9608\n",
              "6   0.136563  0.961455  0.128510        0.9638\n",
              "7   0.123285  0.965145  0.121078        0.9666\n",
              "8   0.112536  0.967836  0.112013        0.9684\n",
              "9   0.102619  0.970855  0.103501        0.9704\n",
              "10  0.094166  0.973418  0.099726        0.9714\n",
              "11  0.086858  0.975636  0.095086        0.9710\n",
              "12  0.080292  0.977727  0.089056        0.9744\n",
              "13  0.074657  0.979655  0.088755        0.9726\n",
              "14  0.069318  0.981109  0.083556        0.9742\n",
              "15  0.064419  0.982418  0.081525        0.9762\n",
              "16  0.060216  0.983327  0.078601        0.9756\n",
              "17  0.056000  0.984636  0.075929        0.9756\n",
              "18  0.052745  0.985527  0.076449        0.9770\n",
              "19  0.049285  0.987000  0.074062        0.9762\n",
              "20  0.046272  0.987691  0.071371        0.9770\n",
              "21  0.043512  0.988636  0.069870        0.9764\n",
              "22  0.040796  0.989382  0.068460        0.9794\n",
              "23  0.038353  0.990327  0.069201        0.9780\n",
              "24  0.036529  0.990836  0.067490        0.9784\n",
              "25  0.034230  0.991927  0.067775        0.9792\n",
              "26  0.032163  0.992455  0.067248        0.9794\n",
              "27  0.030336  0.993091  0.067337        0.9782\n",
              "28  0.028789  0.993582  0.065580        0.9790\n",
              "29  0.027220  0.994036  0.064325        0.9798"
            ],
            "text/html": [
              "\n",
              "  <div id=\"df-ac959baa-9c52-4fcc-ba0a-6ebe703594d7\">\n",
              "    <div class=\"colab-df-container\">\n",
              "      <div>\n",
              "<style scoped>\n",
              "    .dataframe tbody tr th:only-of-type {\n",
              "        vertical-align: middle;\n",
              "    }\n",
              "\n",
              "    .dataframe tbody tr th {\n",
              "        vertical-align: top;\n",
              "    }\n",
              "\n",
              "    .dataframe thead th {\n",
              "        text-align: right;\n",
              "    }\n",
              "</style>\n",
              "<table border=\"1\" class=\"dataframe\">\n",
              "  <thead>\n",
              "    <tr style=\"text-align: right;\">\n",
              "      <th></th>\n",
              "      <th>loss</th>\n",
              "      <th>accuracy</th>\n",
              "      <th>val_loss</th>\n",
              "      <th>val_accuracy</th>\n",
              "    </tr>\n",
              "  </thead>\n",
              "  <tbody>\n",
              "    <tr>\n",
              "      <th>0</th>\n",
              "      <td>0.617562</td>\n",
              "      <td>0.843000</td>\n",
              "      <td>0.300375</td>\n",
              "      <td>0.9184</td>\n",
              "    </tr>\n",
              "    <tr>\n",
              "      <th>1</th>\n",
              "      <td>0.286348</td>\n",
              "      <td>0.919273</td>\n",
              "      <td>0.234077</td>\n",
              "      <td>0.9342</td>\n",
              "    </tr>\n",
              "    <tr>\n",
              "      <th>2</th>\n",
              "      <td>0.233571</td>\n",
              "      <td>0.933982</td>\n",
              "      <td>0.200770</td>\n",
              "      <td>0.9438</td>\n",
              "    </tr>\n",
              "    <tr>\n",
              "      <th>3</th>\n",
              "      <td>0.199348</td>\n",
              "      <td>0.944455</td>\n",
              "      <td>0.176052</td>\n",
              "      <td>0.9522</td>\n",
              "    </tr>\n",
              "    <tr>\n",
              "      <th>4</th>\n",
              "      <td>0.173349</td>\n",
              "      <td>0.950855</td>\n",
              "      <td>0.152601</td>\n",
              "      <td>0.9578</td>\n",
              "    </tr>\n",
              "    <tr>\n",
              "      <th>5</th>\n",
              "      <td>0.153349</td>\n",
              "      <td>0.956582</td>\n",
              "      <td>0.140140</td>\n",
              "      <td>0.9608</td>\n",
              "    </tr>\n",
              "    <tr>\n",
              "      <th>6</th>\n",
              "      <td>0.136563</td>\n",
              "      <td>0.961455</td>\n",
              "      <td>0.128510</td>\n",
              "      <td>0.9638</td>\n",
              "    </tr>\n",
              "    <tr>\n",
              "      <th>7</th>\n",
              "      <td>0.123285</td>\n",
              "      <td>0.965145</td>\n",
              "      <td>0.121078</td>\n",
              "      <td>0.9666</td>\n",
              "    </tr>\n",
              "    <tr>\n",
              "      <th>8</th>\n",
              "      <td>0.112536</td>\n",
              "      <td>0.967836</td>\n",
              "      <td>0.112013</td>\n",
              "      <td>0.9684</td>\n",
              "    </tr>\n",
              "    <tr>\n",
              "      <th>9</th>\n",
              "      <td>0.102619</td>\n",
              "      <td>0.970855</td>\n",
              "      <td>0.103501</td>\n",
              "      <td>0.9704</td>\n",
              "    </tr>\n",
              "    <tr>\n",
              "      <th>10</th>\n",
              "      <td>0.094166</td>\n",
              "      <td>0.973418</td>\n",
              "      <td>0.099726</td>\n",
              "      <td>0.9714</td>\n",
              "    </tr>\n",
              "    <tr>\n",
              "      <th>11</th>\n",
              "      <td>0.086858</td>\n",
              "      <td>0.975636</td>\n",
              "      <td>0.095086</td>\n",
              "      <td>0.9710</td>\n",
              "    </tr>\n",
              "    <tr>\n",
              "      <th>12</th>\n",
              "      <td>0.080292</td>\n",
              "      <td>0.977727</td>\n",
              "      <td>0.089056</td>\n",
              "      <td>0.9744</td>\n",
              "    </tr>\n",
              "    <tr>\n",
              "      <th>13</th>\n",
              "      <td>0.074657</td>\n",
              "      <td>0.979655</td>\n",
              "      <td>0.088755</td>\n",
              "      <td>0.9726</td>\n",
              "    </tr>\n",
              "    <tr>\n",
              "      <th>14</th>\n",
              "      <td>0.069318</td>\n",
              "      <td>0.981109</td>\n",
              "      <td>0.083556</td>\n",
              "      <td>0.9742</td>\n",
              "    </tr>\n",
              "    <tr>\n",
              "      <th>15</th>\n",
              "      <td>0.064419</td>\n",
              "      <td>0.982418</td>\n",
              "      <td>0.081525</td>\n",
              "      <td>0.9762</td>\n",
              "    </tr>\n",
              "    <tr>\n",
              "      <th>16</th>\n",
              "      <td>0.060216</td>\n",
              "      <td>0.983327</td>\n",
              "      <td>0.078601</td>\n",
              "      <td>0.9756</td>\n",
              "    </tr>\n",
              "    <tr>\n",
              "      <th>17</th>\n",
              "      <td>0.056000</td>\n",
              "      <td>0.984636</td>\n",
              "      <td>0.075929</td>\n",
              "      <td>0.9756</td>\n",
              "    </tr>\n",
              "    <tr>\n",
              "      <th>18</th>\n",
              "      <td>0.052745</td>\n",
              "      <td>0.985527</td>\n",
              "      <td>0.076449</td>\n",
              "      <td>0.9770</td>\n",
              "    </tr>\n",
              "    <tr>\n",
              "      <th>19</th>\n",
              "      <td>0.049285</td>\n",
              "      <td>0.987000</td>\n",
              "      <td>0.074062</td>\n",
              "      <td>0.9762</td>\n",
              "    </tr>\n",
              "    <tr>\n",
              "      <th>20</th>\n",
              "      <td>0.046272</td>\n",
              "      <td>0.987691</td>\n",
              "      <td>0.071371</td>\n",
              "      <td>0.9770</td>\n",
              "    </tr>\n",
              "    <tr>\n",
              "      <th>21</th>\n",
              "      <td>0.043512</td>\n",
              "      <td>0.988636</td>\n",
              "      <td>0.069870</td>\n",
              "      <td>0.9764</td>\n",
              "    </tr>\n",
              "    <tr>\n",
              "      <th>22</th>\n",
              "      <td>0.040796</td>\n",
              "      <td>0.989382</td>\n",
              "      <td>0.068460</td>\n",
              "      <td>0.9794</td>\n",
              "    </tr>\n",
              "    <tr>\n",
              "      <th>23</th>\n",
              "      <td>0.038353</td>\n",
              "      <td>0.990327</td>\n",
              "      <td>0.069201</td>\n",
              "      <td>0.9780</td>\n",
              "    </tr>\n",
              "    <tr>\n",
              "      <th>24</th>\n",
              "      <td>0.036529</td>\n",
              "      <td>0.990836</td>\n",
              "      <td>0.067490</td>\n",
              "      <td>0.9784</td>\n",
              "    </tr>\n",
              "    <tr>\n",
              "      <th>25</th>\n",
              "      <td>0.034230</td>\n",
              "      <td>0.991927</td>\n",
              "      <td>0.067775</td>\n",
              "      <td>0.9792</td>\n",
              "    </tr>\n",
              "    <tr>\n",
              "      <th>26</th>\n",
              "      <td>0.032163</td>\n",
              "      <td>0.992455</td>\n",
              "      <td>0.067248</td>\n",
              "      <td>0.9794</td>\n",
              "    </tr>\n",
              "    <tr>\n",
              "      <th>27</th>\n",
              "      <td>0.030336</td>\n",
              "      <td>0.993091</td>\n",
              "      <td>0.067337</td>\n",
              "      <td>0.9782</td>\n",
              "    </tr>\n",
              "    <tr>\n",
              "      <th>28</th>\n",
              "      <td>0.028789</td>\n",
              "      <td>0.993582</td>\n",
              "      <td>0.065580</td>\n",
              "      <td>0.9790</td>\n",
              "    </tr>\n",
              "    <tr>\n",
              "      <th>29</th>\n",
              "      <td>0.027220</td>\n",
              "      <td>0.994036</td>\n",
              "      <td>0.064325</td>\n",
              "      <td>0.9798</td>\n",
              "    </tr>\n",
              "  </tbody>\n",
              "</table>\n",
              "</div>\n",
              "      <button class=\"colab-df-convert\" onclick=\"convertToInteractive('df-ac959baa-9c52-4fcc-ba0a-6ebe703594d7')\"\n",
              "              title=\"Convert this dataframe to an interactive table.\"\n",
              "              style=\"display:none;\">\n",
              "        \n",
              "  <svg xmlns=\"http://www.w3.org/2000/svg\" height=\"24px\"viewBox=\"0 0 24 24\"\n",
              "       width=\"24px\">\n",
              "    <path d=\"M0 0h24v24H0V0z\" fill=\"none\"/>\n",
              "    <path d=\"M18.56 5.44l.94 2.06.94-2.06 2.06-.94-2.06-.94-.94-2.06-.94 2.06-2.06.94zm-11 1L8.5 8.5l.94-2.06 2.06-.94-2.06-.94L8.5 2.5l-.94 2.06-2.06.94zm10 10l.94 2.06.94-2.06 2.06-.94-2.06-.94-.94-2.06-.94 2.06-2.06.94z\"/><path d=\"M17.41 7.96l-1.37-1.37c-.4-.4-.92-.59-1.43-.59-.52 0-1.04.2-1.43.59L10.3 9.45l-7.72 7.72c-.78.78-.78 2.05 0 2.83L4 21.41c.39.39.9.59 1.41.59.51 0 1.02-.2 1.41-.59l7.78-7.78 2.81-2.81c.8-.78.8-2.07 0-2.86zM5.41 20L4 18.59l7.72-7.72 1.47 1.35L5.41 20z\"/>\n",
              "  </svg>\n",
              "      </button>\n",
              "      \n",
              "  <style>\n",
              "    .colab-df-container {\n",
              "      display:flex;\n",
              "      flex-wrap:wrap;\n",
              "      gap: 12px;\n",
              "    }\n",
              "\n",
              "    .colab-df-convert {\n",
              "      background-color: #E8F0FE;\n",
              "      border: none;\n",
              "      border-radius: 50%;\n",
              "      cursor: pointer;\n",
              "      display: none;\n",
              "      fill: #1967D2;\n",
              "      height: 32px;\n",
              "      padding: 0 0 0 0;\n",
              "      width: 32px;\n",
              "    }\n",
              "\n",
              "    .colab-df-convert:hover {\n",
              "      background-color: #E2EBFA;\n",
              "      box-shadow: 0px 1px 2px rgba(60, 64, 67, 0.3), 0px 1px 3px 1px rgba(60, 64, 67, 0.15);\n",
              "      fill: #174EA6;\n",
              "    }\n",
              "\n",
              "    [theme=dark] .colab-df-convert {\n",
              "      background-color: #3B4455;\n",
              "      fill: #D2E3FC;\n",
              "    }\n",
              "\n",
              "    [theme=dark] .colab-df-convert:hover {\n",
              "      background-color: #434B5C;\n",
              "      box-shadow: 0px 1px 3px 1px rgba(0, 0, 0, 0.15);\n",
              "      filter: drop-shadow(0px 1px 2px rgba(0, 0, 0, 0.3));\n",
              "      fill: #FFFFFF;\n",
              "    }\n",
              "  </style>\n",
              "\n",
              "      <script>\n",
              "        const buttonEl =\n",
              "          document.querySelector('#df-ac959baa-9c52-4fcc-ba0a-6ebe703594d7 button.colab-df-convert');\n",
              "        buttonEl.style.display =\n",
              "          google.colab.kernel.accessAllowed ? 'block' : 'none';\n",
              "\n",
              "        async function convertToInteractive(key) {\n",
              "          const element = document.querySelector('#df-ac959baa-9c52-4fcc-ba0a-6ebe703594d7');\n",
              "          const dataTable =\n",
              "            await google.colab.kernel.invokeFunction('convertToInteractive',\n",
              "                                                     [key], {});\n",
              "          if (!dataTable) return;\n",
              "\n",
              "          const docLinkHtml = 'Like what you see? Visit the ' +\n",
              "            '<a target=\"_blank\" href=https://colab.research.google.com/notebooks/data_table.ipynb>data table notebook</a>'\n",
              "            + ' to learn more about interactive tables.';\n",
              "          element.innerHTML = '';\n",
              "          dataTable['output_type'] = 'display_data';\n",
              "          await google.colab.output.renderOutput(dataTable, element);\n",
              "          const docLink = document.createElement('div');\n",
              "          docLink.innerHTML = docLinkHtml;\n",
              "          element.appendChild(docLink);\n",
              "        }\n",
              "      </script>\n",
              "    </div>\n",
              "  </div>\n",
              "  "
            ]
          },
          "metadata": {},
          "execution_count": 20
        }
      ]
    },
    {
      "cell_type": "code",
      "source": [
        "pd.DataFrame(history.history).plot()"
      ],
      "metadata": {
        "colab": {
          "base_uri": "https://localhost:8080/",
          "height": 448
        },
        "id": "P-3D1HDMSr48",
        "outputId": "786b58ea-32bb-4f81-9d50-221b50337267"
      },
      "execution_count": 21,
      "outputs": [
        {
          "output_type": "execute_result",
          "data": {
            "text/plain": [
              "<Axes: >"
            ]
          },
          "metadata": {},
          "execution_count": 21
        },
        {
          "output_type": "display_data",
          "data": {
            "text/plain": [
              "<Figure size 640x480 with 1 Axes>"
            ],
            "image/png": "[encoded data removed]"
          },
          "metadata": {}
        }
      ]
    },
    {
      "cell_type": "code",
      "source": [
        "model_clf.evaluate(X_test,y_test)"
      ],
      "metadata": {
        "colab": {
          "base_uri": "https://localhost:8080/"
        },
        "id": "J9w4A1AqSxHP",
        "outputId": "9308043c-44ec-4bd4-e1a6-b65d0f59525e"
      },
      "execution_count": 22,
      "outputs": [
        {
          "output_type": "stream",
          "name": "stdout",
          "text": [
            "313/313 [==============================] - 1s 4ms/step - loss: 0.0686 - accuracy: 0.9785\n"
          ]
        },
        {
          "output_type": "execute_result",
          "data": {
            "text/plain": [
              "[0.06856197863817215, 0.9785000085830688]"
            ]
          },
          "metadata": {},
          "execution_count": 22
        }
      ]
    },
    {
      "cell_type": "markdown",
      "source": [
        "## Insights: Without batch normalization the model has attained a loss of 0.06 and accuracy of 0.978.\n",
        "## The training accuracy is 0.994 and the validation accuracy is 0.979 (possibiltiy of overfitting)"
      ],
      "metadata": {
        "id": "P0RVncwOTHXO"
      }
    },
    {
      "cell_type": "markdown",
      "source": [
        "Implementing batch normalization"
      ],
      "metadata": {
        "id": "ZLZUtk5GS_g4"
      }
    },
    {
      "cell_type": "code",
      "source": [
        "# Creating layers of ANN\n",
        "LAYERS = [tf.keras.layers.Flatten(input_shape=[28,28], name = 'inputLayer'),\n",
        "          tf.keras.layers.Dense(300 , activation = 'relu' , name = \"hiddenLayer1\"),\n",
        "          tf.keras.layers.BatchNormalization(), #batch normalization layer\n",
        "          tf.keras.layers.Dense(100 , activation = \"relu\" , name = 'hiddenLayer2'),\n",
        "          tf.keras.layers.BatchNormalization(), #batch normalization layer\n",
        "          tf.keras.layers.Dense(10, activation = \"softmax\" , name = \"outputLayer\")]\n",
        "model_bn_clf = tf.keras.models.Sequential(LAYERS)"
      ],
      "metadata": {
        "id": "g4CG0EoDS-xJ"
      },
      "execution_count": 24,
      "outputs": []
    },
    {
      "cell_type": "code",
      "source": [
        "model_bn_clf.summary()"
      ],
      "metadata": {
        "colab": {
          "base_uri": "https://localhost:8080/"
        },
        "id": "jgvg5mo6S5aE",
        "outputId": "591d2162-1ad5-4e23-c1cd-9773ef705b4c"
      },
      "execution_count": 25,
      "outputs": [
        {
          "output_type": "stream",
          "name": "stdout",
          "text": [
            "Model: \"sequential_1\"\n",
            "_________________________________________________________________\n",
            " Layer (type)                Output Shape              Param #   \n",
            "=================================================================\n",
            " inputLayer (Flatten)        (None, 784)               0         \n",
            "                                                                 \n",
            " hiddenLayer1 (Dense)        (None, 300)               235500    \n",
            "                                                                 \n",
            " batch_normalization (BatchN  (None, 300)              1200      \n",
            " ormalization)                                                   \n",
            "                                                                 \n",
            " hiddenLayer2 (Dense)        (None, 100)               30100     \n",
            "                                                                 \n",
            " batch_normalization_1 (Batc  (None, 100)              400       \n",
            " hNormalization)                                                 \n",
            "                                                                 \n",
            " outputLayer (Dense)         (None, 10)                1010      \n",
            "                                                                 \n",
            "=================================================================\n",
            "Total params: 268,210\n",
            "Trainable params: 267,410\n",
            "Non-trainable params: 800\n",
            "_________________________________________________________________\n"
          ]
        }
      ]
    },
    {
      "cell_type": "code",
      "source": [
        "LOSS_FUNCTION = \"sparse_categorical_crossentropy\"\n",
        "OPTIMIZER = \"SGD\"\n",
        "METRICS = [\"accuracy\"]\n",
        "\n",
        "model_bn_clf.compile(loss=LOSS_FUNCTION,\n",
        "                  optimizer=OPTIMIZER,\n",
        "                  metrics=METRICS)"
      ],
      "metadata": {
        "id": "M-seSEr8Sz5i"
      },
      "execution_count": 26,
      "outputs": []
    },
    {
      "cell_type": "code",
      "source": [
        "# training\n",
        "\n",
        "EPOCHS = 30\n",
        "VALIDATION_SET = (X_valid , y_valid)\n",
        "\n",
        "history_bn = model_bn_clf.fit(X_train , y_train , epochs = EPOCHS,\n",
        "                        validation_data= VALIDATION_SET , batch_size = 32)"
      ],
      "metadata": {
        "colab": {
          "base_uri": "https://localhost:8080/"
        },
        "id": "Yb_F4-uyUWRq",
        "outputId": "f329d018-ad37-4320-823a-87da6e128379"
      },
      "execution_count": 27,
      "outputs": [
        {
          "output_type": "stream",
          "name": "stdout",
          "text": [
            "Epoch 1/30\n",
            "1719/1719 [==============================] - 12s 7ms/step - loss: 0.3271 - accuracy: 0.9051 - val_loss: 0.1554 - val_accuracy: 0.9576\n",
            "Epoch 2/30\n",
            "1719/1719 [==============================] - 11s 6ms/step - loss: 0.1590 - accuracy: 0.9543 - val_loss: 0.1159 - val_accuracy: 0.9668\n",
            "Epoch 3/30\n",
            "1719/1719 [==============================] - 11s 6ms/step - loss: 0.1209 - accuracy: 0.9654 - val_loss: 0.0974 - val_accuracy: 0.9718\n",
            "Epoch 4/30\n",
            "1719/1719 [==============================] - 13s 7ms/step - loss: 0.0956 - accuracy: 0.9716 - val_loss: 0.0911 - val_accuracy: 0.9734\n",
            "Epoch 5/30\n",
            "1719/1719 [==============================] - 17s 10ms/step - loss: 0.0786 - accuracy: 0.9777 - val_loss: 0.0818 - val_accuracy: 0.9756\n",
            "Epoch 6/30\n",
            "1719/1719 [==============================] - 11s 7ms/step - loss: 0.0660 - accuracy: 0.9812 - val_loss: 0.0773 - val_accuracy: 0.9752\n",
            "Epoch 7/30\n",
            "1719/1719 [==============================] - 11s 7ms/step - loss: 0.0559 - accuracy: 0.9843 - val_loss: 0.0787 - val_accuracy: 0.9762\n",
            "Epoch 8/30\n",
            "1719/1719 [==============================] - 11s 6ms/step - loss: 0.0489 - accuracy: 0.9860 - val_loss: 0.0764 - val_accuracy: 0.9764\n",
            "Epoch 9/30\n",
            "1719/1719 [==============================] - 11s 7ms/step - loss: 0.0412 - accuracy: 0.9886 - val_loss: 0.0741 - val_accuracy: 0.9774\n",
            "Epoch 10/30\n",
            "1719/1719 [==============================] - 11s 7ms/step - loss: 0.0372 - accuracy: 0.9897 - val_loss: 0.0705 - val_accuracy: 0.9776\n",
            "Epoch 11/30\n",
            "1719/1719 [==============================] - 11s 7ms/step - loss: 0.0323 - accuracy: 0.9914 - val_loss: 0.0711 - val_accuracy: 0.9776\n",
            "Epoch 12/30\n",
            "1719/1719 [==============================] - 11s 7ms/step - loss: 0.0281 - accuracy: 0.9926 - val_loss: 0.0713 - val_accuracy: 0.9794\n",
            "Epoch 13/30\n",
            "1719/1719 [==============================] - 12s 7ms/step - loss: 0.0250 - accuracy: 0.9936 - val_loss: 0.0702 - val_accuracy: 0.9788\n",
            "Epoch 14/30\n",
            "1719/1719 [==============================] - 12s 7ms/step - loss: 0.0234 - accuracy: 0.9937 - val_loss: 0.0682 - val_accuracy: 0.9798\n",
            "Epoch 15/30\n",
            "1719/1719 [==============================] - 11s 7ms/step - loss: 0.0208 - accuracy: 0.9947 - val_loss: 0.0687 - val_accuracy: 0.9788\n",
            "Epoch 16/30\n",
            "1719/1719 [==============================] - 11s 6ms/step - loss: 0.0190 - accuracy: 0.9958 - val_loss: 0.0727 - val_accuracy: 0.9784\n",
            "Epoch 17/30\n",
            "1719/1719 [==============================] - 11s 6ms/step - loss: 0.0180 - accuracy: 0.9955 - val_loss: 0.0681 - val_accuracy: 0.9800\n",
            "Epoch 18/30\n",
            "1719/1719 [==============================] - 11s 6ms/step - loss: 0.0163 - accuracy: 0.9961 - val_loss: 0.0705 - val_accuracy: 0.9802\n",
            "Epoch 19/30\n",
            "1719/1719 [==============================] - 11s 7ms/step - loss: 0.0153 - accuracy: 0.9966 - val_loss: 0.0696 - val_accuracy: 0.9802\n",
            "Epoch 20/30\n",
            "1719/1719 [==============================] - 11s 7ms/step - loss: 0.0138 - accuracy: 0.9969 - val_loss: 0.0698 - val_accuracy: 0.9800\n",
            "Epoch 21/30\n",
            "1719/1719 [==============================] - 11s 6ms/step - loss: 0.0132 - accuracy: 0.9972 - val_loss: 0.0681 - val_accuracy: 0.9808\n",
            "Epoch 22/30\n",
            "1719/1719 [==============================] - 11s 7ms/step - loss: 0.0123 - accuracy: 0.9973 - val_loss: 0.0683 - val_accuracy: 0.9808\n",
            "Epoch 23/30\n",
            "1719/1719 [==============================] - 11s 7ms/step - loss: 0.0114 - accuracy: 0.9975 - val_loss: 0.0668 - val_accuracy: 0.9820\n",
            "Epoch 24/30\n",
            "1719/1719 [==============================] - 11s 6ms/step - loss: 0.0106 - accuracy: 0.9976 - val_loss: 0.0670 - val_accuracy: 0.9798\n",
            "Epoch 25/30\n",
            "1719/1719 [==============================] - 11s 6ms/step - loss: 0.0099 - accuracy: 0.9980 - val_loss: 0.0694 - val_accuracy: 0.9806\n",
            "Epoch 26/30\n",
            "1719/1719 [==============================] - 11s 7ms/step - loss: 0.0093 - accuracy: 0.9981 - val_loss: 0.0647 - val_accuracy: 0.9806\n",
            "Epoch 27/30\n",
            "1719/1719 [==============================] - 11s 6ms/step - loss: 0.0089 - accuracy: 0.9981 - val_loss: 0.0682 - val_accuracy: 0.9806\n",
            "Epoch 28/30\n",
            "1719/1719 [==============================] - 11s 7ms/step - loss: 0.0087 - accuracy: 0.9982 - val_loss: 0.0662 - val_accuracy: 0.9812\n",
            "Epoch 29/30\n",
            "1719/1719 [==============================] - 11s 7ms/step - loss: 0.0085 - accuracy: 0.9983 - val_loss: 0.0688 - val_accuracy: 0.9806\n",
            "Epoch 30/30\n",
            "1719/1719 [==============================] - 12s 7ms/step - loss: 0.0083 - accuracy: 0.9982 - val_loss: 0.0691 - val_accuracy: 0.9800\n"
          ]
        }
      ]
    },
    {
      "cell_type": "code",
      "source": [
        "pd.DataFrame(history_bn.history)"
      ],
      "metadata": {
        "colab": {
          "base_uri": "https://localhost:8080/",
          "height": 990
        },
        "id": "HAXlYaRaUcwA",
        "outputId": "145c2b47-b34f-4c96-c00b-425b0cfb14a1"
      },
      "execution_count": 28,
      "outputs": [
        {
          "output_type": "execute_result",
          "data": {
            "text/plain": [
              "        loss  accuracy  val_loss  val_accuracy\n",
              "0   0.327109  0.905109  0.155410        0.9576\n",
              "1   0.159010  0.954309  0.115860        0.9668\n",
              "2   0.120888  0.965418  0.097438        0.9718\n",
              "3   0.095573  0.971600  0.091095        0.9734\n",
              "4   0.078578  0.977655  0.081764        0.9756\n",
              "5   0.065969  0.981182  0.077328        0.9752\n",
              "6   0.055902  0.984327  0.078714        0.9762\n",
              "7   0.048919  0.985982  0.076438        0.9764\n",
              "8   0.041159  0.988582  0.074121        0.9774\n",
              "9   0.037211  0.989673  0.070490        0.9776\n",
              "10  0.032324  0.991382  0.071131        0.9776\n",
              "11  0.028115  0.992564  0.071295        0.9794\n",
              "12  0.025031  0.993600  0.070196        0.9788\n",
              "13  0.023366  0.993745  0.068231        0.9798\n",
              "14  0.020820  0.994745  0.068713        0.9788\n",
              "15  0.019022  0.995764  0.072739        0.9784\n",
              "16  0.017991  0.995473  0.068129        0.9800\n",
              "17  0.016253  0.996055  0.070451        0.9802\n",
              "18  0.015291  0.996564  0.069567        0.9802\n",
              "19  0.013830  0.996855  0.069768        0.9800\n",
              "20  0.013174  0.997182  0.068053        0.9808\n",
              "21  0.012329  0.997327  0.068312        0.9808\n",
              "22  0.011360  0.997545  0.066796        0.9820\n",
              "23  0.010587  0.997564  0.067046        0.9798\n",
              "24  0.009899  0.998036  0.069395        0.9806\n",
              "25  0.009290  0.998073  0.064661        0.9806\n",
              "26  0.008914  0.998109  0.068243        0.9806\n",
              "27  0.008710  0.998182  0.066241        0.9812\n",
              "28  0.008517  0.998273  0.068833        0.9806\n",
              "29  0.008338  0.998200  0.069070        0.9800"
            ],
            "text/html": [
              "\n",
              "  <div id=\"df-7ba26ec8-06da-4880-8e0c-3f7a4afc6874\">\n",
              "    <div class=\"colab-df-container\">\n",
              "      <div>\n",
              "<style scoped>\n",
              "    .dataframe tbody tr th:only-of-type {\n",
              "        vertical-align: middle;\n",
              "    }\n",
              "\n",
              "    .dataframe tbody tr th {\n",
              "        vertical-align: top;\n",
              "    }\n",
              "\n",
              "    .dataframe thead th {\n",
              "        text-align: right;\n",
              "    }\n",
              "</style>\n",
              "<table border=\"1\" class=\"dataframe\">\n",
              "  <thead>\n",
              "    <tr style=\"text-align: right;\">\n",
              "      <th></th>\n",
              "      <th>loss</th>\n",
              "      <th>accuracy</th>\n",
              "      <th>val_loss</th>\n",
              "      <th>val_accuracy</th>\n",
              "    </tr>\n",
              "  </thead>\n",
              "  <tbody>\n",
              "    <tr>\n",
              "      <th>0</th>\n",
              "      <td>0.327109</td>\n",
              "      <td>0.905109</td>\n",
              "      <td>0.155410</td>\n",
              "      <td>0.9576</td>\n",
              "    </tr>\n",
              "    <tr>\n",
              "      <th>1</th>\n",
              "      <td>0.159010</td>\n",
              "      <td>0.954309</td>\n",
              "      <td>0.115860</td>\n",
              "      <td>0.9668</td>\n",
              "    </tr>\n",
              "    <tr>\n",
              "      <th>2</th>\n",
              "      <td>0.120888</td>\n",
              "      <td>0.965418</td>\n",
              "      <td>0.097438</td>\n",
              "      <td>0.9718</td>\n",
              "    </tr>\n",
              "    <tr>\n",
              "      <th>3</th>\n",
              "      <td>0.095573</td>\n",
              "      <td>0.971600</td>\n",
              "      <td>0.091095</td>\n",
              "      <td>0.9734</td>\n",
              "    </tr>\n",
              "    <tr>\n",
              "      <th>4</th>\n",
              "      <td>0.078578</td>\n",
              "      <td>0.977655</td>\n",
              "      <td>0.081764</td>\n",
              "      <td>0.9756</td>\n",
              "    </tr>\n",
              "    <tr>\n",
              "      <th>5</th>\n",
              "      <td>0.065969</td>\n",
              "      <td>0.981182</td>\n",
              "      <td>0.077328</td>\n",
              "      <td>0.9752</td>\n",
              "    </tr>\n",
              "    <tr>\n",
              "      <th>6</th>\n",
              "      <td>0.055902</td>\n",
              "      <td>0.984327</td>\n",
              "      <td>0.078714</td>\n",
              "      <td>0.9762</td>\n",
              "    </tr>\n",
              "    <tr>\n",
              "      <th>7</th>\n",
              "      <td>0.048919</td>\n",
              "      <td>0.985982</td>\n",
              "      <td>0.076438</td>\n",
              "      <td>0.9764</td>\n",
              "    </tr>\n",
              "    <tr>\n",
              "      <th>8</th>\n",
              "      <td>0.041159</td>\n",
              "      <td>0.988582</td>\n",
              "      <td>0.074121</td>\n",
              "      <td>0.9774</td>\n",
              "    </tr>\n",
              "    <tr>\n",
              "      <th>9</th>\n",
              "      <td>0.037211</td>\n",
              "      <td>0.989673</td>\n",
              "      <td>0.070490</td>\n",
              "      <td>0.9776</td>\n",
              "    </tr>\n",
              "    <tr>\n",
              "      <th>10</th>\n",
              "      <td>0.032324</td>\n",
              "      <td>0.991382</td>\n",
              "      <td>0.071131</td>\n",
              "      <td>0.9776</td>\n",
              "    </tr>\n",
              "    <tr>\n",
              "      <th>11</th>\n",
              "      <td>0.028115</td>\n",
              "      <td>0.992564</td>\n",
              "      <td>0.071295</td>\n",
              "      <td>0.9794</td>\n",
              "    </tr>\n",
              "    <tr>\n",
              "      <th>12</th>\n",
              "      <td>0.025031</td>\n",
              "      <td>0.993600</td>\n",
              "      <td>0.070196</td>\n",
              "      <td>0.9788</td>\n",
              "    </tr>\n",
              "    <tr>\n",
              "      <th>13</th>\n",
              "      <td>0.023366</td>\n",
              "      <td>0.993745</td>\n",
              "      <td>0.068231</td>\n",
              "      <td>0.9798</td>\n",
              "    </tr>\n",
              "    <tr>\n",
              "      <th>14</th>\n",
              "      <td>0.020820</td>\n",
              "      <td>0.994745</td>\n",
              "      <td>0.068713</td>\n",
              "      <td>0.9788</td>\n",
              "    </tr>\n",
              "    <tr>\n",
              "      <th>15</th>\n",
              "      <td>0.019022</td>\n",
              "      <td>0.995764</td>\n",
              "      <td>0.072739</td>\n",
              "      <td>0.9784</td>\n",
              "    </tr>\n",
              "    <tr>\n",
              "      <th>16</th>\n",
              "      <td>0.017991</td>\n",
              "      <td>0.995473</td>\n",
              "      <td>0.068129</td>\n",
              "      <td>0.9800</td>\n",
              "    </tr>\n",
              "    <tr>\n",
              "      <th>17</th>\n",
              "      <td>0.016253</td>\n",
              "      <td>0.996055</td>\n",
              "      <td>0.070451</td>\n",
              "      <td>0.9802</td>\n",
              "    </tr>\n",
              "    <tr>\n",
              "      <th>18</th>\n",
              "      <td>0.015291</td>\n",
              "      <td>0.996564</td>\n",
              "      <td>0.069567</td>\n",
              "      <td>0.9802</td>\n",
              "    </tr>\n",
              "    <tr>\n",
              "      <th>19</th>\n",
              "      <td>0.013830</td>\n",
              "      <td>0.996855</td>\n",
              "      <td>0.069768</td>\n",
              "      <td>0.9800</td>\n",
              "    </tr>\n",
              "    <tr>\n",
              "      <th>20</th>\n",
              "      <td>0.013174</td>\n",
              "      <td>0.997182</td>\n",
              "      <td>0.068053</td>\n",
              "      <td>0.9808</td>\n",
              "    </tr>\n",
              "    <tr>\n",
              "      <th>21</th>\n",
              "      <td>0.012329</td>\n",
              "      <td>0.997327</td>\n",
              "      <td>0.068312</td>\n",
              "      <td>0.9808</td>\n",
              "    </tr>\n",
              "    <tr>\n",
              "      <th>22</th>\n",
              "      <td>0.011360</td>\n",
              "      <td>0.997545</td>\n",
              "      <td>0.066796</td>\n",
              "      <td>0.9820</td>\n",
              "    </tr>\n",
              "    <tr>\n",
              "      <th>23</th>\n",
              "      <td>0.010587</td>\n",
              "      <td>0.997564</td>\n",
              "      <td>0.067046</td>\n",
              "      <td>0.9798</td>\n",
              "    </tr>\n",
              "    <tr>\n",
              "      <th>24</th>\n",
              "      <td>0.009899</td>\n",
              "      <td>0.998036</td>\n",
              "      <td>0.069395</td>\n",
              "      <td>0.9806</td>\n",
              "    </tr>\n",
              "    <tr>\n",
              "      <th>25</th>\n",
              "      <td>0.009290</td>\n",
              "      <td>0.998073</td>\n",
              "      <td>0.064661</td>\n",
              "      <td>0.9806</td>\n",
              "    </tr>\n",
              "    <tr>\n",
              "      <th>26</th>\n",
              "      <td>0.008914</td>\n",
              "      <td>0.998109</td>\n",
              "      <td>0.068243</td>\n",
              "      <td>0.9806</td>\n",
              "    </tr>\n",
              "    <tr>\n",
              "      <th>27</th>\n",
              "      <td>0.008710</td>\n",
              "      <td>0.998182</td>\n",
              "      <td>0.066241</td>\n",
              "      <td>0.9812</td>\n",
              "    </tr>\n",
              "    <tr>\n",
              "      <th>28</th>\n",
              "      <td>0.008517</td>\n",
              "      <td>0.998273</td>\n",
              "      <td>0.068833</td>\n",
              "      <td>0.9806</td>\n",
              "    </tr>\n",
              "    <tr>\n",
              "      <th>29</th>\n",
              "      <td>0.008338</td>\n",
              "      <td>0.998200</td>\n",
              "      <td>0.069070</td>\n",
              "      <td>0.9800</td>\n",
              "    </tr>\n",
              "  </tbody>\n",
              "</table>\n",
              "</div>\n",
              "      <button class=\"colab-df-convert\" onclick=\"convertToInteractive('df-7ba26ec8-06da-4880-8e0c-3f7a4afc6874')\"\n",
              "              title=\"Convert this dataframe to an interactive table.\"\n",
              "              style=\"display:none;\">\n",
              "        \n",
              "  <svg xmlns=\"http://www.w3.org/2000/svg\" height=\"24px\"viewBox=\"0 0 24 24\"\n",
              "       width=\"24px\">\n",
              "    <path d=\"M0 0h24v24H0V0z\" fill=\"none\"/>\n",
              "    <path d=\"M18.56 5.44l.94 2.06.94-2.06 2.06-.94-2.06-.94-.94-2.06-.94 2.06-2.06.94zm-11 1L8.5 8.5l.94-2.06 2.06-.94-2.06-.94L8.5 2.5l-.94 2.06-2.06.94zm10 10l.94 2.06.94-2.06 2.06-.94-2.06-.94-.94-2.06-.94 2.06-2.06.94z\"/><path d=\"M17.41 7.96l-1.37-1.37c-.4-.4-.92-.59-1.43-.59-.52 0-1.04.2-1.43.59L10.3 9.45l-7.72 7.72c-.78.78-.78 2.05 0 2.83L4 21.41c.39.39.9.59 1.41.59.51 0 1.02-.2 1.41-.59l7.78-7.78 2.81-2.81c.8-.78.8-2.07 0-2.86zM5.41 20L4 18.59l7.72-7.72 1.47 1.35L5.41 20z\"/>\n",
              "  </svg>\n",
              "      </button>\n",
              "      \n",
              "  <style>\n",
              "    .colab-df-container {\n",
              "      display:flex;\n",
              "      flex-wrap:wrap;\n",
              "      gap: 12px;\n",
              "    }\n",
              "\n",
              "    .colab-df-convert {\n",
              "      background-color: #E8F0FE;\n",
              "      border: none;\n",
              "      border-radius: 50%;\n",
              "      cursor: pointer;\n",
              "      display: none;\n",
              "      fill: #1967D2;\n",
              "      height: 32px;\n",
              "      padding: 0 0 0 0;\n",
              "      width: 32px;\n",
              "    }\n",
              "\n",
              "    .colab-df-convert:hover {\n",
              "      background-color: #E2EBFA;\n",
              "      box-shadow: 0px 1px 2px rgba(60, 64, 67, 0.3), 0px 1px 3px 1px rgba(60, 64, 67, 0.15);\n",
              "      fill: #174EA6;\n",
              "    }\n",
              "\n",
              "    [theme=dark] .colab-df-convert {\n",
              "      background-color: #3B4455;\n",
              "      fill: #D2E3FC;\n",
              "    }\n",
              "\n",
              "    [theme=dark] .colab-df-convert:hover {\n",
              "      background-color: #434B5C;\n",
              "      box-shadow: 0px 1px 3px 1px rgba(0, 0, 0, 0.15);\n",
              "      filter: drop-shadow(0px 1px 2px rgba(0, 0, 0, 0.3));\n",
              "      fill: #FFFFFF;\n",
              "    }\n",
              "  </style>\n",
              "\n",
              "      <script>\n",
              "        const buttonEl =\n",
              "          document.querySelector('#df-7ba26ec8-06da-4880-8e0c-3f7a4afc6874 button.colab-df-convert');\n",
              "        buttonEl.style.display =\n",
              "          google.colab.kernel.accessAllowed ? 'block' : 'none';\n",
              "\n",
              "        async function convertToInteractive(key) {\n",
              "          const element = document.querySelector('#df-7ba26ec8-06da-4880-8e0c-3f7a4afc6874');\n",
              "          const dataTable =\n",
              "            await google.colab.kernel.invokeFunction('convertToInteractive',\n",
              "                                                     [key], {});\n",
              "          if (!dataTable) return;\n",
              "\n",
              "          const docLinkHtml = 'Like what you see? Visit the ' +\n",
              "            '<a target=\"_blank\" href=https://colab.research.google.com/notebooks/data_table.ipynb>data table notebook</a>'\n",
              "            + ' to learn more about interactive tables.';\n",
              "          element.innerHTML = '';\n",
              "          dataTable['output_type'] = 'display_data';\n",
              "          await google.colab.output.renderOutput(dataTable, element);\n",
              "          const docLink = document.createElement('div');\n",
              "          docLink.innerHTML = docLinkHtml;\n",
              "          element.appendChild(docLink);\n",
              "        }\n",
              "      </script>\n",
              "    </div>\n",
              "  </div>\n",
              "  "
            ]
          },
          "metadata": {},
          "execution_count": 28
        }
      ]
    },
    {
      "cell_type": "code",
      "source": [
        "pd.DataFrame(history_bn.history).plot()"
      ],
      "metadata": {
        "colab": {
          "base_uri": "https://localhost:8080/",
          "height": 448
        },
        "id": "GHslfq1-WQ79",
        "outputId": "1a58fafa-6ae3-4bdc-b8b7-774227395192"
      },
      "execution_count": 29,
      "outputs": [
        {
          "output_type": "execute_result",
          "data": {
            "text/plain": [
              "<Axes: >"
            ]
          },
          "metadata": {},
          "execution_count": 29
        },
        {
          "output_type": "display_data",
          "data": {
            "text/plain": [
              "<Figure size 640x480 with 1 Axes>"
            ],
            "image/png": "[encoded data removed]"
          },
          "metadata": {}
        }
      ]
    },
    {
      "cell_type": "code",
      "source": [
        "model_bn_clf.evaluate(X_test,y_test)"
      ],
      "metadata": {
        "colab": {
          "base_uri": "https://localhost:8080/"
        },
        "id": "XexJWrhoWVel",
        "outputId": "531582e8-6e9c-45a9-bccb-7c210b5717e9"
      },
      "execution_count": 30,
      "outputs": [
        {
          "output_type": "stream",
          "name": "stdout",
          "text": [
            "313/313 [==============================] - 1s 5ms/step - loss: 0.0728 - accuracy: 0.9792\n"
          ]
        },
        {
          "output_type": "execute_result",
          "data": {
            "text/plain": [
              "[0.07282879203557968, 0.979200005531311]"
            ]
          },
          "metadata": {},
          "execution_count": 30
        }
      ]
    },
    {
      "cell_type": "markdown",
      "source": [
        "## **Insights: With batch normalization the model has attained a loss of 0.07 and accuracy of 0.979. Even though the loss was more (0.06 without batch normalization) the accuracy has shown a marginal improvement (0.978 without batch normalization).**\n",
        "## **The training accuracy is 0.998 and the validation accuracy is 0.98**\n",
        "## **From the plot above it is quiet evident that the model is able to converge much faster with batch normalization**"
      ],
      "metadata": {
        "id": "X-tLQMQwWo9H"
      }
    },
    {
      "cell_type": "markdown",
      "source": [
        "Discuss the impact of batch normalization on the training process and the performance of the neural network."
      ],
      "metadata": {
        "id": "6doJZKDPZoyZ"
      }
    },
    {
      "cell_type": "markdown",
      "source": [
        "Ans: Batch normalization has a significant impact on the training process and the performance of neural networks. Here's a discussion of the key effects of batch normalization:\n",
        "\n",
        "1. **Improved Training Speed**: Batch normalization helps accelerate the training process. By reducing the internal covariate shift and stabilizing the distributions of intermediate layer activations, batch normalization enables more consistent and efficient learning. The networks converge faster, allowing for shorter training times.\n",
        "\n",
        "2. **Better Gradient Flow**: Deep neural networks often suffer from vanishing or exploding gradients, which can hinder training. Batch normalization addresses this issue by normalizing the inputs of each layer. By keeping the activations within a reasonable range (zero mean and unit variance), batch normalization helps gradients flow more smoothly through the network. This facilitates better weight updates and leads to improved training stability.\n",
        "\n",
        "3. **Higher Learning Rates**: With batch normalization, higher learning rates can be used without the risk of divergence. Normalizing the inputs makes them less sensitive to the choice of learning rate. This ability to use higher learning rates allows the network to converge more quickly, accelerating the training process.\n",
        "\n",
        "4. **Regularization Effect**: Batch normalization acts as a form of regularization during training. It introduces a slight amount of noise to the network, similar to techniques like dropout. This noise helps prevent overfitting by adding robustness to the network and discouraging the reliance on specific features or patterns in the data. As a result, batch normalization can improve the generalization performance of the neural network.\n",
        "\n",
        "5. **Reduced Dependence on Weight Initialization**: The performance of deep networks can be highly sensitive to the initial weights and biases. However, batch normalization reduces this sensitivity. By normalizing the inputs, batch normalization makes the network less dependent on the initial parameter values. This simplifies the process of network initialization and reduces the effort required for finding optimal weight initializations.\n",
        "\n",
        "6. **Increased Robustness to Network Architectures**: Batch normalization has been shown to make neural networks more robust to variations in network architectures. It helps networks handle variations in depth, width, and activation functions more effectively. This flexibility allows for easier experimentation and optimization of network architectures.\n",
        "\n",
        "7. **Mitigation of Internal Covariate Shift**: Batch normalization effectively addresses the problem of internal covariate shift. By normalizing the inputs of each layer, it reduces the change in distributions during training. This stability in distributions helps networks learn more effectively and makes them less sensitive to changes in the input data.\n",
        "\n",
        "Overall, batch normalization has a positive impact on the training process and the performance of neural networks. It accelerates training, improves gradient flow, allows for higher learning rates, acts as a regularization technique, reduces sensitivity to weight initialization, increases robustness to network architectures, and mitigates internal covariate shift. These benefits contribute to more stable and efficient training, leading to improved performance of the neural network."
      ],
      "metadata": {
        "id": "dX-NIa88ZzdM"
      }
    },
    {
      "cell_type": "markdown",
      "source": [
        "**Q3. Experimentation and Analysis**"
      ],
      "metadata": {
        "id": "X0R-aqP9aYkM"
      }
    },
    {
      "cell_type": "markdown",
      "source": [
        "1. Experiment with different batch sizes and observe the effect on the training dynamics and model performance."
      ],
      "metadata": {
        "id": "PzE61gFWalCo"
      }
    },
    {
      "cell_type": "markdown",
      "source": [
        "Ans:We have already seen the results with batch normalization and a batch size of 32. We shall now experiment with 3 different arbitrary batch sizes of 16 , 50 and 100 and reduce the epochs to 10 (to speed up the process) and study the effects"
      ],
      "metadata": {
        "id": "jermJYiDa5op"
      }
    },
    {
      "cell_type": "code",
      "source": [
        "# batch size 16"
      ],
      "metadata": {
        "id": "y446ntJ3ik87"
      },
      "execution_count": null,
      "outputs": []
    },
    {
      "cell_type": "code",
      "source": [
        "# Creating layers of ANN\n",
        "LAYERS = [tf.keras.layers.Flatten(input_shape=[28,28], name = 'inputLayer'),\n",
        "          tf.keras.layers.Dense(300 , activation = 'relu' , name = \"hiddenLayer1\"),\n",
        "          tf.keras.layers.BatchNormalization(), #batch normalization layer\n",
        "          tf.keras.layers.Dense(100 , activation = \"relu\" , name = 'hiddenLayer2'),\n",
        "          tf.keras.layers.BatchNormalization(), #batch normalization layer\n",
        "          tf.keras.layers.Dense(10, activation = \"softmax\" , name = \"outputLayer\")]\n",
        "model_bn_clf = tf.keras.models.Sequential(LAYERS)"
      ],
      "metadata": {
        "id": "1A0UklOvhs17"
      },
      "execution_count": 47,
      "outputs": []
    },
    {
      "cell_type": "code",
      "source": [
        "model_bn_clf.summary()"
      ],
      "metadata": {
        "colab": {
          "base_uri": "https://localhost:8080/"
        },
        "outputId": "582653ad-3261-4162-9e3f-c1dc3118ab58",
        "id": "kqbRQ5Uihs_f"
      },
      "execution_count": 48,
      "outputs": [
        {
          "output_type": "stream",
          "name": "stdout",
          "text": [
            "Model: \"sequential_2\"\n",
            "_________________________________________________________________\n",
            " Layer (type)                Output Shape              Param #   \n",
            "=================================================================\n",
            " inputLayer (Flatten)        (None, 784)               0         \n",
            "                                                                 \n",
            " hiddenLayer1 (Dense)        (None, 300)               235500    \n",
            "                                                                 \n",
            " batch_normalization_2 (Batc  (None, 300)              1200      \n",
            " hNormalization)                                                 \n",
            "                                                                 \n",
            " hiddenLayer2 (Dense)        (None, 100)               30100     \n",
            "                                                                 \n",
            " batch_normalization_3 (Batc  (None, 100)              400       \n",
            " hNormalization)                                                 \n",
            "                                                                 \n",
            " outputLayer (Dense)         (None, 10)                1010      \n",
            "                                                                 \n",
            "=================================================================\n",
            "Total params: 268,210\n",
            "Trainable params: 267,410\n",
            "Non-trainable params: 800\n",
            "_________________________________________________________________\n"
          ]
        }
      ]
    },
    {
      "cell_type": "code",
      "source": [
        "LOSS_FUNCTION = \"sparse_categorical_crossentropy\"\n",
        "OPTIMIZER = \"SGD\"\n",
        "METRICS = [\"accuracy\"]\n",
        "\n",
        "model_bn_clf.compile(loss=LOSS_FUNCTION,\n",
        "                  optimizer=OPTIMIZER,\n",
        "                  metrics=METRICS)"
      ],
      "metadata": {
        "id": "F-yNxFRShs_g"
      },
      "execution_count": 49,
      "outputs": []
    },
    {
      "cell_type": "code",
      "source": [
        "# training with a batch size of 16\n",
        "\n",
        "EPOCHS = 10\n",
        "VALIDATION_SET = (X_valid , y_valid)\n",
        "\n",
        "history_16 = model_bn_clf.fit(X_train , y_train , epochs = EPOCHS,\n",
        "                        validation_data= VALIDATION_SET , batch_size = 16)"
      ],
      "metadata": {
        "colab": {
          "base_uri": "https://localhost:8080/"
        },
        "outputId": "b2d6c9a4-7d7f-44ba-ff37-98197948a52d",
        "id": "5wxYVwn0bkYQ"
      },
      "execution_count": 50,
      "outputs": [
        {
          "output_type": "stream",
          "name": "stdout",
          "text": [
            "Epoch 1/10\n",
            "3438/3438 [==============================] - 20s 5ms/step - loss: 0.3100 - accuracy: 0.9073 - val_loss: 0.1287 - val_accuracy: 0.9630\n",
            "Epoch 2/10\n",
            "3438/3438 [==============================] - 17s 5ms/step - loss: 0.1658 - accuracy: 0.9507 - val_loss: 0.0968 - val_accuracy: 0.9712\n",
            "Epoch 3/10\n",
            "3438/3438 [==============================] - 19s 5ms/step - loss: 0.1234 - accuracy: 0.9639 - val_loss: 0.0783 - val_accuracy: 0.9770\n",
            "Epoch 4/10\n",
            "3438/3438 [==============================] - 17s 5ms/step - loss: 0.1026 - accuracy: 0.9692 - val_loss: 0.0735 - val_accuracy: 0.9764\n",
            "Epoch 5/10\n",
            "3438/3438 [==============================] - 19s 6ms/step - loss: 0.0888 - accuracy: 0.9727 - val_loss: 0.0684 - val_accuracy: 0.9768\n",
            "Epoch 6/10\n",
            "3438/3438 [==============================] - 17s 5ms/step - loss: 0.0770 - accuracy: 0.9759 - val_loss: 0.0697 - val_accuracy: 0.9792\n",
            "Epoch 7/10\n",
            "3438/3438 [==============================] - 17s 5ms/step - loss: 0.0670 - accuracy: 0.9791 - val_loss: 0.0646 - val_accuracy: 0.9794\n",
            "Epoch 8/10\n",
            "3438/3438 [==============================] - 26s 8ms/step - loss: 0.0568 - accuracy: 0.9824 - val_loss: 0.0682 - val_accuracy: 0.9782\n",
            "Epoch 9/10\n",
            "3438/3438 [==============================] - 21s 6ms/step - loss: 0.0536 - accuracy: 0.9831 - val_loss: 0.0635 - val_accuracy: 0.9788\n",
            "Epoch 10/10\n",
            "3438/3438 [==============================] - 20s 6ms/step - loss: 0.0475 - accuracy: 0.9852 - val_loss: 0.0623 - val_accuracy: 0.9814\n"
          ]
        }
      ]
    },
    {
      "cell_type": "code",
      "source": [
        "predict_16 = model_bn_clf.evaluate(X_test,y_test)\n",
        "print(predict_16)"
      ],
      "metadata": {
        "colab": {
          "base_uri": "https://localhost:8080/"
        },
        "id": "pX4qufp0gxF_",
        "outputId": "6d880262-92cc-476f-e343-d20dfb2a297c"
      },
      "execution_count": 52,
      "outputs": [
        {
          "output_type": "stream",
          "name": "stdout",
          "text": [
            "313/313 [==============================] - 1s 4ms/step - loss: 0.0662 - accuracy: 0.9789\n",
            "[0.06622440367937088, 0.9789000153541565]\n"
          ]
        }
      ]
    },
    {
      "cell_type": "code",
      "source": [
        "# batch size 50"
      ],
      "metadata": {
        "id": "Y2Z7FsAgiraR"
      },
      "execution_count": 53,
      "outputs": []
    },
    {
      "cell_type": "code",
      "source": [
        "# Creating layers of ANN\n",
        "LAYERS = [tf.keras.layers.Flatten(input_shape=[28,28], name = 'inputLayer'),\n",
        "          tf.keras.layers.Dense(300 , activation = 'relu' , name = \"hiddenLayer1\"),\n",
        "          tf.keras.layers.BatchNormalization(), #batch normalization layer\n",
        "          tf.keras.layers.Dense(100 , activation = \"relu\" , name = 'hiddenLayer2'),\n",
        "          tf.keras.layers.BatchNormalization(), #batch normalization layer\n",
        "          tf.keras.layers.Dense(10, activation = \"softmax\" , name = \"outputLayer\")]\n",
        "model_bn_clf = tf.keras.models.Sequential(LAYERS)"
      ],
      "metadata": {
        "id": "sIilVS4HiqwF"
      },
      "execution_count": 54,
      "outputs": []
    },
    {
      "cell_type": "code",
      "source": [
        "model_bn_clf.summary()"
      ],
      "metadata": {
        "colab": {
          "base_uri": "https://localhost:8080/"
        },
        "id": "n-fKcartivsW",
        "outputId": "a1a82395-f9d9-4439-a83f-428bd0ee3adf"
      },
      "execution_count": 55,
      "outputs": [
        {
          "output_type": "stream",
          "name": "stdout",
          "text": [
            "Model: \"sequential_3\"\n",
            "_________________________________________________________________\n",
            " Layer (type)                Output Shape              Param #   \n",
            "=================================================================\n",
            " inputLayer (Flatten)        (None, 784)               0         \n",
            "                                                                 \n",
            " hiddenLayer1 (Dense)        (None, 300)               235500    \n",
            "                                                                 \n",
            " batch_normalization_4 (Batc  (None, 300)              1200      \n",
            " hNormalization)                                                 \n",
            "                                                                 \n",
            " hiddenLayer2 (Dense)        (None, 100)               30100     \n",
            "                                                                 \n",
            " batch_normalization_5 (Batc  (None, 100)              400       \n",
            " hNormalization)                                                 \n",
            "                                                                 \n",
            " outputLayer (Dense)         (None, 10)                1010      \n",
            "                                                                 \n",
            "=================================================================\n",
            "Total params: 268,210\n",
            "Trainable params: 267,410\n",
            "Non-trainable params: 800\n",
            "_________________________________________________________________\n"
          ]
        }
      ]
    },
    {
      "cell_type": "code",
      "source": [
        "LOSS_FUNCTION = \"sparse_categorical_crossentropy\"\n",
        "OPTIMIZER = \"SGD\"\n",
        "METRICS = [\"accuracy\"]\n",
        "\n",
        "model_bn_clf.compile(loss=LOSS_FUNCTION,\n",
        "                  optimizer=OPTIMIZER,\n",
        "                  metrics=METRICS)"
      ],
      "metadata": {
        "id": "KEFIHDdNiwUp"
      },
      "execution_count": 56,
      "outputs": []
    },
    {
      "cell_type": "code",
      "source": [
        "# training with a batch size of 50\n",
        "\n",
        "EPOCHS = 10\n",
        "VALIDATION_SET = (X_valid , y_valid)\n",
        "\n",
        "history_50 = model_bn_clf.fit(X_train , y_train , epochs = EPOCHS,\n",
        "                        validation_data= VALIDATION_SET , batch_size = 50)"
      ],
      "metadata": {
        "colab": {
          "base_uri": "https://localhost:8080/"
        },
        "id": "W7aC9HqlWexu",
        "outputId": "cedfe924-9777-48f0-8d9c-ebd4495f1455"
      },
      "execution_count": 57,
      "outputs": [
        {
          "output_type": "stream",
          "name": "stdout",
          "text": [
            "Epoch 1/10\n",
            "1100/1100 [==============================] - 9s 7ms/step - loss: 0.3678 - accuracy: 0.8922 - val_loss: 0.1772 - val_accuracy: 0.9522\n",
            "Epoch 2/10\n",
            "1100/1100 [==============================] - 9s 9ms/step - loss: 0.1819 - accuracy: 0.9475 - val_loss: 0.1322 - val_accuracy: 0.9640\n",
            "Epoch 3/10\n",
            "1100/1100 [==============================] - 9s 9ms/step - loss: 0.1374 - accuracy: 0.9606 - val_loss: 0.1138 - val_accuracy: 0.9678\n",
            "Epoch 4/10\n",
            "1100/1100 [==============================] - 8s 7ms/step - loss: 0.1089 - accuracy: 0.9687 - val_loss: 0.1039 - val_accuracy: 0.9694\n",
            "Epoch 5/10\n",
            "1100/1100 [==============================] - 8s 8ms/step - loss: 0.0903 - accuracy: 0.9750 - val_loss: 0.0948 - val_accuracy: 0.9724\n",
            "Epoch 6/10\n",
            "1100/1100 [==============================] - 9s 8ms/step - loss: 0.0765 - accuracy: 0.9791 - val_loss: 0.0865 - val_accuracy: 0.9746\n",
            "Epoch 7/10\n",
            "1100/1100 [==============================] - 7s 6ms/step - loss: 0.0654 - accuracy: 0.9819 - val_loss: 0.0861 - val_accuracy: 0.9738\n",
            "Epoch 8/10\n",
            "1100/1100 [==============================] - 9s 8ms/step - loss: 0.0565 - accuracy: 0.9851 - val_loss: 0.0813 - val_accuracy: 0.9758\n",
            "Epoch 9/10\n",
            "1100/1100 [==============================] - 11s 10ms/step - loss: 0.0495 - accuracy: 0.9870 - val_loss: 0.0791 - val_accuracy: 0.9764\n",
            "Epoch 10/10\n",
            "1100/1100 [==============================] - 7s 7ms/step - loss: 0.0440 - accuracy: 0.9893 - val_loss: 0.0795 - val_accuracy: 0.9762\n"
          ]
        }
      ]
    },
    {
      "cell_type": "code",
      "source": [
        "predict_50 = model_bn_clf.evaluate(X_test,y_test)\n",
        "print(predict_50)"
      ],
      "metadata": {
        "colab": {
          "base_uri": "https://localhost:8080/"
        },
        "id": "f-yMvJwDi7FM",
        "outputId": "77ff599b-4a50-4ae9-ba8e-4e520676a62b"
      },
      "execution_count": 59,
      "outputs": [
        {
          "output_type": "stream",
          "name": "stdout",
          "text": [
            "313/313 [==============================] - 2s 7ms/step - loss: 0.0791 - accuracy: 0.9759\n",
            "[0.07913430780172348, 0.9758999943733215]\n"
          ]
        }
      ]
    },
    {
      "cell_type": "code",
      "source": [
        "# batch size 100"
      ],
      "metadata": {
        "id": "8rBPF49mjMzL"
      },
      "execution_count": 60,
      "outputs": []
    },
    {
      "cell_type": "code",
      "source": [
        "# Creating layers of ANN\n",
        "LAYERS = [tf.keras.layers.Flatten(input_shape=[28,28], name = 'inputLayer'),\n",
        "          tf.keras.layers.Dense(300 , activation = 'relu' , name = \"hiddenLayer1\"),\n",
        "          tf.keras.layers.BatchNormalization(), #batch normalization layer\n",
        "          tf.keras.layers.Dense(100 , activation = \"relu\" , name = 'hiddenLayer2'),\n",
        "          tf.keras.layers.BatchNormalization(), #batch normalization layer\n",
        "          tf.keras.layers.Dense(10, activation = \"softmax\" , name = \"outputLayer\")]\n",
        "model_bn_clf = tf.keras.models.Sequential(LAYERS)"
      ],
      "metadata": {
        "id": "glKlWeR7jMGh"
      },
      "execution_count": 61,
      "outputs": []
    },
    {
      "cell_type": "code",
      "source": [
        "model_bn_clf.summary()"
      ],
      "metadata": {
        "colab": {
          "base_uri": "https://localhost:8080/"
        },
        "id": "BgLPniYCjRZO",
        "outputId": "997628e2-ce07-4bbe-e761-e537562c3d6d"
      },
      "execution_count": 62,
      "outputs": [
        {
          "output_type": "stream",
          "name": "stdout",
          "text": [
            "Model: \"sequential_4\"\n",
            "_________________________________________________________________\n",
            " Layer (type)                Output Shape              Param #   \n",
            "=================================================================\n",
            " inputLayer (Flatten)        (None, 784)               0         \n",
            "                                                                 \n",
            " hiddenLayer1 (Dense)        (None, 300)               235500    \n",
            "                                                                 \n",
            " batch_normalization_6 (Batc  (None, 300)              1200      \n",
            " hNormalization)                                                 \n",
            "                                                                 \n",
            " hiddenLayer2 (Dense)        (None, 100)               30100     \n",
            "                                                                 \n",
            " batch_normalization_7 (Batc  (None, 100)              400       \n",
            " hNormalization)                                                 \n",
            "                                                                 \n",
            " outputLayer (Dense)         (None, 10)                1010      \n",
            "                                                                 \n",
            "=================================================================\n",
            "Total params: 268,210\n",
            "Trainable params: 267,410\n",
            "Non-trainable params: 800\n",
            "_________________________________________________________________\n"
          ]
        }
      ]
    },
    {
      "cell_type": "code",
      "source": [
        "LOSS_FUNCTION = \"sparse_categorical_crossentropy\"\n",
        "OPTIMIZER = \"SGD\"\n",
        "METRICS = [\"accuracy\"]\n",
        "\n",
        "model_bn_clf.compile(loss=LOSS_FUNCTION,\n",
        "                  optimizer=OPTIMIZER,\n",
        "                  metrics=METRICS)"
      ],
      "metadata": {
        "id": "CI9o61ahjTpL"
      },
      "execution_count": 63,
      "outputs": []
    },
    {
      "cell_type": "code",
      "source": [
        "# training with a batch size of 100\n",
        "\n",
        "EPOCHS = 10\n",
        "VALIDATION_SET = (X_valid , y_valid)\n",
        "\n",
        "history_100 = model_bn_clf.fit(X_train , y_train , epochs = EPOCHS,\n",
        "                        validation_data= VALIDATION_SET , batch_size = 100)"
      ],
      "metadata": {
        "colab": {
          "base_uri": "https://localhost:8080/"
        },
        "id": "jM0FeSxjdjHf",
        "outputId": "e878824d-5309-4ac4-d3e8-a43c1f96b128"
      },
      "execution_count": 64,
      "outputs": [
        {
          "output_type": "stream",
          "name": "stdout",
          "text": [
            "Epoch 1/10\n",
            "550/550 [==============================] - 5s 8ms/step - loss: 0.4637 - accuracy: 0.8656 - val_loss: 0.2379 - val_accuracy: 0.9360\n",
            "Epoch 2/10\n",
            "550/550 [==============================] - 5s 9ms/step - loss: 0.2203 - accuracy: 0.9378 - val_loss: 0.1723 - val_accuracy: 0.9522\n",
            "Epoch 3/10\n",
            "550/550 [==============================] - 4s 8ms/step - loss: 0.1701 - accuracy: 0.9527 - val_loss: 0.1461 - val_accuracy: 0.9596\n",
            "Epoch 4/10\n",
            "550/550 [==============================] - 5s 8ms/step - loss: 0.1416 - accuracy: 0.9608 - val_loss: 0.1319 - val_accuracy: 0.9646\n",
            "Epoch 5/10\n",
            "550/550 [==============================] - 5s 9ms/step - loss: 0.1216 - accuracy: 0.9672 - val_loss: 0.1213 - val_accuracy: 0.9670\n",
            "Epoch 6/10\n",
            "550/550 [==============================] - 4s 8ms/step - loss: 0.1065 - accuracy: 0.9715 - val_loss: 0.1131 - val_accuracy: 0.9698\n",
            "Epoch 7/10\n",
            "550/550 [==============================] - 5s 9ms/step - loss: 0.0940 - accuracy: 0.9749 - val_loss: 0.1065 - val_accuracy: 0.9700\n",
            "Epoch 8/10\n",
            "550/550 [==============================] - 4s 8ms/step - loss: 0.0842 - accuracy: 0.9779 - val_loss: 0.1012 - val_accuracy: 0.9702\n",
            "Epoch 9/10\n",
            "550/550 [==============================] - 4s 8ms/step - loss: 0.0757 - accuracy: 0.9804 - val_loss: 0.0987 - val_accuracy: 0.9712\n",
            "Epoch 10/10\n",
            "550/550 [==============================] - 5s 10ms/step - loss: 0.0675 - accuracy: 0.9829 - val_loss: 0.0952 - val_accuracy: 0.9716\n"
          ]
        }
      ]
    },
    {
      "cell_type": "code",
      "source": [
        "predict_100 = model_bn_clf.evaluate(X_test,y_test)\n",
        "print(predict_100)"
      ],
      "metadata": {
        "colab": {
          "base_uri": "https://localhost:8080/"
        },
        "id": "YvVkrfiSjZIX",
        "outputId": "abeb7f9f-bf4d-4b2f-eac9-937b9d463476"
      },
      "execution_count": 65,
      "outputs": [
        {
          "output_type": "stream",
          "name": "stdout",
          "text": [
            "313/313 [==============================] - 2s 4ms/step - loss: 0.0942 - accuracy: 0.9731\n",
            "[0.09415649622678757, 0.9731000065803528]\n"
          ]
        }
      ]
    },
    {
      "cell_type": "code",
      "source": [
        "df_16 = pd.DataFrame(history_16.history)\n",
        "df_50 = pd.DataFrame(history_50.history)\n",
        "df_100 = pd.DataFrame(history_100.history)"
      ],
      "metadata": {
        "id": "XwJR9P4eeVbi"
      },
      "execution_count": 66,
      "outputs": []
    },
    {
      "cell_type": "code",
      "source": [
        "df_16.plot(title=\"batch size 16\")"
      ],
      "metadata": {
        "colab": {
          "base_uri": "https://localhost:8080/",
          "height": 470
        },
        "id": "YrdlVvzgfPja",
        "outputId": "27791551-7b8b-46b5-a525-31369e179261"
      },
      "execution_count": 67,
      "outputs": [
        {
          "output_type": "execute_result",
          "data": {
            "text/plain": [
              "<Axes: title={'center': 'batch size 16'}>"
            ]
          },
          "metadata": {},
          "execution_count": 67
        },
        {
          "output_type": "display_data",
          "data": {
            "text/plain": [
              "<Figure size 640x480 with 1 Axes>"
            ],
            "image/png": "[encoded data removed]"
          },
          "metadata": {}
        }
      ]
    },
    {
      "cell_type": "code",
      "source": [
        "df_50.plot(title=\"batch size 50\")"
      ],
      "metadata": {
        "colab": {
          "base_uri": "https://localhost:8080/",
          "height": 470
        },
        "id": "EUBtnh_LfsEy",
        "outputId": "a1ea4a40-72e6-4466-a30d-49106899f4b1"
      },
      "execution_count": 68,
      "outputs": [
        {
          "output_type": "execute_result",
          "data": {
            "text/plain": [
              "<Axes: title={'center': 'batch size 50'}>"
            ]
          },
          "metadata": {},
          "execution_count": 68
        },
        {
          "output_type": "display_data",
          "data": {
            "text/plain": [
              "<Figure size 640x480 with 1 Axes>"
            ],
            "image/png": "[encoded data removed]"
          },
          "metadata": {}
        }
      ]
    },
    {
      "cell_type": "code",
      "source": [
        "df_100.plot(title=\"batch size 100\")"
      ],
      "metadata": {
        "colab": {
          "base_uri": "https://localhost:8080/",
          "height": 470
        },
        "id": "hMXa-0VGgFtg",
        "outputId": "5e95e72d-6229-4828-f5d5-92145859c8af"
      },
      "execution_count": 69,
      "outputs": [
        {
          "output_type": "execute_result",
          "data": {
            "text/plain": [
              "<Axes: title={'center': 'batch size 100'}>"
            ]
          },
          "metadata": {},
          "execution_count": 69
        },
        {
          "output_type": "display_data",
          "data": {
            "text/plain": [
              "<Figure size 640x480 with 1 Axes>"
            ],
            "image/png": "[encoded data removed]"
          },
          "metadata": {}
        }
      ]
    },
    {
      "cell_type": "code",
      "source": [
        "# combining the prediction results for different batch sizes\n",
        "final_predictions = pd.DataFrame([predict_16,predict_50,predict_100],columns=('loss','accuracy'),index=('batch_16','batch_50','batch_100'))\n",
        "final_predictions"
      ],
      "metadata": {
        "colab": {
          "base_uri": "https://localhost:8080/",
          "height": 143
        },
        "id": "YlBCObulgOUV",
        "outputId": "ea52ba04-5566-4b96-c163-0036dec7698e"
      },
      "execution_count": 79,
      "outputs": [
        {
          "output_type": "execute_result",
          "data": {
            "text/plain": [
              "               loss  accuracy\n",
              "batch_16   0.066224    0.9789\n",
              "batch_50   0.079134    0.9759\n",
              "batch_100  0.094156    0.9731"
            ],
            "text/html": [
              "\n",
              "  <div id=\"df-51589185-73fb-44d5-a99a-758a13b933c5\">\n",
              "    <div class=\"colab-df-container\">\n",
              "      <div>\n",
              "<style scoped>\n",
              "    .dataframe tbody tr th:only-of-type {\n",
              "        vertical-align: middle;\n",
              "    }\n",
              "\n",
              "    .dataframe tbody tr th {\n",
              "        vertical-align: top;\n",
              "    }\n",
              "\n",
              "    .dataframe thead th {\n",
              "        text-align: right;\n",
              "    }\n",
              "</style>\n",
              "<table border=\"1\" class=\"dataframe\">\n",
              "  <thead>\n",
              "    <tr style=\"text-align: right;\">\n",
              "      <th></th>\n",
              "      <th>loss</th>\n",
              "      <th>accuracy</th>\n",
              "    </tr>\n",
              "  </thead>\n",
              "  <tbody>\n",
              "    <tr>\n",
              "      <th>batch_16</th>\n",
              "      <td>0.066224</td>\n",
              "      <td>0.9789</td>\n",
              "    </tr>\n",
              "    <tr>\n",
              "      <th>batch_50</th>\n",
              "      <td>0.079134</td>\n",
              "      <td>0.9759</td>\n",
              "    </tr>\n",
              "    <tr>\n",
              "      <th>batch_100</th>\n",
              "      <td>0.094156</td>\n",
              "      <td>0.9731</td>\n",
              "    </tr>\n",
              "  </tbody>\n",
              "</table>\n",
              "</div>\n",
              "      <button class=\"colab-df-convert\" onclick=\"convertToInteractive('df-51589185-73fb-44d5-a99a-758a13b933c5')\"\n",
              "              title=\"Convert this dataframe to an interactive table.\"\n",
              "              style=\"display:none;\">\n",
              "        \n",
              "  <svg xmlns=\"http://www.w3.org/2000/svg\" height=\"24px\"viewBox=\"0 0 24 24\"\n",
              "       width=\"24px\">\n",
              "    <path d=\"M0 0h24v24H0V0z\" fill=\"none\"/>\n",
              "    <path d=\"M18.56 5.44l.94 2.06.94-2.06 2.06-.94-2.06-.94-.94-2.06-.94 2.06-2.06.94zm-11 1L8.5 8.5l.94-2.06 2.06-.94-2.06-.94L8.5 2.5l-.94 2.06-2.06.94zm10 10l.94 2.06.94-2.06 2.06-.94-2.06-.94-.94-2.06-.94 2.06-2.06.94z\"/><path d=\"M17.41 7.96l-1.37-1.37c-.4-.4-.92-.59-1.43-.59-.52 0-1.04.2-1.43.59L10.3 9.45l-7.72 7.72c-.78.78-.78 2.05 0 2.83L4 21.41c.39.39.9.59 1.41.59.51 0 1.02-.2 1.41-.59l7.78-7.78 2.81-2.81c.8-.78.8-2.07 0-2.86zM5.41 20L4 18.59l7.72-7.72 1.47 1.35L5.41 20z\"/>\n",
              "  </svg>\n",
              "      </button>\n",
              "      \n",
              "  <style>\n",
              "    .colab-df-container {\n",
              "      display:flex;\n",
              "      flex-wrap:wrap;\n",
              "      gap: 12px;\n",
              "    }\n",
              "\n",
              "    .colab-df-convert {\n",
              "      background-color: #E8F0FE;\n",
              "      border: none;\n",
              "      border-radius: 50%;\n",
              "      cursor: pointer;\n",
              "      display: none;\n",
              "      fill: #1967D2;\n",
              "      height: 32px;\n",
              "      padding: 0 0 0 0;\n",
              "      width: 32px;\n",
              "    }\n",
              "\n",
              "    .colab-df-convert:hover {\n",
              "      background-color: #E2EBFA;\n",
              "      box-shadow: 0px 1px 2px rgba(60, 64, 67, 0.3), 0px 1px 3px 1px rgba(60, 64, 67, 0.15);\n",
              "      fill: #174EA6;\n",
              "    }\n",
              "\n",
              "    [theme=dark] .colab-df-convert {\n",
              "      background-color: #3B4455;\n",
              "      fill: #D2E3FC;\n",
              "    }\n",
              "\n",
              "    [theme=dark] .colab-df-convert:hover {\n",
              "      background-color: #434B5C;\n",
              "      box-shadow: 0px 1px 3px 1px rgba(0, 0, 0, 0.15);\n",
              "      filter: drop-shadow(0px 1px 2px rgba(0, 0, 0, 0.3));\n",
              "      fill: #FFFFFF;\n",
              "    }\n",
              "  </style>\n",
              "\n",
              "      <script>\n",
              "        const buttonEl =\n",
              "          document.querySelector('#df-51589185-73fb-44d5-a99a-758a13b933c5 button.colab-df-convert');\n",
              "        buttonEl.style.display =\n",
              "          google.colab.kernel.accessAllowed ? 'block' : 'none';\n",
              "\n",
              "        async function convertToInteractive(key) {\n",
              "          const element = document.querySelector('#df-51589185-73fb-44d5-a99a-758a13b933c5');\n",
              "          const dataTable =\n",
              "            await google.colab.kernel.invokeFunction('convertToInteractive',\n",
              "                                                     [key], {});\n",
              "          if (!dataTable) return;\n",
              "\n",
              "          const docLinkHtml = 'Like what you see? Visit the ' +\n",
              "            '<a target=\"_blank\" href=https://colab.research.google.com/notebooks/data_table.ipynb>data table notebook</a>'\n",
              "            + ' to learn more about interactive tables.';\n",
              "          element.innerHTML = '';\n",
              "          dataTable['output_type'] = 'display_data';\n",
              "          await google.colab.output.renderOutput(dataTable, element);\n",
              "          const docLink = document.createElement('div');\n",
              "          docLink.innerHTML = docLinkHtml;\n",
              "          element.appendChild(docLink);\n",
              "        }\n",
              "      </script>\n",
              "    </div>\n",
              "  </div>\n",
              "  "
            ]
          },
          "metadata": {},
          "execution_count": 79
        }
      ]
    },
    {
      "cell_type": "markdown",
      "source": [
        "# **Conclusions from the experiment**\n",
        "1. Increasing the batch size resulted in an increase in loss and a fall in accuracy\n",
        "2. The gradients took a longer time to converge with increase in batch size\n",
        "3. Whereas increase in batch size reduced the traning time significantly as batch of 16 resulted in longest training time\n",
        "4. Even with Batch Normalization employeed smaller batch size yielded better reuslts\n",
        "\n",
        "In summary we can see that batch size is a hyperparameter which when reduced leads to a higher accuracy and greater reduction in loss but the training time increases significantly for a large dataset.\n",
        "\n",
        "Please note: The epoch size was limited to 10 for this expirement and increasing the epoch size will definitely alter the results by producing better outcomes."
      ],
      "metadata": {
        "id": "ne7FiWT2lgJA"
      }
    },
    {
      "cell_type": "markdown",
      "source": [
        "2. Discuss the advantages and potential limitations of batch normalization in improving the training of neural networks."
      ],
      "metadata": {
        "id": "xdm5dt62oQ-K"
      }
    },
    {
      "cell_type": "markdown",
      "source": [
        "Batch normalization offers several advantages in improving the training of neural networks. However, it is also important to consider potential limitations. Let's discuss both the advantages and potential limitations of batch normalization:\n",
        "\n",
        "Advantages of Batch Normalization:\n",
        "\n",
        "1. **Improved Training Stability**: Batch normalization reduces the internal covariate shift, stabilizing the distribution of intermediate layer activations during training. This leads to more stable and consistent learning, making the training process less sensitive to the choice of hyperparameters.\n",
        "\n",
        "2. **Faster Convergence**: By addressing the vanishing and exploding gradient problems, batch normalization improves the flow of gradients through the network. This enables faster convergence, reducing the training time required to achieve a desired level of performance.\n",
        "\n",
        "3. **Higher Learning Rates**: Batch normalization allows for the use of higher learning rates without the risk of divergence. Normalizing the inputs makes them less sensitive to the learning rate, enabling faster convergence and better exploration of the weight space.\n",
        "\n",
        "4. **Regularization Effect**: Batch normalization acts as a regularizer by adding a slight amount of noise to the network during training. This noise helps prevent overfitting and improves the generalization performance of the neural network.\n",
        "\n",
        "5. **Reduced Dependency on Weight Initialization**: Batch normalization makes neural networks less sensitive to the choice of weight initialization. This reduces the effort required for finding optimal weight initializations and makes the training process more robust.\n",
        "\n",
        "Potential Limitations of Batch Normalization:\n",
        "\n",
        "1. **Batch Size Dependency**: Batch normalization computes statistics based on mini-batches of training examples. Very small batch sizes can lead to noisy estimates of mean and variance, which can affect the normalization process. Therefore, larger batch sizes generally yield better results with batch normalization.\n",
        "\n",
        "2. **Inference Mode**: The behavior of batch normalization during the inference or evaluation phase is different from training. The aggregated statistics (mean and variance) collected during training are used instead of mini-batch statistics. This introduces a slight mismatch between training and inference, although it generally does not have a significant impact on performance.\n",
        "\n",
        "3. **Added Computational Overhead**: Batch normalization introduces additional computations during training, including the calculation of mean, variance, normalization, and scaling/shifting operations. This can increase the computational cost of training, especially for large networks.\n",
        "\n",
        "4. **Limited Applicability to Small Datasets**: Batch normalization's effectiveness is more pronounced when training on large datasets. In scenarios where the dataset is small, the mini-batch statistics might not accurately represent the overall data distribution, potentially impacting the normalization process.\n",
        "\n",
        "5. **Dependency on Network Architecture**: While batch normalization generally works well with various network architectures, it may not always be beneficial or suitable for certain types of networks, such as recurrent neural networks (RNNs) or generative adversarial networks (GANs). In such cases, alternative normalization techniques tailored to specific architectures may be more appropriate.\n",
        "\n",
        "It's worth noting that many of the limitations can be mitigated or managed with proper experimentation, hyperparameter tuning, and understanding of the specific characteristics of the dataset and network architecture.\n",
        "\n",
        "Despite the potential limitations, batch normalization remains a widely used technique in deep learning due to its effectiveness in improving training stability, convergence speed, and generalization performance of neural networks."
      ],
      "metadata": {
        "id": "zcIZ7p-LofnK"
      }
    }
  ]
}