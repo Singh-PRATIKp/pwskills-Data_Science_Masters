{
 "cells": [
  {
   "attachments": {},
   "cell_type": "markdown",
   "metadata": {},
   "source": [
    "# **`TensorFlow Fundamentals`**"
   ]
  },
  {
   "attachments": {},
   "cell_type": "markdown",
   "metadata": {},
   "source": [
    "**Part 1: Theoretical Questions**"
   ]
  },
  {
   "attachments": {},
   "cell_type": "markdown",
   "metadata": {},
   "source": [
    "1. What are the different data structures used in Tensorflow?. Give some examples."
   ]
  },
  {
   "attachments": {},
   "cell_type": "markdown",
   "metadata": {},
   "source": [
    "In TensorFlow, the primary data structure used for computation is the tensor. Tensors are multi-dimensional arrays that can hold data of various types. They are the fundamental building blocks for creating and manipulating data in TensorFlow. Here are some examples of data structures used in TensorFlow:\n",
    "\n",
    "1. **tf.Tensor**: The tf.Tensor is the core data structure in TensorFlow. It represents a tensor, which is a multi-dimensional array of elements of a specific data type. Tensors can have different ranks (number of dimensions) such as scalars, vectors, matrices, or higher-dimensional arrays.\n",
    "\n",
    "2. **tf.Variable**: tf.Variable is a mutable tensor that can be used to store and update trainable parameters in a TensorFlow model. It allows you to define and manage variables that can be modified during training or optimization.\n",
    "\n",
    "3. **tf.constant**: tf.constant is an immutable tensor that holds a constant value. It is typically used to store fixed values such as hyperparameters, model configurations, or other constant data.\n",
    "\n",
    "4. **tf.SparseTensor**: tf.SparseTensor is a specialized tensor format used to efficiently represent sparse data, where most of the elements are zero. It stores only the non-zero values and their indices, reducing memory consumption and speeding up computations for sparse data.\n",
    "\n",
    "5. **tf.RaggedTensor**: tf.RaggedTensor is a data structure for representing and manipulating ragged or nested tensors. It is useful for handling variable-length data, such as sequences or text data, where the lengths of the elements can vary.\n",
    "\n",
    "6. **tf.TensorArray**: tf.TensorArray is a dynamic, variable-length array that allows you to store and manipulate tensors in a loop. It can be used to accumulate intermediate results during computation.\n",
    "\n",
    "These are some of the commonly used data structures in TensorFlow. They provide flexibility and efficiency for various types of data and computation requirements in TensorFlow models and operations."
   ]
  },
  {
   "attachments": {},
   "cell_type": "markdown",
   "metadata": {},
   "source": [
    "2. How does the TensorFlow constant differ from a TensorFlow variable? Explain with an example"
   ]
  },
  {
   "attachments": {},
   "cell_type": "markdown",
   "metadata": {},
   "source": [
    "In TensorFlow, both constants and variables are used to store data, but they have some key differences in terms of their immutability and their usage within a computational graph. Let's explore the differences between TensorFlow constants and variables with an example:"
   ]
  },
  {
   "cell_type": "code",
   "execution_count": 12,
   "metadata": {},
   "outputs": [
    {
     "name": "stdout",
     "output_type": "stream",
     "text": [
      "Result1 : 8\n",
      "Result2 : 9\n"
     ]
    }
   ],
   "source": [
    "import tensorflow as tf\n",
    "\n",
    "# TensorFlow Constant\n",
    "a = tf.constant(5)  # Creating a constant tensor with value 5\n",
    "\n",
    "# TensorFlow Variable\n",
    "b = tf.Variable(3)  # Creating a variable tensor with initial value 3\n",
    "\n",
    "# TensorFlow operations\n",
    "add_op = tf.add(a, b)  # Adding constant 'a' and variable 'b'\n",
    "update_op = b.assign(tf.add(b,1))  # Incrementing the variable 'b' by 1\n",
    "add_op_update = tf.add(a,update_op)\n",
    "\n",
    "print(\"Result1 :\", add_op.numpy())\n",
    "print(\"Result2 :\", add_op_update.numpy())\n"
   ]
  },
  {
   "attachments": {},
   "cell_type": "markdown",
   "metadata": {},
   "source": [
    "In the example above, we create a TensorFlow constant a with a value of 5 using tf.constant(5). Constants are immutable; their values cannot be changed once assigned. They are typically used to store fixed values such as hyperparameters or other constant data that remains the same throughout the execution of a TensorFlow graph.\n",
    "\n",
    "On the other hand, we create a TensorFlow variable b with an initial value of 3 using tf.Variable(3). Variables are mutable; their values can be modified during the execution of a TensorFlow graph. Variables are commonly used to store and update trainable parameters, such as weights and biases, in machine learning models.\n",
    "\n",
    "In the example, we perform TensorFlow operations by adding the constant a and the variable b using tf.add(a, b). The result is computed based on the initial values of a and b. However, we also have an update operation b.assign(tf.add(b, 1)), which increments the value of the variable b by 1. This update modifies the value of b for subsequent computations as reflected. Finally Reuslt1 yields 8 and Result2 with updated b value yields 9."
   ]
  },
  {
   "attachments": {},
   "cell_type": "markdown",
   "metadata": {},
   "source": [
    "3. Describe the process of matrix addition, multiplication, and elementwise operations in TensorFlow."
   ]
  },
  {
   "attachments": {},
   "cell_type": "markdown",
   "metadata": {},
   "source": [
    "In TensorFlow, matrix addition, multiplication, and elementwise operations are performed using the TensorFlow operations specifically designed for these computations. Let's explore each process in detail:\n",
    "\n",
    "Matrix Addition:\n",
    "Matrix addition in TensorFlow is performed using the tf.add() operation. The operation takes two tensors of the same shape and adds their corresponding elements elementwise. The resulting tensor will have the same shape as the input tensors.\n",
    "\n",
    "Example:"
   ]
  },
  {
   "cell_type": "code",
   "execution_count": 22,
   "metadata": {},
   "outputs": [
    {
     "name": "stdout",
     "output_type": "stream",
     "text": [
      "tf.Tensor(\n",
      "[[ 6  8]\n",
      " [10 12]], shape=(2, 2), dtype=int32)\n"
     ]
    }
   ],
   "source": [
    "import tensorflow as tf\n",
    "import numpy as np\n",
    "\n",
    "# Creating two matrices\n",
    "matrix1 = tf.constant([[1, 2], [3, 4]])\n",
    "matrix2 = tf.constant([[5, 6], [7, 8]])\n",
    "\n",
    "# Matrix addition\n",
    "result = tf.add(matrix1, matrix2)\n",
    "print(result)"
   ]
  },
  {
   "attachments": {},
   "cell_type": "markdown",
   "metadata": {},
   "source": [
    "Matrix Multiplication:\n",
    "Matrix multiplication in TensorFlow is performed using the tf.matmul() operation. The operation takes two tensors as input and performs matrix multiplication according to the mathematical rules of matrix multiplication. The shape of the input tensors must be compatible for matrix multiplication.\n",
    "\n",
    "Example:"
   ]
  },
  {
   "cell_type": "code",
   "execution_count": 3,
   "metadata": {},
   "outputs": [
    {
     "name": "stdout",
     "output_type": "stream",
     "text": [
      "tf.Tensor(\n",
      "[[19 22]\n",
      " [43 50]], shape=(2, 2), dtype=int32)\n"
     ]
    }
   ],
   "source": [
    "# Creating two matrices\n",
    "matrix1 = tf.constant([[1, 2], [3, 4]])\n",
    "matrix2 = tf.constant([[5, 6], [7, 8]])\n",
    "\n",
    "# Matrix addition\n",
    "result = tf.matmul(matrix1, matrix2)\n",
    "print(result)"
   ]
  },
  {
   "attachments": {},
   "cell_type": "markdown",
   "metadata": {},
   "source": [
    "Elementwise Operations:\n",
    "Elementwise operations in TensorFlow operate on corresponding elements of tensors independently. Common elementwise operations include addition (tf.add()), subtraction (tf.subtract()), multiplication (tf.multiply()), division (tf.divide()), exponentiation (tf.pow()), and more. These operations allow performing computations element by element across tensors with compatible shapes.\n",
    "\n",
    "Example:"
   ]
  },
  {
   "cell_type": "code",
   "execution_count": 4,
   "metadata": {},
   "outputs": [
    {
     "name": "stdout",
     "output_type": "stream",
     "text": [
      "tf.Tensor(\n",
      "[[ 5 12]\n",
      " [21 32]], shape=(2, 2), dtype=int32)\n"
     ]
    }
   ],
   "source": [
    "# Creating two matrices\n",
    "matrix1 = tf.constant([[1, 2], [3, 4]])\n",
    "matrix2 = tf.constant([[5, 6], [7, 8]])\n",
    "\n",
    "# Matrix addition\n",
    "result = tf.multiply(matrix1, matrix2)\n",
    "print(result)"
   ]
  },
  {
   "attachments": {},
   "cell_type": "markdown",
   "metadata": {},
   "source": [
    "**Part 2: Practical Implementation**"
   ]
  },
  {
   "attachments": {},
   "cell_type": "markdown",
   "metadata": {},
   "source": [
    "Task 1: Creating and Manipulating Matrices<br>\n",
    "note: The shape of the matrices in the questions are being altered to facilitate the operations."
   ]
  },
  {
   "attachments": {},
   "cell_type": "markdown",
   "metadata": {},
   "source": [
    "1. Create a normal matrix A with dimensions 3x3, using TensorFlow's random_normal function. Display the\n",
    "values of matrix A."
   ]
  },
  {
   "cell_type": "code",
   "execution_count": 8,
   "metadata": {},
   "outputs": [
    {
     "name": "stdout",
     "output_type": "stream",
     "text": [
      "tf.Tensor(\n",
      "[[-0.22465332  2.1055245  -0.8811136 ]\n",
      " [-0.13667789  0.80546653  2.050046  ]\n",
      " [ 0.05245926  1.6659833  -0.31453454]], shape=(3, 3), dtype=float32)\n"
     ]
    }
   ],
   "source": [
    "matrix_A = tf.random.normal(shape=(3,3))\n",
    "print(matrix_A)"
   ]
  },
  {
   "attachments": {},
   "cell_type": "markdown",
   "metadata": {},
   "source": [
    "2. Create a Gaussian matrix B with dimensions 3x3, using TensorFlow's truncated_normal function. Display the values of matrix B."
   ]
  },
  {
   "cell_type": "code",
   "execution_count": 14,
   "metadata": {},
   "outputs": [
    {
     "name": "stdout",
     "output_type": "stream",
     "text": [
      "tf.Tensor(\n",
      "[[-0.18799683  0.32815868 -1.1195952 ]\n",
      " [ 0.7606417   1.1597407  -0.34711504]\n",
      " [-0.9129991   0.35354373  0.05197154]], shape=(3, 3), dtype=float32)\n"
     ]
    }
   ],
   "source": [
    "matrix_B = tf.random.truncated_normal(shape=(3,3))\n",
    "print(matrix_B)"
   ]
  },
  {
   "attachments": {},
   "cell_type": "markdown",
   "metadata": {},
   "source": [
    "3. Create a matrix C with dimensions 2x3, where the values are drawn from a normal distribution with a mean of 2 and a standard deviation of 0.5, using TensorFlow's random.normal function. Display the values of matrix C."
   ]
  },
  {
   "cell_type": "code",
   "execution_count": 17,
   "metadata": {},
   "outputs": [
    {
     "name": "stdout",
     "output_type": "stream",
     "text": [
      "tf.Tensor(\n",
      "[[1.7780722 1.9982818 1.3195624]\n",
      " [1.979469  2.229458  2.184272 ]], shape=(2, 3), dtype=float32)\n"
     ]
    }
   ],
   "source": [
    "matrix_C = tf.random.normal(shape=(2,3),mean=2 ,stddev=0.5)\n",
    "print(matrix_C)"
   ]
  },
  {
   "attachments": {},
   "cell_type": "markdown",
   "metadata": {},
   "source": [
    "4. Perform matrix addition between matrix A and matrix B, and store the result in matrix D."
   ]
  },
  {
   "cell_type": "code",
   "execution_count": 18,
   "metadata": {},
   "outputs": [
    {
     "name": "stdout",
     "output_type": "stream",
     "text": [
      "tf.Tensor(\n",
      "[[-0.41265017  2.4336832  -2.0007088 ]\n",
      " [ 0.62396383  1.9652072   1.7029309 ]\n",
      " [-0.86053985  2.019527   -0.262563  ]], shape=(3, 3), dtype=float32)\n"
     ]
    }
   ],
   "source": [
    "matrix_D = matrix_A + matrix_B\n",
    "print(matrix_D)"
   ]
  },
  {
   "attachments": {},
   "cell_type": "markdown",
   "metadata": {},
   "source": [
    "\n",
    "\n",
    "\n",
    "\n",
    "5. Perform matrix multiplication between matrix C and matrix D, and store the result in matrix E."
   ]
  },
  {
   "cell_type": "code",
   "execution_count": 19,
   "metadata": {},
   "outputs": [
    {
     "name": "stdout",
     "output_type": "stream",
     "text": [
      "tf.Tensor(\n",
      "[[-0.62240225 10.919194   -0.50093704]\n",
      " [-1.3053801  13.609943   -0.73723674]], shape=(2, 3), dtype=float32)\n"
     ]
    }
   ],
   "source": [
    "matrix_E = tf.matmul(matrix_C ,matrix_D)\n",
    "print(matrix_E)"
   ]
  },
  {
   "attachments": {},
   "cell_type": "markdown",
   "metadata": {},
   "source": [
    "**Task 2: Performing Additional Matrix Operations**"
   ]
  },
  {
   "attachments": {},
   "cell_type": "markdown",
   "metadata": {},
   "source": [
    "1. Create a matrix F with dimensions 2x2, initialized with random values using TensorFlow's random_uniform\n",
    "function."
   ]
  },
  {
   "cell_type": "code",
   "execution_count": 20,
   "metadata": {},
   "outputs": [
    {
     "name": "stdout",
     "output_type": "stream",
     "text": [
      "tf.Tensor(\n",
      "[[0.75307524 0.27121508]\n",
      " [0.86302936 0.3447578 ]], shape=(2, 2), dtype=float32)\n"
     ]
    }
   ],
   "source": [
    "matrix_F = tf.random.uniform(shape=(2,2))\n",
    "print(matrix_F)"
   ]
  },
  {
   "attachments": {},
   "cell_type": "markdown",
   "metadata": {},
   "source": [
    "2. Calculate the transpose of matrix F and store the result in matrix G."
   ]
  },
  {
   "cell_type": "code",
   "execution_count": 21,
   "metadata": {},
   "outputs": [
    {
     "name": "stdout",
     "output_type": "stream",
     "text": [
      "tf.Tensor(\n",
      "[[0.75307524 0.86302936]\n",
      " [0.27121508 0.3447578 ]], shape=(2, 2), dtype=float32)\n"
     ]
    }
   ],
   "source": [
    "matrix_G = tf.transpose(matrix_F)\n",
    "print(matrix_G)"
   ]
  },
  {
   "attachments": {},
   "cell_type": "markdown",
   "metadata": {},
   "source": [
    "3. Calculate the element-wise exponential of matrix F and store the result in matrix H."
   ]
  },
  {
   "cell_type": "code",
   "execution_count": 27,
   "metadata": {},
   "outputs": [
    {
     "name": "stdout",
     "output_type": "stream",
     "text": [
      "tf.Tensor(\n",
      "[[2.1235204 1.3115572]\n",
      " [2.3703303 1.4116479]], shape=(2, 2), dtype=float32)\n"
     ]
    }
   ],
   "source": [
    "matrix_H = tf.math.exp(matrix_F)\n",
    "print(matrix_H)"
   ]
  },
  {
   "attachments": {},
   "cell_type": "markdown",
   "metadata": {},
   "source": [
    "4. Create a matrix I by concatenating matrix F and matrix G horizontally."
   ]
  },
  {
   "cell_type": "code",
   "execution_count": 29,
   "metadata": {},
   "outputs": [
    {
     "name": "stdout",
     "output_type": "stream",
     "text": [
      "tf.Tensor(\n",
      "[[0.75307524 0.27121508]\n",
      " [0.86302936 0.3447578 ]\n",
      " [0.75307524 0.86302936]\n",
      " [0.27121508 0.3447578 ]], shape=(4, 2), dtype=float32)\n"
     ]
    }
   ],
   "source": [
    "matrix_I = tf.concat(values=[matrix_F, matrix_G], axis=0)\n",
    "print(matrix_I)"
   ]
  },
  {
   "attachments": {},
   "cell_type": "markdown",
   "metadata": {},
   "source": [
    "\n",
    "\n",
    "\n",
    "\n",
    "5. Create a matrix J by concatenating matrix F and matrix H vertically."
   ]
  },
  {
   "cell_type": "code",
   "execution_count": 30,
   "metadata": {},
   "outputs": [
    {
     "name": "stdout",
     "output_type": "stream",
     "text": [
      "tf.Tensor(\n",
      "[[0.75307524 0.27121508 2.1235204  1.3115572 ]\n",
      " [0.86302936 0.3447578  2.3703303  1.4116479 ]], shape=(2, 4), dtype=float32)\n"
     ]
    }
   ],
   "source": [
    "matrix_J = tf.concat(values=[matrix_F, matrix_H], axis=1)\n",
    "print(matrix_J)"
   ]
  }
 ],
 "metadata": {
  "kernelspec": {
   "display_name": "Python 3",
   "language": "python",
   "name": "python3"
  },
  "language_info": {
   "codemirror_mode": {
    "name": "ipython",
    "version": 3
   },
   "file_extension": ".py",
   "mimetype": "text/x-python",
   "name": "python",
   "nbconvert_exporter": "python",
   "pygments_lexer": "ipython3",
   "version": "3.9.0"
  },
  "orig_nbformat": 4
 },
 "nbformat": 4,
 "nbformat_minor": 2
}
