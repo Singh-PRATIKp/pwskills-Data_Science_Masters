{
 "cells": [
  {
   "cell_type": "markdown",
   "id": "d4a002bd-e85c-4376-bd60-b611a73f9174",
   "metadata": {},
   "source": [
    "`CLASS METHODS`"
   ]
  },
  {
   "cell_type": "code",
   "execution_count": 1,
   "id": "cc67efd1-2c8a-4924-9e68-0d55ee134f13",
   "metadata": {},
   "outputs": [],
   "source": [
    "class pwskills:\n",
    "    def __init__(self, name, email):\n",
    "        self.name = name\n",
    "        self.email = email\n",
    "        \n",
    "    def student_details(self):\n",
    "        print(self.name,self.email)"
   ]
  },
  {
   "cell_type": "code",
   "execution_count": 2,
   "id": "fc304faa-7f9f-40b6-880c-872e5a2ea3b4",
   "metadata": {},
   "outputs": [],
   "source": [
    "pw = pwskills('sudh','sudh@gmail.com')"
   ]
  },
  {
   "cell_type": "code",
   "execution_count": 4,
   "id": "9142bb38-0854-4391-9fa7-7df2be2bde3c",
   "metadata": {},
   "outputs": [
    {
     "data": {
      "text/plain": [
       "'sudh'"
      ]
     },
     "execution_count": 4,
     "metadata": {},
     "output_type": "execute_result"
    }
   ],
   "source": [
    "pw.name"
   ]
  },
  {
   "cell_type": "code",
   "execution_count": 5,
   "id": "bf140253-9303-41a0-984e-41add53931dc",
   "metadata": {},
   "outputs": [
    {
     "data": {
      "text/plain": [
       "'sudh@gmail.com'"
      ]
     },
     "execution_count": 5,
     "metadata": {},
     "output_type": "execute_result"
    }
   ],
   "source": [
    "pw.email"
   ]
  },
  {
   "cell_type": "code",
   "execution_count": 6,
   "id": "9b02a2c1-d91e-4f58-a440-23b7d3160a64",
   "metadata": {},
   "outputs": [
    {
     "name": "stdout",
     "output_type": "stream",
     "text": [
      "sudh sudh@gmail.com\n"
     ]
    }
   ],
   "source": [
    "pw.student_details()"
   ]
  },
  {
   "cell_type": "code",
   "execution_count": 23,
   "id": "19a0ca6b-d66e-4ac0-956e-edd76c81744e",
   "metadata": {},
   "outputs": [],
   "source": [
    "#function overloading achieved indirectly in python as it is not possible directly\n",
    "class pwskills1:\n",
    "    def __init__(self, name, email):\n",
    "        self.name = name\n",
    "        self.email = email\n",
    "     \n",
    "    @classmethod #alternative for init function\n",
    "    def details(cls, name1 , email1):\n",
    "        return cls(name1,email1)\n",
    "        \n",
    "    def student_details(self):\n",
    "        print(self.name,self.email)"
   ]
  },
  {
   "cell_type": "code",
   "execution_count": 24,
   "id": "84d3d2f1-2357-4a6b-b58d-6f8565859de6",
   "metadata": {},
   "outputs": [],
   "source": [
    "pw1 = pwskills1.details('mohan',\"mohan@gmail.com\")"
   ]
  },
  {
   "cell_type": "code",
   "execution_count": 25,
   "id": "0d67091f-50bb-40dc-8313-035bd9341e40",
   "metadata": {},
   "outputs": [
    {
     "data": {
      "text/plain": [
       "'mohan'"
      ]
     },
     "execution_count": 25,
     "metadata": {},
     "output_type": "execute_result"
    }
   ],
   "source": [
    "pw1.name"
   ]
  },
  {
   "cell_type": "code",
   "execution_count": 26,
   "id": "40756395-422e-439b-bf6b-bf697bda7135",
   "metadata": {},
   "outputs": [
    {
     "data": {
      "text/plain": [
       "'mohan@gmail.com'"
      ]
     },
     "execution_count": 26,
     "metadata": {},
     "output_type": "execute_result"
    }
   ],
   "source": [
    "pw1.email"
   ]
  },
  {
   "cell_type": "code",
   "execution_count": 27,
   "id": "57964342-dee1-4579-88fa-a9bb9f475836",
   "metadata": {},
   "outputs": [
    {
     "name": "stdout",
     "output_type": "stream",
     "text": [
      "mohan mohan@gmail.com\n"
     ]
    }
   ],
   "source": [
    "pw1.student_details()"
   ]
  },
  {
   "cell_type": "code",
   "execution_count": 38,
   "id": "a80b30c1-0e39-4c3a-880b-270f5871c3d0",
   "metadata": {},
   "outputs": [],
   "source": [
    "class pwskills2:\n",
    "    \n",
    "    mobile_number = 9876535233\n",
    "    \n",
    "    def __init__(self, name, email):\n",
    "        self.name = name\n",
    "        self.email = email\n",
    "     \n",
    "    @classmethod\n",
    "    def change_number(cls,mobile):\n",
    "        pwskills2.mobile_number = mobile\n",
    "    \n",
    "    @classmethod #alternative for init function\n",
    "    def details(cls, name1 , email1):\n",
    "        return cls(name1,email1)\n",
    "        \n",
    "    def student_details(self):\n",
    "        print(self.name,self.email,pwskills2.mobile_number)"
   ]
  },
  {
   "cell_type": "code",
   "execution_count": 39,
   "id": "c6ba757f-71a0-44fd-bbff-5c38172f0111",
   "metadata": {},
   "outputs": [
    {
     "data": {
      "text/plain": [
       "9876535233"
      ]
     },
     "execution_count": 39,
     "metadata": {},
     "output_type": "execute_result"
    }
   ],
   "source": [
    "pwskills2.mobile_number"
   ]
  },
  {
   "cell_type": "code",
   "execution_count": 40,
   "id": "cc3ca652-68f8-4a7a-853f-aecba9f04de5",
   "metadata": {},
   "outputs": [],
   "source": [
    "pwskills2.change_number(987654321)"
   ]
  },
  {
   "cell_type": "code",
   "execution_count": 41,
   "id": "eb14e202-5368-47f0-8bca-42dedfdfac82",
   "metadata": {},
   "outputs": [
    {
     "data": {
      "text/plain": [
       "987654321"
      ]
     },
     "execution_count": 41,
     "metadata": {},
     "output_type": "execute_result"
    }
   ],
   "source": [
    "pwskills2.mobile_number"
   ]
  },
  {
   "cell_type": "code",
   "execution_count": 34,
   "id": "f5a9b3b1-3b0c-4be6-8d6b-fe65e6440f0a",
   "metadata": {},
   "outputs": [],
   "source": [
    "pw2 = pwskills2.details('sohan','sohan@gmail.com')"
   ]
  },
  {
   "cell_type": "code",
   "execution_count": 35,
   "id": "dc49894a-fee8-43be-90b9-e00e884a2656",
   "metadata": {},
   "outputs": [
    {
     "name": "stdout",
     "output_type": "stream",
     "text": [
      "sohan sohan@gmail.com 9876535233\n"
     ]
    }
   ],
   "source": [
    "pw2.student_details()"
   ]
  },
  {
   "cell_type": "code",
   "execution_count": 36,
   "id": "63a9169f-df17-40d0-afd8-6534609730c8",
   "metadata": {},
   "outputs": [],
   "source": [
    "pw2_obj = pwskills2('rohan','rohan@gmail.com')"
   ]
  },
  {
   "cell_type": "code",
   "execution_count": 37,
   "id": "27721265-c6a3-4916-a6f7-f0e12a6203ee",
   "metadata": {},
   "outputs": [
    {
     "name": "stdout",
     "output_type": "stream",
     "text": [
      "rohan rohan@gmail.com 9876535233\n"
     ]
    }
   ],
   "source": [
    "pw2_obj.student_details()"
   ]
  },
  {
   "cell_type": "code",
   "execution_count": 42,
   "id": "474d43e4-dac1-4cc8-9b72-38496f62d8ed",
   "metadata": {},
   "outputs": [],
   "source": [
    "pw2_obj = pwskills2('sohail','sohail@gmail.com')"
   ]
  },
  {
   "cell_type": "code",
   "execution_count": 47,
   "id": "5b49dddc-79c6-4996-b09d-84d15c92ba13",
   "metadata": {},
   "outputs": [
    {
     "data": {
      "text/plain": [
       "<__main__.pwskills2 at 0x19aa3ba3b80>"
      ]
     },
     "execution_count": 47,
     "metadata": {},
     "output_type": "execute_result"
    }
   ],
   "source": [
    "pw2_obj.details('sudh','sudh@gmail.com')#with the help of object , the class method can be accessed"
   ]
  },
  {
   "cell_type": "code",
   "execution_count": 48,
   "id": "88650aad-90e5-48a0-b430-30cdac10b28c",
   "metadata": {},
   "outputs": [
    {
     "data": {
      "text/plain": [
       "'sohail'"
      ]
     },
     "execution_count": 48,
     "metadata": {},
     "output_type": "execute_result"
    }
   ],
   "source": [
    "pw2_obj.name"
   ]
  },
  {
   "cell_type": "code",
   "execution_count": 49,
   "id": "4f524ab9-9eaf-44af-8def-764ee1731aef",
   "metadata": {},
   "outputs": [],
   "source": [
    "pw2_obj.change_number(872387832723)"
   ]
  },
  {
   "cell_type": "code",
   "execution_count": 50,
   "id": "40500cb0-a1fa-4c80-892a-80f6a0b6c52e",
   "metadata": {},
   "outputs": [
    {
     "data": {
      "text/plain": [
       "872387832723"
      ]
     },
     "execution_count": 50,
     "metadata": {},
     "output_type": "execute_result"
    }
   ],
   "source": [
    "pw2_obj.mobile_number"
   ]
  },
  {
   "cell_type": "code",
   "execution_count": 51,
   "id": "ae714432-2338-4f84-b25a-cea9caf688ad",
   "metadata": {},
   "outputs": [],
   "source": [
    "class pwskills3:\n",
    "    \n",
    "    mobile_number = 9876535233\n",
    "    \n",
    "    def __init__(self, name, email):\n",
    "        self.name = name\n",
    "        self.email = email\n",
    "     \n",
    "    @classmethod\n",
    "    def change_number(cls,mobile):\n",
    "        pwskills2.mobile_number = mobile\n",
    "    \n",
    "    @classmethod #alternative for init function\n",
    "    def details(cls, name1 , email1):\n",
    "        return cls(name1,email1)\n",
    "        \n",
    "    def student_details(self):\n",
    "        print(self.name,self.email,pwskills2.mobile_number)"
   ]
  },
  {
   "cell_type": "code",
   "execution_count": 52,
   "id": "93b8449d-89f6-4905-88f0-14107e4448a5",
   "metadata": {},
   "outputs": [],
   "source": [
    "def course_details(cls, course_name):\n",
    "    print(\"course details\",course_name)"
   ]
  },
  {
   "cell_type": "code",
   "execution_count": 53,
   "id": "75063287-e72c-4655-9322-1246da745bef",
   "metadata": {},
   "outputs": [],
   "source": [
    "pwskills3.course_details = classmethod(course_details)"
   ]
  },
  {
   "cell_type": "code",
   "execution_count": 54,
   "id": "ca75921e-272f-42d3-a4e7-1c892c10096e",
   "metadata": {},
   "outputs": [
    {
     "name": "stdout",
     "output_type": "stream",
     "text": [
      "course details data science masters\n"
     ]
    }
   ],
   "source": [
    "pwskills3.course_details('data science masters')"
   ]
  },
  {
   "cell_type": "code",
   "execution_count": 55,
   "id": "beb7b41e-9f73-41b1-adc8-97acbe8d54fa",
   "metadata": {},
   "outputs": [],
   "source": [
    "pw3 = pwskills3('sudh','sudh@gmail.com')"
   ]
  },
  {
   "cell_type": "code",
   "execution_count": 57,
   "id": "4531708a-1be4-49bc-af41-972328a2a71b",
   "metadata": {},
   "outputs": [
    {
     "name": "stdout",
     "output_type": "stream",
     "text": [
      "course details web dev\n"
     ]
    }
   ],
   "source": [
    "pw3.course_details(\"web dev\")"
   ]
  },
  {
   "cell_type": "code",
   "execution_count": 60,
   "id": "b0bdcf13-306e-4ea2-94ca-a582194b5623",
   "metadata": {},
   "outputs": [],
   "source": [
    "class pwskills4:\n",
    "    \n",
    "    mobile_number = 9876535233\n",
    "    \n",
    "    def __init__(self, name, email):\n",
    "        self.name = name\n",
    "        self.email = email\n",
    "     \n",
    "    @classmethod\n",
    "    def change_number(cls,mobile):\n",
    "        pwskills2.mobile_number = mobile\n",
    "    \n",
    "    @classmethod #alternative for init function\n",
    "    def details(cls, name1 , email1):\n",
    "        return cls(name1,email1)\n",
    "        \n",
    "    def student_details(self):\n",
    "        print(self.name,self.email,pwskills2.mobile_number)"
   ]
  },
  {
   "cell_type": "code",
   "execution_count": 61,
   "id": "17b701b2-8170-40ee-88c1-c5b38156d06b",
   "metadata": {},
   "outputs": [],
   "source": [
    "del pwskills4.change_number #deletes a class method"
   ]
  },
  {
   "cell_type": "code",
   "execution_count": 62,
   "id": "94eb865f-0268-42fa-93c1-247b17f66eb9",
   "metadata": {},
   "outputs": [],
   "source": [
    "delattr(pwskills4 , 'details')"
   ]
  },
  {
   "cell_type": "code",
   "execution_count": 64,
   "id": "d84c9050-bb33-497f-89ed-3dc7d1dc864d",
   "metadata": {},
   "outputs": [
    {
     "data": {
      "text/plain": [
       "9876535233"
      ]
     },
     "execution_count": 64,
     "metadata": {},
     "output_type": "execute_result"
    }
   ],
   "source": [
    "pwskills4.mobile_number"
   ]
  },
  {
   "cell_type": "code",
   "execution_count": 65,
   "id": "cf75c4a8-2470-43a4-a143-0c43551187f8",
   "metadata": {},
   "outputs": [],
   "source": [
    "delattr(pwskills4,'mobile_number')"
   ]
  },
  {
   "cell_type": "code",
   "execution_count": 66,
   "id": "2819fab5-196b-4c75-9598-296aacc4e8b8",
   "metadata": {},
   "outputs": [
    {
     "ename": "AttributeError",
     "evalue": "type object 'pwskills4' has no attribute 'mobile_number'",
     "output_type": "error",
     "traceback": [
      "\u001b[1;31m---------------------------------------------------------------------------\u001b[0m",
      "\u001b[1;31mAttributeError\u001b[0m                            Traceback (most recent call last)",
      "\u001b[1;32m~\\AppData\\Local\\Temp\\ipykernel_6848\\4008415571.py\u001b[0m in \u001b[0;36m<module>\u001b[1;34m\u001b[0m\n\u001b[1;32m----> 1\u001b[1;33m \u001b[0mpwskills4\u001b[0m\u001b[1;33m.\u001b[0m\u001b[0mmobile_number\u001b[0m\u001b[1;33m\u001b[0m\u001b[1;33m\u001b[0m\u001b[0m\n\u001b[0m",
      "\u001b[1;31mAttributeError\u001b[0m: type object 'pwskills4' has no attribute 'mobile_number'"
     ]
    }
   ],
   "source": [
    "pwskills4.mobile_number"
   ]
  },
  {
   "cell_type": "code",
   "execution_count": 67,
   "id": "48f02f4e-9137-4521-8854-945f6fd2312c",
   "metadata": {},
   "outputs": [],
   "source": [
    "delattr(pwskills4, 'student_details')"
   ]
  },
  {
   "cell_type": "code",
   "execution_count": 68,
   "id": "058d40e1-74d5-4468-828f-dc5771dd7036",
   "metadata": {},
   "outputs": [
    {
     "ename": "AttributeError",
     "evalue": "type object 'pwskills4' has no attribute 'student_details'",
     "output_type": "error",
     "traceback": [
      "\u001b[1;31m---------------------------------------------------------------------------\u001b[0m",
      "\u001b[1;31mAttributeError\u001b[0m                            Traceback (most recent call last)",
      "\u001b[1;32m~\\AppData\\Local\\Temp\\ipykernel_6848\\1341894364.py\u001b[0m in \u001b[0;36m<module>\u001b[1;34m\u001b[0m\n\u001b[1;32m----> 1\u001b[1;33m \u001b[0mpwskills4\u001b[0m\u001b[1;33m.\u001b[0m\u001b[0mstudent_details\u001b[0m\u001b[1;33m(\u001b[0m\u001b[1;33m)\u001b[0m\u001b[1;33m\u001b[0m\u001b[1;33m\u001b[0m\u001b[0m\n\u001b[0m",
      "\u001b[1;31mAttributeError\u001b[0m: type object 'pwskills4' has no attribute 'student_details'"
     ]
    }
   ],
   "source": [
    "pwskills4.student_details()"
   ]
  }
 ],
 "metadata": {
  "kernelspec": {
   "display_name": "Python 3 (ipykernel)",
   "language": "python",
   "name": "python3"
  },
  "language_info": {
   "codemirror_mode": {
    "name": "ipython",
    "version": 3
   },
   "file_extension": ".py",
   "mimetype": "text/x-python",
   "name": "python",
   "nbconvert_exporter": "python",
   "pygments_lexer": "ipython3",
   "version": "3.9.16"
  }
 },
 "nbformat": 4,
 "nbformat_minor": 5
}
