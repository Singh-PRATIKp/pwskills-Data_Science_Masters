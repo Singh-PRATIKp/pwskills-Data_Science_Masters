{
 "cells": [
  {
   "cell_type": "code",
   "execution_count": 1,
   "id": "983d2dcb-763a-4ac5-a86b-3b8a4696d092",
   "metadata": {},
   "outputs": [],
   "source": [
    "class pwskills:\n",
    "    def student_details(self,name,email_id, number):\n",
    "        print(name,email_id, number)"
   ]
  },
  {
   "cell_type": "code",
   "execution_count": 2,
   "id": "dab316bd-a8ec-437b-a6ec-096d92087d4c",
   "metadata": {},
   "outputs": [],
   "source": [
    "pw = pwskills()"
   ]
  },
  {
   "cell_type": "code",
   "execution_count": 3,
   "id": "dbefc4c4-5442-4ce7-83cf-67e9b6899793",
   "metadata": {},
   "outputs": [
    {
     "name": "stdout",
     "output_type": "stream",
     "text": [
      "sudh sudh@gamil.com 9823879324\n"
     ]
    }
   ],
   "source": [
    "pw.student_details('sudh','sudh@gamil.com',9823879324)"
   ]
  },
  {
   "cell_type": "code",
   "execution_count": 7,
   "id": "800c19c1-ce5d-411c-9355-33c1a0d1b5a4",
   "metadata": {},
   "outputs": [],
   "source": [
    "class pwskills1:\n",
    "    \n",
    "    def student_details(self,name,email_id, number):\n",
    "        print(name,email_id, number)\n",
    "    @staticmethod\n",
    "    def mentor_class(list_mentors):\n",
    "        print(list_mentors)\n",
    "        \n",
    "    def mentor(self,mentor_list):\n",
    "        print(mentor_list)"
   ]
  },
  {
   "cell_type": "code",
   "execution_count": 8,
   "id": "d815336a-8227-4da1-85ed-907182ccb885",
   "metadata": {},
   "outputs": [],
   "source": [
    "pw1 = pwskills1()"
   ]
  },
  {
   "cell_type": "code",
   "execution_count": 10,
   "id": "879a1649-4369-4904-aa80-e841b463daba",
   "metadata": {},
   "outputs": [
    {
     "name": "stdout",
     "output_type": "stream",
     "text": [
      "['sudh', 'krish']\n"
     ]
    }
   ],
   "source": [
    "pw1.mentor(['sudh','krish'])"
   ]
  },
  {
   "cell_type": "code",
   "execution_count": 11,
   "id": "b6c6d5f6-7be6-4397-8b31-1443335730cb",
   "metadata": {},
   "outputs": [
    {
     "name": "stdout",
     "output_type": "stream",
     "text": [
      "['sudh', 'krish']\n"
     ]
    }
   ],
   "source": [
    "pw1.mentor_class(['sudh','krish'])"
   ]
  },
  {
   "cell_type": "code",
   "execution_count": 6,
   "id": "35922abe-b529-4301-8cb7-30960b0d41d7",
   "metadata": {},
   "outputs": [
    {
     "name": "stdout",
     "output_type": "stream",
     "text": [
      "['sudh', 'krish']\n"
     ]
    }
   ],
   "source": [
    "pwskills1.mentor_class(['sudh','krish'])"
   ]
  },
  {
   "cell_type": "code",
   "execution_count": 12,
   "id": "734b3fc5-9280-48f5-be65-e820ea8b09a2",
   "metadata": {},
   "outputs": [],
   "source": [
    "class pwskills1:\n",
    "    \n",
    "    def student_details(self,name,email_id, number):\n",
    "        print(name,email_id, number)\n",
    "    \n",
    "    @staticmethod\n",
    "    def metnor_mail_id(mail_id):\n",
    "        print(mail_id)\n",
    "\n",
    "    @staticmethod\n",
    "    def mentor_class(list_mentors):\n",
    "        print(list_mentors)\n",
    "        pwskills1.metnor_mail_id(['krish@gmail.com','sudh@gmail.com'])\n",
    "    \n",
    "    @classmethod\n",
    "    def class_name(cls,class_name):\n",
    "        cls.mentor_class(['krish','sudh'])\n",
    "        \n",
    "    def mentor(self,mentor_list):\n",
    "        print(mentor_list)\n",
    "        self.mentor_class(['krish','sudh'])"
   ]
  },
  {
   "cell_type": "code",
   "execution_count": 13,
   "id": "e1eff939-0eb8-48cb-82e4-1e7d6cd89b77",
   "metadata": {},
   "outputs": [],
   "source": [
    "pw1 = pwskills1()"
   ]
  },
  {
   "cell_type": "code",
   "execution_count": 14,
   "id": "7c1ce2db-b320-46cc-a7ce-77aa8997961f",
   "metadata": {},
   "outputs": [
    {
     "name": "stdout",
     "output_type": "stream",
     "text": [
      "mohan moha@gmail.com 97328743\n"
     ]
    }
   ],
   "source": [
    "pw1.student_details('mohan','moha@gmail.com',97328743)"
   ]
  },
  {
   "cell_type": "code",
   "execution_count": 16,
   "id": "b78aacf3-67ce-4291-a813-8569abf0a693",
   "metadata": {},
   "outputs": [
    {
     "name": "stdout",
     "output_type": "stream",
     "text": [
      "['krish@gmail.com', 'sudh@gmail.com']\n"
     ]
    }
   ],
   "source": [
    "pw1.metnor_mail_id(['krish@gmail.com','sudh@gmail.com'])"
   ]
  },
  {
   "cell_type": "code",
   "execution_count": 17,
   "id": "0b208460-8313-4fc3-a7a1-dda06c952a31",
   "metadata": {},
   "outputs": [
    {
     "name": "stdout",
     "output_type": "stream",
     "text": [
      "['krish', 'sudh']\n",
      "['krish@gmail.com', 'sudh@gmail.com']\n"
     ]
    }
   ],
   "source": [
    "pw1.class_name('DSM')"
   ]
  },
  {
   "cell_type": "code",
   "execution_count": 18,
   "id": "cfe1301d-d554-461d-8909-dea7689e6ae4",
   "metadata": {},
   "outputs": [
    {
     "name": "stdout",
     "output_type": "stream",
     "text": [
      "['krish@gmail.com', 'sudh@gmail.com']\n"
     ]
    }
   ],
   "source": [
    "pwskills1.metnor_mail_id(['krish@gmail.com','sudh@gmail.com'])"
   ]
  },
  {
   "cell_type": "markdown",
   "id": "d2eb6f41-2e3a-4711-8e95-bcdff1f18ddc",
   "metadata": {},
   "source": [
    "- **`1. Class method overloads the init method`**\n",
    "- **`2. Static method reduces memory consumption by not replicating the instance methods for every object which is created`**"
   ]
  }
 ],
 "metadata": {
  "kernelspec": {
   "display_name": "Python 3 (ipykernel)",
   "language": "python",
   "name": "python3"
  },
  "language_info": {
   "codemirror_mode": {
    "name": "ipython",
    "version": 3
   },
   "file_extension": ".py",
   "mimetype": "text/x-python",
   "name": "python",
   "nbconvert_exporter": "python",
   "pygments_lexer": "ipython3",
   "version": "3.9.16"
  }
 },
 "nbformat": 4,
 "nbformat_minor": 5
}
